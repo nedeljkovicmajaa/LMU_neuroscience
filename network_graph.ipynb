{
 "cells": [
  {
   "cell_type": "markdown",
   "metadata": {},
   "source": [
    "##### Importing required packages and libraries "
   ]
  },
  {
   "cell_type": "code",
   "execution_count": 3,
   "metadata": {},
   "outputs": [],
   "source": [
    "import scipy.io as sio\n",
    "from scipy.sparse import csr_matrix \n",
    "import numpy as np\n",
    "import matplotlib.pyplot as plt\n",
    "import seaborn as sns\n",
    "import pandas as pd\n",
    "import math"
   ]
  },
  {
   "cell_type": "code",
   "execution_count": 4,
   "metadata": {},
   "outputs": [],
   "source": [
    "import itertools\n",
    "import warnings\n",
    "from cmath import nan"
   ]
  },
  {
   "cell_type": "code",
   "execution_count": 5,
   "metadata": {},
   "outputs": [],
   "source": [
    "#plotly\n",
    "import plotly\n",
    "import plotly.graph_objects as go"
   ]
  },
  {
   "cell_type": "code",
   "execution_count": 6,
   "metadata": {},
   "outputs": [],
   "source": [
    "#networkx\n",
    "import networkx as nx\n",
    "from networkx.algorithms import community\n",
    "import holoviews as hv\n",
    "from holoviews import opts"
   ]
  },
  {
   "cell_type": "code",
   "execution_count": 7,
   "metadata": {},
   "outputs": [],
   "source": [
    "#bokeh for plotting\n",
    "import bokeh.plotting\n",
    "import bokeh.plotting as bk_plotting\n",
    "from bokeh.plotting import from_networkx, figure\n",
    "from bokeh.models import EdgesAndLinkedNodes, NodesAndLinkedEdges, ColorBar\n",
    "from bokeh.io import output_notebook, save, show, reset_output\n",
    "from bokeh.models import Range1d, Circle, ColumnDataSource, MultiLine, EdgesAndLinkedNodes, NodesAndLinkedEdges\n",
    "import bokeh.models as bk_models\n",
    "from bokeh.palettes import Blues8, Reds8, Purples8, Oranges8, Viridis8, Spectral8, Greys8, Spectral11, Category20_15, Category20_20, Turbo256, Pastel1\n",
    "from bokeh.transform import linear_cmap\n",
    "from bokeh.io import output_file, show\n",
    "from bokeh.models import (BoxSelectTool, Circle, EdgesAndLinkedNodes, HoverTool,\n",
    "                          MultiLine, NodesAndLinkedEdges, Plot, Range1d, TapTool, PanTool,  WheelZoomTool, ResetTool, SaveTool, BoxZoomTool)\n",
    "from bokeh.palettes import Spectral4\n",
    "from bokeh.plotting import from_networkx\n",
    "from bokeh.io import export_svg"
   ]
  },
  {
   "cell_type": "markdown",
   "metadata": {},
   "source": [
    "##### Loading .mat files - respPeak = peak of ind, allROIPositions"
   ]
  },
  {
   "cell_type": "code",
   "execution_count": 8,
   "metadata": {},
   "outputs": [
    {
     "data": {
      "text/plain": [
       "\"\\nmat_load = sio.loadmat('C:/Users/Zephyrus/Desktop/respPeak.mat')['x']\\nroi_load = sio.loadmat('C:/Users/Zephyrus/Desktop/allROIPositions.mat')['allROIPositions']\\nlist1 = sio.loadmat('C:/Users/Zephyrus/Desktop/indicesSession1.mat')['indSess1']\\nlist2 = sio.loadmat('C:/Users/Zephyrus/Desktop/List2.mat')['List2']\\nlist3 = sio.loadmat('C:/Users/Zephyrus/Desktop/List3.mat')['List3']\\nlist4 = sio.loadmat('C:/Users/Zephyrus/Desktop/List4.mat')['List4']\\nlista = [[k[0] for k in list1], [k[0] for k in list2], [k[0] for k in list3], [k[0] for k in list4]]\\nind_load = sio.loadmat('C:/Users/Zephyrus/Desktop/blFinalHit.mat')['blFinalHit']\\nindices_load = sio.loadmat('C:/Users/Zephyrus/Desktop/indicesSession1.mat')['indSess1']\\n\""
      ]
     },
     "execution_count": 8,
     "metadata": {},
     "output_type": "execute_result"
    }
   ],
   "source": [
    "\n",
    "mat_load = sio.loadmat('C:/Users/m.nedeljkovic/Desktop/data/respPeak.mat')['x']\n",
    "roi_load = sio.loadmat('C:/Users/m.nedeljkovic/Desktop/data/allROIPositions.mat')['allROIPositions']\n",
    "list1 = sio.loadmat('C:/Users/m.nedeljkovic/Desktop/data/indicesSession1.mat')['indSess1']\n",
    "list2 = sio.loadmat('C:/Users/m.nedeljkovic/Desktop/data/List2.mat')['List2']\n",
    "list3 = sio.loadmat('C:/Users/m.nedeljkovic/Desktop/data/List3.mat')['List3']\n",
    "list4 = sio.loadmat('C:/Users/m.nedeljkovic/Desktop/data/List4.mat')['List4']\n",
    "lista = [[k[0] for k in list1], [k[0] for k in list2], [k[0] for k in list3], [k[0] for k in list4]]\n",
    "ind_load = sio.loadmat('C:/Users/m.nedeljkovic/Desktop/data/blFinalHit.mat')['blFinalHit']\n",
    "indices_load = sio.loadmat('C:/Users/m.nedeljkovic/Desktop/data/indicesSession1.mat')['indSess1']\n",
    "'''\n",
    "mat_load = sio.loadmat('C:/Users/Zephyrus/Desktop/respPeak.mat')['x']\n",
    "roi_load = sio.loadmat('C:/Users/Zephyrus/Desktop/allROIPositions.mat')['allROIPositions']\n",
    "list1 = sio.loadmat('C:/Users/Zephyrus/Desktop/indicesSession1.mat')['indSess1']\n",
    "list2 = sio.loadmat('C:/Users/Zephyrus/Desktop/List2.mat')['List2']\n",
    "list3 = sio.loadmat('C:/Users/Zephyrus/Desktop/List3.mat')['List3']\n",
    "list4 = sio.loadmat('C:/Users/Zephyrus/Desktop/List4.mat')['List4']\n",
    "lista = [[k[0] for k in list1], [k[0] for k in list2], [k[0] for k in list3], [k[0] for k in list4]]\n",
    "ind_load = sio.loadmat('C:/Users/Zephyrus/Desktop/blFinalHit.mat')['blFinalHit']\n",
    "indices_load = sio.loadmat('C:/Users/Zephyrus/Desktop/indicesSession1.mat')['indSess1']\n",
    "'''"
   ]
  },
  {
   "cell_type": "code",
   "execution_count": 9,
   "metadata": {},
   "outputs": [
    {
     "data": {
      "text/plain": [
       "\"\\ntune1 = sio.loadmat('C:/Users/Zephyrus/Desktop/tuneCat1.mat')['tuneCat1']\\ntune2 = sio.loadmat('C:/Users/Zephyrus/Desktop/tuneCat2.mat')['tuneCat2']\\ntune3 = sio.loadmat('C:/Users/Zephyrus/Desktop/tuneCat3.mat')['tuneCat3']\\ntune4 = sio.loadmat('C:/Users/Zephyrus/Desktop/tuneCat4.mat')['tuneCat4']\\ntune = [tune1, tune2, tune3, tune4]\\n\""
      ]
     },
     "execution_count": 9,
     "metadata": {},
     "output_type": "execute_result"
    }
   ],
   "source": [
    "\n",
    "tune1 = sio.loadmat('C:/Users/m.nedeljkovic/Desktop/data/tuneCat1.mat')['tuneCat1']\n",
    "tune2 = sio.loadmat('C:/Users/m.nedeljkovic/Desktop/data/tuneCat2.mat')['tuneCat2']\n",
    "tune3 = sio.loadmat('C:/Users/m.nedeljkovic/Desktop/data/tuneCat3.mat')['tuneCat3']\n",
    "tune4 = sio.loadmat('C:/Users/m.nedeljkovic/Desktop/data/tuneCat4.mat')['tuneCat4']\n",
    "tune = [tune1, tune2, tune3, tune4]\n",
    "'''\n",
    "tune1 = sio.loadmat('C:/Users/Zephyrus/Desktop/tuneCat1.mat')['tuneCat1']\n",
    "tune2 = sio.loadmat('C:/Users/Zephyrus/Desktop/tuneCat2.mat')['tuneCat2']\n",
    "tune3 = sio.loadmat('C:/Users/Zephyrus/Desktop/tuneCat3.mat')['tuneCat3']\n",
    "tune4 = sio.loadmat('C:/Users/Zephyrus/Desktop/tuneCat4.mat')['tuneCat4']\n",
    "tune = [tune1, tune2, tune3, tune4]\n",
    "'''"
   ]
  },
  {
   "cell_type": "markdown",
   "metadata": {},
   "source": [
    "##### General functions"
   ]
  },
  {
   "cell_type": "code",
   "execution_count": 10,
   "metadata": {},
   "outputs": [],
   "source": [
    "#Dividing data into trials, anst state and awake state\n",
    "\n",
    "def divide_data(index, trial, mat_load, ind_load):\n",
    "\n",
    "    index[trial] = index[trial] + index[trial-1]\n",
    "    dat_tr = mat_load[index[trial-1] : index[trial]+1, :, :, 0, :, :]\n",
    "    ind_tr = ind_load[index[trial-1] : index[trial]+1, :, :, 0, :, :]\n",
    "\n",
    "    #choose state\n",
    "    dat_stan = dat_tr[:, 0, :, :, :]\n",
    "    dat_staw = dat_tr[:, 1, :, :, :]\n",
    "    ind_stan = ind_tr[:, 0, :, :, :]\n",
    "    ind_staw = ind_tr[:, 1, :, :, :]\n",
    "    \n",
    "    return index, dat_tr, dat_stan, dat_staw, ind_stan, ind_staw"
   ]
  },
  {
   "cell_type": "code",
   "execution_count": 11,
   "metadata": {},
   "outputs": [],
   "source": [
    "#make dict to convert to dataframe and computing correlation\n",
    "\n",
    "def make_dict(index, trial, lista, dat_sean, dat_seaw, ind_sean, ind_seaw):\n",
    "\n",
    "    dat_df_an = []\n",
    "    dat_df_aw = []\n",
    "    ind_df_an = []\n",
    "    ind_df_aw = []\n",
    "    for matrix in range(0,np.shape(dat_sean)[0]-1):\n",
    "        if(index[trial-1]+matrix in lista):\n",
    "            dat_df_an.append(dat_sean[matrix].flatten())\n",
    "            dat_df_aw.append(dat_seaw[matrix].flatten())\n",
    "            ind_df_an.append(ind_sean[matrix].flatten())\n",
    "            ind_df_aw.append(ind_seaw[matrix].flatten())\n",
    "    dat_df_an = pd.DataFrame(dat_df_an)*pd.DataFrame(ind_df_an)\n",
    "    dat_df_aw = pd.DataFrame(dat_df_aw)*pd.DataFrame(ind_df_aw)\n",
    "    dat_df_an = dat_df_an.T.corr()\n",
    "    dat_df_aw = dat_df_aw.T.corr()\n",
    "    return dat_df_an, dat_df_aw\n",
    "\n",
    "def make_dict_one_speaker(index, trial, lista, dat_sean, dat_seaw, num, ind_sean, ind_seaw):\n",
    "    \n",
    "    dat_df_an = []\n",
    "    dat_df_aw = []\n",
    "    ind_df_an = []\n",
    "    ind_df_aw = []\n",
    "    for matrix in range(0,np.shape(dat_sean)[0]-1):\n",
    "        if(index[trial-1]+matrix in lista):\n",
    "            dat_df_an.append(dat_sean[matrix][num])\n",
    "            dat_df_aw.append(dat_seaw[matrix][num])\n",
    "            ind_df_an.append(ind_sean[matrix][num])\n",
    "            ind_df_aw.append(ind_seaw[matrix][num])\n",
    "    dat_df_an = pd.DataFrame(dat_df_an)*pd.DataFrame(ind_df_an)\n",
    "    dat_df_aw = pd.DataFrame(dat_df_aw)*pd.DataFrame(ind_df_aw)\n",
    "\n",
    "    dat_df_an = pd.DataFrame(dat_df_an).T.corr()\n",
    "    dat_df_aw = pd.DataFrame(dat_df_aw).T.corr()\n",
    "    return dat_df_an, dat_df_aw"
   ]
  },
  {
   "cell_type": "code",
   "execution_count": 12,
   "metadata": {},
   "outputs": [],
   "source": [
    "#exclude the rows/columns which index is not in the other dataframe\n",
    "def exclude_nan(dat_df_an, dat_df_aw):\n",
    "\n",
    "    df_corr_an = dat_df_an.dropna(how='all', axis=1).dropna(how='all', axis=0)\n",
    "    df_corr_aw = dat_df_aw.dropna(how='all', axis=1).dropna(how='all', axis=0)\n",
    "\n",
    "    mask = df_corr_aw.index.isin(df_corr_an.index)\n",
    "    df_corr_aw = df_corr_aw.loc[mask]\n",
    "    mask = df_corr_an.index.isin(df_corr_aw.index)\n",
    "    df_corr_an = df_corr_an.loc[mask]\n",
    "    mask = []\n",
    "    for x in df_corr_an.columns:\n",
    "        if x not in df_corr_aw.columns:\n",
    "            mask.append(x)\n",
    "    df_corr_an = df_corr_an.drop(columns=mask)\n",
    "    mask = []\n",
    "    for x in df_corr_aw.columns:\n",
    "        if x not in df_corr_an.columns:\n",
    "            mask.append(x)\n",
    "    df_corr_aw = df_corr_aw.drop(columns=mask)\n",
    "\n",
    "    return df_corr_an, df_corr_aw"
   ]
  },
  {
   "cell_type": "markdown",
   "metadata": {},
   "source": [
    "#### Plotting network graph"
   ]
  },
  {
   "cell_type": "markdown",
   "metadata": {},
   "source": [
    "##### Threshold"
   ]
  },
  {
   "cell_type": "code",
   "execution_count": 13,
   "metadata": {},
   "outputs": [],
   "source": [
    "threshold = 0.6"
   ]
  },
  {
   "cell_type": "markdown",
   "metadata": {},
   "source": [
    "##### Form_links"
   ]
  },
  {
   "cell_type": "code",
   "execution_count": 14,
   "metadata": {},
   "outputs": [],
   "source": [
    "def form_links_diff(df_corr, df_pos):\n",
    "\n",
    "    x_coor = df_pos[0]\n",
    "    y_coor = df_pos[1]\n",
    "    links = df_corr.stack()\n",
    "    links = links.reset_index()\n",
    "    links.columns = [\"var1\", \"var2\", \"value\"]\n",
    "    links.loc[:, \"x0\"] = [0 for i in range(len(links))]\n",
    "    links.loc[:, \"y0\"] = [0 for i in range(len(links))]\n",
    "    links.loc[:, \"x1\"] = [0 for i in range(len(links))]\n",
    "    links.loc[:, \"y1\"] = [0 for i in range(len(links))]\n",
    "\n",
    "    for i in range(len(links['x1'])):\n",
    "        links['x0'][i] = x_coor[int(links['var1'][i])]\n",
    "        links['x1'][i] = x_coor[int(links['var2'][i])]\n",
    "        links['y0'][i] = y_coor[int(links['var1'][i])]\n",
    "        links['y1'][i] = y_coor[int(links['var2'][i])]\n",
    "    \n",
    "    return links"
   ]
  },
  {
   "cell_type": "code",
   "execution_count": 15,
   "metadata": {},
   "outputs": [],
   "source": [
    "def form_links(df_corr, df_pos, df_tuned):\n",
    "\n",
    "    x_coor = df_pos[0]\n",
    "    y_coor = df_pos[1]\n",
    "    links = df_corr.stack()\n",
    "    links = links.reset_index()\n",
    "    \n",
    "    links.columns = [\"var1\", \"var2\", \"value\"]\n",
    "    tunes = []\n",
    "    j = links['var1'][0]\n",
    "    br = 0\n",
    "    for i in links['var1']:\n",
    "        if(i!=j):\n",
    "            br+=1\n",
    "        tunes.append(df_tuned[br])\n",
    "        j = i\n",
    "    links['tunes'] = tunes\n",
    "    links.columns = [\"var1\", \"var2\", \"value\", \"tunes\"]\n",
    "\n",
    "    links.loc[:, \"x0\"] = [0 for i in range(len(links))]\n",
    "    links.loc[:, \"y0\"] = [0 for i in range(len(links))]\n",
    "    links.loc[:, \"x1\"] = [0 for i in range(len(links))]\n",
    "    links.loc[:, \"y1\"] = [0 for i in range(len(links))]\n",
    "\n",
    "    for i in range(len(links['x1'])):\n",
    "        links['x0'][i] = x_coor[int(links['var1'][i])]\n",
    "        links['x1'][i] = x_coor[int(links['var2'][i])]\n",
    "        links['y0'][i] = y_coor[int(links['var1'][i])]\n",
    "        links['y1'][i] = y_coor[int(links['var2'][i])]\n",
    "    \n",
    "    return links"
   ]
  },
  {
   "cell_type": "markdown",
   "metadata": {},
   "source": [
    "##### Initial_graph"
   ]
  },
  {
   "cell_type": "code",
   "execution_count": 16,
   "metadata": {},
   "outputs": [],
   "source": [
    "def initial_graph(links):\n",
    "    \n",
    "    G=nx.from_pandas_edgelist(links, source=\"var1\", target=\"var2\", edge_attr=True)\n",
    "\n",
    "    edge_x = []\n",
    "    edge_y = []\n",
    "    for edge in G.edges():\n",
    "        x0, y0 = G.edges[edge]['x0'], G.edges[edge]['y0']\n",
    "        x1, y1 = G.edges[edge]['x1'], G.edges[edge]['y1']\n",
    "        edge_x.append(x0)\n",
    "        edge_x.append(x1)\n",
    "        edge_x.append(None)\n",
    "        edge_y.append(y0)\n",
    "        edge_y.append(y1)\n",
    "        edge_y.append(None)\n",
    "\n",
    "    edge_trace = go.Scatter(\n",
    "        x=edge_x, y=edge_y,\n",
    "        line=dict(width=0.5, color='#888'),\n",
    "        hoverinfo='none',\n",
    "        mode='lines')\n",
    "\n",
    "    return G, edge_x, edge_y, edge_trace"
   ]
  },
  {
   "cell_type": "markdown",
   "metadata": {},
   "source": [
    "##### Data_management"
   ]
  },
  {
   "cell_type": "code",
   "execution_count": 32,
   "metadata": {},
   "outputs": [],
   "source": [
    "def data_management(links, G):\n",
    "    \n",
    "    mask = ~links['var1'].duplicated()\n",
    "    # Get a list of nodes with attributes\n",
    "    nodes = links[mask][[\"var1\", \"x0\",\"var2\",\"x1\"]]\n",
    "    attr_dict_x = nodes.set_index('var1')['x0'].to_dict()\n",
    "    nx.set_node_attributes(G, attr_dict_x, 'x0')\n",
    "\n",
    "    mask = ~links['var1'].duplicated()\n",
    "    # Get a list of nodes with attributes\n",
    "    nodes = links[mask][[\"var1\", \"y0\",\"var2\",\"y1\"]]\n",
    "    attr_dict_y = nodes.set_index('var1')['y0'].to_dict()\n",
    "    nx.set_node_attributes(G, attr_dict_y, 'y0')\n",
    "\n",
    "    mask = ~links['var1'].duplicated()\n",
    "    # Get a list of nodes with attributes\n",
    "    nodes = links[mask][[\"var1\", \"tunes\"]]\n",
    "    attr_dict_t = nodes.set_index('var1')['tunes'].to_dict()\n",
    "    nx.set_node_attributes(G, attr_dict_t, 'tunes')\n",
    "\n",
    "    edge_attrs = {}\n",
    "    \n",
    "    for start_node, end_node, info in G.edges(data=True):\n",
    "        edge_attrs[(start_node, end_node)] = info['value']\n",
    "        \n",
    "            \n",
    "    nx.set_edge_attributes(G, edge_attrs, \"edge_value\")\n",
    "    \n",
    "    tunes = 'tunes'\n",
    "\n",
    "    HOVER_TOOLTIPS = [\n",
    "        (\"index\", \"$index\"),\n",
    "        (\"x\", \"@x0\"),\n",
    "        (\"y\", \"@y0\"),\n",
    "        (\"value\", \"@edge_value\"),\n",
    "        (\"tunes\", \"@tunes\")\n",
    "    ]\n",
    "\n",
    "    return G, HOVER_TOOLTIPS, tunes, attr_dict_x, attr_dict_y"
   ]
  },
  {
   "cell_type": "code",
   "execution_count": 33,
   "metadata": {},
   "outputs": [],
   "source": [
    "def data_management_diff(links, G):\n",
    "    \n",
    "    mask = ~links['var1'].duplicated()\n",
    "    # Get a list of nodes with attributes\n",
    "    nodes = links[mask][[\"var1\", \"x0\",\"var2\",\"x1\"]]\n",
    "    attr_dict_x = nodes.set_index('var1')['x0'].to_dict()\n",
    "    nx.set_node_attributes(G, attr_dict_x, 'x0')\n",
    "\n",
    "    mask = ~links['var1'].duplicated()\n",
    "    # Get a list of nodes with attributes\n",
    "    nodes = links[mask][[\"var1\", \"y0\",\"var2\",\"y1\"]]\n",
    "    attr_dict_y = nodes.set_index('var1')['y0'].to_dict()\n",
    "    nx.set_node_attributes(G, attr_dict_y, 'y0')\n",
    "\n",
    "    edge_attrs = {}\n",
    "    \n",
    "    for start_node, end_node, info in G.edges(data=True):\n",
    "        edge_attrs[(start_node, end_node)] = info['value']\n",
    "        \n",
    "            \n",
    "    nx.set_edge_attributes(G, edge_attrs, \"edge_value\")\n",
    "\n",
    "    HOVER_TOOLTIPS = [\n",
    "        (\"index\", \"$index\"),\n",
    "        (\"x\", \"@x0\"),\n",
    "        (\"y\", \"@y0\"),\n",
    "        (\"value\", \"@edge_value\"),\n",
    "    ]\n",
    "\n",
    "    return G, HOVER_TOOLTIPS, attr_dict_x, attr_dict_y"
   ]
  },
  {
   "cell_type": "markdown",
   "metadata": {},
   "source": [
    "##### Node_size"
   ]
  },
  {
   "cell_type": "code",
   "execution_count": 34,
   "metadata": {},
   "outputs": [],
   "source": [
    "def node_size(G):\n",
    "    \n",
    "    adjusted_node_size = dict([(node, 10) for node, degree in nx.degree(G)])\n",
    "    nx.set_node_attributes(G, name='adjusted_node_size', values=adjusted_node_size)\n",
    "    size_by_this_attribute = 'adjusted_node_size'\n",
    "    \n",
    "    return G, size_by_this_attribute\n",
    "    "
   ]
  },
  {
   "cell_type": "markdown",
   "metadata": {},
   "source": [
    "##### Remove_edges"
   ]
  },
  {
   "cell_type": "code",
   "execution_count": 35,
   "metadata": {},
   "outputs": [],
   "source": [
    "def remove_edges(G, threshold):\n",
    "    \n",
    "    G.remove_edges_from([(x, y) for x, y, t in G.edges.data(data=True) if t['value'] < threshold and t['value'] > -threshold])\n",
    "    \n",
    "    return G"
   ]
  },
  {
   "cell_type": "markdown",
   "metadata": {},
   "source": [
    "##### Plot_graph"
   ]
  },
  {
   "cell_type": "code",
   "execution_count": 56,
   "metadata": {},
   "outputs": [],
   "source": [
    "from matplotlib.pyplot import tick_params, title\n",
    "\n",
    "\n",
    "def plot_graph(attr_dict_x, attr_dict_y, G, edge_trace, size_by_this_attribute, tunes, HOVER_TOOLTIPS):\n",
    "\n",
    "    plot = Plot(width=1000, height=720, title = \"Stimulus from the -30° speaker (Awake state)\",\n",
    "            x_range=Range1d(min(attr_dict_x)*4-40, max(attr_dict_x)*4+40), y_range=Range1d(min(attr_dict_y)*4-40, max(attr_dict_y)*4+40),output_backend=\"svg\")\n",
    "    plot.add_tools(HoverTool(tooltips=HOVER_TOOLTIPS), TapTool(), BoxSelectTool(), WheelZoomTool(), ResetTool(), PanTool(), SaveTool(), BoxZoomTool())\n",
    "    pos = {}\n",
    "    for i in nx.spring_layout(G, iterations=40).keys():\n",
    "        pos[i] = np.array([attr_dict_x[i], attr_dict_y[i]])\n",
    "    network_graph = from_networkx(G, pos, scale = 1, center = (0, 0))\n",
    "\n",
    "    #Set node sizes and colors according to node degree (color as category from attribute)\n",
    "    #network_graph.node_renderer.glyph = Circle(size=size_by_this_attribute)\n",
    "\n",
    "    #Set edge opacity and width\n",
    "    #network_graph.edge_renderer.glyph = MultiLine(line_color=\"edge_color\", line_alpha=0.5, line_width=1)\n",
    "    minimum_value_color = 1\n",
    "    maximum_value_color = 6\n",
    "    mapper1 = linear_cmap(field_name='tunes', palette =  ('#000000','#ff0000','#FFA500','#FFFF00','#00FF00','#0000FF'), low=minimum_value_color, high=maximum_value_color)\n",
    "    \n",
    "    network_graph.node_renderer.glyph = Circle(size=15, fill_color=mapper1)\n",
    "    network_graph.node_renderer.selection_glyph = Circle(size=15, fill_color=mapper1)\n",
    "    network_graph.node_renderer.hover_glyph = Circle(size=15, fill_color=mapper1)\n",
    "\n",
    "    min_val = -1\n",
    "    max_val = 1\n",
    "    \n",
    "    mapper = linear_cmap(field_name='value', palette= ('#c6dbef','#c6dbef','#c6dbef') ,low=min_val ,high=max_val)\n",
    "\n",
    "    network_graph.edge_renderer.glyph = MultiLine(line_color=mapper, line_alpha=0.5, line_width=5)\n",
    "    network_graph.edge_renderer.selection_glyph = MultiLine(line_color=Spectral4[0], line_width=5)\n",
    "    network_graph.edge_renderer.hover_glyph = MultiLine(line_color=Spectral4[0], line_width=5)\n",
    "\n",
    "\n",
    "    network_graph.selection_policy = NodesAndLinkedEdges()\n",
    "    network_graph.inspection_policy = EdgesAndLinkedNodes()\n",
    "\n",
    "    plot.renderers.append(network_graph)\n",
    "\n",
    "    color_bar = ColorBar(color_mapper=mapper['transform'], width=8)\n",
    "    color_bar1 = ColorBar(color_mapper=mapper1['transform'], width=8)\n",
    "    plot.add_layout(color_bar1, 'left')\n",
    "    plot.add_layout(color_bar, 'right')\n",
    "    \n",
    "    show(plot)\n",
    "    "
   ]
  },
  {
   "cell_type": "code",
   "execution_count": 57,
   "metadata": {},
   "outputs": [],
   "source": [
    "def plot_graph_diff(attr_dict_x, attr_dict_y, G, edge_trace, size_by_this_attribute, HOVER_TOOLTIPS):\n",
    "\n",
    "    plot = Plot(width=1000, height=720, title = \"Region1, diff speak2-speak3, anes\",\n",
    "            x_range=Range1d(min(attr_dict_x)*4-40, max(attr_dict_x)*4+40), y_range=Range1d(min(attr_dict_y)*4-40, max(attr_dict_y)*4+40),output_backend=\"svg\")\n",
    "    plot.add_tools(HoverTool(tooltips=HOVER_TOOLTIPS), TapTool(), BoxSelectTool(), WheelZoomTool(), ResetTool(), PanTool(), SaveTool(), BoxZoomTool())\n",
    "    pos = {}\n",
    "    for i in nx.spring_layout(G, iterations=40).keys():\n",
    "        pos[i] = np.array([attr_dict_x[i], attr_dict_y[i]])\n",
    "    network_graph = from_networkx(G, pos, scale = 1, center = (0, 0))\n",
    "\n",
    "    #Set node sizes and colors according to node degree (color as category from attribute)\n",
    "    #network_graph.node_renderer.glyph = Circle(size=size_by_this_attribute)\n",
    "\n",
    "    #Set edge opacity and width\n",
    "    \n",
    "    network_graph.node_renderer.glyph = Circle(size=15)\n",
    "    network_graph.node_renderer.selection_glyph = Circle(size=15)\n",
    "    network_graph.node_renderer.hover_glyph = Circle(size=15)\n",
    "\n",
    "    min_val = -2\n",
    "    max_val = 2\n",
    "   \n",
    "    mapper = linear_cmap(field_name='value', palette=('#000000','#ff0000','#FFA500','#FFFF00','#00FF00','#0000FF') ,low=min_val ,high=max_val)\n",
    "\n",
    "    network_graph.edge_renderer.glyph = MultiLine(line_color=mapper, line_alpha=0.5, line_width=5)\n",
    "    network_graph.edge_renderer.selection_glyph = MultiLine(line_color=Spectral4[0], line_width=5)\n",
    "    network_graph.edge_renderer.hover_glyph = MultiLine(line_color=Spectral4[0], line_width=5)\n",
    "\n",
    "\n",
    "    network_graph.selection_policy = NodesAndLinkedEdges()\n",
    "    network_graph.inspection_policy = EdgesAndLinkedNodes()\n",
    "\n",
    "    plot.renderers.append(network_graph)\n",
    "\n",
    "    color_bar = ColorBar(color_mapper=mapper['transform'], width=8)\n",
    "    plot.add_layout(color_bar, 'right')\n",
    "    \n",
    "    show(plot)\n"
   ]
  },
  {
   "cell_type": "markdown",
   "metadata": {},
   "source": [
    "##### Plot_network_graph"
   ]
  },
  {
   "cell_type": "code",
   "execution_count": 52,
   "metadata": {},
   "outputs": [],
   "source": [
    "def plot_network_graph(links):\n",
    "    \n",
    "    G, edge_x, edge_y, edge_trace = initial_graph(links)\n",
    "    G, HOVER_TOOLTIPS, color_by_this_attribute, attr_dict_x, attr_dict_y = data_management(links, G)\n",
    "    G, size_by_this_attribute = node_size(G)\n",
    "    G = remove_edges(G, threshold)\n",
    "    output_notebook()\n",
    "    plot_graph(attr_dict_x, attr_dict_y, G, edge_trace, size_by_this_attribute, color_by_this_attribute, HOVER_TOOLTIPS)\n",
    "    "
   ]
  },
  {
   "cell_type": "code",
   "execution_count": 53,
   "metadata": {},
   "outputs": [],
   "source": [
    "def plot_network_graph_diff(links):\n",
    "    \n",
    "    G, edge_x, edge_y, edge_trace = initial_graph(links)\n",
    "    G, HOVER_TOOLTIPS, attr_dict_x, attr_dict_y = data_management_diff(links, G)\n",
    "    G, size_by_this_attribute = node_size(G)\n",
    "    G = remove_edges(G, threshold)\n",
    "    output_notebook()\n",
    "    plot_graph_diff(attr_dict_x, attr_dict_y, G, edge_trace, size_by_this_attribute, HOVER_TOOLTIPS)"
   ]
  },
  {
   "cell_type": "code",
   "execution_count": 54,
   "metadata": {},
   "outputs": [
    {
     "data": {
      "text/plain": [
       "\"\\nDifferent ways to plot the network graph\\n\\nplt.figure(figsize=(15,15))\\nfor i in range(0, len(y_coor), 1):\\n    plt.plot(x_coor[i:i+2], y_coor[i:i+2], 'ro-')\\nplt.plot(df_an_pos[0], df_an_pos[1], 'o')\\n\""
      ]
     },
     "execution_count": 54,
     "metadata": {},
     "output_type": "execute_result"
    }
   ],
   "source": [
    "\"\"\"\n",
    "Different ways to plot the network graph\n",
    "\n",
    "plt.figure(figsize=(15,15))\n",
    "for i in range(0, len(y_coor), 1):\n",
    "    plt.plot(x_coor[i:i+2], y_coor[i:i+2], 'ro-')\n",
    "plt.plot(df_an_pos[0], df_an_pos[1], 'o')\n",
    "\"\"\""
   ]
  },
  {
   "cell_type": "markdown",
   "metadata": {},
   "source": [
    "### Graph representation"
   ]
  },
  {
   "cell_type": "markdown",
   "metadata": {},
   "source": [
    "##### Graph of one state "
   ]
  },
  {
   "cell_type": "code",
   "execution_count": 55,
   "metadata": {},
   "outputs": [
    {
     "data": {
      "text/html": [
       "<div class=\"bk-root\">\n",
       "        <a href=\"https://bokeh.org\" target=\"_blank\" class=\"bk-logo bk-logo-small bk-logo-notebook\"></a>\n",
       "        <span id=\"8130\">Loading BokehJS ...</span>\n",
       "    </div>\n"
      ]
     },
     "metadata": {},
     "output_type": "display_data"
    },
    {
     "data": {
      "application/javascript": "(function(root) {\n  function now() {\n    return new Date();\n  }\n\n  const force = true;\n\n  if (typeof root._bokeh_onload_callbacks === \"undefined\" || force === true) {\n    root._bokeh_onload_callbacks = [];\n    root._bokeh_is_loading = undefined;\n  }\n\nconst JS_MIME_TYPE = 'application/javascript';\n  const HTML_MIME_TYPE = 'text/html';\n  const EXEC_MIME_TYPE = 'application/vnd.bokehjs_exec.v0+json';\n  const CLASS_NAME = 'output_bokeh rendered_html';\n\n  /**\n   * Render data to the DOM node\n   */\n  function render(props, node) {\n    const script = document.createElement(\"script\");\n    node.appendChild(script);\n  }\n\n  /**\n   * Handle when an output is cleared or removed\n   */\n  function handleClearOutput(event, handle) {\n    const cell = handle.cell;\n\n    const id = cell.output_area._bokeh_element_id;\n    const server_id = cell.output_area._bokeh_server_id;\n    // Clean up Bokeh references\n    if (id != null && id in Bokeh.index) {\n      Bokeh.index[id].model.document.clear();\n      delete Bokeh.index[id];\n    }\n\n    if (server_id !== undefined) {\n      // Clean up Bokeh references\n      const cmd_clean = \"from bokeh.io.state import curstate; print(curstate().uuid_to_server['\" + server_id + \"'].get_sessions()[0].document.roots[0]._id)\";\n      cell.notebook.kernel.execute(cmd_clean, {\n        iopub: {\n          output: function(msg) {\n            const id = msg.content.text.trim();\n            if (id in Bokeh.index) {\n              Bokeh.index[id].model.document.clear();\n              delete Bokeh.index[id];\n            }\n          }\n        }\n      });\n      // Destroy server and session\n      const cmd_destroy = \"import bokeh.io.notebook as ion; ion.destroy_server('\" + server_id + \"')\";\n      cell.notebook.kernel.execute(cmd_destroy);\n    }\n  }\n\n  /**\n   * Handle when a new output is added\n   */\n  function handleAddOutput(event, handle) {\n    const output_area = handle.output_area;\n    const output = handle.output;\n\n    // limit handleAddOutput to display_data with EXEC_MIME_TYPE content only\n    if ((output.output_type != \"display_data\") || (!Object.prototype.hasOwnProperty.call(output.data, EXEC_MIME_TYPE))) {\n      return\n    }\n\n    const toinsert = output_area.element.find(\".\" + CLASS_NAME.split(' ')[0]);\n\n    if (output.metadata[EXEC_MIME_TYPE][\"id\"] !== undefined) {\n      toinsert[toinsert.length - 1].firstChild.textContent = output.data[JS_MIME_TYPE];\n      // store reference to embed id on output_area\n      output_area._bokeh_element_id = output.metadata[EXEC_MIME_TYPE][\"id\"];\n    }\n    if (output.metadata[EXEC_MIME_TYPE][\"server_id\"] !== undefined) {\n      const bk_div = document.createElement(\"div\");\n      bk_div.innerHTML = output.data[HTML_MIME_TYPE];\n      const script_attrs = bk_div.children[0].attributes;\n      for (let i = 0; i < script_attrs.length; i++) {\n        toinsert[toinsert.length - 1].firstChild.setAttribute(script_attrs[i].name, script_attrs[i].value);\n        toinsert[toinsert.length - 1].firstChild.textContent = bk_div.children[0].textContent\n      }\n      // store reference to server id on output_area\n      output_area._bokeh_server_id = output.metadata[EXEC_MIME_TYPE][\"server_id\"];\n    }\n  }\n\n  function register_renderer(events, OutputArea) {\n\n    function append_mime(data, metadata, element) {\n      // create a DOM node to render to\n      const toinsert = this.create_output_subarea(\n        metadata,\n        CLASS_NAME,\n        EXEC_MIME_TYPE\n      );\n      this.keyboard_manager.register_events(toinsert);\n      // Render to node\n      const props = {data: data, metadata: metadata[EXEC_MIME_TYPE]};\n      render(props, toinsert[toinsert.length - 1]);\n      element.append(toinsert);\n      return toinsert\n    }\n\n    /* Handle when an output is cleared or removed */\n    events.on('clear_output.CodeCell', handleClearOutput);\n    events.on('delete.Cell', handleClearOutput);\n\n    /* Handle when a new output is added */\n    events.on('output_added.OutputArea', handleAddOutput);\n\n    /**\n     * Register the mime type and append_mime function with output_area\n     */\n    OutputArea.prototype.register_mime_type(EXEC_MIME_TYPE, append_mime, {\n      /* Is output safe? */\n      safe: true,\n      /* Index of renderer in `output_area.display_order` */\n      index: 0\n    });\n  }\n\n  // register the mime type if in Jupyter Notebook environment and previously unregistered\n  if (root.Jupyter !== undefined) {\n    const events = require('base/js/events');\n    const OutputArea = require('notebook/js/outputarea').OutputArea;\n\n    if (OutputArea.prototype.mime_types().indexOf(EXEC_MIME_TYPE) == -1) {\n      register_renderer(events, OutputArea);\n    }\n  }\n  if (typeof (root._bokeh_timeout) === \"undefined\" || force === true) {\n    root._bokeh_timeout = Date.now() + 5000;\n    root._bokeh_failed_load = false;\n  }\n\n  const NB_LOAD_WARNING = {'data': {'text/html':\n     \"<div style='background-color: #fdd'>\\n\"+\n     \"<p>\\n\"+\n     \"BokehJS does not appear to have successfully loaded. If loading BokehJS from CDN, this \\n\"+\n     \"may be due to a slow or bad network connection. Possible fixes:\\n\"+\n     \"</p>\\n\"+\n     \"<ul>\\n\"+\n     \"<li>re-rerun `output_notebook()` to attempt to load from CDN again, or</li>\\n\"+\n     \"<li>use INLINE resources instead, as so:</li>\\n\"+\n     \"</ul>\\n\"+\n     \"<code>\\n\"+\n     \"from bokeh.resources import INLINE\\n\"+\n     \"output_notebook(resources=INLINE)\\n\"+\n     \"</code>\\n\"+\n     \"</div>\"}};\n\n  function display_loaded() {\n    const el = document.getElementById(\"8130\");\n    if (el != null) {\n      el.textContent = \"BokehJS is loading...\";\n    }\n    if (root.Bokeh !== undefined) {\n      if (el != null) {\n        el.textContent = \"BokehJS \" + root.Bokeh.version + \" successfully loaded.\";\n      }\n    } else if (Date.now() < root._bokeh_timeout) {\n      setTimeout(display_loaded, 100)\n    }\n  }\n\n  function run_callbacks() {\n    try {\n      root._bokeh_onload_callbacks.forEach(function(callback) {\n        if (callback != null)\n          callback();\n      });\n    } finally {\n      delete root._bokeh_onload_callbacks\n    }\n    console.debug(\"Bokeh: all callbacks have finished\");\n  }\n\n  function load_libs(css_urls, js_urls, callback) {\n    if (css_urls == null) css_urls = [];\n    if (js_urls == null) js_urls = [];\n\n    root._bokeh_onload_callbacks.push(callback);\n    if (root._bokeh_is_loading > 0) {\n      console.debug(\"Bokeh: BokehJS is being loaded, scheduling callback at\", now());\n      return null;\n    }\n    if (js_urls == null || js_urls.length === 0) {\n      run_callbacks();\n      return null;\n    }\n    console.debug(\"Bokeh: BokehJS not loaded, scheduling load and callback at\", now());\n    root._bokeh_is_loading = css_urls.length + js_urls.length;\n\n    function on_load() {\n      root._bokeh_is_loading--;\n      if (root._bokeh_is_loading === 0) {\n        console.debug(\"Bokeh: all BokehJS libraries/stylesheets loaded\");\n        run_callbacks()\n      }\n    }\n\n    function on_error(url) {\n      console.error(\"failed to load \" + url);\n    }\n\n    for (let i = 0; i < css_urls.length; i++) {\n      const url = css_urls[i];\n      const element = document.createElement(\"link\");\n      element.onload = on_load;\n      element.onerror = on_error.bind(null, url);\n      element.rel = \"stylesheet\";\n      element.type = \"text/css\";\n      element.href = url;\n      console.debug(\"Bokeh: injecting link tag for BokehJS stylesheet: \", url);\n      document.body.appendChild(element);\n    }\n\n    for (let i = 0; i < js_urls.length; i++) {\n      const url = js_urls[i];\n      const element = document.createElement('script');\n      element.onload = on_load;\n      element.onerror = on_error.bind(null, url);\n      element.async = false;\n      element.src = url;\n      console.debug(\"Bokeh: injecting script tag for BokehJS library: \", url);\n      document.head.appendChild(element);\n    }\n  };\n\n  function inject_raw_css(css) {\n    const element = document.createElement(\"style\");\n    element.appendChild(document.createTextNode(css));\n    document.body.appendChild(element);\n  }\n\n  const js_urls = [\"https://cdn.bokeh.org/bokeh/release/bokeh-2.4.3.min.js\", \"https://cdn.bokeh.org/bokeh/release/bokeh-gl-2.4.3.min.js\", \"https://cdn.bokeh.org/bokeh/release/bokeh-widgets-2.4.3.min.js\", \"https://cdn.bokeh.org/bokeh/release/bokeh-tables-2.4.3.min.js\", \"https://cdn.bokeh.org/bokeh/release/bokeh-mathjax-2.4.3.min.js\", \"https://unpkg.com/@holoviz/panel@0.13.1/dist/panel.min.js\"];\n  const css_urls = [];\n\n  const inline_js = [    function(Bokeh) {\n      Bokeh.set_log_level(\"info\");\n    },\nfunction(Bokeh) {\n    }\n  ];\n\n  function run_inline_js() {\n    if (root.Bokeh !== undefined || force === true) {\n          for (let i = 0; i < inline_js.length; i++) {\n      inline_js[i].call(root, root.Bokeh);\n    }\nif (force === true) {\n        display_loaded();\n      }} else if (Date.now() < root._bokeh_timeout) {\n      setTimeout(run_inline_js, 100);\n    } else if (!root._bokeh_failed_load) {\n      console.log(\"Bokeh: BokehJS failed to load within specified timeout.\");\n      root._bokeh_failed_load = true;\n    } else if (force !== true) {\n      const cell = $(document.getElementById(\"8130\")).parents('.cell').data().cell;\n      cell.output_area.append_execute_result(NB_LOAD_WARNING)\n    }\n  }\n\n  if (root._bokeh_is_loading === 0) {\n    console.debug(\"Bokeh: BokehJS loaded, going straight to plotting\");\n    run_inline_js();\n  } else {\n    load_libs(css_urls, js_urls, function() {\n      console.debug(\"Bokeh: BokehJS plotting callback run at\", now());\n      run_inline_js();\n    });\n  }\n}(window));",
      "application/vnd.bokehjs_load.v0+json": ""
     },
     "metadata": {},
     "output_type": "display_data"
    },
    {
     "data": {
      "text/html": [
       "\n",
       "  <div class=\"bk-root\" id=\"583e2909-db9a-42e0-96a3-d8dd4b8f6d9b\" data-root-id=\"8133\"></div>\n"
      ]
     },
     "metadata": {},
     "output_type": "display_data"
    },
    {
     "data": {
      "application/javascript": "(function(root) {\n  function embed_document(root) {\n  const docs_json = {\"cebf4319-c21f-4c7c-9099-3c98d9a2e3a6\":{\"defs\":[{\"extends\":null,\"module\":null,\"name\":\"ReactiveHTML1\",\"overrides\":[],\"properties\":[]},{\"extends\":null,\"module\":null,\"name\":\"FlexBox1\",\"overrides\":[],\"properties\":[{\"default\":\"flex-start\",\"kind\":null,\"name\":\"align_content\"},{\"default\":\"flex-start\",\"kind\":null,\"name\":\"align_items\"},{\"default\":\"row\",\"kind\":null,\"name\":\"flex_direction\"},{\"default\":\"wrap\",\"kind\":null,\"name\":\"flex_wrap\"},{\"default\":\"flex-start\",\"kind\":null,\"name\":\"justify_content\"}]},{\"extends\":null,\"module\":null,\"name\":\"GridStack1\",\"overrides\":[],\"properties\":[{\"default\":\"warn\",\"kind\":null,\"name\":\"mode\"},{\"default\":null,\"kind\":null,\"name\":\"ncols\"},{\"default\":null,\"kind\":null,\"name\":\"nrows\"},{\"default\":true,\"kind\":null,\"name\":\"allow_resize\"},{\"default\":true,\"kind\":null,\"name\":\"allow_drag\"},{\"default\":[],\"kind\":null,\"name\":\"state\"}]},{\"extends\":null,\"module\":null,\"name\":\"click1\",\"overrides\":[],\"properties\":[{\"default\":\"\",\"kind\":null,\"name\":\"terminal_output\"},{\"default\":\"\",\"kind\":null,\"name\":\"debug_name\"},{\"default\":0,\"kind\":null,\"name\":\"clears\"}]},{\"extends\":null,\"module\":null,\"name\":\"NotificationAreaBase1\",\"overrides\":[],\"properties\":[{\"default\":\"bottom-right\",\"kind\":null,\"name\":\"position\"},{\"default\":0,\"kind\":null,\"name\":\"_clear\"}]},{\"extends\":null,\"module\":null,\"name\":\"NotificationArea1\",\"overrides\":[],\"properties\":[{\"default\":[],\"kind\":null,\"name\":\"notifications\"},{\"default\":\"bottom-right\",\"kind\":null,\"name\":\"position\"},{\"default\":0,\"kind\":null,\"name\":\"_clear\"},{\"default\":[{\"background\":\"#ffc107\",\"icon\":{\"className\":\"fas fa-exclamation-triangle\",\"color\":\"white\",\"tagName\":\"i\"},\"type\":\"warning\"},{\"background\":\"#007bff\",\"icon\":{\"className\":\"fas fa-info-circle\",\"color\":\"white\",\"tagName\":\"i\"},\"type\":\"info\"}],\"kind\":null,\"name\":\"types\"}]},{\"extends\":null,\"module\":null,\"name\":\"Notification\",\"overrides\":[],\"properties\":[{\"default\":null,\"kind\":null,\"name\":\"background\"},{\"default\":3000,\"kind\":null,\"name\":\"duration\"},{\"default\":null,\"kind\":null,\"name\":\"icon\"},{\"default\":\"\",\"kind\":null,\"name\":\"message\"},{\"default\":null,\"kind\":null,\"name\":\"notification_type\"},{\"default\":false,\"kind\":null,\"name\":\"_destroyed\"}]},{\"extends\":null,\"module\":null,\"name\":\"TemplateActions1\",\"overrides\":[],\"properties\":[{\"default\":0,\"kind\":null,\"name\":\"open_modal\"},{\"default\":0,\"kind\":null,\"name\":\"close_modal\"}]},{\"extends\":null,\"module\":null,\"name\":\"MaterialTemplateActions1\",\"overrides\":[],\"properties\":[{\"default\":0,\"kind\":null,\"name\":\"open_modal\"},{\"default\":0,\"kind\":null,\"name\":\"close_modal\"}]}],\"roots\":{\"references\":[{\"attributes\":{\"height\":720,\"left\":[{\"id\":\"8205\"}],\"output_backend\":\"svg\",\"renderers\":[{\"id\":\"8154\"}],\"right\":[{\"id\":\"8204\"}],\"title\":{\"id\":\"8134\"},\"toolbar\":{\"id\":\"8146\"},\"width\":1000,\"x_range\":{\"id\":\"8131\"},\"x_scale\":{\"id\":\"8377\"},\"y_range\":{\"id\":\"8132\"},\"y_scale\":{\"id\":\"8378\"}},\"id\":\"8133\",\"type\":\"Plot\"},{\"attributes\":{\"callback\":null,\"tooltips\":[[\"index\",\"$index\"],[\"x\",\"@x0\"],[\"y\",\"@y0\"],[\"value\",\"@edge_value\"],[\"tunes\",\"@tunes\"]]},\"id\":\"8138\",\"type\":\"HoverTool\"},{\"attributes\":{},\"id\":\"8389\",\"type\":\"NoOverlap\"},{\"attributes\":{\"fill_color\":{\"field\":\"tunes\",\"transform\":{\"id\":\"8168\"}},\"size\":{\"value\":15}},\"id\":\"8174\",\"type\":\"Circle\"},{\"attributes\":{\"line_alpha\":{\"value\":0.5},\"line_color\":{\"field\":\"value\",\"transform\":{\"id\":\"8184\"}},\"line_width\":{\"value\":5}},\"id\":\"8185\",\"type\":\"MultiLine\"},{\"attributes\":{\"callback\":null},\"id\":\"8139\",\"type\":\"TapTool\"},{\"attributes\":{\"high\":6,\"low\":1,\"palette\":[\"#000000\",\"#ff0000\",\"#FFA500\",\"#FFFF00\",\"#00FF00\",\"#0000FF\"]},\"id\":\"8168\",\"type\":\"LinearColorMapper\"},{\"attributes\":{\"source\":{\"id\":\"8156\"}},\"id\":\"8158\",\"type\":\"CDSView\"},{\"attributes\":{},\"id\":\"8202\",\"type\":\"EdgesAndLinkedNodes\"},{\"attributes\":{},\"id\":\"8141\",\"type\":\"WheelZoomTool\"},{\"attributes\":{\"overlay\":{\"id\":\"8391\"}},\"id\":\"8145\",\"type\":\"BoxZoomTool\"},{\"attributes\":{\"source\":{\"id\":\"8160\"}},\"id\":\"8162\",\"type\":\"CDSView\"},{\"attributes\":{},\"id\":\"8143\",\"type\":\"PanTool\"},{\"attributes\":{\"fill_color\":{\"field\":\"tunes\",\"transform\":{\"id\":\"8168\"}},\"size\":{\"value\":15}},\"id\":\"8179\",\"type\":\"Circle\"},{\"attributes\":{},\"id\":\"8392\",\"type\":\"UnionRenderers\"},{\"attributes\":{\"bottom_units\":\"screen\",\"coordinates\":null,\"fill_alpha\":0.5,\"fill_color\":\"lightgrey\",\"group\":null,\"left_units\":\"screen\",\"level\":\"overlay\",\"line_alpha\":1.0,\"line_color\":\"black\",\"line_dash\":[4,4],\"line_width\":2,\"right_units\":\"screen\",\"syncable\":false,\"top_units\":\"screen\"},\"id\":\"8391\",\"type\":\"BoxAnnotation\"},{\"attributes\":{\"coordinates\":null,\"data_source\":{\"id\":\"8160\"},\"glyph\":{\"id\":\"8185\"},\"group\":null,\"hover_glyph\":{\"id\":\"8195\"},\"selection_glyph\":{\"id\":\"8190\"},\"view\":{\"id\":\"8162\"}},\"id\":\"8161\",\"type\":\"GlyphRenderer\"},{\"attributes\":{\"data\":{\"edge_value\":[1.0,1.0,1.0,1.0,1.0,0.6004755835429827,0.6128737393967508,1.0,0.6582556614390185,0.6156563962306254,0.6530413893123282,1.0,1.0,0.6329980360505287,0.6781864606038802,0.6866665316628588,0.6216238640008226,0.6195915773585282,1.0,0.653747288333091,0.6600410199530525,1.0,1.0,0.6015749023173133,0.6960139568235261,0.7388892141917281,0.6434986855566669,0.6538215702066595,1.0,0.6008805207337394,0.6166957277909688,0.695055060233028,0.7203519523161629,0.6438774152064803,0.6604542352799072,0.6106784407418714,0.6576155349978566,1.0,1.0,1.0,0.6132158377486663,1.0,1.0,0.7397937366178374,0.6678415882064207,0.7792225144411894,0.6013316575873465,0.6208477104572571,0.6564318990486432,1.0,0.6309821884838477,1.0,1.0,1.0,1.0,0.6072686002637961,0.63310428835144,0.6066887032352551,0.7565210395765993,0.6249706098941107,0.6028044529059436,0.6335554942316842,1.0,0.6625335156029226,0.6218468444287367,1.0,1.0,1.0,1.0,0.6097151059410777,1.0,1.0,1.0,1.0,1.0,1.0,0.7427153738719122,1.0,1.0,1.0,1.0,0.6580965988000886,0.6133951257966069,1.0,0.612286503428887,0.6486006427436185,0.6246231514478344,0.7166582964215383,0.6227764755763134,1.0,1.0,1.0,0.6005288023044997,1.0,1.0,0.7542180693933068,0.7247704182679853,0.6272992534311699,0.714733252606619,1.0,1.0,1.0,1.0,1.0,1.0,0.653451180912354,1.0,0.6012020123560655,0.7199434637528408,0.6072053724124439,1.0,1.0,0.7916178274364585,0.6510278722674541,0.7012667050704728,1.0,1.0,1.0,1.0,1.0,0.6265712242707356,0.6338764486565562,0.6407618401967373,0.6507771801262033,1.0,1.0,0.6326383406151516,1.0,1.0,0.6120955191835523,1.0,1.0,0.6200621816528181,1.0,0.6207414297037197,1.0,1.0,1.0,0.6374908494268177,1.0,1.0,1.0,1.0,1.0,1.0,1.0,1.0,1.0,1.0,1.0,1.0,1.0,1.0,1.0,1.0,1.0],\"end\":[0,1,2,3,4,53,56,5,20,41,64,6,7,8,11,37,69,91,8,11,51,9,10,51,53,58,84,90,11,32,38,41,53,58,62,87,90,12,13,15,35,16,17,22,43,51,64,84,87,18,58,19,20,21,22,30,43,48,51,53,58,84,23,43,53,24,25,26,27,38,28,29,30,31,32,33,48,34,35,36,37,51,69,38,41,43,51,53,58,39,40,41,53,42,43,51,53,64,69,44,46,47,48,49,50,87,51,53,69,87,52,53,58,64,94,54,55,56,57,58,59,62,84,87,59,60,84,61,62,69,63,64,69,67,71,68,69,71,90,73,76,77,81,83,84,85,86,87,88,89,90,91,92,93,94,96],\"start\":[0,1,2,3,4,4,4,5,5,5,5,6,7,7,7,7,7,7,8,8,8,9,10,10,10,10,10,10,11,11,11,11,11,11,11,11,11,12,13,15,15,16,17,17,17,17,17,17,17,18,18,19,20,21,22,22,22,22,22,22,22,22,23,23,23,24,25,26,27,27,28,29,30,31,32,33,33,34,35,36,37,37,37,38,38,38,38,38,38,39,40,41,41,42,43,43,43,43,43,44,46,47,48,49,50,50,51,51,51,51,52,53,53,53,53,54,55,56,57,58,58,58,58,58,59,60,60,61,62,62,63,64,64,67,67,68,69,71,71,73,76,77,81,83,84,85,86,87,88,89,90,91,92,93,94,96],\"tunes\":[6,1,1,3,1,3,6,3,1,1,1,1,1,1,1,1,1,1,1,1,3,6,1,3,3,1,3,1,1,1,1,1,3,1,1,1,1,1,0,1,1,6,1,1,1,3,1,3,1,3,1,3,1,1,1,1,1,1,3,3,1,3,1,1,3,1,1,3,1,1,1,3,1,1,1,1,1,1,1,1,1,3,1,1,1,1,3,3,1,3,1,1,3,1,1,3,3,1,1,1,6,1,1,1,2,1,3,3,1,1,2,3,1,1,1,1,3,6,3,1,1,1,3,1,1,1,3,1,1,1,1,1,1,1,1,1,1,1,1,1,1,1,2,1,3,6,1,1,1,1,1,1,1,1,1,1],\"value\":[1.0,1.0,1.0,1.0,1.0,0.6004755835429827,0.6128737393967508,1.0,0.6582556614390185,0.6156563962306254,0.6530413893123282,1.0,1.0,0.6329980360505287,0.6781864606038802,0.6866665316628588,0.6216238640008226,0.6195915773585282,1.0,0.653747288333091,0.6600410199530525,1.0,1.0,0.6015749023173133,0.6960139568235261,0.7388892141917281,0.6434986855566669,0.6538215702066595,1.0,0.6008805207337394,0.6166957277909688,0.695055060233028,0.7203519523161629,0.6438774152064803,0.6604542352799072,0.6106784407418714,0.6576155349978566,1.0,1.0,1.0,0.6132158377486663,1.0,1.0,0.7397937366178374,0.6678415882064207,0.7792225144411894,0.6013316575873465,0.6208477104572571,0.6564318990486432,1.0,0.6309821884838477,1.0,1.0,1.0,1.0,0.6072686002637961,0.63310428835144,0.6066887032352551,0.7565210395765993,0.6249706098941107,0.6028044529059436,0.6335554942316842,1.0,0.6625335156029226,0.6218468444287367,1.0,1.0,1.0,1.0,0.6097151059410777,1.0,1.0,1.0,1.0,1.0,1.0,0.7427153738719122,1.0,1.0,1.0,1.0,0.6580965988000886,0.6133951257966069,1.0,0.612286503428887,0.6486006427436185,0.6246231514478344,0.7166582964215383,0.6227764755763134,1.0,1.0,1.0,0.6005288023044997,1.0,1.0,0.7542180693933068,0.7247704182679853,0.6272992534311699,0.714733252606619,1.0,1.0,1.0,1.0,1.0,1.0,0.653451180912354,1.0,0.6012020123560655,0.7199434637528408,0.6072053724124439,1.0,1.0,0.7916178274364585,0.6510278722674541,0.7012667050704728,1.0,1.0,1.0,1.0,1.0,0.6265712242707356,0.6338764486565562,0.6407618401967373,0.6507771801262033,1.0,1.0,0.6326383406151516,1.0,1.0,0.6120955191835523,1.0,1.0,0.6200621816528181,1.0,0.6207414297037197,1.0,1.0,1.0,0.6374908494268177,1.0,1.0,1.0,1.0,1.0,1.0,1.0,1.0,1.0,1.0,1.0,1.0,1.0,1.0,1.0,1.0,1.0],\"x0\":[54.39736842105263,337.909604519774,67.87603305785125,125.56695156695157,136.9138655462185,338.057268722467,143.53484602917342,143.43716814159293,398.3361581920904,463.36422413793105,308.982800982801,156.324200913242,262.8642447418738,391.0422885572139,44.58502024291498,335.12466124661245,429.5529715762274,307.29756097560977,391.0422885572139,44.58502024291498,353.0590717299578,41.57595993322204,444.88911704312113,353.0590717299578,338.057268722467,353.5274074074074,93.51124744376278,270.0243902439024,44.58502024291498,288.18341708542715,136.30113636363637,463.36422413793105,338.057268722467,353.5274074074074,113.34615384615384,50.911458333333336,270.0243902439024,182.60814249363867,277.3825665859564,135.64429530201343,361.0078947368421,158.94418604651162,13.463276836158192,236.46356589147288,105.8021505376344,353.0590717299578,308.982800982801,93.51124744376278,50.911458333333336,35.275938189845476,353.5274074074074,228.41489361702128,398.3361581920904,205.3252647503782,236.46356589147288,133.6449864498645,105.8021505376344,188.66666666666666,353.0590717299578,338.057268722467,353.5274074074074,93.51124744376278,179.2860696517413,105.8021505376344,338.057268722467,212.94698795180722,264.75141242937855,223.63718820861678,315.4032258064516,136.30113636363637,269.8222222222222,287.26647564469914,133.6449864498645,295.8816326530612,288.18341708542715,192.69270833333334,188.66666666666666,277.8116343490305,361.0078947368421,277.0453563714903,335.12466124661245,353.0590717299578,429.5529715762274,136.30113636363637,463.36422413793105,105.8021505376344,353.0590717299578,338.057268722467,353.5274074074074,169.6228710462287,226.1730279898219,463.36422413793105,338.057268722467,154.20359281437126,105.8021505376344,353.0590717299578,338.057268722467,308.982800982801,429.5529715762274,216.5279805352798,115.66019417475728,413.1306930693069,188.66666666666666,461.2454991816694,266.2478448275862,50.911458333333336,353.0590717299578,338.057268722467,429.5529715762274,50.911458333333336,386.77464788732397,338.057268722467,353.5274074074074,308.982800982801,20.09090909090909,60.65207877461707,316.1798245614035,143.53484602917342,317.0409482758621,353.5274074074074,384.1382636655949,113.34615384615384,93.51124744376278,50.911458333333336,384.1382636655949,376.6053412462908,93.51124744376278,408.1223628691983,113.34615384615384,429.5529715762274,286.77358490566036,308.982800982801,429.5529715762274,440.4650655021834,321.32346723044395,190.15643564356435,429.5529715762274,321.32346723044395,270.0243902439024,100.05790645879733,482.1356783919598,36.65013054830287,430.8463541666667,490.7551724137931,93.51124744376278,312.32716049382714,222.0487012987013,50.911458333333336,376.11466666666666,504.859437751004,270.0243902439024,307.29756097560977,354.2972972972973,432.2682926829268,20.09090909090909,391.9274376417234],\"x1\":[54.39736842105263,337.909604519774,67.87603305785125,125.56695156695157,136.9138655462185,136.9138655462185,136.9138655462185,143.43716814159293,143.43716814159293,143.43716814159293,143.43716814159293,156.324200913242,262.8642447418738,262.8642447418738,262.8642447418738,262.8642447418738,262.8642447418738,262.8642447418738,391.0422885572139,391.0422885572139,391.0422885572139,41.57595993322204,444.88911704312113,444.88911704312113,444.88911704312113,444.88911704312113,444.88911704312113,444.88911704312113,44.58502024291498,44.58502024291498,44.58502024291498,44.58502024291498,44.58502024291498,44.58502024291498,44.58502024291498,44.58502024291498,44.58502024291498,182.60814249363867,277.3825665859564,135.64429530201343,135.64429530201343,158.94418604651162,13.463276836158192,13.463276836158192,13.463276836158192,13.463276836158192,13.463276836158192,13.463276836158192,13.463276836158192,35.275938189845476,35.275938189845476,228.41489361702128,398.3361581920904,205.3252647503782,236.46356589147288,236.46356589147288,236.46356589147288,236.46356589147288,236.46356589147288,236.46356589147288,236.46356589147288,236.46356589147288,179.2860696517413,179.2860696517413,179.2860696517413,212.94698795180722,264.75141242937855,223.63718820861678,315.4032258064516,315.4032258064516,269.8222222222222,287.26647564469914,133.6449864498645,295.8816326530612,288.18341708542715,192.69270833333334,192.69270833333334,277.8116343490305,361.0078947368421,277.0453563714903,335.12466124661245,335.12466124661245,335.12466124661245,136.30113636363637,136.30113636363637,136.30113636363637,136.30113636363637,136.30113636363637,136.30113636363637,169.6228710462287,226.1730279898219,463.36422413793105,463.36422413793105,154.20359281437126,105.8021505376344,105.8021505376344,105.8021505376344,105.8021505376344,105.8021505376344,216.5279805352798,115.66019417475728,413.1306930693069,188.66666666666666,461.2454991816694,266.2478448275862,266.2478448275862,353.0590717299578,353.0590717299578,353.0590717299578,353.0590717299578,386.77464788732397,338.057268722467,338.057268722467,338.057268722467,338.057268722467,60.65207877461707,316.1798245614035,143.53484602917342,317.0409482758621,353.5274074074074,353.5274074074074,353.5274074074074,353.5274074074074,353.5274074074074,384.1382636655949,376.6053412462908,376.6053412462908,408.1223628691983,113.34615384615384,113.34615384615384,286.77358490566036,308.982800982801,308.982800982801,440.4650655021834,440.4650655021834,190.15643564356435,429.5529715762274,321.32346723044395,321.32346723044395,100.05790645879733,482.1356783919598,36.65013054830287,430.8463541666667,490.7551724137931,93.51124744376278,312.32716049382714,222.0487012987013,50.911458333333336,376.11466666666666,504.859437751004,270.0243902439024,307.29756097560977,354.2972972972973,432.2682926829268,20.09090909090909,391.9274376417234],\"y0\":[301.5921052631579,266.6195856873823,369.3057851239669,279.70940170940173,391.3802521008403,452.09251101321587,146.0810372771475,419.3628318584071,374.0960451977401,452.85991379310343,158.74447174447175,296.2671232876712,373.49330783938814,251.0721393034826,332.834008097166,400.9430894308943,371.5374677002584,105.77317073170731,251.0721393034826,332.834008097166,408.1645569620253,251.12353923205342,411.2977412731006,408.1645569620253,452.09251101321587,182.93185185185186,33.441717791411044,98.93170731707318,332.834008097166,350.60804020100505,221.23011363636363,452.85991379310343,452.09251101321587,182.93185185185186,135.44230769230768,14.145833333333332,98.93170731707318,265.9185750636132,312.81598062954,255.1834451901566,375.5210526315789,88.0015503875969,464.1280602636535,306.31472868217054,53.78064516129032,408.1645569620253,158.74447174447175,33.441717791411044,14.145833333333332,295.74834437086093,182.93185185185186,267.7260638297872,374.0960451977401,325.1543116490166,306.31472868217054,22.50135501355014,53.78064516129032,158.93427230046947,408.1645569620253,452.09251101321587,182.93185185185186,33.441717791411044,406.93532338308455,53.78064516129032,452.09251101321587,291.8,447.56779661016947,366.31972789115645,190.52620967741936,221.23011363636363,420.1822222222222,202.9484240687679,22.50135501355014,414.64489795918365,350.60804020100505,192.78645833333334,158.93427230046947,248.73961218836564,375.5210526315789,186.55939524838013,400.9430894308943,408.1645569620253,371.5374677002584,221.23011363636363,452.85991379310343,53.78064516129032,408.1645569620253,452.09251101321587,182.93185185185186,120.37226277372262,166.06106870229007,452.85991379310343,452.09251101321587,165.28542914171658,53.78064516129032,408.1645569620253,452.09251101321587,158.74447174447175,371.5374677002584,143.61557177615572,21.15857605177994,200.26138613861386,158.93427230046947,282.6546644844517,162.625,14.145833333333332,408.1645569620253,452.09251101321587,371.5374677002584,14.145833333333332,343.11737089201876,452.09251101321587,182.93185185185186,158.74447174447175,88.0909090909091,198.9671772428884,439.0570175438597,146.0810372771475,466.3685344827586,182.93185185185186,399.2604501607717,135.44230769230768,33.441717791411044,14.145833333333332,399.2604501607717,265.9792284866469,33.441717791411044,286.47679324894517,135.44230769230768,371.5374677002584,288.54716981132077,158.74447174447175,371.5374677002584,353.99344978165936,138.50105708245243,63.118811881188115,371.5374677002584,138.50105708245243,98.93170731707318,172.4476614699332,485.84422110552765,-0.8642297650130555,331.4713541666667,243.18965517241378,33.441717791411044,60.93004115226338,9.49025974025974,14.145833333333332,107.89066666666666,316.3574297188755,98.93170731707318,105.77317073170731,115.15724815724816,171.69844789356983,88.0909090909091,66.81859410430839],\"y1\":[301.5921052631579,266.6195856873823,369.3057851239669,279.70940170940173,391.3802521008403,391.3802521008403,391.3802521008403,419.3628318584071,419.3628318584071,419.3628318584071,419.3628318584071,296.2671232876712,373.49330783938814,373.49330783938814,373.49330783938814,373.49330783938814,373.49330783938814,373.49330783938814,251.0721393034826,251.0721393034826,251.0721393034826,251.12353923205342,411.2977412731006,411.2977412731006,411.2977412731006,411.2977412731006,411.2977412731006,411.2977412731006,332.834008097166,332.834008097166,332.834008097166,332.834008097166,332.834008097166,332.834008097166,332.834008097166,332.834008097166,332.834008097166,265.9185750636132,312.81598062954,255.1834451901566,255.1834451901566,88.0015503875969,464.1280602636535,464.1280602636535,464.1280602636535,464.1280602636535,464.1280602636535,464.1280602636535,464.1280602636535,295.74834437086093,295.74834437086093,267.7260638297872,374.0960451977401,325.1543116490166,306.31472868217054,306.31472868217054,306.31472868217054,306.31472868217054,306.31472868217054,306.31472868217054,306.31472868217054,306.31472868217054,406.93532338308455,406.93532338308455,406.93532338308455,291.8,447.56779661016947,366.31972789115645,190.52620967741936,190.52620967741936,420.1822222222222,202.9484240687679,22.50135501355014,414.64489795918365,350.60804020100505,192.78645833333334,192.78645833333334,248.73961218836564,375.5210526315789,186.55939524838013,400.9430894308943,400.9430894308943,400.9430894308943,221.23011363636363,221.23011363636363,221.23011363636363,221.23011363636363,221.23011363636363,221.23011363636363,120.37226277372262,166.06106870229007,452.85991379310343,452.85991379310343,165.28542914171658,53.78064516129032,53.78064516129032,53.78064516129032,53.78064516129032,53.78064516129032,143.61557177615572,21.15857605177994,200.26138613861386,158.93427230046947,282.6546644844517,162.625,162.625,408.1645569620253,408.1645569620253,408.1645569620253,408.1645569620253,343.11737089201876,452.09251101321587,452.09251101321587,452.09251101321587,452.09251101321587,198.9671772428884,439.0570175438597,146.0810372771475,466.3685344827586,182.93185185185186,182.93185185185186,182.93185185185186,182.93185185185186,182.93185185185186,399.2604501607717,265.9792284866469,265.9792284866469,286.47679324894517,135.44230769230768,135.44230769230768,288.54716981132077,158.74447174447175,158.74447174447175,353.99344978165936,353.99344978165936,63.118811881188115,371.5374677002584,138.50105708245243,138.50105708245243,172.4476614699332,485.84422110552765,-0.8642297650130555,331.4713541666667,243.18965517241378,33.441717791411044,60.93004115226338,9.49025974025974,14.145833333333332,107.89066666666666,316.3574297188755,98.93170731707318,105.77317073170731,115.15724815724816,171.69844789356983,88.0909090909091,66.81859410430839]},\"selected\":{\"id\":\"8395\"},\"selection_policy\":{\"id\":\"8394\"}},\"id\":\"8160\",\"type\":\"ColumnDataSource\"},{\"attributes\":{\"tools\":[{\"id\":\"8138\"},{\"id\":\"8139\"},{\"id\":\"8140\"},{\"id\":\"8141\"},{\"id\":\"8142\"},{\"id\":\"8143\"},{\"id\":\"8144\"},{\"id\":\"8145\"}]},\"id\":\"8146\",\"type\":\"Toolbar\"},{\"attributes\":{},\"id\":\"8142\",\"type\":\"ResetTool\"},{\"attributes\":{},\"id\":\"8393\",\"type\":\"Selection\"},{\"attributes\":{\"end\":424,\"start\":-40},\"id\":\"8131\",\"type\":\"Range1d\"},{\"attributes\":{\"color_mapper\":{\"id\":\"8184\"},\"coordinates\":null,\"group\":null,\"major_label_policy\":{\"id\":\"8389\"},\"width\":8},\"id\":\"8204\",\"type\":\"ColorBar\"},{\"attributes\":{\"bottom_units\":\"screen\",\"coordinates\":null,\"fill_alpha\":0.5,\"fill_color\":\"lightgrey\",\"group\":null,\"left_units\":\"screen\",\"level\":\"overlay\",\"line_alpha\":1.0,\"line_color\":\"black\",\"line_dash\":[4,4],\"line_width\":2,\"right_units\":\"screen\",\"syncable\":false,\"top_units\":\"screen\"},\"id\":\"8390\",\"type\":\"BoxAnnotation\"},{\"attributes\":{\"color_mapper\":{\"id\":\"8168\"},\"coordinates\":null,\"group\":null,\"major_label_policy\":{\"id\":\"8388\"},\"width\":8},\"id\":\"8205\",\"type\":\"ColorBar\"},{\"attributes\":{\"data\":{\"adjusted_node_size\":[10,10,10,10,10,10,10,10,10,10,10,10,10,10,10,10,10,10,10,10,10,10,10,10,10,10,10,10,10,10,10,10,10,10,10,10,10,10,10,10,10,10,10,10,10,10,10,10,10,10,10,10,10,10,10,10,10,10,10,10,10,10,10,10,10,10,10,10,10,10,10,10,10,10,10,10,10,10,10,10,10,10,10,10],\"index\":[0,1,2,3,4,5,6,7,8,9,10,11,12,13,15,16,17,18,19,20,21,22,23,24,25,26,27,28,29,30,31,32,33,34,35,36,37,38,39,40,41,42,43,44,46,47,48,49,50,51,52,53,54,55,56,57,58,59,60,61,62,63,64,67,68,69,71,73,76,77,81,83,84,85,86,87,88,89,90,91,92,93,94,96],\"tunes\":[6,1,1,3,1,3,1,1,1,6,1,1,1,0,1,6,1,3,3,1,1,1,1,1,1,3,1,1,3,1,1,1,1,1,1,1,1,1,3,1,1,1,1,1,6,1,1,1,2,3,2,3,1,3,6,3,1,1,1,1,1,1,1,1,1,1,1,1,1,1,2,1,3,6,1,1,1,1,1,1,1,1,1,1],\"x0\":[54.39736842105263,337.909604519774,67.87603305785125,125.56695156695157,136.9138655462185,143.43716814159293,156.324200913242,262.8642447418738,391.0422885572139,41.57595993322204,444.88911704312113,44.58502024291498,182.60814249363867,277.3825665859564,135.64429530201343,158.94418604651162,13.463276836158192,35.275938189845476,228.41489361702128,398.3361581920904,205.3252647503782,236.46356589147288,179.2860696517413,212.94698795180722,264.75141242937855,223.63718820861678,315.4032258064516,269.8222222222222,287.26647564469914,133.6449864498645,295.8816326530612,288.18341708542715,192.69270833333334,277.8116343490305,361.0078947368421,277.0453563714903,335.12466124661245,136.30113636363637,169.6228710462287,226.1730279898219,463.36422413793105,154.20359281437126,105.8021505376344,216.5279805352798,115.66019417475728,413.1306930693069,188.66666666666666,461.2454991816694,266.2478448275862,353.0590717299578,386.77464788732397,338.057268722467,60.65207877461707,316.1798245614035,143.53484602917342,317.0409482758621,353.5274074074074,384.1382636655949,376.6053412462908,408.1223628691983,113.34615384615384,286.77358490566036,308.982800982801,440.4650655021834,190.15643564356435,429.5529715762274,321.32346723044395,100.05790645879733,482.1356783919598,36.65013054830287,430.8463541666667,490.7551724137931,93.51124744376278,312.32716049382714,222.0487012987013,50.911458333333336,376.11466666666666,504.859437751004,270.0243902439024,307.29756097560977,354.2972972972973,432.2682926829268,20.09090909090909,391.9274376417234],\"y0\":[301.5921052631579,266.6195856873823,369.3057851239669,279.70940170940173,391.3802521008403,419.3628318584071,296.2671232876712,373.49330783938814,251.0721393034826,251.12353923205342,411.2977412731006,332.834008097166,265.9185750636132,312.81598062954,255.1834451901566,88.0015503875969,464.1280602636535,295.74834437086093,267.7260638297872,374.0960451977401,325.1543116490166,306.31472868217054,406.93532338308455,291.8,447.56779661016947,366.31972789115645,190.52620967741936,420.1822222222222,202.9484240687679,22.50135501355014,414.64489795918365,350.60804020100505,192.78645833333334,248.73961218836564,375.5210526315789,186.55939524838013,400.9430894308943,221.23011363636363,120.37226277372262,166.06106870229007,452.85991379310343,165.28542914171658,53.78064516129032,143.61557177615572,21.15857605177994,200.26138613861386,158.93427230046947,282.6546644844517,162.625,408.1645569620253,343.11737089201876,452.09251101321587,198.9671772428884,439.0570175438597,146.0810372771475,466.3685344827586,182.93185185185186,399.2604501607717,265.9792284866469,286.47679324894517,135.44230769230768,288.54716981132077,158.74447174447175,353.99344978165936,63.118811881188115,371.5374677002584,138.50105708245243,172.4476614699332,485.84422110552765,-0.8642297650130555,331.4713541666667,243.18965517241378,33.441717791411044,60.93004115226338,9.49025974025974,14.145833333333332,107.89066666666666,316.3574297188755,98.93170731707318,105.77317073170731,115.15724815724816,171.69844789356983,88.0909090909091,66.81859410430839]},\"selected\":{\"id\":\"8393\"},\"selection_policy\":{\"id\":\"8392\"}},\"id\":\"8156\",\"type\":\"ColumnDataSource\"},{\"attributes\":{\"coordinates\":null,\"data_source\":{\"id\":\"8156\"},\"glyph\":{\"id\":\"8169\"},\"group\":null,\"hover_glyph\":{\"id\":\"8179\"},\"selection_glyph\":{\"id\":\"8174\"},\"view\":{\"id\":\"8158\"}},\"id\":\"8157\",\"type\":\"GlyphRenderer\"},{\"attributes\":{},\"id\":\"8394\",\"type\":\"UnionRenderers\"},{\"attributes\":{\"line_color\":{\"value\":\"#2b83ba\"},\"line_width\":{\"value\":5}},\"id\":\"8195\",\"type\":\"MultiLine\"},{\"attributes\":{\"fill_color\":{\"field\":\"tunes\",\"transform\":{\"id\":\"8168\"}},\"size\":{\"value\":15}},\"id\":\"8169\",\"type\":\"Circle\"},{\"attributes\":{},\"id\":\"8395\",\"type\":\"Selection\"},{\"attributes\":{\"graph_layout\":{\"0\":[54.39736842105263,301.5921052631579],\"1\":[337.909604519774,266.6195856873823],\"10\":[444.88911704312113,411.2977412731006],\"11\":[44.58502024291498,332.834008097166],\"12\":[182.60814249363867,265.9185750636132],\"13\":[277.3825665859564,312.81598062954],\"15\":[135.64429530201343,255.1834451901566],\"16\":[158.94418604651162,88.0015503875969],\"17\":[13.463276836158192,464.1280602636535],\"18\":[35.275938189845476,295.74834437086093],\"19\":[228.41489361702128,267.7260638297872],\"2\":[67.87603305785125,369.3057851239669],\"20\":[398.3361581920904,374.0960451977401],\"21\":[205.3252647503782,325.1543116490166],\"22\":[236.46356589147288,306.31472868217054],\"23\":[179.2860696517413,406.93532338308455],\"24\":[212.94698795180722,291.8],\"25\":[264.75141242937855,447.56779661016947],\"26\":[223.63718820861678,366.31972789115645],\"27\":[315.4032258064516,190.52620967741936],\"28\":[269.8222222222222,420.1822222222222],\"29\":[287.26647564469914,202.9484240687679],\"3\":[125.56695156695157,279.70940170940173],\"30\":[133.6449864498645,22.50135501355014],\"31\":[295.8816326530612,414.64489795918365],\"32\":[288.18341708542715,350.60804020100505],\"33\":[192.69270833333334,192.78645833333334],\"34\":[277.8116343490305,248.73961218836564],\"35\":[361.0078947368421,375.5210526315789],\"36\":[277.0453563714903,186.55939524838013],\"37\":[335.12466124661245,400.9430894308943],\"38\":[136.30113636363637,221.23011363636363],\"39\":[169.6228710462287,120.37226277372262],\"4\":[136.9138655462185,391.3802521008403],\"40\":[226.1730279898219,166.06106870229007],\"41\":[463.36422413793105,452.85991379310343],\"42\":[154.20359281437126,165.28542914171658],\"43\":[105.8021505376344,53.78064516129032],\"44\":[216.5279805352798,143.61557177615572],\"46\":[115.66019417475728,21.15857605177994],\"47\":[413.1306930693069,200.26138613861386],\"48\":[188.66666666666666,158.93427230046947],\"49\":[461.2454991816694,282.6546644844517],\"5\":[143.43716814159293,419.3628318584071],\"50\":[266.2478448275862,162.625],\"51\":[353.0590717299578,408.1645569620253],\"52\":[386.77464788732397,343.11737089201876],\"53\":[338.057268722467,452.09251101321587],\"54\":[60.65207877461707,198.9671772428884],\"55\":[316.1798245614035,439.0570175438597],\"56\":[143.53484602917342,146.0810372771475],\"57\":[317.0409482758621,466.3685344827586],\"58\":[353.5274074074074,182.93185185185186],\"59\":[384.1382636655949,399.2604501607717],\"6\":[156.324200913242,296.2671232876712],\"60\":[376.6053412462908,265.9792284866469],\"61\":[408.1223628691983,286.47679324894517],\"62\":[113.34615384615384,135.44230769230768],\"63\":[286.77358490566036,288.54716981132077],\"64\":[308.982800982801,158.74447174447175],\"67\":[440.4650655021834,353.99344978165936],\"68\":[190.15643564356435,63.118811881188115],\"69\":[429.5529715762274,371.5374677002584],\"7\":[262.8642447418738,373.49330783938814],\"71\":[321.32346723044395,138.50105708245243],\"73\":[100.05790645879733,172.4476614699332],\"76\":[482.1356783919598,485.84422110552765],\"77\":[36.65013054830287,-0.8642297650130555],\"8\":[391.0422885572139,251.0721393034826],\"81\":[430.8463541666667,331.4713541666667],\"83\":[490.7551724137931,243.18965517241378],\"84\":[93.51124744376278,33.441717791411044],\"85\":[312.32716049382714,60.93004115226338],\"86\":[222.0487012987013,9.49025974025974],\"87\":[50.911458333333336,14.145833333333332],\"88\":[376.11466666666666,107.89066666666666],\"89\":[504.859437751004,316.3574297188755],\"9\":[41.57595993322204,251.12353923205342],\"90\":[270.0243902439024,98.93170731707318],\"91\":[307.29756097560977,105.77317073170731],\"92\":[354.2972972972973,115.15724815724816],\"93\":[432.2682926829268,171.69844789356983],\"94\":[20.09090909090909,88.0909090909091],\"96\":[391.9274376417234,66.81859410430839]}},\"id\":\"8167\",\"type\":\"StaticLayoutProvider\"},{\"attributes\":{\"overlay\":{\"id\":\"8390\"}},\"id\":\"8140\",\"type\":\"BoxSelectTool\"},{\"attributes\":{},\"id\":\"8378\",\"type\":\"LinearScale\"},{\"attributes\":{\"coordinates\":null,\"group\":null,\"text\":\"Stimulus from the -30\\u00b0 speaker (Awake state)\"},\"id\":\"8134\",\"type\":\"Title\"},{\"attributes\":{\"coordinates\":null,\"edge_renderer\":{\"id\":\"8161\"},\"group\":null,\"inspection_policy\":{\"id\":\"8202\"},\"layout_provider\":{\"id\":\"8167\"},\"node_renderer\":{\"id\":\"8157\"},\"selection_policy\":{\"id\":\"8200\"}},\"id\":\"8154\",\"type\":\"GraphRenderer\"},{\"attributes\":{},\"id\":\"8200\",\"type\":\"NodesAndLinkedEdges\"},{\"attributes\":{},\"id\":\"8144\",\"type\":\"SaveTool\"},{\"attributes\":{},\"id\":\"8377\",\"type\":\"LinearScale\"},{\"attributes\":{\"line_color\":{\"value\":\"#2b83ba\"},\"line_width\":{\"value\":5}},\"id\":\"8190\",\"type\":\"MultiLine\"},{\"attributes\":{},\"id\":\"8388\",\"type\":\"NoOverlap\"},{\"attributes\":{\"high\":1,\"low\":-1,\"palette\":[\"#c6dbef\",\"#c6dbef\",\"#c6dbef\"]},\"id\":\"8184\",\"type\":\"LinearColorMapper\"},{\"attributes\":{\"end\":424,\"start\":-40},\"id\":\"8132\",\"type\":\"Range1d\"}],\"root_ids\":[\"8133\"]},\"title\":\"Bokeh Application\",\"version\":\"2.4.3\"}};\n  const render_items = [{\"docid\":\"cebf4319-c21f-4c7c-9099-3c98d9a2e3a6\",\"root_ids\":[\"8133\"],\"roots\":{\"8133\":\"583e2909-db9a-42e0-96a3-d8dd4b8f6d9b\"}}];\n  root.Bokeh.embed.embed_items_notebook(docs_json, render_items);\n  }\n  if (root.Bokeh !== undefined) {\n    embed_document(root);\n  } else {\n    let attempts = 0;\n    const timer = setInterval(function(root) {\n      if (root.Bokeh !== undefined) {\n        clearInterval(timer);\n        embed_document(root);\n      } else {\n        attempts++;\n        if (attempts > 100) {\n          clearInterval(timer);\n          console.log(\"Bokeh: ERROR: Unable to run BokehJS code because BokehJS library is missing\");\n        }\n      }\n    }, 10, root)\n  }\n})(window);",
      "application/vnd.bokehjs_exec.v0+json": ""
     },
     "metadata": {
      "application/vnd.bokehjs_exec.v0+json": {
       "id": "8133"
      }
     },
     "output_type": "display_data"
    },
    {
     "ename": "RuntimeError",
     "evalue": "Neither firefox and geckodriver nor a variant of chromium browser and chromedriver are available on system PATH. You can install the former with 'conda install -c conda-forge firefox geckodriver'.",
     "output_type": "error",
     "traceback": [
      "\u001b[1;31m---------------------------------------------------------------------------\u001b[0m",
      "\u001b[1;31mRuntimeError\u001b[0m                              Traceback (most recent call last)",
      "\u001b[1;32md:\\Marija\\noise correlation\\LMU_neuroscience\\network_graph.ipynb Cell 38\u001b[0m in \u001b[0;36m<cell line: 10>\u001b[1;34m()\u001b[0m\n\u001b[0;32m     <a href='vscode-notebook-cell:/d%3A/Marija/noise%20correlation/LMU_neuroscience/network_graph.ipynb#X52sZmlsZQ%3D%3D?line=62'>63</a>\u001b[0m     df_corr_aw_pos \u001b[39m=\u001b[39m df_aw_pos\u001b[39m.\u001b[39mcorr()\u001b[39m.\u001b[39mdropna(how\u001b[39m=\u001b[39m\u001b[39m'\u001b[39m\u001b[39mall\u001b[39m\u001b[39m'\u001b[39m, axis\u001b[39m=\u001b[39m\u001b[39m1\u001b[39m)\u001b[39m.\u001b[39mdropna(how\u001b[39m=\u001b[39m\u001b[39m'\u001b[39m\u001b[39mall\u001b[39m\u001b[39m'\u001b[39m, axis\u001b[39m=\u001b[39m\u001b[39m0\u001b[39m)\n\u001b[0;32m     <a href='vscode-notebook-cell:/d%3A/Marija/noise%20correlation/LMU_neuroscience/network_graph.ipynb#X52sZmlsZQ%3D%3D?line=64'>65</a>\u001b[0m     links \u001b[39m=\u001b[39m form_links(df_corr_aw, df_aw_pos, tune_aw)\n\u001b[1;32m---> <a href='vscode-notebook-cell:/d%3A/Marija/noise%20correlation/LMU_neuroscience/network_graph.ipynb#X52sZmlsZQ%3D%3D?line=65'>66</a>\u001b[0m     plot_network_graph(links)\n\u001b[0;32m     <a href='vscode-notebook-cell:/d%3A/Marija/noise%20correlation/LMU_neuroscience/network_graph.ipynb#X52sZmlsZQ%3D%3D?line=67'>68</a>\u001b[0m     \u001b[39mbreak\u001b[39;00m\n\u001b[0;32m     <a href='vscode-notebook-cell:/d%3A/Marija/noise%20correlation/LMU_neuroscience/network_graph.ipynb#X52sZmlsZQ%3D%3D?line=68'>69</a>\u001b[0m \u001b[39mbreak\u001b[39;00m\n",
      "\u001b[1;32md:\\Marija\\noise correlation\\LMU_neuroscience\\network_graph.ipynb Cell 38\u001b[0m in \u001b[0;36mplot_network_graph\u001b[1;34m(links)\u001b[0m\n\u001b[0;32m      <a href='vscode-notebook-cell:/d%3A/Marija/noise%20correlation/LMU_neuroscience/network_graph.ipynb#X52sZmlsZQ%3D%3D?line=5'>6</a>\u001b[0m G \u001b[39m=\u001b[39m remove_edges(G, threshold)\n\u001b[0;32m      <a href='vscode-notebook-cell:/d%3A/Marija/noise%20correlation/LMU_neuroscience/network_graph.ipynb#X52sZmlsZQ%3D%3D?line=6'>7</a>\u001b[0m output_notebook()\n\u001b[1;32m----> <a href='vscode-notebook-cell:/d%3A/Marija/noise%20correlation/LMU_neuroscience/network_graph.ipynb#X52sZmlsZQ%3D%3D?line=7'>8</a>\u001b[0m plot_graph(attr_dict_x, attr_dict_y, G, edge_trace, size_by_this_attribute, color_by_this_attribute, HOVER_TOOLTIPS)\n",
      "\u001b[1;32md:\\Marija\\noise correlation\\LMU_neuroscience\\network_graph.ipynb Cell 38\u001b[0m in \u001b[0;36mplot_graph\u001b[1;34m(attr_dict_x, attr_dict_y, G, edge_trace, size_by_this_attribute, tunes, HOVER_TOOLTIPS)\u001b[0m\n\u001b[0;32m     <a href='vscode-notebook-cell:/d%3A/Marija/noise%20correlation/LMU_neuroscience/network_graph.ipynb#X52sZmlsZQ%3D%3D?line=44'>45</a>\u001b[0m plot\u001b[39m.\u001b[39madd_layout(color_bar, \u001b[39m'\u001b[39m\u001b[39mright\u001b[39m\u001b[39m'\u001b[39m)\n\u001b[0;32m     <a href='vscode-notebook-cell:/d%3A/Marija/noise%20correlation/LMU_neuroscience/network_graph.ipynb#X52sZmlsZQ%3D%3D?line=46'>47</a>\u001b[0m show(plot)\n\u001b[1;32m---> <a href='vscode-notebook-cell:/d%3A/Marija/noise%20correlation/LMU_neuroscience/network_graph.ipynb#X52sZmlsZQ%3D%3D?line=47'>48</a>\u001b[0m export_svg(plot, filename\u001b[39m=\u001b[39;49m\u001b[39m\"\u001b[39;49m\u001b[39mreg1_sp2_sp3_an.svg\u001b[39;49m\u001b[39m\"\u001b[39;49m)\n",
      "File \u001b[1;32mc:\\Users\\m.nedeljkovic\\AppData\\Local\\Programs\\Python\\Python310\\lib\\site-packages\\bokeh\\io\\export.py:157\u001b[0m, in \u001b[0;36mexport_svg\u001b[1;34m(obj, filename, width, height, webdriver, timeout)\u001b[0m\n\u001b[0;32m    124\u001b[0m \u001b[39mdef\u001b[39;00m \u001b[39mexport_svg\u001b[39m(obj: LayoutDOM \u001b[39m|\u001b[39m Document, \u001b[39m*\u001b[39m, filename: PathLike \u001b[39m|\u001b[39m \u001b[39mNone\u001b[39;00m \u001b[39m=\u001b[39m \u001b[39mNone\u001b[39;00m, width: \u001b[39mint\u001b[39m \u001b[39m|\u001b[39m \u001b[39mNone\u001b[39;00m \u001b[39m=\u001b[39m \u001b[39mNone\u001b[39;00m,\n\u001b[0;32m    125\u001b[0m         height: \u001b[39mint\u001b[39m \u001b[39m|\u001b[39m \u001b[39mNone\u001b[39;00m \u001b[39m=\u001b[39m \u001b[39mNone\u001b[39;00m, webdriver: WebDriver \u001b[39m|\u001b[39m \u001b[39mNone\u001b[39;00m \u001b[39m=\u001b[39m \u001b[39mNone\u001b[39;00m, timeout: \u001b[39mint\u001b[39m \u001b[39m=\u001b[39m \u001b[39m5\u001b[39m) \u001b[39m-\u001b[39m\u001b[39m>\u001b[39m List[\u001b[39mstr\u001b[39m]:\n\u001b[0;32m    126\u001b[0m     \u001b[39m''' Export a layout as SVG file or a document as a set of SVG files.\u001b[39;00m\n\u001b[0;32m    127\u001b[0m \n\u001b[0;32m    128\u001b[0m \u001b[39m    If the filename is not given, it is derived from the script name\u001b[39;00m\n\u001b[1;32m   (...)\u001b[0m\n\u001b[0;32m    155\u001b[0m \n\u001b[0;32m    156\u001b[0m \u001b[39m    '''\u001b[39;00m\n\u001b[1;32m--> 157\u001b[0m     svgs \u001b[39m=\u001b[39m get_svg(obj, width\u001b[39m=\u001b[39;49mwidth, height\u001b[39m=\u001b[39;49mheight, driver\u001b[39m=\u001b[39;49mwebdriver, timeout\u001b[39m=\u001b[39;49mtimeout)\n\u001b[0;32m    158\u001b[0m     \u001b[39mreturn\u001b[39;00m _write_collection(svgs, filename, \u001b[39m\"\u001b[39m\u001b[39msvg\u001b[39m\u001b[39m\"\u001b[39m)\n",
      "File \u001b[1;32mc:\\Users\\m.nedeljkovic\\AppData\\Local\\Programs\\Python\\Python310\\lib\\site-packages\\bokeh\\io\\export.py:257\u001b[0m, in \u001b[0;36mget_svg\u001b[1;34m(obj, driver, timeout, resources, width, height)\u001b[0m\n\u001b[0;32m    254\u001b[0m \u001b[39mwith\u001b[39;00m \u001b[39mopen\u001b[39m(tmp\u001b[39m.\u001b[39mpath, mode\u001b[39m=\u001b[39m\u001b[39m\"\u001b[39m\u001b[39mw\u001b[39m\u001b[39m\"\u001b[39m, encoding\u001b[39m=\u001b[39m\u001b[39m\"\u001b[39m\u001b[39mutf-8\u001b[39m\u001b[39m\"\u001b[39m) \u001b[39mas\u001b[39;00m file:\n\u001b[0;32m    255\u001b[0m     file\u001b[39m.\u001b[39mwrite(html)\n\u001b[1;32m--> 257\u001b[0m web_driver \u001b[39m=\u001b[39m driver \u001b[39mif\u001b[39;00m driver \u001b[39mis\u001b[39;00m \u001b[39mnot\u001b[39;00m \u001b[39mNone\u001b[39;00m \u001b[39melse\u001b[39;00m webdriver_control\u001b[39m.\u001b[39;49mget()\n\u001b[0;32m    258\u001b[0m web_driver\u001b[39m.\u001b[39mget(\u001b[39mf\u001b[39m\u001b[39m\"\u001b[39m\u001b[39mfile://\u001b[39m\u001b[39m{\u001b[39;00mtmp\u001b[39m.\u001b[39mpath\u001b[39m}\u001b[39;00m\u001b[39m\"\u001b[39m)\n\u001b[0;32m    259\u001b[0m wait_until_render_complete(web_driver, timeout)\n",
      "File \u001b[1;32mc:\\Users\\m.nedeljkovic\\AppData\\Local\\Programs\\Python\\Python310\\lib\\site-packages\\bokeh\\io\\webdriver.py:153\u001b[0m, in \u001b[0;36m_WebdriverState.get\u001b[1;34m(self)\u001b[0m\n\u001b[0;32m    151\u001b[0m \u001b[39mif\u001b[39;00m \u001b[39mnot\u001b[39;00m \u001b[39mself\u001b[39m\u001b[39m.\u001b[39mreuse \u001b[39mor\u001b[39;00m \u001b[39mself\u001b[39m\u001b[39m.\u001b[39mcurrent \u001b[39mis\u001b[39;00m \u001b[39mNone\u001b[39;00m:\n\u001b[0;32m    152\u001b[0m     \u001b[39mself\u001b[39m\u001b[39m.\u001b[39mreset()\n\u001b[1;32m--> 153\u001b[0m     \u001b[39mself\u001b[39m\u001b[39m.\u001b[39mcurrent \u001b[39m=\u001b[39m \u001b[39mself\u001b[39;49m\u001b[39m.\u001b[39;49mcreate()\n\u001b[0;32m    154\u001b[0m \u001b[39mreturn\u001b[39;00m \u001b[39mself\u001b[39m\u001b[39m.\u001b[39mcurrent\n",
      "File \u001b[1;32mc:\\Users\\m.nedeljkovic\\AppData\\Local\\Programs\\Python\\Python310\\lib\\site-packages\\bokeh\\io\\webdriver.py:157\u001b[0m, in \u001b[0;36m_WebdriverState.create\u001b[1;34m(self, kind)\u001b[0m\n\u001b[0;32m    156\u001b[0m \u001b[39mdef\u001b[39;00m \u001b[39mcreate\u001b[39m(\u001b[39mself\u001b[39m, kind: DriverKind \u001b[39m|\u001b[39m \u001b[39mNone\u001b[39;00m \u001b[39m=\u001b[39m \u001b[39mNone\u001b[39;00m) \u001b[39m-\u001b[39m\u001b[39m>\u001b[39m WebDriver:\n\u001b[1;32m--> 157\u001b[0m     driver \u001b[39m=\u001b[39m \u001b[39mself\u001b[39;49m\u001b[39m.\u001b[39;49m_create(kind)\n\u001b[0;32m    158\u001b[0m     \u001b[39mself\u001b[39m\u001b[39m.\u001b[39m_drivers\u001b[39m.\u001b[39madd(driver)\n\u001b[0;32m    159\u001b[0m     \u001b[39mreturn\u001b[39;00m driver\n",
      "File \u001b[1;32mc:\\Users\\m.nedeljkovic\\AppData\\Local\\Programs\\Python\\Python310\\lib\\site-packages\\bokeh\\io\\webdriver.py:175\u001b[0m, in \u001b[0;36m_WebdriverState._create\u001b[1;34m(self, kind)\u001b[0m\n\u001b[0;32m    172\u001b[0m         \u001b[39mself\u001b[39m\u001b[39m.\u001b[39mkind \u001b[39m=\u001b[39m \u001b[39m\"\u001b[39m\u001b[39mfirefox\u001b[39m\u001b[39m\"\u001b[39m\n\u001b[0;32m    173\u001b[0m         \u001b[39mreturn\u001b[39;00m driver\n\u001b[1;32m--> 175\u001b[0m     \u001b[39mraise\u001b[39;00m \u001b[39mRuntimeError\u001b[39;00m(\u001b[39m\"\u001b[39m\u001b[39mNeither firefox and geckodriver nor a variant of chromium browser and \u001b[39m\u001b[39m\"\u001b[39m \\\n\u001b[0;32m    176\u001b[0m                        \u001b[39m\"\u001b[39m\u001b[39mchromedriver are available on system PATH. You can install the former \u001b[39m\u001b[39m\"\u001b[39m \\\n\u001b[0;32m    177\u001b[0m                        \u001b[39m\"\u001b[39m\u001b[39mwith \u001b[39m\u001b[39m'\u001b[39m\u001b[39mconda install -c conda-forge firefox geckodriver\u001b[39m\u001b[39m'\u001b[39m\u001b[39m.\u001b[39m\u001b[39m\"\u001b[39m)\n\u001b[0;32m    178\u001b[0m \u001b[39melif\u001b[39;00m driver_kind \u001b[39m==\u001b[39m \u001b[39m\"\u001b[39m\u001b[39mchromium\u001b[39m\u001b[39m\"\u001b[39m:\n\u001b[0;32m    179\u001b[0m     \u001b[39mreturn\u001b[39;00m create_chromium_webdriver()\n",
      "\u001b[1;31mRuntimeError\u001b[0m: Neither firefox and geckodriver nor a variant of chromium browser and chromedriver are available on system PATH. You can install the former with 'conda install -c conda-forge firefox geckodriver'."
     ]
    }
   ],
   "source": [
    "warnings.filterwarnings('ignore')\n",
    "from decorator import decorator\n",
    "from numpy import NaN\n",
    "\n",
    "#lenghts of each trial\n",
    "index = [0, 118, 88, 100, 98, 109, 78, 121, 76, 113, 97, 112, 118]\n",
    "start_an = 0\n",
    "start_aw = 0\n",
    "\n",
    "for trial in range(1,len(index)):\n",
    "    \n",
    "    index, dat_tr, dat_stan, dat_staw, ind_stan, ind_staw = divide_data(index, trial, mat_load, ind_load)\n",
    "    pos_tr = roi_load[index[trial-1] : index[trial]+1, :, :, :]\n",
    "\n",
    "    #choose state\n",
    "    pos_stan = pos_tr[:, :, 0, :]\n",
    "    pos_staw = pos_tr[:, :, 1, :]\n",
    "    \n",
    "    for sesion in range(4):\n",
    "\n",
    "        tune_ses = tune[sesion][:, :, 0]\n",
    "\n",
    "        #choose session\n",
    "        dat_sean = dat_stan[:, sesion, :, :]\n",
    "        dat_seaw = dat_staw[:, sesion, :, :]\n",
    "        pos_sean = pos_stan[:, :, sesion]\n",
    "        pos_seaw = pos_staw[:, :, sesion]\n",
    "        ind_sean = ind_stan[:, sesion, :, :]\n",
    "        ind_seaw = ind_staw[:, sesion, :, :]\n",
    "        tune_an = tune_ses[:, 0]\n",
    "        tune_aw = tune_ses[:, 1]\n",
    "\n",
    "        #make dict to convert to dataframe\n",
    "        dat_df_an, dat_df_aw = make_dict_one_speaker(index, trial, lista[sesion], dat_sean, dat_seaw, 2, ind_sean, ind_seaw)\n",
    "\n",
    "        #exclude the rows/columns which index is not in the other dataframe\n",
    "        df_corr_an, df_corr_aw = exclude_nan(dat_df_an, dat_df_aw)\n",
    "        #df_corr_an, df_corr_aw = dat_df_an.dropna(axis=1, how='all').dropna(axis=0, how='all'), dat_df_aw.dropna(axis=1, how='all').dropna(axis=0, how='all')\n",
    "\n",
    "        tune_an, tune_aw = tune_an[start_an : start_an+len(df_corr_an)], tune_aw[start_aw : start_aw+len(df_corr_aw)]\n",
    "        start_an += len(df_corr_an)\n",
    "        start_aw += len(df_corr_aw)\n",
    "\n",
    "        df_corr_an_pos = pd.DataFrame(index=df_corr_an.index, columns=df_corr_an.columns)\n",
    "        df_corr_aw_pos = pd.DataFrame(index=df_corr_aw.index, columns=df_corr_aw.columns)\n",
    "        \n",
    "        df_corr_an_posx = [x[0] for x in pos_sean]\n",
    "        df_corr_an_posy = [x[1] for x in pos_sean]\n",
    "\n",
    "        df_corr_aw_posx = [x[0] for x in pos_seaw]\n",
    "        df_corr_aw_posy = [x[1] for x in pos_seaw]\n",
    "\n",
    "        df_an_pos = pd.DataFrame()\n",
    "        df_aw_pos = pd.DataFrame()\n",
    "\n",
    "        df_an_pos[0] = df_corr_an_posx\n",
    "        df_an_pos[1] = df_corr_an_posy\n",
    "        df_aw_pos[0] = df_corr_aw_posx\n",
    "        df_aw_pos[1] = df_corr_aw_posy\n",
    "        \n",
    "        #distance correlation\n",
    "        df_corr_an_pos = df_an_pos.corr().dropna(how='all', axis=1).dropna(how='all', axis=0)\n",
    "        df_corr_aw_pos = df_aw_pos.corr().dropna(how='all', axis=1).dropna(how='all', axis=0)\n",
    "        \n",
    "        links = form_links(df_corr_aw, df_aw_pos, tune_aw)\n",
    "        plot_network_graph(links)\n",
    "        \n",
    "        break\n",
    "    break               \n",
    "    "
   ]
  },
  {
   "cell_type": "markdown",
   "metadata": {},
   "source": [
    "##### Graph of the difference"
   ]
  },
  {
   "cell_type": "code",
   "execution_count": null,
   "metadata": {},
   "outputs": [
    {
     "data": {
      "text/html": [
       "<div class=\"bk-root\">\n",
       "        <a href=\"https://bokeh.org\" target=\"_blank\" class=\"bk-logo bk-logo-small bk-logo-notebook\"></a>\n",
       "        <span id=\"78443\">Loading BokehJS ...</span>\n",
       "    </div>\n"
      ]
     },
     "metadata": {},
     "output_type": "display_data"
    },
    {
     "data": {
      "application/javascript": "(function(root) {\n  function now() {\n    return new Date();\n  }\n\n  const force = true;\n\n  if (typeof root._bokeh_onload_callbacks === \"undefined\" || force === true) {\n    root._bokeh_onload_callbacks = [];\n    root._bokeh_is_loading = undefined;\n  }\n\nconst JS_MIME_TYPE = 'application/javascript';\n  const HTML_MIME_TYPE = 'text/html';\n  const EXEC_MIME_TYPE = 'application/vnd.bokehjs_exec.v0+json';\n  const CLASS_NAME = 'output_bokeh rendered_html';\n\n  /**\n   * Render data to the DOM node\n   */\n  function render(props, node) {\n    const script = document.createElement(\"script\");\n    node.appendChild(script);\n  }\n\n  /**\n   * Handle when an output is cleared or removed\n   */\n  function handleClearOutput(event, handle) {\n    const cell = handle.cell;\n\n    const id = cell.output_area._bokeh_element_id;\n    const server_id = cell.output_area._bokeh_server_id;\n    // Clean up Bokeh references\n    if (id != null && id in Bokeh.index) {\n      Bokeh.index[id].model.document.clear();\n      delete Bokeh.index[id];\n    }\n\n    if (server_id !== undefined) {\n      // Clean up Bokeh references\n      const cmd_clean = \"from bokeh.io.state import curstate; print(curstate().uuid_to_server['\" + server_id + \"'].get_sessions()[0].document.roots[0]._id)\";\n      cell.notebook.kernel.execute(cmd_clean, {\n        iopub: {\n          output: function(msg) {\n            const id = msg.content.text.trim();\n            if (id in Bokeh.index) {\n              Bokeh.index[id].model.document.clear();\n              delete Bokeh.index[id];\n            }\n          }\n        }\n      });\n      // Destroy server and session\n      const cmd_destroy = \"import bokeh.io.notebook as ion; ion.destroy_server('\" + server_id + \"')\";\n      cell.notebook.kernel.execute(cmd_destroy);\n    }\n  }\n\n  /**\n   * Handle when a new output is added\n   */\n  function handleAddOutput(event, handle) {\n    const output_area = handle.output_area;\n    const output = handle.output;\n\n    // limit handleAddOutput to display_data with EXEC_MIME_TYPE content only\n    if ((output.output_type != \"display_data\") || (!Object.prototype.hasOwnProperty.call(output.data, EXEC_MIME_TYPE))) {\n      return\n    }\n\n    const toinsert = output_area.element.find(\".\" + CLASS_NAME.split(' ')[0]);\n\n    if (output.metadata[EXEC_MIME_TYPE][\"id\"] !== undefined) {\n      toinsert[toinsert.length - 1].firstChild.textContent = output.data[JS_MIME_TYPE];\n      // store reference to embed id on output_area\n      output_area._bokeh_element_id = output.metadata[EXEC_MIME_TYPE][\"id\"];\n    }\n    if (output.metadata[EXEC_MIME_TYPE][\"server_id\"] !== undefined) {\n      const bk_div = document.createElement(\"div\");\n      bk_div.innerHTML = output.data[HTML_MIME_TYPE];\n      const script_attrs = bk_div.children[0].attributes;\n      for (let i = 0; i < script_attrs.length; i++) {\n        toinsert[toinsert.length - 1].firstChild.setAttribute(script_attrs[i].name, script_attrs[i].value);\n        toinsert[toinsert.length - 1].firstChild.textContent = bk_div.children[0].textContent\n      }\n      // store reference to server id on output_area\n      output_area._bokeh_server_id = output.metadata[EXEC_MIME_TYPE][\"server_id\"];\n    }\n  }\n\n  function register_renderer(events, OutputArea) {\n\n    function append_mime(data, metadata, element) {\n      // create a DOM node to render to\n      const toinsert = this.create_output_subarea(\n        metadata,\n        CLASS_NAME,\n        EXEC_MIME_TYPE\n      );\n      this.keyboard_manager.register_events(toinsert);\n      // Render to node\n      const props = {data: data, metadata: metadata[EXEC_MIME_TYPE]};\n      render(props, toinsert[toinsert.length - 1]);\n      element.append(toinsert);\n      return toinsert\n    }\n\n    /* Handle when an output is cleared or removed */\n    events.on('clear_output.CodeCell', handleClearOutput);\n    events.on('delete.Cell', handleClearOutput);\n\n    /* Handle when a new output is added */\n    events.on('output_added.OutputArea', handleAddOutput);\n\n    /**\n     * Register the mime type and append_mime function with output_area\n     */\n    OutputArea.prototype.register_mime_type(EXEC_MIME_TYPE, append_mime, {\n      /* Is output safe? */\n      safe: true,\n      /* Index of renderer in `output_area.display_order` */\n      index: 0\n    });\n  }\n\n  // register the mime type if in Jupyter Notebook environment and previously unregistered\n  if (root.Jupyter !== undefined) {\n    const events = require('base/js/events');\n    const OutputArea = require('notebook/js/outputarea').OutputArea;\n\n    if (OutputArea.prototype.mime_types().indexOf(EXEC_MIME_TYPE) == -1) {\n      register_renderer(events, OutputArea);\n    }\n  }\n  if (typeof (root._bokeh_timeout) === \"undefined\" || force === true) {\n    root._bokeh_timeout = Date.now() + 5000;\n    root._bokeh_failed_load = false;\n  }\n\n  const NB_LOAD_WARNING = {'data': {'text/html':\n     \"<div style='background-color: #fdd'>\\n\"+\n     \"<p>\\n\"+\n     \"BokehJS does not appear to have successfully loaded. If loading BokehJS from CDN, this \\n\"+\n     \"may be due to a slow or bad network connection. Possible fixes:\\n\"+\n     \"</p>\\n\"+\n     \"<ul>\\n\"+\n     \"<li>re-rerun `output_notebook()` to attempt to load from CDN again, or</li>\\n\"+\n     \"<li>use INLINE resources instead, as so:</li>\\n\"+\n     \"</ul>\\n\"+\n     \"<code>\\n\"+\n     \"from bokeh.resources import INLINE\\n\"+\n     \"output_notebook(resources=INLINE)\\n\"+\n     \"</code>\\n\"+\n     \"</div>\"}};\n\n  function display_loaded() {\n    const el = document.getElementById(\"78443\");\n    if (el != null) {\n      el.textContent = \"BokehJS is loading...\";\n    }\n    if (root.Bokeh !== undefined) {\n      if (el != null) {\n        el.textContent = \"BokehJS \" + root.Bokeh.version + \" successfully loaded.\";\n      }\n    } else if (Date.now() < root._bokeh_timeout) {\n      setTimeout(display_loaded, 100)\n    }\n  }\n\n  function run_callbacks() {\n    try {\n      root._bokeh_onload_callbacks.forEach(function(callback) {\n        if (callback != null)\n          callback();\n      });\n    } finally {\n      delete root._bokeh_onload_callbacks\n    }\n    console.debug(\"Bokeh: all callbacks have finished\");\n  }\n\n  function load_libs(css_urls, js_urls, callback) {\n    if (css_urls == null) css_urls = [];\n    if (js_urls == null) js_urls = [];\n\n    root._bokeh_onload_callbacks.push(callback);\n    if (root._bokeh_is_loading > 0) {\n      console.debug(\"Bokeh: BokehJS is being loaded, scheduling callback at\", now());\n      return null;\n    }\n    if (js_urls == null || js_urls.length === 0) {\n      run_callbacks();\n      return null;\n    }\n    console.debug(\"Bokeh: BokehJS not loaded, scheduling load and callback at\", now());\n    root._bokeh_is_loading = css_urls.length + js_urls.length;\n\n    function on_load() {\n      root._bokeh_is_loading--;\n      if (root._bokeh_is_loading === 0) {\n        console.debug(\"Bokeh: all BokehJS libraries/stylesheets loaded\");\n        run_callbacks()\n      }\n    }\n\n    function on_error(url) {\n      console.error(\"failed to load \" + url);\n    }\n\n    for (let i = 0; i < css_urls.length; i++) {\n      const url = css_urls[i];\n      const element = document.createElement(\"link\");\n      element.onload = on_load;\n      element.onerror = on_error.bind(null, url);\n      element.rel = \"stylesheet\";\n      element.type = \"text/css\";\n      element.href = url;\n      console.debug(\"Bokeh: injecting link tag for BokehJS stylesheet: \", url);\n      document.body.appendChild(element);\n    }\n\n    for (let i = 0; i < js_urls.length; i++) {\n      const url = js_urls[i];\n      const element = document.createElement('script');\n      element.onload = on_load;\n      element.onerror = on_error.bind(null, url);\n      element.async = false;\n      element.src = url;\n      console.debug(\"Bokeh: injecting script tag for BokehJS library: \", url);\n      document.head.appendChild(element);\n    }\n  };\n\n  function inject_raw_css(css) {\n    const element = document.createElement(\"style\");\n    element.appendChild(document.createTextNode(css));\n    document.body.appendChild(element);\n  }\n\n  const js_urls = [\"https://cdn.bokeh.org/bokeh/release/bokeh-2.4.3.min.js\", \"https://cdn.bokeh.org/bokeh/release/bokeh-gl-2.4.3.min.js\", \"https://cdn.bokeh.org/bokeh/release/bokeh-widgets-2.4.3.min.js\", \"https://cdn.bokeh.org/bokeh/release/bokeh-tables-2.4.3.min.js\", \"https://cdn.bokeh.org/bokeh/release/bokeh-mathjax-2.4.3.min.js\", \"https://unpkg.com/@holoviz/panel@0.13.1/dist/panel.min.js\"];\n  const css_urls = [];\n\n  const inline_js = [    function(Bokeh) {\n      Bokeh.set_log_level(\"info\");\n    },\nfunction(Bokeh) {\n    }\n  ];\n\n  function run_inline_js() {\n    if (root.Bokeh !== undefined || force === true) {\n          for (let i = 0; i < inline_js.length; i++) {\n      inline_js[i].call(root, root.Bokeh);\n    }\nif (force === true) {\n        display_loaded();\n      }} else if (Date.now() < root._bokeh_timeout) {\n      setTimeout(run_inline_js, 100);\n    } else if (!root._bokeh_failed_load) {\n      console.log(\"Bokeh: BokehJS failed to load within specified timeout.\");\n      root._bokeh_failed_load = true;\n    } else if (force !== true) {\n      const cell = $(document.getElementById(\"78443\")).parents('.cell').data().cell;\n      cell.output_area.append_execute_result(NB_LOAD_WARNING)\n    }\n  }\n\n  if (root._bokeh_is_loading === 0) {\n    console.debug(\"Bokeh: BokehJS loaded, going straight to plotting\");\n    run_inline_js();\n  } else {\n    load_libs(css_urls, js_urls, function() {\n      console.debug(\"Bokeh: BokehJS plotting callback run at\", now());\n      run_inline_js();\n    });\n  }\n}(window));",
      "application/vnd.bokehjs_load.v0+json": ""
     },
     "metadata": {},
     "output_type": "display_data"
    },
    {
     "name": "stderr",
     "output_type": "stream",
     "text": [
      "ERROR:bokeh.core.validation.check:E-1001 (BAD_COLUMN_NAME): Glyph refers to nonexistent column name. This could either be due to a misspelling or typo, or due to an expected column being missing. : key \"line_color\" value \"value\" [renderer: GlyphRenderer(id='78472', ...)]\n"
     ]
    },
    {
     "data": {
      "text/html": [
       "\n",
       "  <div class=\"bk-root\" id=\"334fc104-01a7-4c94-9a1a-b75b426f6ba5\" data-root-id=\"78446\"></div>\n"
      ]
     },
     "metadata": {},
     "output_type": "display_data"
    },
    {
     "data": {
      "application/javascript": "(function(root) {\n  function embed_document(root) {\n  const docs_json = {\"2d7405f5-441f-42ba-9745-30df27c06690\":{\"defs\":[{\"extends\":null,\"module\":null,\"name\":\"ReactiveHTML1\",\"overrides\":[],\"properties\":[]},{\"extends\":null,\"module\":null,\"name\":\"FlexBox1\",\"overrides\":[],\"properties\":[{\"default\":\"flex-start\",\"kind\":null,\"name\":\"align_content\"},{\"default\":\"flex-start\",\"kind\":null,\"name\":\"align_items\"},{\"default\":\"row\",\"kind\":null,\"name\":\"flex_direction\"},{\"default\":\"wrap\",\"kind\":null,\"name\":\"flex_wrap\"},{\"default\":\"flex-start\",\"kind\":null,\"name\":\"justify_content\"}]},{\"extends\":null,\"module\":null,\"name\":\"GridStack1\",\"overrides\":[],\"properties\":[{\"default\":\"warn\",\"kind\":null,\"name\":\"mode\"},{\"default\":null,\"kind\":null,\"name\":\"ncols\"},{\"default\":null,\"kind\":null,\"name\":\"nrows\"},{\"default\":true,\"kind\":null,\"name\":\"allow_resize\"},{\"default\":true,\"kind\":null,\"name\":\"allow_drag\"},{\"default\":[],\"kind\":null,\"name\":\"state\"}]},{\"extends\":null,\"module\":null,\"name\":\"click1\",\"overrides\":[],\"properties\":[{\"default\":\"\",\"kind\":null,\"name\":\"terminal_output\"},{\"default\":\"\",\"kind\":null,\"name\":\"debug_name\"},{\"default\":0,\"kind\":null,\"name\":\"clears\"}]},{\"extends\":null,\"module\":null,\"name\":\"NotificationAreaBase1\",\"overrides\":[],\"properties\":[{\"default\":\"bottom-right\",\"kind\":null,\"name\":\"position\"},{\"default\":0,\"kind\":null,\"name\":\"_clear\"}]},{\"extends\":null,\"module\":null,\"name\":\"NotificationArea1\",\"overrides\":[],\"properties\":[{\"default\":[],\"kind\":null,\"name\":\"notifications\"},{\"default\":\"bottom-right\",\"kind\":null,\"name\":\"position\"},{\"default\":0,\"kind\":null,\"name\":\"_clear\"},{\"default\":[{\"background\":\"#ffc107\",\"icon\":{\"className\":\"fas fa-exclamation-triangle\",\"color\":\"white\",\"tagName\":\"i\"},\"type\":\"warning\"},{\"background\":\"#007bff\",\"icon\":{\"className\":\"fas fa-info-circle\",\"color\":\"white\",\"tagName\":\"i\"},\"type\":\"info\"}],\"kind\":null,\"name\":\"types\"}]},{\"extends\":null,\"module\":null,\"name\":\"Notification\",\"overrides\":[],\"properties\":[{\"default\":null,\"kind\":null,\"name\":\"background\"},{\"default\":3000,\"kind\":null,\"name\":\"duration\"},{\"default\":null,\"kind\":null,\"name\":\"icon\"},{\"default\":\"\",\"kind\":null,\"name\":\"message\"},{\"default\":null,\"kind\":null,\"name\":\"notification_type\"},{\"default\":false,\"kind\":null,\"name\":\"_destroyed\"}]},{\"extends\":null,\"module\":null,\"name\":\"TemplateActions1\",\"overrides\":[],\"properties\":[{\"default\":0,\"kind\":null,\"name\":\"open_modal\"},{\"default\":0,\"kind\":null,\"name\":\"close_modal\"}]},{\"extends\":null,\"module\":null,\"name\":\"MaterialTemplateActions1\",\"overrides\":[],\"properties\":[{\"default\":0,\"kind\":null,\"name\":\"open_modal\"},{\"default\":0,\"kind\":null,\"name\":\"close_modal\"}]}],\"roots\":{\"references\":[{\"attributes\":{\"height\":720,\"renderers\":[{\"id\":\"78465\"}],\"right\":[{\"id\":\"78514\"}],\"title\":{\"id\":\"80009\"},\"toolbar\":{\"id\":\"78457\"},\"width\":1000,\"x_range\":{\"id\":\"78444\"},\"x_scale\":{\"id\":\"80007\"},\"y_range\":{\"id\":\"78445\"},\"y_scale\":{\"id\":\"80008\"}},\"id\":\"78446\",\"type\":\"Plot\"},{\"attributes\":{\"overlay\":{\"id\":\"80021\"}},\"id\":\"78456\",\"type\":\"BoxZoomTool\"},{\"attributes\":{\"color_mapper\":{\"id\":\"78494\"},\"coordinates\":null,\"group\":null,\"major_label_policy\":{\"id\":\"80019\"},\"width\":8},\"id\":\"78514\",\"type\":\"ColorBar\"},{\"attributes\":{\"callback\":null,\"tooltips\":[[\"index\",\"$index\"],[\"x\",\"@x0\"],[\"y\",\"@y0\"],[\"value\",\"@edge_value\"]]},\"id\":\"78449\",\"type\":\"HoverTool\"},{\"attributes\":{\"bottom_units\":\"screen\",\"coordinates\":null,\"fill_alpha\":0.5,\"fill_color\":\"lightgrey\",\"group\":null,\"left_units\":\"screen\",\"level\":\"overlay\",\"line_alpha\":1.0,\"line_color\":\"black\",\"line_dash\":[4,4],\"line_width\":2,\"right_units\":\"screen\",\"syncable\":false,\"top_units\":\"screen\"},\"id\":\"80021\",\"type\":\"BoxAnnotation\"},{\"attributes\":{\"tools\":[{\"id\":\"78449\"},{\"id\":\"78450\"},{\"id\":\"78451\"},{\"id\":\"78452\"},{\"id\":\"78453\"},{\"id\":\"78454\"},{\"id\":\"78455\"},{\"id\":\"78456\"}]},\"id\":\"78457\",\"type\":\"Toolbar\"},{\"attributes\":{\"high\":2,\"low\":-2,\"palette\":[\"#30123b\",\"#311542\",\"#32184a\",\"#341b51\",\"#351e58\",\"#36215f\",\"#372365\",\"#38266c\",\"#392972\",\"#3a2c79\",\"#3b2f7f\",\"#3c3285\",\"#3c358b\",\"#3d3791\",\"#3e3a96\",\"#3f3d9c\",\"#4040a1\",\"#4043a6\",\"#4145ab\",\"#4148b0\",\"#424bb5\",\"#434eba\",\"#4350be\",\"#4353c2\",\"#4456c7\",\"#4458cb\",\"#455bce\",\"#455ed2\",\"#4560d6\",\"#4563d9\",\"#4666dd\",\"#4668e0\",\"#466be3\",\"#466de6\",\"#4670e8\",\"#4673eb\",\"#4675ed\",\"#4678f0\",\"#467af2\",\"#467df4\",\"#467ff6\",\"#4682f8\",\"#4584f9\",\"#4587fb\",\"#4589fc\",\"#448cfd\",\"#438efd\",\"#4291fe\",\"#4193fe\",\"#4096fe\",\"#3f98fe\",\"#3e9bfe\",\"#3c9dfd\",\"#3ba0fc\",\"#39a2fc\",\"#38a5fb\",\"#36a8f9\",\"#34aaf8\",\"#33acf6\",\"#31aff5\",\"#2fb1f3\",\"#2db4f1\",\"#2bb6ef\",\"#2ab9ed\",\"#28bbeb\",\"#26bde9\",\"#25c0e6\",\"#23c2e4\",\"#21c4e1\",\"#20c6df\",\"#1ec9dc\",\"#1dcbda\",\"#1ccdd7\",\"#1bcfd4\",\"#1ad1d2\",\"#19d3cf\",\"#18d5cc\",\"#18d7ca\",\"#17d9c7\",\"#17dac4\",\"#17dcc2\",\"#17debf\",\"#18e0bd\",\"#18e1ba\",\"#19e3b8\",\"#1ae4b6\",\"#1be5b4\",\"#1de7b1\",\"#1ee8af\",\"#20e9ac\",\"#22eba9\",\"#24eca6\",\"#27eda3\",\"#29eea0\",\"#2cef9d\",\"#2ff09a\",\"#32f197\",\"#35f394\",\"#38f491\",\"#3bf48d\",\"#3ff58a\",\"#42f687\",\"#46f783\",\"#4af880\",\"#4df97c\",\"#51f979\",\"#55fa76\",\"#59fb72\",\"#5dfb6f\",\"#61fc6c\",\"#65fc68\",\"#69fd65\",\"#6dfd62\",\"#71fd5f\",\"#74fe5c\",\"#78fe59\",\"#7cfe56\",\"#80fe53\",\"#84fe50\",\"#87fe4d\",\"#8bfe4b\",\"#8efe48\",\"#92fe46\",\"#95fe44\",\"#98fe42\",\"#9bfd40\",\"#9efd3e\",\"#a1fc3d\",\"#a4fc3b\",\"#a6fb3a\",\"#a9fb39\",\"#acfa37\",\"#aef937\",\"#b1f836\",\"#b3f835\",\"#b6f735\",\"#b9f534\",\"#bbf434\",\"#bef334\",\"#c0f233\",\"#c3f133\",\"#c5ef33\",\"#c8ee33\",\"#caed33\",\"#cdeb34\",\"#cfea34\",\"#d1e834\",\"#d4e735\",\"#d6e535\",\"#d8e335\",\"#dae236\",\"#dde036\",\"#dfde36\",\"#e1dc37\",\"#e3da37\",\"#e5d838\",\"#e7d738\",\"#e8d538\",\"#ead339\",\"#ecd139\",\"#edcf39\",\"#efcd39\",\"#f0cb3a\",\"#f2c83a\",\"#f3c63a\",\"#f4c43a\",\"#f6c23a\",\"#f7c039\",\"#f8be39\",\"#f9bc39\",\"#f9ba38\",\"#fab737\",\"#fbb537\",\"#fbb336\",\"#fcb035\",\"#fcae34\",\"#fdab33\",\"#fda932\",\"#fda631\",\"#fda330\",\"#fea12f\",\"#fe9e2e\",\"#fe9b2d\",\"#fe982c\",\"#fd952b\",\"#fd9229\",\"#fd8f28\",\"#fd8c27\",\"#fc8926\",\"#fc8624\",\"#fb8323\",\"#fb8022\",\"#fa7d20\",\"#fa7a1f\",\"#f9771e\",\"#f8741c\",\"#f7711b\",\"#f76e1a\",\"#f66b18\",\"#f56817\",\"#f46516\",\"#f36315\",\"#f26014\",\"#f15d13\",\"#ef5a11\",\"#ee5810\",\"#ed550f\",\"#ec520e\",\"#ea500d\",\"#e94d0d\",\"#e84b0c\",\"#e6490b\",\"#e5460a\",\"#e3440a\",\"#e24209\",\"#e04008\",\"#de3e08\",\"#dd3c07\",\"#db3a07\",\"#d93806\",\"#d73606\",\"#d63405\",\"#d43205\",\"#d23005\",\"#d02f04\",\"#ce2d04\",\"#cb2b03\",\"#c92903\",\"#c72803\",\"#c52602\",\"#c32402\",\"#c02302\",\"#be2102\",\"#bb1f01\",\"#b91e01\",\"#b61c01\",\"#b41b01\",\"#b11901\",\"#ae1801\",\"#ac1601\",\"#a91501\",\"#a61401\",\"#a31201\",\"#a01101\",\"#9d1001\",\"#9a0e01\",\"#970d01\",\"#940c01\",\"#910b01\",\"#8e0a01\",\"#8b0901\",\"#870801\",\"#840701\",\"#810602\",\"#7d0502\",\"#7a0402\"]},\"id\":\"78494\",\"type\":\"LinearColorMapper\"},{\"attributes\":{},\"id\":\"80023\",\"type\":\"Selection\"},{\"attributes\":{\"size\":{\"value\":15}},\"id\":\"78479\",\"type\":\"Circle\"},{\"attributes\":{\"line_color\":{\"value\":\"#2b83ba\"},\"line_width\":{\"value\":5}},\"id\":\"78500\",\"type\":\"MultiLine\"},{\"attributes\":{},\"id\":\"80007\",\"type\":\"LinearScale\"},{\"attributes\":{\"line_color\":{\"value\":\"#2b83ba\"},\"line_width\":{\"value\":5}},\"id\":\"78505\",\"type\":\"MultiLine\"},{\"attributes\":{},\"id\":\"80025\",\"type\":\"Selection\"},{\"attributes\":{},\"id\":\"78510\",\"type\":\"NodesAndLinkedEdges\"},{\"attributes\":{\"source\":{\"id\":\"78467\"}},\"id\":\"78469\",\"type\":\"CDSView\"},{\"attributes\":{\"data\":{\"adjusted_node_size\":[10,10,10,10,10,10,10,10,10,10,10,10,10,10,10,10,10,10,10,10,10,10,10,10,10,10,10,10,10,10,10,10,10,10,10,10,10,10,10,10,10,10,10,10,10,10,10,10,10,10,10,10,10,10,10,10,10,10,10,10,10,10,10,10,10,10,10,10,10,10,10,10,10,10,10,10,10,10,10,10,10,10,10,10],\"index\":[0,1,2,3,4,5,6,7,8,9,10,11,12,13,15,16,17,18,19,20,21,22,23,24,25,26,27,28,29,30,31,32,33,34,35,36,37,38,39,40,41,42,43,44,46,47,48,49,50,51,52,53,54,55,56,57,58,59,60,61,62,63,64,67,68,69,71,73,76,77,81,83,84,85,86,87,88,89,90,91,92,93,94,96],\"x0\":[54.39736842105263,337.909604519774,67.87603305785125,125.56695156695157,136.9138655462185,143.43716814159293,156.324200913242,262.8642447418738,391.0422885572139,41.57595993322204,444.88911704312113,44.58502024291498,182.60814249363867,277.3825665859564,135.64429530201343,158.94418604651162,13.463276836158192,35.275938189845476,228.41489361702128,398.3361581920904,205.3252647503782,236.46356589147288,179.2860696517413,212.94698795180722,264.75141242937855,223.63718820861678,315.4032258064516,269.8222222222222,287.26647564469914,133.6449864498645,295.8816326530612,288.18341708542715,192.69270833333334,277.8116343490305,361.0078947368421,277.0453563714903,335.12466124661245,136.30113636363637,169.6228710462287,226.1730279898219,463.36422413793105,154.20359281437126,105.8021505376344,216.5279805352798,115.66019417475728,413.1306930693069,188.66666666666666,461.2454991816694,266.2478448275862,353.0590717299578,386.77464788732397,338.057268722467,60.65207877461707,316.1798245614035,143.53484602917342,317.0409482758621,353.5274074074074,384.1382636655949,376.6053412462908,408.1223628691983,113.34615384615384,286.77358490566036,308.982800982801,440.4650655021834,190.15643564356435,429.5529715762274,321.32346723044395,100.05790645879733,482.1356783919598,36.65013054830287,430.8463541666667,490.7551724137931,93.51124744376278,312.32716049382714,222.0487012987013,50.911458333333336,376.11466666666666,504.859437751004,270.0243902439024,307.29756097560977,354.2972972972973,432.2682926829268,20.09090909090909,391.9274376417234],\"y0\":[301.5921052631579,266.6195856873823,369.3057851239669,279.70940170940173,391.3802521008403,419.3628318584071,296.2671232876712,373.49330783938814,251.0721393034826,251.12353923205342,411.2977412731006,332.834008097166,265.9185750636132,312.81598062954,255.1834451901566,88.0015503875969,464.1280602636535,295.74834437086093,267.7260638297872,374.0960451977401,325.1543116490166,306.31472868217054,406.93532338308455,291.8,447.56779661016947,366.31972789115645,190.52620967741936,420.1822222222222,202.9484240687679,22.50135501355014,414.64489795918365,350.60804020100505,192.78645833333334,248.73961218836564,375.5210526315789,186.55939524838013,400.9430894308943,221.23011363636363,120.37226277372262,166.06106870229007,452.85991379310343,165.28542914171658,53.78064516129032,143.61557177615572,21.15857605177994,200.26138613861386,158.93427230046947,282.6546644844517,162.625,408.1645569620253,343.11737089201876,452.09251101321587,198.9671772428884,439.0570175438597,146.0810372771475,466.3685344827586,182.93185185185186,399.2604501607717,265.9792284866469,286.47679324894517,135.44230769230768,288.54716981132077,158.74447174447175,353.99344978165936,63.118811881188115,371.5374677002584,138.50105708245243,172.4476614699332,485.84422110552765,-0.8642297650130555,331.4713541666667,243.18965517241378,33.441717791411044,60.93004115226338,9.49025974025974,14.145833333333332,107.89066666666666,316.3574297188755,98.93170731707318,105.77317073170731,115.15724815724816,171.69844789356983,88.0909090909091,66.81859410430839]},\"selected\":{\"id\":\"80023\"},\"selection_policy\":{\"id\":\"80022\"}},\"id\":\"78467\",\"type\":\"ColumnDataSource\"},{\"attributes\":{\"overlay\":{\"id\":\"80020\"}},\"id\":\"78451\",\"type\":\"BoxSelectTool\"},{\"attributes\":{\"coordinates\":null,\"data_source\":{\"id\":\"78467\"},\"glyph\":{\"id\":\"78479\"},\"group\":null,\"hover_glyph\":{\"id\":\"78489\"},\"selection_glyph\":{\"id\":\"78484\"},\"view\":{\"id\":\"78469\"}},\"id\":\"78468\",\"type\":\"GlyphRenderer\"},{\"attributes\":{},\"id\":\"78452\",\"type\":\"WheelZoomTool\"},{\"attributes\":{\"end\":424,\"start\":-40},\"id\":\"78445\",\"type\":\"Range1d\"},{\"attributes\":{},\"id\":\"78454\",\"type\":\"PanTool\"},{\"attributes\":{},\"id\":\"80008\",\"type\":\"LinearScale\"},{\"attributes\":{},\"id\":\"80019\",\"type\":\"NoOverlap\"},{\"attributes\":{},\"id\":\"80024\",\"type\":\"UnionRenderers\"},{\"attributes\":{\"coordinates\":null,\"data_source\":{\"id\":\"78471\"},\"glyph\":{\"id\":\"78495\"},\"group\":null,\"hover_glyph\":{\"id\":\"78505\"},\"selection_glyph\":{\"id\":\"78500\"},\"view\":{\"id\":\"78473\"}},\"id\":\"78472\",\"type\":\"GlyphRenderer\"},{\"attributes\":{\"source\":{\"id\":\"78471\"}},\"id\":\"78473\",\"type\":\"CDSView\"},{\"attributes\":{\"coordinates\":null,\"group\":null},\"id\":\"80009\",\"type\":\"Title\"},{\"attributes\":{\"end\":424,\"start\":-40},\"id\":\"78444\",\"type\":\"Range1d\"},{\"attributes\":{\"size\":{\"value\":15}},\"id\":\"78489\",\"type\":\"Circle\"},{\"attributes\":{\"bottom_units\":\"screen\",\"coordinates\":null,\"fill_alpha\":0.5,\"fill_color\":\"lightgrey\",\"group\":null,\"left_units\":\"screen\",\"level\":\"overlay\",\"line_alpha\":1.0,\"line_color\":\"black\",\"line_dash\":[4,4],\"line_width\":2,\"right_units\":\"screen\",\"syncable\":false,\"top_units\":\"screen\"},\"id\":\"80020\",\"type\":\"BoxAnnotation\"},{\"attributes\":{\"size\":{\"value\":15}},\"id\":\"78484\",\"type\":\"Circle\"},{\"attributes\":{},\"id\":\"78512\",\"type\":\"EdgesAndLinkedNodes\"},{\"attributes\":{},\"id\":\"78455\",\"type\":\"SaveTool\"},{\"attributes\":{\"coordinates\":null,\"edge_renderer\":{\"id\":\"78472\"},\"group\":null,\"inspection_policy\":{\"id\":\"78512\"},\"layout_provider\":{\"id\":\"78478\"},\"node_renderer\":{\"id\":\"78468\"},\"selection_policy\":{\"id\":\"78510\"}},\"id\":\"78465\",\"type\":\"GraphRenderer\"},{\"attributes\":{\"graph_layout\":{\"0\":[54.39736842105263,301.5921052631579],\"1\":[337.909604519774,266.6195856873823],\"10\":[444.88911704312113,411.2977412731006],\"11\":[44.58502024291498,332.834008097166],\"12\":[182.60814249363867,265.9185750636132],\"13\":[277.3825665859564,312.81598062954],\"15\":[135.64429530201343,255.1834451901566],\"16\":[158.94418604651162,88.0015503875969],\"17\":[13.463276836158192,464.1280602636535],\"18\":[35.275938189845476,295.74834437086093],\"19\":[228.41489361702128,267.7260638297872],\"2\":[67.87603305785125,369.3057851239669],\"20\":[398.3361581920904,374.0960451977401],\"21\":[205.3252647503782,325.1543116490166],\"22\":[236.46356589147288,306.31472868217054],\"23\":[179.2860696517413,406.93532338308455],\"24\":[212.94698795180722,291.8],\"25\":[264.75141242937855,447.56779661016947],\"26\":[223.63718820861678,366.31972789115645],\"27\":[315.4032258064516,190.52620967741936],\"28\":[269.8222222222222,420.1822222222222],\"29\":[287.26647564469914,202.9484240687679],\"3\":[125.56695156695157,279.70940170940173],\"30\":[133.6449864498645,22.50135501355014],\"31\":[295.8816326530612,414.64489795918365],\"32\":[288.18341708542715,350.60804020100505],\"33\":[192.69270833333334,192.78645833333334],\"34\":[277.8116343490305,248.73961218836564],\"35\":[361.0078947368421,375.5210526315789],\"36\":[277.0453563714903,186.55939524838013],\"37\":[335.12466124661245,400.9430894308943],\"38\":[136.30113636363637,221.23011363636363],\"39\":[169.6228710462287,120.37226277372262],\"4\":[136.9138655462185,391.3802521008403],\"40\":[226.1730279898219,166.06106870229007],\"41\":[463.36422413793105,452.85991379310343],\"42\":[154.20359281437126,165.28542914171658],\"43\":[105.8021505376344,53.78064516129032],\"44\":[216.5279805352798,143.61557177615572],\"46\":[115.66019417475728,21.15857605177994],\"47\":[413.1306930693069,200.26138613861386],\"48\":[188.66666666666666,158.93427230046947],\"49\":[461.2454991816694,282.6546644844517],\"5\":[143.43716814159293,419.3628318584071],\"50\":[266.2478448275862,162.625],\"51\":[353.0590717299578,408.1645569620253],\"52\":[386.77464788732397,343.11737089201876],\"53\":[338.057268722467,452.09251101321587],\"54\":[60.65207877461707,198.9671772428884],\"55\":[316.1798245614035,439.0570175438597],\"56\":[143.53484602917342,146.0810372771475],\"57\":[317.0409482758621,466.3685344827586],\"58\":[353.5274074074074,182.93185185185186],\"59\":[384.1382636655949,399.2604501607717],\"6\":[156.324200913242,296.2671232876712],\"60\":[376.6053412462908,265.9792284866469],\"61\":[408.1223628691983,286.47679324894517],\"62\":[113.34615384615384,135.44230769230768],\"63\":[286.77358490566036,288.54716981132077],\"64\":[308.982800982801,158.74447174447175],\"67\":[440.4650655021834,353.99344978165936],\"68\":[190.15643564356435,63.118811881188115],\"69\":[429.5529715762274,371.5374677002584],\"7\":[262.8642447418738,373.49330783938814],\"71\":[321.32346723044395,138.50105708245243],\"73\":[100.05790645879733,172.4476614699332],\"76\":[482.1356783919598,485.84422110552765],\"77\":[36.65013054830287,-0.8642297650130555],\"8\":[391.0422885572139,251.0721393034826],\"81\":[430.8463541666667,331.4713541666667],\"83\":[490.7551724137931,243.18965517241378],\"84\":[93.51124744376278,33.441717791411044],\"85\":[312.32716049382714,60.93004115226338],\"86\":[222.0487012987013,9.49025974025974],\"87\":[50.911458333333336,14.145833333333332],\"88\":[376.11466666666666,107.89066666666666],\"89\":[504.859437751004,316.3574297188755],\"9\":[41.57595993322204,251.12353923205342],\"90\":[270.0243902439024,98.93170731707318],\"91\":[307.29756097560977,105.77317073170731],\"92\":[354.2972972972973,115.15724815724816],\"93\":[432.2682926829268,171.69844789356983],\"94\":[20.09090909090909,88.0909090909091],\"96\":[391.9274376417234,66.81859410430839]}},\"id\":\"78478\",\"type\":\"StaticLayoutProvider\"},{\"attributes\":{},\"id\":\"80022\",\"type\":\"UnionRenderers\"},{\"attributes\":{},\"id\":\"78453\",\"type\":\"ResetTool\"},{\"attributes\":{\"line_alpha\":{\"value\":0.5},\"line_color\":{\"field\":\"value\",\"transform\":{\"id\":\"78494\"}},\"line_width\":{\"value\":5}},\"id\":\"78495\",\"type\":\"MultiLine\"},{\"attributes\":{\"callback\":null},\"id\":\"78450\",\"type\":\"TapTool\"},{\"attributes\":{\"data\":{\"end\":[],\"start\":[]},\"selected\":{\"id\":\"80025\"},\"selection_policy\":{\"id\":\"80024\"}},\"id\":\"78471\",\"type\":\"ColumnDataSource\"}],\"root_ids\":[\"78446\"]},\"title\":\"Bokeh Application\",\"version\":\"2.4.3\"}};\n  const render_items = [{\"docid\":\"2d7405f5-441f-42ba-9745-30df27c06690\",\"root_ids\":[\"78446\"],\"roots\":{\"78446\":\"334fc104-01a7-4c94-9a1a-b75b426f6ba5\"}}];\n  root.Bokeh.embed.embed_items_notebook(docs_json, render_items);\n  }\n  if (root.Bokeh !== undefined) {\n    embed_document(root);\n  } else {\n    let attempts = 0;\n    const timer = setInterval(function(root) {\n      if (root.Bokeh !== undefined) {\n        clearInterval(timer);\n        embed_document(root);\n      } else {\n        attempts++;\n        if (attempts > 100) {\n          clearInterval(timer);\n          console.log(\"Bokeh: ERROR: Unable to run BokehJS code because BokehJS library is missing\");\n        }\n      }\n    }, 10, root)\n  }\n})(window);",
      "application/vnd.bokehjs_exec.v0+json": ""
     },
     "metadata": {
      "application/vnd.bokehjs_exec.v0+json": {
       "id": "78446"
      }
     },
     "output_type": "display_data"
    },
    {
     "name": "stderr",
     "output_type": "stream",
     "text": [
      "ERROR:bokeh.core.validation.check:E-1001 (BAD_COLUMN_NAME): Glyph refers to nonexistent column name. This could either be due to a misspelling or typo, or due to an expected column being missing. : key \"line_color\" value \"value\" [renderer: GlyphRenderer(id='78472', ...)]\n",
      "ERROR:bokeh.core.validation.check:E-1001 (BAD_COLUMN_NAME): Glyph refers to nonexistent column name. This could either be due to a misspelling or typo, or due to an expected column being missing. : key \"line_color\" value \"value\" [renderer: GlyphRenderer(id='78472', ...)]\n"
     ]
    }
   ],
   "source": [
    "\n",
    "#lenghts of each trial\n",
    "index = [0, 118, 88, 100, 98, 109, 78, 121, 76, 113, 97, 112, 118]\n",
    "start_an = 0 \n",
    "start_aw = 0\n",
    "\n",
    "for trial in range(1,len(index)):\n",
    "    \n",
    "    index, dat_tr, dat_stan, dat_staw, ind_stan, ind_staw = divide_data(index, trial, mat_load, ind_load)\n",
    "    pos_tr = roi_load[index[trial-1] : index[trial]+1, :, :, :]\n",
    "\n",
    "    #choose state\n",
    "    pos_stan = pos_tr[:, :, 0, :]\n",
    "    pos_staw = pos_tr[:, :, 1, :]\n",
    "    \n",
    "    for sesion in range(4):\n",
    "\n",
    "        tune_ses = tune[sesion][:, :, 0]\n",
    "\n",
    "        #choose session\n",
    "        dat_sean = dat_stan[:, sesion, :, :]\n",
    "        dat_seaw = dat_staw[:, sesion, :, :]\n",
    "        pos_sean = pos_stan[:, :, sesion]\n",
    "        pos_seaw = pos_staw[:, :, sesion]\n",
    "        ind_sean = ind_stan[:, sesion, :, :]\n",
    "        ind_seaw = ind_staw[:, sesion, :, :]\n",
    "        tune_an = tune_ses[:, 0]\n",
    "        tune_aw = tune_ses[:, 1]\n",
    "\n",
    "        #make dict to convert to dataframe\n",
    "        dat_df_an, dat_df_aw = make_dict(index, trial, lista[sesion], dat_sean, dat_seaw, ind_sean, ind_seaw)\n",
    "\n",
    "        #exclude the rows/columns which index is not in the other dataframe\n",
    "        #df_corr_an, df_corr_aw = exclude_nan(dat_df_an, dat_df_aw)\n",
    "        df_corr_an, df_corr_aw = dat_df_an.dropna(axis=1, how='all').dropna(axis=0, how='all'), dat_df_aw.dropna(axis=1, how='all').dropna(axis=0, how='all')\n",
    "        tune_an, tune_aw = tune_an[start_an : start_an+len(df_corr_an)], tune_aw[start_aw : start_aw+len(df_corr_aw)]\n",
    "        start_an += len(df_corr_an)\n",
    "        start_aw += len(df_corr_aw)\n",
    "\n",
    "        df_corr_an_pos = pd.DataFrame(index=df_corr_an.index, columns=df_corr_an.columns)\n",
    "        df_corr_aw_pos = pd.DataFrame(index=df_corr_aw.index, columns=df_corr_aw.columns)\n",
    "        \n",
    "        df_corr_an_posx = [x[0] for x in pos_sean]\n",
    "        df_corr_an_posy = [x[1] for x in pos_sean]\n",
    "\n",
    "        df_corr_aw_posx = [x[0] for x in pos_seaw]\n",
    "        df_corr_aw_posy = [x[1] for x in pos_seaw]\n",
    "\n",
    "        df_an_pos = pd.DataFrame()\n",
    "        df_aw_pos = pd.DataFrame()\n",
    "\n",
    "        df_an_pos[0] = df_corr_an_posx\n",
    "        df_an_pos[1] = df_corr_an_posy\n",
    "        df_aw_pos[0] = df_corr_aw_posx\n",
    "        df_aw_pos[1] = df_corr_aw_posy\n",
    "\n",
    "        #distance correlation\n",
    "        df_corr_an_pos = df_an_pos.corr().dropna(how='all', axis=1).dropna(how='all', axis=0)\n",
    "        df_corr_aw_pos = df_aw_pos.corr().dropna(how='all', axis=1).dropna(how='all', axis=0)\n",
    "        \n",
    "        df_corr_diff = (df_corr_aw-df_corr_an)\n",
    "        links = form_links_diff(df_corr_diff, df_aw_pos)\n",
    "        plot_network_graph_diff(links)\n",
    "        break\n",
    "    break\n",
    "        "
   ]
  },
  {
   "cell_type": "markdown",
   "metadata": {},
   "source": [
    "##### Particular difference"
   ]
  },
  {
   "cell_type": "code",
   "execution_count": 142,
   "metadata": {},
   "outputs": [
    {
     "data": {
      "text/html": [
       "<div class=\"bk-root\">\n",
       "        <a href=\"https://bokeh.org\" target=\"_blank\" class=\"bk-logo bk-logo-small bk-logo-notebook\"></a>\n",
       "        <span id=\"116868\">Loading BokehJS ...</span>\n",
       "    </div>\n"
      ]
     },
     "metadata": {},
     "output_type": "display_data"
    },
    {
     "data": {
      "application/javascript": "(function(root) {\n  function now() {\n    return new Date();\n  }\n\n  const force = true;\n\n  if (typeof root._bokeh_onload_callbacks === \"undefined\" || force === true) {\n    root._bokeh_onload_callbacks = [];\n    root._bokeh_is_loading = undefined;\n  }\n\nconst JS_MIME_TYPE = 'application/javascript';\n  const HTML_MIME_TYPE = 'text/html';\n  const EXEC_MIME_TYPE = 'application/vnd.bokehjs_exec.v0+json';\n  const CLASS_NAME = 'output_bokeh rendered_html';\n\n  /**\n   * Render data to the DOM node\n   */\n  function render(props, node) {\n    const script = document.createElement(\"script\");\n    node.appendChild(script);\n  }\n\n  /**\n   * Handle when an output is cleared or removed\n   */\n  function handleClearOutput(event, handle) {\n    const cell = handle.cell;\n\n    const id = cell.output_area._bokeh_element_id;\n    const server_id = cell.output_area._bokeh_server_id;\n    // Clean up Bokeh references\n    if (id != null && id in Bokeh.index) {\n      Bokeh.index[id].model.document.clear();\n      delete Bokeh.index[id];\n    }\n\n    if (server_id !== undefined) {\n      // Clean up Bokeh references\n      const cmd_clean = \"from bokeh.io.state import curstate; print(curstate().uuid_to_server['\" + server_id + \"'].get_sessions()[0].document.roots[0]._id)\";\n      cell.notebook.kernel.execute(cmd_clean, {\n        iopub: {\n          output: function(msg) {\n            const id = msg.content.text.trim();\n            if (id in Bokeh.index) {\n              Bokeh.index[id].model.document.clear();\n              delete Bokeh.index[id];\n            }\n          }\n        }\n      });\n      // Destroy server and session\n      const cmd_destroy = \"import bokeh.io.notebook as ion; ion.destroy_server('\" + server_id + \"')\";\n      cell.notebook.kernel.execute(cmd_destroy);\n    }\n  }\n\n  /**\n   * Handle when a new output is added\n   */\n  function handleAddOutput(event, handle) {\n    const output_area = handle.output_area;\n    const output = handle.output;\n\n    // limit handleAddOutput to display_data with EXEC_MIME_TYPE content only\n    if ((output.output_type != \"display_data\") || (!Object.prototype.hasOwnProperty.call(output.data, EXEC_MIME_TYPE))) {\n      return\n    }\n\n    const toinsert = output_area.element.find(\".\" + CLASS_NAME.split(' ')[0]);\n\n    if (output.metadata[EXEC_MIME_TYPE][\"id\"] !== undefined) {\n      toinsert[toinsert.length - 1].firstChild.textContent = output.data[JS_MIME_TYPE];\n      // store reference to embed id on output_area\n      output_area._bokeh_element_id = output.metadata[EXEC_MIME_TYPE][\"id\"];\n    }\n    if (output.metadata[EXEC_MIME_TYPE][\"server_id\"] !== undefined) {\n      const bk_div = document.createElement(\"div\");\n      bk_div.innerHTML = output.data[HTML_MIME_TYPE];\n      const script_attrs = bk_div.children[0].attributes;\n      for (let i = 0; i < script_attrs.length; i++) {\n        toinsert[toinsert.length - 1].firstChild.setAttribute(script_attrs[i].name, script_attrs[i].value);\n        toinsert[toinsert.length - 1].firstChild.textContent = bk_div.children[0].textContent\n      }\n      // store reference to server id on output_area\n      output_area._bokeh_server_id = output.metadata[EXEC_MIME_TYPE][\"server_id\"];\n    }\n  }\n\n  function register_renderer(events, OutputArea) {\n\n    function append_mime(data, metadata, element) {\n      // create a DOM node to render to\n      const toinsert = this.create_output_subarea(\n        metadata,\n        CLASS_NAME,\n        EXEC_MIME_TYPE\n      );\n      this.keyboard_manager.register_events(toinsert);\n      // Render to node\n      const props = {data: data, metadata: metadata[EXEC_MIME_TYPE]};\n      render(props, toinsert[toinsert.length - 1]);\n      element.append(toinsert);\n      return toinsert\n    }\n\n    /* Handle when an output is cleared or removed */\n    events.on('clear_output.CodeCell', handleClearOutput);\n    events.on('delete.Cell', handleClearOutput);\n\n    /* Handle when a new output is added */\n    events.on('output_added.OutputArea', handleAddOutput);\n\n    /**\n     * Register the mime type and append_mime function with output_area\n     */\n    OutputArea.prototype.register_mime_type(EXEC_MIME_TYPE, append_mime, {\n      /* Is output safe? */\n      safe: true,\n      /* Index of renderer in `output_area.display_order` */\n      index: 0\n    });\n  }\n\n  // register the mime type if in Jupyter Notebook environment and previously unregistered\n  if (root.Jupyter !== undefined) {\n    const events = require('base/js/events');\n    const OutputArea = require('notebook/js/outputarea').OutputArea;\n\n    if (OutputArea.prototype.mime_types().indexOf(EXEC_MIME_TYPE) == -1) {\n      register_renderer(events, OutputArea);\n    }\n  }\n  if (typeof (root._bokeh_timeout) === \"undefined\" || force === true) {\n    root._bokeh_timeout = Date.now() + 5000;\n    root._bokeh_failed_load = false;\n  }\n\n  const NB_LOAD_WARNING = {'data': {'text/html':\n     \"<div style='background-color: #fdd'>\\n\"+\n     \"<p>\\n\"+\n     \"BokehJS does not appear to have successfully loaded. If loading BokehJS from CDN, this \\n\"+\n     \"may be due to a slow or bad network connection. Possible fixes:\\n\"+\n     \"</p>\\n\"+\n     \"<ul>\\n\"+\n     \"<li>re-rerun `output_notebook()` to attempt to load from CDN again, or</li>\\n\"+\n     \"<li>use INLINE resources instead, as so:</li>\\n\"+\n     \"</ul>\\n\"+\n     \"<code>\\n\"+\n     \"from bokeh.resources import INLINE\\n\"+\n     \"output_notebook(resources=INLINE)\\n\"+\n     \"</code>\\n\"+\n     \"</div>\"}};\n\n  function display_loaded() {\n    const el = document.getElementById(\"116868\");\n    if (el != null) {\n      el.textContent = \"BokehJS is loading...\";\n    }\n    if (root.Bokeh !== undefined) {\n      if (el != null) {\n        el.textContent = \"BokehJS \" + root.Bokeh.version + \" successfully loaded.\";\n      }\n    } else if (Date.now() < root._bokeh_timeout) {\n      setTimeout(display_loaded, 100)\n    }\n  }\n\n  function run_callbacks() {\n    try {\n      root._bokeh_onload_callbacks.forEach(function(callback) {\n        if (callback != null)\n          callback();\n      });\n    } finally {\n      delete root._bokeh_onload_callbacks\n    }\n    console.debug(\"Bokeh: all callbacks have finished\");\n  }\n\n  function load_libs(css_urls, js_urls, callback) {\n    if (css_urls == null) css_urls = [];\n    if (js_urls == null) js_urls = [];\n\n    root._bokeh_onload_callbacks.push(callback);\n    if (root._bokeh_is_loading > 0) {\n      console.debug(\"Bokeh: BokehJS is being loaded, scheduling callback at\", now());\n      return null;\n    }\n    if (js_urls == null || js_urls.length === 0) {\n      run_callbacks();\n      return null;\n    }\n    console.debug(\"Bokeh: BokehJS not loaded, scheduling load and callback at\", now());\n    root._bokeh_is_loading = css_urls.length + js_urls.length;\n\n    function on_load() {\n      root._bokeh_is_loading--;\n      if (root._bokeh_is_loading === 0) {\n        console.debug(\"Bokeh: all BokehJS libraries/stylesheets loaded\");\n        run_callbacks()\n      }\n    }\n\n    function on_error(url) {\n      console.error(\"failed to load \" + url);\n    }\n\n    for (let i = 0; i < css_urls.length; i++) {\n      const url = css_urls[i];\n      const element = document.createElement(\"link\");\n      element.onload = on_load;\n      element.onerror = on_error.bind(null, url);\n      element.rel = \"stylesheet\";\n      element.type = \"text/css\";\n      element.href = url;\n      console.debug(\"Bokeh: injecting link tag for BokehJS stylesheet: \", url);\n      document.body.appendChild(element);\n    }\n\n    for (let i = 0; i < js_urls.length; i++) {\n      const url = js_urls[i];\n      const element = document.createElement('script');\n      element.onload = on_load;\n      element.onerror = on_error.bind(null, url);\n      element.async = false;\n      element.src = url;\n      console.debug(\"Bokeh: injecting script tag for BokehJS library: \", url);\n      document.head.appendChild(element);\n    }\n  };\n\n  function inject_raw_css(css) {\n    const element = document.createElement(\"style\");\n    element.appendChild(document.createTextNode(css));\n    document.body.appendChild(element);\n  }\n\n  const js_urls = [\"https://cdn.bokeh.org/bokeh/release/bokeh-2.4.3.min.js\", \"https://cdn.bokeh.org/bokeh/release/bokeh-gl-2.4.3.min.js\", \"https://cdn.bokeh.org/bokeh/release/bokeh-widgets-2.4.3.min.js\", \"https://cdn.bokeh.org/bokeh/release/bokeh-tables-2.4.3.min.js\", \"https://cdn.bokeh.org/bokeh/release/bokeh-mathjax-2.4.3.min.js\", \"https://unpkg.com/@holoviz/panel@0.13.1/dist/panel.min.js\"];\n  const css_urls = [];\n\n  const inline_js = [    function(Bokeh) {\n      Bokeh.set_log_level(\"info\");\n    },\nfunction(Bokeh) {\n    }\n  ];\n\n  function run_inline_js() {\n    if (root.Bokeh !== undefined || force === true) {\n          for (let i = 0; i < inline_js.length; i++) {\n      inline_js[i].call(root, root.Bokeh);\n    }\nif (force === true) {\n        display_loaded();\n      }} else if (Date.now() < root._bokeh_timeout) {\n      setTimeout(run_inline_js, 100);\n    } else if (!root._bokeh_failed_load) {\n      console.log(\"Bokeh: BokehJS failed to load within specified timeout.\");\n      root._bokeh_failed_load = true;\n    } else if (force !== true) {\n      const cell = $(document.getElementById(\"116868\")).parents('.cell').data().cell;\n      cell.output_area.append_execute_result(NB_LOAD_WARNING)\n    }\n  }\n\n  if (root._bokeh_is_loading === 0) {\n    console.debug(\"Bokeh: BokehJS loaded, going straight to plotting\");\n    run_inline_js();\n  } else {\n    load_libs(css_urls, js_urls, function() {\n      console.debug(\"Bokeh: BokehJS plotting callback run at\", now());\n      run_inline_js();\n    });\n  }\n}(window));",
      "application/vnd.bokehjs_load.v0+json": ""
     },
     "metadata": {},
     "output_type": "display_data"
    },
    {
     "data": {
      "text/html": [
       "\n",
       "  <div class=\"bk-root\" id=\"15dc924e-0a52-4304-9e93-082996ae13f8\" data-root-id=\"116871\"></div>\n"
      ]
     },
     "metadata": {},
     "output_type": "display_data"
    },
    {
     "data": {
      "application/javascript": "(function(root) {\n  function embed_document(root) {\n  const docs_json = {\"5843e6c8-b78b-40e3-a9b5-1a000120d26e\":{\"defs\":[{\"extends\":null,\"module\":null,\"name\":\"ReactiveHTML1\",\"overrides\":[],\"properties\":[]},{\"extends\":null,\"module\":null,\"name\":\"FlexBox1\",\"overrides\":[],\"properties\":[{\"default\":\"flex-start\",\"kind\":null,\"name\":\"align_content\"},{\"default\":\"flex-start\",\"kind\":null,\"name\":\"align_items\"},{\"default\":\"row\",\"kind\":null,\"name\":\"flex_direction\"},{\"default\":\"wrap\",\"kind\":null,\"name\":\"flex_wrap\"},{\"default\":\"flex-start\",\"kind\":null,\"name\":\"justify_content\"}]},{\"extends\":null,\"module\":null,\"name\":\"GridStack1\",\"overrides\":[],\"properties\":[{\"default\":\"warn\",\"kind\":null,\"name\":\"mode\"},{\"default\":null,\"kind\":null,\"name\":\"ncols\"},{\"default\":null,\"kind\":null,\"name\":\"nrows\"},{\"default\":true,\"kind\":null,\"name\":\"allow_resize\"},{\"default\":true,\"kind\":null,\"name\":\"allow_drag\"},{\"default\":[],\"kind\":null,\"name\":\"state\"}]},{\"extends\":null,\"module\":null,\"name\":\"click1\",\"overrides\":[],\"properties\":[{\"default\":\"\",\"kind\":null,\"name\":\"terminal_output\"},{\"default\":\"\",\"kind\":null,\"name\":\"debug_name\"},{\"default\":0,\"kind\":null,\"name\":\"clears\"}]},{\"extends\":null,\"module\":null,\"name\":\"NotificationAreaBase1\",\"overrides\":[],\"properties\":[{\"default\":\"bottom-right\",\"kind\":null,\"name\":\"position\"},{\"default\":0,\"kind\":null,\"name\":\"_clear\"}]},{\"extends\":null,\"module\":null,\"name\":\"NotificationArea1\",\"overrides\":[],\"properties\":[{\"default\":[],\"kind\":null,\"name\":\"notifications\"},{\"default\":\"bottom-right\",\"kind\":null,\"name\":\"position\"},{\"default\":0,\"kind\":null,\"name\":\"_clear\"},{\"default\":[{\"background\":\"#ffc107\",\"icon\":{\"className\":\"fas fa-exclamation-triangle\",\"color\":\"white\",\"tagName\":\"i\"},\"type\":\"warning\"},{\"background\":\"#007bff\",\"icon\":{\"className\":\"fas fa-info-circle\",\"color\":\"white\",\"tagName\":\"i\"},\"type\":\"info\"}],\"kind\":null,\"name\":\"types\"}]},{\"extends\":null,\"module\":null,\"name\":\"Notification\",\"overrides\":[],\"properties\":[{\"default\":null,\"kind\":null,\"name\":\"background\"},{\"default\":3000,\"kind\":null,\"name\":\"duration\"},{\"default\":null,\"kind\":null,\"name\":\"icon\"},{\"default\":\"\",\"kind\":null,\"name\":\"message\"},{\"default\":null,\"kind\":null,\"name\":\"notification_type\"},{\"default\":false,\"kind\":null,\"name\":\"_destroyed\"}]},{\"extends\":null,\"module\":null,\"name\":\"TemplateActions1\",\"overrides\":[],\"properties\":[{\"default\":0,\"kind\":null,\"name\":\"open_modal\"},{\"default\":0,\"kind\":null,\"name\":\"close_modal\"}]},{\"extends\":null,\"module\":null,\"name\":\"MaterialTemplateActions1\",\"overrides\":[],\"properties\":[{\"default\":0,\"kind\":null,\"name\":\"open_modal\"},{\"default\":0,\"kind\":null,\"name\":\"close_modal\"}]}],\"roots\":{\"references\":[{\"attributes\":{\"height\":720,\"renderers\":[{\"id\":\"116892\"}],\"right\":[{\"id\":\"116941\"}],\"title\":{\"id\":\"116872\"},\"toolbar\":{\"id\":\"116884\"},\"width\":1000,\"x_range\":{\"id\":\"116869\"},\"x_scale\":{\"id\":\"118732\"},\"y_range\":{\"id\":\"116870\"},\"y_scale\":{\"id\":\"118733\"}},\"id\":\"116871\",\"type\":\"Plot\"},{\"attributes\":{\"line_color\":{\"value\":\"#2b83ba\"},\"line_width\":{\"value\":5}},\"id\":\"116927\",\"type\":\"MultiLine\"},{\"attributes\":{},\"id\":\"118743\",\"type\":\"NoOverlap\"},{\"attributes\":{},\"id\":\"116881\",\"type\":\"PanTool\"},{\"attributes\":{\"data\":{\"adjusted_node_size\":[10,10,10,10,10,10,10,10,10,10,10,10,10,10,10,10,10,10,10,10,10,10,10,10,10,10,10,10,10,10,10,10,10,10,10,10,10,10,10,10,10,10,10,10,10,10,10,10,10,10,10,10,10,10,10,10,10,10,10,10,10,10,10,10,10,10,10,10,10,10,10,10,10,10,10,10,10,10,10,10,10,10,10,10,10,10,10,10,10,10,10,10],\"index\":[0,1,2,3,4,5,6,7,8,9,10,11,12,13,14,15,16,17,18,19,20,21,22,23,24,25,26,27,28,29,30,31,32,33,34,35,36,37,38,39,40,41,42,43,44,45,46,47,48,49,50,51,52,53,54,55,56,57,58,59,60,61,62,63,64,65,67,68,69,71,72,73,74,76,77,78,79,81,83,84,85,86,87,88,89,90,91,92,93,94,96,97],\"x0\":[60.143695014662754,344.6535087719298,73.16382978723404,130.05780346820808,143.23924731182797,150.86699507389162,164.61904761904762,268.7094430992736,396.3558282208589,46.437710437710436,453.6080508474576,50.717451523545705,188.60814249363867,282.4441805225653,21.21350762527233,140.22278481012657,160.17446808510638,14.031578947368422,41.21535181236674,233.91466666666668,405.7416879795396,209.48426150121065,239.48535564853557,185.89253731343283,217.4939393939394,271.4569190600522,229.7301204819277,321.4032258064516,275.90501319261216,292.8826815642458,137.6449864498645,303.27522935779814,293.18341708542715,197.21974522292993,281.04260089686096,367.85333333333335,283.21377672209024,340.99595141700405,137.83813747228382,173.23906705539358,231.07334963325184,468.78187919463085,158.72700296735906,107.99759036144579,221.5279805352798,23.13888888888889,119.66019417475728,418.5933682373473,192.76487252124645,461.60732984293196,270.71338912133893,358.0590717299578,393.9112627986348,343.04662004662003,68.25065963060686,322.08115942028985,150.12435233160622,323.4166666666667,358.25210084033614,389.1382636655949,380.5367088607595,412.13194444444446,115.15035799522673,291.79802955665025,315.50923482849606,354.4122621564482,446.88841201716735,192.4425,436.6322188449848,326.84444444444443,425.5357833655706,107.45209580838323,229.96594427244582,488.42,39.41287878787879,11.407002188183807,77.94488188976378,439.0939947780679,506.5182072829132,96.57106598984771,315.4818941504178,225.35294117647058,52.194148936170215,381.1476510067114,510.9110320284698,275.3972972972973,309.3562231759657,359.02061855670104,437.9861111111111,22.375809935205183,396.43646408839777,504.5896860986547],\"y0\":[307.9853372434018,272.2127192982456,372.48297872340424,287.05202312138726,397.5241935483871,424.23399014778323,304.21861471861473,379.9927360774818,258.08895705521473,261.32996632996634,417.54237288135596,339.73407202216066,271.9185750636132,321.9144893111639,329.9782135076253,260.88101265822786,89.76808510638298,471.2084210526316,302.12153518123665,272.0826666666667,380.49616368286445,332.3922518159806,315.14853556485355,410.3641791044776,296.73030303030305,452.2924281984334,371.69397590361444,198.52620967741936,424.1503957783641,212.18715083798884,32.50135501355014,419.7798165137615,355.60804020100505,201.65286624203821,253.8071748878924,380.76533333333333,196.6270783847981,403.7773279352227,233.3880266075388,128.50437317784255,176.01466992665036,456.01677852348996,173.13353115727003,62.3421686746988,150.61557177615572,228.07407407407408,31.15857605177994,212.5043630017452,163.92067988668555,289.5183246073298,173.31589958158995,413.1645569620253,348.06484641638224,454.46386946386946,205.0,444.71884057971016,155.8721934369603,469.36805555555554,193.05042016806723,404.2604501607717,275.2987341772152,292.0104166666667,141.0,295.7266009852217,169.3825857519789,150.02748414376322,359.7854077253219,71.325,375.91185410334344,146.63555555555556,460.3384912959381,175.17964071856287,82.12383900928792,491.9685714285714,8.632575757575758,164.5448577680525,132.8740157480315,336.85900783289816,256.0,43.66751269035533,68.05571030640668,18.705882352941178,21.53191489361702,113.68120805369128,321.8576512455516,107.8108108108108,114.53218884120172,120.74742268041237,178.95833333333334,95.11447084233261,74.98895027624309,478.7017937219731]},\"selected\":{\"id\":\"118747\"},\"selection_policy\":{\"id\":\"118746\"}},\"id\":\"116894\",\"type\":\"ColumnDataSource\"},{\"attributes\":{\"data\":{\"edge_value\":[-0.5368992180837944,0.41496649544766706,0.5153548856990858,-0.46098208367945437,0.45822205336659794,0.515383203488858,0.413786870871676,0.5092079664078653,0.42564074383148215,0.44513621268843045,0.5133732837299555,0.4234160222112629,0.4340627670170677,-0.40821951219394753,0.44840685268696323,-0.4089999107368588,-0.4301183006000262,0.48559448312862274,-0.41262562087711285,0.5080016362613794,0.6269063388437796,0.5165855957810691,0.4603159377264019,0.4252379978173555,0.5636269303580383,-0.7807787433636465,0.5641647148669267,-0.4751528902315767,0.6723627625750626,-0.4385008082208147,0.4147047100832836,0.4632605055614613,0.427275746413443,0.44315897319208464,0.4047142262323138,0.478130838241575,0.4490179706861609,0.6205282732935368,0.4284603786523645,0.43254730301437466,0.4559517583215031,0.4067106045839699,0.579035559078873,0.5064558248040469,0.4338383641927393,0.42352079512372864,0.7577122046015926,0.511246449072316,0.5844332966060947,0.49632902238649157,0.5062910472304635,-0.40447271223858705,0.5886044083971349,0.40185468431735305,0.4322097852168024,0.5590720947203514,0.40292627018671934,-0.4020367999242006,-0.43985794745284956,0.6101858433456181,0.41731246708719644,0.41989910689756715,0.41723917982599124,0.4269794737392212,0.47962150993980235,0.4315825689821066,0.44599445091788803,0.43761878372759005,0.4190878512333882,0.41753403940987394,0.4042337599172072,0.409277167657435,0.4336663714594087,0.40521700003958594,0.43990679319378,0.4259695526253162,0.48474987055743024,0.45310477299982566,0.5549841501656628,0.8258844885742993,0.6325601300265185,0.6867957707909615,0.5858431259654456,0.4238999099687346,0.4497636931649449,0.47249147332481445,0.6248668142497633,0.45096637308346615,0.4019429403439669,0.4041278730215255,0.40731365051481405,0.40058811675039224,0.48043658953188384,0.6338029062470155,0.41259079275235144,0.4307966732187591,0.4052989407678829,0.4216260424672071,0.40045420579063606,0.4001427118048133,0.5182494406890662,-0.4222658152359794,0.417317160132897,-0.5036847461525408,-0.4116862048852812,0.43419861450537156,0.45257650732936344,0.5209903348780855,0.40904105484711123,-0.4775255362726153,0.506303433127119,0.44902697625936105,-0.4306774658883904,0.43582260660108846,0.49191916126728386,-0.452622511447524,0.46976115238708965],\"end\":[13,18,34,40,56,22,41,74,19,50,63,26,78,85,13,59,68,46,13,19,46,56,93,96,61,40,52,79,46,59,57,56,19,56,19,51,57,22,41,49,56,72,86,97,28,56,57,96,33,41,28,29,33,33,46,56,67,58,64,46,51,38,52,63,46,79,46,41,56,65,48,74,78,91,46,96,56,46,56,57,63,84,85,86,56,61,63,72,96,56,94,68,73,79,85,90,92,96,64,73,83,91,93,69,91,78,96,96,83,94,93,96,87,93,96,91,92],\"start\":[0,0,0,0,0,1,1,1,3,3,3,4,5,5,6,7,7,9,11,11,11,11,11,11,12,13,13,13,14,14,15,16,17,17,18,18,18,19,19,19,19,19,19,19,22,22,22,22,23,23,25,25,25,26,27,27,28,29,29,30,30,32,32,32,34,34,37,38,38,38,40,40,40,40,41,41,42,43,46,46,46,46,46,46,47,47,49,50,50,51,51,56,56,56,56,56,56,56,57,57,57,57,57,60,61,63,63,71,73,76,84,84,85,85,86,89,90],\"value\":[-0.5368992180837944,0.41496649544766706,0.5153548856990858,-0.46098208367945437,0.45822205336659794,0.515383203488858,0.413786870871676,0.5092079664078653,0.42564074383148215,0.44513621268843045,0.5133732837299555,0.4234160222112629,0.4340627670170677,-0.40821951219394753,0.44840685268696323,-0.4089999107368588,-0.4301183006000262,0.48559448312862274,-0.41262562087711285,0.5080016362613794,0.6269063388437796,0.5165855957810691,0.4603159377264019,0.4252379978173555,0.5636269303580383,-0.7807787433636465,0.5641647148669267,-0.4751528902315767,0.6723627625750626,-0.4385008082208147,0.4147047100832836,0.4632605055614613,0.427275746413443,0.44315897319208464,0.4047142262323138,0.478130838241575,0.4490179706861609,0.6205282732935368,0.4284603786523645,0.43254730301437466,0.4559517583215031,0.4067106045839699,0.579035559078873,0.5064558248040469,0.4338383641927393,0.42352079512372864,0.7577122046015926,0.511246449072316,0.5844332966060947,0.49632902238649157,0.5062910472304635,-0.40447271223858705,0.5886044083971349,0.40185468431735305,0.4322097852168024,0.5590720947203514,0.40292627018671934,-0.4020367999242006,-0.43985794745284956,0.6101858433456181,0.41731246708719644,0.41989910689756715,0.41723917982599124,0.4269794737392212,0.47962150993980235,0.4315825689821066,0.44599445091788803,0.43761878372759005,0.4190878512333882,0.41753403940987394,0.4042337599172072,0.409277167657435,0.4336663714594087,0.40521700003958594,0.43990679319378,0.4259695526253162,0.48474987055743024,0.45310477299982566,0.5549841501656628,0.8258844885742993,0.6325601300265185,0.6867957707909615,0.5858431259654456,0.4238999099687346,0.4497636931649449,0.47249147332481445,0.6248668142497633,0.45096637308346615,0.4019429403439669,0.4041278730215255,0.40731365051481405,0.40058811675039224,0.48043658953188384,0.6338029062470155,0.41259079275235144,0.4307966732187591,0.4052989407678829,0.4216260424672071,0.40045420579063606,0.4001427118048133,0.5182494406890662,-0.4222658152359794,0.417317160132897,-0.5036847461525408,-0.4116862048852812,0.43419861450537156,0.45257650732936344,0.5209903348780855,0.40904105484711123,-0.4775255362726153,0.506303433127119,0.44902697625936105,-0.4306774658883904,0.43582260660108846,0.49191916126728386,-0.452622511447524,0.46976115238708965],\"x0\":[282.4441805225653,41.21535181236674,281.04260089686096,231.07334963325184,150.12435233160622,239.48535564853557,468.78187919463085,229.96594427244582,233.91466666666668,270.71338912133893,291.79802955665025,229.7301204819277,11.407002188183807,315.4818941504178,282.4441805225653,389.1382636655949,192.4425,119.66019417475728,282.4441805225653,233.91466666666668,119.66019417475728,150.12435233160622,437.9861111111111,396.43646408839777,412.13194444444446,231.07334963325184,393.9112627986348,77.94488188976378,119.66019417475728,389.1382636655949,323.4166666666667,150.12435233160622,233.91466666666668,150.12435233160622,233.91466666666668,358.0590717299578,323.4166666666667,239.48535564853557,468.78187919463085,461.60732984293196,150.12435233160622,425.5357833655706,225.35294117647058,504.5896860986547,275.90501319261216,150.12435233160622,323.4166666666667,396.43646408839777,197.21974522292993,468.78187919463085,275.90501319261216,292.8826815642458,197.21974522292993,197.21974522292993,119.66019417475728,150.12435233160622,446.88841201716735,358.25210084033614,315.50923482849606,119.66019417475728,358.0590717299578,137.83813747228382,393.9112627986348,291.79802955665025,119.66019417475728,77.94488188976378,119.66019417475728,468.78187919463085,150.12435233160622,354.4122621564482,192.76487252124645,229.96594427244582,11.407002188183807,309.3562231759657,119.66019417475728,396.43646408839777,150.12435233160622,119.66019417475728,150.12435233160622,323.4166666666667,291.79802955665025,96.57106598984771,315.4818941504178,225.35294117647058,150.12435233160622,412.13194444444446,291.79802955665025,425.5357833655706,396.43646408839777,150.12435233160622,22.375809935205183,192.4425,107.45209580838323,77.94488188976378,315.4818941504178,275.3972972972973,359.02061855670104,396.43646408839777,315.50923482849606,107.45209580838323,506.5182072829132,309.3562231759657,437.9861111111111,436.6322188449848,309.3562231759657,11.407002188183807,396.43646408839777,396.43646408839777,506.5182072829132,22.375809935205183,437.9861111111111,396.43646408839777,52.194148936170215,437.9861111111111,396.43646408839777,309.3562231759657,359.02061855670104],\"x1\":[60.143695014662754,60.143695014662754,60.143695014662754,60.143695014662754,60.143695014662754,344.6535087719298,344.6535087719298,344.6535087719298,130.05780346820808,130.05780346820808,130.05780346820808,143.23924731182797,150.86699507389162,150.86699507389162,164.61904761904762,268.7094430992736,268.7094430992736,46.437710437710436,50.717451523545705,50.717451523545705,50.717451523545705,50.717451523545705,50.717451523545705,50.717451523545705,188.60814249363867,282.4441805225653,282.4441805225653,282.4441805225653,21.21350762527233,21.21350762527233,140.22278481012657,160.17446808510638,14.031578947368422,14.031578947368422,41.21535181236674,41.21535181236674,41.21535181236674,233.91466666666668,233.91466666666668,233.91466666666668,233.91466666666668,233.91466666666668,233.91466666666668,233.91466666666668,239.48535564853557,239.48535564853557,239.48535564853557,239.48535564853557,185.89253731343283,185.89253731343283,271.4569190600522,271.4569190600522,271.4569190600522,229.7301204819277,321.4032258064516,321.4032258064516,275.90501319261216,292.8826815642458,292.8826815642458,137.6449864498645,137.6449864498645,293.18341708542715,293.18341708542715,293.18341708542715,281.04260089686096,281.04260089686096,340.99595141700405,137.83813747228382,137.83813747228382,137.83813747228382,231.07334963325184,231.07334963325184,231.07334963325184,231.07334963325184,468.78187919463085,468.78187919463085,158.72700296735906,107.99759036144579,119.66019417475728,119.66019417475728,119.66019417475728,119.66019417475728,119.66019417475728,119.66019417475728,418.5933682373473,418.5933682373473,461.60732984293196,270.71338912133893,270.71338912133893,358.0590717299578,358.0590717299578,150.12435233160622,150.12435233160622,150.12435233160622,150.12435233160622,150.12435233160622,150.12435233160622,150.12435233160622,323.4166666666667,323.4166666666667,323.4166666666667,323.4166666666667,323.4166666666667,380.5367088607595,412.13194444444446,291.79802955665025,291.79802955665025,326.84444444444443,107.45209580838323,488.42,96.57106598984771,96.57106598984771,315.4818941504178,315.4818941504178,225.35294117647058,510.9110320284698,275.3972972972973],\"y0\":[321.9144893111639,302.12153518123665,253.8071748878924,176.01466992665036,155.8721934369603,315.14853556485355,456.01677852348996,82.12383900928792,272.0826666666667,173.31589958158995,295.7266009852217,371.69397590361444,164.5448577680525,68.05571030640668,321.9144893111639,404.2604501607717,71.325,31.15857605177994,321.9144893111639,272.0826666666667,31.15857605177994,155.8721934369603,178.95833333333334,74.98895027624309,292.0104166666667,176.01466992665036,348.06484641638224,132.8740157480315,31.15857605177994,404.2604501607717,469.36805555555554,155.8721934369603,272.0826666666667,155.8721934369603,272.0826666666667,413.1645569620253,469.36805555555554,315.14853556485355,456.01677852348996,289.5183246073298,155.8721934369603,460.3384912959381,18.705882352941178,478.7017937219731,424.1503957783641,155.8721934369603,469.36805555555554,74.98895027624309,201.65286624203821,456.01677852348996,424.1503957783641,212.18715083798884,201.65286624203821,201.65286624203821,31.15857605177994,155.8721934369603,359.7854077253219,193.05042016806723,169.3825857519789,31.15857605177994,413.1645569620253,233.3880266075388,348.06484641638224,295.7266009852217,31.15857605177994,132.8740157480315,31.15857605177994,456.01677852348996,155.8721934369603,150.02748414376322,163.92067988668555,82.12383900928792,164.5448577680525,114.53218884120172,31.15857605177994,74.98895027624309,155.8721934369603,31.15857605177994,155.8721934369603,469.36805555555554,295.7266009852217,43.66751269035533,68.05571030640668,18.705882352941178,155.8721934369603,292.0104166666667,295.7266009852217,460.3384912959381,74.98895027624309,155.8721934369603,95.11447084233261,71.325,175.17964071856287,132.8740157480315,68.05571030640668,107.8108108108108,120.74742268041237,74.98895027624309,169.3825857519789,175.17964071856287,256.0,114.53218884120172,178.95833333333334,375.91185410334344,114.53218884120172,164.5448577680525,74.98895027624309,74.98895027624309,256.0,95.11447084233261,178.95833333333334,74.98895027624309,21.53191489361702,178.95833333333334,74.98895027624309,114.53218884120172,120.74742268041237],\"y1\":[307.9853372434018,307.9853372434018,307.9853372434018,307.9853372434018,307.9853372434018,272.2127192982456,272.2127192982456,272.2127192982456,287.05202312138726,287.05202312138726,287.05202312138726,397.5241935483871,424.23399014778323,424.23399014778323,304.21861471861473,379.9927360774818,379.9927360774818,261.32996632996634,339.73407202216066,339.73407202216066,339.73407202216066,339.73407202216066,339.73407202216066,339.73407202216066,271.9185750636132,321.9144893111639,321.9144893111639,321.9144893111639,329.9782135076253,329.9782135076253,260.88101265822786,89.76808510638298,471.2084210526316,471.2084210526316,302.12153518123665,302.12153518123665,302.12153518123665,272.0826666666667,272.0826666666667,272.0826666666667,272.0826666666667,272.0826666666667,272.0826666666667,272.0826666666667,315.14853556485355,315.14853556485355,315.14853556485355,315.14853556485355,410.3641791044776,410.3641791044776,452.2924281984334,452.2924281984334,452.2924281984334,371.69397590361444,198.52620967741936,198.52620967741936,424.1503957783641,212.18715083798884,212.18715083798884,32.50135501355014,32.50135501355014,355.60804020100505,355.60804020100505,355.60804020100505,253.8071748878924,253.8071748878924,403.7773279352227,233.3880266075388,233.3880266075388,233.3880266075388,176.01466992665036,176.01466992665036,176.01466992665036,176.01466992665036,456.01677852348996,456.01677852348996,173.13353115727003,62.3421686746988,31.15857605177994,31.15857605177994,31.15857605177994,31.15857605177994,31.15857605177994,31.15857605177994,212.5043630017452,212.5043630017452,289.5183246073298,173.31589958158995,173.31589958158995,413.1645569620253,413.1645569620253,155.8721934369603,155.8721934369603,155.8721934369603,155.8721934369603,155.8721934369603,155.8721934369603,155.8721934369603,469.36805555555554,469.36805555555554,469.36805555555554,469.36805555555554,469.36805555555554,275.2987341772152,292.0104166666667,295.7266009852217,295.7266009852217,146.63555555555556,175.17964071856287,491.9685714285714,43.66751269035533,43.66751269035533,68.05571030640668,68.05571030640668,18.705882352941178,321.8576512455516,107.8108108108108]},\"selected\":{\"id\":\"118749\"},\"selection_policy\":{\"id\":\"118748\"}},\"id\":\"116898\",\"type\":\"ColumnDataSource\"},{\"attributes\":{},\"id\":\"118748\",\"type\":\"UnionRenderers\"},{\"attributes\":{\"size\":{\"value\":15}},\"id\":\"116906\",\"type\":\"Circle\"},{\"attributes\":{},\"id\":\"118732\",\"type\":\"LinearScale\"},{\"attributes\":{},\"id\":\"118749\",\"type\":\"Selection\"},{\"attributes\":{\"color_mapper\":{\"id\":\"116921\"},\"coordinates\":null,\"group\":null,\"major_label_policy\":{\"id\":\"118743\"},\"width\":8},\"id\":\"116941\",\"type\":\"ColorBar\"},{\"attributes\":{\"source\":{\"id\":\"116898\"}},\"id\":\"116900\",\"type\":\"CDSView\"},{\"attributes\":{\"line_color\":{\"value\":\"#2b83ba\"},\"line_width\":{\"value\":5}},\"id\":\"116932\",\"type\":\"MultiLine\"},{\"attributes\":{\"line_alpha\":{\"value\":0.5},\"line_color\":{\"field\":\"value\",\"transform\":{\"id\":\"116921\"}},\"line_width\":{\"value\":5}},\"id\":\"116922\",\"type\":\"MultiLine\"},{\"attributes\":{\"size\":{\"value\":15}},\"id\":\"116916\",\"type\":\"Circle\"},{\"attributes\":{\"coordinates\":null,\"data_source\":{\"id\":\"116898\"},\"glyph\":{\"id\":\"116922\"},\"group\":null,\"hover_glyph\":{\"id\":\"116932\"},\"selection_glyph\":{\"id\":\"116927\"},\"view\":{\"id\":\"116900\"}},\"id\":\"116899\",\"type\":\"GlyphRenderer\"},{\"attributes\":{},\"id\":\"116880\",\"type\":\"ResetTool\"},{\"attributes\":{},\"id\":\"116879\",\"type\":\"WheelZoomTool\"},{\"attributes\":{\"tools\":[{\"id\":\"116876\"},{\"id\":\"116877\"},{\"id\":\"116878\"},{\"id\":\"116879\"},{\"id\":\"116880\"},{\"id\":\"116881\"},{\"id\":\"116882\"},{\"id\":\"116883\"}]},\"id\":\"116884\",\"type\":\"Toolbar\"},{\"attributes\":{},\"id\":\"116937\",\"type\":\"NodesAndLinkedEdges\"},{\"attributes\":{\"graph_layout\":{\"0\":[60.143695014662754,307.9853372434018],\"1\":[344.6535087719298,272.2127192982456],\"10\":[453.6080508474576,417.54237288135596],\"11\":[50.717451523545705,339.73407202216066],\"12\":[188.60814249363867,271.9185750636132],\"13\":[282.4441805225653,321.9144893111639],\"14\":[21.21350762527233,329.9782135076253],\"15\":[140.22278481012657,260.88101265822786],\"16\":[160.17446808510638,89.76808510638298],\"17\":[14.031578947368422,471.2084210526316],\"18\":[41.21535181236674,302.12153518123665],\"19\":[233.91466666666668,272.0826666666667],\"2\":[73.16382978723404,372.48297872340424],\"20\":[405.7416879795396,380.49616368286445],\"21\":[209.48426150121065,332.3922518159806],\"22\":[239.48535564853557,315.14853556485355],\"23\":[185.89253731343283,410.3641791044776],\"24\":[217.4939393939394,296.73030303030305],\"25\":[271.4569190600522,452.2924281984334],\"26\":[229.7301204819277,371.69397590361444],\"27\":[321.4032258064516,198.52620967741936],\"28\":[275.90501319261216,424.1503957783641],\"29\":[292.8826815642458,212.18715083798884],\"3\":[130.05780346820808,287.05202312138726],\"30\":[137.6449864498645,32.50135501355014],\"31\":[303.27522935779814,419.7798165137615],\"32\":[293.18341708542715,355.60804020100505],\"33\":[197.21974522292993,201.65286624203821],\"34\":[281.04260089686096,253.8071748878924],\"35\":[367.85333333333335,380.76533333333333],\"36\":[283.21377672209024,196.6270783847981],\"37\":[340.99595141700405,403.7773279352227],\"38\":[137.83813747228382,233.3880266075388],\"39\":[173.23906705539358,128.50437317784255],\"4\":[143.23924731182797,397.5241935483871],\"40\":[231.07334963325184,176.01466992665036],\"41\":[468.78187919463085,456.01677852348996],\"42\":[158.72700296735906,173.13353115727003],\"43\":[107.99759036144579,62.3421686746988],\"44\":[221.5279805352798,150.61557177615572],\"45\":[23.13888888888889,228.07407407407408],\"46\":[119.66019417475728,31.15857605177994],\"47\":[418.5933682373473,212.5043630017452],\"48\":[192.76487252124645,163.92067988668555],\"49\":[461.60732984293196,289.5183246073298],\"5\":[150.86699507389162,424.23399014778323],\"50\":[270.71338912133893,173.31589958158995],\"51\":[358.0590717299578,413.1645569620253],\"52\":[393.9112627986348,348.06484641638224],\"53\":[343.04662004662003,454.46386946386946],\"54\":[68.25065963060686,205.0],\"55\":[322.08115942028985,444.71884057971016],\"56\":[150.12435233160622,155.8721934369603],\"57\":[323.4166666666667,469.36805555555554],\"58\":[358.25210084033614,193.05042016806723],\"59\":[389.1382636655949,404.2604501607717],\"6\":[164.61904761904762,304.21861471861473],\"60\":[380.5367088607595,275.2987341772152],\"61\":[412.13194444444446,292.0104166666667],\"62\":[115.15035799522673,141.0],\"63\":[291.79802955665025,295.7266009852217],\"64\":[315.50923482849606,169.3825857519789],\"65\":[354.4122621564482,150.02748414376322],\"67\":[446.88841201716735,359.7854077253219],\"68\":[192.4425,71.325],\"69\":[436.6322188449848,375.91185410334344],\"7\":[268.7094430992736,379.9927360774818],\"71\":[326.84444444444443,146.63555555555556],\"72\":[425.5357833655706,460.3384912959381],\"73\":[107.45209580838323,175.17964071856287],\"74\":[229.96594427244582,82.12383900928792],\"76\":[488.42,491.9685714285714],\"77\":[39.41287878787879,8.632575757575758],\"78\":[11.407002188183807,164.5448577680525],\"79\":[77.94488188976378,132.8740157480315],\"8\":[396.3558282208589,258.08895705521473],\"81\":[439.0939947780679,336.85900783289816],\"83\":[506.5182072829132,256.0],\"84\":[96.57106598984771,43.66751269035533],\"85\":[315.4818941504178,68.05571030640668],\"86\":[225.35294117647058,18.705882352941178],\"87\":[52.194148936170215,21.53191489361702],\"88\":[381.1476510067114,113.68120805369128],\"89\":[510.9110320284698,321.8576512455516],\"9\":[46.437710437710436,261.32996632996634],\"90\":[275.3972972972973,107.8108108108108],\"91\":[309.3562231759657,114.53218884120172],\"92\":[359.02061855670104,120.74742268041237],\"93\":[437.9861111111111,178.95833333333334],\"94\":[22.375809935205183,95.11447084233261],\"96\":[396.43646408839777,74.98895027624309],\"97\":[504.5896860986547,478.7017937219731]}},\"id\":\"116905\",\"type\":\"StaticLayoutProvider\"},{\"attributes\":{\"end\":428,\"start\":-40},\"id\":\"116870\",\"type\":\"Range1d\"},{\"attributes\":{\"coordinates\":null,\"edge_renderer\":{\"id\":\"116899\"},\"group\":null,\"inspection_policy\":{\"id\":\"116939\"},\"layout_provider\":{\"id\":\"116905\"},\"node_renderer\":{\"id\":\"116895\"},\"selection_policy\":{\"id\":\"116937\"}},\"id\":\"116892\",\"type\":\"GraphRenderer\"},{\"attributes\":{\"bottom_units\":\"screen\",\"coordinates\":null,\"fill_alpha\":0.5,\"fill_color\":\"lightgrey\",\"group\":null,\"left_units\":\"screen\",\"level\":\"overlay\",\"line_alpha\":1.0,\"line_color\":\"black\",\"line_dash\":[4,4],\"line_width\":2,\"right_units\":\"screen\",\"syncable\":false,\"top_units\":\"screen\"},\"id\":\"118745\",\"type\":\"BoxAnnotation\"},{\"attributes\":{\"size\":{\"value\":15}},\"id\":\"116911\",\"type\":\"Circle\"},{\"attributes\":{\"coordinates\":null,\"data_source\":{\"id\":\"116894\"},\"glyph\":{\"id\":\"116906\"},\"group\":null,\"hover_glyph\":{\"id\":\"116916\"},\"selection_glyph\":{\"id\":\"116911\"},\"view\":{\"id\":\"116896\"}},\"id\":\"116895\",\"type\":\"GlyphRenderer\"},{\"attributes\":{\"overlay\":{\"id\":\"118745\"}},\"id\":\"116883\",\"type\":\"BoxZoomTool\"},{\"attributes\":{},\"id\":\"118746\",\"type\":\"UnionRenderers\"},{\"attributes\":{\"callback\":null},\"id\":\"116877\",\"type\":\"TapTool\"},{\"attributes\":{\"coordinates\":null,\"group\":null,\"text\":\"Region1, diff speak2-speak3, anes\"},\"id\":\"116872\",\"type\":\"Title\"},{\"attributes\":{\"end\":428,\"start\":-40},\"id\":\"116869\",\"type\":\"Range1d\"},{\"attributes\":{\"source\":{\"id\":\"116894\"}},\"id\":\"116896\",\"type\":\"CDSView\"},{\"attributes\":{\"overlay\":{\"id\":\"118744\"}},\"id\":\"116878\",\"type\":\"BoxSelectTool\"},{\"attributes\":{\"callback\":null,\"tooltips\":[[\"index\",\"$index\"],[\"x\",\"@x0\"],[\"y\",\"@y0\"],[\"value\",\"@edge_value\"]]},\"id\":\"116876\",\"type\":\"HoverTool\"},{\"attributes\":{},\"id\":\"118747\",\"type\":\"Selection\"},{\"attributes\":{\"bottom_units\":\"screen\",\"coordinates\":null,\"fill_alpha\":0.5,\"fill_color\":\"lightgrey\",\"group\":null,\"left_units\":\"screen\",\"level\":\"overlay\",\"line_alpha\":1.0,\"line_color\":\"black\",\"line_dash\":[4,4],\"line_width\":2,\"right_units\":\"screen\",\"syncable\":false,\"top_units\":\"screen\"},\"id\":\"118744\",\"type\":\"BoxAnnotation\"},{\"attributes\":{},\"id\":\"118733\",\"type\":\"LinearScale\"},{\"attributes\":{},\"id\":\"116939\",\"type\":\"EdgesAndLinkedNodes\"},{\"attributes\":{},\"id\":\"116882\",\"type\":\"SaveTool\"},{\"attributes\":{\"high\":2,\"low\":-2,\"palette\":[\"#000000\",\"#ff0000\",\"#FFA500\",\"#FFFF00\",\"#00FF00\",\"#0000FF\"]},\"id\":\"116921\",\"type\":\"LinearColorMapper\"}],\"root_ids\":[\"116871\"]},\"title\":\"Bokeh Application\",\"version\":\"2.4.3\"}};\n  const render_items = [{\"docid\":\"5843e6c8-b78b-40e3-a9b5-1a000120d26e\",\"root_ids\":[\"116871\"],\"roots\":{\"116871\":\"15dc924e-0a52-4304-9e93-082996ae13f8\"}}];\n  root.Bokeh.embed.embed_items_notebook(docs_json, render_items);\n  }\n  if (root.Bokeh !== undefined) {\n    embed_document(root);\n  } else {\n    let attempts = 0;\n    const timer = setInterval(function(root) {\n      if (root.Bokeh !== undefined) {\n        clearInterval(timer);\n        embed_document(root);\n      } else {\n        attempts++;\n        if (attempts > 100) {\n          clearInterval(timer);\n          console.log(\"Bokeh: ERROR: Unable to run BokehJS code because BokehJS library is missing\");\n        }\n      }\n    }, 10, root)\n  }\n})(window);",
      "application/vnd.bokehjs_exec.v0+json": ""
     },
     "metadata": {
      "application/vnd.bokehjs_exec.v0+json": {
       "id": "116871"
      }
     },
     "output_type": "display_data"
    }
   ],
   "source": [
    "#lenghts of each trial\n",
    "index = [0, 118, 88, 100, 98, 109, 78, 121, 76, 113, 97, 112, 118]\n",
    "start_an = 0 \n",
    "start_aw = 0\n",
    "\n",
    "for trial in range(1,len(index)):\n",
    "    \n",
    "    index, dat_tr, dat_stan, dat_staw, ind_stan, ind_staw = divide_data(index, trial, mat_load, ind_load)\n",
    "    pos_tr = roi_load[index[trial-1] : index[trial]+1, :, :, :]\n",
    "\n",
    "    #choose state\n",
    "    pos_stan = pos_tr[:, :, 0, :]\n",
    "    pos_staw = pos_tr[:, :, 1, :]\n",
    "    comp1 = pd.DataFrame()\n",
    "    comp2 = pd.DataFrame()\n",
    "    \n",
    "    for sesion in range(4):\n",
    "\n",
    "        tune_ses = tune[sesion][:, :, 0]\n",
    "\n",
    "        #choose session\n",
    "        dat_sean = dat_stan[:, sesion, :, :]\n",
    "        dat_seaw = dat_staw[:, sesion, :, :]\n",
    "        pos_sean = pos_stan[:, :, sesion]\n",
    "        pos_seaw = pos_staw[:, :, sesion]\n",
    "        ind_sean = ind_stan[:, sesion, :, :]\n",
    "        ind_seaw = ind_staw[:, sesion, :, :]\n",
    "        tune_an = tune_ses[:, 0]\n",
    "        tune_aw = tune_ses[:, 1]\n",
    "\n",
    "        #make dict to convert to dataframe\n",
    "        dat_df_an, dat_df_aw = make_dict_one_speaker(index, trial, lista[sesion], dat_sean, dat_seaw, 2, ind_sean, ind_seaw)\n",
    "\n",
    "        #exclude the rows/columns which index is not in the other dataframe\n",
    "        #df_corr_an, df_corr_aw = exclude_nan(dat_df_an, dat_df_aw)\n",
    "        df_corr_an, df_corr_aw = dat_df_an.dropna(axis=1, how='all').dropna(axis=0, how='all'), dat_df_aw.dropna(axis=1, how='all').dropna(axis=0, how='all')\n",
    "        tune_an, tune_aw = tune_an[start_an : start_an+len(df_corr_an)], tune_aw[start_aw : start_aw+len(df_corr_aw)]\n",
    "        start_an += len(df_corr_an)\n",
    "        start_aw += len(df_corr_aw)\n",
    "\n",
    "        df_corr_an_pos = pd.DataFrame(index=df_corr_an.index, columns=df_corr_an.columns)\n",
    "        df_corr_aw_pos = pd.DataFrame(index=df_corr_aw.index, columns=df_corr_aw.columns)\n",
    "        \n",
    "        df_corr_an_posx = [x[0] for x in pos_sean]\n",
    "        df_corr_an_posy = [x[1] for x in pos_sean]\n",
    "\n",
    "        df_corr_aw_posx = [x[0] for x in pos_seaw]\n",
    "        df_corr_aw_posy = [x[1] for x in pos_seaw]\n",
    "\n",
    "        df_an_pos = pd.DataFrame()\n",
    "        df_aw_pos = pd.DataFrame()\n",
    "\n",
    "        df_an_pos[0] = df_corr_an_posx\n",
    "        df_an_pos[1] = df_corr_an_posy\n",
    "        df_aw_pos[0] = df_corr_aw_posx\n",
    "        df_aw_pos[1] = df_corr_aw_posy\n",
    "\n",
    "        #distance correlation\n",
    "        df_corr_an_pos = df_an_pos.corr().dropna(how='all', axis=1).dropna(how='all', axis=0)\n",
    "        df_corr_aw_pos = df_aw_pos.corr().dropna(how='all', axis=1).dropna(how='all', axis=0)\n",
    "\n",
    "        dat_df_an1, dat_df_aw1 = make_dict_one_speaker(index, trial, lista[sesion], dat_sean, dat_seaw, 3, ind_sean, ind_seaw)\n",
    "        \n",
    "        #exclude the rows/columns which index is not in the other dataframe\n",
    "        #df_corr_an, df_corr_aw = exclude_nan(dat_df_an, dat_df_aw)\n",
    "        df_corr_an1, df_corr_aw1 = dat_df_an1.dropna(axis=1, how='all').dropna(axis=0, how='all'), dat_df_aw1.dropna(axis=1, how='all').dropna(axis=0, how='all')\n",
    "        \n",
    "        df_corr_diff = (df_corr_an-df_corr_an1)\n",
    "        links = form_links_diff(df_corr_diff, df_an_pos)\n",
    "        plot_network_graph_diff(links)\n",
    "        break\n",
    "    break"
   ]
  },
  {
   "cell_type": "code",
   "execution_count": null,
   "metadata": {},
   "outputs": [],
   "source": []
  }
 ],
 "metadata": {
  "kernelspec": {
   "display_name": "Python 3.8.8 ('base')",
   "language": "python",
   "name": "python3"
  },
  "language_info": {
   "codemirror_mode": {
    "name": "ipython",
    "version": 3
   },
   "file_extension": ".py",
   "mimetype": "text/x-python",
   "name": "python",
   "nbconvert_exporter": "python",
   "pygments_lexer": "ipython3",
   "version": "3.8.8"
  },
  "orig_nbformat": 4,
  "vscode": {
   "interpreter": {
    "hash": "89c64c5314e05d0c212449e617c6e4d2bb4bca90dd8a65f023aba4e76584049e"
   }
  }
 },
 "nbformat": 4,
 "nbformat_minor": 2
}
