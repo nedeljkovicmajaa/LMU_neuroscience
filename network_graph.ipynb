{
 "cells": [
  {
   "cell_type": "markdown",
   "metadata": {},
   "source": [
    "##### Importing required packages and libraries "
   ]
  },
  {
   "cell_type": "code",
   "execution_count": 1,
   "metadata": {},
   "outputs": [],
   "source": [
    "import scipy.io as sio\n",
    "from scipy.sparse import csr_matrix \n",
    "import numpy as np\n",
    "import matplotlib.pyplot as plt\n",
    "import seaborn as sns\n",
    "import pandas as pd\n",
    "import math"
   ]
  },
  {
   "cell_type": "code",
   "execution_count": 2,
   "metadata": {},
   "outputs": [],
   "source": [
    "import itertools\n",
    "import warnings\n",
    "from cmath import nan"
   ]
  },
  {
   "cell_type": "code",
   "execution_count": 3,
   "metadata": {},
   "outputs": [],
   "source": [
    "#plotly\n",
    "import plotly\n",
    "import plotly.graph_objects as go"
   ]
  },
  {
   "cell_type": "code",
   "execution_count": 4,
   "metadata": {},
   "outputs": [],
   "source": [
    "#networkx\n",
    "import networkx as nx\n",
    "from networkx.algorithms import community\n",
    "import holoviews as hv\n",
    "from holoviews import opts"
   ]
  },
  {
   "cell_type": "code",
   "execution_count": 5,
   "metadata": {},
   "outputs": [],
   "source": [
    "#bokeh for plotting\n",
    "import bokeh.plotting\n",
    "import bokeh.plotting as bk_plotting\n",
    "from bokeh.plotting import from_networkx, figure\n",
    "from bokeh.models import EdgesAndLinkedNodes, NodesAndLinkedEdges, ColorBar\n",
    "from bokeh.io import output_notebook, save, show, reset_output\n",
    "from bokeh.models import Range1d, Circle, ColumnDataSource, MultiLine, EdgesAndLinkedNodes, NodesAndLinkedEdges\n",
    "import bokeh.models as bk_models\n",
    "from bokeh.palettes import Blues8, Reds8, Purples8, Oranges8, Viridis8, Spectral8, Spectral11, Category20_15, Category20_20, Turbo256\n",
    "from bokeh.transform import linear_cmap\n",
    "from bokeh.io import output_file, show\n",
    "from bokeh.models import (BoxSelectTool, Circle, EdgesAndLinkedNodes, HoverTool,\n",
    "                          MultiLine, NodesAndLinkedEdges, Plot, Range1d, TapTool, PanTool,  WheelZoomTool, ResetTool, SaveTool, BoxZoomTool)\n",
    "from bokeh.palettes import Spectral4\n",
    "from bokeh.plotting import from_networkx"
   ]
  },
  {
   "cell_type": "markdown",
   "metadata": {},
   "source": [
    "##### Loading .mat files - respPeak = peak of ind, allROIPositions"
   ]
  },
  {
   "cell_type": "code",
   "execution_count": 6,
   "metadata": {},
   "outputs": [],
   "source": [
    "mat_load = sio.loadmat('C:/Users/Zephyrus/Desktop/respPeak.mat')['x']\n",
    "roi_load = sio.loadmat('C:/Users/Zephyrus/Desktop/allROIPositions.mat')['allROIPositions']\n",
    "list1 = sio.loadmat('C:/Users/Zephyrus/Desktop/indicesSession1.mat')['indSess1']\n",
    "list2 = sio.loadmat('C:/Users/Zephyrus/Desktop/List2.mat')['List2']\n",
    "list3 = sio.loadmat('C:/Users/Zephyrus/Desktop/List3.mat')['List3']\n",
    "list4 = sio.loadmat('C:/Users/Zephyrus/Desktop/List4.mat')['List4']\n",
    "lista = [[k[0] for k in list1], [k[0] for k in list2], [k[0] for k in list3], [k[0] for k in list4]]\n",
    "ind_load = sio.loadmat('C:/Users/Zephyrus/Desktop/blFinalHit.mat')['blFinalHit']\n",
    "indices_load = sio.loadmat('C:/Users/Zephyrus/Desktop/indicesSession1.mat')['indSess1']"
   ]
  },
  {
   "cell_type": "code",
   "execution_count": 7,
   "metadata": {},
   "outputs": [],
   "source": [
    "tune1 = sio.loadmat('C:/Users/Zephyrus/Desktop/tuneCat1.mat')['tuneCat1']\n",
    "tune2 = sio.loadmat('C:/Users/Zephyrus/Desktop/tuneCat2.mat')['tuneCat2']\n",
    "tune3 = sio.loadmat('C:/Users/Zephyrus/Desktop/tuneCat3.mat')['tuneCat3']\n",
    "tune4 = sio.loadmat('C:/Users/Zephyrus/Desktop/tuneCat4.mat')['tuneCat4']\n",
    "tune = [tune1, tune2, tune3, tune4]"
   ]
  },
  {
   "cell_type": "markdown",
   "metadata": {},
   "source": [
    "##### General functions"
   ]
  },
  {
   "cell_type": "code",
   "execution_count": 8,
   "metadata": {},
   "outputs": [],
   "source": [
    "#Dividing data into trials, anst state and awake state\n",
    "\n",
    "def divide_data(index, trial, mat_load, ind_load):\n",
    "\n",
    "    index[trial] = index[trial] + index[trial-1]\n",
    "    dat_tr = mat_load[index[trial-1] : index[trial]+1, :, :, 0, :, :]\n",
    "    ind_tr = ind_load[index[trial-1] : index[trial]+1, :, :, 0, :, :]\n",
    "\n",
    "    #choose state\n",
    "    dat_stan = dat_tr[:, 0, :, :, :]\n",
    "    dat_staw = dat_tr[:, 1, :, :, :]\n",
    "    ind_stan = ind_tr[:, 0, :, :, :]\n",
    "    ind_staw = ind_tr[:, 1, :, :, :]\n",
    "    \n",
    "    return index, dat_tr, dat_stan, dat_staw, ind_stan, ind_staw"
   ]
  },
  {
   "cell_type": "code",
   "execution_count": 9,
   "metadata": {},
   "outputs": [],
   "source": [
    "#make dict to convert to dataframe and computing correlation\n",
    "\n",
    "def make_dict(index, trial, lista, dat_sean, dat_seaw, ind_sean, ind_seaw):\n",
    "\n",
    "    dat_df_an = []\n",
    "    dat_df_aw = []\n",
    "    ind_df_an = []\n",
    "    ind_df_aw = []\n",
    "    for matrix in range(0,np.shape(dat_sean)[0]-1):\n",
    "        if(index[trial-1]+matrix in lista):\n",
    "            dat_df_an.append(dat_sean[matrix].flatten())\n",
    "            dat_df_aw.append(dat_seaw[matrix].flatten())\n",
    "            ind_df_an.append(ind_sean[matrix].flatten())\n",
    "            ind_df_aw.append(ind_seaw[matrix].flatten())\n",
    "    dat_df_an = pd.DataFrame(dat_df_an)*pd.DataFrame(ind_df_an)\n",
    "    dat_df_aw = pd.DataFrame(dat_df_aw)*pd.DataFrame(ind_df_aw)\n",
    "    dat_df_an = dat_df_an.T.corr()\n",
    "    dat_df_aw = dat_df_aw.T.corr()\n",
    "    return dat_df_an, dat_df_aw\n",
    "\n",
    "def make_dict_one_speaker(index, trial, lista, dat_sean, dat_seaw, num, ind_sean, ind_seaw):\n",
    "    \n",
    "    dat_df_an = []\n",
    "    dat_df_aw = []\n",
    "    ind_df_an = []\n",
    "    ind_df_aw = []\n",
    "    for matrix in range(0,np.shape(dat_sean)[0]-1):\n",
    "        if(index[trial-1]+matrix in lista):\n",
    "            dat_df_an.append(dat_sean[matrix][num])\n",
    "            dat_df_aw.append(dat_seaw[matrix][num])\n",
    "            ind_df_an.append(ind_sean[matrix][num])\n",
    "            ind_df_aw.append(ind_seaw[matrix][num])\n",
    "    dat_df_an = pd.DataFrame(dat_df_an)*pd.DataFrame(ind_df_an)\n",
    "    dat_df_aw = pd.DataFrame(dat_df_aw)*pd.DataFrame(ind_df_aw)\n",
    "\n",
    "    dat_df_an = pd.DataFrame(dat_df_an).T.corr()\n",
    "    dat_df_aw = pd.DataFrame(dat_df_aw).T.corr()\n",
    "    return dat_df_an, dat_df_aw"
   ]
  },
  {
   "cell_type": "code",
   "execution_count": 10,
   "metadata": {},
   "outputs": [],
   "source": [
    "#exclude the rows/columns which index is not in the other dataframe\n",
    "def exclude_nan(dat_df_an, dat_df_aw):\n",
    "\n",
    "    df_corr_an = dat_df_an.dropna(how='all', axis=1).dropna(how='all', axis=0)\n",
    "    df_corr_aw = dat_df_aw.dropna(how='all', axis=1).dropna(how='all', axis=0)\n",
    "\n",
    "    mask = df_corr_aw.index.isin(df_corr_an.index)\n",
    "    df_corr_aw = df_corr_aw.loc[mask]\n",
    "    mask = df_corr_an.index.isin(df_corr_aw.index)\n",
    "    df_corr_an = df_corr_an.loc[mask]\n",
    "    mask = []\n",
    "    for x in df_corr_an.columns:\n",
    "        if x not in df_corr_aw.columns:\n",
    "            mask.append(x)\n",
    "    df_corr_an = df_corr_an.drop(columns=mask)\n",
    "    mask = []\n",
    "    for x in df_corr_aw.columns:\n",
    "        if x not in df_corr_an.columns:\n",
    "            mask.append(x)\n",
    "    df_corr_aw = df_corr_aw.drop(columns=mask)\n",
    "\n",
    "    return df_corr_an, df_corr_aw"
   ]
  },
  {
   "cell_type": "markdown",
   "metadata": {},
   "source": [
    "#### Plotting network graph"
   ]
  },
  {
   "cell_type": "markdown",
   "metadata": {},
   "source": [
    "##### Threshold"
   ]
  },
  {
   "cell_type": "code",
   "execution_count": 11,
   "metadata": {},
   "outputs": [],
   "source": [
    "threshold = 0.6"
   ]
  },
  {
   "cell_type": "markdown",
   "metadata": {},
   "source": [
    "##### Form_links"
   ]
  },
  {
   "cell_type": "code",
   "execution_count": 12,
   "metadata": {},
   "outputs": [],
   "source": [
    "def form_links_diff(df_corr, df_pos):\n",
    "\n",
    "    x_coor = df_pos[0]\n",
    "    y_coor = df_pos[1]\n",
    "    links = df_corr.stack()\n",
    "    links = links.reset_index()\n",
    "    links.columns = [\"var1\", \"var2\", \"value\"]\n",
    "    links.loc[:, \"x0\"] = [0 for i in range(len(links))]\n",
    "    links.loc[:, \"y0\"] = [0 for i in range(len(links))]\n",
    "    links.loc[:, \"x1\"] = [0 for i in range(len(links))]\n",
    "    links.loc[:, \"y1\"] = [0 for i in range(len(links))]\n",
    "\n",
    "    for i in range(len(links['x1'])):\n",
    "        links['x0'][i] = x_coor[int(links['var1'][i])]\n",
    "        links['x1'][i] = x_coor[int(links['var2'][i])]\n",
    "        links['y0'][i] = y_coor[int(links['var1'][i])]\n",
    "        links['y1'][i] = y_coor[int(links['var2'][i])]\n",
    "    \n",
    "    return links"
   ]
  },
  {
   "cell_type": "code",
   "execution_count": 13,
   "metadata": {},
   "outputs": [],
   "source": [
    "def form_links(df_corr, df_pos, df_tuned):\n",
    "\n",
    "    x_coor = df_pos[0]\n",
    "    y_coor = df_pos[1]\n",
    "    links = df_corr.stack()\n",
    "    links = links.reset_index()\n",
    "    \n",
    "    links.columns = [\"var1\", \"var2\", \"value\"]\n",
    "    tunes = []\n",
    "    j = links['var1'][0]\n",
    "    br = 0\n",
    "    for i in links['var1']:\n",
    "        if(i!=j):\n",
    "            br+=1\n",
    "        tunes.append(df_tuned[br])\n",
    "        j = i\n",
    "    links['tunes'] = tunes\n",
    "    links.columns = [\"var1\", \"var2\", \"value\", \"tunes\"]\n",
    "\n",
    "    links.loc[:, \"x0\"] = [0 for i in range(len(links))]\n",
    "    links.loc[:, \"y0\"] = [0 for i in range(len(links))]\n",
    "    links.loc[:, \"x1\"] = [0 for i in range(len(links))]\n",
    "    links.loc[:, \"y1\"] = [0 for i in range(len(links))]\n",
    "\n",
    "    for i in range(len(links['x1'])):\n",
    "        links['x0'][i] = x_coor[int(links['var1'][i])]\n",
    "        links['x1'][i] = x_coor[int(links['var2'][i])]\n",
    "        links['y0'][i] = y_coor[int(links['var1'][i])]\n",
    "        links['y1'][i] = y_coor[int(links['var2'][i])]\n",
    "    \n",
    "    return links"
   ]
  },
  {
   "cell_type": "markdown",
   "metadata": {},
   "source": [
    "##### Initial_graph"
   ]
  },
  {
   "cell_type": "code",
   "execution_count": 14,
   "metadata": {},
   "outputs": [],
   "source": [
    "def initial_graph(links):\n",
    "    \n",
    "    G=nx.from_pandas_edgelist(links, source=\"var1\", target=\"var2\", edge_attr=True)\n",
    "\n",
    "    edge_x = []\n",
    "    edge_y = []\n",
    "    for edge in G.edges():\n",
    "        x0, y0 = G.edges[edge]['x0'], G.edges[edge]['y0']\n",
    "        x1, y1 = G.edges[edge]['x1'], G.edges[edge]['y1']\n",
    "        edge_x.append(x0)\n",
    "        edge_x.append(x1)\n",
    "        edge_x.append(None)\n",
    "        edge_y.append(y0)\n",
    "        edge_y.append(y1)\n",
    "        edge_y.append(None)\n",
    "\n",
    "    edge_trace = go.Scatter(\n",
    "        x=edge_x, y=edge_y,\n",
    "        line=dict(width=0.5, color='#888'),\n",
    "        hoverinfo='none',\n",
    "        mode='lines')\n",
    "\n",
    "    return G, edge_x, edge_y, edge_trace"
   ]
  },
  {
   "cell_type": "markdown",
   "metadata": {},
   "source": [
    "##### Data_management"
   ]
  },
  {
   "cell_type": "code",
   "execution_count": 15,
   "metadata": {},
   "outputs": [],
   "source": [
    "def data_management(links, G):\n",
    "    \n",
    "    mask = ~links['var1'].duplicated()\n",
    "    # Get a list of nodes with attributes\n",
    "    nodes = links[mask][[\"var1\", \"x0\",\"var2\",\"x1\"]]\n",
    "    attr_dict_x = nodes.set_index('var1')['x0'].to_dict()\n",
    "    nx.set_node_attributes(G, attr_dict_x, 'x0')\n",
    "\n",
    "    mask = ~links['var1'].duplicated()\n",
    "    # Get a list of nodes with attributes\n",
    "    nodes = links[mask][[\"var1\", \"y0\",\"var2\",\"y1\"]]\n",
    "    attr_dict_y = nodes.set_index('var1')['y0'].to_dict()\n",
    "    nx.set_node_attributes(G, attr_dict_y, 'y0')\n",
    "\n",
    "    mask = ~links['var1'].duplicated()\n",
    "    # Get a list of nodes with attributes\n",
    "    nodes = links[mask][[\"var1\", \"tunes\"]]\n",
    "    attr_dict_t = nodes.set_index('var1')['tunes'].to_dict()\n",
    "    nx.set_node_attributes(G, attr_dict_t, 'tunes')\n",
    "\n",
    "    edge_attrs = {}\n",
    "    \n",
    "    for start_node, end_node, info in G.edges(data=True):\n",
    "        edge_attrs[(start_node, end_node)] = info['value']\n",
    "        \n",
    "            \n",
    "    nx.set_edge_attributes(G, edge_attrs, \"edge_value\")\n",
    "    \n",
    "    tunes = 'tunes'\n",
    "\n",
    "    HOVER_TOOLTIPS = [\n",
    "        (\"index\", \"$index\"),\n",
    "        (\"x\", \"@x0\"),\n",
    "        (\"y\", \"@y0\"),\n",
    "        (\"value\", \"@edge_value\"),\n",
    "        (\"tunes\", \"@tunes\")\n",
    "    ]\n",
    "\n",
    "    return G, HOVER_TOOLTIPS, tunes, attr_dict_x, attr_dict_y"
   ]
  },
  {
   "cell_type": "code",
   "execution_count": 16,
   "metadata": {},
   "outputs": [],
   "source": [
    "def data_management_diff(links, G):\n",
    "    \n",
    "    mask = ~links['var1'].duplicated()\n",
    "    # Get a list of nodes with attributes\n",
    "    nodes = links[mask][[\"var1\", \"x0\",\"var2\",\"x1\"]]\n",
    "    attr_dict_x = nodes.set_index('var1')['x0'].to_dict()\n",
    "    nx.set_node_attributes(G, attr_dict_x, 'x0')\n",
    "\n",
    "    mask = ~links['var1'].duplicated()\n",
    "    # Get a list of nodes with attributes\n",
    "    nodes = links[mask][[\"var1\", \"y0\",\"var2\",\"y1\"]]\n",
    "    attr_dict_y = nodes.set_index('var1')['y0'].to_dict()\n",
    "    nx.set_node_attributes(G, attr_dict_y, 'y0')\n",
    "\n",
    "    edge_attrs = {}\n",
    "    \n",
    "    for start_node, end_node, info in G.edges(data=True):\n",
    "        edge_attrs[(start_node, end_node)] = info['value']\n",
    "        \n",
    "            \n",
    "    nx.set_edge_attributes(G, edge_attrs, \"edge_value\")\n",
    "\n",
    "    HOVER_TOOLTIPS = [\n",
    "        (\"index\", \"$index\"),\n",
    "        (\"x\", \"@x0\"),\n",
    "        (\"y\", \"@y0\"),\n",
    "        (\"value\", \"@edge_value\"),\n",
    "    ]\n",
    "\n",
    "    return G, HOVER_TOOLTIPS, attr_dict_x, attr_dict_y"
   ]
  },
  {
   "cell_type": "markdown",
   "metadata": {},
   "source": [
    "##### Node_size"
   ]
  },
  {
   "cell_type": "code",
   "execution_count": 17,
   "metadata": {},
   "outputs": [],
   "source": [
    "def node_size(G):\n",
    "    \n",
    "    adjusted_node_size = dict([(node, 10) for node, degree in nx.degree(G)])\n",
    "    nx.set_node_attributes(G, name='adjusted_node_size', values=adjusted_node_size)\n",
    "    size_by_this_attribute = 'adjusted_node_size'\n",
    "    \n",
    "    return G, size_by_this_attribute\n",
    "    "
   ]
  },
  {
   "cell_type": "markdown",
   "metadata": {},
   "source": [
    "##### Remove_edges"
   ]
  },
  {
   "cell_type": "code",
   "execution_count": 18,
   "metadata": {},
   "outputs": [],
   "source": [
    "def remove_edges(G, threshold):\n",
    "    \n",
    "    G.remove_edges_from([(x, y) for x, y, t in G.edges.data(data=True) if t['value'] < threshold and t['value'] > -threshold])\n",
    "    \n",
    "    return G"
   ]
  },
  {
   "cell_type": "markdown",
   "metadata": {},
   "source": [
    "##### Plot_graph"
   ]
  },
  {
   "cell_type": "code",
   "execution_count": 19,
   "metadata": {},
   "outputs": [],
   "source": [
    "def plot_graph(attr_dict_x, attr_dict_y, G, edge_trace, size_by_this_attribute, tunes, HOVER_TOOLTIPS):\n",
    "\n",
    "    plot = Plot(width=1000, height=720,\n",
    "            x_range=Range1d(min(attr_dict_x)*4-40, max(attr_dict_x)*4+40), y_range=Range1d(min(attr_dict_y)*4-40, max(attr_dict_y)*4+40))\n",
    "    plot.add_tools(HoverTool(tooltips=HOVER_TOOLTIPS), TapTool(), BoxSelectTool(), WheelZoomTool(), ResetTool(), PanTool(), SaveTool(), BoxZoomTool())\n",
    "    pos = {}\n",
    "    for i in nx.spring_layout(G, iterations=40).keys():\n",
    "        pos[i] = np.array([attr_dict_x[i], attr_dict_y[i]])\n",
    "    network_graph = from_networkx(G, pos, scale = 1, center = (0, 0))\n",
    "\n",
    "    #Set node sizes and colors according to node degree (color as category from attribute)\n",
    "    #network_graph.node_renderer.glyph = Circle(size=size_by_this_attribute)\n",
    "\n",
    "    #Set edge opacity and width\n",
    "    #network_graph.edge_renderer.glyph = MultiLine(line_color=\"edge_color\", line_alpha=0.5, line_width=1)\n",
    "    minimum_value_color = 1\n",
    "    maximum_value_color = 6\n",
    "    mapper1 = linear_cmap(field_name='tunes', palette = Purples8, low=minimum_value_color, high=maximum_value_color)\n",
    "    \n",
    "    network_graph.node_renderer.glyph = Circle(size=15, fill_color=mapper1)\n",
    "    network_graph.node_renderer.selection_glyph = Circle(size=15, fill_color=mapper1)\n",
    "    network_graph.node_renderer.hover_glyph = Circle(size=15, fill_color=mapper1)\n",
    "\n",
    "    min_val = -1\n",
    "    max_val = 1\n",
    "   \n",
    "    mapper = linear_cmap(field_name='value', palette=Turbo256 ,low=min_val ,high=max_val)\n",
    "\n",
    "    network_graph.edge_renderer.glyph = MultiLine(line_color=mapper, line_alpha=0.5, line_width=5)\n",
    "    network_graph.edge_renderer.selection_glyph = MultiLine(line_color=Spectral4[0], line_width=5)\n",
    "    network_graph.edge_renderer.hover_glyph = MultiLine(line_color=Spectral4[0], line_width=5)\n",
    "\n",
    "\n",
    "    network_graph.selection_policy = NodesAndLinkedEdges()\n",
    "    network_graph.inspection_policy = EdgesAndLinkedNodes()\n",
    "\n",
    "    plot.renderers.append(network_graph)\n",
    "\n",
    "    color_bar = ColorBar(color_mapper=mapper['transform'], width=8)\n",
    "    color_bar1 = ColorBar(color_mapper=mapper1['transform'], width=8)\n",
    "    plot.add_layout(color_bar1, 'left')\n",
    "    plot.add_layout(color_bar, 'right')\n",
    "    \n",
    "    show(plot)\n",
    "    #output_file(filename=\"custom_filename.html\", title=\"Static HTML file\")\n",
    "    #save(plot)"
   ]
  },
  {
   "cell_type": "code",
   "execution_count": 20,
   "metadata": {},
   "outputs": [],
   "source": [
    "def plot_graph_diff(attr_dict_x, attr_dict_y, G, edge_trace, size_by_this_attribute, HOVER_TOOLTIPS):\n",
    "\n",
    "    plot = Plot(width=1000, height=720,\n",
    "            x_range=Range1d(min(attr_dict_x)*4-40, max(attr_dict_x)*4+40), y_range=Range1d(min(attr_dict_y)*4-40, max(attr_dict_y)*4+40))\n",
    "    plot.add_tools(HoverTool(tooltips=HOVER_TOOLTIPS), TapTool(), BoxSelectTool(), WheelZoomTool(), ResetTool(), PanTool(), SaveTool(), BoxZoomTool())\n",
    "    pos = {}\n",
    "    for i in nx.spring_layout(G, iterations=40).keys():\n",
    "        pos[i] = np.array([attr_dict_x[i], attr_dict_y[i]])\n",
    "    network_graph = from_networkx(G, pos, scale = 1, center = (0, 0))\n",
    "\n",
    "    #Set node sizes and colors according to node degree (color as category from attribute)\n",
    "    #network_graph.node_renderer.glyph = Circle(size=size_by_this_attribute)\n",
    "\n",
    "    #Set edge opacity and width\n",
    "    \n",
    "    network_graph.node_renderer.glyph = Circle(size=15)\n",
    "    network_graph.node_renderer.selection_glyph = Circle(size=15)\n",
    "    network_graph.node_renderer.hover_glyph = Circle(size=15)\n",
    "\n",
    "    min_val = -2\n",
    "    max_val = 2\n",
    "   \n",
    "    mapper = linear_cmap(field_name='value', palette=Turbo256 ,low=min_val ,high=max_val)\n",
    "\n",
    "    network_graph.edge_renderer.glyph = MultiLine(line_color=mapper, line_alpha=0.5, line_width=5)\n",
    "    network_graph.edge_renderer.selection_glyph = MultiLine(line_color=Spectral4[0], line_width=5)\n",
    "    network_graph.edge_renderer.hover_glyph = MultiLine(line_color=Spectral4[0], line_width=5)\n",
    "\n",
    "\n",
    "    network_graph.selection_policy = NodesAndLinkedEdges()\n",
    "    network_graph.inspection_policy = EdgesAndLinkedNodes()\n",
    "\n",
    "    plot.renderers.append(network_graph)\n",
    "\n",
    "    color_bar = ColorBar(color_mapper=mapper['transform'], width=8)\n",
    "    plot.add_layout(color_bar, 'right')\n",
    "    \n",
    "    show(plot)\n",
    "    #output_file(filename=\"custom_filename.html\", title=\"Static HTML file\")\n",
    "    #save(plot)"
   ]
  },
  {
   "cell_type": "markdown",
   "metadata": {},
   "source": [
    "##### Plot_network_graph"
   ]
  },
  {
   "cell_type": "code",
   "execution_count": 21,
   "metadata": {},
   "outputs": [],
   "source": [
    "def plot_network_graph(links):\n",
    "    \n",
    "    G, edge_x, edge_y, edge_trace = initial_graph(links)\n",
    "    G, HOVER_TOOLTIPS, color_by_this_attribute, attr_dict_x, attr_dict_y = data_management(links, G)\n",
    "    G, size_by_this_attribute = node_size(G)\n",
    "    G = remove_edges(G, threshold)\n",
    "    output_notebook()\n",
    "    plot_graph(attr_dict_x, attr_dict_y, G, edge_trace, size_by_this_attribute, color_by_this_attribute, HOVER_TOOLTIPS)\n",
    "    "
   ]
  },
  {
   "cell_type": "code",
   "execution_count": 22,
   "metadata": {},
   "outputs": [],
   "source": [
    "def plot_network_graph_diff(links):\n",
    "    \n",
    "    G, edge_x, edge_y, edge_trace = initial_graph(links)\n",
    "    G, HOVER_TOOLTIPS, attr_dict_x, attr_dict_y = data_management_diff(links, G)\n",
    "    G, size_by_this_attribute = node_size(G)\n",
    "    G = remove_edges(G, threshold)\n",
    "    output_notebook()\n",
    "    plot_graph_diff(attr_dict_x, attr_dict_y, G, edge_trace, size_by_this_attribute, HOVER_TOOLTIPS)"
   ]
  },
  {
   "cell_type": "code",
   "execution_count": 23,
   "metadata": {},
   "outputs": [
    {
     "data": {
      "text/plain": [
       "\"\\nDifferent ways to plot the network graph\\n\\nplt.figure(figsize=(15,15))\\nfor i in range(0, len(y_coor), 1):\\n    plt.plot(x_coor[i:i+2], y_coor[i:i+2], 'ro-')\\nplt.plot(df_an_pos[0], df_an_pos[1], 'o')\\n\""
      ]
     },
     "execution_count": 23,
     "metadata": {},
     "output_type": "execute_result"
    }
   ],
   "source": [
    "\"\"\"\n",
    "Different ways to plot the network graph\n",
    "\n",
    "plt.figure(figsize=(15,15))\n",
    "for i in range(0, len(y_coor), 1):\n",
    "    plt.plot(x_coor[i:i+2], y_coor[i:i+2], 'ro-')\n",
    "plt.plot(df_an_pos[0], df_an_pos[1], 'o')\n",
    "\"\"\""
   ]
  },
  {
   "cell_type": "markdown",
   "metadata": {},
   "source": [
    "### Graph representation"
   ]
  },
  {
   "cell_type": "code",
   "execution_count": 27,
   "metadata": {},
   "outputs": [
    {
     "data": {
      "text/html": [
       "\n",
       "    <div class=\"bk-root\">\n",
       "        <a href=\"https://bokeh.org\" target=\"_blank\" class=\"bk-logo bk-logo-small bk-logo-notebook\"></a>\n",
       "        <span id=\"1068\">Loading BokehJS ...</span>\n",
       "    </div>"
      ]
     },
     "metadata": {},
     "output_type": "display_data"
    },
    {
     "data": {
      "application/javascript": "\n(function(root) {\n  function now() {\n    return new Date();\n  }\n\n  var force = true;\n\n  if (typeof root._bokeh_onload_callbacks === \"undefined\" || force === true) {\n    root._bokeh_onload_callbacks = [];\n    root._bokeh_is_loading = undefined;\n  }\n\n  var JS_MIME_TYPE = 'application/javascript';\n  var HTML_MIME_TYPE = 'text/html';\n  var EXEC_MIME_TYPE = 'application/vnd.bokehjs_exec.v0+json';\n  var CLASS_NAME = 'output_bokeh rendered_html';\n\n  /**\n   * Render data to the DOM node\n   */\n  function render(props, node) {\n    var script = document.createElement(\"script\");\n    node.appendChild(script);\n  }\n\n  /**\n   * Handle when an output is cleared or removed\n   */\n  function handleClearOutput(event, handle) {\n    var cell = handle.cell;\n\n    var id = cell.output_area._bokeh_element_id;\n    var server_id = cell.output_area._bokeh_server_id;\n    // Clean up Bokeh references\n    if (id != null && id in Bokeh.index) {\n      Bokeh.index[id].model.document.clear();\n      delete Bokeh.index[id];\n    }\n\n    if (server_id !== undefined) {\n      // Clean up Bokeh references\n      var cmd = \"from bokeh.io.state import curstate; print(curstate().uuid_to_server['\" + server_id + \"'].get_sessions()[0].document.roots[0]._id)\";\n      cell.notebook.kernel.execute(cmd, {\n        iopub: {\n          output: function(msg) {\n            var id = msg.content.text.trim();\n            if (id in Bokeh.index) {\n              Bokeh.index[id].model.document.clear();\n              delete Bokeh.index[id];\n            }\n          }\n        }\n      });\n      // Destroy server and session\n      var cmd = \"import bokeh.io.notebook as ion; ion.destroy_server('\" + server_id + \"')\";\n      cell.notebook.kernel.execute(cmd);\n    }\n  }\n\n  /**\n   * Handle when a new output is added\n   */\n  function handleAddOutput(event, handle) {\n    var output_area = handle.output_area;\n    var output = handle.output;\n\n    // limit handleAddOutput to display_data with EXEC_MIME_TYPE content only\n    if ((output.output_type != \"display_data\") || (!Object.prototype.hasOwnProperty.call(output.data, EXEC_MIME_TYPE))) {\n      return\n    }\n\n    var toinsert = output_area.element.find(\".\" + CLASS_NAME.split(' ')[0]);\n\n    if (output.metadata[EXEC_MIME_TYPE][\"id\"] !== undefined) {\n      toinsert[toinsert.length - 1].firstChild.textContent = output.data[JS_MIME_TYPE];\n      // store reference to embed id on output_area\n      output_area._bokeh_element_id = output.metadata[EXEC_MIME_TYPE][\"id\"];\n    }\n    if (output.metadata[EXEC_MIME_TYPE][\"server_id\"] !== undefined) {\n      var bk_div = document.createElement(\"div\");\n      bk_div.innerHTML = output.data[HTML_MIME_TYPE];\n      var script_attrs = bk_div.children[0].attributes;\n      for (var i = 0; i < script_attrs.length; i++) {\n        toinsert[toinsert.length - 1].firstChild.setAttribute(script_attrs[i].name, script_attrs[i].value);\n        toinsert[toinsert.length - 1].firstChild.textContent = bk_div.children[0].textContent\n      }\n      // store reference to server id on output_area\n      output_area._bokeh_server_id = output.metadata[EXEC_MIME_TYPE][\"server_id\"];\n    }\n  }\n\n  function register_renderer(events, OutputArea) {\n\n    function append_mime(data, metadata, element) {\n      // create a DOM node to render to\n      var toinsert = this.create_output_subarea(\n        metadata,\n        CLASS_NAME,\n        EXEC_MIME_TYPE\n      );\n      this.keyboard_manager.register_events(toinsert);\n      // Render to node\n      var props = {data: data, metadata: metadata[EXEC_MIME_TYPE]};\n      render(props, toinsert[toinsert.length - 1]);\n      element.append(toinsert);\n      return toinsert\n    }\n\n    /* Handle when an output is cleared or removed */\n    events.on('clear_output.CodeCell', handleClearOutput);\n    events.on('delete.Cell', handleClearOutput);\n\n    /* Handle when a new output is added */\n    events.on('output_added.OutputArea', handleAddOutput);\n\n    /**\n     * Register the mime type and append_mime function with output_area\n     */\n    OutputArea.prototype.register_mime_type(EXEC_MIME_TYPE, append_mime, {\n      /* Is output safe? */\n      safe: true,\n      /* Index of renderer in `output_area.display_order` */\n      index: 0\n    });\n  }\n\n  // register the mime type if in Jupyter Notebook environment and previously unregistered\n  if (root.Jupyter !== undefined) {\n    var events = require('base/js/events');\n    var OutputArea = require('notebook/js/outputarea').OutputArea;\n\n    if (OutputArea.prototype.mime_types().indexOf(EXEC_MIME_TYPE) == -1) {\n      register_renderer(events, OutputArea);\n    }\n  }\n\n  \n  if (typeof (root._bokeh_timeout) === \"undefined\" || force === true) {\n    root._bokeh_timeout = Date.now() + 5000;\n    root._bokeh_failed_load = false;\n  }\n\n  var NB_LOAD_WARNING = {'data': {'text/html':\n     \"<div style='background-color: #fdd'>\\n\"+\n     \"<p>\\n\"+\n     \"BokehJS does not appear to have successfully loaded. If loading BokehJS from CDN, this \\n\"+\n     \"may be due to a slow or bad network connection. Possible fixes:\\n\"+\n     \"</p>\\n\"+\n     \"<ul>\\n\"+\n     \"<li>re-rerun `output_notebook()` to attempt to load from CDN again, or</li>\\n\"+\n     \"<li>use INLINE resources instead, as so:</li>\\n\"+\n     \"</ul>\\n\"+\n     \"<code>\\n\"+\n     \"from bokeh.resources import INLINE\\n\"+\n     \"output_notebook(resources=INLINE)\\n\"+\n     \"</code>\\n\"+\n     \"</div>\"}};\n\n  function display_loaded() {\n    var el = document.getElementById(\"1068\");\n    if (el != null) {\n      el.textContent = \"BokehJS is loading...\";\n    }\n    if (root.Bokeh !== undefined) {\n      if (el != null) {\n        el.textContent = \"BokehJS \" + root.Bokeh.version + \" successfully loaded.\";\n      }\n    } else if (Date.now() < root._bokeh_timeout) {\n      setTimeout(display_loaded, 100)\n    }\n  }\n\n\n  function run_callbacks() {\n    try {\n      root._bokeh_onload_callbacks.forEach(function(callback) {\n        if (callback != null)\n          callback();\n      });\n    } finally {\n      delete root._bokeh_onload_callbacks\n    }\n    console.debug(\"Bokeh: all callbacks have finished\");\n  }\n\n  function load_libs(css_urls, js_urls, callback) {\n    if (css_urls == null) css_urls = [];\n    if (js_urls == null) js_urls = [];\n\n    root._bokeh_onload_callbacks.push(callback);\n    if (root._bokeh_is_loading > 0) {\n      console.debug(\"Bokeh: BokehJS is being loaded, scheduling callback at\", now());\n      return null;\n    }\n    if (js_urls == null || js_urls.length === 0) {\n      run_callbacks();\n      return null;\n    }\n    console.debug(\"Bokeh: BokehJS not loaded, scheduling load and callback at\", now());\n    root._bokeh_is_loading = css_urls.length + js_urls.length;\n\n    function on_load() {\n      root._bokeh_is_loading--;\n      if (root._bokeh_is_loading === 0) {\n        console.debug(\"Bokeh: all BokehJS libraries/stylesheets loaded\");\n        run_callbacks()\n      }\n    }\n\n    function on_error(url) {\n      console.error(\"failed to load \" + url);\n    }\n\n    for (let i = 0; i < css_urls.length; i++) {\n      const url = css_urls[i];\n      const element = document.createElement(\"link\");\n      element.onload = on_load;\n      element.onerror = on_error.bind(null, url);\n      element.rel = \"stylesheet\";\n      element.type = \"text/css\";\n      element.href = url;\n      console.debug(\"Bokeh: injecting link tag for BokehJS stylesheet: \", url);\n      document.body.appendChild(element);\n    }\n\n    const hashes = {\"https://cdn.bokeh.org/bokeh/release/bokeh-2.3.2.min.js\": \"XypntL49z55iwGVUW4qsEu83zKL3XEcz0MjuGOQ9SlaaQ68X/g+k1FcioZi7oQAc\", \"https://cdn.bokeh.org/bokeh/release/bokeh-tables-2.3.2.min.js\": \"bEsM86IHGDTLCS0Zod8a8WM6Y4+lafAL/eSiyQcuPzinmWNgNO2/olUF0Z2Dkn5i\", \"https://cdn.bokeh.org/bokeh/release/bokeh-widgets-2.3.2.min.js\": \"TX0gSQTdXTTeScqxj6PVQxTiRW8DOoGVwinyi1D3kxv7wuxQ02XkOxv0xwiypcAH\"};\n\n    for (let i = 0; i < js_urls.length; i++) {\n      const url = js_urls[i];\n      const element = document.createElement('script');\n      element.onload = on_load;\n      element.onerror = on_error.bind(null, url);\n      element.async = false;\n      element.src = url;\n      if (url in hashes) {\n        element.crossOrigin = \"anonymous\";\n        element.integrity = \"sha384-\" + hashes[url];\n      }\n      console.debug(\"Bokeh: injecting script tag for BokehJS library: \", url);\n      document.head.appendChild(element);\n    }\n  };\n\n  function inject_raw_css(css) {\n    const element = document.createElement(\"style\");\n    element.appendChild(document.createTextNode(css));\n    document.body.appendChild(element);\n  }\n\n  \n  var js_urls = [\"https://cdn.bokeh.org/bokeh/release/bokeh-2.3.2.min.js\", \"https://cdn.bokeh.org/bokeh/release/bokeh-widgets-2.3.2.min.js\", \"https://cdn.bokeh.org/bokeh/release/bokeh-tables-2.3.2.min.js\", \"https://unpkg.com/@holoviz/panel@^0.12.1/dist/panel.min.js\"];\n  var css_urls = [];\n  \n\n  var inline_js = [\n    function(Bokeh) {\n      Bokeh.set_log_level(\"info\");\n    },\n    function(Bokeh) {\n    \n    \n    }\n  ];\n\n  function run_inline_js() {\n    \n    if (root.Bokeh !== undefined || force === true) {\n      \n    for (var i = 0; i < inline_js.length; i++) {\n      inline_js[i].call(root, root.Bokeh);\n    }\n    if (force === true) {\n        display_loaded();\n      }} else if (Date.now() < root._bokeh_timeout) {\n      setTimeout(run_inline_js, 100);\n    } else if (!root._bokeh_failed_load) {\n      console.log(\"Bokeh: BokehJS failed to load within specified timeout.\");\n      root._bokeh_failed_load = true;\n    } else if (force !== true) {\n      var cell = $(document.getElementById(\"1068\")).parents('.cell').data().cell;\n      cell.output_area.append_execute_result(NB_LOAD_WARNING)\n    }\n\n  }\n\n  if (root._bokeh_is_loading === 0) {\n    console.debug(\"Bokeh: BokehJS loaded, going straight to plotting\");\n    run_inline_js();\n  } else {\n    load_libs(css_urls, js_urls, function() {\n      console.debug(\"Bokeh: BokehJS plotting callback run at\", now());\n      run_inline_js();\n    });\n  }\n}(window));",
      "application/vnd.bokehjs_load.v0+json": ""
     },
     "metadata": {},
     "output_type": "display_data"
    },
    {
     "ename": "NetworkXError",
     "evalue": "random_state_index is incorrect",
     "output_type": "error",
     "traceback": [
      "\u001b[1;31m---------------------------------------------------------------------------\u001b[0m",
      "\u001b[1;31mIndexError\u001b[0m                                Traceback (most recent call last)",
      "\u001b[1;32mc:\\Users\\Zephyrus\\anaconda3\\lib\\site-packages\\networkx\\utils\\decorators.py\u001b[0m in \u001b[0;36m_random_state\u001b[1;34m(func, *args, **kwargs)\u001b[0m\n\u001b[0;32m    395\u001b[0m         \u001b[1;32mtry\u001b[0m\u001b[1;33m:\u001b[0m\u001b[1;33m\u001b[0m\u001b[1;33m\u001b[0m\u001b[0m\n\u001b[1;32m--> 396\u001b[1;33m             \u001b[0mrandom_state_arg\u001b[0m \u001b[1;33m=\u001b[0m \u001b[0margs\u001b[0m\u001b[1;33m[\u001b[0m\u001b[0mrandom_state_index\u001b[0m\u001b[1;33m]\u001b[0m\u001b[1;33m\u001b[0m\u001b[1;33m\u001b[0m\u001b[0m\n\u001b[0m\u001b[0;32m    397\u001b[0m         \u001b[1;32mexcept\u001b[0m \u001b[0mTypeError\u001b[0m \u001b[1;32mas\u001b[0m \u001b[0me\u001b[0m\u001b[1;33m:\u001b[0m\u001b[1;33m\u001b[0m\u001b[1;33m\u001b[0m\u001b[0m\n",
      "\u001b[1;31mIndexError\u001b[0m: tuple index out of range",
      "\nThe above exception was the direct cause of the following exception:\n",
      "\u001b[1;31mNetworkXError\u001b[0m                             Traceback (most recent call last)",
      "\u001b[1;32m<ipython-input-27-0764caa060cb>\u001b[0m in \u001b[0;36m<module>\u001b[1;34m\u001b[0m\n\u001b[0;32m     57\u001b[0m         \u001b[1;31m#df_corr_diff = (df_corr_aw-df_corr_an)\u001b[0m\u001b[1;33m\u001b[0m\u001b[1;33m\u001b[0m\u001b[1;33m\u001b[0m\u001b[0m\n\u001b[0;32m     58\u001b[0m         \u001b[0mlinks\u001b[0m \u001b[1;33m=\u001b[0m \u001b[0mform_links\u001b[0m\u001b[1;33m(\u001b[0m\u001b[0mdf_corr_an\u001b[0m\u001b[1;33m,\u001b[0m \u001b[0mdf_an_pos\u001b[0m\u001b[1;33m,\u001b[0m \u001b[0mtune_an\u001b[0m\u001b[1;33m)\u001b[0m\u001b[1;33m\u001b[0m\u001b[1;33m\u001b[0m\u001b[0m\n\u001b[1;32m---> 59\u001b[1;33m         \u001b[0mplot_network_graph\u001b[0m\u001b[1;33m(\u001b[0m\u001b[0mlinks\u001b[0m\u001b[1;33m)\u001b[0m\u001b[1;33m\u001b[0m\u001b[1;33m\u001b[0m\u001b[0m\n\u001b[0m\u001b[0;32m     60\u001b[0m \u001b[1;33m\u001b[0m\u001b[0m\n\u001b[0;32m     61\u001b[0m         \u001b[1;32mbreak\u001b[0m\u001b[1;33m\u001b[0m\u001b[1;33m\u001b[0m\u001b[0m\n",
      "\u001b[1;32m<ipython-input-21-a2446aa0603b>\u001b[0m in \u001b[0;36mplot_network_graph\u001b[1;34m(links)\u001b[0m\n\u001b[0;32m      6\u001b[0m     \u001b[0mG\u001b[0m \u001b[1;33m=\u001b[0m \u001b[0mremove_edges\u001b[0m\u001b[1;33m(\u001b[0m\u001b[0mG\u001b[0m\u001b[1;33m,\u001b[0m \u001b[0mthreshold\u001b[0m\u001b[1;33m)\u001b[0m\u001b[1;33m\u001b[0m\u001b[1;33m\u001b[0m\u001b[0m\n\u001b[0;32m      7\u001b[0m     \u001b[0moutput_notebook\u001b[0m\u001b[1;33m(\u001b[0m\u001b[1;33m)\u001b[0m\u001b[1;33m\u001b[0m\u001b[1;33m\u001b[0m\u001b[0m\n\u001b[1;32m----> 8\u001b[1;33m     \u001b[0mplot_graph\u001b[0m\u001b[1;33m(\u001b[0m\u001b[0mattr_dict_x\u001b[0m\u001b[1;33m,\u001b[0m \u001b[0mattr_dict_y\u001b[0m\u001b[1;33m,\u001b[0m \u001b[0mG\u001b[0m\u001b[1;33m,\u001b[0m \u001b[0medge_trace\u001b[0m\u001b[1;33m,\u001b[0m \u001b[0msize_by_this_attribute\u001b[0m\u001b[1;33m,\u001b[0m \u001b[0mcolor_by_this_attribute\u001b[0m\u001b[1;33m,\u001b[0m \u001b[0mHOVER_TOOLTIPS\u001b[0m\u001b[1;33m)\u001b[0m\u001b[1;33m\u001b[0m\u001b[1;33m\u001b[0m\u001b[0m\n\u001b[0m\u001b[0;32m      9\u001b[0m \u001b[1;33m\u001b[0m\u001b[0m\n",
      "\u001b[1;32m<ipython-input-19-abe05df552f0>\u001b[0m in \u001b[0;36mplot_graph\u001b[1;34m(attr_dict_x, attr_dict_y, G, edge_trace, size_by_this_attribute, tunes, HOVER_TOOLTIPS)\u001b[0m\n\u001b[0;32m      5\u001b[0m     \u001b[0mplot\u001b[0m\u001b[1;33m.\u001b[0m\u001b[0madd_tools\u001b[0m\u001b[1;33m(\u001b[0m\u001b[0mHoverTool\u001b[0m\u001b[1;33m(\u001b[0m\u001b[0mtooltips\u001b[0m\u001b[1;33m=\u001b[0m\u001b[0mHOVER_TOOLTIPS\u001b[0m\u001b[1;33m)\u001b[0m\u001b[1;33m,\u001b[0m \u001b[0mTapTool\u001b[0m\u001b[1;33m(\u001b[0m\u001b[1;33m)\u001b[0m\u001b[1;33m,\u001b[0m \u001b[0mBoxSelectTool\u001b[0m\u001b[1;33m(\u001b[0m\u001b[1;33m)\u001b[0m\u001b[1;33m,\u001b[0m \u001b[0mWheelZoomTool\u001b[0m\u001b[1;33m(\u001b[0m\u001b[1;33m)\u001b[0m\u001b[1;33m,\u001b[0m \u001b[0mResetTool\u001b[0m\u001b[1;33m(\u001b[0m\u001b[1;33m)\u001b[0m\u001b[1;33m,\u001b[0m \u001b[0mPanTool\u001b[0m\u001b[1;33m(\u001b[0m\u001b[1;33m)\u001b[0m\u001b[1;33m,\u001b[0m \u001b[0mSaveTool\u001b[0m\u001b[1;33m(\u001b[0m\u001b[1;33m)\u001b[0m\u001b[1;33m,\u001b[0m \u001b[0mBoxZoomTool\u001b[0m\u001b[1;33m(\u001b[0m\u001b[1;33m)\u001b[0m\u001b[1;33m)\u001b[0m\u001b[1;33m\u001b[0m\u001b[1;33m\u001b[0m\u001b[0m\n\u001b[0;32m      6\u001b[0m     \u001b[0mpos\u001b[0m \u001b[1;33m=\u001b[0m \u001b[1;33m{\u001b[0m\u001b[1;33m}\u001b[0m\u001b[1;33m\u001b[0m\u001b[1;33m\u001b[0m\u001b[0m\n\u001b[1;32m----> 7\u001b[1;33m     \u001b[1;32mfor\u001b[0m \u001b[0mi\u001b[0m \u001b[1;32min\u001b[0m \u001b[0mnx\u001b[0m\u001b[1;33m.\u001b[0m\u001b[0mspring_layout\u001b[0m\u001b[1;33m(\u001b[0m\u001b[0mG\u001b[0m\u001b[1;33m,\u001b[0m \u001b[0miterations\u001b[0m\u001b[1;33m=\u001b[0m\u001b[1;36m40\u001b[0m\u001b[1;33m)\u001b[0m\u001b[1;33m.\u001b[0m\u001b[0mkeys\u001b[0m\u001b[1;33m(\u001b[0m\u001b[1;33m)\u001b[0m\u001b[1;33m:\u001b[0m\u001b[1;33m\u001b[0m\u001b[1;33m\u001b[0m\u001b[0m\n\u001b[0m\u001b[0;32m      8\u001b[0m         \u001b[0mpos\u001b[0m\u001b[1;33m[\u001b[0m\u001b[0mi\u001b[0m\u001b[1;33m]\u001b[0m \u001b[1;33m=\u001b[0m \u001b[0mnp\u001b[0m\u001b[1;33m.\u001b[0m\u001b[0marray\u001b[0m\u001b[1;33m(\u001b[0m\u001b[1;33m[\u001b[0m\u001b[0mattr_dict_x\u001b[0m\u001b[1;33m[\u001b[0m\u001b[0mi\u001b[0m\u001b[1;33m]\u001b[0m\u001b[1;33m,\u001b[0m \u001b[0mattr_dict_y\u001b[0m\u001b[1;33m[\u001b[0m\u001b[0mi\u001b[0m\u001b[1;33m]\u001b[0m\u001b[1;33m]\u001b[0m\u001b[1;33m)\u001b[0m\u001b[1;33m\u001b[0m\u001b[1;33m\u001b[0m\u001b[0m\n\u001b[0;32m      9\u001b[0m     \u001b[0mnetwork_graph\u001b[0m \u001b[1;33m=\u001b[0m \u001b[0mfrom_networkx\u001b[0m\u001b[1;33m(\u001b[0m\u001b[0mG\u001b[0m\u001b[1;33m,\u001b[0m \u001b[0mpos\u001b[0m\u001b[1;33m,\u001b[0m \u001b[0mscale\u001b[0m \u001b[1;33m=\u001b[0m \u001b[1;36m1\u001b[0m\u001b[1;33m,\u001b[0m \u001b[0mcenter\u001b[0m \u001b[1;33m=\u001b[0m \u001b[1;33m(\u001b[0m\u001b[1;36m0\u001b[0m\u001b[1;33m,\u001b[0m \u001b[1;36m0\u001b[0m\u001b[1;33m)\u001b[0m\u001b[1;33m)\u001b[0m\u001b[1;33m\u001b[0m\u001b[1;33m\u001b[0m\u001b[0m\n",
      "\u001b[1;32mc:\\Users\\Zephyrus\\anaconda3\\lib\\site-packages\\decorator.py\u001b[0m in \u001b[0;36mfun\u001b[1;34m(*args, **kw)\u001b[0m\n\u001b[0;32m    229\u001b[0m             \u001b[1;32mif\u001b[0m \u001b[1;32mnot\u001b[0m \u001b[0mkwsyntax\u001b[0m\u001b[1;33m:\u001b[0m\u001b[1;33m\u001b[0m\u001b[1;33m\u001b[0m\u001b[0m\n\u001b[0;32m    230\u001b[0m                 \u001b[0margs\u001b[0m\u001b[1;33m,\u001b[0m \u001b[0mkw\u001b[0m \u001b[1;33m=\u001b[0m \u001b[0mfix\u001b[0m\u001b[1;33m(\u001b[0m\u001b[0margs\u001b[0m\u001b[1;33m,\u001b[0m \u001b[0mkw\u001b[0m\u001b[1;33m,\u001b[0m \u001b[0msig\u001b[0m\u001b[1;33m)\u001b[0m\u001b[1;33m\u001b[0m\u001b[1;33m\u001b[0m\u001b[0m\n\u001b[1;32m--> 231\u001b[1;33m             \u001b[1;32mreturn\u001b[0m \u001b[0mcaller\u001b[0m\u001b[1;33m(\u001b[0m\u001b[0mfunc\u001b[0m\u001b[1;33m,\u001b[0m \u001b[1;33m*\u001b[0m\u001b[1;33m(\u001b[0m\u001b[0mextras\u001b[0m \u001b[1;33m+\u001b[0m \u001b[0margs\u001b[0m\u001b[1;33m)\u001b[0m\u001b[1;33m,\u001b[0m \u001b[1;33m**\u001b[0m\u001b[0mkw\u001b[0m\u001b[1;33m)\u001b[0m\u001b[1;33m\u001b[0m\u001b[1;33m\u001b[0m\u001b[0m\n\u001b[0m\u001b[0;32m    232\u001b[0m     \u001b[0mfun\u001b[0m\u001b[1;33m.\u001b[0m\u001b[0m__name__\u001b[0m \u001b[1;33m=\u001b[0m \u001b[0mfunc\u001b[0m\u001b[1;33m.\u001b[0m\u001b[0m__name__\u001b[0m\u001b[1;33m\u001b[0m\u001b[1;33m\u001b[0m\u001b[0m\n\u001b[0;32m    233\u001b[0m     \u001b[0mfun\u001b[0m\u001b[1;33m.\u001b[0m\u001b[0m__doc__\u001b[0m \u001b[1;33m=\u001b[0m \u001b[0mfunc\u001b[0m\u001b[1;33m.\u001b[0m\u001b[0m__doc__\u001b[0m\u001b[1;33m\u001b[0m\u001b[1;33m\u001b[0m\u001b[0m\n",
      "\u001b[1;32mc:\\Users\\Zephyrus\\anaconda3\\lib\\site-packages\\networkx\\utils\\decorators.py\u001b[0m in \u001b[0;36m_random_state\u001b[1;34m(func, *args, **kwargs)\u001b[0m\n\u001b[0;32m    398\u001b[0m             \u001b[1;32mraise\u001b[0m \u001b[0mnx\u001b[0m\u001b[1;33m.\u001b[0m\u001b[0mNetworkXError\u001b[0m\u001b[1;33m(\u001b[0m\u001b[1;34m\"random_state_index must be an integer\"\u001b[0m\u001b[1;33m)\u001b[0m \u001b[1;32mfrom\u001b[0m \u001b[0me\u001b[0m\u001b[1;33m\u001b[0m\u001b[1;33m\u001b[0m\u001b[0m\n\u001b[0;32m    399\u001b[0m         \u001b[1;32mexcept\u001b[0m \u001b[0mIndexError\u001b[0m \u001b[1;32mas\u001b[0m \u001b[0me\u001b[0m\u001b[1;33m:\u001b[0m\u001b[1;33m\u001b[0m\u001b[1;33m\u001b[0m\u001b[0m\n\u001b[1;32m--> 400\u001b[1;33m             \u001b[1;32mraise\u001b[0m \u001b[0mnx\u001b[0m\u001b[1;33m.\u001b[0m\u001b[0mNetworkXError\u001b[0m\u001b[1;33m(\u001b[0m\u001b[1;34m\"random_state_index is incorrect\"\u001b[0m\u001b[1;33m)\u001b[0m \u001b[1;32mfrom\u001b[0m \u001b[0me\u001b[0m\u001b[1;33m\u001b[0m\u001b[1;33m\u001b[0m\u001b[0m\n\u001b[0m\u001b[0;32m    401\u001b[0m \u001b[1;33m\u001b[0m\u001b[0m\n\u001b[0;32m    402\u001b[0m         \u001b[1;31m# Create a numpy.random.RandomState instance\u001b[0m\u001b[1;33m\u001b[0m\u001b[1;33m\u001b[0m\u001b[1;33m\u001b[0m\u001b[0m\n",
      "\u001b[1;31mNetworkXError\u001b[0m: random_state_index is incorrect"
     ]
    }
   ],
   "source": [
    "warnings.filterwarnings('ignore')\n",
    "from decorator import decorator\n",
    "\n",
    "#lenghts of each trial\n",
    "index = [0, 118, 88, 100, 98, 109, 78, 121, 76, 113, 97, 112, 118]\n",
    "start_an = 0\n",
    "start_aw = 0\n",
    "\n",
    "for trial in range(1,len(index)):\n",
    "    \n",
    "    index, dat_tr, dat_stan, dat_staw, ind_stan, ind_staw = divide_data(index, trial, mat_load, ind_load)\n",
    "    pos_tr = roi_load[index[trial-1] : index[trial]+1, :, :, :]\n",
    "\n",
    "    #choose state\n",
    "    pos_stan = pos_tr[:, :, 0, :]\n",
    "    pos_staw = pos_tr[:, :, 1, :]\n",
    "    \n",
    "    for sesion in range(4):\n",
    "\n",
    "        tune_ses = tune[sesion][:, :, 0]\n",
    "\n",
    "        #choose session\n",
    "        dat_sean = dat_stan[:, sesion, :, :]\n",
    "        dat_seaw = dat_staw[:, sesion, :, :]\n",
    "        pos_sean = pos_stan[:, :, sesion]\n",
    "        pos_seaw = pos_staw[:, :, sesion]\n",
    "        ind_sean = ind_stan[:, sesion, :, :]\n",
    "        ind_seaw = ind_staw[:, sesion, :, :]\n",
    "        tune_an = tune_ses[:, 0]\n",
    "        tune_aw = tune_ses[:, 1]\n",
    "\n",
    "        #make dict to convert to dataframe\n",
    "        dat_df_an, dat_df_aw = make_dict(index, trial, lista[sesion], dat_sean, dat_seaw, ind_sean, ind_seaw)\n",
    "\n",
    "        #exclude the rows/columns which index is not in the other dataframe\n",
    "        #df_corr_an, df_corr_aw = exclude_nan(dat_df_an, dat_df_aw)\n",
    "        df_corr_an, df_corr_aw = dat_df_an.dropna(axis=1, how='all').dropna(axis=0, how='all'), dat_df_aw.dropna(axis=1, how='all').dropna(axis=0, how='all')\n",
    "        tune_an, tune_aw = tune_an[start_an : start_an+len(df_corr_an)], tune_aw[start_aw : start_aw+len(df_corr_aw)]\n",
    "        start_an += len(df_corr_an)\n",
    "        start_aw += len(df_corr_aw)\n",
    "\n",
    "        df_corr_an_pos = pd.DataFrame(index=df_corr_an.index, columns=df_corr_an.columns)\n",
    "        df_corr_aw_pos = pd.DataFrame(index=df_corr_aw.index, columns=df_corr_aw.columns)\n",
    "        \n",
    "        for i in df_corr_an.index:\n",
    "            for j in df_corr_an.columns:\n",
    "                df_corr_an_pos.loc[i, j] = np.sqrt((pos_sean[i, 0]-pos_sean[j,0])**2 + (pos_sean[i, 1]-pos_sean[j,1])**2)\n",
    "                df_corr_aw_pos.loc[i, j] = np.sqrt((pos_seaw[i, 0]-pos_seaw[j,0])**2 + (pos_seaw[i, 1]-pos_seaw[j,1])**2)\n",
    "\n",
    "        df_an_pos = pd.DataFrame(df_corr_an_pos, index=None).astype(float)\n",
    "        df_aw_pos = pd.DataFrame(df_corr_aw_pos, index=None).astype(float)\n",
    "\n",
    "        #distance correlation\n",
    "        df_corr_an_pos = df_an_pos.corr().dropna(how='all', axis=1).dropna(how='all', axis=0)\n",
    "        df_corr_aw_pos = df_aw_pos.corr().dropna(how='all', axis=1).dropna(how='all', axis=0)\n",
    "        \n",
    "        #df_corr_diff = (df_corr_aw-df_corr_an)\n",
    "        links = form_links(df_corr_an, df_an_pos, tune_an)\n",
    "        plot_network_graph(links)\n",
    "        \n",
    "        break\n",
    "    break               \n",
    "    "
   ]
  },
  {
   "cell_type": "code",
   "execution_count": null,
   "metadata": {},
   "outputs": [
    {
     "ename": "NameError",
     "evalue": "name 'warnings' is not defined",
     "output_type": "error",
     "traceback": [
      "\u001b[1;31m---------------------------------------------------------------------------\u001b[0m",
      "\u001b[1;31mNameError\u001b[0m                                 Traceback (most recent call last)",
      "\u001b[1;32mc:\\Users\\Zephyrus\\Documents\\GitHub\\LMU_neuroscience\\network_graph.ipynb Cell 38\u001b[0m in \u001b[0;36m<cell line: 1>\u001b[1;34m()\u001b[0m\n\u001b[1;32m----> <a href='vscode-notebook-cell:/c%3A/Users/Zephyrus/Documents/GitHub/LMU_neuroscience/network_graph.ipynb#ch0000037?line=0'>1</a>\u001b[0m warnings\u001b[39m.\u001b[39mfilterwarnings(\u001b[39m'\u001b[39m\u001b[39mignore\u001b[39m\u001b[39m'\u001b[39m)\n\u001b[0;32m      <a href='vscode-notebook-cell:/c%3A/Users/Zephyrus/Documents/GitHub/LMU_neuroscience/network_graph.ipynb#ch0000037?line=2'>3</a>\u001b[0m \u001b[39m#lenghts of each trial\u001b[39;00m\n\u001b[0;32m      <a href='vscode-notebook-cell:/c%3A/Users/Zephyrus/Documents/GitHub/LMU_neuroscience/network_graph.ipynb#ch0000037?line=3'>4</a>\u001b[0m index \u001b[39m=\u001b[39m [\u001b[39m0\u001b[39m, \u001b[39m118\u001b[39m, \u001b[39m88\u001b[39m, \u001b[39m100\u001b[39m, \u001b[39m98\u001b[39m, \u001b[39m109\u001b[39m, \u001b[39m78\u001b[39m, \u001b[39m121\u001b[39m, \u001b[39m76\u001b[39m, \u001b[39m113\u001b[39m, \u001b[39m97\u001b[39m, \u001b[39m112\u001b[39m, \u001b[39m118\u001b[39m]\n",
      "\u001b[1;31mNameError\u001b[0m: name 'warnings' is not defined"
     ]
    }
   ],
   "source": [
    "warnings.filterwarnings('ignore')\n",
    "\n",
    "#lenghts of each trial\n",
    "index = [0, 118, 88, 100, 98, 109, 78, 121, 76, 113, 97, 112, 118]\n",
    "start_an = 0 \n",
    "start_aw = 0\n",
    "\n",
    "for trial in range(1,len(index)):\n",
    "    \n",
    "    index, dat_tr, dat_stan, dat_staw, ind_stan, ind_staw = divide_data(index, trial, mat_load, ind_load)\n",
    "    pos_tr = roi_load[index[trial-1] : index[trial]+1, :, :, :]\n",
    "\n",
    "    #choose state\n",
    "    pos_stan = pos_tr[:, :, 0, :]\n",
    "    pos_staw = pos_tr[:, :, 1, :]\n",
    "    \n",
    "    for sesion in range(4):\n",
    "\n",
    "        tune_ses = tune[sesion][:, :, 0]\n",
    "\n",
    "        #choose session\n",
    "        dat_sean = dat_stan[:, sesion, :, :]\n",
    "        dat_seaw = dat_staw[:, sesion, :, :]\n",
    "        pos_sean = pos_stan[:, :, sesion]\n",
    "        pos_seaw = pos_staw[:, :, sesion]\n",
    "        ind_sean = ind_stan[:, sesion, :, :]\n",
    "        ind_seaw = ind_staw[:, sesion, :, :]\n",
    "        tune_an = tune_ses[:, 0]\n",
    "        tune_aw = tune_ses[:, 1]\n",
    "\n",
    "        #make dict to convert to dataframe\n",
    "        dat_df_an, dat_df_aw = make_dict(index, trial, lista[sesion], dat_sean, dat_seaw, ind_sean, ind_seaw)\n",
    "\n",
    "        #exclude the rows/columns which index is not in the other dataframe\n",
    "        #df_corr_an, df_corr_aw = exclude_nan(dat_df_an, dat_df_aw)\n",
    "        df_corr_an, df_corr_aw = dat_df_an.dropna(axis=1, how='all').dropna(axis=0, how='all'), dat_df_aw.dropna(axis=1, how='all').dropna(axis=0, how='all')\n",
    "        tune_an, tune_aw = tune_an[start_an : start_an+len(df_corr_an)], tune_aw[start_aw : start_aw+len(df_corr_aw)]\n",
    "        start_an += len(df_corr_an)\n",
    "        start_aw += len(df_corr_aw)\n",
    "\n",
    "        df_corr_an_pos = pd.DataFrame(index=df_corr_an.index, columns=df_corr_an.columns)\n",
    "        df_corr_aw_pos = pd.DataFrame(index=df_corr_aw.index, columns=df_corr_aw.columns)\n",
    "        \n",
    "        for i in df_corr_an.index:\n",
    "            for j in df_corr_an.columns:\n",
    "                df_corr_an_pos.loc[i, j] = np.sqrt((pos_sean[i, 0]-pos_sean[j,0])**2 + (pos_sean[i, 1]-pos_sean[j,1])**2)\n",
    "                df_corr_aw_pos.loc[i, j] = np.sqrt((pos_seaw[i, 0]-pos_seaw[j,0])**2 + (pos_seaw[i, 1]-pos_seaw[j,1])**2)\n",
    "\n",
    "        df_an_pos = pd.DataFrame(df_corr_an_pos, index=None).astype(float)\n",
    "        df_aw_pos = pd.DataFrame(df_corr_aw_pos, index=None).astype(float)\n",
    "\n",
    "        #distance correlation\n",
    "        df_corr_an_pos = df_an_pos.corr().dropna(how='all', axis=1).dropna(how='all', axis=0)\n",
    "        df_corr_aw_pos = df_aw_pos.corr().dropna(how='all', axis=1).dropna(how='all', axis=0)\n",
    "        \n",
    "        df_corr_diff = (df_corr_aw-df_corr_an)\n",
    "        links = form_links_diff(df_corr_diff, df_aw_pos)\n",
    "        plot_network_graph_diff(links)\n",
    "        break\n",
    "    break\n",
    "        "
   ]
  },
  {
   "cell_type": "code",
   "execution_count": null,
   "metadata": {},
   "outputs": [],
   "source": []
  }
 ],
 "metadata": {
  "kernelspec": {
   "display_name": "Python 3.8.8 ('base')",
   "language": "python",
   "name": "python3"
  },
  "language_info": {
   "codemirror_mode": {
    "name": "ipython",
    "version": 3
   },
   "file_extension": ".py",
   "mimetype": "text/x-python",
   "name": "python",
   "nbconvert_exporter": "python",
   "pygments_lexer": "ipython3",
   "version": "3.8.8"
  },
  "orig_nbformat": 4,
  "vscode": {
   "interpreter": {
    "hash": "89c64c5314e05d0c212449e617c6e4d2bb4bca90dd8a65f023aba4e76584049e"
   }
  }
 },
 "nbformat": 4,
 "nbformat_minor": 2
}
