{
 "cells": [
  {
   "cell_type": "markdown",
   "metadata": {},
   "source": [
    "##### Importing required packages and libraries "
   ]
  },
  {
   "cell_type": "code",
   "execution_count": 1,
   "metadata": {},
   "outputs": [],
   "source": [
    "import scipy.io as sio\n",
    "from scipy.sparse import csr_matrix \n",
    "import numpy as np\n",
    "import matplotlib.pyplot as plt\n",
    "import seaborn as sns\n",
    "import pandas as pd\n",
    "import math"
   ]
  },
  {
   "cell_type": "code",
   "execution_count": 2,
   "metadata": {},
   "outputs": [],
   "source": [
    "import itertools\n",
    "import warnings\n",
    "from pyparsing import null_debug_action\n",
    "from cmath import nan"
   ]
  },
  {
   "cell_type": "code",
   "execution_count": 3,
   "metadata": {},
   "outputs": [],
   "source": [
    "#plotly\n",
    "import plotly\n",
    "import plotly.graph_objects as go"
   ]
  },
  {
   "cell_type": "code",
   "execution_count": 4,
   "metadata": {},
   "outputs": [],
   "source": [
    "#networkx\n",
    "import networkx as nx\n",
    "from networkx.algorithms import community\n",
    "import holoviews as hv\n",
    "from holoviews import opts"
   ]
  },
  {
   "cell_type": "code",
   "execution_count": 5,
   "metadata": {},
   "outputs": [],
   "source": [
    "#bokeh for plotting\n",
    "import bokeh.plotting\n",
    "import bokeh.plotting as bk_plotting\n",
    "from bokeh.plotting import from_networkx, figure\n",
    "from bokeh.models import EdgesAndLinkedNodes, NodesAndLinkedEdges, ColorBar\n",
    "from bokeh.io import output_notebook, save, show, reset_output\n",
    "from bokeh.models import Range1d, Circle, ColumnDataSource, MultiLine, EdgesAndLinkedNodes, NodesAndLinkedEdges\n",
    "import bokeh.models as bk_models\n",
    "from bokeh.palettes import Blues8, Reds8, Purples8, Oranges8, Viridis8, Spectral8, Spectral11, Category20_15, Category20_20, Turbo256\n",
    "from bokeh.transform import linear_cmap\n",
    "from bokeh.io import output_file, show\n",
    "from bokeh.models import (BoxSelectTool, Circle, EdgesAndLinkedNodes, HoverTool,\n",
    "                          MultiLine, NodesAndLinkedEdges, Plot, Range1d, TapTool, PanTool,  WheelZoomTool, ResetTool, SaveTool, BoxZoomTool)\n",
    "from bokeh.palettes import Spectral4\n",
    "from bokeh.plotting import from_networkx"
   ]
  },
  {
   "cell_type": "markdown",
   "metadata": {},
   "source": [
    "##### Loading .mat files - respPeak = peak of ind, allROIPositions"
   ]
  },
  {
   "cell_type": "code",
   "execution_count": 6,
   "metadata": {},
   "outputs": [],
   "source": [
    "mat_load = sio.loadmat('C:/Users/m.nedeljkovic/Desktop/respPeak.mat')['x']\n",
    "roi_load = sio.loadmat('C:/Users/m.nedeljkovic/Desktop/allROIPositions.mat')['allROIPositions']\n",
    "indices_load = sio.loadmat('C:/Users/m.nedeljkovic/Desktop/indicesSession1.mat')['indSess1']"
   ]
  },
  {
   "cell_type": "markdown",
   "metadata": {},
   "source": [
    "##### General functions"
   ]
  },
  {
   "cell_type": "code",
   "execution_count": 7,
   "metadata": {},
   "outputs": [],
   "source": [
    "#Dividing data into trials, anst state and awake state\n",
    "\n",
    "def divide_data(index, trial, mat_load):\n",
    "\n",
    "    index[trial] = index[trial] + index[trial-1]\n",
    "    dat_tr = mat_load[index[trial-1] : index[trial]+1, :, :, 0, :, :]\n",
    "\n",
    "    #choose state\n",
    "    dat_stan = dat_tr[:, 0, :, :, :]\n",
    "    dat_staw = dat_tr[:, 1, :, :, :]\n",
    "    return index, dat_tr, dat_stan, dat_staw"
   ]
  },
  {
   "cell_type": "code",
   "execution_count": 8,
   "metadata": {},
   "outputs": [],
   "source": [
    "#make dict to convert to dataframe\n",
    "\n",
    "def make_dict(index, trial, lista, dat_sean, dat_seaw):\n",
    "    dat_df_an = []\n",
    "    dat_df_aw = []\n",
    "    for matrix in range(np.shape(dat_sean)[0]):\n",
    "        if(index[trial-1]+matrix in lista):\n",
    "            dat_df_an.append(dat_sean[matrix].flatten())\n",
    "            dat_df_aw.append(dat_seaw[matrix].flatten())\n",
    "\n",
    "    dat_df_an = pd.DataFrame(np.corrcoef(dat_df_an))\n",
    "    dat_df_aw = pd.DataFrame(np.corrcoef(dat_df_aw))\n",
    "    return dat_df_an, dat_df_aw\n",
    "\n",
    "def make_dict_one_speaker(index, trial, lista, dat_sean, dat_seaw, num):\n",
    "    dat_df_an = []\n",
    "    dat_df_aw = []\n",
    "    for matrix in range(np.shape(dat_sean)[0]):\n",
    "        if(index[trial-1]+matrix in lista):\n",
    "            dat_df_an.append(dat_sean[matrix][num])\n",
    "            dat_df_aw.append(dat_seaw[matrix][num])\n",
    "\n",
    "    dat_df_an = pd.DataFrame(np.corrcoef(dat_df_an))\n",
    "    dat_df_aw = pd.DataFrame(np.corrcoef(dat_df_aw))\n",
    "    return dat_df_an, dat_df_aw"
   ]
  },
  {
   "cell_type": "code",
   "execution_count": 9,
   "metadata": {},
   "outputs": [],
   "source": [
    "#exclude the rows/columns which index is not in the other dataframe\n",
    "def exclude_nan(dat_df_an, dat_df_aw):\n",
    "\n",
    "    df_corr_an = dat_df_an.dropna(how='all', axis=1).dropna(how='all', axis=0)\n",
    "    df_corr_aw = dat_df_aw.dropna(how='all', axis=1).dropna(how='all', axis=0)\n",
    "\n",
    "    mask = df_corr_aw.index.isin(df_corr_an.index)\n",
    "    df_corr_aw = df_corr_aw.loc[mask]\n",
    "    mask = df_corr_an.index.isin(df_corr_aw.index)\n",
    "    df_corr_an = df_corr_an.loc[mask]\n",
    "    mask = []\n",
    "    for x in df_corr_an.columns:\n",
    "        if x not in df_corr_aw.columns:\n",
    "            mask.append(x)\n",
    "    df_corr_an = df_corr_an.drop(columns=mask)\n",
    "    mask = []\n",
    "    for x in df_corr_aw.columns:\n",
    "        if x not in df_corr_an.columns:\n",
    "            mask.append(x)\n",
    "    df_corr_aw = df_corr_aw.drop(columns=mask)\n",
    "\n",
    "    return df_corr_an, df_corr_aw"
   ]
  },
  {
   "cell_type": "markdown",
   "metadata": {},
   "source": [
    "#### Plotting network graph"
   ]
  },
  {
   "cell_type": "markdown",
   "metadata": {},
   "source": [
    "##### Threshold"
   ]
  },
  {
   "cell_type": "code",
   "execution_count": 32,
   "metadata": {},
   "outputs": [],
   "source": [
    "threshold = 0.6"
   ]
  },
  {
   "cell_type": "markdown",
   "metadata": {},
   "source": [
    "##### Form_links"
   ]
  },
  {
   "cell_type": "code",
   "execution_count": 11,
   "metadata": {},
   "outputs": [],
   "source": [
    "def form_links(df_corr, df_pos):\n",
    "\n",
    "    x_coor = df_pos[0]\n",
    "    y_coor = df_pos[1]\n",
    "    links = df_corr.stack()\n",
    "    links = links.reset_index()\n",
    "    links.columns = [\"var1\", \"var2\", \"value\"]\n",
    "    links.loc[:, \"x0\"] = [0 for i in range(len(links))]\n",
    "    links.loc[:, \"y0\"] = [0 for i in range(len(links))]\n",
    "    links.loc[:, \"x1\"] = [0 for i in range(len(links))]\n",
    "    links.loc[:, \"y1\"] = [0 for i in range(len(links))]\n",
    "\n",
    "    for i in range(len(links['x1'])):\n",
    "        links['x0'][i] = x_coor[int(links['var1'][i])]\n",
    "        links['x1'][i] = x_coor[int(links['var2'][i])]\n",
    "        links['y0'][i] = y_coor[int(links['var1'][i])]\n",
    "        links['y1'][i] = y_coor[int(links['var2'][i])]\n",
    "    \n",
    "    return links"
   ]
  },
  {
   "cell_type": "markdown",
   "metadata": {},
   "source": [
    "##### Initial_graph"
   ]
  },
  {
   "cell_type": "code",
   "execution_count": 12,
   "metadata": {},
   "outputs": [],
   "source": [
    "def initial_graph(links):\n",
    "    \n",
    "    G=nx.from_pandas_edgelist(links, source=\"var1\", target=\"var2\", edge_attr=True)\n",
    "\n",
    "    edge_x = []\n",
    "    edge_y = []\n",
    "    for edge in G.edges():\n",
    "        x0, y0 = G.edges[edge]['x0'], G.edges[edge]['y0']\n",
    "        x1, y1 = G.edges[edge]['x1'], G.edges[edge]['y1']\n",
    "        edge_x.append(x0)\n",
    "        edge_x.append(x1)\n",
    "        edge_x.append(None)\n",
    "        edge_y.append(y0)\n",
    "        edge_y.append(y1)\n",
    "        edge_y.append(None)\n",
    "\n",
    "    edge_trace = go.Scatter(\n",
    "        x=edge_x, y=edge_y,\n",
    "        line=dict(width=0.5, color='#888'),\n",
    "        hoverinfo='none',\n",
    "        mode='lines')\n",
    "\n",
    "    return G, edge_x, edge_y, edge_trace"
   ]
  },
  {
   "cell_type": "markdown",
   "metadata": {},
   "source": [
    "##### Data_management"
   ]
  },
  {
   "cell_type": "code",
   "execution_count": 13,
   "metadata": {},
   "outputs": [],
   "source": [
    "def data_management(links, G):\n",
    "    \n",
    "    mask = ~links['var1'].duplicated()\n",
    "    # Get a list of nodes with attributes\n",
    "    nodes = links[mask][[\"var1\", \"x0\",\"var2\",\"x1\"]]\n",
    "    attr_dict_x = nodes.set_index('var1')['x0'].to_dict()\n",
    "    nx.set_node_attributes(G, attr_dict_x, 'x0')\n",
    "\n",
    "    mask = ~links['var1'].duplicated()\n",
    "    # Get a list of nodes with attributes\n",
    "    nodes = links[mask][[\"var1\", \"y0\",\"var2\",\"y1\"]]\n",
    "    attr_dict_y = nodes.set_index('var1')['y0'].to_dict()\n",
    "    nx.set_node_attributes(G, attr_dict_y, 'y0')\n",
    "\n",
    "    edge_attrs = {}\n",
    "\n",
    "    for start_node, end_node, info in G.edges(data=True):\n",
    "        edge_attrs[(start_node, end_node)] = info['value']\n",
    "            \n",
    "    nx.set_edge_attributes(G, edge_attrs, \"edge_value\")\n",
    "\n",
    "    HOVER_TOOLTIPS = [\n",
    "        (\"index\", \"$index\"),\n",
    "        (\"x\", \"@x0\"),\n",
    "        (\"y\", \"@y0\"),\n",
    "        (\"value\", \"@edge_value\")\n",
    "    ]\n",
    "\n",
    "    return G, HOVER_TOOLTIPS, attr_dict_x, attr_dict_y"
   ]
  },
  {
   "cell_type": "markdown",
   "metadata": {},
   "source": [
    "##### Node_size"
   ]
  },
  {
   "cell_type": "code",
   "execution_count": 14,
   "metadata": {},
   "outputs": [],
   "source": [
    "def node_size(G):\n",
    "    \n",
    "    adjusted_node_size = dict([(node, 10) for node, degree in nx.degree(G)])\n",
    "    nx.set_node_attributes(G, name='adjusted_node_size', values=adjusted_node_size)\n",
    "    size_by_this_attribute = 'adjusted_node_size'\n",
    "    return G, size_by_this_attribute"
   ]
  },
  {
   "cell_type": "markdown",
   "metadata": {},
   "source": [
    "##### Remove_edges"
   ]
  },
  {
   "cell_type": "code",
   "execution_count": 15,
   "metadata": {},
   "outputs": [],
   "source": [
    "def remove_edges(G, threshold):\n",
    "    \n",
    "    G.remove_edges_from([(x, y) for x, y, t in G.edges.data(data=True) if t['value'] < threshold and t['value'] > -threshold])\n",
    "    return G"
   ]
  },
  {
   "cell_type": "markdown",
   "metadata": {},
   "source": [
    "##### Plot_graph"
   ]
  },
  {
   "cell_type": "code",
   "execution_count": 23,
   "metadata": {},
   "outputs": [],
   "source": [
    "def plot_graph(attr_dict_x, attr_dict_y, G, edge_trace, size_by_this_attribute, HOVER_TOOLTIPS):\n",
    "\n",
    "    plot = Plot(width=1000, height=720,\n",
    "            x_range=Range1d(min(attr_dict_x)*4-40, max(attr_dict_x)*4+40), y_range=Range1d(min(attr_dict_y)*4-40, max(attr_dict_y)*4+40))\n",
    "    plot.add_tools(HoverTool(tooltips=HOVER_TOOLTIPS), TapTool(), BoxSelectTool(), WheelZoomTool(), ResetTool(), PanTool(), SaveTool(), BoxZoomTool())\n",
    "    pos = {}\n",
    "    for i in nx.spring_layout(G, iterations=40).keys():\n",
    "        pos[i] = np.array([attr_dict_x[i], attr_dict_y[i]])\n",
    "    network_graph = from_networkx(G, pos, scale = 1, center = (0, 0))\n",
    "\n",
    "    #Set node sizes and colors according to node degree (color as category from attribute)\n",
    "    network_graph.node_renderer.glyph = Circle(size=size_by_this_attribute)\n",
    "\n",
    "    #Set edge opacity and width\n",
    "    #network_graph.edge_renderer.glyph = MultiLine(line_color=\"edge_color\", line_alpha=0.5, line_width=1)\n",
    "\n",
    "    network_graph.node_renderer.glyph = Circle(size=15, fill_color=Spectral4[0])\n",
    "    network_graph.node_renderer.selection_glyph = Circle(size=15, fill_color=Spectral4[2])\n",
    "    network_graph.node_renderer.hover_glyph = Circle(size=15, fill_color=Spectral4[1])\n",
    "\n",
    "    SAME_CLUB_COLOR, DIFFERENT_CLUB_COLOR = \"black\", \"red\"\n",
    "    edge_attrs = {}\n",
    "\n",
    "    min_val = -1\n",
    "    max_val = 1\n",
    "    num_nodes = len(G.nodes())\n",
    "   \n",
    "    mapper = linear_cmap(field_name='value', palette=Turbo256 ,low=min_val ,high=max_val)\n",
    "\n",
    "    network_graph.edge_renderer.glyph = MultiLine(line_color=mapper, line_alpha=0.5, line_width=5)\n",
    "    network_graph.edge_renderer.selection_glyph = MultiLine(line_color=Spectral4[2], line_width=5)\n",
    "    network_graph.edge_renderer.hover_glyph = MultiLine(line_color=Spectral4[1], line_width=5)\n",
    "\n",
    "\n",
    "    network_graph.selection_policy = NodesAndLinkedEdges()\n",
    "    network_graph.inspection_policy = EdgesAndLinkedNodes()\n",
    "\n",
    "    plot.renderers.append(network_graph)\n",
    "\n",
    "    color_bar = ColorBar(color_mapper=mapper['transform'], width=8)\n",
    "    plot.add_layout(color_bar, 'right')\n",
    "    \n",
    "    show(plot)"
   ]
  },
  {
   "cell_type": "markdown",
   "metadata": {},
   "source": [
    "##### Plot_network_graph"
   ]
  },
  {
   "cell_type": "code",
   "execution_count": 17,
   "metadata": {},
   "outputs": [],
   "source": [
    "def plot_network_graph(links):\n",
    "    \n",
    "    G, edge_x, edge_y, edge_trace = initial_graph(links)\n",
    "    G, HOVER_TOOLTIPS, attr_dict_x, attr_dict_y = data_management(links, G)\n",
    "    G, size_by_this_attribute = node_size(G)\n",
    "    G = remove_edges(G, threshold)\n",
    "    output_notebook()\n",
    "    plot_graph(attr_dict_x, attr_dict_y, G, edge_trace, size_by_this_attribute, HOVER_TOOLTIPS)"
   ]
  },
  {
   "cell_type": "code",
   "execution_count": 11,
   "metadata": {},
   "outputs": [
    {
     "data": {
      "text/plain": [
       "\"\\nDifferent ways to plot the network graph\\n\\nplt.figure(figsize=(15,15))\\nfor i in range(0, len(y_coor), 1):\\n    plt.plot(x_coor[i:i+2], y_coor[i:i+2], 'ro-')\\nplt.plot(df_an_pos[0], df_an_pos[1], 'o')\\n\""
      ]
     },
     "execution_count": 11,
     "metadata": {},
     "output_type": "execute_result"
    }
   ],
   "source": [
    "\"\"\"\n",
    "Different ways to plot the network graph\n",
    "\n",
    "plt.figure(figsize=(15,15))\n",
    "for i in range(0, len(y_coor), 1):\n",
    "    plt.plot(x_coor[i:i+2], y_coor[i:i+2], 'ro-')\n",
    "plt.plot(df_an_pos[0], df_an_pos[1], 'o')\n",
    "\"\"\""
   ]
  },
  {
   "cell_type": "markdown",
   "metadata": {},
   "source": [
    "### Graph representation"
   ]
  },
  {
   "cell_type": "code",
   "execution_count": 33,
   "metadata": {},
   "outputs": [
    {
     "data": {
      "text/html": [
       "<div class=\"bk-root\">\n",
       "        <a href=\"https://bokeh.org\" target=\"_blank\" class=\"bk-logo bk-logo-small bk-logo-notebook\"></a>\n",
       "        <span id=\"3585\">Loading BokehJS ...</span>\n",
       "    </div>\n"
      ]
     },
     "metadata": {},
     "output_type": "display_data"
    },
    {
     "data": {
      "application/javascript": "(function(root) {\n  function now() {\n    return new Date();\n  }\n\n  const force = true;\n\n  if (typeof root._bokeh_onload_callbacks === \"undefined\" || force === true) {\n    root._bokeh_onload_callbacks = [];\n    root._bokeh_is_loading = undefined;\n  }\n\nconst JS_MIME_TYPE = 'application/javascript';\n  const HTML_MIME_TYPE = 'text/html';\n  const EXEC_MIME_TYPE = 'application/vnd.bokehjs_exec.v0+json';\n  const CLASS_NAME = 'output_bokeh rendered_html';\n\n  /**\n   * Render data to the DOM node\n   */\n  function render(props, node) {\n    const script = document.createElement(\"script\");\n    node.appendChild(script);\n  }\n\n  /**\n   * Handle when an output is cleared or removed\n   */\n  function handleClearOutput(event, handle) {\n    const cell = handle.cell;\n\n    const id = cell.output_area._bokeh_element_id;\n    const server_id = cell.output_area._bokeh_server_id;\n    // Clean up Bokeh references\n    if (id != null && id in Bokeh.index) {\n      Bokeh.index[id].model.document.clear();\n      delete Bokeh.index[id];\n    }\n\n    if (server_id !== undefined) {\n      // Clean up Bokeh references\n      const cmd_clean = \"from bokeh.io.state import curstate; print(curstate().uuid_to_server['\" + server_id + \"'].get_sessions()[0].document.roots[0]._id)\";\n      cell.notebook.kernel.execute(cmd_clean, {\n        iopub: {\n          output: function(msg) {\n            const id = msg.content.text.trim();\n            if (id in Bokeh.index) {\n              Bokeh.index[id].model.document.clear();\n              delete Bokeh.index[id];\n            }\n          }\n        }\n      });\n      // Destroy server and session\n      const cmd_destroy = \"import bokeh.io.notebook as ion; ion.destroy_server('\" + server_id + \"')\";\n      cell.notebook.kernel.execute(cmd_destroy);\n    }\n  }\n\n  /**\n   * Handle when a new output is added\n   */\n  function handleAddOutput(event, handle) {\n    const output_area = handle.output_area;\n    const output = handle.output;\n\n    // limit handleAddOutput to display_data with EXEC_MIME_TYPE content only\n    if ((output.output_type != \"display_data\") || (!Object.prototype.hasOwnProperty.call(output.data, EXEC_MIME_TYPE))) {\n      return\n    }\n\n    const toinsert = output_area.element.find(\".\" + CLASS_NAME.split(' ')[0]);\n\n    if (output.metadata[EXEC_MIME_TYPE][\"id\"] !== undefined) {\n      toinsert[toinsert.length - 1].firstChild.textContent = output.data[JS_MIME_TYPE];\n      // store reference to embed id on output_area\n      output_area._bokeh_element_id = output.metadata[EXEC_MIME_TYPE][\"id\"];\n    }\n    if (output.metadata[EXEC_MIME_TYPE][\"server_id\"] !== undefined) {\n      const bk_div = document.createElement(\"div\");\n      bk_div.innerHTML = output.data[HTML_MIME_TYPE];\n      const script_attrs = bk_div.children[0].attributes;\n      for (let i = 0; i < script_attrs.length; i++) {\n        toinsert[toinsert.length - 1].firstChild.setAttribute(script_attrs[i].name, script_attrs[i].value);\n        toinsert[toinsert.length - 1].firstChild.textContent = bk_div.children[0].textContent\n      }\n      // store reference to server id on output_area\n      output_area._bokeh_server_id = output.metadata[EXEC_MIME_TYPE][\"server_id\"];\n    }\n  }\n\n  function register_renderer(events, OutputArea) {\n\n    function append_mime(data, metadata, element) {\n      // create a DOM node to render to\n      const toinsert = this.create_output_subarea(\n        metadata,\n        CLASS_NAME,\n        EXEC_MIME_TYPE\n      );\n      this.keyboard_manager.register_events(toinsert);\n      // Render to node\n      const props = {data: data, metadata: metadata[EXEC_MIME_TYPE]};\n      render(props, toinsert[toinsert.length - 1]);\n      element.append(toinsert);\n      return toinsert\n    }\n\n    /* Handle when an output is cleared or removed */\n    events.on('clear_output.CodeCell', handleClearOutput);\n    events.on('delete.Cell', handleClearOutput);\n\n    /* Handle when a new output is added */\n    events.on('output_added.OutputArea', handleAddOutput);\n\n    /**\n     * Register the mime type and append_mime function with output_area\n     */\n    OutputArea.prototype.register_mime_type(EXEC_MIME_TYPE, append_mime, {\n      /* Is output safe? */\n      safe: true,\n      /* Index of renderer in `output_area.display_order` */\n      index: 0\n    });\n  }\n\n  // register the mime type if in Jupyter Notebook environment and previously unregistered\n  if (root.Jupyter !== undefined) {\n    const events = require('base/js/events');\n    const OutputArea = require('notebook/js/outputarea').OutputArea;\n\n    if (OutputArea.prototype.mime_types().indexOf(EXEC_MIME_TYPE) == -1) {\n      register_renderer(events, OutputArea);\n    }\n  }\n  if (typeof (root._bokeh_timeout) === \"undefined\" || force === true) {\n    root._bokeh_timeout = Date.now() + 5000;\n    root._bokeh_failed_load = false;\n  }\n\n  const NB_LOAD_WARNING = {'data': {'text/html':\n     \"<div style='background-color: #fdd'>\\n\"+\n     \"<p>\\n\"+\n     \"BokehJS does not appear to have successfully loaded. If loading BokehJS from CDN, this \\n\"+\n     \"may be due to a slow or bad network connection. Possible fixes:\\n\"+\n     \"</p>\\n\"+\n     \"<ul>\\n\"+\n     \"<li>re-rerun `output_notebook()` to attempt to load from CDN again, or</li>\\n\"+\n     \"<li>use INLINE resources instead, as so:</li>\\n\"+\n     \"</ul>\\n\"+\n     \"<code>\\n\"+\n     \"from bokeh.resources import INLINE\\n\"+\n     \"output_notebook(resources=INLINE)\\n\"+\n     \"</code>\\n\"+\n     \"</div>\"}};\n\n  function display_loaded() {\n    const el = document.getElementById(\"3585\");\n    if (el != null) {\n      el.textContent = \"BokehJS is loading...\";\n    }\n    if (root.Bokeh !== undefined) {\n      if (el != null) {\n        el.textContent = \"BokehJS \" + root.Bokeh.version + \" successfully loaded.\";\n      }\n    } else if (Date.now() < root._bokeh_timeout) {\n      setTimeout(display_loaded, 100)\n    }\n  }\n\n  function run_callbacks() {\n    try {\n      root._bokeh_onload_callbacks.forEach(function(callback) {\n        if (callback != null)\n          callback();\n      });\n    } finally {\n      delete root._bokeh_onload_callbacks\n    }\n    console.debug(\"Bokeh: all callbacks have finished\");\n  }\n\n  function load_libs(css_urls, js_urls, callback) {\n    if (css_urls == null) css_urls = [];\n    if (js_urls == null) js_urls = [];\n\n    root._bokeh_onload_callbacks.push(callback);\n    if (root._bokeh_is_loading > 0) {\n      console.debug(\"Bokeh: BokehJS is being loaded, scheduling callback at\", now());\n      return null;\n    }\n    if (js_urls == null || js_urls.length === 0) {\n      run_callbacks();\n      return null;\n    }\n    console.debug(\"Bokeh: BokehJS not loaded, scheduling load and callback at\", now());\n    root._bokeh_is_loading = css_urls.length + js_urls.length;\n\n    function on_load() {\n      root._bokeh_is_loading--;\n      if (root._bokeh_is_loading === 0) {\n        console.debug(\"Bokeh: all BokehJS libraries/stylesheets loaded\");\n        run_callbacks()\n      }\n    }\n\n    function on_error(url) {\n      console.error(\"failed to load \" + url);\n    }\n\n    for (let i = 0; i < css_urls.length; i++) {\n      const url = css_urls[i];\n      const element = document.createElement(\"link\");\n      element.onload = on_load;\n      element.onerror = on_error.bind(null, url);\n      element.rel = \"stylesheet\";\n      element.type = \"text/css\";\n      element.href = url;\n      console.debug(\"Bokeh: injecting link tag for BokehJS stylesheet: \", url);\n      document.body.appendChild(element);\n    }\n\n    for (let i = 0; i < js_urls.length; i++) {\n      const url = js_urls[i];\n      const element = document.createElement('script');\n      element.onload = on_load;\n      element.onerror = on_error.bind(null, url);\n      element.async = false;\n      element.src = url;\n      console.debug(\"Bokeh: injecting script tag for BokehJS library: \", url);\n      document.head.appendChild(element);\n    }\n  };\n\n  function inject_raw_css(css) {\n    const element = document.createElement(\"style\");\n    element.appendChild(document.createTextNode(css));\n    document.body.appendChild(element);\n  }\n\n  const js_urls = [\"https://cdn.bokeh.org/bokeh/release/bokeh-2.4.3.min.js\", \"https://cdn.bokeh.org/bokeh/release/bokeh-gl-2.4.3.min.js\", \"https://cdn.bokeh.org/bokeh/release/bokeh-widgets-2.4.3.min.js\", \"https://cdn.bokeh.org/bokeh/release/bokeh-tables-2.4.3.min.js\", \"https://cdn.bokeh.org/bokeh/release/bokeh-mathjax-2.4.3.min.js\", \"https://unpkg.com/@holoviz/panel@0.13.1/dist/panel.min.js\"];\n  const css_urls = [];\n\n  const inline_js = [    function(Bokeh) {\n      Bokeh.set_log_level(\"info\");\n    },\nfunction(Bokeh) {\n    }\n  ];\n\n  function run_inline_js() {\n    if (root.Bokeh !== undefined || force === true) {\n          for (let i = 0; i < inline_js.length; i++) {\n      inline_js[i].call(root, root.Bokeh);\n    }\nif (force === true) {\n        display_loaded();\n      }} else if (Date.now() < root._bokeh_timeout) {\n      setTimeout(run_inline_js, 100);\n    } else if (!root._bokeh_failed_load) {\n      console.log(\"Bokeh: BokehJS failed to load within specified timeout.\");\n      root._bokeh_failed_load = true;\n    } else if (force !== true) {\n      const cell = $(document.getElementById(\"3585\")).parents('.cell').data().cell;\n      cell.output_area.append_execute_result(NB_LOAD_WARNING)\n    }\n  }\n\n  if (root._bokeh_is_loading === 0) {\n    console.debug(\"Bokeh: BokehJS loaded, going straight to plotting\");\n    run_inline_js();\n  } else {\n    load_libs(css_urls, js_urls, function() {\n      console.debug(\"Bokeh: BokehJS plotting callback run at\", now());\n      run_inline_js();\n    });\n  }\n}(window));",
      "application/vnd.bokehjs_load.v0+json": ""
     },
     "metadata": {},
     "output_type": "display_data"
    },
    {
     "data": {
      "text/html": [
       "\n",
       "  <div class=\"bk-root\" id=\"8ebda00b-92bc-4660-b7cf-55fb605d4fad\" data-root-id=\"3588\"></div>\n"
      ]
     },
     "metadata": {},
     "output_type": "display_data"
    },
    {
     "data": {
      "application/javascript": "(function(root) {\n  function embed_document(root) {\n  const docs_json = {\"55b81b7a-c6eb-4dd3-abf0-adc5ac9acd4b\":{\"defs\":[{\"extends\":null,\"module\":null,\"name\":\"ReactiveHTML1\",\"overrides\":[],\"properties\":[]},{\"extends\":null,\"module\":null,\"name\":\"FlexBox1\",\"overrides\":[],\"properties\":[{\"default\":\"flex-start\",\"kind\":null,\"name\":\"align_content\"},{\"default\":\"flex-start\",\"kind\":null,\"name\":\"align_items\"},{\"default\":\"row\",\"kind\":null,\"name\":\"flex_direction\"},{\"default\":\"wrap\",\"kind\":null,\"name\":\"flex_wrap\"},{\"default\":\"flex-start\",\"kind\":null,\"name\":\"justify_content\"}]},{\"extends\":null,\"module\":null,\"name\":\"GridStack1\",\"overrides\":[],\"properties\":[{\"default\":\"warn\",\"kind\":null,\"name\":\"mode\"},{\"default\":null,\"kind\":null,\"name\":\"ncols\"},{\"default\":null,\"kind\":null,\"name\":\"nrows\"},{\"default\":true,\"kind\":null,\"name\":\"allow_resize\"},{\"default\":true,\"kind\":null,\"name\":\"allow_drag\"},{\"default\":[],\"kind\":null,\"name\":\"state\"}]},{\"extends\":null,\"module\":null,\"name\":\"click1\",\"overrides\":[],\"properties\":[{\"default\":\"\",\"kind\":null,\"name\":\"terminal_output\"},{\"default\":\"\",\"kind\":null,\"name\":\"debug_name\"},{\"default\":0,\"kind\":null,\"name\":\"clears\"}]},{\"extends\":null,\"module\":null,\"name\":\"NotificationAreaBase1\",\"overrides\":[],\"properties\":[{\"default\":\"bottom-right\",\"kind\":null,\"name\":\"position\"},{\"default\":0,\"kind\":null,\"name\":\"_clear\"}]},{\"extends\":null,\"module\":null,\"name\":\"NotificationArea1\",\"overrides\":[],\"properties\":[{\"default\":[],\"kind\":null,\"name\":\"notifications\"},{\"default\":\"bottom-right\",\"kind\":null,\"name\":\"position\"},{\"default\":0,\"kind\":null,\"name\":\"_clear\"},{\"default\":[{\"background\":\"#ffc107\",\"icon\":{\"className\":\"fas fa-exclamation-triangle\",\"color\":\"white\",\"tagName\":\"i\"},\"type\":\"warning\"},{\"background\":\"#007bff\",\"icon\":{\"className\":\"fas fa-info-circle\",\"color\":\"white\",\"tagName\":\"i\"},\"type\":\"info\"}],\"kind\":null,\"name\":\"types\"}]},{\"extends\":null,\"module\":null,\"name\":\"Notification\",\"overrides\":[],\"properties\":[{\"default\":null,\"kind\":null,\"name\":\"background\"},{\"default\":3000,\"kind\":null,\"name\":\"duration\"},{\"default\":null,\"kind\":null,\"name\":\"icon\"},{\"default\":\"\",\"kind\":null,\"name\":\"message\"},{\"default\":null,\"kind\":null,\"name\":\"notification_type\"},{\"default\":false,\"kind\":null,\"name\":\"_destroyed\"}]},{\"extends\":null,\"module\":null,\"name\":\"TemplateActions1\",\"overrides\":[],\"properties\":[{\"default\":0,\"kind\":null,\"name\":\"open_modal\"},{\"default\":0,\"kind\":null,\"name\":\"close_modal\"}]},{\"extends\":null,\"module\":null,\"name\":\"MaterialTemplateActions1\",\"overrides\":[],\"properties\":[{\"default\":0,\"kind\":null,\"name\":\"open_modal\"},{\"default\":0,\"kind\":null,\"name\":\"close_modal\"}]}],\"roots\":{\"references\":[{\"attributes\":{\"height\":720,\"renderers\":[{\"id\":\"3607\"}],\"right\":[{\"id\":\"3661\"}],\"title\":{\"id\":\"3835\"},\"toolbar\":{\"id\":\"3599\"},\"width\":1000,\"x_range\":{\"id\":\"3586\"},\"x_scale\":{\"id\":\"3833\"},\"y_range\":{\"id\":\"3587\"},\"y_scale\":{\"id\":\"3834\"}},\"id\":\"3588\",\"type\":\"Plot\"},{\"attributes\":{\"coordinates\":null,\"data_source\":{\"id\":\"3609\"},\"glyph\":{\"id\":\"3626\"},\"group\":null,\"hover_glyph\":{\"id\":\"3636\"},\"selection_glyph\":{\"id\":\"3631\"},\"view\":{\"id\":\"3611\"}},\"id\":\"3610\",\"type\":\"GlyphRenderer\"},{\"attributes\":{\"fill_color\":{\"value\":\"#abdda4\"},\"size\":{\"value\":15}},\"id\":\"3636\",\"type\":\"Circle\"},{\"attributes\":{},\"id\":\"3845\",\"type\":\"NoOverlap\"},{\"attributes\":{\"source\":{\"id\":\"3609\"}},\"id\":\"3611\",\"type\":\"CDSView\"},{\"attributes\":{\"tools\":[{\"id\":\"3591\"},{\"id\":\"3592\"},{\"id\":\"3593\"},{\"id\":\"3594\"},{\"id\":\"3595\"},{\"id\":\"3596\"},{\"id\":\"3597\"},{\"id\":\"3598\"}]},\"id\":\"3599\",\"type\":\"Toolbar\"},{\"attributes\":{},\"id\":\"3597\",\"type\":\"SaveTool\"},{\"attributes\":{\"data\":{\"adjusted_node_size\":[10,10,10,10,10,10,10,10,10,10,10,10,10,10,10,10,10,10,10,10,10,10,10,10,10,10,10,10,10,10,10,10,10,10,10,10,10,10,10,10,10,10,10,10,10,10,10,10,10,10,10,10,10,10,10,10,10,10,10,10,10,10,10,10,10,10,10,10,10,10,10,10,10,10,10,10,10,10,10,10,10,10],\"index\":[0,1,2,3,4,5,6,7,8,9,10,11,12,13,15,16,17,18,19,20,21,22,23,24,25,26,27,28,29,30,31,32,33,34,35,36,37,38,39,40,41,42,43,44,46,47,48,49,50,51,52,53,54,55,56,57,58,59,60,61,62,63,64,67,68,71,73,76,77,81,83,84,85,86,87,88,89,90,91,92,94,96],\"x0\":[0.0,286.7499159875115,65.79870565580188,72.98072485927383,122.15595605608318,147.46005043984027,104.54323268576157,220.64618002798875,339.8944649018943,48.62692308067509,408.4322996148715,33.118517877553046,133.43135163900567,222.73645219042177,92.90574803043876,240.05192082402053,169.6116220557969,19.815810632122965,177.44112359716144,353.12291442539515,151.32184996713528,179.48465853411446,162.15485993424966,157.75225894216575,255.88633249230162,181.15834604759937,283.26285149495277,245.04543914612563,251.68378648354218,286.1780470954075,267.6022208192191,237.85590995349943,173.48324971003746,227.44581749544705,316.1995403934951,249.3209240496637,296.7391032657954,107.70879788997753,212.14141424751057,215.94722471024915,434.6245197608641,167.04394096041867,250.2609869003419,225.4110261194338,283.1523783832952,370.9484932919734,195.81369263292297,401.88814444472825,249.95090221146992,315.9370822553672,336.16537055439755,318.57499178858944,103.30393294749898,295.47806381162957,176.73405786624252,308.79935131456614,319.49750669925174,342.7919537694332,322.056046894623,352.35057233396856,175.81193311760714,231.9784630665931,290.5551266892457,390.1983129528872,271.1292847051181,311.7098679816262,140.98027456033307,466.12275622750775,300.06972948069676,380.04870548929034,449.39145573878983,266.8161646763906,350.3766856113805,333.1316527126698,286.5637075045587,375.2301085770128,450.98074594631345,293.9454955058211,315.485348026294,352.68321774058194,216.1953258183834,409.1211836009356],\"y0\":[286.7499159875115,0.0,289.4145309420413,215.10816272925882,237.21439732499826,246.2999790538936,182.85727916675413,131.84852341920697,53.59673960509887,298.4143037595289,181.63645132372199,301.59167565500326,156.04564350777886,79.6257901917099,204.7445444326232,259.45820665019096,385.8887790512154,304.9085967409562,110.73891847269134,124.32646527066511,147.96047290336006,113.59500319057003,210.4539662373666,129.501613875868,194.3873511909284,151.99968944651775,77.26756989885811,166.7675423414179,79.26719005203128,316.7239594365967,153.25863821621107,97.99974431951964,163.44848576091485,66.2201756697457,111.00406241904226,97.40651819386991,131.6154397158841,210.4280270504342,223.68504548506,148.843935895512,221.79221025877447,210.67831184859043,316.30945565654594,173.0484382739786,329.7409461830754,95.03783788257985,186.5404074778633,118.2272398316978,123.48166764346999,141.58788669592525,90.44264215568526,182.2582339102086,284.4575269682728,173.97664450962333,226.66431272492872,198.29581457342167,80.32179847226256,139.33950137664334,36.015656823778876,70.32274242306883,264.3642826141124,57.84984282663143,106.88042416098915,134.6140824724845,252.03981224445317,126.83369751717757,256.2809564726842,262.60509999913637,403.2943518845515,114.44714071736836,162.67462276303348,337.30966467056396,206.23061707738694,280.17555533381545,385.1926048777338,162.67778728189882,173.51133480972237,178.3939750723939,161.5829448167652,152.14516069561947,367.7318381288828,203.90853226030418]},\"selected\":{\"id\":\"3849\"},\"selection_policy\":{\"id\":\"3848\"}},\"id\":\"3609\",\"type\":\"ColumnDataSource\"},{\"attributes\":{\"graph_layout\":{\"0\":[0.0,286.7499159875115],\"1\":[286.7499159875115,0.0],\"10\":[408.4322996148715,181.63645132372199],\"11\":[33.118517877553046,301.59167565500326],\"12\":[133.43135163900567,156.04564350777886],\"13\":[222.73645219042177,79.6257901917099],\"15\":[92.90574803043876,204.7445444326232],\"16\":[240.05192082402053,259.45820665019096],\"17\":[169.6116220557969,385.8887790512154],\"18\":[19.815810632122965,304.9085967409562],\"19\":[177.44112359716144,110.73891847269134],\"2\":[65.79870565580188,289.4145309420413],\"20\":[353.12291442539515,124.32646527066511],\"21\":[151.32184996713528,147.96047290336006],\"22\":[179.48465853411446,113.59500319057003],\"23\":[162.15485993424966,210.4539662373666],\"24\":[157.75225894216575,129.501613875868],\"25\":[255.88633249230162,194.3873511909284],\"26\":[181.15834604759937,151.99968944651775],\"27\":[283.26285149495277,77.26756989885811],\"28\":[245.04543914612563,166.7675423414179],\"29\":[251.68378648354218,79.26719005203128],\"3\":[72.98072485927383,215.10816272925882],\"30\":[286.1780470954075,316.7239594365967],\"31\":[267.6022208192191,153.25863821621107],\"32\":[237.85590995349943,97.99974431951964],\"33\":[173.48324971003746,163.44848576091485],\"34\":[227.44581749544705,66.2201756697457],\"35\":[316.1995403934951,111.00406241904226],\"36\":[249.3209240496637,97.40651819386991],\"37\":[296.7391032657954,131.6154397158841],\"38\":[107.70879788997753,210.4280270504342],\"39\":[212.14141424751057,223.68504548506],\"4\":[122.15595605608318,237.21439732499826],\"40\":[215.94722471024915,148.843935895512],\"41\":[434.6245197608641,221.79221025877447],\"42\":[167.04394096041867,210.67831184859043],\"43\":[250.2609869003419,316.30945565654594],\"44\":[225.4110261194338,173.0484382739786],\"46\":[283.1523783832952,329.7409461830754],\"47\":[370.9484932919734,95.03783788257985],\"48\":[195.81369263292297,186.5404074778633],\"49\":[401.88814444472825,118.2272398316978],\"5\":[147.46005043984027,246.2999790538936],\"50\":[249.95090221146992,123.48166764346999],\"51\":[315.9370822553672,141.58788669592525],\"52\":[336.16537055439755,90.44264215568526],\"53\":[318.57499178858944,182.2582339102086],\"54\":[103.30393294749898,284.4575269682728],\"55\":[295.47806381162957,173.97664450962333],\"56\":[176.73405786624252,226.66431272492872],\"57\":[308.79935131456614,198.29581457342167],\"58\":[319.49750669925174,80.32179847226256],\"59\":[342.7919537694332,139.33950137664334],\"6\":[104.54323268576157,182.85727916675413],\"60\":[322.056046894623,36.015656823778876],\"61\":[352.35057233396856,70.32274242306883],\"62\":[175.81193311760714,264.3642826141124],\"63\":[231.9784630665931,57.84984282663143],\"64\":[290.5551266892457,106.88042416098915],\"67\":[390.1983129528872,134.6140824724845],\"68\":[271.1292847051181,252.03981224445317],\"7\":[220.64618002798875,131.84852341920697],\"71\":[311.7098679816262,126.83369751717757],\"73\":[140.98027456033307,256.2809564726842],\"76\":[466.12275622750775,262.60509999913637],\"77\":[300.06972948069676,403.2943518845515],\"8\":[339.8944649018943,53.59673960509887],\"81\":[380.04870548929034,114.44714071736836],\"83\":[449.39145573878983,162.67462276303348],\"84\":[266.8161646763906,337.30966467056396],\"85\":[350.3766856113805,206.23061707738694],\"86\":[333.1316527126698,280.17555533381545],\"87\":[286.5637075045587,385.1926048777338],\"88\":[375.2301085770128,162.67778728189882],\"89\":[450.98074594631345,173.51133480972237],\"9\":[48.62692308067509,298.4143037595289],\"90\":[293.9454955058211,178.3939750723939],\"91\":[315.485348026294,161.5829448167652],\"92\":[352.68321774058194,152.14516069561947],\"94\":[216.1953258183834,367.7318381288828],\"96\":[409.1211836009356,203.90853226030418]}},\"id\":\"3620\",\"type\":\"StaticLayoutProvider\"},{\"attributes\":{\"bottom_units\":\"screen\",\"coordinates\":null,\"fill_alpha\":0.5,\"fill_color\":\"lightgrey\",\"group\":null,\"left_units\":\"screen\",\"level\":\"overlay\",\"line_alpha\":1.0,\"line_color\":\"black\",\"line_dash\":[4,4],\"line_width\":2,\"right_units\":\"screen\",\"syncable\":false,\"top_units\":\"screen\"},\"id\":\"3847\",\"type\":\"BoxAnnotation\"},{\"attributes\":{},\"id\":\"3850\",\"type\":\"UnionRenderers\"},{\"attributes\":{},\"id\":\"3848\",\"type\":\"UnionRenderers\"},{\"attributes\":{\"callback\":null},\"id\":\"3592\",\"type\":\"TapTool\"},{\"attributes\":{\"coordinates\":null,\"group\":null},\"id\":\"3835\",\"type\":\"Title\"},{\"attributes\":{},\"id\":\"3834\",\"type\":\"LinearScale\"},{\"attributes\":{},\"id\":\"3659\",\"type\":\"EdgesAndLinkedNodes\"},{\"attributes\":{\"color_mapper\":{\"id\":\"3641\"},\"coordinates\":null,\"group\":null,\"major_label_policy\":{\"id\":\"3845\"},\"width\":8},\"id\":\"3661\",\"type\":\"ColorBar\"},{\"attributes\":{},\"id\":\"3657\",\"type\":\"NodesAndLinkedEdges\"},{\"attributes\":{\"overlay\":{\"id\":\"3846\"}},\"id\":\"3593\",\"type\":\"BoxSelectTool\"},{\"attributes\":{\"data\":{\"edge_value\":[1.0,1.0,1.0,0.6652524180089605,0.7112325514849565,0.9999999999999998,0.6156777330234343,0.6543833198867604,0.6729754146961866,0.7317049588089591,0.6217703185817688,0.603500802585005,0.6121571263498949,0.6039449882893083,0.9999999999999998,1.0,1.0,1.0,1.0,0.6661258691524924,1.0,0.9999999999999999,0.6087258417216216,0.663194554069102,0.6212470917187695,1.0,0.6121821230036981,0.6198167179393416,0.6385859977996095,0.602416281800274,0.9999999999999999,1.0,1.0,1.0,0.630965086056237,0.6059090442813593,0.6091768842557927,0.6220100774924837,0.6261793356886083,0.637920826161326,0.9999999999999999,0.6826644972748371,0.6391449886487626,0.9999999999999998,0.6701018441686112,0.6030621967325228,0.6004920117120229,0.6585995747935669,0.602335004971643,0.6178732306597491,0.6264247547682286,1.0,1.0,0.6024737883736252,0.6319901430059933,1.0,1.0,1.0,1.0,1.0,1.0,0.6059212920509743,1.0,0.9999999999999999,0.6046935330460038,0.6168879807630527,1.0,1.0,0.6093327816327406,0.9999999999999998,1.0,0.9999999999999999,0.9999999999999998,1.0,1.0,1.0,1.0,1.0,1.0,1.0,0.9999999999999998,1.0,0.9999999999999998,0.9999999999999999,1.0,1.0,0.6555061099324276,0.6384525167017632,0.9999999999999999,1.0,1.0,1.0,0.807169287383308,0.9999999999999998,1.0,1.0,1.0,1.0,1.0,1.0,0.6403204155623295,0.9999999999999999,1.0,1.0,0.6199363630984711,0.9999999999999999,1.0,0.9999999999999998,1.0,1.0,1.0,1.0,1.0,1.0,1.0,1.0,1.0,1.0,1.0,1.0,1.0,1.0,1.0,1.0,1.0,0.9999999999999998],\"end\":[0,1,2,29,91,3,11,15,17,18,28,30,48,54,4,5,6,7,8,11,9,10,17,18,28,11,17,18,41,51,12,13,15,16,18,28,46,54,62,64,17,18,20,18,20,22,27,28,48,54,58,19,20,28,58,21,22,23,24,25,26,51,27,28,46,64,29,30,58,31,32,33,34,35,36,37,38,39,40,41,42,43,44,46,47,48,50,64,49,50,51,52,88,53,54,55,56,57,58,59,60,60,61,62,64,63,64,67,68,71,73,76,77,81,83,84,85,86,87,88,89,90,91,92,94,96],\"start\":[0,1,2,2,2,3,3,3,3,3,3,3,3,3,4,5,6,7,8,8,9,10,10,10,10,11,11,11,11,11,12,13,15,16,16,16,16,16,16,16,17,17,17,18,18,18,18,18,18,18,18,19,20,20,20,21,22,23,24,25,26,26,27,28,28,28,29,30,30,31,32,33,34,35,36,37,38,39,40,41,42,43,44,46,47,48,48,48,49,50,51,52,52,53,54,55,56,57,58,59,59,60,61,62,62,63,64,67,68,71,73,76,77,81,83,84,85,86,87,88,89,90,91,92,94,96],\"value\":[1.0,1.0,1.0,0.6652524180089605,0.7112325514849565,0.9999999999999998,0.6156777330234343,0.6543833198867604,0.6729754146961866,0.7317049588089591,0.6217703185817688,0.603500802585005,0.6121571263498949,0.6039449882893083,0.9999999999999998,1.0,1.0,1.0,1.0,0.6661258691524924,1.0,0.9999999999999999,0.6087258417216216,0.663194554069102,0.6212470917187695,1.0,0.6121821230036981,0.6198167179393416,0.6385859977996095,0.602416281800274,0.9999999999999999,1.0,1.0,1.0,0.630965086056237,0.6059090442813593,0.6091768842557927,0.6220100774924837,0.6261793356886083,0.637920826161326,0.9999999999999999,0.6826644972748371,0.6391449886487626,0.9999999999999998,0.6701018441686112,0.6030621967325228,0.6004920117120229,0.6585995747935669,0.602335004971643,0.6178732306597491,0.6264247547682286,1.0,1.0,0.6024737883736252,0.6319901430059933,1.0,1.0,1.0,1.0,1.0,1.0,0.6059212920509743,1.0,0.9999999999999999,0.6046935330460038,0.6168879807630527,1.0,1.0,0.6093327816327406,0.9999999999999998,1.0,0.9999999999999999,0.9999999999999998,1.0,1.0,1.0,1.0,1.0,1.0,1.0,0.9999999999999998,1.0,0.9999999999999998,0.9999999999999999,1.0,1.0,0.6555061099324276,0.6384525167017632,0.9999999999999999,1.0,1.0,1.0,0.807169287383308,0.9999999999999998,1.0,1.0,1.0,1.0,1.0,1.0,0.6403204155623295,0.9999999999999999,1.0,1.0,0.6199363630984711,0.9999999999999999,1.0,0.9999999999999998,1.0,1.0,1.0,1.0,1.0,1.0,1.0,1.0,1.0,1.0,1.0,1.0,1.0,1.0,1.0,1.0,1.0,0.9999999999999998],\"x0\":[0.0,286.7499159875115,65.79870565580188,251.68378648354218,315.485348026294,72.98072485927383,33.118517877553046,92.90574803043876,169.6116220557969,19.815810632122965,245.04543914612563,286.1780470954075,195.81369263292297,103.30393294749898,122.15595605608318,147.46005043984027,104.54323268576157,220.64618002798875,339.8944649018943,33.118517877553046,48.62692308067509,408.4322996148715,169.6116220557969,19.815810632122965,245.04543914612563,33.118517877553046,169.6116220557969,19.815810632122965,434.6245197608641,315.9370822553672,133.43135163900567,222.73645219042177,92.90574803043876,240.05192082402053,19.815810632122965,245.04543914612563,283.1523783832952,103.30393294749898,175.81193311760714,290.5551266892457,169.6116220557969,19.815810632122965,353.12291442539515,19.815810632122965,353.12291442539515,179.48465853411446,283.26285149495277,245.04543914612563,195.81369263292297,103.30393294749898,319.49750669925174,177.44112359716144,353.12291442539515,245.04543914612563,319.49750669925174,151.32184996713528,179.48465853411446,162.15485993424966,157.75225894216575,255.88633249230162,181.15834604759937,315.9370822553672,283.26285149495277,245.04543914612563,283.1523783832952,290.5551266892457,251.68378648354218,286.1780470954075,319.49750669925174,267.6022208192191,237.85590995349943,173.48324971003746,227.44581749544705,316.1995403934951,249.3209240496637,296.7391032657954,107.70879788997753,212.14141424751057,215.94722471024915,434.6245197608641,167.04394096041867,250.2609869003419,225.4110261194338,283.1523783832952,370.9484932919734,195.81369263292297,249.95090221146992,290.5551266892457,401.88814444472825,249.95090221146992,315.9370822553672,336.16537055439755,375.2301085770128,318.57499178858944,103.30393294749898,295.47806381162957,176.73405786624252,308.79935131456614,319.49750669925174,342.7919537694332,322.056046894623,322.056046894623,352.35057233396856,175.81193311760714,290.5551266892457,231.9784630665931,290.5551266892457,390.1983129528872,271.1292847051181,311.7098679816262,140.98027456033307,466.12275622750775,300.06972948069676,380.04870548929034,449.39145573878983,266.8161646763906,350.3766856113805,333.1316527126698,286.5637075045587,375.2301085770128,450.98074594631345,293.9454955058211,315.485348026294,352.68321774058194,216.1953258183834,409.1211836009356],\"x1\":[0.0,286.7499159875115,65.79870565580188,65.79870565580188,65.79870565580188,72.98072485927383,72.98072485927383,72.98072485927383,72.98072485927383,72.98072485927383,72.98072485927383,72.98072485927383,72.98072485927383,72.98072485927383,122.15595605608318,147.46005043984027,104.54323268576157,220.64618002798875,339.8944649018943,339.8944649018943,48.62692308067509,408.4322996148715,408.4322996148715,408.4322996148715,408.4322996148715,33.118517877553046,33.118517877553046,33.118517877553046,33.118517877553046,33.118517877553046,133.43135163900567,222.73645219042177,92.90574803043876,240.05192082402053,240.05192082402053,240.05192082402053,240.05192082402053,240.05192082402053,240.05192082402053,240.05192082402053,169.6116220557969,169.6116220557969,169.6116220557969,19.815810632122965,19.815810632122965,19.815810632122965,19.815810632122965,19.815810632122965,19.815810632122965,19.815810632122965,19.815810632122965,177.44112359716144,353.12291442539515,353.12291442539515,353.12291442539515,151.32184996713528,179.48465853411446,162.15485993424966,157.75225894216575,255.88633249230162,181.15834604759937,181.15834604759937,283.26285149495277,245.04543914612563,245.04543914612563,245.04543914612563,251.68378648354218,286.1780470954075,286.1780470954075,267.6022208192191,237.85590995349943,173.48324971003746,227.44581749544705,316.1995403934951,249.3209240496637,296.7391032657954,107.70879788997753,212.14141424751057,215.94722471024915,434.6245197608641,167.04394096041867,250.2609869003419,225.4110261194338,283.1523783832952,370.9484932919734,195.81369263292297,195.81369263292297,195.81369263292297,401.88814444472825,249.95090221146992,315.9370822553672,336.16537055439755,336.16537055439755,318.57499178858944,103.30393294749898,295.47806381162957,176.73405786624252,308.79935131456614,319.49750669925174,342.7919537694332,342.7919537694332,322.056046894623,352.35057233396856,175.81193311760714,175.81193311760714,231.9784630665931,290.5551266892457,390.1983129528872,271.1292847051181,311.7098679816262,140.98027456033307,466.12275622750775,300.06972948069676,380.04870548929034,449.39145573878983,266.8161646763906,350.3766856113805,333.1316527126698,286.5637075045587,375.2301085770128,450.98074594631345,293.9454955058211,315.485348026294,352.68321774058194,216.1953258183834,409.1211836009356],\"y0\":[286.7499159875115,0.0,289.4145309420413,79.26719005203128,161.5829448167652,215.10816272925882,301.59167565500326,204.7445444326232,385.8887790512154,304.9085967409562,166.7675423414179,316.7239594365967,186.5404074778633,284.4575269682728,237.21439732499826,246.2999790538936,182.85727916675413,131.84852341920697,53.59673960509887,301.59167565500326,298.4143037595289,181.63645132372199,385.8887790512154,304.9085967409562,166.7675423414179,301.59167565500326,385.8887790512154,304.9085967409562,221.79221025877447,141.58788669592525,156.04564350777886,79.6257901917099,204.7445444326232,259.45820665019096,304.9085967409562,166.7675423414179,329.7409461830754,284.4575269682728,264.3642826141124,106.88042416098915,385.8887790512154,304.9085967409562,124.32646527066511,304.9085967409562,124.32646527066511,113.59500319057003,77.26756989885811,166.7675423414179,186.5404074778633,284.4575269682728,80.32179847226256,110.73891847269134,124.32646527066511,166.7675423414179,80.32179847226256,147.96047290336006,113.59500319057003,210.4539662373666,129.501613875868,194.3873511909284,151.99968944651775,141.58788669592525,77.26756989885811,166.7675423414179,329.7409461830754,106.88042416098915,79.26719005203128,316.7239594365967,80.32179847226256,153.25863821621107,97.99974431951964,163.44848576091485,66.2201756697457,111.00406241904226,97.40651819386991,131.6154397158841,210.4280270504342,223.68504548506,148.843935895512,221.79221025877447,210.67831184859043,316.30945565654594,173.0484382739786,329.7409461830754,95.03783788257985,186.5404074778633,123.48166764346999,106.88042416098915,118.2272398316978,123.48166764346999,141.58788669592525,90.44264215568526,162.67778728189882,182.2582339102086,284.4575269682728,173.97664450962333,226.66431272492872,198.29581457342167,80.32179847226256,139.33950137664334,36.015656823778876,36.015656823778876,70.32274242306883,264.3642826141124,106.88042416098915,57.84984282663143,106.88042416098915,134.6140824724845,252.03981224445317,126.83369751717757,256.2809564726842,262.60509999913637,403.2943518845515,114.44714071736836,162.67462276303348,337.30966467056396,206.23061707738694,280.17555533381545,385.1926048777338,162.67778728189882,173.51133480972237,178.3939750723939,161.5829448167652,152.14516069561947,367.7318381288828,203.90853226030418],\"y1\":[286.7499159875115,0.0,289.4145309420413,289.4145309420413,289.4145309420413,215.10816272925882,215.10816272925882,215.10816272925882,215.10816272925882,215.10816272925882,215.10816272925882,215.10816272925882,215.10816272925882,215.10816272925882,237.21439732499826,246.2999790538936,182.85727916675413,131.84852341920697,53.59673960509887,53.59673960509887,298.4143037595289,181.63645132372199,181.63645132372199,181.63645132372199,181.63645132372199,301.59167565500326,301.59167565500326,301.59167565500326,301.59167565500326,301.59167565500326,156.04564350777886,79.6257901917099,204.7445444326232,259.45820665019096,259.45820665019096,259.45820665019096,259.45820665019096,259.45820665019096,259.45820665019096,259.45820665019096,385.8887790512154,385.8887790512154,385.8887790512154,304.9085967409562,304.9085967409562,304.9085967409562,304.9085967409562,304.9085967409562,304.9085967409562,304.9085967409562,304.9085967409562,110.73891847269134,124.32646527066511,124.32646527066511,124.32646527066511,147.96047290336006,113.59500319057003,210.4539662373666,129.501613875868,194.3873511909284,151.99968944651775,151.99968944651775,77.26756989885811,166.7675423414179,166.7675423414179,166.7675423414179,79.26719005203128,316.7239594365967,316.7239594365967,153.25863821621107,97.99974431951964,163.44848576091485,66.2201756697457,111.00406241904226,97.40651819386991,131.6154397158841,210.4280270504342,223.68504548506,148.843935895512,221.79221025877447,210.67831184859043,316.30945565654594,173.0484382739786,329.7409461830754,95.03783788257985,186.5404074778633,186.5404074778633,186.5404074778633,118.2272398316978,123.48166764346999,141.58788669592525,90.44264215568526,90.44264215568526,182.2582339102086,284.4575269682728,173.97664450962333,226.66431272492872,198.29581457342167,80.32179847226256,139.33950137664334,139.33950137664334,36.015656823778876,70.32274242306883,264.3642826141124,264.3642826141124,57.84984282663143,106.88042416098915,134.6140824724845,252.03981224445317,126.83369751717757,256.2809564726842,262.60509999913637,403.2943518845515,114.44714071736836,162.67462276303348,337.30966467056396,206.23061707738694,280.17555533381545,385.1926048777338,162.67778728189882,173.51133480972237,178.3939750723939,161.5829448167652,152.14516069561947,367.7318381288828,203.90853226030418]},\"selected\":{\"id\":\"3851\"},\"selection_policy\":{\"id\":\"3850\"}},\"id\":\"3613\",\"type\":\"ColumnDataSource\"},{\"attributes\":{\"source\":{\"id\":\"3613\"}},\"id\":\"3615\",\"type\":\"CDSView\"},{\"attributes\":{\"end\":424,\"start\":-40},\"id\":\"3587\",\"type\":\"Range1d\"},{\"attributes\":{},\"id\":\"3851\",\"type\":\"Selection\"},{\"attributes\":{\"high\":1,\"low\":-1,\"palette\":[\"#30123b\",\"#311542\",\"#32184a\",\"#341b51\",\"#351e58\",\"#36215f\",\"#372365\",\"#38266c\",\"#392972\",\"#3a2c79\",\"#3b2f7f\",\"#3c3285\",\"#3c358b\",\"#3d3791\",\"#3e3a96\",\"#3f3d9c\",\"#4040a1\",\"#4043a6\",\"#4145ab\",\"#4148b0\",\"#424bb5\",\"#434eba\",\"#4350be\",\"#4353c2\",\"#4456c7\",\"#4458cb\",\"#455bce\",\"#455ed2\",\"#4560d6\",\"#4563d9\",\"#4666dd\",\"#4668e0\",\"#466be3\",\"#466de6\",\"#4670e8\",\"#4673eb\",\"#4675ed\",\"#4678f0\",\"#467af2\",\"#467df4\",\"#467ff6\",\"#4682f8\",\"#4584f9\",\"#4587fb\",\"#4589fc\",\"#448cfd\",\"#438efd\",\"#4291fe\",\"#4193fe\",\"#4096fe\",\"#3f98fe\",\"#3e9bfe\",\"#3c9dfd\",\"#3ba0fc\",\"#39a2fc\",\"#38a5fb\",\"#36a8f9\",\"#34aaf8\",\"#33acf6\",\"#31aff5\",\"#2fb1f3\",\"#2db4f1\",\"#2bb6ef\",\"#2ab9ed\",\"#28bbeb\",\"#26bde9\",\"#25c0e6\",\"#23c2e4\",\"#21c4e1\",\"#20c6df\",\"#1ec9dc\",\"#1dcbda\",\"#1ccdd7\",\"#1bcfd4\",\"#1ad1d2\",\"#19d3cf\",\"#18d5cc\",\"#18d7ca\",\"#17d9c7\",\"#17dac4\",\"#17dcc2\",\"#17debf\",\"#18e0bd\",\"#18e1ba\",\"#19e3b8\",\"#1ae4b6\",\"#1be5b4\",\"#1de7b1\",\"#1ee8af\",\"#20e9ac\",\"#22eba9\",\"#24eca6\",\"#27eda3\",\"#29eea0\",\"#2cef9d\",\"#2ff09a\",\"#32f197\",\"#35f394\",\"#38f491\",\"#3bf48d\",\"#3ff58a\",\"#42f687\",\"#46f783\",\"#4af880\",\"#4df97c\",\"#51f979\",\"#55fa76\",\"#59fb72\",\"#5dfb6f\",\"#61fc6c\",\"#65fc68\",\"#69fd65\",\"#6dfd62\",\"#71fd5f\",\"#74fe5c\",\"#78fe59\",\"#7cfe56\",\"#80fe53\",\"#84fe50\",\"#87fe4d\",\"#8bfe4b\",\"#8efe48\",\"#92fe46\",\"#95fe44\",\"#98fe42\",\"#9bfd40\",\"#9efd3e\",\"#a1fc3d\",\"#a4fc3b\",\"#a6fb3a\",\"#a9fb39\",\"#acfa37\",\"#aef937\",\"#b1f836\",\"#b3f835\",\"#b6f735\",\"#b9f534\",\"#bbf434\",\"#bef334\",\"#c0f233\",\"#c3f133\",\"#c5ef33\",\"#c8ee33\",\"#caed33\",\"#cdeb34\",\"#cfea34\",\"#d1e834\",\"#d4e735\",\"#d6e535\",\"#d8e335\",\"#dae236\",\"#dde036\",\"#dfde36\",\"#e1dc37\",\"#e3da37\",\"#e5d838\",\"#e7d738\",\"#e8d538\",\"#ead339\",\"#ecd139\",\"#edcf39\",\"#efcd39\",\"#f0cb3a\",\"#f2c83a\",\"#f3c63a\",\"#f4c43a\",\"#f6c23a\",\"#f7c039\",\"#f8be39\",\"#f9bc39\",\"#f9ba38\",\"#fab737\",\"#fbb537\",\"#fbb336\",\"#fcb035\",\"#fcae34\",\"#fdab33\",\"#fda932\",\"#fda631\",\"#fda330\",\"#fea12f\",\"#fe9e2e\",\"#fe9b2d\",\"#fe982c\",\"#fd952b\",\"#fd9229\",\"#fd8f28\",\"#fd8c27\",\"#fc8926\",\"#fc8624\",\"#fb8323\",\"#fb8022\",\"#fa7d20\",\"#fa7a1f\",\"#f9771e\",\"#f8741c\",\"#f7711b\",\"#f76e1a\",\"#f66b18\",\"#f56817\",\"#f46516\",\"#f36315\",\"#f26014\",\"#f15d13\",\"#ef5a11\",\"#ee5810\",\"#ed550f\",\"#ec520e\",\"#ea500d\",\"#e94d0d\",\"#e84b0c\",\"#e6490b\",\"#e5460a\",\"#e3440a\",\"#e24209\",\"#e04008\",\"#de3e08\",\"#dd3c07\",\"#db3a07\",\"#d93806\",\"#d73606\",\"#d63405\",\"#d43205\",\"#d23005\",\"#d02f04\",\"#ce2d04\",\"#cb2b03\",\"#c92903\",\"#c72803\",\"#c52602\",\"#c32402\",\"#c02302\",\"#be2102\",\"#bb1f01\",\"#b91e01\",\"#b61c01\",\"#b41b01\",\"#b11901\",\"#ae1801\",\"#ac1601\",\"#a91501\",\"#a61401\",\"#a31201\",\"#a01101\",\"#9d1001\",\"#9a0e01\",\"#970d01\",\"#940c01\",\"#910b01\",\"#8e0a01\",\"#8b0901\",\"#870801\",\"#840701\",\"#810602\",\"#7d0502\",\"#7a0402\"]},\"id\":\"3641\",\"type\":\"LinearColorMapper\"},{\"attributes\":{\"line_alpha\":{\"value\":0.5},\"line_color\":{\"field\":\"value\",\"transform\":{\"id\":\"3641\"}},\"line_width\":{\"value\":5}},\"id\":\"3642\",\"type\":\"MultiLine\"},{\"attributes\":{\"line_color\":{\"value\":\"#abdda4\"},\"line_width\":{\"value\":5}},\"id\":\"3652\",\"type\":\"MultiLine\"},{\"attributes\":{\"fill_color\":{\"value\":\"#fdae61\"},\"size\":{\"value\":15}},\"id\":\"3631\",\"type\":\"Circle\"},{\"attributes\":{\"fill_color\":{\"value\":\"#2b83ba\"},\"size\":{\"value\":15}},\"id\":\"3626\",\"type\":\"Circle\"},{\"attributes\":{},\"id\":\"3595\",\"type\":\"ResetTool\"},{\"attributes\":{\"callback\":null,\"tooltips\":[[\"index\",\"$index\"],[\"x\",\"@x0\"],[\"y\",\"@y0\"],[\"value\",\"@edge_value\"]]},\"id\":\"3591\",\"type\":\"HoverTool\"},{\"attributes\":{},\"id\":\"3596\",\"type\":\"PanTool\"},{\"attributes\":{},\"id\":\"3594\",\"type\":\"WheelZoomTool\"},{\"attributes\":{\"coordinates\":null,\"edge_renderer\":{\"id\":\"3614\"},\"group\":null,\"inspection_policy\":{\"id\":\"3659\"},\"layout_provider\":{\"id\":\"3620\"},\"node_renderer\":{\"id\":\"3610\"},\"selection_policy\":{\"id\":\"3657\"}},\"id\":\"3607\",\"type\":\"GraphRenderer\"},{\"attributes\":{\"bottom_units\":\"screen\",\"coordinates\":null,\"fill_alpha\":0.5,\"fill_color\":\"lightgrey\",\"group\":null,\"left_units\":\"screen\",\"level\":\"overlay\",\"line_alpha\":1.0,\"line_color\":\"black\",\"line_dash\":[4,4],\"line_width\":2,\"right_units\":\"screen\",\"syncable\":false,\"top_units\":\"screen\"},\"id\":\"3846\",\"type\":\"BoxAnnotation\"},{\"attributes\":{\"overlay\":{\"id\":\"3847\"}},\"id\":\"3598\",\"type\":\"BoxZoomTool\"},{\"attributes\":{\"end\":424,\"start\":-40},\"id\":\"3586\",\"type\":\"Range1d\"},{\"attributes\":{\"line_color\":{\"value\":\"#fdae61\"},\"line_width\":{\"value\":5}},\"id\":\"3647\",\"type\":\"MultiLine\"},{\"attributes\":{\"coordinates\":null,\"data_source\":{\"id\":\"3613\"},\"glyph\":{\"id\":\"3642\"},\"group\":null,\"hover_glyph\":{\"id\":\"3652\"},\"selection_glyph\":{\"id\":\"3647\"},\"view\":{\"id\":\"3615\"}},\"id\":\"3614\",\"type\":\"GlyphRenderer\"},{\"attributes\":{},\"id\":\"3833\",\"type\":\"LinearScale\"},{\"attributes\":{},\"id\":\"3849\",\"type\":\"Selection\"}],\"root_ids\":[\"3588\"]},\"title\":\"Bokeh Application\",\"version\":\"2.4.3\"}};\n  const render_items = [{\"docid\":\"55b81b7a-c6eb-4dd3-abf0-adc5ac9acd4b\",\"root_ids\":[\"3588\"],\"roots\":{\"3588\":\"8ebda00b-92bc-4660-b7cf-55fb605d4fad\"}}];\n  root.Bokeh.embed.embed_items_notebook(docs_json, render_items);\n  }\n  if (root.Bokeh !== undefined) {\n    embed_document(root);\n  } else {\n    let attempts = 0;\n    const timer = setInterval(function(root) {\n      if (root.Bokeh !== undefined) {\n        clearInterval(timer);\n        embed_document(root);\n      } else {\n        attempts++;\n        if (attempts > 100) {\n          clearInterval(timer);\n          console.log(\"Bokeh: ERROR: Unable to run BokehJS code because BokehJS library is missing\");\n        }\n      }\n    }, 10, root)\n  }\n})(window);",
      "application/vnd.bokehjs_exec.v0+json": ""
     },
     "metadata": {
      "application/vnd.bokehjs_exec.v0+json": {
       "id": "3588"
      }
     },
     "output_type": "display_data"
    }
   ],
   "source": [
    "warnings.filterwarnings('ignore')\n",
    "\n",
    "#lenghts of each trial\n",
    "index = [0, 118, 88, 100, 98, 109, 78, 121, 76, 113, 97, 112, 118]\n",
    "lista = [k[0] for k in indices_load]\n",
    "\n",
    "for trial in range(1,len(index)):\n",
    "    \n",
    "    index, dat_tr, dat_stan, dat_staw = divide_data(index, trial, mat_load)\n",
    "    pos_tr = roi_load[index[trial-1] : index[trial]+1, :, :, :]\n",
    "\n",
    "    #choose state\n",
    "    pos_stan = pos_tr[:, :, 0, :]\n",
    "    pos_staw = pos_tr[:, :, 1, :]\n",
    "    \n",
    "    for sesion in range(4):\n",
    "\n",
    "        #choose session\n",
    "        dat_sean = dat_stan[:, sesion, :, :]\n",
    "        dat_seaw = dat_staw[:, sesion, :, :]\n",
    "        pos_sean = pos_stan[:, :, sesion]\n",
    "        pos_seaw = pos_staw[:, :, sesion]\n",
    "\n",
    "        #make dict to convert to dataframe\n",
    "        dat_df_an, dat_df_aw = make_dict(index, trial, lista, dat_sean, dat_seaw)\n",
    "\n",
    "        #exclude the rows/columns which index is not in the other dataframe\n",
    "        df_corr_an, df_corr_aw = exclude_nan(dat_df_an, dat_df_aw)\n",
    "        \n",
    "        df_corr_an_pos = pd.DataFrame(index=df_corr_an.index, columns=df_corr_an.columns)\n",
    "        df_corr_aw_pos = pd.DataFrame(index=df_corr_aw.index, columns=df_corr_aw.columns)\n",
    "        \n",
    "        for i in df_corr_an.index:\n",
    "            for j in df_corr_an.columns:\n",
    "                df_corr_an_pos.loc[i, j] = np.sqrt((pos_sean[i, 0]-pos_sean[j,0])**2 + (pos_sean[i, 1]-pos_sean[j,1])**2)\n",
    "                df_corr_aw_pos.loc[i, j] = np.sqrt((pos_seaw[i, 0]-pos_seaw[j,0])**2 + (pos_seaw[i, 1]-pos_seaw[j,1])**2)\n",
    "\n",
    "        df_an_pos = pd.DataFrame(df_corr_an_pos, index=None).astype(float)\n",
    "        df_aw_pos = pd.DataFrame(df_corr_aw_pos, index=None).astype(float)\n",
    "\n",
    "        #distance correlation\n",
    "        df_corr_an_pos = df_an_pos.corr().dropna(how='all', axis=1).dropna(how='all', axis=0)\n",
    "        df_corr_aw_pos = df_aw_pos.corr().dropna(how='all', axis=1).dropna(how='all', axis=0)\n",
    "\n",
    "        df_corr_diff = (df_corr_aw-df_corr_an)\n",
    "\n",
    "        links = form_links(df_corr_an, df_an_pos)\n",
    "        plot_network_graph(links)\n",
    "\n",
    "\n",
    "        break\n",
    "    break\n",
    "        \n",
    "                       \n",
    "    "
   ]
  },
  {
   "cell_type": "code",
   "execution_count": null,
   "metadata": {},
   "outputs": [],
   "source": []
  }
 ],
 "metadata": {
  "kernelspec": {
   "display_name": "Python 3.10.5 64-bit",
   "language": "python",
   "name": "python3"
  },
  "language_info": {
   "codemirror_mode": {
    "name": "ipython",
    "version": 3
   },
   "file_extension": ".py",
   "mimetype": "text/x-python",
   "name": "python",
   "nbconvert_exporter": "python",
   "pygments_lexer": "ipython3",
   "version": "3.10.5"
  },
  "orig_nbformat": 4,
  "vscode": {
   "interpreter": {
    "hash": "c3ff55a2362d840d3433b3a68631efa6e477163e310b6a9fd17f9078908dbfa1"
   }
  }
 },
 "nbformat": 4,
 "nbformat_minor": 2
}
