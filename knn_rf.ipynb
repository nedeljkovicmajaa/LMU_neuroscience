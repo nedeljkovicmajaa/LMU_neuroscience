{
 "cells": [
  {
   "cell_type": "markdown",
   "metadata": {},
   "source": [
    "#### Import required packages"
   ]
  },
  {
   "cell_type": "code",
   "execution_count": 1,
   "metadata": {},
   "outputs": [],
   "source": [
    "# numeric and plotting libraries\n",
    "import time\n",
    "import os\n",
    "import shutil\n",
    "import math\n",
    "from collections import defaultdict\n",
    "import matplotlib.pyplot as plt\n",
    "import numpy as np\n",
    "import csv\n",
    "import random\n",
    "from PIL import Image\n",
    "import csv\n",
    "import operator \n",
    "import pandas as pd \n",
    "# to create confusion metrics\n",
    "import seaborn as sns\n",
    "import scipy.io as sio\n",
    "from cmath import nan\n",
    "from cmath import isnan"
   ]
  },
  {
   "cell_type": "code",
   "execution_count": 142,
   "metadata": {},
   "outputs": [],
   "source": [
    "from ipynb.fs.full.data_prep import *"
   ]
  },
  {
   "cell_type": "code",
   "execution_count": 3,
   "metadata": {},
   "outputs": [],
   "source": [
    "%matplotlib inline"
   ]
  },
  {
   "cell_type": "code",
   "execution_count": 4,
   "metadata": {},
   "outputs": [],
   "source": [
    "from sklearn.metrics import accuracy_score,confusion_matrix # metrics error\n",
    "from sklearn.multiclass import OneVsRestClassifier\n",
    "from sklearn.neighbors import KNeighborsClassifier\n",
    "from sklearn.ensemble import RandomForestClassifier"
   ]
  },
  {
   "cell_type": "markdown",
   "metadata": {},
   "source": [
    "# Classification on anest and awake state"
   ]
  },
  {
   "cell_type": "markdown",
   "metadata": {},
   "source": [
    "#### Data preparation"
   ]
  },
  {
   "cell_type": "code",
   "execution_count": 157,
   "metadata": {},
   "outputs": [],
   "source": [
    "def ucitavanje_podataka(directory):\n",
    "    id = 0\n",
    "    data = []\n",
    "    for filename in os.listdir(directory):\n",
    "        f = os.path.join(directory, filename)\n",
    "        label = f.split(\"\\\\\")[-1][0:2]\n",
    "        id = id + 1\n",
    "        dat = np.load(f)\n",
    "        data.append([id, dat, label])\n",
    "    \n",
    "    #random.seed(2)\n",
    "    random.shuffle(data)\n",
    "    return data      "
   ]
  },
  {
   "cell_type": "code",
   "execution_count": 150,
   "metadata": {},
   "outputs": [],
   "source": [
    "def vektorizacija(podaci):\n",
    "    prevodjenje_labela = {\"an\": [1], \"aw\": [0]}  # TRUE:Mirtrons  FALSE:canonical microRN\n",
    "\n",
    "    vektorizovani_podaci = []\n",
    "    for a in podaci:\n",
    "        vektorizovani_podaci.append([a[0], a[1], prevodjenje_labela[a[2]]])\n",
    "\n",
    "    return vektorizovani_podaci"
   ]
  },
  {
   "cell_type": "code",
   "execution_count": 126,
   "metadata": {},
   "outputs": [],
   "source": [
    "def podela_podataka(data_vectors):\n",
    "    max = 0\n",
    "    for i in range(0,len(data_vectors)):\n",
    "        if(data_vectors[i][1].shape[0] > max):\n",
    "            max = data_vectors[i][1].shape[0]\n",
    "\n",
    "    X_train, y_train, X_test, y_test = np.empty([1, max, data_vectors[0][1].shape[1]]), [], np.empty([1, max, data_vectors[0][1].shape[1]]),[]\n",
    "    i,j = 0,0\n",
    "\n",
    "    random.shuffle(data_vectors)\n",
    "    for item in data_vectors:\n",
    "        if item[2]==[1]:\n",
    "            i = i + 1\n",
    "            if i <= 50:\n",
    "                if(np.array(item[1]).shape[0] < max):\n",
    "                    item[1] = np.pad(item[1], [(0, max-np.array(item[1]).shape[0]), (0, 0)], mode='constant' , constant_values=0)\n",
    "                X_test = np.append(X_test, np.array(item[1]).reshape(1, item[1].shape[0], np.array(item[1]).shape[1]), axis=0)\n",
    "                y_test.append(item[2])\n",
    "                #y_test.append(random.choice([[0], [1]]))\n",
    "            else:\n",
    "                if(np.array(item[1]).shape[0] < max):\n",
    "                    item[1] = np.pad(item[1], [(0, max-np.array(item[1]).shape[0]), (0, 0)], mode='constant', constant_values=0)\n",
    "                X_train = np.append(X_train, np.array(item[1]).reshape(1, np.array(item[1]).shape[0], np.array(item[1]).shape[1]), axis=0)\n",
    "                y_train.append(item[2])\n",
    "        else:\n",
    "            j = j + 1\n",
    "            if  j <= 50:\n",
    "                if(np.array(item[1]).shape[0] < max):\n",
    "                    item[1] = np.pad(item[1], [(0, max-np.array(item[1]).shape[0]), (0, 0)], mode='constant', constant_values=0)\n",
    "                X_test = np.append(X_test, np.array(item[1]).reshape(1, np.array(item[1]).shape[0], np.array(item[1]).shape[1]), axis=0)\n",
    "                y_test.append(item[2])\n",
    "                #y_test.append(random.choice([[0], [1]]))\n",
    "            else:\n",
    "                if(np.array(item[1]).shape[0] < max):\n",
    "                    item[1] = np.pad(item[1], [(0, max-np.array(item[1]).shape[0]), (0, 0)], mode='constant', constant_values=0)\n",
    "                X_train = np.append(X_train, np.array(item[1]).reshape(1, np.array(item[1]).shape[0], np.array(item[1]).shape[1]), axis=0)\n",
    "                y_train.append(item[2])\n",
    "    \n",
    "    X_train = np.array(X_train[1:])\n",
    "    y_train = np.array(y_train)\n",
    "    X_test = np.array(X_test[1:])\n",
    "    y_test = np.array(y_test)\n",
    "    \n",
    "    return X_train, y_train, X_test, y_test"
   ]
  },
  {
   "cell_type": "code",
   "execution_count": 127,
   "metadata": {},
   "outputs": [],
   "source": [
    "def podela_podataka_tren(data_vectors):\n",
    "    max = 110\n",
    "    X_train, y_train = np.empty([1, max, data_vectors[0][1].shape[1]]), []\n",
    "\n",
    "    random.shuffle(data_vectors)\n",
    "\n",
    "    for item in data_vectors:\n",
    "        if(item[1].shape[0] < max):\n",
    "            item[1] = np.pad(item[1], [(0, max-item[1].shape[0]), (0, 0)], mode='constant', constant_values=0)      \n",
    "        X_train = np.append(X_train, item[1].reshape(1, item[1].shape[0], item[1].shape[1]), axis=0)\n",
    "        #y_train.append(item[2])\n",
    "        y_train.append(random.choice([[0], [1]]))\n",
    "    \n",
    "    X_train = np.array(X_train[1:])\n",
    "    y_train = np.array(y_train)\n",
    "    \n",
    "    return X_train, y_train"
   ]
  },
  {
   "cell_type": "markdown",
   "metadata": {},
   "source": [
    "#### Test/Train"
   ]
  },
  {
   "cell_type": "code",
   "execution_count": null,
   "metadata": {},
   "outputs": [],
   "source": [
    "#putanja = \"C:/Users/Zephyrus/Desktop/cnn data/data\"\n",
    "putanja = \"C:/Users/m.nedeljkovic/Desktop/cnn data/data\"\n",
    "#niz od podataka za svaku sekvencu (podatak je niz od id-ja, sekvence i labele)\n",
    "podaci = ucitavanje_podataka(putanja)\n",
    "vektorizovani_podaci = vektorizacija(podaci)\n",
    "\n",
    "X_train, y_train, X_test, y_test = podela_podataka(vektorizovani_podaci)\n",
    "X_train = np.array(X_train, dtype=object)\n",
    "y_train = np.array(y_train)\n",
    "X_test = np.array(X_test, dtype=object)\n",
    "y_test = np.array(y_test)"
   ]
  },
  {
   "cell_type": "code",
   "execution_count": 130,
   "metadata": {},
   "outputs": [],
   "source": [
    "X_tr = []\n",
    "for i in X_train:\n",
    "    temp = []\n",
    "    for j in i:\n",
    "        for k in j:\n",
    "            if(isnan(k)):\n",
    "                k = 0\n",
    "            temp.append(k)\n",
    "    X_tr.append(temp)\n",
    "X_train = np.array(X_tr, dtype=object)\n",
    "\n",
    "X_ts = []\n",
    "for i in X_test:\n",
    "    temp = []\n",
    "    for j in i:\n",
    "        for k in j:\n",
    "            if(isnan(k)):\n",
    "                k = 0\n",
    "            temp.append(k)\n",
    "    X_ts.append(temp) \n",
    "X_test = np.array(X_ts, dtype=object)"
   ]
  },
  {
   "cell_type": "markdown",
   "metadata": {},
   "source": [
    "### KNN"
   ]
  },
  {
   "cell_type": "code",
   "execution_count": 131,
   "metadata": {},
   "outputs": [
    {
     "data": {
      "text/html": [
       "<style>#sk-container-id-6 {color: black;background-color: white;}#sk-container-id-6 pre{padding: 0;}#sk-container-id-6 div.sk-toggleable {background-color: white;}#sk-container-id-6 label.sk-toggleable__label {cursor: pointer;display: block;width: 100%;margin-bottom: 0;padding: 0.3em;box-sizing: border-box;text-align: center;}#sk-container-id-6 label.sk-toggleable__label-arrow:before {content: \"▸\";float: left;margin-right: 0.25em;color: #696969;}#sk-container-id-6 label.sk-toggleable__label-arrow:hover:before {color: black;}#sk-container-id-6 div.sk-estimator:hover label.sk-toggleable__label-arrow:before {color: black;}#sk-container-id-6 div.sk-toggleable__content {max-height: 0;max-width: 0;overflow: hidden;text-align: left;background-color: #f0f8ff;}#sk-container-id-6 div.sk-toggleable__content pre {margin: 0.2em;color: black;border-radius: 0.25em;background-color: #f0f8ff;}#sk-container-id-6 input.sk-toggleable__control:checked~div.sk-toggleable__content {max-height: 200px;max-width: 100%;overflow: auto;}#sk-container-id-6 input.sk-toggleable__control:checked~label.sk-toggleable__label-arrow:before {content: \"▾\";}#sk-container-id-6 div.sk-estimator input.sk-toggleable__control:checked~label.sk-toggleable__label {background-color: #d4ebff;}#sk-container-id-6 div.sk-label input.sk-toggleable__control:checked~label.sk-toggleable__label {background-color: #d4ebff;}#sk-container-id-6 input.sk-hidden--visually {border: 0;clip: rect(1px 1px 1px 1px);clip: rect(1px, 1px, 1px, 1px);height: 1px;margin: -1px;overflow: hidden;padding: 0;position: absolute;width: 1px;}#sk-container-id-6 div.sk-estimator {font-family: monospace;background-color: #f0f8ff;border: 1px dotted black;border-radius: 0.25em;box-sizing: border-box;margin-bottom: 0.5em;}#sk-container-id-6 div.sk-estimator:hover {background-color: #d4ebff;}#sk-container-id-6 div.sk-parallel-item::after {content: \"\";width: 100%;border-bottom: 1px solid gray;flex-grow: 1;}#sk-container-id-6 div.sk-label:hover label.sk-toggleable__label {background-color: #d4ebff;}#sk-container-id-6 div.sk-serial::before {content: \"\";position: absolute;border-left: 1px solid gray;box-sizing: border-box;top: 0;bottom: 0;left: 50%;z-index: 0;}#sk-container-id-6 div.sk-serial {display: flex;flex-direction: column;align-items: center;background-color: white;padding-right: 0.2em;padding-left: 0.2em;position: relative;}#sk-container-id-6 div.sk-item {position: relative;z-index: 1;}#sk-container-id-6 div.sk-parallel {display: flex;align-items: stretch;justify-content: center;background-color: white;position: relative;}#sk-container-id-6 div.sk-item::before, #sk-container-id-6 div.sk-parallel-item::before {content: \"\";position: absolute;border-left: 1px solid gray;box-sizing: border-box;top: 0;bottom: 0;left: 50%;z-index: -1;}#sk-container-id-6 div.sk-parallel-item {display: flex;flex-direction: column;z-index: 1;position: relative;background-color: white;}#sk-container-id-6 div.sk-parallel-item:first-child::after {align-self: flex-end;width: 50%;}#sk-container-id-6 div.sk-parallel-item:last-child::after {align-self: flex-start;width: 50%;}#sk-container-id-6 div.sk-parallel-item:only-child::after {width: 0;}#sk-container-id-6 div.sk-dashed-wrapped {border: 1px dashed gray;margin: 0 0.4em 0.5em 0.4em;box-sizing: border-box;padding-bottom: 0.4em;background-color: white;}#sk-container-id-6 div.sk-label label {font-family: monospace;font-weight: bold;display: inline-block;line-height: 1.2em;}#sk-container-id-6 div.sk-label-container {text-align: center;}#sk-container-id-6 div.sk-container {/* jupyter's `normalize.less` sets `[hidden] { display: none; }` but bootstrap.min.css set `[hidden] { display: none !important; }` so we also need the `!important` here to be able to override the default hidden behavior on the sphinx rendered scikit-learn.org. See: https://github.com/scikit-learn/scikit-learn/issues/21755 */display: inline-block !important;position: relative;}#sk-container-id-6 div.sk-text-repr-fallback {display: none;}</style><div id=\"sk-container-id-6\" class=\"sk-top-container\"><div class=\"sk-text-repr-fallback\"><pre>OneVsRestClassifier(estimator=KNeighborsClassifier())</pre><b>In a Jupyter environment, please rerun this cell to show the HTML representation or trust the notebook. <br />On GitHub, the HTML representation is unable to render, please try loading this page with nbviewer.org.</b></div><div class=\"sk-container\" hidden><div class=\"sk-item sk-dashed-wrapped\"><div class=\"sk-label-container\"><div class=\"sk-label sk-toggleable\"><input class=\"sk-toggleable__control sk-hidden--visually\" id=\"sk-estimator-id-16\" type=\"checkbox\" ><label for=\"sk-estimator-id-16\" class=\"sk-toggleable__label sk-toggleable__label-arrow\">OneVsRestClassifier</label><div class=\"sk-toggleable__content\"><pre>OneVsRestClassifier(estimator=KNeighborsClassifier())</pre></div></div></div><div class=\"sk-parallel\"><div class=\"sk-parallel-item\"><div class=\"sk-item\"><div class=\"sk-label-container\"><div class=\"sk-label sk-toggleable\"><input class=\"sk-toggleable__control sk-hidden--visually\" id=\"sk-estimator-id-17\" type=\"checkbox\" ><label for=\"sk-estimator-id-17\" class=\"sk-toggleable__label sk-toggleable__label-arrow\">estimator: KNeighborsClassifier</label><div class=\"sk-toggleable__content\"><pre>KNeighborsClassifier()</pre></div></div></div><div class=\"sk-serial\"><div class=\"sk-item\"><div class=\"sk-estimator sk-toggleable\"><input class=\"sk-toggleable__control sk-hidden--visually\" id=\"sk-estimator-id-18\" type=\"checkbox\" ><label for=\"sk-estimator-id-18\" class=\"sk-toggleable__label sk-toggleable__label-arrow\">KNeighborsClassifier</label><div class=\"sk-toggleable__content\"><pre>KNeighborsClassifier()</pre></div></div></div></div></div></div></div></div></div></div>"
      ],
      "text/plain": [
       "OneVsRestClassifier(estimator=KNeighborsClassifier())"
      ]
     },
     "execution_count": 131,
     "metadata": {},
     "output_type": "execute_result"
    }
   ],
   "source": [
    "knn = OneVsRestClassifier(KNeighborsClassifier())\n",
    "knn.fit(X_train,y_train)"
   ]
  },
  {
   "cell_type": "code",
   "execution_count": 132,
   "metadata": {},
   "outputs": [],
   "source": [
    "predictions = knn.predict(X_test)"
   ]
  },
  {
   "cell_type": "code",
   "execution_count": 133,
   "metadata": {},
   "outputs": [
    {
     "name": "stdout",
     "output_type": "stream",
     "text": [
      "KNN Accuracy: 0.950\n"
     ]
    }
   ],
   "source": [
    "print('KNN Accuracy: %.3f' % accuracy_score(y_test,predictions))"
   ]
  },
  {
   "cell_type": "code",
   "execution_count": 134,
   "metadata": {},
   "outputs": [
    {
     "data": {
      "text/plain": [
       "Text(0.5, 1.0, 'Accuracy Score: 0.95')"
      ]
     },
     "execution_count": 134,
     "metadata": {},
     "output_type": "execute_result"
    },
    {
     "data": {
      "image/png": "[encoded data removed]",
      "text/plain": [
       "<Figure size 648x648 with 2 Axes>"
      ]
     },
     "metadata": {
      "needs_background": "light"
     },
     "output_type": "display_data"
    }
   ],
   "source": [
    "cm = confusion_matrix(y_test,predictions)\n",
    "plt.figure(figsize=(9,9))\n",
    "sns.heatmap(cm,annot=True, fmt='.3f', linewidths=.5, square=True,cmap='Blues_r')\n",
    "plt.ylabel('Actual label')\n",
    "plt.xlabel('Predicted label')\n",
    "all_sample_title = 'Accuracy Score: {0}'.format(accuracy_score(y_test,predictions))\n",
    "plt.title(all_sample_title,size=15)"
   ]
  },
  {
   "cell_type": "markdown",
   "metadata": {},
   "source": [
    "### Random Forest"
   ]
  },
  {
   "cell_type": "markdown",
   "metadata": {},
   "source": [
    "##### Implementation"
   ]
  },
  {
   "cell_type": "code",
   "execution_count": 135,
   "metadata": {},
   "outputs": [],
   "source": [
    "def RF(X_train, y_train, X_test, y_test):\n",
    "    forest = RandomForestClassifier(criterion='gini',\n",
    "                                    n_estimators=5,\n",
    "                                    random_state=1,\n",
    "                                    n_jobs=2)\n",
    "\n",
    "    forest.fit(X_train, y_train)\n",
    "\n",
    "    y_pred = forest.predict(X_test)\n",
    "\n",
    "    print('Accuracy: %.3f' % accuracy_score(y_test, y_pred))\n",
    "    \n",
    "    return y_pred"
   ]
  },
  {
   "cell_type": "code",
   "execution_count": 136,
   "metadata": {},
   "outputs": [],
   "source": [
    "def mat_of_conf(y_test,y_pred,br1,br2):\n",
    "    cm = confusion_matrix(y_test,y_pred)\n",
    "\n",
    "    plt.figure(figsize=(9,9))\n",
    "    sns.heatmap(cm,annot=True, fmt='.3f', linewidths=.5, square=True,cmap='Blues_r')\n",
    "    plt.ylabel('Actual label')\n",
    "    plt.xlabel('Predicted label')\n",
    "    all_sample_title = 'Accuracy Score: {0}'.format(accuracy_score(y_test,y_pred))\n",
    "    plt.title(all_sample_title,size=15)\n",
    "    plt.savefig(\"C:/Users/m.nedeljkovic/Desktop/ses/ses_\" + str(br1) + \"_\" + str(br2) + \".jpeg\")"
   ]
  },
  {
   "cell_type": "code",
   "execution_count": null,
   "metadata": {},
   "outputs": [],
   "source": [
    "Forest = RF(X_train, y_train, X_test, y_test)\n",
    "mat_of_conf(y_test,Forest)"
   ]
  },
  {
   "cell_type": "markdown",
   "metadata": {},
   "source": [
    "##### Iterating over different regions"
   ]
  },
  {
   "cell_type": "code",
   "execution_count": null,
   "metadata": {},
   "outputs": [],
   "source": [
    "import warnings\n",
    "warnings.filterwarnings('ignore')\n",
    "from cmath import isnan\n",
    "\n",
    "#putanja = \"C:/Users/Zephyrus/Desktop/cnn data/data\"\n",
    "putanja = \"C:/Users/m.nedeljkovic/Desktop/cnn data/data\"\n",
    "mat_load, roi_load, ind_load, list1, list2, list3, list4 = load_data()\n",
    "\n",
    "for br1 in range(1,13):\n",
    "    for br2 in range(1,13):\n",
    "        if(br1!=br2):\n",
    "            print(\"Trained on region \" + str(br1) + \", and tested on region \" + str(br2))\n",
    "\n",
    "            for file_name in os.listdir(putanja):\n",
    "                # construct full file path\n",
    "                file = putanja + \"/\" + file_name\n",
    "                os.remove(file)\n",
    "\n",
    "            mat_load, roi_load, ind_load, list1, list2, list3, list4 = load_data()\n",
    "            data_per_trial(1, mat_load, roi_load, ind_load, list1, list2, list3, list4)\n",
    "\n",
    "            #niz od podataka za svaku sekvencu (podatak je niz od id-ja, sekvence i labele)\n",
    "            podaci = ucitavanje_podataka(putanja)\n",
    "            vektorizovani_podaci = vektorizacija(podaci)\n",
    "\n",
    "            X_train, y_train, X_test, y_test = podela_podataka(vektorizovani_podaci)\n",
    "            X_train = np.array(X_train, dtype=object)\n",
    "            y_train = np.array(y_train)\n",
    "            X_test = np.array(X_test, dtype=object)\n",
    "            y_test = np.array(y_test)\n",
    "\n",
    "            X_tr = []\n",
    "            for i in X_train:\n",
    "                temp = []\n",
    "                for j in i:\n",
    "                    for k in j:\n",
    "                        if(isnan(k)):\n",
    "                            k = 0\n",
    "                        temp.append(k)\n",
    "                X_tr.append(temp)\n",
    "            X_train = np.array(X_tr, dtype=object)\n",
    "\n",
    "            X_ts = []\n",
    "            for i in X_test:\n",
    "                temp = []\n",
    "                for j in i:\n",
    "                    for k in j:\n",
    "                        if(isnan(k)):\n",
    "                            k = 0\n",
    "                        temp.append(k)\n",
    "                X_ts.append(temp) \n",
    "            X_test = np.array(X_ts, dtype=object)\n",
    "            Forest = RF(X_train, y_train, X_test, y_test)\n",
    "            mat_of_conf(y_test,Forest,br1,br2)\n"
   ]
  },
  {
   "cell_type": "markdown",
   "metadata": {},
   "source": [
    "### Iterating over different sessions knn and rf"
   ]
  },
  {
   "cell_type": "code",
   "execution_count": 161,
   "metadata": {},
   "outputs": [
    {
     "name": "stdout",
     "output_type": "stream",
     "text": [
      "[0. 0. 0. 0. 0. 0. 0. 0. 0. 0. 0. 0. 0. 0. 0. 0. 0. 0. 0. 0. 0. 0. 0. 0.\n",
      " 0. 0. 0. 0. 0. 0. 0. 1. 1. 1. 1. 1. 1. 1. 1. 1. 1. 1. 1. 1. 1. 1. 1. 1.\n",
      " 1. 1. 1. 1. 1. 1. 1. 1. 1. 1. 1. 1. 1. 1. 0. 0. 0. 0. 0. 0. 0. 0. 0. 0.\n",
      " 0. 0. 0. 0. 0. 0. 0. 0. 0. 0. 0. 0. 0. 0. 0. 0. 0. 0. 0. 0. 0. 0. 0. 0.\n",
      " 0. 0. 0. 0. 0. 0. 0. 0. 0. 0. 0. 0. 0. 0. 0. 0. 0. 0. 0. 0. 0. 0. 0. 0.\n",
      " 0. 0. 0. 0. 0. 0. 0. 0. 0. 0. 0. 0. 0. 0. 0. 0. 0. 0. 0. 0. 0. 0. 0. 0.\n",
      " 0. 0. 0. 0. 0. 0. 0. 0. 0. 0. 0.]\n",
      "Accuracy: 0.530\n",
      "[1. 1. 1. 1. 1. 1. 1. 1. 1. 1. 1. 1. 1. 1. 1. 1. 1. 1. 1. 1. 1. 1. 1. 1.\n",
      " 1. 1. 1. 1. 1. 1. 1. 1. 1. 1. 1. 1. 1. 1. 1. 1. 1. 1. 1. 1. 1. 1. 1. 1.\n",
      " 1. 1. 1. 1. 1. 1. 1. 1. 1. 1. 1. 1. 1. 1. 1. 1. 1. 1. 1. 1. 1. 1. 1. 1.\n",
      " 1. 1. 1. 1. 1. 1. 1. 1. 1. 1. 1. 1. 1. 1. 1. 1. 1. 1. 1. 1. 1. 1. 1. 1.\n",
      " 1. 1. 1. 1. 1. 1. 1. 1. 1. 1. 1. 1. 1. 1. 1. 1. 1. 1. 1. 1. 1. 1. 1. 1.\n",
      " 1. 1. 1. 1. 0. 0. 0. 0. 0. 0. 0. 0. 0. 0. 0. 0. 0. 0. 0. 0. 0. 0. 0. 0.\n",
      " 0. 0. 0. 0. 0. 0. 0. 0. 0. 0. 0.]\n"
     ]
    },
    {
     "ename": "KeyboardInterrupt",
     "evalue": "",
     "output_type": "error",
     "traceback": [
      "\u001b[1;31m---------------------------------------------------------------------------\u001b[0m",
      "\u001b[1;31mKeyboardInterrupt\u001b[0m                         Traceback (most recent call last)",
      "\u001b[1;32md:\\Marija\\noise correlation\\LMU_neuroscience\\knn_rf.ipynb Cell 28\u001b[0m in \u001b[0;36m<cell line: 9>\u001b[1;34m()\u001b[0m\n\u001b[0;32m     <a href='vscode-notebook-cell:/d%3A/Marija/noise%20correlation/LMU_neuroscience/knn_rf.ipynb#ch0000027?line=28'>29</a>\u001b[0m \u001b[39mprint\u001b[39m(podaci[\u001b[39m1\u001b[39m][\u001b[39m1\u001b[39m][\u001b[39m0\u001b[39m])\n\u001b[0;32m     <a href='vscode-notebook-cell:/d%3A/Marija/noise%20correlation/LMU_neuroscience/knn_rf.ipynb#ch0000027?line=29'>30</a>\u001b[0m vektorizovani_podaci \u001b[39m=\u001b[39m vektorizacija(podaci)\n\u001b[1;32m---> <a href='vscode-notebook-cell:/d%3A/Marija/noise%20correlation/LMU_neuroscience/knn_rf.ipynb#ch0000027?line=30'>31</a>\u001b[0m X_train_, y_train_ \u001b[39m=\u001b[39m podela_podataka_tren(vektorizovani_podaci)\n\u001b[0;32m     <a href='vscode-notebook-cell:/d%3A/Marija/noise%20correlation/LMU_neuroscience/knn_rf.ipynb#ch0000027?line=31'>32</a>\u001b[0m X_tr \u001b[39m=\u001b[39m []\n\u001b[0;32m     <a href='vscode-notebook-cell:/d%3A/Marija/noise%20correlation/LMU_neuroscience/knn_rf.ipynb#ch0000027?line=32'>33</a>\u001b[0m \u001b[39mfor\u001b[39;00m i \u001b[39min\u001b[39;00m X_train_:\n",
      "\u001b[1;32md:\\Marija\\noise correlation\\LMU_neuroscience\\knn_rf.ipynb Cell 28\u001b[0m in \u001b[0;36mpodela_podataka_tren\u001b[1;34m(data_vectors)\u001b[0m\n\u001b[0;32m      <a href='vscode-notebook-cell:/d%3A/Marija/noise%20correlation/LMU_neuroscience/knn_rf.ipynb#ch0000027?line=7'>8</a>\u001b[0m \u001b[39mif\u001b[39;00m(item[\u001b[39m1\u001b[39m]\u001b[39m.\u001b[39mshape[\u001b[39m0\u001b[39m] \u001b[39m<\u001b[39m \u001b[39mmax\u001b[39m):\n\u001b[0;32m      <a href='vscode-notebook-cell:/d%3A/Marija/noise%20correlation/LMU_neuroscience/knn_rf.ipynb#ch0000027?line=8'>9</a>\u001b[0m     item[\u001b[39m1\u001b[39m] \u001b[39m=\u001b[39m np\u001b[39m.\u001b[39mpad(item[\u001b[39m1\u001b[39m], [(\u001b[39m0\u001b[39m, \u001b[39mmax\u001b[39m\u001b[39m-\u001b[39mitem[\u001b[39m1\u001b[39m]\u001b[39m.\u001b[39mshape[\u001b[39m0\u001b[39m]), (\u001b[39m0\u001b[39m, \u001b[39m0\u001b[39m)], mode\u001b[39m=\u001b[39m\u001b[39m'\u001b[39m\u001b[39mconstant\u001b[39m\u001b[39m'\u001b[39m, constant_values\u001b[39m=\u001b[39m\u001b[39m0\u001b[39m)      \n\u001b[1;32m---> <a href='vscode-notebook-cell:/d%3A/Marija/noise%20correlation/LMU_neuroscience/knn_rf.ipynb#ch0000027?line=9'>10</a>\u001b[0m X_train \u001b[39m=\u001b[39m np\u001b[39m.\u001b[39;49mappend(X_train, item[\u001b[39m1\u001b[39;49m]\u001b[39m.\u001b[39;49mreshape(\u001b[39m1\u001b[39;49m, item[\u001b[39m1\u001b[39;49m]\u001b[39m.\u001b[39;49mshape[\u001b[39m0\u001b[39;49m], item[\u001b[39m1\u001b[39;49m]\u001b[39m.\u001b[39;49mshape[\u001b[39m1\u001b[39;49m]), axis\u001b[39m=\u001b[39;49m\u001b[39m0\u001b[39;49m)\n\u001b[0;32m     <a href='vscode-notebook-cell:/d%3A/Marija/noise%20correlation/LMU_neuroscience/knn_rf.ipynb#ch0000027?line=10'>11</a>\u001b[0m \u001b[39m#y_train.append(item[2])\u001b[39;00m\n\u001b[0;32m     <a href='vscode-notebook-cell:/d%3A/Marija/noise%20correlation/LMU_neuroscience/knn_rf.ipynb#ch0000027?line=11'>12</a>\u001b[0m y_train\u001b[39m.\u001b[39mappend(random\u001b[39m.\u001b[39mchoice([[\u001b[39m0\u001b[39m], [\u001b[39m1\u001b[39m]]))\n",
      "File \u001b[1;32m<__array_function__ internals>:180\u001b[0m, in \u001b[0;36mappend\u001b[1;34m(*args, **kwargs)\u001b[0m\n",
      "File \u001b[1;32mc:\\Users\\m.nedeljkovic\\AppData\\Local\\Programs\\Python\\Python310\\lib\\site-packages\\numpy\\lib\\function_base.py:5444\u001b[0m, in \u001b[0;36mappend\u001b[1;34m(arr, values, axis)\u001b[0m\n\u001b[0;32m   5442\u001b[0m     values \u001b[39m=\u001b[39m ravel(values)\n\u001b[0;32m   5443\u001b[0m     axis \u001b[39m=\u001b[39m arr\u001b[39m.\u001b[39mndim\u001b[39m-\u001b[39m\u001b[39m1\u001b[39m\n\u001b[1;32m-> 5444\u001b[0m \u001b[39mreturn\u001b[39;00m concatenate((arr, values), axis\u001b[39m=\u001b[39;49maxis)\n",
      "File \u001b[1;32m<__array_function__ internals>:180\u001b[0m, in \u001b[0;36mconcatenate\u001b[1;34m(*args, **kwargs)\u001b[0m\n",
      "\u001b[1;31mKeyboardInterrupt\u001b[0m: "
     ]
    },
    {
     "data": {
      "image/png": "[encoded data removed]",
      "text/plain": [
       "<Figure size 2880x720 with 2 Axes>"
      ]
     },
     "metadata": {
      "needs_background": "light"
     },
     "output_type": "display_data"
    }
   ],
   "source": [
    "import warnings\n",
    "warnings.filterwarnings('ignore')\n",
    "\n",
    "#putanja = \"C:/Users/Zephyrus/Desktop/cnn data/data\"\n",
    "putanja = \"C:/Users/m.nedeljkovic/Desktop/cnn data/data\"\n",
    "\n",
    "mat_load, roi_load, ind_load, list1, list2, list3, list4 = load_data()\n",
    "\n",
    "for tr in range(1,13):\n",
    "\n",
    "    f,(ax1,ax2) = plt.subplots(1,2,sharey=False,figsize=(40, 10))\n",
    "\n",
    "    for br1 in range(0, 4):\n",
    "        knn_val = []\n",
    "        rf_val = []\n",
    "        t = []\n",
    "        \n",
    "        for br2 in range(0, 4):\n",
    "            if(br1 != br2):\n",
    "                t.append(float(br2))\n",
    "\n",
    "                for file_name in os.listdir(putanja):\n",
    "                    # construct full file path\n",
    "                    file = putanja + \"/\" + file_name\n",
    "                    os.remove(file)\n",
    "\n",
    "                data_per_ses(tr, br1, mat_load, roi_load, ind_load, list1, list2, list3, list4)\n",
    "                podaci = ucitavanje_podataka(putanja)\n",
    "\n",
    "\n",
    "\n",
    "\n",
    "\n",
    "                print(podaci[1][1][15])\n",
    "\n",
    "\n",
    "\n",
    "\n",
    "\n",
    "                \n",
    "                vektorizovani_podaci = vektorizacija(podaci)\n",
    "                X_train_, y_train_ = podela_podataka_tren(vektorizovani_podaci)\n",
    "                X_tr = []\n",
    "                for i in X_train_:\n",
    "                    temp = []\n",
    "                    for j in i:\n",
    "                        for k in j:\n",
    "                            if(isnan(k)):\n",
    "                                k = 0\n",
    "                            temp.append(k)\n",
    "                    X_tr.append(temp)\n",
    "                X_train_ = np.nan_to_num(X_tr)\n",
    "\n",
    "                for file_name in os.listdir(putanja):\n",
    "                    # construct full file path\n",
    "                    file = putanja + \"/\" + file_name\n",
    "                    os.remove(file)\n",
    "\n",
    "                data_per_ses(tr, br2, mat_load, roi_load, ind_load, list1, list2, list3, list4)\n",
    "                podaci = ucitavanje_podataka(putanja)\n",
    "                vektorizovani_podaci = vektorizacija(podaci)\n",
    "                X_test_, y_test_ = podela_podataka_tren(vektorizovani_podaci)\n",
    "                \n",
    "                X_ts = []\n",
    "                for i in X_test_:\n",
    "                    temp = []\n",
    "                    for j in i:\n",
    "                        for k in j:\n",
    "                            if(isnan(k)):\n",
    "                                k = 0\n",
    "                            temp.append(k)\n",
    "                    X_ts.append(temp) \n",
    "                X_test_ = np.nan_to_num(X_ts)\n",
    "            \n",
    "                knn = OneVsRestClassifier(KNeighborsClassifier())\n",
    "                knn.fit(X_train_,y_train_)\n",
    "                predictions = knn.predict(X_test_)\n",
    "                knn_acc = accuracy_score(y_test_,predictions)\n",
    "\n",
    "                Forest = RF(X_train_, y_train_, X_test_, y_test_)\n",
    "                rf = accuracy_score(y_test,Forest)\n",
    "\n",
    "                knn_val.append(knn_acc)\n",
    "                rf_val.append(rf)\n",
    "\n",
    "        ax1.scatter( t, knn_val, label = \"(Region \" + str(tr) + \") Trained on session \" + str(br1+1) )\n",
    "        ax1.plot(t, knn_val, '-')\n",
    "        ax2.scatter( t, rf_val, label = \"(Region \" + str(tr) + \") Trained on session \" + str(br1+1) )\n",
    "        ax2.plot(t, rf_val, '-')\n",
    "\n",
    "    ax1.set_ylabel('accuracy')\n",
    "    ax1.set_xlabel('different sessions')\n",
    "    ax2.set_xlabel('different sessions')\n",
    "    ax2.set_ylabel('accuracy')\n",
    "\n",
    "    ax1.set_title(\"KNN\")\n",
    "    ax2.set_title(\"Random Forest\")\n",
    "    f.suptitle(\"Region \" + str(tr) + \" - training and evaluationg on different sessions\")\n",
    "    plt.legend()\n",
    "    plt.show()"
   ]
  },
  {
   "cell_type": "markdown",
   "metadata": {},
   "source": [
    "# Classification on 5 different speakers"
   ]
  },
  {
   "cell_type": "markdown",
   "metadata": {},
   "source": [
    "#### Data preparation"
   ]
  },
  {
   "cell_type": "code",
   "execution_count": 107,
   "metadata": {},
   "outputs": [],
   "source": [
    "def ucitavanje_sp(directory):\n",
    "    id = 0\n",
    "    data = []\n",
    "    for filename in os.listdir(directory):\n",
    "        f = os.path.join(directory, filename)\n",
    "        label = [int(f.split(\"\\\\\")[-1][-5:-4])]\n",
    "        id = id + 1\n",
    "        dat = np.load(f)\n",
    "        data.append([id, dat, label])\n",
    "    \n",
    "    #random.seed(2)\n",
    "    random.shuffle(data)\n",
    "    return data      "
   ]
  },
  {
   "cell_type": "code",
   "execution_count": 108,
   "metadata": {},
   "outputs": [],
   "source": [
    "def podela_podataka_sp(data_vectors):\n",
    "    max = 0\n",
    "    for i in range(0,len(data_vectors)):\n",
    "        if(data_vectors[i][1].shape[0] > max):\n",
    "            max = data_vectors[i][1].shape[0]\n",
    "\n",
    "    X_train, y_train, X_test, y_test = np.empty([1, max, data_vectors[0][1].shape[1]]), [], np.empty([1, max, data_vectors[0][1].shape[1]]),[]\n",
    "    \n",
    "    i1,i2,i3,i4,i5 = 0,0,0,0,0\n",
    "\n",
    "    random.shuffle(data_vectors)\n",
    "    for item in data_vectors:\n",
    "        if item[2]==[0]:\n",
    "\n",
    "            i1 = i1 + 1\n",
    "            if i1 <= 50:\n",
    "                if(np.array(item[1]).shape[0] < max):\n",
    "                    item[1] = np.pad(item[1], [(0, max-np.array(item[1]).shape[0]), (0, 0)], mode='constant' , constant_values=0)\n",
    "\n",
    "                X_test = np.append(X_test, item[1].reshape(1, item[1].shape[0], item[1].shape[1]), axis=0)\n",
    "                y_test.append(item[2])\n",
    "                #y_test.append(random.choice([[0], [1]]))\n",
    "            else:\n",
    "                if(np.array(item[1]).shape[0] < max):\n",
    "                    item[1] = np.pad(item[1], [(0, max-np.array(item[1]).shape[0]), (0, 0)], mode='constant', constant_values=0)\n",
    "                X_train = np.append(X_train, item[1].reshape(1, item[1].shape[0], item[1].shape[1]), axis=0)\n",
    "                y_train.append(item[2])\n",
    "        elif item[2]==[1]:\n",
    "            i2 = i2 + 1\n",
    "            if  i2 <= 50:\n",
    "                if(np.array(item[1]).shape[0] < max):\n",
    "                    item[1] = np.pad(item[1], [(0, max-np.array(item[1]).shape[0]), (0, 0)], mode='constant', constant_values=0)\n",
    "\n",
    "                X_test = np.append(X_test, item[1].reshape(1, item[1].shape[0], item[1].shape[1]), axis=0)\n",
    "                y_test.append(item[2])\n",
    "                #y_test.append(random.choice([[0], [1]]))\n",
    "            else:\n",
    "                if(np.array(item[1]).shape[0] < max):\n",
    "                    item[1] = np.pad(item[1], [(0, max-np.array(item[1]).shape[0]), (0, 0)], mode='constant', constant_values=0)\n",
    "                X_train = np.append(X_train, item[1].reshape(1, item[1].shape[0], item[1].shape[1]), axis=0)\n",
    "                y_train.append(item[2])\n",
    "        elif item[2]==[2]:\n",
    "            i3 = i3 + 1\n",
    "            if  i3 <= 50:\n",
    "                if(np.array(item[1]).shape[0] < max):\n",
    "                    item[1] = np.pad(item[1], [(0, max-np.array(item[1]).shape[0]), (0, 0)], mode='constant', constant_values=0)\n",
    "\n",
    "                X_test = np.append(X_test, item[1].reshape(1, item[1].shape[0], item[1].shape[1]), axis=0)\n",
    "                y_test.append(item[2])\n",
    "                #y_test.append(random.choice([[0], [1]]))\n",
    "            else:\n",
    "                if(np.array(item[1]).shape[0] < max):\n",
    "                    item[1] = np.pad(item[1], [(0, max-np.array(item[1]).shape[0]), (0, 0)], mode='constant', constant_values=0)\n",
    "                X_train = np.append(X_train, item[1].reshape(1, item[1].shape[0], item[1].shape[1]), axis=0)\n",
    "                y_train.append(item[2])\n",
    "\n",
    "        elif item[2]==[3]:\n",
    "            i4 = i4 + 1\n",
    "            if  i4 <= 50:\n",
    "                if(np.array(item[1]).shape[0] < max):\n",
    "                    item[1] = np.pad(item[1], [(0, max-np.array(item[1]).shape[0]), (0, 0)], mode='constant', constant_values=0)\n",
    "\n",
    "                X_test = np.append(X_test, item[1].reshape(1, item[1].shape[0], item[1].shape[1]), axis=0)\n",
    "                y_test.append(item[2])\n",
    "                #y_test.append(random.choice([[0], [1]]))\n",
    "            else:\n",
    "                if(np.array(item[1]).shape[0] < max):\n",
    "                    item[1] = np.pad(item[1], [(0, max-np.array(item[1]).shape[0]), (0, 0)], mode='constant', constant_values=0)\n",
    "                X_train = np.append(X_train, item[1].reshape(1, item[1].shape[0], item[1].shape[1]), axis=0)\n",
    "                y_train.append(item[2])\n",
    "\n",
    "        else:\n",
    "            i5 = i5 + 1\n",
    "            if  i5 <= 50:\n",
    "                if(np.array(item[1]).shape[0] < max):\n",
    "                    item[1] = np.pad(item[1], [(0, max-np.array(item[1]).shape[0]), (0, 0)], mode='constant', constant_values=0)\n",
    "\n",
    "                X_test = np.append(X_test, item[1].reshape(1, item[1].shape[0], item[1].shape[1]), axis=0)\n",
    "                y_test.append(item[2])\n",
    "                #y_test.append(random.choice([[0], [1]]))\n",
    "            else:\n",
    "                if(np.array(item[1]).shape[0] < max):\n",
    "                    item[1] = np.pad(item[1], [(0, max-np.array(item[1]).shape[0]), (0, 0)], mode='constant', constant_values=0)\n",
    "                X_train = np.append(X_train, item[1].reshape(1, item[1].shape[0], item[1].shape[1]), axis=0)\n",
    "                y_train.append(item[2])\n",
    "\n",
    "    \n",
    "    X_train = np.array(X_train[1:])\n",
    "    y_train = np.array(y_train)\n",
    "    X_test = np.array(X_test[1:])\n",
    "    y_test = np.array(y_test)\n",
    "    \n",
    "    return X_train, y_train, X_test, y_test"
   ]
  },
  {
   "cell_type": "markdown",
   "metadata": {},
   "source": [
    "#### Test / Train set"
   ]
  },
  {
   "cell_type": "code",
   "execution_count": 109,
   "metadata": {},
   "outputs": [],
   "source": [
    "#putanja = \"C:/Users/Zephyrus/Desktop/cnn data/data\"\n",
    "putanja = \"C:/Users/m.nedeljkovic/Desktop/cnn data/data\"\n",
    "#niz od podataka za svaku sekvencu (podatak je niz od id-ja, sekvence i labele)\n",
    "podaci = ucitavanje_sp(putanja)\n",
    "X_train, y_train, X_test, y_test = podela_podataka_sp(podaci)\n",
    "\n",
    "X_train = np.array(X_train, dtype=object)\n",
    "y_train = np.array(y_train)\n",
    "X_test = np.array(X_test, dtype=object)\n",
    "y_test = np.array(y_test)"
   ]
  },
  {
   "cell_type": "code",
   "execution_count": 110,
   "metadata": {},
   "outputs": [],
   "source": [
    "X_tr = []\n",
    "for i in X_train:\n",
    "    temp = []\n",
    "    for j in i:\n",
    "        for k in j:\n",
    "            if(isnan(k)):\n",
    "                k = 0\n",
    "            temp.append(k)\n",
    "    X_tr.append(temp)\n",
    "X_train = np.array(X_tr, dtype=object)\n",
    "\n",
    "X_ts = []\n",
    "for i in X_test:\n",
    "    temp = []\n",
    "    for j in i:\n",
    "        for k in j:\n",
    "            if(isnan(k)):\n",
    "                k = 0\n",
    "            temp.append(k)\n",
    "    X_ts.append(temp) \n",
    "X_test = np.array(X_ts, dtype=object)"
   ]
  },
  {
   "cell_type": "markdown",
   "metadata": {},
   "source": [
    "### KNN"
   ]
  },
  {
   "cell_type": "code",
   "execution_count": 111,
   "metadata": {},
   "outputs": [
    {
     "data": {
      "text/html": [
       "<style>#sk-container-id-5 {color: black;background-color: white;}#sk-container-id-5 pre{padding: 0;}#sk-container-id-5 div.sk-toggleable {background-color: white;}#sk-container-id-5 label.sk-toggleable__label {cursor: pointer;display: block;width: 100%;margin-bottom: 0;padding: 0.3em;box-sizing: border-box;text-align: center;}#sk-container-id-5 label.sk-toggleable__label-arrow:before {content: \"▸\";float: left;margin-right: 0.25em;color: #696969;}#sk-container-id-5 label.sk-toggleable__label-arrow:hover:before {color: black;}#sk-container-id-5 div.sk-estimator:hover label.sk-toggleable__label-arrow:before {color: black;}#sk-container-id-5 div.sk-toggleable__content {max-height: 0;max-width: 0;overflow: hidden;text-align: left;background-color: #f0f8ff;}#sk-container-id-5 div.sk-toggleable__content pre {margin: 0.2em;color: black;border-radius: 0.25em;background-color: #f0f8ff;}#sk-container-id-5 input.sk-toggleable__control:checked~div.sk-toggleable__content {max-height: 200px;max-width: 100%;overflow: auto;}#sk-container-id-5 input.sk-toggleable__control:checked~label.sk-toggleable__label-arrow:before {content: \"▾\";}#sk-container-id-5 div.sk-estimator input.sk-toggleable__control:checked~label.sk-toggleable__label {background-color: #d4ebff;}#sk-container-id-5 div.sk-label input.sk-toggleable__control:checked~label.sk-toggleable__label {background-color: #d4ebff;}#sk-container-id-5 input.sk-hidden--visually {border: 0;clip: rect(1px 1px 1px 1px);clip: rect(1px, 1px, 1px, 1px);height: 1px;margin: -1px;overflow: hidden;padding: 0;position: absolute;width: 1px;}#sk-container-id-5 div.sk-estimator {font-family: monospace;background-color: #f0f8ff;border: 1px dotted black;border-radius: 0.25em;box-sizing: border-box;margin-bottom: 0.5em;}#sk-container-id-5 div.sk-estimator:hover {background-color: #d4ebff;}#sk-container-id-5 div.sk-parallel-item::after {content: \"\";width: 100%;border-bottom: 1px solid gray;flex-grow: 1;}#sk-container-id-5 div.sk-label:hover label.sk-toggleable__label {background-color: #d4ebff;}#sk-container-id-5 div.sk-serial::before {content: \"\";position: absolute;border-left: 1px solid gray;box-sizing: border-box;top: 0;bottom: 0;left: 50%;z-index: 0;}#sk-container-id-5 div.sk-serial {display: flex;flex-direction: column;align-items: center;background-color: white;padding-right: 0.2em;padding-left: 0.2em;position: relative;}#sk-container-id-5 div.sk-item {position: relative;z-index: 1;}#sk-container-id-5 div.sk-parallel {display: flex;align-items: stretch;justify-content: center;background-color: white;position: relative;}#sk-container-id-5 div.sk-item::before, #sk-container-id-5 div.sk-parallel-item::before {content: \"\";position: absolute;border-left: 1px solid gray;box-sizing: border-box;top: 0;bottom: 0;left: 50%;z-index: -1;}#sk-container-id-5 div.sk-parallel-item {display: flex;flex-direction: column;z-index: 1;position: relative;background-color: white;}#sk-container-id-5 div.sk-parallel-item:first-child::after {align-self: flex-end;width: 50%;}#sk-container-id-5 div.sk-parallel-item:last-child::after {align-self: flex-start;width: 50%;}#sk-container-id-5 div.sk-parallel-item:only-child::after {width: 0;}#sk-container-id-5 div.sk-dashed-wrapped {border: 1px dashed gray;margin: 0 0.4em 0.5em 0.4em;box-sizing: border-box;padding-bottom: 0.4em;background-color: white;}#sk-container-id-5 div.sk-label label {font-family: monospace;font-weight: bold;display: inline-block;line-height: 1.2em;}#sk-container-id-5 div.sk-label-container {text-align: center;}#sk-container-id-5 div.sk-container {/* jupyter's `normalize.less` sets `[hidden] { display: none; }` but bootstrap.min.css set `[hidden] { display: none !important; }` so we also need the `!important` here to be able to override the default hidden behavior on the sphinx rendered scikit-learn.org. See: https://github.com/scikit-learn/scikit-learn/issues/21755 */display: inline-block !important;position: relative;}#sk-container-id-5 div.sk-text-repr-fallback {display: none;}</style><div id=\"sk-container-id-5\" class=\"sk-top-container\"><div class=\"sk-text-repr-fallback\"><pre>OneVsRestClassifier(estimator=KNeighborsClassifier())</pre><b>In a Jupyter environment, please rerun this cell to show the HTML representation or trust the notebook. <br />On GitHub, the HTML representation is unable to render, please try loading this page with nbviewer.org.</b></div><div class=\"sk-container\" hidden><div class=\"sk-item sk-dashed-wrapped\"><div class=\"sk-label-container\"><div class=\"sk-label sk-toggleable\"><input class=\"sk-toggleable__control sk-hidden--visually\" id=\"sk-estimator-id-13\" type=\"checkbox\" ><label for=\"sk-estimator-id-13\" class=\"sk-toggleable__label sk-toggleable__label-arrow\">OneVsRestClassifier</label><div class=\"sk-toggleable__content\"><pre>OneVsRestClassifier(estimator=KNeighborsClassifier())</pre></div></div></div><div class=\"sk-parallel\"><div class=\"sk-parallel-item\"><div class=\"sk-item\"><div class=\"sk-label-container\"><div class=\"sk-label sk-toggleable\"><input class=\"sk-toggleable__control sk-hidden--visually\" id=\"sk-estimator-id-14\" type=\"checkbox\" ><label for=\"sk-estimator-id-14\" class=\"sk-toggleable__label sk-toggleable__label-arrow\">estimator: KNeighborsClassifier</label><div class=\"sk-toggleable__content\"><pre>KNeighborsClassifier()</pre></div></div></div><div class=\"sk-serial\"><div class=\"sk-item\"><div class=\"sk-estimator sk-toggleable\"><input class=\"sk-toggleable__control sk-hidden--visually\" id=\"sk-estimator-id-15\" type=\"checkbox\" ><label for=\"sk-estimator-id-15\" class=\"sk-toggleable__label sk-toggleable__label-arrow\">KNeighborsClassifier</label><div class=\"sk-toggleable__content\"><pre>KNeighborsClassifier()</pre></div></div></div></div></div></div></div></div></div></div>"
      ],
      "text/plain": [
       "OneVsRestClassifier(estimator=KNeighborsClassifier())"
      ]
     },
     "execution_count": 111,
     "metadata": {},
     "output_type": "execute_result"
    }
   ],
   "source": [
    "knn = OneVsRestClassifier(KNeighborsClassifier())\n",
    "knn.fit(X_train,y_train)"
   ]
  },
  {
   "cell_type": "code",
   "execution_count": 112,
   "metadata": {},
   "outputs": [],
   "source": [
    "predictions = knn.predict(X_test)"
   ]
  },
  {
   "cell_type": "code",
   "execution_count": 113,
   "metadata": {},
   "outputs": [
    {
     "name": "stdout",
     "output_type": "stream",
     "text": [
      "KNN Accuracy: 0.148\n"
     ]
    }
   ],
   "source": [
    "print('KNN Accuracy: %.3f' % accuracy_score(y_test,predictions))"
   ]
  },
  {
   "cell_type": "code",
   "execution_count": 114,
   "metadata": {},
   "outputs": [
    {
     "data": {
      "text/plain": [
       "Text(0.5, 1.0, 'Accuracy Score: 0.148')"
      ]
     },
     "execution_count": 114,
     "metadata": {},
     "output_type": "execute_result"
    },
    {
     "data": {
      "image/png": "[encoded data removed]",
      "text/plain": [
       "<Figure size 648x648 with 2 Axes>"
      ]
     },
     "metadata": {
      "needs_background": "light"
     },
     "output_type": "display_data"
    }
   ],
   "source": [
    "cm = confusion_matrix(y_test,predictions)\n",
    "plt.figure(figsize=(9,9))\n",
    "sns.heatmap(cm,annot=True, fmt='.3f', linewidths=.5, square=True,cmap='Blues_r')\n",
    "plt.ylabel('Actual label')\n",
    "plt.xlabel('Predicted label')\n",
    "all_sample_title = 'Accuracy Score: {0}'.format(accuracy_score(y_test,predictions))\n",
    "plt.title(all_sample_title,size=15)"
   ]
  },
  {
   "cell_type": "markdown",
   "metadata": {},
   "source": [
    "### Random Forest"
   ]
  },
  {
   "cell_type": "markdown",
   "metadata": {},
   "source": [
    "##### Implementation"
   ]
  },
  {
   "cell_type": "code",
   "execution_count": 115,
   "metadata": {},
   "outputs": [],
   "source": [
    "def RF(X_train, y_train, X_test, y_test):\n",
    "    forest = RandomForestClassifier(criterion='gini',\n",
    "                                    n_estimators=5,\n",
    "                                    random_state=1,\n",
    "                                    n_jobs=2)\n",
    "    forest.fit(X_train, y_train)\n",
    "    y_pred = forest.predict(X_test)\n",
    "    print('Accuracy: %.3f' % accuracy_score(y_test, y_pred))\n",
    "    return y_pred"
   ]
  },
  {
   "cell_type": "code",
   "execution_count": 116,
   "metadata": {},
   "outputs": [],
   "source": [
    "def mat_of_conf(y_test,y_pred):\n",
    "    cm = confusion_matrix(y_test,y_pred)\n",
    "    plt.figure(figsize=(9,9))\n",
    "    sns.heatmap(cm,annot=True, fmt='.3f', linewidths=.5, square=True,cmap='Blues_r')\n",
    "    plt.ylabel('Actual label')\n",
    "    plt.xlabel('Predicted label')\n",
    "    all_sample_title = 'Accuracy Score: {0}'.format(accuracy_score(y_test,y_pred))\n",
    "    plt.title(all_sample_title,size=15)\n",
    "    plt.show()"
   ]
  },
  {
   "cell_type": "code",
   "execution_count": 117,
   "metadata": {},
   "outputs": [
    {
     "name": "stderr",
     "output_type": "stream",
     "text": [
      "C:\\Users\\m.nedeljkovic\\AppData\\Local\\Temp\\ipykernel_19568\\3284241286.py:6: DataConversionWarning: A column-vector y was passed when a 1d array was expected. Please change the shape of y to (n_samples,), for example using ravel().\n",
      "  forest.fit(X_train, y_train)\n"
     ]
    },
    {
     "name": "stdout",
     "output_type": "stream",
     "text": [
      "Accuracy: 0.192\n"
     ]
    },
    {
     "data": {
      "image/png": "[encoded data removed]",
      "text/plain": [
       "<Figure size 648x648 with 2 Axes>"
      ]
     },
     "metadata": {
      "needs_background": "light"
     },
     "output_type": "display_data"
    }
   ],
   "source": [
    "Forest = RF(X_train, y_train, X_test, y_test)\n",
    "mat_of_conf(y_test,Forest)"
   ]
  },
  {
   "cell_type": "markdown",
   "metadata": {},
   "source": [
    "### XG boost"
   ]
  },
  {
   "cell_type": "code",
   "execution_count": 118,
   "metadata": {},
   "outputs": [],
   "source": [
    "from numpy import loadtxt\n",
    "from xgboost import XGBClassifier\n",
    "from sklearn.model_selection import train_test_split\n",
    "from sklearn.metrics import accuracy_score"
   ]
  },
  {
   "cell_type": "code",
   "execution_count": 123,
   "metadata": {},
   "outputs": [
    {
     "name": "stdout",
     "output_type": "stream",
     "text": [
      "Accuracy: 0.180\n"
     ]
    }
   ],
   "source": [
    "model = XGBClassifier()\n",
    "# fit the model\n",
    "model.fit(X_train, y_train)\n",
    "# evaluate performance\n",
    "yhat = model.predict(X_test)\n",
    "score = accuracy_score(y_test, yhat)\n",
    "print('Accuracy: %.3f' % score)"
   ]
  }
 ],
 "metadata": {
  "kernelspec": {
   "display_name": "Python 3.10.5 64-bit",
   "language": "python",
   "name": "python3"
  },
  "language_info": {
   "codemirror_mode": {
    "name": "ipython",
    "version": 3
   },
   "file_extension": ".py",
   "mimetype": "text/x-python",
   "name": "python",
   "nbconvert_exporter": "python",
   "pygments_lexer": "ipython3",
   "version": "3.10.5"
  },
  "orig_nbformat": 4,
  "vscode": {
   "interpreter": {
    "hash": "c3ff55a2362d840d3433b3a68631efa6e477163e310b6a9fd17f9078908dbfa1"
   }
  }
 },
 "nbformat": 4,
 "nbformat_minor": 2
}
