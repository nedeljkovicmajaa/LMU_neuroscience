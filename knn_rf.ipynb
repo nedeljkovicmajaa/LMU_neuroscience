{
 "cells": [
  {
   "cell_type": "markdown",
   "metadata": {},
   "source": [
    "#### Import required packages"
   ]
  },
  {
   "cell_type": "code",
   "execution_count": 668,
   "metadata": {},
   "outputs": [],
   "source": [
    "# numeric and plotting libraries\n",
    "import time\n",
    "import os\n",
    "import shutil\n",
    "import math\n",
    "from collections import defaultdict\n",
    "import matplotlib.pyplot as plt\n",
    "import numpy as np\n",
    "import csv\n",
    "import random\n",
    "from PIL import Image\n",
    "import csv\n",
    "import operator \n",
    "import pandas as pd \n",
    "# to create confusion metrics\n",
    "import seaborn as sns\n",
    "import scipy.io as sio\n",
    "from cmath import nan\n",
    "from cmath import isnan"
   ]
  },
  {
   "cell_type": "code",
   "execution_count": 669,
   "metadata": {},
   "outputs": [],
   "source": [
    "from ipynb.fs.full.data_prep import *"
   ]
  },
  {
   "cell_type": "code",
   "execution_count": 670,
   "metadata": {},
   "outputs": [],
   "source": [
    "%matplotlib inline"
   ]
  },
  {
   "cell_type": "code",
   "execution_count": 679,
   "metadata": {},
   "outputs": [],
   "source": [
    "from sklearn.metrics import accuracy_score,confusion_matrix # metrics error\n",
    "from sklearn.multiclass import OneVsRestClassifier\n",
    "from sklearn.neighbors import KNeighborsClassifier\n",
    "from sklearn.ensemble import RandomForestClassifier\n",
    "from numpy import loadtxt\n",
    "from xgboost import XGBClassifier\n",
    "from sklearn.model_selection import train_test_split\n",
    "from sklearn.metrics import accuracy_score\n",
    "import xgboost as xgb"
   ]
  },
  {
   "cell_type": "markdown",
   "metadata": {},
   "source": [
    "# Classification on anest and awake state"
   ]
  },
  {
   "cell_type": "markdown",
   "metadata": {},
   "source": [
    "#### Data preparation"
   ]
  },
  {
   "cell_type": "code",
   "execution_count": 680,
   "metadata": {},
   "outputs": [],
   "source": [
    "def ucitavanje_podataka(directory):\n",
    "    id = 0\n",
    "    data = []\n",
    "    for filename in os.listdir(directory):\n",
    "        f = os.path.join(directory, filename)\n",
    "        label = f.split(\"\\\\\")[-1][0:2]\n",
    "        id = id + 1\n",
    "        dat = np.load(f)\n",
    "        data.append([id, dat, label])\n",
    "    \n",
    "    random.seed(2)\n",
    "    #random.shuffle(data)\n",
    "    return data      "
   ]
  },
  {
   "cell_type": "code",
   "execution_count": 681,
   "metadata": {},
   "outputs": [],
   "source": [
    "def vektorizacija(podaci):\n",
    "    prevodjenje_labela = {\"an\": [1], \"aw\": [0]}  # anest: 1, aw: 0\n",
    "\n",
    "    vektorizovani_podaci = []\n",
    "    for a in podaci:\n",
    "        vektorizovani_podaci.append([a[0], a[1], prevodjenje_labela[a[2]]])\n",
    "\n",
    "    return vektorizovani_podaci"
   ]
  },
  {
   "cell_type": "code",
   "execution_count": 682,
   "metadata": {},
   "outputs": [],
   "source": [
    "def podela_podataka(data_vectors):\n",
    "    max = 0\n",
    "    for i in range(0,len(data_vectors)):\n",
    "        if(data_vectors[i][1].shape[0] > max):\n",
    "            max = data_vectors[i][1].shape[0]\n",
    "\n",
    "    X_train, y_train, X_test, y_test = np.empty([1, max, data_vectors[0][1].shape[1]]), [], np.empty([1, max, data_vectors[0][1].shape[1]]),[]\n",
    "    i,j = 0,0\n",
    "\n",
    "    max_norm = 0\n",
    "    min_norm = 50\n",
    "    for a in data_vectors:\n",
    "        for x in a[1]:\n",
    "            for y in x:\n",
    "                if(y > max_norm):\n",
    "                    max_norm = y\n",
    "                if(y < min_norm):\n",
    "                    min_norm = y\n",
    "\n",
    "    for a in range(0, len(data_vectors)):\n",
    "        for x in range(0, len(data_vectors[a][1])):\n",
    "            for y in range(0, len(data_vectors[a][1][x])):\n",
    "                data_vectors[a][1][x][y] = (data_vectors[a][1][x][y] - min_norm) / (max_norm - min_norm)\n",
    "\n",
    "    random.shuffle(data_vectors)\n",
    "    for item in data_vectors:\n",
    "        if item[2]==[1]:\n",
    "            i = i + 1\n",
    "            if i <= 50:\n",
    "                if(np.array(item[1]).shape[0] < max):\n",
    "                    item[1] = np.pad(item[1], [(0, max-np.array(item[1]).shape[0]), (0, 0)], mode='constant' , constant_values=0)\n",
    "                X_test = np.append(X_test, np.array(item[1]).reshape(1, item[1].shape[0], np.array(item[1]).shape[1]), axis=0)\n",
    "                y_test.append(item[2])\n",
    "                #y_test.append(random.choice([[0], [1]]))\n",
    "            else:\n",
    "                if(np.array(item[1]).shape[0] < max):\n",
    "                    item[1] = np.pad(item[1], [(0, max-np.array(item[1]).shape[0]), (0, 0)], mode='constant', constant_values=0)\n",
    "                X_train = np.append(X_train, np.array(item[1]).reshape(1, np.array(item[1]).shape[0], np.array(item[1]).shape[1]), axis=0)\n",
    "                y_train.append(item[2])\n",
    "        else:\n",
    "            j = j + 1\n",
    "            if  j <= 50:\n",
    "                if(np.array(item[1]).shape[0] < max):\n",
    "                    item[1] = np.pad(item[1], [(0, max-np.array(item[1]).shape[0]), (0, 0)], mode='constant', constant_values=0)\n",
    "                X_test = np.append(X_test, np.array(item[1]).reshape(1, np.array(item[1]).shape[0], np.array(item[1]).shape[1]), axis=0)\n",
    "                y_test.append(item[2])\n",
    "                #y_test.append(random.choice([[0], [1]]))\n",
    "            else:\n",
    "                if(np.array(item[1]).shape[0] < max):\n",
    "                    item[1] = np.pad(item[1], [(0, max-np.array(item[1]).shape[0]), (0, 0)], mode='constant', constant_values=0)\n",
    "                X_train = np.append(X_train, np.array(item[1]).reshape(1, np.array(item[1]).shape[0], np.array(item[1]).shape[1]), axis=0)\n",
    "                y_train.append(item[2])\n",
    "    \n",
    "    X_train = np.array(X_train[1:])\n",
    "    y_train = np.array(y_train)\n",
    "    X_test = np.array(X_test[1:])\n",
    "    y_test = np.array(y_test)\n",
    "    \n",
    "    return X_train, y_train, X_test, y_test"
   ]
  },
  {
   "cell_type": "code",
   "execution_count": 683,
   "metadata": {},
   "outputs": [],
   "source": [
    "def podela_podataka_tren(data_vectors):\n",
    "    max = 110\n",
    "    X_train, y_train = np.empty([1, max, data_vectors[0][1].shape[1]]), []\n",
    "\n",
    "    max_norm = 0\n",
    "    min_norm = 50\n",
    "    for a in data_vectors:\n",
    "        for x in a[1]:\n",
    "            for y in x:\n",
    "                if(y > max_norm):\n",
    "                    max_norm = y\n",
    "                if(y < min_norm):\n",
    "                    min_norm = y\n",
    "\n",
    "    for a in range(0, len(data_vectors)):\n",
    "        for x in range(0, len(data_vectors[a][1])):\n",
    "            for y in range(0, len(data_vectors[a][1][x])):\n",
    "                data_vectors[a][1][x][y] = (data_vectors[a][1][x][y] - min_norm) / (max_norm - min_norm)\n",
    "\n",
    "    random.shuffle(data_vectors)\n",
    "\n",
    "    for item in data_vectors:\n",
    "        if(item[1].shape[0] < max):\n",
    "            item[1] = np.pad(item[1], [(0, max-item[1].shape[0]), (0, 0)], mode='constant', constant_values=0)      \n",
    "        X_train = np.append(X_train, item[1].reshape(1, item[1].shape[0], item[1].shape[1]), axis=0)\n",
    "        #y_train.append(item[2])\n",
    "        y_train.append(random.choice([[0], [1]]))\n",
    "    \n",
    "    X_train = np.array(X_train[1:])\n",
    "    y_train = np.array(y_train)\n",
    "    \n",
    "    return X_train, y_train"
   ]
  },
  {
   "cell_type": "markdown",
   "metadata": {},
   "source": [
    "#### Test/Train"
   ]
  },
  {
   "cell_type": "code",
   "execution_count": 684,
   "metadata": {},
   "outputs": [],
   "source": [
    "#putanja = \"C:/Users/Zephyrus/Desktop/cnn data/data\"\n",
    "putanja = \"C:/Users/m.nedeljkovic/Desktop/cnn data/data\"\n",
    "#niz od podataka za svaku sekvencu (podatak je niz od id-ja, sekvence i labele)\n",
    "podaci = ucitavanje_podataka(putanja)\n",
    "vektorizovani_podaci = vektorizacija(podaci)\n",
    "\n",
    "X_train, y_train, X_test, y_test = podela_podataka(vektorizovani_podaci)\n",
    "X_train = np.array(X_train, dtype=object)\n",
    "y_train = np.array(y_train)\n",
    "X_test = np.array(X_test, dtype=object)\n",
    "y_test = np.array(y_test)"
   ]
  },
  {
   "cell_type": "code",
   "execution_count": 685,
   "metadata": {},
   "outputs": [],
   "source": [
    "X_tr = []\n",
    "for i in X_train:\n",
    "    temp = []\n",
    "    for j in i:\n",
    "        for k in j:\n",
    "            if(isnan(k)):\n",
    "                k = 0\n",
    "            temp.append(k)\n",
    "    X_tr.append(temp)\n",
    "X_train = np.array(X_tr, dtype=object)\n",
    "\n",
    "X_ts = []\n",
    "for i in X_test:\n",
    "    temp = []\n",
    "    for j in i:\n",
    "        for k in j:\n",
    "            if(isnan(k)):\n",
    "                k = 0\n",
    "            temp.append(k)\n",
    "    X_ts.append(temp) \n",
    "X_test = np.array(X_ts, dtype=object)"
   ]
  },
  {
   "cell_type": "markdown",
   "metadata": {},
   "source": [
    "### KNN"
   ]
  },
  {
   "cell_type": "code",
   "execution_count": 686,
   "metadata": {},
   "outputs": [
    {
     "data": {
      "text/html": [
       "<style>#sk-container-id-36 {color: black;background-color: white;}#sk-container-id-36 pre{padding: 0;}#sk-container-id-36 div.sk-toggleable {background-color: white;}#sk-container-id-36 label.sk-toggleable__label {cursor: pointer;display: block;width: 100%;margin-bottom: 0;padding: 0.3em;box-sizing: border-box;text-align: center;}#sk-container-id-36 label.sk-toggleable__label-arrow:before {content: \"▸\";float: left;margin-right: 0.25em;color: #696969;}#sk-container-id-36 label.sk-toggleable__label-arrow:hover:before {color: black;}#sk-container-id-36 div.sk-estimator:hover label.sk-toggleable__label-arrow:before {color: black;}#sk-container-id-36 div.sk-toggleable__content {max-height: 0;max-width: 0;overflow: hidden;text-align: left;background-color: #f0f8ff;}#sk-container-id-36 div.sk-toggleable__content pre {margin: 0.2em;color: black;border-radius: 0.25em;background-color: #f0f8ff;}#sk-container-id-36 input.sk-toggleable__control:checked~div.sk-toggleable__content {max-height: 200px;max-width: 100%;overflow: auto;}#sk-container-id-36 input.sk-toggleable__control:checked~label.sk-toggleable__label-arrow:before {content: \"▾\";}#sk-container-id-36 div.sk-estimator input.sk-toggleable__control:checked~label.sk-toggleable__label {background-color: #d4ebff;}#sk-container-id-36 div.sk-label input.sk-toggleable__control:checked~label.sk-toggleable__label {background-color: #d4ebff;}#sk-container-id-36 input.sk-hidden--visually {border: 0;clip: rect(1px 1px 1px 1px);clip: rect(1px, 1px, 1px, 1px);height: 1px;margin: -1px;overflow: hidden;padding: 0;position: absolute;width: 1px;}#sk-container-id-36 div.sk-estimator {font-family: monospace;background-color: #f0f8ff;border: 1px dotted black;border-radius: 0.25em;box-sizing: border-box;margin-bottom: 0.5em;}#sk-container-id-36 div.sk-estimator:hover {background-color: #d4ebff;}#sk-container-id-36 div.sk-parallel-item::after {content: \"\";width: 100%;border-bottom: 1px solid gray;flex-grow: 1;}#sk-container-id-36 div.sk-label:hover label.sk-toggleable__label {background-color: #d4ebff;}#sk-container-id-36 div.sk-serial::before {content: \"\";position: absolute;border-left: 1px solid gray;box-sizing: border-box;top: 0;bottom: 0;left: 50%;z-index: 0;}#sk-container-id-36 div.sk-serial {display: flex;flex-direction: column;align-items: center;background-color: white;padding-right: 0.2em;padding-left: 0.2em;position: relative;}#sk-container-id-36 div.sk-item {position: relative;z-index: 1;}#sk-container-id-36 div.sk-parallel {display: flex;align-items: stretch;justify-content: center;background-color: white;position: relative;}#sk-container-id-36 div.sk-item::before, #sk-container-id-36 div.sk-parallel-item::before {content: \"\";position: absolute;border-left: 1px solid gray;box-sizing: border-box;top: 0;bottom: 0;left: 50%;z-index: -1;}#sk-container-id-36 div.sk-parallel-item {display: flex;flex-direction: column;z-index: 1;position: relative;background-color: white;}#sk-container-id-36 div.sk-parallel-item:first-child::after {align-self: flex-end;width: 50%;}#sk-container-id-36 div.sk-parallel-item:last-child::after {align-self: flex-start;width: 50%;}#sk-container-id-36 div.sk-parallel-item:only-child::after {width: 0;}#sk-container-id-36 div.sk-dashed-wrapped {border: 1px dashed gray;margin: 0 0.4em 0.5em 0.4em;box-sizing: border-box;padding-bottom: 0.4em;background-color: white;}#sk-container-id-36 div.sk-label label {font-family: monospace;font-weight: bold;display: inline-block;line-height: 1.2em;}#sk-container-id-36 div.sk-label-container {text-align: center;}#sk-container-id-36 div.sk-container {/* jupyter's `normalize.less` sets `[hidden] { display: none; }` but bootstrap.min.css set `[hidden] { display: none !important; }` so we also need the `!important` here to be able to override the default hidden behavior on the sphinx rendered scikit-learn.org. See: https://github.com/scikit-learn/scikit-learn/issues/21755 */display: inline-block !important;position: relative;}#sk-container-id-36 div.sk-text-repr-fallback {display: none;}</style><div id=\"sk-container-id-36\" class=\"sk-top-container\"><div class=\"sk-text-repr-fallback\"><pre>OneVsRestClassifier(estimator=KNeighborsClassifier())</pre><b>In a Jupyter environment, please rerun this cell to show the HTML representation or trust the notebook. <br />On GitHub, the HTML representation is unable to render, please try loading this page with nbviewer.org.</b></div><div class=\"sk-container\" hidden><div class=\"sk-item sk-dashed-wrapped\"><div class=\"sk-label-container\"><div class=\"sk-label sk-toggleable\"><input class=\"sk-toggleable__control sk-hidden--visually\" id=\"sk-estimator-id-106\" type=\"checkbox\" ><label for=\"sk-estimator-id-106\" class=\"sk-toggleable__label sk-toggleable__label-arrow\">OneVsRestClassifier</label><div class=\"sk-toggleable__content\"><pre>OneVsRestClassifier(estimator=KNeighborsClassifier())</pre></div></div></div><div class=\"sk-parallel\"><div class=\"sk-parallel-item\"><div class=\"sk-item\"><div class=\"sk-label-container\"><div class=\"sk-label sk-toggleable\"><input class=\"sk-toggleable__control sk-hidden--visually\" id=\"sk-estimator-id-107\" type=\"checkbox\" ><label for=\"sk-estimator-id-107\" class=\"sk-toggleable__label sk-toggleable__label-arrow\">estimator: KNeighborsClassifier</label><div class=\"sk-toggleable__content\"><pre>KNeighborsClassifier()</pre></div></div></div><div class=\"sk-serial\"><div class=\"sk-item\"><div class=\"sk-estimator sk-toggleable\"><input class=\"sk-toggleable__control sk-hidden--visually\" id=\"sk-estimator-id-108\" type=\"checkbox\" ><label for=\"sk-estimator-id-108\" class=\"sk-toggleable__label sk-toggleable__label-arrow\">KNeighborsClassifier</label><div class=\"sk-toggleable__content\"><pre>KNeighborsClassifier()</pre></div></div></div></div></div></div></div></div></div></div>"
      ],
      "text/plain": [
       "OneVsRestClassifier(estimator=KNeighborsClassifier())"
      ]
     },
     "execution_count": 686,
     "metadata": {},
     "output_type": "execute_result"
    }
   ],
   "source": [
    "knn = OneVsRestClassifier(KNeighborsClassifier())\n",
    "knn.fit(X_train,y_train)"
   ]
  },
  {
   "cell_type": "code",
   "execution_count": 687,
   "metadata": {},
   "outputs": [],
   "source": [
    "predictions = knn.predict(X_test)"
   ]
  },
  {
   "cell_type": "code",
   "execution_count": 688,
   "metadata": {},
   "outputs": [
    {
     "name": "stdout",
     "output_type": "stream",
     "text": [
      "KNN Accuracy: 1.000\n"
     ]
    }
   ],
   "source": [
    "print('KNN Accuracy: %.3f' % accuracy_score(y_test,predictions))"
   ]
  },
  {
   "cell_type": "code",
   "execution_count": 689,
   "metadata": {},
   "outputs": [
    {
     "data": {
      "text/plain": [
       "Text(0.5, 1.0, 'Accuracy Score: 1.0')"
      ]
     },
     "execution_count": 689,
     "metadata": {},
     "output_type": "execute_result"
    },
    {
     "data": {
      "image/png": "[encoded data removed]",
      "text/plain": [
       "<Figure size 648x648 with 2 Axes>"
      ]
     },
     "metadata": {
      "needs_background": "light"
     },
     "output_type": "display_data"
    }
   ],
   "source": [
    "cm = confusion_matrix(y_test,predictions)\n",
    "plt.figure(figsize=(9,9))\n",
    "sns.heatmap(cm,annot=True, fmt='.3f', linewidths=.5, square=True,cmap='Blues_r')\n",
    "plt.ylabel('Actual label')\n",
    "plt.xlabel('Predicted label')\n",
    "all_sample_title = 'Accuracy Score: {0}'.format(accuracy_score(y_test,predictions))\n",
    "plt.title(all_sample_title,size=15)"
   ]
  },
  {
   "cell_type": "markdown",
   "metadata": {},
   "source": [
    "### Random Forest"
   ]
  },
  {
   "cell_type": "markdown",
   "metadata": {},
   "source": [
    "##### Implementation"
   ]
  },
  {
   "cell_type": "code",
   "execution_count": 690,
   "metadata": {},
   "outputs": [],
   "source": [
    "def RF(X_train, y_train, X_test, y_test):\n",
    "    forest = RandomForestClassifier(criterion='gini',\n",
    "                                    n_estimators=5,\n",
    "                                    random_state=1,\n",
    "                                    n_jobs=2)\n",
    "\n",
    "    forest.fit(X_train, y_train)\n",
    "\n",
    "    y_pred = forest.predict(X_test)\n",
    "\n",
    "    print('Accuracy: %.3f' % accuracy_score(y_test, y_pred))\n",
    "    \n",
    "    return y_pred"
   ]
  },
  {
   "cell_type": "code",
   "execution_count": 691,
   "metadata": {},
   "outputs": [],
   "source": [
    "def mat_of_conf(y_test,y_pred,br1,br2):\n",
    "    cm = confusion_matrix(y_test,y_pred)\n",
    "\n",
    "    plt.figure(figsize=(9,9))\n",
    "    sns.heatmap(cm,annot=True, fmt='.3f', linewidths=.5, square=True,cmap='Blues_r')\n",
    "    plt.ylabel('Actual label')\n",
    "    plt.xlabel('Predicted label')\n",
    "    all_sample_title = 'Accuracy Score: {0}'.format(accuracy_score(y_test,y_pred))\n",
    "    plt.title(all_sample_title,size=15)\n",
    "    plt.savefig(\"C:/Users/m.nedeljkovic/Desktop/ses/ses_\" + str(br1) + \"_\" + str(br2) + \".jpeg\")"
   ]
  },
  {
   "cell_type": "code",
   "execution_count": 693,
   "metadata": {},
   "outputs": [
    {
     "name": "stdout",
     "output_type": "stream",
     "text": [
      "Accuracy: 1.000\n"
     ]
    },
    {
     "data": {
      "image/png": "[encoded data removed]",
      "text/plain": [
       "<Figure size 648x648 with 2 Axes>"
      ]
     },
     "metadata": {
      "needs_background": "light"
     },
     "output_type": "display_data"
    }
   ],
   "source": [
    "Forest = RF(X_train, y_train, X_test, y_test)\n",
    "mat_of_conf(y_test,Forest)"
   ]
  },
  {
   "cell_type": "markdown",
   "metadata": {},
   "source": [
    "##### Iterating over different regions"
   ]
  },
  {
   "cell_type": "code",
   "execution_count": null,
   "metadata": {},
   "outputs": [],
   "source": [
    "import warnings\n",
    "warnings.filterwarnings('ignore')\n",
    "from cmath import isnan\n",
    "\n",
    "#putanja = \"C:/Users/Zephyrus/Desktop/cnn data/data\"\n",
    "putanja = \"C:/Users/m.nedeljkovic/Desktop/cnn data/data\"\n",
    "mat_load, roi_load, ind_load, list1, list2, list3, list4 = load_data()\n",
    "\n",
    "for br1 in range(1,13):\n",
    "    for br2 in range(1,13):\n",
    "        if(br1!=br2):\n",
    "            print(\"Trained on region \" + str(br1) + \", and tested on region \" + str(br2))\n",
    "\n",
    "            for file_name in os.listdir(putanja):\n",
    "                # construct full file path\n",
    "                file = putanja + \"/\" + file_name\n",
    "                os.remove(file)\n",
    "\n",
    "            mat_load, roi_load, ind_load, list1, list2, list3, list4 = load_data()\n",
    "            data_per_trial(1, mat_load, roi_load, ind_load, list1, list2, list3, list4)\n",
    "\n",
    "            #niz od podataka za svaku sekvencu (podatak je niz od id-ja, sekvence i labele)\n",
    "            podaci = ucitavanje_podataka(putanja)\n",
    "            vektorizovani_podaci = vektorizacija(podaci)\n",
    "\n",
    "            X_train, y_train, X_test, y_test = podela_podataka(vektorizovani_podaci)\n",
    "            X_train = np.array(X_train, dtype=object)\n",
    "            y_train = np.array(y_train)\n",
    "            X_test = np.array(X_test, dtype=object)\n",
    "            y_test = np.array(y_test)\n",
    "\n",
    "            X_tr = []\n",
    "            for i in X_train:\n",
    "                temp = []\n",
    "                for j in i:\n",
    "                    for k in j:\n",
    "                        if(isnan(k)):\n",
    "                            k = 0\n",
    "                        temp.append(k)\n",
    "                X_tr.append(temp)\n",
    "            X_train = np.array(X_tr, dtype=object)\n",
    "\n",
    "            X_ts = []\n",
    "            for i in X_test:\n",
    "                temp = []\n",
    "                for j in i:\n",
    "                    for k in j:\n",
    "                        if(isnan(k)):\n",
    "                            k = 0\n",
    "                        temp.append(k)\n",
    "                X_ts.append(temp) \n",
    "            X_test = np.array(X_ts, dtype=object)\n",
    "            Forest = RF(X_train, y_train, X_test, y_test)\n",
    "            mat_of_conf(y_test,Forest,br1,br2)\n"
   ]
  },
  {
   "cell_type": "markdown",
   "metadata": {},
   "source": [
    "### Iterating over different sessions knn and rf"
   ]
  },
  {
   "cell_type": "code",
   "execution_count": 696,
   "metadata": {},
   "outputs": [
    {
     "name": "stdout",
     "output_type": "stream",
     "text": [
      "Accuracy: 0.600\n",
      "[17:53:17] WARNING: C:/Users/Administrator/workspace/xgboost-win64_release_1.6.0/src/objective/regression_obj.cu:203: reg:linear is now deprecated in favor of reg:squarederror.\n",
      "KNN:  0.59\n",
      "RF:  0.6\n",
      "XGB:  0.6\n"
     ]
    }
   ],
   "source": [
    "import warnings\n",
    "warnings.filterwarnings('ignore')\n",
    "\n",
    "#putanja = \"C:/Users/Zephyrus/Desktop/cnn data/data\"\n",
    "putanja = \"C:/Users/m.nedeljkovic/Desktop/cnn data/data\"\n",
    "\n",
    "mat_load, roi_load, ind_load, list1, list2, list3, list4 = load_data()\n",
    "\n",
    "for tr in range(1,13):\n",
    "\n",
    "    X_train, X_test, y_train, y_test = [], [], [], []\n",
    "\n",
    "    br1 = 3\n",
    "    for br in [0,1,2]:\n",
    "\n",
    "        for file_name in os.listdir(putanja):\n",
    "            # construct full file path\n",
    "            file = putanja + \"/\" + file_name\n",
    "            os.remove(file)\n",
    "\n",
    "        data_per_ses(tr, br, mat_load, roi_load, ind_load, list1, list2, list3, list4)\n",
    "        podaci = ucitavanje_podataka(putanja)\n",
    "        vektorizovani_podaci = vektorizacija(podaci)\n",
    "        X_train_, y_train_ = podela_podataka_tren(vektorizovani_podaci)\n",
    "        X_tr = []\n",
    "        for i in X_train_:\n",
    "            temp = []\n",
    "            for j in i:\n",
    "                for k in j:\n",
    "                    if(isnan(k)):\n",
    "                        k = 0\n",
    "                    temp.append(k)\n",
    "            X_tr.append(temp)\n",
    "        X_train_ = np.nan_to_num(X_tr)\n",
    "\n",
    "        for mm in X_train_:\n",
    "            X_train.append(mm)\n",
    "        for mm in y_train_:\n",
    "            y_train.append(mm)\n",
    "\n",
    "    for file_name in os.listdir(putanja):\n",
    "        # construct full file path\n",
    "        file = putanja + \"/\" + file_name\n",
    "        os.remove(file)\n",
    "\n",
    "    data_per_ses(tr, br1, mat_load, roi_load, ind_load, list1, list2, list3, list4)\n",
    "    podaci = ucitavanje_podataka(putanja)\n",
    "    vektorizovani_podaci = vektorizacija(podaci)\n",
    "    X_train_, y_train_ = podela_podataka_tren(vektorizovani_podaci)\n",
    "    X_tr = []\n",
    "    for i in X_train_:\n",
    "        temp = []\n",
    "        for j in i:\n",
    "            for k in j:\n",
    "                if(isnan(k)):\n",
    "                    k = 0\n",
    "                temp.append(k)\n",
    "        X_tr.append(temp)\n",
    "    X_train_ = np.nan_to_num(X_tr)\n",
    "\n",
    "    for mm in X_train_:\n",
    "        X_test.append(mm)\n",
    "        \n",
    "    for mm in y_train_:\n",
    "        y_test.append(mm)\n",
    "    \n",
    "    X_train = np.array(X_train, dtype=object)\n",
    "    y_train = np.array(y_train)\n",
    "    X_test = np.array(X_test, dtype=object)\n",
    "    y_test = np.array(y_test)\n",
    "            \n",
    "    knn = OneVsRestClassifier(KNeighborsClassifier())\n",
    "    knn.fit(X_train,y_train)\n",
    "    predictions = knn.predict(X_test)\n",
    "    knn_acc = accuracy_score(y_test,predictions)\n",
    "\n",
    "    Forest = RF(X_train, y_train, X_test, y_test)\n",
    "    rf = accuracy_score(y_test,Forest)\n",
    "\n",
    "    model = xgb.XGBClassifier(objective ='reg:linear', colsample_bytree = 0.3, learning_rate = 0.1, max_depth = 5, alpha = 0.1, n_estimators = 12,  eta=0.05)\n",
    "    model.fit(X_train, y_train)\n",
    "\n",
    "    # make predictions for test set\n",
    "    y_pred = model.predict(X_test)\n",
    "    predictions = [round(value) for value in y_pred]\n",
    "\n",
    "    accuracy = accuracy_score(y_test, predictions)\n",
    "\n",
    "    print(\"KNN: \", knn_acc)\n",
    "    print(\"RF: \", rf)\n",
    "    print(\"XGB: \", accuracy)\n",
    "\n",
    "    break\n"
   ]
  },
  {
   "cell_type": "markdown",
   "metadata": {},
   "source": [
    "# Classification on 5 different speakers"
   ]
  },
  {
   "cell_type": "markdown",
   "metadata": {},
   "source": [
    "#### Data preparation"
   ]
  },
  {
   "cell_type": "code",
   "execution_count": 703,
   "metadata": {},
   "outputs": [],
   "source": [
    "def ucitavanje_sp(directory):\n",
    "    id = 0\n",
    "    data = []\n",
    "    for filename in os.listdir(directory):\n",
    "        f = os.path.join(directory, filename)\n",
    "        label = [int(f.split(\"\\\\\")[-1][-5:-4])]\n",
    "        id = id + 1\n",
    "        dat = np.load(f)\n",
    "        data.append([id, dat, label])\n",
    "    \n",
    "    #random.seed(2)\n",
    "    random.shuffle(data)\n",
    "    return data      "
   ]
  },
  {
   "cell_type": "code",
   "execution_count": 704,
   "metadata": {},
   "outputs": [],
   "source": [
    "def podela_podataka_sp(data_vectors):\n",
    "    \n",
    "    max = 0\n",
    "    for i in range(0,len(data_vectors)):\n",
    "        if(data_vectors[i][1].shape[0] > max):\n",
    "            max = data_vectors[i][1].shape[0]\n",
    "\n",
    "    max_norm = 0\n",
    "    min_norm = 50\n",
    "    for a in data_vectors:\n",
    "        for x in a[1]:\n",
    "            for y in x:\n",
    "                if(y > max_norm):\n",
    "                    max_norm = y\n",
    "                if(y < min_norm):\n",
    "                    min_norm = y\n",
    "\n",
    "    for a in range(0, len(data_vectors)):\n",
    "        for x in range(0, len(data_vectors[a][1])):\n",
    "            for y in range(0, len(data_vectors[a][1][x])):\n",
    "                data_vectors[a][1][x][y] = (data_vectors[a][1][x][y] - min_norm) / (max_norm - min_norm)\n",
    "\n",
    "\n",
    "    X_train, y_train, X_test, y_test = np.empty([1, max, data_vectors[0][1].shape[1]]), [], np.empty([1, max, data_vectors[0][1].shape[1]]),[]\n",
    "    \n",
    "    i1,i2,i3,i4,i5 = 0,0,0,0,0\n",
    "\n",
    "    random.shuffle(data_vectors)\n",
    "    for item in data_vectors:\n",
    "\n",
    "        if item[2]==[0]:\n",
    "            i1 = i1 + 1\n",
    "            if i1 <= 50:\n",
    "                if(np.array(item[1]).shape[0] < max):\n",
    "                    item[1] = np.pad(item[1], [(0, max-np.array(item[1]).shape[0]), (0, 0)], mode='constant' , constant_values=0)\n",
    "                X_test = np.append(X_test, item[1].reshape(1, item[1].shape[0], item[1].shape[1]), axis=0)\n",
    "                y_test.append([0])\n",
    "                #y_test.append(random.choice([[0], [1]]))\n",
    "            else:\n",
    "                if(np.array(item[1]).shape[0] < max):\n",
    "                    item[1] = np.pad(item[1], [(0, max-np.array(item[1]).shape[0]), (0, 0)], mode='constant', constant_values=0)\n",
    "                X_train = np.append(X_train, item[1].reshape(1, item[1].shape[0], item[1].shape[1]), axis=0)\n",
    "                y_train.append([0])\n",
    "            '''\n",
    "            elif item[2]==[1]:\n",
    "                i2 = i2 + 1\n",
    "                if  i2 <= 50:\n",
    "                    if(np.array(item[1]).shape[0] < max):\n",
    "                        item[1] = np.pad(item[1], [(0, max-np.array(item[1]).shape[0]), (0, 0)], mode='constant', constant_values=0)\n",
    "                    X_test = np.append(X_test, item[1].reshape(1, item[1].shape[0], item[1].shape[1]), axis=0)\n",
    "                    y_test.append(item[2])\n",
    "                    #y_test.append(random.choice([[0], [1]]))\n",
    "                else:\n",
    "                    if(np.array(item[1]).shape[0] < max):\n",
    "                        item[1] = np.pad(item[1], [(0, max-np.array(item[1]).shape[0]), (0, 0)], mode='constant', constant_values=0)\n",
    "                    X_train = np.append(X_train, item[1].reshape(1, item[1].shape[0], item[1].shape[1]), axis=0)\n",
    "                    y_train.append(item[2])\n",
    "            elif item[2]==[2]:\n",
    "                i3 = i3 + 1\n",
    "                if  i3 <= 50:\n",
    "                    if(np.array(item[1]).shape[0] < max):\n",
    "                        item[1] = np.pad(item[1], [(0, max-np.array(item[1]).shape[0]), (0, 0)], mode='constant', constant_values=0)\n",
    "                    X_test = np.append(X_test, item[1].reshape(1, item[1].shape[0], item[1].shape[1]), axis=0)\n",
    "                    y_test.append(item[2])\n",
    "                    #y_test.append(random.choice([[0], [1]]))\n",
    "                else:\n",
    "                    if(np.array(item[1]).shape[0] < max):\n",
    "                        item[1] = np.pad(item[1], [(0, max-np.array(item[1]).shape[0]), (0, 0)], mode='constant', constant_values=0)\n",
    "                    X_train = np.append(X_train, item[1].reshape(1, item[1].shape[0], item[1].shape[1]), axis=0)\n",
    "                    y_train.append(item[2])\n",
    "                '''\n",
    "        elif item[2]==[4]:\n",
    "            i4 = i4 + 1\n",
    "            if  i4 <= 50:\n",
    "                if(np.array(item[1]).shape[0] < max):\n",
    "                    item[1] = np.pad(item[1], [(0, max-np.array(item[1]).shape[0]), (0, 0)], mode='constant', constant_values=0)\n",
    "                X_test = np.append(X_test, item[1].reshape(1, item[1].shape[0], item[1].shape[1]), axis=0)\n",
    "                y_test.append([1])\n",
    "                #y_test.append(random.choice([[0], [1]]))\n",
    "            else:\n",
    "                if(np.array(item[1]).shape[0] < max):\n",
    "                    item[1] = np.pad(item[1], [(0, max-np.array(item[1]).shape[0]), (0, 0)], mode='constant', constant_values=0)\n",
    "                X_train = np.append(X_train, item[1].reshape(1, item[1].shape[0], item[1].shape[1]), axis=0)\n",
    "                y_train.append([1])\n",
    "        '''\n",
    "        else:\n",
    "            i5 = i5 + 1\n",
    "            if  i5 <= 50:\n",
    "                if(np.array(item[1]).shape[0] < max):\n",
    "                    item[1] = np.pad(item[1], [(0, max-np.array(item[1]).shape[0]), (0, 0)], mode='constant', constant_values=0)\n",
    "                X_test = np.append(X_test, item[1].reshape(1, item[1].shape[0], item[1].shape[1]), axis=0)\n",
    "                y_test.append(item[2])\n",
    "                #y_test.append(random.choice([[0], [1]]))\n",
    "            else:\n",
    "                if(np.array(item[1]).shape[0] < max):\n",
    "                    item[1] = np.pad(item[1], [(0, max-np.array(item[1]).shape[0]), (0, 0)], mode='constant', constant_values=0)\n",
    "                X_train = np.append(X_train, item[1].reshape(1, item[1].shape[0], item[1].shape[1]), axis=0)\n",
    "                y_train.append(item[2])\n",
    "        '''\n",
    "    \n",
    "    X_train = np.array(X_train[1:])\n",
    "    y_train = np.array(y_train)\n",
    "    X_test = np.array(X_test[1:])\n",
    "    y_test = np.array(y_test)\n",
    "    \n",
    "    return X_train, y_train, X_test, y_test"
   ]
  },
  {
   "cell_type": "markdown",
   "metadata": {},
   "source": [
    "#### Test / Train set"
   ]
  },
  {
   "cell_type": "code",
   "execution_count": 803,
   "metadata": {},
   "outputs": [],
   "source": [
    "#putanja = \"C:/Users/Zephyrus/Desktop/cnn data/data\"\n",
    "putanja = \"C:/Users/m.nedeljkovic/Desktop/cnn data/data\"\n",
    "#niz od podataka za svaku sekvencu (podatak je niz od id-ja, sekvence i labele)\n",
    "podaci = ucitavanje_sp(putanja)\n",
    "X_train, y_train, X_test, y_test = podela_podataka_sp(podaci)\n",
    "\n",
    "X_train = np.array(X_train, dtype=object)\n",
    "y_train = np.array(y_train)\n",
    "X_test = np.array(X_test, dtype=object)\n",
    "y_test = np.array(y_test)"
   ]
  },
  {
   "cell_type": "code",
   "execution_count": 804,
   "metadata": {},
   "outputs": [],
   "source": [
    "X_tr = []\n",
    "for i in X_train:\n",
    "    temp = []\n",
    "    for j in i:\n",
    "        for k in j:\n",
    "            if(isnan(k)):\n",
    "                k = 0\n",
    "            temp.append(k)\n",
    "    X_tr.append(temp)\n",
    "X_train = np.array(X_tr, dtype=object)\n",
    "\n",
    "X_ts = []\n",
    "for i in X_test:\n",
    "    temp = []\n",
    "    for j in i:\n",
    "        for k in j:\n",
    "            if(isnan(k)):\n",
    "                k = 0\n",
    "            temp.append(k)\n",
    "    X_ts.append(temp) \n",
    "X_test = np.array(X_ts, dtype=object)"
   ]
  },
  {
   "cell_type": "markdown",
   "metadata": {},
   "source": [
    "### KNN"
   ]
  },
  {
   "cell_type": "code",
   "execution_count": 805,
   "metadata": {},
   "outputs": [
    {
     "data": {
      "text/html": [
       "<style>#sk-container-id-42 {color: black;background-color: white;}#sk-container-id-42 pre{padding: 0;}#sk-container-id-42 div.sk-toggleable {background-color: white;}#sk-container-id-42 label.sk-toggleable__label {cursor: pointer;display: block;width: 100%;margin-bottom: 0;padding: 0.3em;box-sizing: border-box;text-align: center;}#sk-container-id-42 label.sk-toggleable__label-arrow:before {content: \"▸\";float: left;margin-right: 0.25em;color: #696969;}#sk-container-id-42 label.sk-toggleable__label-arrow:hover:before {color: black;}#sk-container-id-42 div.sk-estimator:hover label.sk-toggleable__label-arrow:before {color: black;}#sk-container-id-42 div.sk-toggleable__content {max-height: 0;max-width: 0;overflow: hidden;text-align: left;background-color: #f0f8ff;}#sk-container-id-42 div.sk-toggleable__content pre {margin: 0.2em;color: black;border-radius: 0.25em;background-color: #f0f8ff;}#sk-container-id-42 input.sk-toggleable__control:checked~div.sk-toggleable__content {max-height: 200px;max-width: 100%;overflow: auto;}#sk-container-id-42 input.sk-toggleable__control:checked~label.sk-toggleable__label-arrow:before {content: \"▾\";}#sk-container-id-42 div.sk-estimator input.sk-toggleable__control:checked~label.sk-toggleable__label {background-color: #d4ebff;}#sk-container-id-42 div.sk-label input.sk-toggleable__control:checked~label.sk-toggleable__label {background-color: #d4ebff;}#sk-container-id-42 input.sk-hidden--visually {border: 0;clip: rect(1px 1px 1px 1px);clip: rect(1px, 1px, 1px, 1px);height: 1px;margin: -1px;overflow: hidden;padding: 0;position: absolute;width: 1px;}#sk-container-id-42 div.sk-estimator {font-family: monospace;background-color: #f0f8ff;border: 1px dotted black;border-radius: 0.25em;box-sizing: border-box;margin-bottom: 0.5em;}#sk-container-id-42 div.sk-estimator:hover {background-color: #d4ebff;}#sk-container-id-42 div.sk-parallel-item::after {content: \"\";width: 100%;border-bottom: 1px solid gray;flex-grow: 1;}#sk-container-id-42 div.sk-label:hover label.sk-toggleable__label {background-color: #d4ebff;}#sk-container-id-42 div.sk-serial::before {content: \"\";position: absolute;border-left: 1px solid gray;box-sizing: border-box;top: 0;bottom: 0;left: 50%;z-index: 0;}#sk-container-id-42 div.sk-serial {display: flex;flex-direction: column;align-items: center;background-color: white;padding-right: 0.2em;padding-left: 0.2em;position: relative;}#sk-container-id-42 div.sk-item {position: relative;z-index: 1;}#sk-container-id-42 div.sk-parallel {display: flex;align-items: stretch;justify-content: center;background-color: white;position: relative;}#sk-container-id-42 div.sk-item::before, #sk-container-id-42 div.sk-parallel-item::before {content: \"\";position: absolute;border-left: 1px solid gray;box-sizing: border-box;top: 0;bottom: 0;left: 50%;z-index: -1;}#sk-container-id-42 div.sk-parallel-item {display: flex;flex-direction: column;z-index: 1;position: relative;background-color: white;}#sk-container-id-42 div.sk-parallel-item:first-child::after {align-self: flex-end;width: 50%;}#sk-container-id-42 div.sk-parallel-item:last-child::after {align-self: flex-start;width: 50%;}#sk-container-id-42 div.sk-parallel-item:only-child::after {width: 0;}#sk-container-id-42 div.sk-dashed-wrapped {border: 1px dashed gray;margin: 0 0.4em 0.5em 0.4em;box-sizing: border-box;padding-bottom: 0.4em;background-color: white;}#sk-container-id-42 div.sk-label label {font-family: monospace;font-weight: bold;display: inline-block;line-height: 1.2em;}#sk-container-id-42 div.sk-label-container {text-align: center;}#sk-container-id-42 div.sk-container {/* jupyter's `normalize.less` sets `[hidden] { display: none; }` but bootstrap.min.css set `[hidden] { display: none !important; }` so we also need the `!important` here to be able to override the default hidden behavior on the sphinx rendered scikit-learn.org. See: https://github.com/scikit-learn/scikit-learn/issues/21755 */display: inline-block !important;position: relative;}#sk-container-id-42 div.sk-text-repr-fallback {display: none;}</style><div id=\"sk-container-id-42\" class=\"sk-top-container\"><div class=\"sk-text-repr-fallback\"><pre>OneVsRestClassifier(estimator=KNeighborsClassifier())</pre><b>In a Jupyter environment, please rerun this cell to show the HTML representation or trust the notebook. <br />On GitHub, the HTML representation is unable to render, please try loading this page with nbviewer.org.</b></div><div class=\"sk-container\" hidden><div class=\"sk-item sk-dashed-wrapped\"><div class=\"sk-label-container\"><div class=\"sk-label sk-toggleable\"><input class=\"sk-toggleable__control sk-hidden--visually\" id=\"sk-estimator-id-124\" type=\"checkbox\" ><label for=\"sk-estimator-id-124\" class=\"sk-toggleable__label sk-toggleable__label-arrow\">OneVsRestClassifier</label><div class=\"sk-toggleable__content\"><pre>OneVsRestClassifier(estimator=KNeighborsClassifier())</pre></div></div></div><div class=\"sk-parallel\"><div class=\"sk-parallel-item\"><div class=\"sk-item\"><div class=\"sk-label-container\"><div class=\"sk-label sk-toggleable\"><input class=\"sk-toggleable__control sk-hidden--visually\" id=\"sk-estimator-id-125\" type=\"checkbox\" ><label for=\"sk-estimator-id-125\" class=\"sk-toggleable__label sk-toggleable__label-arrow\">estimator: KNeighborsClassifier</label><div class=\"sk-toggleable__content\"><pre>KNeighborsClassifier()</pre></div></div></div><div class=\"sk-serial\"><div class=\"sk-item\"><div class=\"sk-estimator sk-toggleable\"><input class=\"sk-toggleable__control sk-hidden--visually\" id=\"sk-estimator-id-126\" type=\"checkbox\" ><label for=\"sk-estimator-id-126\" class=\"sk-toggleable__label sk-toggleable__label-arrow\">KNeighborsClassifier</label><div class=\"sk-toggleable__content\"><pre>KNeighborsClassifier()</pre></div></div></div></div></div></div></div></div></div></div>"
      ],
      "text/plain": [
       "OneVsRestClassifier(estimator=KNeighborsClassifier())"
      ]
     },
     "execution_count": 805,
     "metadata": {},
     "output_type": "execute_result"
    }
   ],
   "source": [
    "knn = OneVsRestClassifier(KNeighborsClassifier())\n",
    "knn.fit(X_train,y_train)"
   ]
  },
  {
   "cell_type": "code",
   "execution_count": 806,
   "metadata": {},
   "outputs": [],
   "source": [
    "predictions = knn.predict(X_test)"
   ]
  },
  {
   "cell_type": "code",
   "execution_count": 807,
   "metadata": {},
   "outputs": [
    {
     "name": "stdout",
     "output_type": "stream",
     "text": [
      "KNN Accuracy: 0.610\n"
     ]
    }
   ],
   "source": [
    "print('KNN Accuracy: %.3f' % accuracy_score(y_test,predictions))"
   ]
  },
  {
   "cell_type": "code",
   "execution_count": 808,
   "metadata": {},
   "outputs": [
    {
     "data": {
      "text/plain": [
       "Text(0.5, 1.0, 'Accuracy Score: 0.61')"
      ]
     },
     "execution_count": 808,
     "metadata": {},
     "output_type": "execute_result"
    },
    {
     "data": {
      "image/png": "[encoded data removed]",
      "text/plain": [
       "<Figure size 648x648 with 2 Axes>"
      ]
     },
     "metadata": {
      "needs_background": "light"
     },
     "output_type": "display_data"
    }
   ],
   "source": [
    "cm = confusion_matrix(y_test,predictions)\n",
    "plt.figure(figsize=(9,9))\n",
    "sns.heatmap(cm,annot=True, fmt='.3f', linewidths=.5, square=True,cmap='Blues_r')\n",
    "plt.ylabel('Actual label')\n",
    "plt.xlabel('Predicted label')\n",
    "all_sample_title = 'Accuracy Score: {0}'.format(accuracy_score(y_test,predictions))\n",
    "plt.title(all_sample_title,size=15)"
   ]
  },
  {
   "cell_type": "markdown",
   "metadata": {},
   "source": [
    "### Random Forest"
   ]
  },
  {
   "cell_type": "code",
   "execution_count": 809,
   "metadata": {},
   "outputs": [],
   "source": [
    "def RF(X_train, y_train, X_test, y_test):\n",
    "    forest = RandomForestClassifier(criterion='gini',\n",
    "                                    n_estimators=5,\n",
    "                                    random_state=1,\n",
    "                                    n_jobs=2)\n",
    "    forest.fit(X_train, y_train)\n",
    "    y_pred = forest.predict(X_test)\n",
    "    print('Accuracy: %.3f' % accuracy_score(y_test, y_pred))\n",
    "    return y_pred"
   ]
  },
  {
   "cell_type": "code",
   "execution_count": 810,
   "metadata": {},
   "outputs": [],
   "source": [
    "def mat_of_conf(y_test,y_pred):\n",
    "    cm = confusion_matrix(y_test,y_pred)\n",
    "    plt.figure(figsize=(9,9))\n",
    "    sns.heatmap(cm,annot=True, fmt='.3f', linewidths=.5, square=True,cmap='Blues_r')\n",
    "    plt.ylabel('Actual label')\n",
    "    plt.xlabel('Predicted label')\n",
    "    all_sample_title = 'Accuracy Score: {0}'.format(accuracy_score(y_test,y_pred))\n",
    "    plt.title(all_sample_title,size=15)\n",
    "    plt.show()"
   ]
  },
  {
   "cell_type": "code",
   "execution_count": 811,
   "metadata": {},
   "outputs": [
    {
     "name": "stdout",
     "output_type": "stream",
     "text": [
      "Accuracy: 0.650\n"
     ]
    },
    {
     "data": {
      "image/png": "[encoded data removed]",
      "text/plain": [
       "<Figure size 648x648 with 2 Axes>"
      ]
     },
     "metadata": {
      "needs_background": "light"
     },
     "output_type": "display_data"
    }
   ],
   "source": [
    "Forest = RF(X_train, y_train, X_test, y_test)\n",
    "mat_of_conf(y_test,Forest)"
   ]
  },
  {
   "cell_type": "markdown",
   "metadata": {},
   "source": [
    "### XG boost"
   ]
  },
  {
   "cell_type": "code",
   "execution_count": 819,
   "metadata": {},
   "outputs": [
    {
     "name": "stdout",
     "output_type": "stream",
     "text": [
      "[18:31:59] WARNING: C:/Users/Administrator/workspace/xgboost-win64_release_1.6.0/src/objective/regression_obj.cu:203: reg:linear is now deprecated in favor of reg:squarederror.\n",
      "[0]\tvalidation_0-logloss:0.63780\tvalidation_1-logloss:0.67932\n",
      "[1]\tvalidation_0-logloss:0.58845\tvalidation_1-logloss:0.65687\n",
      "[2]\tvalidation_0-logloss:0.54259\tvalidation_1-logloss:0.63699\n",
      "[3]\tvalidation_0-logloss:0.50799\tvalidation_1-logloss:0.62882\n",
      "[4]\tvalidation_0-logloss:0.47752\tvalidation_1-logloss:0.62891\n",
      "[5]\tvalidation_0-logloss:0.45016\tvalidation_1-logloss:0.61554\n",
      "[6]\tvalidation_0-logloss:0.42720\tvalidation_1-logloss:0.61107\n",
      "[7]\tvalidation_0-logloss:0.40102\tvalidation_1-logloss:0.60929\n",
      "[8]\tvalidation_0-logloss:0.37987\tvalidation_1-logloss:0.60567\n",
      "[9]\tvalidation_0-logloss:0.36076\tvalidation_1-logloss:0.60908\n",
      "[10]\tvalidation_0-logloss:0.34390\tvalidation_1-logloss:0.60490\n",
      "[11]\tvalidation_0-logloss:0.33148\tvalidation_1-logloss:0.60715\n",
      "[12]\tvalidation_0-logloss:0.31666\tvalidation_1-logloss:0.61161\n",
      "[13]\tvalidation_0-logloss:0.30370\tvalidation_1-logloss:0.60854\n",
      "[14]\tvalidation_0-logloss:0.29257\tvalidation_1-logloss:0.60554\n",
      "Accuracy: 0.720\n"
     ]
    },
    {
     "data": {
      "image/png": "[encoded data removed]",
      "text/plain": [
       "<Figure size 432x288 with 1 Axes>"
      ]
     },
     "metadata": {
      "needs_background": "light"
     },
     "output_type": "display_data"
    }
   ],
   "source": [
    "eval = [(X_train, y_train),(X_test, y_test)]\n",
    "classif = xgb.XGBClassifier(objective ='reg:linear', colsample_bytree = 0.3, learning_rate = 0.1, max_depth = 5, alpha = 0.1, n_estimators = 15,  eta=0.05)\n",
    "classif.fit(X_train,y_train, eval_set = eval, eval_metric='logloss')\n",
    "preds = classif.predict(X_test)\n",
    "score = accuracy_score(y_test, preds)\n",
    "print('Accuracy: %.3f' % score)\n",
    "results = classif.evals_result()\n",
    "# plot learning curves\n",
    "plt.plot(results['validation_0']['logloss'], label='train')\n",
    "plt.plot(results['validation_1']['logloss'], label='test')\n",
    "plt.legend()\n",
    "plt.show()"
   ]
  },
  {
   "cell_type": "code",
   "execution_count": 813,
   "metadata": {},
   "outputs": [
    {
     "name": "stdout",
     "output_type": "stream",
     "text": [
      "[18:31:23] WARNING: C:/Users/Administrator/workspace/xgboost-win64_release_1.6.0/src/objective/regression_obj.cu:203: reg:linear is now deprecated in favor of reg:squarederror.\n",
      "Accuracy: 72.00%\n"
     ]
    }
   ],
   "source": [
    "from xgboost import XGBClassifier\n",
    "from sklearn.metrics import accuracy_score\n",
    "\n",
    "#instantiate model and train\n",
    "model = xgb.XGBClassifier(objective ='reg:linear', colsample_bytree = 0.3, learning_rate = 0.1, max_depth = 5, alpha = 0.1, n_estimators = 20,  eta=0.05)\n",
    "model.fit(X_train, y_train)\n",
    "\n",
    "# make predictions for test set\n",
    "y_pred = model.predict(X_test)\n",
    "predictions = [round(value) for value in y_pred]\n",
    "\n",
    "accuracy = accuracy_score(y_test, predictions)\n",
    "print(\"Accuracy: %.2f%%\" % (accuracy * 100.0))"
   ]
  },
  {
   "cell_type": "code",
   "execution_count": 814,
   "metadata": {},
   "outputs": [
    {
     "data": {
      "image/png": "[encoded data removed]",
      "text/plain": [
       "<Figure size 432x288 with 1 Axes>"
      ]
     },
     "metadata": {
      "needs_background": "light"
     },
     "output_type": "display_data"
    }
   ],
   "source": [
    "from turtle import width\n",
    "from xgboost import plot_importance\n",
    "import matplotlib.pyplot as plt\n",
    "\n",
    "# plot feature importance\n",
    "plot_importance(model, max_num_features=10)\n",
    "plt.show()\n",
    "\n",
    "x = model.feature_importances_"
   ]
  },
  {
   "cell_type": "code",
   "execution_count": 815,
   "metadata": {},
   "outputs": [
    {
     "data": {
      "text/plain": [
       "0.046086375"
      ]
     },
     "execution_count": 815,
     "metadata": {},
     "output_type": "execute_result"
    }
   ],
   "source": [
    "max(x)"
   ]
  },
  {
   "cell_type": "code",
   "execution_count": null,
   "metadata": {},
   "outputs": [],
   "source": []
  },
  {
   "cell_type": "code",
   "execution_count": null,
   "metadata": {},
   "outputs": [],
   "source": []
  }
 ],
 "metadata": {
  "kernelspec": {
   "display_name": "Python 3.10.5 64-bit",
   "language": "python",
   "name": "python3"
  },
  "language_info": {
   "codemirror_mode": {
    "name": "ipython",
    "version": 3
   },
   "file_extension": ".py",
   "mimetype": "text/x-python",
   "name": "python",
   "nbconvert_exporter": "python",
   "pygments_lexer": "ipython3",
   "version": "3.10.5"
  },
  "orig_nbformat": 4,
  "vscode": {
   "interpreter": {
    "hash": "c3ff55a2362d840d3433b3a68631efa6e477163e310b6a9fd17f9078908dbfa1"
   }
  }
 },
 "nbformat": 4,
 "nbformat_minor": 2
}
