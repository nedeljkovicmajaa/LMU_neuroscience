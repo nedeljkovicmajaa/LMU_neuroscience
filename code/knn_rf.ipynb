{
 "cells": [
  {
   "cell_type": "markdown",
   "metadata": {},
   "source": [
    "#### Import required packages"
   ]
  },
  {
   "cell_type": "code",
   "execution_count": 1,
   "metadata": {},
   "outputs": [],
   "source": [
    "# numeric and plotting libraries\n",
    "import time\n",
    "import os\n",
    "import shutil\n",
    "import math\n",
    "from collections import defaultdict\n",
    "import matplotlib.pyplot as plt\n",
    "import numpy as np\n",
    "import csv\n",
    "import random\n",
    "from PIL import Image\n",
    "import csv\n",
    "import operator \n",
    "import pandas as pd \n",
    "# to create confusion metrics\n",
    "import seaborn as sns\n",
    "import scipy.io as sio\n",
    "from cmath import nan\n",
    "from cmath import isnan"
   ]
  },
  {
   "cell_type": "code",
   "execution_count": 2,
   "metadata": {},
   "outputs": [
    {
     "name": "stderr",
     "output_type": "stream",
     "text": [
      "d:\\Marija\\noise correlation\\LMU_neuroscience\\code\\data_prep.ipynb:118: RuntimeWarning: invalid value encountered in multiply\n",
      "  \"    lista = [[k[0] for k in list1], [k[0] for k in list2], [k[0] for k in list3], [k[0] for k in list4]]\\n\",\n",
      "d:\\Marija\\noise correlation\\LMU_neuroscience\\code\\data_prep.ipynb:204: RuntimeWarning: invalid value encountered in multiply\n",
      "  ]\n",
      "d:\\Marija\\noise correlation\\LMU_neuroscience\\code\\data_prep.ipynb:291: RuntimeWarning: invalid value encountered in multiply\n",
      "  \"                        dat_seaw_df[dat_seaw_df == np.inf] = 0\\n\",\n",
      "d:\\Marija\\noise correlation\\LMU_neuroscience\\code\\data_prep.ipynb:380: RuntimeWarning: invalid value encountered in multiply\n",
      "  \"                    dat_sean_df_ = dat_sean_df[0:1,:,:]\\n\",\n"
     ]
    }
   ],
   "source": [
    "from  ipynb.fs.full.data_prep import *"
   ]
  },
  {
   "cell_type": "code",
   "execution_count": 3,
   "metadata": {},
   "outputs": [],
   "source": [
    "%matplotlib inline"
   ]
  },
  {
   "cell_type": "code",
   "execution_count": 4,
   "metadata": {},
   "outputs": [],
   "source": [
    "from sklearn.metrics import accuracy_score,confusion_matrix # metrics error\n",
    "from sklearn.multiclass import OneVsRestClassifier\n",
    "from sklearn.neighbors import KNeighborsClassifier\n",
    "from sklearn.ensemble import RandomForestClassifier\n",
    "from numpy import loadtxt\n",
    "from xgboost import XGBClassifier\n",
    "from sklearn.model_selection import train_test_split\n",
    "from sklearn.metrics import accuracy_score\n",
    "import xgboost as xgb"
   ]
  },
  {
   "cell_type": "markdown",
   "metadata": {},
   "source": [
    "# Classification on anest and awake state"
   ]
  },
  {
   "cell_type": "markdown",
   "metadata": {},
   "source": [
    "#### Data preparation"
   ]
  },
  {
   "cell_type": "code",
   "execution_count": 13,
   "metadata": {},
   "outputs": [],
   "source": [
    "def ucitavanje_podataka(directory):\n",
    "    id = 0\n",
    "    data = []\n",
    "    for filename in os.listdir(directory):\n",
    "        f = os.path.join(directory, filename)\n",
    "        label = f.split(\"\\\\\")[-1][0:2]\n",
    "        id = id + 1\n",
    "        dat = np.load(f)\n",
    "        data.append([id, dat, label])\n",
    "    \n",
    "    random.seed(2)\n",
    "    #random.shuffle(data)\n",
    "    return data      "
   ]
  },
  {
   "cell_type": "code",
   "execution_count": 14,
   "metadata": {},
   "outputs": [],
   "source": [
    "def vektorizacija(podaci):\n",
    "    prevodjenje_labela = {\"an\": [1], \"aw\": [0]}  # anest: 1, aw: 0\n",
    "\n",
    "    vektorizovani_podaci = []\n",
    "    for a in podaci:\n",
    "        vektorizovani_podaci.append([a[0], a[1], prevodjenje_labela[a[2]]])\n",
    "\n",
    "    return vektorizovani_podaci"
   ]
  },
  {
   "cell_type": "code",
   "execution_count": 15,
   "metadata": {},
   "outputs": [],
   "source": [
    "def podela_podataka(data_vectors):\n",
    "    max = 0\n",
    "    for i in range(0,len(data_vectors)):\n",
    "        if(data_vectors[i][1].shape[0] > max):\n",
    "            max = data_vectors[i][1].shape[0]\n",
    "\n",
    "    X_train, y_train, X_test, y_test = np.empty([1, max, data_vectors[0][1].shape[1]]), [], np.empty([1, max, data_vectors[0][1].shape[1]]),[]\n",
    "    i,j = 0,0\n",
    "\n",
    "    max_norm = 0\n",
    "    min_norm = 50\n",
    "    for a in data_vectors:\n",
    "        for x in a[1]:\n",
    "            for y in x:\n",
    "                if(y > max_norm):\n",
    "                    max_norm = y\n",
    "                if(y < min_norm):\n",
    "                    min_norm = y\n",
    "\n",
    "    for a in range(0, len(data_vectors)):\n",
    "        for x in range(0, len(data_vectors[a][1])):\n",
    "            for y in range(0, len(data_vectors[a][1][x])):\n",
    "                data_vectors[a][1][x][y] = (data_vectors[a][1][x][y] - min_norm) / (max_norm - min_norm)\n",
    "\n",
    "    random.shuffle(data_vectors)\n",
    "    for item in data_vectors:\n",
    "        if item[2]==[1]:\n",
    "            i = i + 1\n",
    "            if i <= 50:\n",
    "                if(np.array(item[1]).shape[0] < max):\n",
    "                    item[1] = np.pad(item[1], [(0, max-np.array(item[1]).shape[0]), (0, 0)], mode='constant' , constant_values=0)\n",
    "                X_test = np.append(X_test, np.array(item[1]).reshape(1, item[1].shape[0], np.array(item[1]).shape[1]), axis=0)\n",
    "                y_test.append(item[2])\n",
    "                #y_test.append(random.choice([[0], [1]]))\n",
    "            else:\n",
    "                if(np.array(item[1]).shape[0] < max):\n",
    "                    item[1] = np.pad(item[1], [(0, max-np.array(item[1]).shape[0]), (0, 0)], mode='constant', constant_values=0)\n",
    "                X_train = np.append(X_train, np.array(item[1]).reshape(1, np.array(item[1]).shape[0], np.array(item[1]).shape[1]), axis=0)\n",
    "                y_train.append(item[2])\n",
    "        else:\n",
    "            j = j + 1\n",
    "            if  j <= 50:\n",
    "                if(np.array(item[1]).shape[0] < max):\n",
    "                    item[1] = np.pad(item[1], [(0, max-np.array(item[1]).shape[0]), (0, 0)], mode='constant', constant_values=0)\n",
    "                X_test = np.append(X_test, np.array(item[1]).reshape(1, np.array(item[1]).shape[0], np.array(item[1]).shape[1]), axis=0)\n",
    "                y_test.append(item[2])\n",
    "                #y_test.append(random.choice([[0], [1]]))\n",
    "            else:\n",
    "                if(np.array(item[1]).shape[0] < max):\n",
    "                    item[1] = np.pad(item[1], [(0, max-np.array(item[1]).shape[0]), (0, 0)], mode='constant', constant_values=0)\n",
    "                X_train = np.append(X_train, np.array(item[1]).reshape(1, np.array(item[1]).shape[0], np.array(item[1]).shape[1]), axis=0)\n",
    "                y_train.append(item[2])\n",
    "    \n",
    "    X_train = np.array(X_train[1:])\n",
    "    y_train = np.array(y_train)\n",
    "    X_test = np.array(X_test[1:])\n",
    "    y_test = np.array(y_test)\n",
    "    \n",
    "    return X_train, y_train, X_test, y_test"
   ]
  },
  {
   "cell_type": "code",
   "execution_count": 16,
   "metadata": {},
   "outputs": [],
   "source": [
    "def podela_podataka_tren(data_vectors):\n",
    "    max = 110\n",
    "    X_train, y_train = np.empty([1, max, data_vectors[0][1].shape[1]]), []\n",
    "\n",
    "    max_norm = 0\n",
    "    min_norm = 50\n",
    "    for a in data_vectors:\n",
    "        for x in a[1]:\n",
    "            for y in x:\n",
    "                if(y > max_norm):\n",
    "                    max_norm = y\n",
    "                if(y < min_norm):\n",
    "                    min_norm = y\n",
    "\n",
    "    for a in range(0, len(data_vectors)):\n",
    "        for x in range(0, len(data_vectors[a][1])):\n",
    "            for y in range(0, len(data_vectors[a][1][x])):\n",
    "                data_vectors[a][1][x][y] = (data_vectors[a][1][x][y] - min_norm) / (max_norm - min_norm)\n",
    "\n",
    "    random.shuffle(data_vectors)\n",
    "\n",
    "    for item in data_vectors:\n",
    "        if(item[1].shape[0] < max):\n",
    "            item[1] = np.pad(item[1], [(0, max-item[1].shape[0]), (0, 0)], mode='constant', constant_values=0)      \n",
    "        X_train = np.append(X_train, item[1].reshape(1, item[1].shape[0], item[1].shape[1]), axis=0)\n",
    "        #y_train.append(item[2])\n",
    "        y_train.append(random.choice([[0], [1]]))\n",
    "    \n",
    "    X_train = np.array(X_train[1:])\n",
    "    y_train = np.array(y_train)\n",
    "    \n",
    "    return X_train, y_train"
   ]
  },
  {
   "cell_type": "markdown",
   "metadata": {},
   "source": [
    "#### Test/Train"
   ]
  },
  {
   "cell_type": "code",
   "execution_count": null,
   "metadata": {},
   "outputs": [],
   "source": [
    "#putanja = \"C:/Users/Zephyrus/Desktop/cnn data/data\"\n",
    "putanja = \"C:/Users/m.nedeljkovic/Desktop/cnn data/data\"\n",
    "#niz od podataka za svaku sekvencu (podatak je niz od id-ja, sekvence i labele)\n",
    "podaci = ucitavanje_podataka(putanja)\n",
    "vektorizovani_podaci = vektorizacija(podaci)\n",
    "\n",
    "X_train, y_train, X_test, y_test = podela_podataka(vektorizovani_podaci)\n",
    "X_train = np.array(X_train, dtype=object)\n",
    "y_train = np.array(y_train)\n",
    "X_test = np.array(X_test, dtype=object)\n",
    "y_test = np.array(y_test)"
   ]
  },
  {
   "cell_type": "code",
   "execution_count": 685,
   "metadata": {},
   "outputs": [],
   "source": [
    "X_tr = []\n",
    "for i in X_train:\n",
    "    temp = []\n",
    "    for j in i:\n",
    "        for k in j:\n",
    "            if(isnan(k)):\n",
    "                k = 0\n",
    "            temp.append(k)\n",
    "    X_tr.append(temp)\n",
    "X_train = np.array(X_tr, dtype=object)\n",
    "\n",
    "X_ts = []\n",
    "for i in X_test:\n",
    "    temp = []\n",
    "    for j in i:\n",
    "        for k in j:\n",
    "            if(isnan(k)):\n",
    "                k = 0\n",
    "            temp.append(k)\n",
    "    X_ts.append(temp) \n",
    "X_test = np.array(X_ts, dtype=object)"
   ]
  },
  {
   "cell_type": "markdown",
   "metadata": {},
   "source": [
    "### KNN"
   ]
  },
  {
   "cell_type": "code",
   "execution_count": 686,
   "metadata": {},
   "outputs": [
    {
     "data": {
      "text/html": [
       "<style>#sk-container-id-36 {color: black;background-color: white;}#sk-container-id-36 pre{padding: 0;}#sk-container-id-36 div.sk-toggleable {background-color: white;}#sk-container-id-36 label.sk-toggleable__label {cursor: pointer;display: block;width: 100%;margin-bottom: 0;padding: 0.3em;box-sizing: border-box;text-align: center;}#sk-container-id-36 label.sk-toggleable__label-arrow:before {content: \"▸\";float: left;margin-right: 0.25em;color: #696969;}#sk-container-id-36 label.sk-toggleable__label-arrow:hover:before {color: black;}#sk-container-id-36 div.sk-estimator:hover label.sk-toggleable__label-arrow:before {color: black;}#sk-container-id-36 div.sk-toggleable__content {max-height: 0;max-width: 0;overflow: hidden;text-align: left;background-color: #f0f8ff;}#sk-container-id-36 div.sk-toggleable__content pre {margin: 0.2em;color: black;border-radius: 0.25em;background-color: #f0f8ff;}#sk-container-id-36 input.sk-toggleable__control:checked~div.sk-toggleable__content {max-height: 200px;max-width: 100%;overflow: auto;}#sk-container-id-36 input.sk-toggleable__control:checked~label.sk-toggleable__label-arrow:before {content: \"▾\";}#sk-container-id-36 div.sk-estimator input.sk-toggleable__control:checked~label.sk-toggleable__label {background-color: #d4ebff;}#sk-container-id-36 div.sk-label input.sk-toggleable__control:checked~label.sk-toggleable__label {background-color: #d4ebff;}#sk-container-id-36 input.sk-hidden--visually {border: 0;clip: rect(1px 1px 1px 1px);clip: rect(1px, 1px, 1px, 1px);height: 1px;margin: -1px;overflow: hidden;padding: 0;position: absolute;width: 1px;}#sk-container-id-36 div.sk-estimator {font-family: monospace;background-color: #f0f8ff;border: 1px dotted black;border-radius: 0.25em;box-sizing: border-box;margin-bottom: 0.5em;}#sk-container-id-36 div.sk-estimator:hover {background-color: #d4ebff;}#sk-container-id-36 div.sk-parallel-item::after {content: \"\";width: 100%;border-bottom: 1px solid gray;flex-grow: 1;}#sk-container-id-36 div.sk-label:hover label.sk-toggleable__label {background-color: #d4ebff;}#sk-container-id-36 div.sk-serial::before {content: \"\";position: absolute;border-left: 1px solid gray;box-sizing: border-box;top: 0;bottom: 0;left: 50%;z-index: 0;}#sk-container-id-36 div.sk-serial {display: flex;flex-direction: column;align-items: center;background-color: white;padding-right: 0.2em;padding-left: 0.2em;position: relative;}#sk-container-id-36 div.sk-item {position: relative;z-index: 1;}#sk-container-id-36 div.sk-parallel {display: flex;align-items: stretch;justify-content: center;background-color: white;position: relative;}#sk-container-id-36 div.sk-item::before, #sk-container-id-36 div.sk-parallel-item::before {content: \"\";position: absolute;border-left: 1px solid gray;box-sizing: border-box;top: 0;bottom: 0;left: 50%;z-index: -1;}#sk-container-id-36 div.sk-parallel-item {display: flex;flex-direction: column;z-index: 1;position: relative;background-color: white;}#sk-container-id-36 div.sk-parallel-item:first-child::after {align-self: flex-end;width: 50%;}#sk-container-id-36 div.sk-parallel-item:last-child::after {align-self: flex-start;width: 50%;}#sk-container-id-36 div.sk-parallel-item:only-child::after {width: 0;}#sk-container-id-36 div.sk-dashed-wrapped {border: 1px dashed gray;margin: 0 0.4em 0.5em 0.4em;box-sizing: border-box;padding-bottom: 0.4em;background-color: white;}#sk-container-id-36 div.sk-label label {font-family: monospace;font-weight: bold;display: inline-block;line-height: 1.2em;}#sk-container-id-36 div.sk-label-container {text-align: center;}#sk-container-id-36 div.sk-container {/* jupyter's `normalize.less` sets `[hidden] { display: none; }` but bootstrap.min.css set `[hidden] { display: none !important; }` so we also need the `!important` here to be able to override the default hidden behavior on the sphinx rendered scikit-learn.org. See: https://github.com/scikit-learn/scikit-learn/issues/21755 */display: inline-block !important;position: relative;}#sk-container-id-36 div.sk-text-repr-fallback {display: none;}</style><div id=\"sk-container-id-36\" class=\"sk-top-container\"><div class=\"sk-text-repr-fallback\"><pre>OneVsRestClassifier(estimator=KNeighborsClassifier())</pre><b>In a Jupyter environment, please rerun this cell to show the HTML representation or trust the notebook. <br />On GitHub, the HTML representation is unable to render, please try loading this page with nbviewer.org.</b></div><div class=\"sk-container\" hidden><div class=\"sk-item sk-dashed-wrapped\"><div class=\"sk-label-container\"><div class=\"sk-label sk-toggleable\"><input class=\"sk-toggleable__control sk-hidden--visually\" id=\"sk-estimator-id-106\" type=\"checkbox\" ><label for=\"sk-estimator-id-106\" class=\"sk-toggleable__label sk-toggleable__label-arrow\">OneVsRestClassifier</label><div class=\"sk-toggleable__content\"><pre>OneVsRestClassifier(estimator=KNeighborsClassifier())</pre></div></div></div><div class=\"sk-parallel\"><div class=\"sk-parallel-item\"><div class=\"sk-item\"><div class=\"sk-label-container\"><div class=\"sk-label sk-toggleable\"><input class=\"sk-toggleable__control sk-hidden--visually\" id=\"sk-estimator-id-107\" type=\"checkbox\" ><label for=\"sk-estimator-id-107\" class=\"sk-toggleable__label sk-toggleable__label-arrow\">estimator: KNeighborsClassifier</label><div class=\"sk-toggleable__content\"><pre>KNeighborsClassifier()</pre></div></div></div><div class=\"sk-serial\"><div class=\"sk-item\"><div class=\"sk-estimator sk-toggleable\"><input class=\"sk-toggleable__control sk-hidden--visually\" id=\"sk-estimator-id-108\" type=\"checkbox\" ><label for=\"sk-estimator-id-108\" class=\"sk-toggleable__label sk-toggleable__label-arrow\">KNeighborsClassifier</label><div class=\"sk-toggleable__content\"><pre>KNeighborsClassifier()</pre></div></div></div></div></div></div></div></div></div></div>"
      ],
      "text/plain": [
       "OneVsRestClassifier(estimator=KNeighborsClassifier())"
      ]
     },
     "execution_count": 686,
     "metadata": {},
     "output_type": "execute_result"
    }
   ],
   "source": [
    "knn = OneVsRestClassifier(KNeighborsClassifier())\n",
    "knn.fit(X_train,y_train)"
   ]
  },
  {
   "cell_type": "code",
   "execution_count": 687,
   "metadata": {},
   "outputs": [],
   "source": [
    "predictions = knn.predict(X_test)"
   ]
  },
  {
   "cell_type": "code",
   "execution_count": 688,
   "metadata": {},
   "outputs": [
    {
     "name": "stdout",
     "output_type": "stream",
     "text": [
      "KNN Accuracy: 1.000\n"
     ]
    }
   ],
   "source": [
    "print('KNN Accuracy: %.3f' % accuracy_score(y_test,predictions))"
   ]
  },
  {
   "cell_type": "code",
   "execution_count": 689,
   "metadata": {},
   "outputs": [
    {
     "data": {
      "text/plain": [
       "Text(0.5, 1.0, 'Accuracy Score: 1.0')"
      ]
     },
     "execution_count": 689,
     "metadata": {},
     "output_type": "execute_result"
    },
    {
     "data": {
      "image/png": "[encoded data removed]",
      "text/plain": [
       "<Figure size 648x648 with 2 Axes>"
      ]
     },
     "metadata": {
      "needs_background": "light"
     },
     "output_type": "display_data"
    }
   ],
   "source": [
    "cm = confusion_matrix(y_test,predictions)\n",
    "plt.figure(figsize=(9,9))\n",
    "sns.heatmap(cm,annot=True, fmt='.3f', linewidths=.5, square=True,cmap='Blues_r')\n",
    "plt.ylabel('Actual label')\n",
    "plt.xlabel('Predicted label')\n",
    "all_sample_title = 'Accuracy Score: {0}'.format(accuracy_score(y_test,predictions))\n",
    "plt.title(all_sample_title,size=15)"
   ]
  },
  {
   "cell_type": "markdown",
   "metadata": {},
   "source": [
    "### Random Forest"
   ]
  },
  {
   "cell_type": "markdown",
   "metadata": {},
   "source": [
    "##### Implementation"
   ]
  },
  {
   "cell_type": "code",
   "execution_count": 690,
   "metadata": {},
   "outputs": [],
   "source": [
    "def RF(X_train, y_train, X_test, y_test):\n",
    "    forest = RandomForestClassifier(criterion='gini',\n",
    "                                    n_estimators=5,\n",
    "                                    random_state=1,\n",
    "                                    n_jobs=2)\n",
    "\n",
    "    forest.fit(X_train, y_train)\n",
    "\n",
    "    y_pred = forest.predict(X_test)\n",
    "\n",
    "    print('Accuracy: %.3f' % accuracy_score(y_test, y_pred))\n",
    "    \n",
    "    return y_pred"
   ]
  },
  {
   "cell_type": "code",
   "execution_count": 691,
   "metadata": {},
   "outputs": [],
   "source": [
    "def mat_of_conf(y_test,y_pred,br1,br2):\n",
    "    cm = confusion_matrix(y_test,y_pred)\n",
    "\n",
    "    plt.figure(figsize=(9,9))\n",
    "    sns.heatmap(cm,annot=True, fmt='.3f', linewidths=.5, square=True,cmap='Blues_r')\n",
    "    plt.ylabel('Actual label')\n",
    "    plt.xlabel('Predicted label')\n",
    "    all_sample_title = 'Accuracy Score: {0}'.format(accuracy_score(y_test,y_pred))\n",
    "    plt.title(all_sample_title,size=15)\n",
    "    plt.savefig(\"C:/Users/m.nedeljkovic/Desktop/ses/ses_\" + str(br1) + \"_\" + str(br2) + \".jpeg\")"
   ]
  },
  {
   "cell_type": "code",
   "execution_count": 693,
   "metadata": {},
   "outputs": [
    {
     "name": "stdout",
     "output_type": "stream",
     "text": [
      "Accuracy: 1.000\n"
     ]
    },
    {
     "data": {
      "image/png": "[encoded data removed]",
      "text/plain": [
       "<Figure size 648x648 with 2 Axes>"
      ]
     },
     "metadata": {
      "needs_background": "light"
     },
     "output_type": "display_data"
    }
   ],
   "source": [
    "Forest = RF(X_train, y_train, X_test, y_test)\n",
    "mat_of_conf(y_test,Forest)"
   ]
  },
  {
   "cell_type": "markdown",
   "metadata": {},
   "source": [
    "##### Iterating over different regions"
   ]
  },
  {
   "cell_type": "code",
   "execution_count": null,
   "metadata": {},
   "outputs": [],
   "source": [
    "import warnings\n",
    "warnings.filterwarnings('ignore')\n",
    "from cmath import isnan\n",
    "\n",
    "#putanja = \"C:/Users/Zephyrus/Desktop/cnn data/data\"\n",
    "putanja = \"C:/Users/m.nedeljkovic/Desktop/cnn data/data\"\n",
    "mat_load, roi_load, ind_load, list1, list2, list3, list4 = load_data()\n",
    "\n",
    "for br1 in range(1,13):\n",
    "    for br2 in range(1,13):\n",
    "        if(br1!=br2):\n",
    "            print(\"Trained on region \" + str(br1) + \", and tested on region \" + str(br2))\n",
    "\n",
    "            for file_name in os.listdir(putanja):\n",
    "                # construct full file path\n",
    "                file = putanja + \"/\" + file_name\n",
    "                os.remove(file)\n",
    "\n",
    "            mat_load, roi_load, ind_load, list1, list2, list3, list4 = load_data()\n",
    "            data_per_trial(1, mat_load, roi_load, ind_load, list1, list2, list3, list4)\n",
    "\n",
    "            #niz od podataka za svaku sekvencu (podatak je niz od id-ja, sekvence i labele)\n",
    "            podaci = ucitavanje_podataka(putanja)\n",
    "            vektorizovani_podaci = vektorizacija(podaci)\n",
    "\n",
    "            X_train, y_train, X_test, y_test = podela_podataka(vektorizovani_podaci)\n",
    "            X_train = np.array(X_train, dtype=object)\n",
    "            y_train = np.array(y_train)\n",
    "            X_test = np.array(X_test, dtype=object)\n",
    "            y_test = np.array(y_test)\n",
    "\n",
    "            X_tr = []\n",
    "            for i in X_train:\n",
    "                temp = []\n",
    "                for j in i:\n",
    "                    for k in j:\n",
    "                        if(isnan(k)):\n",
    "                            k = 0\n",
    "                        temp.append(k)\n",
    "                X_tr.append(temp)\n",
    "            X_train = np.array(X_tr, dtype=object)\n",
    "\n",
    "            X_ts = []\n",
    "            for i in X_test:\n",
    "                temp = []\n",
    "                for j in i:\n",
    "                    for k in j:\n",
    "                        if(isnan(k)):\n",
    "                            k = 0\n",
    "                        temp.append(k)\n",
    "                X_ts.append(temp) \n",
    "            X_test = np.array(X_ts, dtype=object)\n",
    "            Forest = RF(X_train, y_train, X_test, y_test)\n",
    "            mat_of_conf(y_test,Forest,br1,br2)\n"
   ]
  },
  {
   "cell_type": "markdown",
   "metadata": {},
   "source": [
    "### Iterating over different sessions knn and rf"
   ]
  },
  {
   "cell_type": "code",
   "execution_count": 696,
   "metadata": {},
   "outputs": [
    {
     "name": "stdout",
     "output_type": "stream",
     "text": [
      "Accuracy: 0.600\n",
      "[17:53:17] WARNING: C:/Users/Administrator/workspace/xgboost-win64_release_1.6.0/src/objective/regression_obj.cu:203: reg:linear is now deprecated in favor of reg:squarederror.\n",
      "KNN:  0.59\n",
      "RF:  0.6\n",
      "XGB:  0.6\n"
     ]
    }
   ],
   "source": [
    "import warnings\n",
    "warnings.filterwarnings('ignore')\n",
    "\n",
    "#putanja = \"C:/Users/Zephyrus/Desktop/cnn data/data\"\n",
    "putanja = \"C:/Users/m.nedeljkovic/Desktop/cnn data/data\"\n",
    "\n",
    "mat_load, roi_load, ind_load, list1, list2, list3, list4 = load_data()\n",
    "\n",
    "for tr in range(1,13):\n",
    "\n",
    "    X_train, X_test, y_train, y_test = [], [], [], []\n",
    "\n",
    "    br1 = 3\n",
    "    for br in [0,1,2]:\n",
    "\n",
    "        for file_name in os.listdir(putanja):\n",
    "            # construct full file path\n",
    "            file = putanja + \"/\" + file_name\n",
    "            os.remove(file)\n",
    "\n",
    "        data_per_ses(tr, br, mat_load, roi_load, ind_load, list1, list2, list3, list4)\n",
    "        podaci = ucitavanje_podataka(putanja)\n",
    "        vektorizovani_podaci = vektorizacija(podaci)\n",
    "        X_train_, y_train_ = podela_podataka_tren(vektorizovani_podaci)\n",
    "        X_tr = []\n",
    "        for i in X_train_:\n",
    "            temp = []\n",
    "            for j in i:\n",
    "                for k in j:\n",
    "                    if(isnan(k)):\n",
    "                        k = 0\n",
    "                    temp.append(k)\n",
    "            X_tr.append(temp)\n",
    "        X_train_ = np.nan_to_num(X_tr)\n",
    "\n",
    "        for mm in X_train_:\n",
    "            X_train.append(mm)\n",
    "        for mm in y_train_:\n",
    "            y_train.append(mm)\n",
    "\n",
    "    for file_name in os.listdir(putanja):\n",
    "        # construct full file path\n",
    "        file = putanja + \"/\" + file_name\n",
    "        os.remove(file)\n",
    "\n",
    "    data_per_ses(tr, br1, mat_load, roi_load, ind_load, list1, list2, list3, list4)\n",
    "    podaci = ucitavanje_podataka(putanja)\n",
    "    vektorizovani_podaci = vektorizacija(podaci)\n",
    "    X_train_, y_train_ = podela_podataka_tren(vektorizovani_podaci)\n",
    "    X_tr = []\n",
    "    for i in X_train_:\n",
    "        temp = []\n",
    "        for j in i:\n",
    "            for k in j:\n",
    "                if(isnan(k)):\n",
    "                    k = 0\n",
    "                temp.append(k)\n",
    "        X_tr.append(temp)\n",
    "    X_train_ = np.nan_to_num(X_tr)\n",
    "\n",
    "    for mm in X_train_:\n",
    "        X_test.append(mm)\n",
    "        \n",
    "    for mm in y_train_:\n",
    "        y_test.append(mm)\n",
    "    \n",
    "    X_train = np.array(X_train, dtype=object)\n",
    "    y_train = np.array(y_train)\n",
    "    X_test = np.array(X_test, dtype=object)\n",
    "    y_test = np.array(y_test)\n",
    "            \n",
    "    knn = OneVsRestClassifier(KNeighborsClassifier())\n",
    "    knn.fit(X_train,y_train)\n",
    "    predictions = knn.predict(X_test)\n",
    "    knn_acc = accuracy_score(y_test,predictions)\n",
    "\n",
    "    Forest = RF(X_train, y_train, X_test, y_test)\n",
    "    rf = accuracy_score(y_test,Forest)\n",
    "\n",
    "    model = xgb.XGBClassifier(objective ='reg:linear', colsample_bytree = 0.3, learning_rate = 0.1, max_depth = 5, alpha = 0.1, n_estimators = 12,  eta=0.05)\n",
    "    model.fit(X_train, y_train)\n",
    "\n",
    "    # make predictions for test set\n",
    "    y_pred = model.predict(X_test)\n",
    "    predictions = [round(value) for value in y_pred]\n",
    "\n",
    "    accuracy = accuracy_score(y_test, predictions)\n",
    "\n",
    "    print(\"KNN: \", knn_acc)\n",
    "    print(\"RF: \", rf)\n",
    "    print(\"XGB: \", accuracy)\n",
    "\n",
    "    break\n"
   ]
  },
  {
   "cell_type": "markdown",
   "metadata": {},
   "source": [
    "# Classification on 5 different speakers"
   ]
  },
  {
   "cell_type": "markdown",
   "metadata": {},
   "source": [
    "#### Data preparation"
   ]
  },
  {
   "cell_type": "code",
   "execution_count": 18,
   "metadata": {},
   "outputs": [],
   "source": [
    "def ucitavanje_sp(directory):\n",
    "    id = 0\n",
    "    data = []\n",
    "    for filename in os.listdir(directory):\n",
    "        f = os.path.join(directory, filename)\n",
    "        label = [int(f.split(\"\\\\\")[-1][-5:-4])]\n",
    "        id = id + 1\n",
    "        dat = np.load(f)\n",
    "        data.append([id, dat, label])\n",
    "    \n",
    "    #random.seed(2)\n",
    "    random.shuffle(data)\n",
    "    return data      "
   ]
  },
  {
   "cell_type": "code",
   "execution_count": 19,
   "metadata": {},
   "outputs": [],
   "source": [
    "def podela_podataka_sp(data_vectors):\n",
    "    \n",
    "    max = 0\n",
    "    for i in range(0,len(data_vectors)):\n",
    "        if(data_vectors[i][1].shape[0] > max):\n",
    "            max = data_vectors[i][1].shape[0]\n",
    "\n",
    "    max_norm = 0\n",
    "    min_norm = 50\n",
    "    for a in data_vectors:\n",
    "        for x in a[1]:\n",
    "            for y in x:\n",
    "                if(y > max_norm):\n",
    "                    max_norm = y\n",
    "                if(y < min_norm):\n",
    "                    min_norm = y\n",
    "\n",
    "    for a in range(0, len(data_vectors)):\n",
    "        for x in range(0, len(data_vectors[a][1])):\n",
    "            for y in range(0, len(data_vectors[a][1][x])):\n",
    "                data_vectors[a][1][x][y] = (data_vectors[a][1][x][y] - min_norm) / (max_norm - min_norm)\n",
    "\n",
    "\n",
    "    X_train, y_train, X_test, y_test = np.empty([1, max, data_vectors[0][1].shape[1]]), [], np.empty([1, max, data_vectors[0][1].shape[1]]),[]\n",
    "    \n",
    "    i1,i2,i3,i4,i5 = 0,0,0,0,0\n",
    "\n",
    "    random.shuffle(data_vectors)\n",
    "    for item in data_vectors:\n",
    "\n",
    "        if item[2]==[0]:\n",
    "            i1 = i1 + 1\n",
    "            if i1 <= 50:\n",
    "                if(np.array(item[1]).shape[0] < max):\n",
    "                    item[1] = np.pad(item[1], [(0, max-np.array(item[1]).shape[0]), (0, 0)], mode='constant' , constant_values=0)\n",
    "                X_test = np.append(X_test, item[1].reshape(1, item[1].shape[0], item[1].shape[1]), axis=0)\n",
    "                y_test.append([0])\n",
    "                #y_test.append(random.choice([[0], [1]]))\n",
    "            else:\n",
    "                if(np.array(item[1]).shape[0] < max):\n",
    "                    item[1] = np.pad(item[1], [(0, max-np.array(item[1]).shape[0]), (0, 0)], mode='constant', constant_values=0)\n",
    "                X_train = np.append(X_train, item[1].reshape(1, item[1].shape[0], item[1].shape[1]), axis=0)\n",
    "                y_train.append([0])\n",
    "            '''\n",
    "            elif item[2]==[1]:\n",
    "                i2 = i2 + 1\n",
    "                if  i2 <= 50:\n",
    "                    if(np.array(item[1]).shape[0] < max):\n",
    "                        item[1] = np.pad(item[1], [(0, max-np.array(item[1]).shape[0]), (0, 0)], mode='constant', constant_values=0)\n",
    "                    X_test = np.append(X_test, item[1].reshape(1, item[1].shape[0], item[1].shape[1]), axis=0)\n",
    "                    y_test.append(item[2])\n",
    "                    #y_test.append(random.choice([[0], [1]]))\n",
    "                else:\n",
    "                    if(np.array(item[1]).shape[0] < max):\n",
    "                        item[1] = np.pad(item[1], [(0, max-np.array(item[1]).shape[0]), (0, 0)], mode='constant', constant_values=0)\n",
    "                    X_train = np.append(X_train, item[1].reshape(1, item[1].shape[0], item[1].shape[1]), axis=0)\n",
    "                    y_train.append(item[2])\n",
    "            elif item[2]==[2]:\n",
    "                i3 = i3 + 1\n",
    "                if  i3 <= 50:\n",
    "                    if(np.array(item[1]).shape[0] < max):\n",
    "                        item[1] = np.pad(item[1], [(0, max-np.array(item[1]).shape[0]), (0, 0)], mode='constant', constant_values=0)\n",
    "                    X_test = np.append(X_test, item[1].reshape(1, item[1].shape[0], item[1].shape[1]), axis=0)\n",
    "                    y_test.append(item[2])\n",
    "                    #y_test.append(random.choice([[0], [1]]))\n",
    "                else:\n",
    "                    if(np.array(item[1]).shape[0] < max):\n",
    "                        item[1] = np.pad(item[1], [(0, max-np.array(item[1]).shape[0]), (0, 0)], mode='constant', constant_values=0)\n",
    "                    X_train = np.append(X_train, item[1].reshape(1, item[1].shape[0], item[1].shape[1]), axis=0)\n",
    "                    y_train.append(item[2])\n",
    "                '''\n",
    "        elif item[2]==[4]:\n",
    "            i4 = i4 + 1\n",
    "            if  i4 <= 50:\n",
    "                if(np.array(item[1]).shape[0] < max):\n",
    "                    item[1] = np.pad(item[1], [(0, max-np.array(item[1]).shape[0]), (0, 0)], mode='constant', constant_values=0)\n",
    "                X_test = np.append(X_test, item[1].reshape(1, item[1].shape[0], item[1].shape[1]), axis=0)\n",
    "                y_test.append([1])\n",
    "                #y_test.append(random.choice([[0], [1]]))\n",
    "            else:\n",
    "                if(np.array(item[1]).shape[0] < max):\n",
    "                    item[1] = np.pad(item[1], [(0, max-np.array(item[1]).shape[0]), (0, 0)], mode='constant', constant_values=0)\n",
    "                X_train = np.append(X_train, item[1].reshape(1, item[1].shape[0], item[1].shape[1]), axis=0)\n",
    "                y_train.append([1])\n",
    "        '''\n",
    "        else:\n",
    "            i5 = i5 + 1\n",
    "            if  i5 <= 50:\n",
    "                if(np.array(item[1]).shape[0] < max):\n",
    "                    item[1] = np.pad(item[1], [(0, max-np.array(item[1]).shape[0]), (0, 0)], mode='constant', constant_values=0)\n",
    "                X_test = np.append(X_test, item[1].reshape(1, item[1].shape[0], item[1].shape[1]), axis=0)\n",
    "                y_test.append(item[2])\n",
    "                #y_test.append(random.choice([[0], [1]]))\n",
    "            else:\n",
    "                if(np.array(item[1]).shape[0] < max):\n",
    "                    item[1] = np.pad(item[1], [(0, max-np.array(item[1]).shape[0]), (0, 0)], mode='constant', constant_values=0)\n",
    "                X_train = np.append(X_train, item[1].reshape(1, item[1].shape[0], item[1].shape[1]), axis=0)\n",
    "                y_train.append(item[2])\n",
    "        '''\n",
    "    \n",
    "    X_train = np.array(X_train[1:])\n",
    "    y_train = np.array(y_train)\n",
    "    X_test = np.array(X_test[1:])\n",
    "    y_test = np.array(y_test)\n",
    "    \n",
    "    return X_train, y_train, X_test, y_test"
   ]
  },
  {
   "cell_type": "markdown",
   "metadata": {},
   "source": [
    "#### Test / Train set"
   ]
  },
  {
   "cell_type": "code",
   "execution_count": 52,
   "metadata": {},
   "outputs": [],
   "source": [
    "putanja = \"C:/Users/Zephyrus/Desktop/cnn data/data\"\n",
    "#putanja = \"C:/Users/m.nedeljkovic/Desktop/cnn data/data\"\n",
    "#niz od podataka za svaku sekvencu (podatak je niz od id-ja, sekvence i labele)\n",
    "podaci = ucitavanje_sp(putanja)\n",
    "X_train, y_train, X_test, y_test = podela_podataka_sp(podaci)\n",
    "\n",
    "X_train = np.array(X_train, dtype=object)\n",
    "y_train = np.array(y_train)\n",
    "X_test = np.array(X_test, dtype=object)\n",
    "y_test = np.array(y_test)"
   ]
  },
  {
   "cell_type": "code",
   "execution_count": 53,
   "metadata": {},
   "outputs": [],
   "source": [
    "X_tr = []\n",
    "for i in X_train:\n",
    "    temp = []\n",
    "    for j in i:\n",
    "        for k in j:\n",
    "            if(isnan(k)):\n",
    "                k = 0\n",
    "            temp.append(k)\n",
    "    X_tr.append(temp)\n",
    "X_train = np.array(X_tr, dtype=object)\n",
    "\n",
    "X_ts = []\n",
    "for i in X_test:\n",
    "    temp = []\n",
    "    for j in i:\n",
    "        for k in j:\n",
    "            if(isnan(k)):\n",
    "                k = 0\n",
    "            temp.append(k)\n",
    "    X_ts.append(temp) \n",
    "X_test = np.array(X_ts, dtype=object)"
   ]
  },
  {
   "cell_type": "markdown",
   "metadata": {},
   "source": [
    "### KNN"
   ]
  },
  {
   "cell_type": "code",
   "execution_count": 54,
   "metadata": {},
   "outputs": [
    {
     "data": {
      "text/html": [
       "<style>#sk-container-id-3 {color: black;background-color: white;}#sk-container-id-3 pre{padding: 0;}#sk-container-id-3 div.sk-toggleable {background-color: white;}#sk-container-id-3 label.sk-toggleable__label {cursor: pointer;display: block;width: 100%;margin-bottom: 0;padding: 0.3em;box-sizing: border-box;text-align: center;}#sk-container-id-3 label.sk-toggleable__label-arrow:before {content: \"▸\";float: left;margin-right: 0.25em;color: #696969;}#sk-container-id-3 label.sk-toggleable__label-arrow:hover:before {color: black;}#sk-container-id-3 div.sk-estimator:hover label.sk-toggleable__label-arrow:before {color: black;}#sk-container-id-3 div.sk-toggleable__content {max-height: 0;max-width: 0;overflow: hidden;text-align: left;background-color: #f0f8ff;}#sk-container-id-3 div.sk-toggleable__content pre {margin: 0.2em;color: black;border-radius: 0.25em;background-color: #f0f8ff;}#sk-container-id-3 input.sk-toggleable__control:checked~div.sk-toggleable__content {max-height: 200px;max-width: 100%;overflow: auto;}#sk-container-id-3 input.sk-toggleable__control:checked~label.sk-toggleable__label-arrow:before {content: \"▾\";}#sk-container-id-3 div.sk-estimator input.sk-toggleable__control:checked~label.sk-toggleable__label {background-color: #d4ebff;}#sk-container-id-3 div.sk-label input.sk-toggleable__control:checked~label.sk-toggleable__label {background-color: #d4ebff;}#sk-container-id-3 input.sk-hidden--visually {border: 0;clip: rect(1px 1px 1px 1px);clip: rect(1px, 1px, 1px, 1px);height: 1px;margin: -1px;overflow: hidden;padding: 0;position: absolute;width: 1px;}#sk-container-id-3 div.sk-estimator {font-family: monospace;background-color: #f0f8ff;border: 1px dotted black;border-radius: 0.25em;box-sizing: border-box;margin-bottom: 0.5em;}#sk-container-id-3 div.sk-estimator:hover {background-color: #d4ebff;}#sk-container-id-3 div.sk-parallel-item::after {content: \"\";width: 100%;border-bottom: 1px solid gray;flex-grow: 1;}#sk-container-id-3 div.sk-label:hover label.sk-toggleable__label {background-color: #d4ebff;}#sk-container-id-3 div.sk-serial::before {content: \"\";position: absolute;border-left: 1px solid gray;box-sizing: border-box;top: 0;bottom: 0;left: 50%;z-index: 0;}#sk-container-id-3 div.sk-serial {display: flex;flex-direction: column;align-items: center;background-color: white;padding-right: 0.2em;padding-left: 0.2em;position: relative;}#sk-container-id-3 div.sk-item {position: relative;z-index: 1;}#sk-container-id-3 div.sk-parallel {display: flex;align-items: stretch;justify-content: center;background-color: white;position: relative;}#sk-container-id-3 div.sk-item::before, #sk-container-id-3 div.sk-parallel-item::before {content: \"\";position: absolute;border-left: 1px solid gray;box-sizing: border-box;top: 0;bottom: 0;left: 50%;z-index: -1;}#sk-container-id-3 div.sk-parallel-item {display: flex;flex-direction: column;z-index: 1;position: relative;background-color: white;}#sk-container-id-3 div.sk-parallel-item:first-child::after {align-self: flex-end;width: 50%;}#sk-container-id-3 div.sk-parallel-item:last-child::after {align-self: flex-start;width: 50%;}#sk-container-id-3 div.sk-parallel-item:only-child::after {width: 0;}#sk-container-id-3 div.sk-dashed-wrapped {border: 1px dashed gray;margin: 0 0.4em 0.5em 0.4em;box-sizing: border-box;padding-bottom: 0.4em;background-color: white;}#sk-container-id-3 div.sk-label label {font-family: monospace;font-weight: bold;display: inline-block;line-height: 1.2em;}#sk-container-id-3 div.sk-label-container {text-align: center;}#sk-container-id-3 div.sk-container {/* jupyter's `normalize.less` sets `[hidden] { display: none; }` but bootstrap.min.css set `[hidden] { display: none !important; }` so we also need the `!important` here to be able to override the default hidden behavior on the sphinx rendered scikit-learn.org. See: https://github.com/scikit-learn/scikit-learn/issues/21755 */display: inline-block !important;position: relative;}#sk-container-id-3 div.sk-text-repr-fallback {display: none;}</style><div id=\"sk-container-id-3\" class=\"sk-top-container\"><div class=\"sk-text-repr-fallback\"><pre>OneVsRestClassifier(estimator=KNeighborsClassifier())</pre><b>In a Jupyter environment, please rerun this cell to show the HTML representation or trust the notebook. <br />On GitHub, the HTML representation is unable to render, please try loading this page with nbviewer.org.</b></div><div class=\"sk-container\" hidden><div class=\"sk-item sk-dashed-wrapped\"><div class=\"sk-label-container\"><div class=\"sk-label sk-toggleable\"><input class=\"sk-toggleable__control sk-hidden--visually\" id=\"sk-estimator-id-7\" type=\"checkbox\" ><label for=\"sk-estimator-id-7\" class=\"sk-toggleable__label sk-toggleable__label-arrow\">OneVsRestClassifier</label><div class=\"sk-toggleable__content\"><pre>OneVsRestClassifier(estimator=KNeighborsClassifier())</pre></div></div></div><div class=\"sk-parallel\"><div class=\"sk-parallel-item\"><div class=\"sk-item\"><div class=\"sk-label-container\"><div class=\"sk-label sk-toggleable\"><input class=\"sk-toggleable__control sk-hidden--visually\" id=\"sk-estimator-id-8\" type=\"checkbox\" ><label for=\"sk-estimator-id-8\" class=\"sk-toggleable__label sk-toggleable__label-arrow\">estimator: KNeighborsClassifier</label><div class=\"sk-toggleable__content\"><pre>KNeighborsClassifier()</pre></div></div></div><div class=\"sk-serial\"><div class=\"sk-item\"><div class=\"sk-estimator sk-toggleable\"><input class=\"sk-toggleable__control sk-hidden--visually\" id=\"sk-estimator-id-9\" type=\"checkbox\" ><label for=\"sk-estimator-id-9\" class=\"sk-toggleable__label sk-toggleable__label-arrow\">KNeighborsClassifier</label><div class=\"sk-toggleable__content\"><pre>KNeighborsClassifier()</pre></div></div></div></div></div></div></div></div></div></div>"
      ],
      "text/plain": [
       "OneVsRestClassifier(estimator=KNeighborsClassifier())"
      ]
     },
     "execution_count": 54,
     "metadata": {},
     "output_type": "execute_result"
    }
   ],
   "source": [
    "knn = OneVsRestClassifier(KNeighborsClassifier())\n",
    "knn.fit(X_train,y_train)"
   ]
  },
  {
   "cell_type": "code",
   "execution_count": 55,
   "metadata": {},
   "outputs": [],
   "source": [
    "predictions = knn.predict(X_test)"
   ]
  },
  {
   "cell_type": "code",
   "execution_count": 56,
   "metadata": {},
   "outputs": [
    {
     "name": "stdout",
     "output_type": "stream",
     "text": [
      "KNN Accuracy: 0.680\n"
     ]
    }
   ],
   "source": [
    "print('KNN Accuracy: %.3f' % accuracy_score(y_test,predictions))"
   ]
  },
  {
   "cell_type": "code",
   "execution_count": 57,
   "metadata": {},
   "outputs": [
    {
     "data": {
      "text/plain": [
       "Text(0.5, 1.0, 'Accuracy Score: 0.68')"
      ]
     },
     "execution_count": 57,
     "metadata": {},
     "output_type": "execute_result"
    },
    {
     "data": {
      "image/png": "[encoded data removed]",
      "text/plain": [
       "<Figure size 648x648 with 2 Axes>"
      ]
     },
     "metadata": {
      "needs_background": "light"
     },
     "output_type": "display_data"
    }
   ],
   "source": [
    "cm = confusion_matrix(y_test,predictions)\n",
    "plt.figure(figsize=(9,9))\n",
    "sns.heatmap(cm,annot=True, fmt='.3f', linewidths=.5, square=True,cmap='Blues_r')\n",
    "plt.ylabel('Actual label')\n",
    "plt.xlabel('Predicted label')\n",
    "all_sample_title = 'Accuracy Score: {0}'.format(accuracy_score(y_test,predictions))\n",
    "plt.title(all_sample_title,size=15)"
   ]
  },
  {
   "cell_type": "markdown",
   "metadata": {},
   "source": [
    "### Random Forest"
   ]
  },
  {
   "cell_type": "code",
   "execution_count": 58,
   "metadata": {},
   "outputs": [],
   "source": [
    "def RF(X_train, y_train, X_test, y_test):\n",
    "    forest = RandomForestClassifier(criterion='gini',\n",
    "                                    n_estimators=5,\n",
    "                                    random_state=1,\n",
    "                                    n_jobs=2)\n",
    "    forest.fit(X_train, y_train)\n",
    "    y_pred = forest.predict(X_test)\n",
    "    print('Accuracy: %.3f' % accuracy_score(y_test, y_pred))\n",
    "    return y_pred"
   ]
  },
  {
   "cell_type": "code",
   "execution_count": 59,
   "metadata": {},
   "outputs": [],
   "source": [
    "def mat_of_conf(y_test,y_pred):\n",
    "    cm = confusion_matrix(y_test,y_pred)\n",
    "    plt.figure(figsize=(9,9))\n",
    "    sns.heatmap(cm,annot=True, fmt='.3f', linewidths=.5, square=True,cmap='Blues_r')\n",
    "    plt.ylabel('Actual label')\n",
    "    plt.xlabel('Predicted label')\n",
    "    all_sample_title = 'Accuracy Score: {0}'.format(accuracy_score(y_test,y_pred))\n",
    "    plt.title(all_sample_title,size=15)\n",
    "    plt.show()"
   ]
  },
  {
   "cell_type": "code",
   "execution_count": 60,
   "metadata": {},
   "outputs": [
    {
     "name": "stderr",
     "output_type": "stream",
     "text": [
      "<ipython-input-58-c49a94840cfd>:6: DataConversionWarning: A column-vector y was passed when a 1d array was expected. Please change the shape of y to (n_samples,), for example using ravel().\n",
      "  forest.fit(X_train, y_train)\n"
     ]
    },
    {
     "name": "stdout",
     "output_type": "stream",
     "text": [
      "Accuracy: 0.600\n"
     ]
    },
    {
     "data": {
      "image/png": "[encoded data removed]",
      "text/plain": [
       "<Figure size 648x648 with 2 Axes>"
      ]
     },
     "metadata": {
      "needs_background": "light"
     },
     "output_type": "display_data"
    }
   ],
   "source": [
    "Forest = RF(X_train, y_train, X_test, y_test)\n",
    "mat_of_conf(y_test,Forest)"
   ]
  },
  {
   "cell_type": "markdown",
   "metadata": {},
   "source": [
    "### XG boost"
   ]
  },
  {
   "cell_type": "code",
   "execution_count": 61,
   "metadata": {},
   "outputs": [
    {
     "name": "stdout",
     "output_type": "stream",
     "text": [
      "[02:59:19] WARNING: C:/Users/Administrator/workspace/xgboost-win64_release_1.5.1/src/objective/regression_obj.cu:188: reg:linear is now deprecated in favor of reg:squarederror.\n",
      "[0]\tvalidation_0-logloss:0.64351\tvalidation_1-logloss:0.67752\n"
     ]
    },
    {
     "name": "stderr",
     "output_type": "stream",
     "text": [
      "c:\\Users\\Zephyrus\\anaconda3\\lib\\site-packages\\xgboost\\sklearn.py:1224: UserWarning: The use of label encoder in XGBClassifier is deprecated and will be removed in a future release. To remove this warning, do the following: 1) Pass option use_label_encoder=False when constructing XGBClassifier object; and 2) Encode your labels (y) as integers starting with 0, i.e. 0, 1, 2, ..., [num_class - 1].\n",
      "  warnings.warn(label_encoder_deprecation_msg, UserWarning)\n",
      "c:\\Users\\Zephyrus\\anaconda3\\lib\\site-packages\\sklearn\\preprocessing\\_label.py:98: DataConversionWarning: A column-vector y was passed when a 1d array was expected. Please change the shape of y to (n_samples, ), for example using ravel().\n",
      "  y = column_or_1d(y, warn=True)\n",
      "c:\\Users\\Zephyrus\\anaconda3\\lib\\site-packages\\sklearn\\preprocessing\\_label.py:133: DataConversionWarning: A column-vector y was passed when a 1d array was expected. Please change the shape of y to (n_samples, ), for example using ravel().\n",
      "  y = column_or_1d(y, warn=True)\n"
     ]
    },
    {
     "name": "stdout",
     "output_type": "stream",
     "text": [
      "[1]\tvalidation_0-logloss:0.59955\tvalidation_1-logloss:0.66545\n",
      "[2]\tvalidation_0-logloss:0.55263\tvalidation_1-logloss:0.65716\n",
      "[3]\tvalidation_0-logloss:0.52123\tvalidation_1-logloss:0.65175\n",
      "[4]\tvalidation_0-logloss:0.48835\tvalidation_1-logloss:0.64918\n",
      "[5]\tvalidation_0-logloss:0.45626\tvalidation_1-logloss:0.64723\n",
      "[6]\tvalidation_0-logloss:0.43343\tvalidation_1-logloss:0.64033\n",
      "[7]\tvalidation_0-logloss:0.41140\tvalidation_1-logloss:0.64181\n",
      "[8]\tvalidation_0-logloss:0.39001\tvalidation_1-logloss:0.64199\n",
      "[9]\tvalidation_0-logloss:0.36946\tvalidation_1-logloss:0.64043\n",
      "[10]\tvalidation_0-logloss:0.35372\tvalidation_1-logloss:0.63750\n",
      "[11]\tvalidation_0-logloss:0.34116\tvalidation_1-logloss:0.64129\n",
      "[12]\tvalidation_0-logloss:0.32685\tvalidation_1-logloss:0.64472\n",
      "[13]\tvalidation_0-logloss:0.31508\tvalidation_1-logloss:0.64450\n",
      "[14]\tvalidation_0-logloss:0.30415\tvalidation_1-logloss:0.64705\n",
      "Accuracy: 0.720\n"
     ]
    },
    {
     "data": {
      "image/png": "[encoded data removed]",
      "text/plain": [
       "<Figure size 432x288 with 1 Axes>"
      ]
     },
     "metadata": {
      "needs_background": "light"
     },
     "output_type": "display_data"
    }
   ],
   "source": [
    "eval = [(X_train, y_train),(X_test, y_test)]\n",
    "classif = xgb.XGBClassifier(objective ='reg:linear', colsample_bytree = 0.3, learning_rate = 0.1, max_depth = 5, alpha = 0.1, n_estimators = 15,  eta=0.05)\n",
    "classif.fit(X_train,y_train, eval_set = eval, eval_metric='logloss')\n",
    "preds = classif.predict(X_test)\n",
    "score = accuracy_score(y_test, preds)\n",
    "print('Accuracy: %.3f' % score)\n",
    "results = classif.evals_result()\n",
    "# plot learning curves\n",
    "plt.plot(results['validation_0']['logloss'], label='train')\n",
    "plt.plot(results['validation_1']['logloss'], label='test')\n",
    "plt.legend()\n",
    "plt.show()"
   ]
  },
  {
   "cell_type": "code",
   "execution_count": null,
   "metadata": {},
   "outputs": [],
   "source": [
    "from xgboost import XGBClassifier\n",
    "from sklearn.metrics import accuracy_score\n",
    "\n",
    "#instantiate model and train\n",
    "model = xgb.XGBClassifier(objective ='reg:linear', colsample_bytree = 0.3, learning_rate = 0.1, max_depth = 5, alpha = 0.1, n_estimators = 20,  eta=0.05)\n",
    "model.fit(X_train, y_train)\n",
    "\n",
    "# make predictions for test set\n",
    "y_pred = model.predict(X_test)\n",
    "predictions = [round(value) for value in y_pred]\n",
    "\n",
    "accuracy = accuracy_score(y_test, predictions)\n",
    "print(\"Accuracy: %.2f%%\" % (accuracy * 100.0))"
   ]
  },
  {
   "cell_type": "code",
   "execution_count": 63,
   "metadata": {},
   "outputs": [
    {
     "data": {
      "image/png": "[encoded data removed]",
      "text/plain": [
       "<Figure size 432x288 with 1 Axes>"
      ]
     },
     "metadata": {
      "needs_background": "light"
     },
     "output_type": "display_data"
    }
   ],
   "source": [
    "from turtle import width\n",
    "from xgboost import plot_importance\n",
    "import matplotlib.pyplot as plt\n",
    "\n",
    "# plot feature importance\n",
    "plot_importance(model, max_num_features=10)\n",
    "plt.show()\n",
    "\n",
    "x = model.feature_importances_"
   ]
  },
  {
   "cell_type": "code",
   "execution_count": 64,
   "metadata": {},
   "outputs": [
    {
     "data": {
      "text/plain": [
       "0.042291746"
      ]
     },
     "execution_count": 64,
     "metadata": {},
     "output_type": "execute_result"
    }
   ],
   "source": [
    "max(x)"
   ]
  },
  {
   "cell_type": "markdown",
   "metadata": {},
   "source": [
    "# Classification on 5 different speakers / all regions"
   ]
  },
  {
   "cell_type": "markdown",
   "metadata": {},
   "source": [
    "#### Data preparation"
   ]
  },
  {
   "cell_type": "code",
   "execution_count": 5,
   "metadata": {},
   "outputs": [],
   "source": [
    "def ucitavanje_sp(directory):\n",
    "    id = 0\n",
    "    t1, t2, t3, t4, t5, t6, t7, t8, t9, t10, t11, t12 = [], [], [], [], [], [], [], [], [], [], [], []\n",
    "    data = []\n",
    "\n",
    "    for filename in os.listdir(directory):\n",
    "        f = os.path.join(directory, filename)\n",
    "        tr = int(f.split(\"\\\\\")[-1][-10:-8])\n",
    "        dat = np.load(f)\n",
    "        label = [int(f.split(\"\\\\\")[-1][-5:-4])]\n",
    "        if tr == 1:\n",
    "            t1.append([dat, label])\n",
    "        elif  tr == 2:\n",
    "            t2.append([dat, label])\n",
    "        elif  tr == 3:\n",
    "            t3.append([dat, label])\n",
    "        elif  tr == 4:\n",
    "            t4.append([dat, label])\n",
    "        elif  tr == 5:\n",
    "            t5.append([dat, label])\n",
    "        elif  tr == 6:\n",
    "            t6.append([dat, label])\n",
    "        elif  tr == 7:\n",
    "            t7.append([dat, label])\n",
    "        elif  tr == 8:\n",
    "            t8.append([dat, label])\n",
    "        elif  tr == 9:\n",
    "            t9.append([dat, label])\n",
    "        elif  tr == 10:\n",
    "            t10.append([dat, label])\n",
    "        elif  tr == 11:\n",
    "            t11.append([dat, label])\n",
    "        else:\n",
    "            t12.append([dat, label])\n",
    "\n",
    "    for x in range(0,len(t1)):\n",
    "        dd = np.concatenate((np.concatenate((np.concatenate((np.concatenate((np.concatenate((np.concatenate((np.concatenate((np.concatenate((np.concatenate((np.concatenate((np.concatenate((t1[x][0], t2[x][0])), t3[x][0])), t4[x][0])), t5[x][0])), t6[x][0])), t7[x][0])), t8[x][0])), t9[x][0])), t10[x][0])), t11[x][0])), t12[x][0]))\n",
    "        line = [id, dd, t1[x][1]]\n",
    "        data.append(line)\n",
    "        id = id+1\n",
    "    \n",
    "    #random.seed(2)\n",
    "    random.shuffle(data)\n",
    "    return data      "
   ]
  },
  {
   "cell_type": "code",
   "execution_count": 6,
   "metadata": {},
   "outputs": [],
   "source": [
    "def podela_podataka_sp(data_vectors):\n",
    "    \n",
    "    max = 0\n",
    "    for i in range(0,len(data_vectors)):\n",
    "        if(data_vectors[i][1].shape[0] > max):\n",
    "            max = data_vectors[i][1].shape[0]\n",
    "\n",
    "    max_norm = 0\n",
    "    min_norm = 50\n",
    "    for a in data_vectors:\n",
    "        for x in a[1]:\n",
    "            for y in x:\n",
    "                if(y > max_norm):\n",
    "                    max_norm = y\n",
    "                if(y < min_norm):\n",
    "                    min_norm = y\n",
    "\n",
    "    for a in range(0, len(data_vectors)):\n",
    "        for x in range(0, len(data_vectors[a][1])):\n",
    "            for y in range(0, len(data_vectors[a][1][x])):\n",
    "                data_vectors[a][1][x][y] = (data_vectors[a][1][x][y] - min_norm) / (max_norm - min_norm)\n",
    "\n",
    "\n",
    "    y_train, y_test, X_tr, X_ts = [], [], [], []\n",
    "    \n",
    "    i1,i2,i3,i4,i5 = 0,0,0,0,0\n",
    "\n",
    "    random.shuffle(data_vectors)\n",
    "\n",
    "    for item in data_vectors:\n",
    "\n",
    "        if item[2]==[0]:\n",
    "            i1 = i1 + 1\n",
    "            if i1 <= 50:\n",
    "                if(np.array(item[1]).shape[0] < max):\n",
    "                    item[1] = np.pad(item[1], [(0, max-np.array(item[1]).shape[0]), (0, 0)], mode='constant' , constant_values=0)\n",
    "\n",
    "                X_test = item[1].reshape(1, item[1].shape[0], item[1].shape[1])\n",
    "                temp = []\n",
    "                for i in X_test:\n",
    "                    for j in i:\n",
    "                        for k in j:\n",
    "                            if(isnan(k)):\n",
    "                                k = 0\n",
    "                            temp.append(k)\n",
    "                    X_ts.append(temp) \n",
    "\n",
    "                y_test.append(item[2])\n",
    "                #y_test.append(random.choice([[0], [1]]))\n",
    "            else:\n",
    "                if(np.array(item[1]).shape[0] < max):\n",
    "                    item[1] = np.pad(item[1], [(0, max-np.array(item[1]).shape[0]), (0, 0)], mode='constant', constant_values=0)\n",
    "\n",
    "                X_train = item[1].reshape(1, item[1].shape[0], item[1].shape[1])\n",
    "                temp = []\n",
    "                for i in X_train:\n",
    "                    for j in i:\n",
    "                        for k in j:\n",
    "                            if(isnan(k)):\n",
    "                                k = 0\n",
    "                            temp.append(k)\n",
    "                    X_tr.append(temp)\n",
    "\n",
    "                y_train.append(item[2])\n",
    "                #y_test.append(random.choice([[0], [1]]))\n",
    "            '''      \n",
    "            elif item[2]==[1]:\n",
    "                i2 = i2 + 1\n",
    "                if  i2 <= 200:\n",
    "                    if(np.array(item[1]).shape[0] < max):\n",
    "                        item[1] = np.pad(item[1], [(0, max-np.array(item[1]).shape[0]), (0, 0)], mode='constant', constant_values=0)\n",
    "                    \n",
    "                    X_test = item[1].reshape(1, item[1].shape[0], item[1].shape[1])\n",
    "                    temp = []\n",
    "                    for i in X_test:\n",
    "                        for j in i:\n",
    "                            for k in j:\n",
    "                                if(isnan(k)):\n",
    "                                    k = 0\n",
    "                                temp.append(k)\n",
    "                        X_ts.append(temp) \n",
    "\n",
    "                    y_test.append(item[2])\n",
    "                    #y_test.append(random.choice([[0], [1]]))\n",
    "                else:\n",
    "                    if(np.array(item[1]).shape[0] < max):\n",
    "                        item[1] = np.pad(item[1], [(0, max-np.array(item[1]).shape[0]), (0, 0)], mode='constant', constant_values=0)\n",
    "                    \n",
    "                    X_train = item[1].reshape(1, item[1].shape[0], item[1].shape[1])\n",
    "                    temp = []\n",
    "                    for i in X_train:\n",
    "                        for j in i:\n",
    "                            for k in j:\n",
    "                                if(isnan(k)):\n",
    "                                    k = 0\n",
    "                                temp.append(k)\n",
    "                        X_tr.append(temp)\n",
    "\n",
    "                    y_train.append(item[2])\n",
    "                    #y_test.append(random.choice([[0], [1]]))\n",
    "            elif item[2]==[2]:\n",
    "                i3 = i3 + 1\n",
    "                if  i3 <= 200:\n",
    "                    if(np.array(item[1]).shape[0] < max):\n",
    "                        item[1] = np.pad(item[1], [(0, max-np.array(item[1]).shape[0]), (0, 0)], mode='constant', constant_values=0)\n",
    "                    \n",
    "                    X_test = item[1].reshape(1, item[1].shape[0], item[1].shape[1])\n",
    "                    temp = []\n",
    "                    for i in X_test:\n",
    "                        for j in i:\n",
    "                            for k in j:\n",
    "                                if(isnan(k)):\n",
    "                                    k = 0\n",
    "                                temp.append(k)\n",
    "                        X_ts.append(temp) \n",
    "\n",
    "                    y_test.append(item[2])\n",
    "                    #y_test.append(random.choice([[0], [1]]))\n",
    "                else:\n",
    "                    if(np.array(item[1]).shape[0] < max):\n",
    "                        item[1] = np.pad(item[1], [(0, max-np.array(item[1]).shape[0]), (0, 0)], mode='constant', constant_values=0)\n",
    "                    \n",
    "                    X_train = item[1].reshape(1, item[1].shape[0], item[1].shape[1])\n",
    "                    temp = []\n",
    "                    for i in X_train:\n",
    "                        for j in i:\n",
    "                            for k in j:\n",
    "                                if(isnan(k)):\n",
    "                                    k = 0\n",
    "                                temp.append(k)\n",
    "                        X_tr.append(temp)\n",
    "\n",
    "                    y_train.append(item[2])\n",
    "                    #y_test.append(random.choice([[0], [1]]))\n",
    "            elif item[2]==[4]:\n",
    "                i4 = i4 + 1\n",
    "                if  i4 <= 200:\n",
    "                    if(np.array(item[1]).shape[0] < max):\n",
    "                        item[1] = np.pad(item[1], [(0, max-np.array(item[1]).shape[0]), (0, 0)], mode='constant', constant_values=0)\n",
    "                    \n",
    "                    X_test = item[1].reshape(1, item[1].shape[0], item[1].shape[1])\n",
    "                    temp = []\n",
    "                    for i in X_test:\n",
    "                        for j in i:\n",
    "                            for k in j:\n",
    "                                if(isnan(k)):\n",
    "                                    k = 0\n",
    "                                temp.append(k)\n",
    "                        X_ts.append(temp) \n",
    "\n",
    "                    y_test.append(item[2])\n",
    "                    #y_test.append(random.choice([[0], [1]]))\n",
    "                else:\n",
    "                    if(np.array(item[1]).shape[0] < max):\n",
    "                        item[1] = np.pad(item[1], [(0, max-np.array(item[1]).shape[0]), (0, 0)], mode='constant', constant_values=0)\n",
    "                    \n",
    "                    X_train = item[1].reshape(1, item[1].shape[0], item[1].shape[1])\n",
    "                    temp = []\n",
    "                    for i in X_train:\n",
    "                        for j in i:\n",
    "                            for k in j:\n",
    "                                if(isnan(k)):\n",
    "                                    k = 0\n",
    "                                temp.append(k)\n",
    "                        X_tr.append(temp)\n",
    "\n",
    "                    y_train.append(item[2])\n",
    "                    #y_test.append(random.choice([[0], [1]]))\n",
    "            '''  \n",
    "        elif item[2]==[4]:\n",
    "            i5 = i5 + 1\n",
    "            if  i5 <= 50:\n",
    "                if(np.array(item[1]).shape[0] < max):\n",
    "                    item[1] = np.pad(item[1], [(0, max-np.array(item[1]).shape[0]), (0, 0)], mode='constant', constant_values=0)\n",
    "                \n",
    "                X_test = item[1].reshape(1, item[1].shape[0], item[1].shape[1])\n",
    "                temp = []\n",
    "                for i in X_test:\n",
    "                    for j in i:\n",
    "                        for k in j:\n",
    "                            if(isnan(k)):\n",
    "                                k = 0\n",
    "                            temp.append(k)\n",
    "                    X_ts.append(temp) \n",
    "\n",
    "                y_test.append([1])\n",
    "                #y_test.append(random.choice([[0], [1]]))\n",
    "            else:\n",
    "                if(np.array(item[1]).shape[0] < max):\n",
    "                    item[1] = np.pad(item[1], [(0, max-np.array(item[1]).shape[0]), (0, 0)], mode='constant', constant_values=0)\n",
    "                \n",
    "                X_train = item[1].reshape(1, item[1].shape[0], item[1].shape[1])\n",
    "                temp = []\n",
    "                for i in X_train:\n",
    "                    for j in i:\n",
    "                        for k in j:\n",
    "                            if(isnan(k)):\n",
    "                                k = 0\n",
    "                            temp.append(k)\n",
    "                    X_tr.append(temp)\n",
    "\n",
    "                y_train.append([1])\n",
    "                #y_test.append(random.choice([[0], [1]]))\n",
    "    \n",
    "    X_train = np.array(X_tr)\n",
    "    y_train = np.array(y_train)\n",
    "    X_test = np.array(X_ts)\n",
    "    y_test = np.array(y_test)\n",
    "    \n",
    "    return X_train, y_train, X_test, y_test"
   ]
  },
  {
   "cell_type": "markdown",
   "metadata": {},
   "source": [
    "#### Test / Train set"
   ]
  },
  {
   "cell_type": "code",
   "execution_count": 34,
   "metadata": {},
   "outputs": [],
   "source": [
    "#putanja = \"C:/Users/Zephyrus/Desktop/cnn data/data\"\n",
    "putanja = \"C:/Users/m.nedeljkovic/Desktop/cnn data/data\"\n",
    "#niz od podataka za svaku sekvencu (podatak je niz od id-ja, sekvence i labele)\n",
    "podaci = ucitavanje_sp(putanja)\n",
    "X_train, y_train, X_test, y_test = podela_podataka_sp(podaci)"
   ]
  },
  {
   "cell_type": "markdown",
   "metadata": {},
   "source": [
    "##### check"
   ]
  },
  {
   "cell_type": "code",
   "execution_count": 22,
   "metadata": {},
   "outputs": [
    {
     "name": "stdout",
     "output_type": "stream",
     "text": [
      "34286\n"
     ]
    }
   ],
   "source": [
    "cc = []\n",
    "for i in range(0,len(X_train)):\n",
    "    if not(len(X_train[i]) in cc):\n",
    "        print(len(X_train[i]))\n",
    "        cc.append(len(X_train[i]))"
   ]
  },
  {
   "cell_type": "code",
   "execution_count": null,
   "metadata": {},
   "outputs": [],
   "source": [
    "x1,y1,x2,y2 = [],[],[],[]\n",
    "\n",
    "for i in range(0,len(X_train)):\n",
    "    if(len(X_train[i])==18445):\n",
    "        x1.append(X_train[i])\n",
    "        y1.append(y_train[i])\n",
    "\n",
    "for i in range(0,len(X_test)):\n",
    "    if(len(X_test[i])==18445):\n",
    "        x2.append(X_test[i])\n",
    "        y2.append(y_test[i])\n",
    "\n",
    "X_train = x1\n",
    "y_train = y1\n",
    "X_test = x2\n",
    "y_test = y2"
   ]
  },
  {
   "cell_type": "code",
   "execution_count": null,
   "metadata": {},
   "outputs": [
    {
     "ename": "TypeError",
     "evalue": "'numpy.float64' object is not iterable",
     "output_type": "error",
     "traceback": [
      "\u001b[1;31m---------------------------------------------------------------------------\u001b[0m\n",
      "\n",
      "\u001b[1;31mTypeError\u001b[0m                                 Traceback (most recent call last)\n",
      "\n",
      "\u001b[1;32md:\\Marija\\noise correlation\\LMU_neuroscience\\knn_rf.ipynb Cell 42\u001b[0m in \u001b[0;36m<cell line: 2>\u001b[1;34m()\u001b[0m\n",
      "\n",
      "\u001b[0;32m      <a href='vscode-notebook-cell:/d%3A/Marija/noise%20correlation/LMU_neuroscience/knn_rf.ipynb#X53sZmlsZQ%3D%3D?line=2'>3</a>\u001b[0m temp \u001b[39m=\u001b[39m []\n",
      "\n",
      "\u001b[0;32m      <a href='vscode-notebook-cell:/d%3A/Marija/noise%20correlation/LMU_neuroscience/knn_rf.ipynb#X53sZmlsZQ%3D%3D?line=3'>4</a>\u001b[0m \u001b[39mfor\u001b[39;00m j \u001b[39min\u001b[39;00m i:\n",
      "\n",
      "\u001b[1;32m----> <a href='vscode-notebook-cell:/d%3A/Marija/noise%20correlation/LMU_neuroscience/knn_rf.ipynb#X53sZmlsZQ%3D%3D?line=4'>5</a>\u001b[0m     \u001b[39mfor\u001b[39;00m k \u001b[39min\u001b[39;00m j:\n",
      "\n",
      "\u001b[0;32m      <a href='vscode-notebook-cell:/d%3A/Marija/noise%20correlation/LMU_neuroscience/knn_rf.ipynb#X53sZmlsZQ%3D%3D?line=5'>6</a>\u001b[0m         \u001b[39mif\u001b[39;00m(isnan(k)):\n",
      "\n",
      "\u001b[0;32m      <a href='vscode-notebook-cell:/d%3A/Marija/noise%20correlation/LMU_neuroscience/knn_rf.ipynb#X53sZmlsZQ%3D%3D?line=6'>7</a>\u001b[0m             k \u001b[39m=\u001b[39m \u001b[39m0\u001b[39m\n",
      "\n",
      "\n",
      "\n",
      "\u001b[1;31mTypeError\u001b[0m: 'numpy.float64' object is not iterable"
     ]
    }
   ],
   "source": [
    "X_tr = []\n",
    "for i in X_train:\n",
    "    temp = []\n",
    "    for j in i:\n",
    "        for k in j:\n",
    "            if(isnan(k)):\n",
    "                k = 0\n",
    "            temp.append(k)\n",
    "    X_tr.append(temp)\n",
    "X_train = np.array(X_tr, dtype=object)\n",
    "\n",
    "X_ts = []\n",
    "for i in X_test:\n",
    "    temp = []\n",
    "    for j in i:\n",
    "        for k in j:\n",
    "            if(isnan(k)):\n",
    "                k = 0\n",
    "            temp.append(k)\n",
    "    X_ts.append(temp) \n",
    "X_test = np.array(X_ts, dtype=object)"
   ]
  },
  {
   "cell_type": "markdown",
   "metadata": {},
   "source": [
    "### KNN"
   ]
  },
  {
   "cell_type": "code",
   "execution_count": 35,
   "metadata": {},
   "outputs": [],
   "source": [
    "X_train = np.array(X_train)\n",
    "X_test = np.array(X_test)\n",
    "y_train = np.array(y_train)\n",
    "y_test = np.array(y_test)"
   ]
  },
  {
   "cell_type": "code",
   "execution_count": 36,
   "metadata": {},
   "outputs": [
    {
     "name": "stdout",
     "output_type": "stream",
     "text": [
      "(300, 34286)\n",
      "(300, 1)\n",
      "(100, 34286)\n",
      "(100, 1)\n"
     ]
    }
   ],
   "source": [
    "print(X_train.shape)\n",
    "print(y_train.shape)\n",
    "print(X_test.shape)\n",
    "print(y_test.shape)"
   ]
  },
  {
   "cell_type": "code",
   "execution_count": 37,
   "metadata": {},
   "outputs": [
    {
     "data": {
      "text/html": [
       "<style>#sk-container-id-3 {color: black;background-color: white;}#sk-container-id-3 pre{padding: 0;}#sk-container-id-3 div.sk-toggleable {background-color: white;}#sk-container-id-3 label.sk-toggleable__label {cursor: pointer;display: block;width: 100%;margin-bottom: 0;padding: 0.3em;box-sizing: border-box;text-align: center;}#sk-container-id-3 label.sk-toggleable__label-arrow:before {content: \"▸\";float: left;margin-right: 0.25em;color: #696969;}#sk-container-id-3 label.sk-toggleable__label-arrow:hover:before {color: black;}#sk-container-id-3 div.sk-estimator:hover label.sk-toggleable__label-arrow:before {color: black;}#sk-container-id-3 div.sk-toggleable__content {max-height: 0;max-width: 0;overflow: hidden;text-align: left;background-color: #f0f8ff;}#sk-container-id-3 div.sk-toggleable__content pre {margin: 0.2em;color: black;border-radius: 0.25em;background-color: #f0f8ff;}#sk-container-id-3 input.sk-toggleable__control:checked~div.sk-toggleable__content {max-height: 200px;max-width: 100%;overflow: auto;}#sk-container-id-3 input.sk-toggleable__control:checked~label.sk-toggleable__label-arrow:before {content: \"▾\";}#sk-container-id-3 div.sk-estimator input.sk-toggleable__control:checked~label.sk-toggleable__label {background-color: #d4ebff;}#sk-container-id-3 div.sk-label input.sk-toggleable__control:checked~label.sk-toggleable__label {background-color: #d4ebff;}#sk-container-id-3 input.sk-hidden--visually {border: 0;clip: rect(1px 1px 1px 1px);clip: rect(1px, 1px, 1px, 1px);height: 1px;margin: -1px;overflow: hidden;padding: 0;position: absolute;width: 1px;}#sk-container-id-3 div.sk-estimator {font-family: monospace;background-color: #f0f8ff;border: 1px dotted black;border-radius: 0.25em;box-sizing: border-box;margin-bottom: 0.5em;}#sk-container-id-3 div.sk-estimator:hover {background-color: #d4ebff;}#sk-container-id-3 div.sk-parallel-item::after {content: \"\";width: 100%;border-bottom: 1px solid gray;flex-grow: 1;}#sk-container-id-3 div.sk-label:hover label.sk-toggleable__label {background-color: #d4ebff;}#sk-container-id-3 div.sk-serial::before {content: \"\";position: absolute;border-left: 1px solid gray;box-sizing: border-box;top: 0;bottom: 0;left: 50%;z-index: 0;}#sk-container-id-3 div.sk-serial {display: flex;flex-direction: column;align-items: center;background-color: white;padding-right: 0.2em;padding-left: 0.2em;position: relative;}#sk-container-id-3 div.sk-item {position: relative;z-index: 1;}#sk-container-id-3 div.sk-parallel {display: flex;align-items: stretch;justify-content: center;background-color: white;position: relative;}#sk-container-id-3 div.sk-item::before, #sk-container-id-3 div.sk-parallel-item::before {content: \"\";position: absolute;border-left: 1px solid gray;box-sizing: border-box;top: 0;bottom: 0;left: 50%;z-index: -1;}#sk-container-id-3 div.sk-parallel-item {display: flex;flex-direction: column;z-index: 1;position: relative;background-color: white;}#sk-container-id-3 div.sk-parallel-item:first-child::after {align-self: flex-end;width: 50%;}#sk-container-id-3 div.sk-parallel-item:last-child::after {align-self: flex-start;width: 50%;}#sk-container-id-3 div.sk-parallel-item:only-child::after {width: 0;}#sk-container-id-3 div.sk-dashed-wrapped {border: 1px dashed gray;margin: 0 0.4em 0.5em 0.4em;box-sizing: border-box;padding-bottom: 0.4em;background-color: white;}#sk-container-id-3 div.sk-label label {font-family: monospace;font-weight: bold;display: inline-block;line-height: 1.2em;}#sk-container-id-3 div.sk-label-container {text-align: center;}#sk-container-id-3 div.sk-container {/* jupyter's `normalize.less` sets `[hidden] { display: none; }` but bootstrap.min.css set `[hidden] { display: none !important; }` so we also need the `!important` here to be able to override the default hidden behavior on the sphinx rendered scikit-learn.org. See: https://github.com/scikit-learn/scikit-learn/issues/21755 */display: inline-block !important;position: relative;}#sk-container-id-3 div.sk-text-repr-fallback {display: none;}</style><div id=\"sk-container-id-3\" class=\"sk-top-container\"><div class=\"sk-text-repr-fallback\"><pre>OneVsRestClassifier(estimator=KNeighborsClassifier())</pre><b>In a Jupyter environment, please rerun this cell to show the HTML representation or trust the notebook. <br />On GitHub, the HTML representation is unable to render, please try loading this page with nbviewer.org.</b></div><div class=\"sk-container\" hidden><div class=\"sk-item sk-dashed-wrapped\"><div class=\"sk-label-container\"><div class=\"sk-label sk-toggleable\"><input class=\"sk-toggleable__control sk-hidden--visually\" id=\"sk-estimator-id-7\" type=\"checkbox\" ><label for=\"sk-estimator-id-7\" class=\"sk-toggleable__label sk-toggleable__label-arrow\">OneVsRestClassifier</label><div class=\"sk-toggleable__content\"><pre>OneVsRestClassifier(estimator=KNeighborsClassifier())</pre></div></div></div><div class=\"sk-parallel\"><div class=\"sk-parallel-item\"><div class=\"sk-item\"><div class=\"sk-label-container\"><div class=\"sk-label sk-toggleable\"><input class=\"sk-toggleable__control sk-hidden--visually\" id=\"sk-estimator-id-8\" type=\"checkbox\" ><label for=\"sk-estimator-id-8\" class=\"sk-toggleable__label sk-toggleable__label-arrow\">estimator: KNeighborsClassifier</label><div class=\"sk-toggleable__content\"><pre>KNeighborsClassifier()</pre></div></div></div><div class=\"sk-serial\"><div class=\"sk-item\"><div class=\"sk-estimator sk-toggleable\"><input class=\"sk-toggleable__control sk-hidden--visually\" id=\"sk-estimator-id-9\" type=\"checkbox\" ><label for=\"sk-estimator-id-9\" class=\"sk-toggleable__label sk-toggleable__label-arrow\">KNeighborsClassifier</label><div class=\"sk-toggleable__content\"><pre>KNeighborsClassifier()</pre></div></div></div></div></div></div></div></div></div></div>"
      ],
      "text/plain": [
       "OneVsRestClassifier(estimator=KNeighborsClassifier())"
      ]
     },
     "execution_count": 37,
     "metadata": {},
     "output_type": "execute_result"
    }
   ],
   "source": [
    "knn = OneVsRestClassifier(KNeighborsClassifier())\n",
    "knn.fit(X_train,y_train)"
   ]
  },
  {
   "cell_type": "code",
   "execution_count": 38,
   "metadata": {},
   "outputs": [],
   "source": [
    "predictions = knn.predict(X_test)"
   ]
  },
  {
   "cell_type": "code",
   "execution_count": 39,
   "metadata": {},
   "outputs": [
    {
     "name": "stdout",
     "output_type": "stream",
     "text": [
      "KNN Accuracy: 0.490\n"
     ]
    }
   ],
   "source": [
    "print('KNN Accuracy: %.3f' % accuracy_score(y_test,predictions))"
   ]
  },
  {
   "cell_type": "code",
   "execution_count": 40,
   "metadata": {},
   "outputs": [
    {
     "data": {
      "image/png": "[encoded data removed]",
      "text/plain": [
       "<Figure size 648x648 with 2 Axes>"
      ]
     },
     "metadata": {
      "needs_background": "light"
     },
     "output_type": "display_data"
    }
   ],
   "source": [
    "cm = confusion_matrix(y_test,predictions)\n",
    "plt.figure(figsize=(9,9))\n",
    "sns.heatmap(cm,annot=True, fmt='.3f', linewidths=.5, square=True,cmap='Blues_r')\n",
    "plt.ylabel('Actual label')\n",
    "plt.xlabel('Predicted label')\n",
    "all_sample_title = 'Accuracy Score: {0}'.format(accuracy_score(y_test,predictions))\n",
    "plt.title(all_sample_title,size=15)\n",
    "knn_acc = accuracy_score(y_test,predictions)"
   ]
  },
  {
   "cell_type": "markdown",
   "metadata": {},
   "source": [
    "### Random Forest"
   ]
  },
  {
   "cell_type": "code",
   "execution_count": 41,
   "metadata": {},
   "outputs": [],
   "source": [
    "def RF(X_train, y_train, X_test, y_test):\n",
    "    forest = RandomForestClassifier(criterion='gini',\n",
    "                                    n_estimators=5,\n",
    "                                    random_state=1,\n",
    "                                    n_jobs=2)\n",
    "    forest.fit(X_train, y_train)\n",
    "    y_pred = forest.predict(X_test)\n",
    "    print('Accuracy: %.3f' % accuracy_score(y_test, y_pred))\n",
    "    return y_pred"
   ]
  },
  {
   "cell_type": "code",
   "execution_count": 42,
   "metadata": {},
   "outputs": [],
   "source": [
    "def mat_of_conf(y_test,y_pred):\n",
    "    cm = confusion_matrix(y_test,y_pred)\n",
    "    plt.figure(figsize=(9,9))\n",
    "    sns.heatmap(cm,annot=True, fmt='.3f', linewidths=.5, square=True,cmap='Blues_r')\n",
    "    plt.ylabel('Actual label')\n",
    "    plt.xlabel('Predicted label')\n",
    "    all_sample_title = 'Accuracy Score: {0}'.format(accuracy_score(y_test,y_pred))\n",
    "    plt.title(all_sample_title,size=15)\n",
    "    plt.show()"
   ]
  },
  {
   "cell_type": "code",
   "execution_count": 43,
   "metadata": {},
   "outputs": [
    {
     "name": "stderr",
     "output_type": "stream",
     "text": [
      "C:\\Users\\m.nedeljkovic\\AppData\\Local\\Temp\\ipykernel_30624\\3284241286.py:6: DataConversionWarning: A column-vector y was passed when a 1d array was expected. Please change the shape of y to (n_samples,), for example using ravel().\n",
      "  forest.fit(X_train, y_train)\n"
     ]
    },
    {
     "name": "stdout",
     "output_type": "stream",
     "text": [
      "Accuracy: 0.490\n"
     ]
    },
    {
     "data": {
      "image/png": "[encoded data removed]",
      "text/plain": [
       "<Figure size 648x648 with 2 Axes>"
      ]
     },
     "metadata": {
      "needs_background": "light"
     },
     "output_type": "display_data"
    }
   ],
   "source": [
    "Forest = RF(X_train, y_train, X_test, y_test)\n",
    "mat_of_conf(y_test,Forest)\n",
    "rf_acc = accuracy_score(y_test, Forest)"
   ]
  },
  {
   "cell_type": "markdown",
   "metadata": {},
   "source": [
    "### XG boost"
   ]
  },
  {
   "cell_type": "code",
   "execution_count": 44,
   "metadata": {},
   "outputs": [
    {
     "name": "stderr",
     "output_type": "stream",
     "text": [
      "c:\\Users\\m.nedeljkovic\\AppData\\Local\\Programs\\Python\\Python310\\lib\\site-packages\\xgboost\\sklearn.py:793: UserWarning: `eval_metric` in `fit` method is deprecated for better compatibility with scikit-learn, use `eval_metric` in constructor or`set_params` instead.\n",
      "  warnings.warn(\n"
     ]
    },
    {
     "name": "stdout",
     "output_type": "stream",
     "text": [
      "[14:40:00] WARNING: C:/Users/Administrator/workspace/xgboost-win64_release_1.6.0/src/objective/regression_obj.cu:203: reg:linear is now deprecated in favor of reg:squarederror.\n",
      "[0]\tvalidation_0-logloss:0.69262\tvalidation_1-logloss:0.69321\n",
      "[1]\tvalidation_0-logloss:0.69204\tvalidation_1-logloss:0.69320\n",
      "[2]\tvalidation_0-logloss:0.69144\tvalidation_1-logloss:0.69319\n",
      "[3]\tvalidation_0-logloss:0.69085\tvalidation_1-logloss:0.69332\n",
      "[4]\tvalidation_0-logloss:0.69016\tvalidation_1-logloss:0.69330\n",
      "[5]\tvalidation_0-logloss:0.68962\tvalidation_1-logloss:0.69324\n",
      "[6]\tvalidation_0-logloss:0.68913\tvalidation_1-logloss:0.69319\n",
      "[7]\tvalidation_0-logloss:0.68853\tvalidation_1-logloss:0.69324\n",
      "[8]\tvalidation_0-logloss:0.68795\tvalidation_1-logloss:0.69323\n",
      "[9]\tvalidation_0-logloss:0.68751\tvalidation_1-logloss:0.69331\n",
      "[10]\tvalidation_0-logloss:0.68694\tvalidation_1-logloss:0.69321\n",
      "[11]\tvalidation_0-logloss:0.68627\tvalidation_1-logloss:0.69317\n",
      "[12]\tvalidation_0-logloss:0.68572\tvalidation_1-logloss:0.69316\n",
      "[13]\tvalidation_0-logloss:0.68521\tvalidation_1-logloss:0.69328\n",
      "[14]\tvalidation_0-logloss:0.68472\tvalidation_1-logloss:0.69326\n",
      "[15]\tvalidation_0-logloss:0.68410\tvalidation_1-logloss:0.69319\n",
      "[16]\tvalidation_0-logloss:0.68345\tvalidation_1-logloss:0.69322\n",
      "[17]\tvalidation_0-logloss:0.68292\tvalidation_1-logloss:0.69311\n",
      "[18]\tvalidation_0-logloss:0.68243\tvalidation_1-logloss:0.69311\n",
      "[19]\tvalidation_0-logloss:0.68203\tvalidation_1-logloss:0.69307\n",
      "[20]\tvalidation_0-logloss:0.68141\tvalidation_1-logloss:0.69296\n",
      "[21]\tvalidation_0-logloss:0.68088\tvalidation_1-logloss:0.69291\n",
      "[22]\tvalidation_0-logloss:0.68035\tvalidation_1-logloss:0.69291\n",
      "[23]\tvalidation_0-logloss:0.67994\tvalidation_1-logloss:0.69292\n",
      "[24]\tvalidation_0-logloss:0.67942\tvalidation_1-logloss:0.69288\n",
      "[25]\tvalidation_0-logloss:0.67869\tvalidation_1-logloss:0.69305\n",
      "[26]\tvalidation_0-logloss:0.67819\tvalidation_1-logloss:0.69301\n",
      "[27]\tvalidation_0-logloss:0.67767\tvalidation_1-logloss:0.69295\n",
      "[28]\tvalidation_0-logloss:0.67703\tvalidation_1-logloss:0.69292\n",
      "[29]\tvalidation_0-logloss:0.67639\tvalidation_1-logloss:0.69285\n",
      "[30]\tvalidation_0-logloss:0.67583\tvalidation_1-logloss:0.69274\n",
      "[31]\tvalidation_0-logloss:0.67529\tvalidation_1-logloss:0.69274\n",
      "[32]\tvalidation_0-logloss:0.67481\tvalidation_1-logloss:0.69260\n",
      "[33]\tvalidation_0-logloss:0.67437\tvalidation_1-logloss:0.69248\n",
      "[34]\tvalidation_0-logloss:0.67383\tvalidation_1-logloss:0.69236\n",
      "[35]\tvalidation_0-logloss:0.67329\tvalidation_1-logloss:0.69230\n",
      "[36]\tvalidation_0-logloss:0.67279\tvalidation_1-logloss:0.69235\n",
      "[37]\tvalidation_0-logloss:0.67229\tvalidation_1-logloss:0.69235\n",
      "[38]\tvalidation_0-logloss:0.67184\tvalidation_1-logloss:0.69230\n",
      "[39]\tvalidation_0-logloss:0.67136\tvalidation_1-logloss:0.69223\n",
      "Accuracy: 0.560\n"
     ]
    },
    {
     "data": {
      "image/png": "[encoded data removed]",
      "text/plain": [
       "<Figure size 432x288 with 1 Axes>"
      ]
     },
     "metadata": {
      "needs_background": "light"
     },
     "output_type": "display_data"
    }
   ],
   "source": [
    "eval = [(X_train, y_train),(X_test, y_test)]\n",
    "classif = xgb.XGBClassifier(objective ='reg:linear', colsample_bytree = 0.1, learning_rate = 0.001, max_depth = 5, alpha = 0.1, n_estimators = 40,  eta=0.05)\n",
    "classif.fit(X_train,y_train, eval_set = eval, eval_metric='logloss')\n",
    "preds = classif.predict(X_test)\n",
    "score = accuracy_score(y_test, preds)\n",
    "print('Accuracy: %.3f' % score)\n",
    "results = classif.evals_result()\n",
    "# plot learning curves\n",
    "plt.plot(results['validation_0']['logloss'], label='train')\n",
    "plt.plot(results['validation_1']['logloss'], label='test')\n",
    "plt.legend()\n",
    "plt.show()"
   ]
  },
  {
   "cell_type": "code",
   "execution_count": 45,
   "metadata": {},
   "outputs": [
    {
     "ename": "NameError",
     "evalue": "name 'model' is not defined",
     "output_type": "error",
     "traceback": [
      "\u001b[1;31m---------------------------------------------------------------------------\u001b[0m",
      "\u001b[1;31mNameError\u001b[0m                                 Traceback (most recent call last)",
      "\u001b[1;32md:\\Marija\\noise correlation\\LMU_neuroscience\\code\\knn_rf.ipynb Cell 73\u001b[0m in \u001b[0;36m<cell line: 6>\u001b[1;34m()\u001b[0m\n\u001b[0;32m      <a href='vscode-notebook-cell:/d%3A/Marija/noise%20correlation/LMU_neuroscience/code/knn_rf.ipynb#Y132sZmlsZQ%3D%3D?line=2'>3</a>\u001b[0m \u001b[39mimport\u001b[39;00m \u001b[39mmatplotlib\u001b[39;00m\u001b[39m.\u001b[39;00m\u001b[39mpyplot\u001b[39;00m \u001b[39mas\u001b[39;00m \u001b[39mplt\u001b[39;00m\n\u001b[0;32m      <a href='vscode-notebook-cell:/d%3A/Marija/noise%20correlation/LMU_neuroscience/code/knn_rf.ipynb#Y132sZmlsZQ%3D%3D?line=4'>5</a>\u001b[0m \u001b[39m# plot feature importance\u001b[39;00m\n\u001b[1;32m----> <a href='vscode-notebook-cell:/d%3A/Marija/noise%20correlation/LMU_neuroscience/code/knn_rf.ipynb#Y132sZmlsZQ%3D%3D?line=5'>6</a>\u001b[0m plot_importance(model, max_num_features\u001b[39m=\u001b[39m\u001b[39m10\u001b[39m)\n\u001b[0;32m      <a href='vscode-notebook-cell:/d%3A/Marija/noise%20correlation/LMU_neuroscience/code/knn_rf.ipynb#Y132sZmlsZQ%3D%3D?line=6'>7</a>\u001b[0m plt\u001b[39m.\u001b[39mshow()\n\u001b[0;32m      <a href='vscode-notebook-cell:/d%3A/Marija/noise%20correlation/LMU_neuroscience/code/knn_rf.ipynb#Y132sZmlsZQ%3D%3D?line=8'>9</a>\u001b[0m x \u001b[39m=\u001b[39m model\u001b[39m.\u001b[39mfeature_importances_\n",
      "\u001b[1;31mNameError\u001b[0m: name 'model' is not defined"
     ]
    }
   ],
   "source": [
    "from turtle import width\n",
    "from xgboost import plot_importance\n",
    "import matplotlib.pyplot as plt\n",
    "\n",
    "# plot feature importance\n",
    "plot_importance(model, max_num_features=10)\n",
    "plt.show()\n",
    "\n",
    "x = model.feature_importances_"
   ]
  },
  {
   "cell_type": "code",
   "execution_count": null,
   "metadata": {},
   "outputs": [
    {
     "data": {
      "text/plain": [
       "0.046086375"
      ]
     },
     "metadata": {},
     "output_type": "display_data"
    }
   ],
   "source": [
    "max(x)"
   ]
  },
  {
   "cell_type": "code",
   "execution_count": null,
   "metadata": {},
   "outputs": [],
   "source": [
    "x = [0.55, 0.63, 0.72]"
   ]
  },
  {
   "cell_type": "code",
   "execution_count": null,
   "metadata": {},
   "outputs": [],
   "source": [
    "y = [0.5, 0.52, 0.6]"
   ]
  },
  {
   "cell_type": "code",
   "execution_count": null,
   "metadata": {},
   "outputs": [
    {
     "data": {
      "image/png": "[encoded data removed]",
      "text/plain": [
       "<Figure size 720x360 with 2 Axes>"
      ]
     },
     "metadata": {},
     "output_type": "display_data"
    }
   ],
   "source": [
    "f, (ax1,ax2) = plt.subplots(1,2, sharey=True, figsize=(10,5))\n",
    "ax1.margins(0.2) \n",
    "ax2.margins(0.2)\n",
    "ax2.bar([\"KNN\", \"RF\", \"XGB\"], x, color=['crimson', 'lightsteelblue', 'royalblue'])\n",
    "ax2.set_title('Accuracy on awake state data')\n",
    "ax2.set_ylabel('Accuracy')\n",
    "ax2.set_xlabel('Classifier')\n",
    "ax1.bar([\"KNN\", \"RF\", \"XGB\"], y, color=['crimson', 'lightsteelblue', 'royalblue'])\n",
    "ax1.set_title('Accuracy on anesthetized state data')\n",
    "ax1.set_ylabel('Accuracy')\n",
    "ax1.set_xlabel('Classifier')\n",
    "plt.savefig('speakers.svg')\n",
    "plt.show()"
   ]
  }
 ],
 "metadata": {
  "kernelspec": {
   "display_name": "Python 3.10.5 64-bit",
   "language": "python",
   "name": "python3"
  },
  "language_info": {
   "codemirror_mode": {
    "name": "ipython",
    "version": 3
   },
   "file_extension": ".py",
   "mimetype": "text/x-python",
   "name": "python",
   "nbconvert_exporter": "python",
   "pygments_lexer": "ipython3",
   "version": "3.10.5"
  },
  "orig_nbformat": 4,
  "vscode": {
   "interpreter": {
    "hash": "c3ff55a2362d840d3433b3a68631efa6e477163e310b6a9fd17f9078908dbfa1"
   }
  }
 },
 "nbformat": 4,
 "nbformat_minor": 2
}
