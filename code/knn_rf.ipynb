{
 "cells": [
  {
   "cell_type": "markdown",
   "metadata": {},
   "source": [
    "#### Import required packages"
   ]
  },
  {
   "cell_type": "code",
   "execution_count": 4,
   "metadata": {},
   "outputs": [],
   "source": [
    "# numeric and plotting libraries\n",
    "import time\n",
    "import os\n",
    "import shutil\n",
    "import math\n",
    "from collections import defaultdict\n",
    "import matplotlib.pyplot as plt\n",
    "import numpy as np\n",
    "import csv\n",
    "import random\n",
    "from PIL import Image\n",
    "import csv\n",
    "import operator \n",
    "import pandas as pd \n",
    "# to create confusion metrics\n",
    "import seaborn as sns\n",
    "import scipy.io as sio\n",
    "import scipy.stats as stats\n",
    "from cmath import nan\n",
    "from cmath import isnan\n",
    "import warnings\n",
    "warnings.filterwarnings(\"ignore\")\n",
    "from numpy import isinf\n",
    "import signal\n",
    "from sklearn.decomposition import PCA"
   ]
  },
  {
   "cell_type": "code",
   "execution_count": null,
   "metadata": {},
   "outputs": [],
   "source": [
    "from  ipynb.fs.full.data_prep import *"
   ]
  },
  {
   "cell_type": "code",
   "execution_count": 3,
   "metadata": {},
   "outputs": [],
   "source": [
    "%matplotlib inline"
   ]
  },
  {
   "cell_type": "code",
   "execution_count": 6,
   "metadata": {},
   "outputs": [],
   "source": [
    "from sklearn.metrics import accuracy_score,confusion_matrix # metrics error\n",
    "from sklearn.multiclass import OneVsRestClassifier\n",
    "from sklearn.neighbors import KNeighborsClassifier\n",
    "from sklearn.ensemble import RandomForestClassifier\n",
    "from numpy import loadtxt\n",
    "from xgboost import XGBClassifier\n",
    "from sklearn.model_selection import train_test_split\n",
    "from sklearn.metrics import accuracy_score\n",
    "import xgboost as xgb"
   ]
  },
  {
   "cell_type": "markdown",
   "metadata": {},
   "source": [
    "# Classification on anest and awake state"
   ]
  },
  {
   "cell_type": "markdown",
   "metadata": {},
   "source": [
    "#### Data preparation"
   ]
  },
  {
   "cell_type": "code",
   "execution_count": 7,
   "metadata": {},
   "outputs": [],
   "source": [
    "def load_data(directory):\n",
    "    data = []\n",
    "    for filename in os.listdir(directory):\n",
    "        # example: aw_mouse3_roi1_ses3_tr21.npy\n",
    "        f = os.path.join(directory, filename)\n",
    "        \n",
    "        list_of_subs = f.split(\"\\\\\")[-1].split(\"_\")\n",
    "        list_of_subs[-1] = list_of_subs[-1][:-4]\n",
    "\n",
    "        # get all numeric values from the filename\n",
    "        for i in range(len(list_of_subs)):\n",
    "            if list_of_subs[i][-2:].isdigit():\n",
    "                list_of_subs[i] = int(list_of_subs[i][-2:])\n",
    "            elif list_of_subs[i][-1].isdigit():\n",
    "                list_of_subs[i] = int(list_of_subs[i][-1])\n",
    "                \n",
    "        if list_of_subs[0] == 'aw':\n",
    "            list_of_subs[0] = 0\n",
    "        elif list_of_subs[0] == 'an':\n",
    "            list_of_subs[0] = 1\n",
    "\n",
    "        all_info = {'label': list_of_subs[0], 'mouse': list_of_subs[1], 'roi': list_of_subs[2], 'ses': list_of_subs[3], 'tr': list_of_subs[4]}\n",
    "        \n",
    "        # load actual data\n",
    "        dat = np.load(f)\n",
    "\n",
    "        # append new data to the list\n",
    "        data.append([all_info, dat])\n",
    "    \n",
    "    return data      "
   ]
  },
  {
   "cell_type": "code",
   "execution_count": 8,
   "metadata": {},
   "outputs": [],
   "source": [
    "def train_test_split(mouse_id, data_vectors):\n",
    "    train_data, train_labels, test_data, test_labels = [], [], [], []\n",
    "    for data in data_vectors:\n",
    "        if data[0]['mouse'] == mouse_id:\n",
    "            test_data.append(data[1])\n",
    "            test_labels.append(data[0]['label'])\n",
    "        else:\n",
    "            train_data.append(data[1])\n",
    "            train_labels.append(data[0]['label'])\n",
    "\n",
    "    # shuffle train data\n",
    "    c = list(zip(train_data, train_labels))\n",
    "    random.shuffle(c)\n",
    "    train_data, train_labels = zip(*c)\n",
    "\n",
    "    # shuffle test data\n",
    "    c = list(zip(test_data, test_labels))\n",
    "    random.shuffle(c)\n",
    "    test_data, test_labels = zip(*c)\n",
    "    \n",
    "    return train_data, train_labels, test_data, test_labels"
   ]
  },
  {
   "cell_type": "code",
   "execution_count": 9,
   "metadata": {},
   "outputs": [],
   "source": [
    "path = \"C:/Users/Zephyrus/Marija/projekti/MINHEN/an_aw/data\"\n",
    "load_all_data = load_data(path)"
   ]
  },
  {
   "cell_type": "code",
   "execution_count": 8,
   "metadata": {},
   "outputs": [],
   "source": [
    "train_data, train_labels, test_data, test_labels = train_test_split(1, load_all_data)"
   ]
  },
  {
   "cell_type": "code",
   "execution_count": 9,
   "metadata": {},
   "outputs": [
    {
     "name": "stdout",
     "output_type": "stream",
     "text": [
      "Train len: 4000 Test len: 800\n",
      "Shape of the initial data sample: (81, 5, 31)\n",
      "Train labels 0/an: 2000 Train labels 1/aw: 2000\n",
      "Test labels 0/an: 400 Test labels 1/aw: 400\n"
     ]
    }
   ],
   "source": [
    "print('Train len:',len(train_data), 'Test len:', len(test_data))\n",
    "print('Shape of the initial data sample:', train_data[1000].shape)\n",
    "print('Train labels 0/an:', len(train_labels)-np.sum(train_labels), 'Train labels 1/aw:', np.sum(train_labels))\n",
    "print('Test labels 0/an:', len(test_labels)-np.sum(test_labels), 'Test labels 1/aw:', np.sum(test_labels))"
   ]
  },
  {
   "cell_type": "code",
   "execution_count": 10,
   "metadata": {},
   "outputs": [],
   "source": [
    "def process_data(sp, tr_data, ts_data):\n",
    "    for i in range(len(tr_data)):\n",
    "        tr_data[i] = tr_data[i][:,sp,10:].flatten()\n",
    "    for i in range(len(ts_data)):\n",
    "        ts_data[i] = ts_data[i][:,sp,10:].flatten()\n",
    "\n",
    "    max_len_tr = max([len(i) for i in tr_data])\n",
    "    max_len_ts = max([len(i) for i in ts_data])\n",
    "    max_len = max(max_len_tr, max_len_ts)\n",
    "\n",
    "    # fill with zeros float64\n",
    "    for i in range(len(tr_data)):\n",
    "        tr_data[i] = np.append(tr_data[i], np.zeros(max_len - len(tr_data[i])))\n",
    "    for i in range(len(ts_data)):\n",
    "        ts_data[i] = np.append(ts_data[i], np.zeros(max_len - len(ts_data[i])))\n",
    "\n",
    "    tr_data = [list(i) for i in tr_data]\n",
    "    ts_data = [list(i) for i in ts_data]\n",
    "\n",
    "    return tr_data, ts_data"
   ]
  },
  {
   "cell_type": "code",
   "execution_count": 76,
   "metadata": {},
   "outputs": [],
   "source": [
    "def extract_features(tr_data, ts_data, tr_labels, ts_labels):\n",
    "    power_tr, power_ts = [], []\n",
    "    del_list = []\n",
    " \n",
    "    for i in range(len(tr_data)):\n",
    "        one_sample = []\n",
    "        y = 0\n",
    "        for sp in range(0,5):\n",
    "            signal_neurons = tr_data[i][:,sp,:].flatten()\n",
    "            if len(signal_neurons) == 0:\n",
    "                del_list.append(i)\n",
    "                y = 1\n",
    "                continue\n",
    "\n",
    "            # power spectrum\n",
    "            signal_power = np.abs(np.fft.fft(signal_neurons))**2\n",
    "            one_sample.append(np.max(signal_power))\n",
    "            one_sample.append(np.min(signal_power))\n",
    "            one_sample.append(np.std(signal_power))\n",
    "            # kurtosis\n",
    "            kurt = stats.kurtosis(signal_power)\n",
    "            if isnan(kurt) or isinf(kurt): kurt = 0\n",
    "            one_sample.append(kurt)\n",
    "            # skewness\n",
    "            skew = stats.skew(signal_power)\n",
    "            if isnan(skew) or isinf(skew): skew = 0\n",
    "            one_sample.append(skew)\n",
    "            # entropy\n",
    "            ent = stats.entropy(signal_power)\n",
    "            if isnan(ent) or isinf(ent): ent = 0\n",
    "            one_sample.append(ent)\n",
    "            # average spike rate\n",
    "            avg_spike_rate = np.mean(signal_power)\n",
    "            if isnan(avg_spike_rate) or isinf(avg_spike_rate): avg_spike_rate = 0\n",
    "            one_sample.append(avg_spike_rate)\n",
    "            # burstiness\n",
    "            burst = np.max(signal_power) / avg_spike_rate\n",
    "            if isnan(burst) or isinf(burst): burst = 0\n",
    "            one_sample.append(burst)\n",
    "            # pattern\n",
    "            pattern = np.max(signal_power) / np.mean(signal_power)\n",
    "            if isnan(pattern) or isinf(pattern): pattern = 0\n",
    "            one_sample.append(pattern)\n",
    "\n",
    "        if y == 0:\n",
    "            power_tr.append(one_sample)\n",
    "\n",
    "    tr_labels = np.delete(tr_labels, del_list)\n",
    "    del_list = []  \n",
    "\n",
    "    for i in range(len(ts_data)):\n",
    "        one_sample = []\n",
    "        y = 0\n",
    "        for sp in range(0,5):\n",
    "            signal_neurons = ts_data[i][:,sp,:].flatten()\n",
    "            if len(signal_neurons) == 0:\n",
    "                del_list.append(i)\n",
    "                y = 1\n",
    "                continue\n",
    "\n",
    "            # power spectrum\n",
    "            signal_power = np.abs(np.fft.fft(signal_neurons))**2\n",
    "            one_sample.append(np.max(signal_power))\n",
    "            one_sample.append(np.min(signal_power))\n",
    "            one_sample.append(np.std(signal_power))  \n",
    "            # kurtosis\n",
    "            kurt = stats.kurtosis(signal_power)\n",
    "            if isnan(kurt) or isinf(kurt): kurt = 0\n",
    "            one_sample.append(kurt)\n",
    "            # skewness\n",
    "            skew = stats.skew(signal_power)\n",
    "            if isnan(skew) or isinf(skew): skew = 0\n",
    "            one_sample.append(skew)\n",
    "            # entropy\n",
    "            ent = stats.entropy(signal_power)\n",
    "            if isnan(ent) or isinf(ent): ent = 0\n",
    "            one_sample.append(ent)\n",
    "            # average spike rate\n",
    "            avg_spike_rate = np.mean(signal_power)\n",
    "            if isnan(avg_spike_rate) or isinf(avg_spike_rate): avg_spike_rate = 0\n",
    "            one_sample.append(avg_spike_rate)\n",
    "            # burstiness\n",
    "            burst = np.max(signal_power) / avg_spike_rate\n",
    "            if isnan(burst) or isinf(burst): burst = 0\n",
    "            one_sample.append(burst)\n",
    "            # pattern\n",
    "            pattern = np.max(signal_power) / np.mean(signal_power)\n",
    "            if isnan(pattern) or isinf(pattern): pattern = 0\n",
    "            one_sample.append(pattern)\n",
    "            \n",
    "        if y == 0:\n",
    "            power_ts.append(one_sample)\n",
    "\n",
    "    ts_labels = np.delete(ts_labels, del_list)\n",
    "\n",
    "    return power_tr, power_ts, tr_labels, ts_labels"
   ]
  },
  {
   "cell_type": "code",
   "execution_count": 77,
   "metadata": {},
   "outputs": [],
   "source": [
    "train_data_proc, test_data_proc, train_labels_proc, test_labels_proc = extract_features(train_data, test_data, train_labels, test_labels)"
   ]
  },
  {
   "cell_type": "code",
   "execution_count": 149,
   "metadata": {},
   "outputs": [],
   "source": [
    "train_data_proc, test_data_proc = process_data(np.array(train_data), np.array(test_data))"
   ]
  },
  {
   "cell_type": "code",
   "execution_count": 59,
   "metadata": {},
   "outputs": [
    {
     "name": "stdout",
     "output_type": "stream",
     "text": [
      "3996 799 3996 799\n",
      "45 45\n"
     ]
    }
   ],
   "source": [
    "print(len(train_data_proc), len(test_data_proc), len(train_labels_proc), len(test_labels_proc))\n",
    "print(len(train_data_proc[0]), len(test_data_proc[0]))"
   ]
  },
  {
   "cell_type": "markdown",
   "metadata": {},
   "source": [
    "# KNN"
   ]
  },
  {
   "cell_type": "code",
   "execution_count": 29,
   "metadata": {},
   "outputs": [],
   "source": [
    "accs = []\n",
    "conf_mats = []\n",
    "for i in range(1, 11):\n",
    "    knn = KNeighborsClassifier(n_neighbors=i)\n",
    "    knn.fit(train_data_proc, train_labels_proc)\n",
    "    knn_pred = knn.predict(test_data_proc)\n",
    "    accs.append(accuracy_score(test_labels_proc, knn_pred))\n",
    "    conf_mats.append(confusion_matrix(test_labels_proc, knn_pred))"
   ]
  },
  {
   "cell_type": "code",
   "execution_count": 30,
   "metadata": {},
   "outputs": [
    {
     "data": {
      "image/png": "[encoded data removed]",
      "text/plain": [
       "<Figure size 432x288 with 1 Axes>"
      ]
     },
     "metadata": {
      "needs_background": "light"
     },
     "output_type": "display_data"
    }
   ],
   "source": [
    "plt.plot(range(1, 11), accs)\n",
    "plt.xlabel('Number of neighbors')\n",
    "plt.ylabel('Accuracy')\n",
    "plt.title('KNN accuracy')\n",
    "plt.show()"
   ]
  },
  {
   "cell_type": "code",
   "execution_count": 31,
   "metadata": {},
   "outputs": [
    {
     "data": {
      "image/png": "[encoded data removed]",
      "text/plain": [
       "<Figure size 720x504 with 2 Axes>"
      ]
     },
     "metadata": {
      "needs_background": "light"
     },
     "output_type": "display_data"
    }
   ],
   "source": [
    "# confusion matrix\n",
    "plt.figure(figsize=(10, 7))\n",
    "sns.heatmap(conf_mats[accs.index(max(accs))], annot=True, fmt='d', cmap='Blues')\n",
    "plt.xlabel('Predicted labels')\n",
    "plt.ylabel('True labels')\n",
    "plt.title('Confusion matrix')\n",
    "plt.show()"
   ]
  },
  {
   "cell_type": "markdown",
   "metadata": {},
   "source": [
    "# RANDOM FOREST"
   ]
  },
  {
   "cell_type": "markdown",
   "metadata": {},
   "source": [
    "### One speaker, time point from 10th"
   ]
  },
  {
   "cell_type": "code",
   "execution_count": 320,
   "metadata": {},
   "outputs": [],
   "source": [
    "accs, conf_mats = [], []\n",
    "\n",
    "for mouse in range(1,7):\n",
    "    tr_data, tr_labels, ts_data, ts_labels = train_test_split(mouse, load_all_data)\n",
    "    accs_mouse, conf_mats_mouse = [], []\n",
    "\n",
    "    for speaker in range(0, 5):\n",
    "        tr_data_proc, ts_data_proc = process_data(speaker, tr_data, ts_data)\n",
    "        rf = RandomForestClassifier(n_estimators=100)\n",
    "        rf.fit(tr_data_proc, tr_labels)\n",
    "        rf_pred = rf.predict(ts_data_proc)\n",
    "    \n",
    "        accs_mouse.append(accuracy_score(ts_labels, rf_pred))\n",
    "        conf_mats_mouse.append(confusion_matrix(ts_labels, rf_pred))\n",
    "    \n",
    "    accs.append(accs_mouse)\n",
    "    conf_mats.append(conf_mats_mouse)"
   ]
  },
  {
   "cell_type": "code",
   "execution_count": 194,
   "metadata": {},
   "outputs": [
    {
     "data": {
      "image/png": "[encoded data removed]",
      "text/plain": [
       "<Figure size 1440x360 with 5 Axes>"
      ]
     },
     "metadata": {
      "needs_background": "light"
     },
     "output_type": "display_data"
    }
   ],
   "source": [
    "fig, ax = plt.subplots(1, 5, figsize=(20, 5))\n",
    "for i in range(5):\n",
    "    ax[i].plot(range(1, 7), [accs[j][i] for j in range(6)])\n",
    "    ax[i].set_xlabel('Mouse')\n",
    "    ax[i].set_ylabel('Accuracy')\n",
    "    ax[i].set_title('Spectrum ' + str(i+1))\n",
    "plt.show()"
   ]
  },
  {
   "cell_type": "code",
   "execution_count": 205,
   "metadata": {},
   "outputs": [
    {
     "name": "stdout",
     "output_type": "stream",
     "text": [
      "Average accuracies per speaker:\n",
      "Speaker 1 : 0.9054166666666666\n",
      "Speaker 2 : 0.904375\n",
      "Speaker 3 : 0.9077083333333333\n",
      "Speaker 4 : 0.9022916666666667\n",
      "Speaker 5 : 0.9022916666666666\n",
      "\n",
      "Avevrage accuracies per mouse:\n",
      "Mouse 1 : 0.99\n",
      "Mouse 2 : 0.9460000000000001\n",
      "Mouse 3 : 0.8370000000000001\n",
      "Mouse 4 : 0.8800000000000001\n",
      "Mouse 5 : 0.897\n",
      "Mouse 6 : 0.8765000000000001\n"
     ]
    },
    {
     "data": {
      "text/plain": [
       "[[0.9925, 0.99125, 0.98875, 0.9875, 0.99],\n",
       " [0.9475, 0.94875, 0.95125, 0.9375, 0.945],\n",
       " [0.82375, 0.835, 0.8475, 0.84375, 0.835],\n",
       " [0.88375, 0.88625, 0.88125, 0.8775, 0.87125],\n",
       " [0.89125, 0.89625, 0.89375, 0.89375, 0.91],\n",
       " [0.89375, 0.86875, 0.88375, 0.87375, 0.8625]]"
      ]
     },
     "execution_count": 205,
     "metadata": {},
     "output_type": "execute_result"
    }
   ],
   "source": [
    "print('Average accuracies per speaker:')\n",
    "for i in range(5):\n",
    "    print('Speaker', i+1, ':', np.mean([accs[j][i] for j in range(6)]))\n",
    "print('')\n",
    "\n",
    "print('Avevrage accuracies per mouse:')\n",
    "for i in range(6):\n",
    "    print('Mouse', i+1, ':', np.mean(accs[i]))\n",
    "\n",
    "accs"
   ]
  },
  {
   "cell_type": "markdown",
   "metadata": {},
   "source": [
    "### All speakers, all time points"
   ]
  },
  {
   "cell_type": "code",
   "execution_count": 211,
   "metadata": {},
   "outputs": [],
   "source": [
    "accs, conf_mats = [], []\n",
    "accs_mouse, conf_mats_mouse = [], []\n",
    "for mouse in range(1,7):\n",
    "    tr_data, tr_labels, ts_data, ts_labels = train_test_split(mouse, load_all_data)\n",
    "    tr_data_proc, ts_data_proc = process_data(sp, np.array(tr_data), np.array(ts_data))\n",
    "\n",
    "    rf = RandomForestClassifier(n_estimators=100)\n",
    "    rf.fit(tr_data_proc, tr_labels)\n",
    "    rf_pred = rf.predict(ts_data_proc)\n",
    "    \n",
    "    accs_mouse.append(accuracy_score(ts_labels, rf_pred))\n",
    "    conf_mats_mouse.append(confusion_matrix(ts_labels, rf_pred))\n"
   ]
  },
  {
   "cell_type": "code",
   "execution_count": 214,
   "metadata": {},
   "outputs": [
    {
     "data": {
      "text/plain": [
       "[0.99125, 0.96125, 0.8725, 0.8825, 0.90625, 0.8575]"
      ]
     },
     "execution_count": 214,
     "metadata": {},
     "output_type": "execute_result"
    }
   ],
   "source": [
    "accs_mouse"
   ]
  },
  {
   "cell_type": "markdown",
   "metadata": {},
   "source": [
    "### Extracted fetures"
   ]
  },
  {
   "cell_type": "code",
   "execution_count": 78,
   "metadata": {},
   "outputs": [
    {
     "data": {
      "text/plain": [
       "0.9899874843554443"
      ]
     },
     "execution_count": 78,
     "metadata": {},
     "output_type": "execute_result"
    }
   ],
   "source": [
    "rf = RandomForestClassifier(n_estimators=100)\n",
    "rf.fit(train_data_proc, train_labels_proc)\n",
    "rf_pred = rf.predict(test_data_proc)\n",
    "accuracy_score(test_labels_proc, rf_pred)"
   ]
  },
  {
   "cell_type": "code",
   "execution_count": 94,
   "metadata": {},
   "outputs": [],
   "source": [
    "accs_mouse, conf_mats_mouse = [], []\n",
    "\n",
    "for mouse in range(1,7):\n",
    "    tr_data, tr_labels, ts_data, ts_labels = train_test_split(mouse, load_all_data)\n",
    "    tr_data_proc, ts_data_proc, tr_labels, ts_labels = extract_features(tr_data, ts_data, tr_labels, ts_labels)\n",
    "\n",
    "    rf = RandomForestClassifier(n_estimators=100)\n",
    "    rf.fit(tr_data_proc, tr_labels)\n",
    "    rf_pred = rf.predict(ts_data_proc)\n",
    "    \n",
    "    accs_mouse.append(accuracy_score(ts_labels, rf_pred))\n",
    "    conf_mats_mouse.append(confusion_matrix(ts_labels, rf_pred))"
   ]
  },
  {
   "cell_type": "code",
   "execution_count": null,
   "metadata": {},
   "outputs": [],
   "source": [
    "accs_mouse"
   ]
  },
  {
   "cell_type": "code",
   "execution_count": 83,
   "metadata": {},
   "outputs": [
    {
     "data": {
      "text/plain": [
       "(-1.0, 10.0)"
      ]
     },
     "execution_count": 83,
     "metadata": {},
     "output_type": "execute_result"
    },
    {
     "data": {
      "image/png": "[encoded data removed]",
      "text/plain": [
       "<Figure size 720x360 with 1 Axes>"
      ]
     },
     "metadata": {
      "needs_background": "light"
     },
     "output_type": "display_data"
    }
   ],
   "source": [
    "importances = rf.feature_importances_\n",
    "indices = np.argsort(importances)[::-1]\n",
    "\n",
    "#select 10 most important features\n",
    "indices = indices[:10]\n",
    "\n",
    "#plot\n",
    "plt.figure(figsize=(10, 5))\n",
    "plt.title(\"Feature importances\")\n",
    "plt.bar(range(10), importances[indices], align=\"center\")\n",
    "plt.xticks(range(10), indices)\n",
    "plt.xlim([-1, 10])"
   ]
  },
  {
   "cell_type": "code",
   "execution_count": 82,
   "metadata": {},
   "outputs": [
    {
     "data": {
      "image/png": "[encoded data removed]",
      "text/plain": [
       "<Figure size 720x504 with 2 Axes>"
      ]
     },
     "metadata": {
      "needs_background": "light"
     },
     "output_type": "display_data"
    }
   ],
   "source": [
    "plt.figure(figsize=(10, 7))\n",
    "sns.heatmap(np.corrcoef(tr_data_proc, rowvar=False), cmap='coolwarm', center=0)\n",
    "plt.title('Features correlation')\n",
    "plt.show()"
   ]
  },
  {
   "cell_type": "markdown",
   "metadata": {},
   "source": [
    "## Classification on 5 different speakers"
   ]
  },
  {
   "cell_type": "code",
   "execution_count": 134,
   "metadata": {},
   "outputs": [],
   "source": [
    "def train_test_split_speakers(mouse_id, data_vectors):\n",
    "    train_data, train_labels, test_data, test_labels = [], [], [], []\n",
    "    for data in data_vectors:\n",
    "        if data[0]['label'] == 0:\n",
    "            if data[0]['mouse'] == mouse_id:\n",
    "                all_sp_data = data[1]\n",
    "                test_data.append(all_sp_data[:,0,:])\n",
    "                test_labels.append(0)\n",
    "                test_data.append(all_sp_data[:,1,:])\n",
    "                test_labels.append(1)\n",
    "            else:\n",
    "                all_sp_data = data[1]\n",
    "                train_data.append(all_sp_data[:,0,:])\n",
    "                train_labels.append(0)\n",
    "                train_data.append(all_sp_data[:,1,:])\n",
    "                train_labels.append(1)\n",
    "\n",
    "    # shuffle train data\n",
    "    c = list(zip(train_data, train_labels))\n",
    "    random.shuffle(c)\n",
    "    train_data, train_labels = zip(*c)\n",
    "\n",
    "    # shuffle test data\n",
    "    c = list(zip(test_data, test_labels))\n",
    "    random.shuffle(c)\n",
    "    test_data, test_labels = zip(*c)\n",
    "\n",
    "    return train_data, train_labels, test_data, test_labels"
   ]
  },
  {
   "cell_type": "code",
   "execution_count": 135,
   "metadata": {},
   "outputs": [],
   "source": [
    "trd, trl, tsd, tsl = train_test_split_speakers(1, load_all_data)"
   ]
  },
  {
   "cell_type": "code",
   "execution_count": 111,
   "metadata": {},
   "outputs": [
    {
     "name": "stdout",
     "output_type": "stream",
     "text": [
      "Train len: 4000 Test len: 800\n",
      "{0, 1} {0, 1}\n"
     ]
    }
   ],
   "source": [
    "print('Train len:',len(trd), 'Test len:', len(tsd))\n",
    "print(set(trl), set(tsl))"
   ]
  },
  {
   "cell_type": "code",
   "execution_count": 112,
   "metadata": {},
   "outputs": [],
   "source": [
    "def extract_features(tr_data, ts_data, tr_labels, ts_labels):\n",
    "    power_tr_all, power_ts_all = [], []\n",
    "    del_list = []\n",
    " \n",
    "    for i in range(len(tr_data)):\n",
    "        power_tr = []\n",
    "        y = 0\n",
    "        \n",
    "        signal_neurons = tr_data[i].flatten()\n",
    "        if len(signal_neurons) == 0:\n",
    "            del_list.append(i)\n",
    "            y = 1\n",
    "            continue\n",
    "\n",
    "        # power spectrum\n",
    "        signal_power = np.abs(np.fft.fft(signal_neurons))**2\n",
    "        power_tr.append(np.max(signal_power))\n",
    "        power_tr.append(np.min(signal_power))\n",
    "        power_tr.append(np.std(signal_power))\n",
    "        # kurtosis\n",
    "        kurt = stats.kurtosis(signal_power)\n",
    "        if isnan(kurt) or isinf(kurt): kurt = 0\n",
    "        power_tr.append(kurt)\n",
    "        # skewness\n",
    "        skew = stats.skew(signal_power)\n",
    "        if isnan(skew) or isinf(skew): skew = 0\n",
    "        power_tr.append(skew)\n",
    "        # entropy\n",
    "        ent = stats.entropy(signal_power)\n",
    "        if isnan(ent) or isinf(ent): ent = 0\n",
    "        power_tr.append(ent)\n",
    "        # average spike rate\n",
    "        avg_spike_rate = np.mean(signal_power)\n",
    "        if isnan(avg_spike_rate) or isinf(avg_spike_rate): avg_spike_rate = 0\n",
    "        power_tr.append(avg_spike_rate)\n",
    "        # burstiness\n",
    "        burst = np.max(signal_power) / avg_spike_rate\n",
    "        if isnan(burst) or isinf(burst): burst = 0\n",
    "        power_tr.append(burst)\n",
    "        # pattern\n",
    "        pattern = np.max(signal_power) / np.mean(signal_power)\n",
    "        if isnan(pattern) or isinf(pattern): pattern = 0\n",
    "        power_tr.append(pattern)\n",
    "\n",
    "        if y == 0:\n",
    "            power_tr_all.append(power_tr)\n",
    "\n",
    "    tr_labels = np.delete(tr_labels, del_list)\n",
    "    del_list = []  \n",
    "\n",
    "    for i in range(len(ts_data)):\n",
    "        power_ts = []\n",
    "        y = 0\n",
    "        signal_neurons = ts_data[i].flatten()\n",
    "        if len(signal_neurons) == 0:\n",
    "            del_list.append(i)\n",
    "            y = 1\n",
    "            continue\n",
    "\n",
    "        # power spectrum\n",
    "        signal_power = np.abs(np.fft.fft(signal_neurons))**2\n",
    "        power_ts.append(np.max(signal_power))\n",
    "        power_ts.append(np.min(signal_power))\n",
    "        power_ts.append(np.std(signal_power))  \n",
    "        # kurtosis\n",
    "        kurt = stats.kurtosis(signal_power)\n",
    "        if isnan(kurt) or isinf(kurt): kurt = 0\n",
    "        power_ts.append(kurt)\n",
    "        # skewness\n",
    "        skew = stats.skew(signal_power)\n",
    "        if isnan(skew) or isinf(skew): skew = 0\n",
    "        power_ts.append(skew)\n",
    "        # entropy\n",
    "        ent = stats.entropy(signal_power)\n",
    "        if isnan(ent) or isinf(ent): ent = 0\n",
    "        power_ts.append(ent)\n",
    "        # average spike rate\n",
    "        avg_spike_rate = np.mean(signal_power)\n",
    "        if isnan(avg_spike_rate) or isinf(avg_spike_rate): avg_spike_rate = 0\n",
    "        power_ts.append(avg_spike_rate)\n",
    "        # burstiness\n",
    "        burst = np.max(signal_power) / avg_spike_rate\n",
    "        if isnan(burst) or isinf(burst): burst = 0\n",
    "        power_ts.append(burst)\n",
    "        # pattern\n",
    "        pattern = np.max(signal_power) / np.mean(signal_power)\n",
    "        if isnan(pattern) or isinf(pattern): pattern = 0\n",
    "        power_ts.append(pattern)\n",
    "\n",
    "        if y == 0:\n",
    "            power_ts_all.append(power_ts)\n",
    "\n",
    "    ts_labels = np.delete(ts_labels, del_list)\n",
    "\n",
    "    return power_tr_all, power_ts_all, tr_labels, ts_labels"
   ]
  },
  {
   "cell_type": "code",
   "execution_count": 151,
   "metadata": {},
   "outputs": [],
   "source": [
    "def extract_features(tr_data, ts_data, tr_labels, ts_labels):\n",
    "    power_tr_all, power_ts_all = [], []\n",
    "    del_list = []\n",
    " \n",
    "    for i in range(len(tr_data)):\n",
    "        power_tr = []\n",
    "        \n",
    "        # correlation between neurons in tr_data[i]\n",
    "        corr = np.corrcoef(tr_data[i])\n",
    "        # exclude all raw with all nans and columns with all nans from corr\n",
    "        corr = corr[~np.all(np.isnan(corr), axis=1)]\n",
    "        corr = corr[:, ~np.all(np.isnan(corr), axis=0)]\n",
    "\n",
    "        if len(corr.flatten()) == 0:\n",
    "            del_list.append(i)\n",
    "            continue\n",
    "\n",
    "        maxs, mins, stds, means = [], [], [], []\n",
    "        for neuron in corr:\n",
    "            maxs.append(np.max(neuron))\n",
    "            mins.append(np.min(neuron))\n",
    "            stds.append(np.std(neuron))\n",
    "            means.append(np.mean(neuron))\n",
    "        '''\n",
    "        power_tr.append(np.max(maxs))\n",
    "        power_tr.append(np.min(maxs))\n",
    "        power_tr.append(np.std(maxs))\n",
    "        power_tr.append(np.mean(maxs))\n",
    "        power_tr.append(np.max(mins))\n",
    "        power_tr.append(np.min(mins))\n",
    "        power_tr.append(np.std(mins))\n",
    "        power_tr.append(np.mean(mins))\n",
    "        power_tr.append(np.max(stds))\n",
    "        power_tr.append(np.min(stds))\n",
    "        power_tr.append(np.std(stds))\n",
    "        power_tr.append(np.mean(stds))\n",
    "        power_tr.append(np.max(means))\n",
    "        power_tr.append(np.min(means))\n",
    "        power_tr.append(np.std(means))\n",
    "        power_tr.append(np.mean(means))\n",
    "        '''\n",
    "        #concat maxs, mins, stds, means\n",
    "        power_tr = maxs + mins + stds + means\n",
    "\n",
    "        power_tr_all.append(power_tr)\n",
    "\n",
    "    tr_labels = np.delete(tr_labels, del_list)\n",
    "    del_list = []  \n",
    "\n",
    "    for i in range(len(ts_data)):\n",
    "        power_ts = []\n",
    "\n",
    "        # correlation between neurons in ts_data[i]\n",
    "        corr = np.corrcoef(ts_data[i], rowvar=False)\n",
    "        # exclude all raw with all nans and columns with all nans from corr\n",
    "        corr = corr[~np.all(np.isnan(corr), axis=1)]\n",
    "        corr = corr[:, ~np.all(np.isnan(corr), axis=0)]\n",
    "        \n",
    "        if len(corr.flatten()) == 0:\n",
    "            del_list.append(i)\n",
    "            continue\n",
    "        \n",
    "        maxs, mins, stds, means = [], [], [], []\n",
    "        for neuron in corr:\n",
    "            maxs.append(np.max(neuron)) \n",
    "            mins.append(np.min(neuron))\n",
    "            stds.append(np.std(neuron))\n",
    "            means.append(np.mean(neuron))\n",
    "\n",
    "        '''\n",
    "        power_ts.append(np.max(maxs))\n",
    "        power_ts.append(np.min(maxs))\n",
    "        power_ts.append(np.std(maxs))\n",
    "        power_ts.append(np.mean(maxs))\n",
    "        power_ts.append(np.max(mins))\n",
    "        power_ts.append(np.min(mins))\n",
    "        power_ts.append(np.std(mins))\n",
    "        power_ts.append(np.mean(mins))\n",
    "        power_ts.append(np.max(stds))\n",
    "        power_ts.append(np.min(stds))\n",
    "        power_ts.append(np.std(stds))\n",
    "        power_ts.append(np.mean(stds))\n",
    "        power_ts.append(np.max(means))\n",
    "        power_ts.append(np.min(means))\n",
    "        power_ts.append(np.std(means))\n",
    "        power_ts.append(np.mean(means))\n",
    "        '''\n",
    "\n",
    "        #concat maxs, mins, stds, means\n",
    "        power_ts = maxs + mins + stds + means\n",
    "        \n",
    "        power_ts_all.append(power_ts)\n",
    "\n",
    "    ts_labels = np.delete(ts_labels, del_list)\n",
    "\n",
    "    max_len_tr = max([len(i) for i in power_tr_all])\n",
    "    max_len_ts = max([len(i) for i in power_ts_all])\n",
    "    max_len = max(max_len_tr, max_len_ts)\n",
    "\n",
    "    # fill with zeros float64\n",
    "    for i in range(len(power_tr_all)):\n",
    "        power_tr_all[i] = np.append(power_tr_all[i], np.zeros(max_len - len(power_tr_all[i]))) \n",
    "    for i in range(len(power_ts_all)):\n",
    "        power_ts_all[i] = np.append(power_ts_all[i], np.zeros(max_len - len(power_ts_all[i])))\n",
    "\n",
    "    power_tr_all = [list(i) for i in power_tr_all]\n",
    "    power_ts_all = [list(i) for i in power_ts_all]\n",
    "\n",
    "    return power_tr_all, power_ts_all, tr_labels, ts_labels"
   ]
  },
  {
   "cell_type": "code",
   "execution_count": 146,
   "metadata": {},
   "outputs": [],
   "source": [
    "def process_data(tr_data, ts_data):\n",
    "\n",
    "    tr_data = [np.array(i) for i in tr_data]\n",
    "    ts_data = [np.array(i) for i in ts_data]\n",
    "    tr_data = np.array(tr_data)\n",
    "    ts_data = np.array(ts_data)\n",
    "    \n",
    "    for i in range(len(tr_data)):\n",
    "        tr_data[i] = tr_data[i][:,10:].flatten()\n",
    "    for i in range(len(ts_data)):\n",
    "        ts_data[i] = ts_data[i][:,10:].flatten()\n",
    "\n",
    "    max_len_tr = max([len(i) for i in tr_data])\n",
    "    max_len_ts = max([len(i) for i in ts_data])\n",
    "    max_len = max(max_len_tr, max_len_ts)\n",
    "\n",
    "    # fill with zeros float64\n",
    "    for i in range(len(tr_data)):\n",
    "        tr_data[i] = np.append(tr_data[i], np.zeros(max_len - len(tr_data[i])))\n",
    "    for i in range(len(ts_data)):\n",
    "        ts_data[i] = np.append(ts_data[i], np.zeros(max_len - len(ts_data[i])))\n",
    "\n",
    "    tr_data = [list(i) for i in tr_data]\n",
    "    ts_data = [list(i) for i in ts_data]\n",
    "\n",
    "    return tr_data, ts_data"
   ]
  },
  {
   "cell_type": "code",
   "execution_count": 158,
   "metadata": {},
   "outputs": [],
   "source": [
    "trd, trl, tsd, tsl = train_test_split_speakers(5, load_all_data)\n",
    "train_data_proc, test_data_proc, trl, tsl = extract_features(trd, tsd, trl, tsl)\n",
    "#train_data_proc, test_data_proc = process_data(trd, tsd)"
   ]
  },
  {
   "cell_type": "code",
   "execution_count": 159,
   "metadata": {},
   "outputs": [
    {
     "name": "stdout",
     "output_type": "stream",
     "text": [
      "3391 727 3391 727\n"
     ]
    }
   ],
   "source": [
    "print(len(train_data_proc), len(test_data_proc), len(trl), len(tsl))"
   ]
  },
  {
   "cell_type": "code",
   "execution_count": 160,
   "metadata": {},
   "outputs": [
    {
     "data": {
      "text/plain": [
       "0.5116918844566712"
      ]
     },
     "execution_count": 160,
     "metadata": {},
     "output_type": "execute_result"
    }
   ],
   "source": [
    "rf = RandomForestClassifier(n_estimators=100)\n",
    "rf.fit(train_data_proc, trl)\n",
    "rf_pred = rf.predict(test_data_proc)\n",
    "accuracy_score(tsl, rf_pred)"
   ]
  },
  {
   "cell_type": "code",
   "execution_count": 161,
   "metadata": {},
   "outputs": [
    {
     "name": "stdout",
     "output_type": "stream",
     "text": [
      "[20:51:39] WARNING: C:/Users/Administrator/workspace/xgboost-win64_release_1.5.1/src/learner.cc:1115: Starting in XGBoost 1.3.0, the default evaluation metric used with the objective 'binary:logistic' was changed from 'error' to 'logloss'. Explicitly set eval_metric if you'd like to restore the old behavior.\n"
     ]
    },
    {
     "data": {
      "text/plain": [
       "0.4938101788170564"
      ]
     },
     "execution_count": 161,
     "metadata": {},
     "output_type": "execute_result"
    }
   ],
   "source": [
    "xgb = XGBClassifier()\n",
    "xgb.fit(train_data_proc, trl)\n",
    "xgb_pred = xgb.predict(test_data_proc)\n",
    "accuracy_score(tsl, xgb_pred)"
   ]
  },
  {
   "cell_type": "code",
   "execution_count": 162,
   "metadata": {},
   "outputs": [
    {
     "data": {
      "image/png": "[encoded data removed]",
      "text/plain": [
       "<Figure size 720x504 with 2 Axes>"
      ]
     },
     "metadata": {
      "needs_background": "light"
     },
     "output_type": "display_data"
    }
   ],
   "source": [
    "conf_mats = []\n",
    "conf_mats.append(confusion_matrix(tsl, rf_pred))\n",
    "plt.figure(figsize=(10, 7))\n",
    "sns.heatmap(conf_mats[0], annot=True, fmt='d', cmap='Blues')\n",
    "plt.xlabel('Predicted labels')\n",
    "plt.ylabel('True labels')\n",
    "plt.title('Confusion matrix')\n",
    "plt.show()"
   ]
  },
  {
   "cell_type": "markdown",
   "metadata": {},
   "source": [
    "# STARO"
   ]
  },
  {
   "cell_type": "code",
   "execution_count": 9,
   "metadata": {},
   "outputs": [],
   "source": [
    "def podela_podataka(data_vectors):\n",
    "    max = 0\n",
    "    for i in range(0,len(data_vectors)):\n",
    "        if(data_vectors[i][1].shape[0] > max):\n",
    "            max = data_vectors[i][1].shape[0]\n",
    "\n",
    "    X_train, y_train, X_test, y_test = np.empty([1, max, data_vectors[0][1].shape[1]]), [], np.empty([1, max, data_vectors[0][1].shape[1]]),[]\n",
    "    i,j = 0,0\n",
    "\n",
    "    max_norm = 0\n",
    "    min_norm = 50\n",
    "    for a in data_vectors:\n",
    "        for x in a[1]:\n",
    "            for y in x:\n",
    "                if(y > max_norm):\n",
    "                    max_norm = y\n",
    "                if(y < min_norm):\n",
    "                    min_norm = y\n",
    "\n",
    "    for a in range(0, len(data_vectors)):\n",
    "        for x in range(0, len(data_vectors[a][1])):\n",
    "            for y in range(0, len(data_vectors[a][1][x])):\n",
    "                data_vectors[a][1][x][y] = (data_vectors[a][1][x][y] - min_norm) / (max_norm - min_norm)\n",
    "\n",
    "    random.shuffle(data_vectors)\n",
    "    for item in data_vectors:\n",
    "        if item[2]==[1]:\n",
    "            i = i + 1\n",
    "            if i <= 50:\n",
    "                if(np.array(item[1]).shape[0] < max):\n",
    "                    item[1] = np.pad(item[1], [(0, max-np.array(item[1]).shape[0]), (0, 0)], mode='constant' , constant_values=0)\n",
    "                X_test = np.append(X_test, np.array(item[1]).reshape(1, item[1].shape[0], np.array(item[1]).shape[1]), axis=0)\n",
    "                y_test.append(item[2])\n",
    "                #y_test.append(random.choice([[0], [1]]))\n",
    "            else:\n",
    "                if(np.array(item[1]).shape[0] < max):\n",
    "                    item[1] = np.pad(item[1], [(0, max-np.array(item[1]).shape[0]), (0, 0)], mode='constant', constant_values=0)\n",
    "                X_train = np.append(X_train, np.array(item[1]).reshape(1, np.array(item[1]).shape[0], np.array(item[1]).shape[1]), axis=0)\n",
    "                y_train.append(item[2])\n",
    "        else:\n",
    "            j = j + 1\n",
    "            if  j <= 50:\n",
    "                if(np.array(item[1]).shape[0] < max):\n",
    "                    item[1] = np.pad(item[1], [(0, max-np.array(item[1]).shape[0]), (0, 0)], mode='constant', constant_values=0)\n",
    "                X_test = np.append(X_test, np.array(item[1]).reshape(1, np.array(item[1]).shape[0], np.array(item[1]).shape[1]), axis=0)\n",
    "                y_test.append(item[2])\n",
    "                #y_test.append(random.choice([[0], [1]]))\n",
    "            else:\n",
    "                if(np.array(item[1]).shape[0] < max):\n",
    "                    item[1] = np.pad(item[1], [(0, max-np.array(item[1]).shape[0]), (0, 0)], mode='constant', constant_values=0)\n",
    "                X_train = np.append(X_train, np.array(item[1]).reshape(1, np.array(item[1]).shape[0], np.array(item[1]).shape[1]), axis=0)\n",
    "                y_train.append(item[2])\n",
    "    \n",
    "    X_train = np.array(X_train[1:])\n",
    "    y_train = np.array(y_train)\n",
    "    X_test = np.array(X_test[1:])\n",
    "    y_test = np.array(y_test)\n",
    "    \n",
    "    return X_train, y_train, X_test, y_test"
   ]
  },
  {
   "cell_type": "code",
   "execution_count": 10,
   "metadata": {},
   "outputs": [],
   "source": [
    "def podela_podataka_tren(data_vectors):\n",
    "    max = 110\n",
    "    X_train, y_train = np.empty([1, max, data_vectors[0][1].shape[1]]), []\n",
    "\n",
    "    max_norm = 0\n",
    "    min_norm = 50\n",
    "    for a in data_vectors:\n",
    "        for x in a[1]:\n",
    "            for y in x:\n",
    "                if(y > max_norm):\n",
    "                    max_norm = y\n",
    "                if(y < min_norm):\n",
    "                    min_norm = y\n",
    "\n",
    "    for a in range(0, len(data_vectors)):\n",
    "        for x in range(0, len(data_vectors[a][1])):\n",
    "            for y in range(0, len(data_vectors[a][1][x])):\n",
    "                data_vectors[a][1][x][y] = (data_vectors[a][1][x][y] - min_norm) / (max_norm - min_norm)\n",
    "\n",
    "    random.shuffle(data_vectors)\n",
    "\n",
    "    for item in data_vectors:\n",
    "        if(item[1].shape[0] < max):\n",
    "            item[1] = np.pad(item[1], [(0, max-item[1].shape[0]), (0, 0)], mode='constant', constant_values=0)      \n",
    "        X_train = np.append(X_train, item[1].reshape(1, item[1].shape[0], item[1].shape[1]), axis=0)\n",
    "        #y_train.append(item[2])\n",
    "        y_train.append(random.choice([[0], [1]]))\n",
    "    \n",
    "    X_train = np.array(X_train[1:])\n",
    "    y_train = np.array(y_train)\n",
    "    \n",
    "    return X_train, y_train"
   ]
  },
  {
   "cell_type": "markdown",
   "metadata": {},
   "source": [
    "#### Test/Train"
   ]
  },
  {
   "cell_type": "code",
   "execution_count": null,
   "metadata": {},
   "outputs": [],
   "source": [
    "#putanja = \"C:/Users/Zephyrus/Desktop/cnn data/data\"\n",
    "putanja = \"C:/Users/Zephyrus/Marija/projekti/MINHEN/cnn data/data\"\n",
    "#niz od podataka za svaku sekvencu (podatak je niz od id-ja, sekvence i labele)\n",
    "podaci = ucitavanje_podataka(putanja)\n",
    "vektorizovani_podaci = vektorizacija(podaci)\n",
    "\n",
    "X_train, y_train, X_test, y_test = podela_podataka(vektorizovani_podaci)\n",
    "X_train = np.array(X_train, dtype=object)\n",
    "y_train = np.array(y_train)\n",
    "X_test = np.array(X_test, dtype=object)\n",
    "y_test = np.array(y_test)"
   ]
  },
  {
   "cell_type": "code",
   "execution_count": null,
   "metadata": {},
   "outputs": [],
   "source": [
    "X_tr = []\n",
    "for i in X_train:\n",
    "    temp = []\n",
    "    for j in i:\n",
    "        for k in j:\n",
    "            if(isnan(k)):\n",
    "                k = 0\n",
    "            temp.append(k)\n",
    "    X_tr.append(temp)\n",
    "X_train = np.array(X_tr, dtype=object)\n",
    "\n",
    "X_ts = []\n",
    "for i in X_test:\n",
    "    temp = []\n",
    "    for j in i:\n",
    "        for k in j:\n",
    "            if(isnan(k)):\n",
    "                k = 0\n",
    "            temp.append(k)\n",
    "    X_ts.append(temp) \n",
    "X_test = np.array(X_ts, dtype=object)"
   ]
  },
  {
   "cell_type": "markdown",
   "metadata": {},
   "source": [
    "### KNN"
   ]
  },
  {
   "cell_type": "code",
   "execution_count": null,
   "metadata": {},
   "outputs": [
    {
     "data": {
      "text/html": [
       "<style>#sk-container-id-36 {color: black;background-color: white;}#sk-container-id-36 pre{padding: 0;}#sk-container-id-36 div.sk-toggleable {background-color: white;}#sk-container-id-36 label.sk-toggleable__label {cursor: pointer;display: block;width: 100%;margin-bottom: 0;padding: 0.3em;box-sizing: border-box;text-align: center;}#sk-container-id-36 label.sk-toggleable__label-arrow:before {content: \"▸\";float: left;margin-right: 0.25em;color: #696969;}#sk-container-id-36 label.sk-toggleable__label-arrow:hover:before {color: black;}#sk-container-id-36 div.sk-estimator:hover label.sk-toggleable__label-arrow:before {color: black;}#sk-container-id-36 div.sk-toggleable__content {max-height: 0;max-width: 0;overflow: hidden;text-align: left;background-color: #f0f8ff;}#sk-container-id-36 div.sk-toggleable__content pre {margin: 0.2em;color: black;border-radius: 0.25em;background-color: #f0f8ff;}#sk-container-id-36 input.sk-toggleable__control:checked~div.sk-toggleable__content {max-height: 200px;max-width: 100%;overflow: auto;}#sk-container-id-36 input.sk-toggleable__control:checked~label.sk-toggleable__label-arrow:before {content: \"▾\";}#sk-container-id-36 div.sk-estimator input.sk-toggleable__control:checked~label.sk-toggleable__label {background-color: #d4ebff;}#sk-container-id-36 div.sk-label input.sk-toggleable__control:checked~label.sk-toggleable__label {background-color: #d4ebff;}#sk-container-id-36 input.sk-hidden--visually {border: 0;clip: rect(1px 1px 1px 1px);clip: rect(1px, 1px, 1px, 1px);height: 1px;margin: -1px;overflow: hidden;padding: 0;position: absolute;width: 1px;}#sk-container-id-36 div.sk-estimator {font-family: monospace;background-color: #f0f8ff;border: 1px dotted black;border-radius: 0.25em;box-sizing: border-box;margin-bottom: 0.5em;}#sk-container-id-36 div.sk-estimator:hover {background-color: #d4ebff;}#sk-container-id-36 div.sk-parallel-item::after {content: \"\";width: 100%;border-bottom: 1px solid gray;flex-grow: 1;}#sk-container-id-36 div.sk-label:hover label.sk-toggleable__label {background-color: #d4ebff;}#sk-container-id-36 div.sk-serial::before {content: \"\";position: absolute;border-left: 1px solid gray;box-sizing: border-box;top: 0;bottom: 0;left: 50%;z-index: 0;}#sk-container-id-36 div.sk-serial {display: flex;flex-direction: column;align-items: center;background-color: white;padding-right: 0.2em;padding-left: 0.2em;position: relative;}#sk-container-id-36 div.sk-item {position: relative;z-index: 1;}#sk-container-id-36 div.sk-parallel {display: flex;align-items: stretch;justify-content: center;background-color: white;position: relative;}#sk-container-id-36 div.sk-item::before, #sk-container-id-36 div.sk-parallel-item::before {content: \"\";position: absolute;border-left: 1px solid gray;box-sizing: border-box;top: 0;bottom: 0;left: 50%;z-index: -1;}#sk-container-id-36 div.sk-parallel-item {display: flex;flex-direction: column;z-index: 1;position: relative;background-color: white;}#sk-container-id-36 div.sk-parallel-item:first-child::after {align-self: flex-end;width: 50%;}#sk-container-id-36 div.sk-parallel-item:last-child::after {align-self: flex-start;width: 50%;}#sk-container-id-36 div.sk-parallel-item:only-child::after {width: 0;}#sk-container-id-36 div.sk-dashed-wrapped {border: 1px dashed gray;margin: 0 0.4em 0.5em 0.4em;box-sizing: border-box;padding-bottom: 0.4em;background-color: white;}#sk-container-id-36 div.sk-label label {font-family: monospace;font-weight: bold;display: inline-block;line-height: 1.2em;}#sk-container-id-36 div.sk-label-container {text-align: center;}#sk-container-id-36 div.sk-container {/* jupyter's `normalize.less` sets `[hidden] { display: none; }` but bootstrap.min.css set `[hidden] { display: none !important; }` so we also need the `!important` here to be able to override the default hidden behavior on the sphinx rendered scikit-learn.org. See: https://github.com/scikit-learn/scikit-learn/issues/21755 */display: inline-block !important;position: relative;}#sk-container-id-36 div.sk-text-repr-fallback {display: none;}</style><div id=\"sk-container-id-36\" class=\"sk-top-container\"><div class=\"sk-text-repr-fallback\"><pre>OneVsRestClassifier(estimator=KNeighborsClassifier())</pre><b>In a Jupyter environment, please rerun this cell to show the HTML representation or trust the notebook. <br />On GitHub, the HTML representation is unable to render, please try loading this page with nbviewer.org.</b></div><div class=\"sk-container\" hidden><div class=\"sk-item sk-dashed-wrapped\"><div class=\"sk-label-container\"><div class=\"sk-label sk-toggleable\"><input class=\"sk-toggleable__control sk-hidden--visually\" id=\"sk-estimator-id-106\" type=\"checkbox\" ><label for=\"sk-estimator-id-106\" class=\"sk-toggleable__label sk-toggleable__label-arrow\">OneVsRestClassifier</label><div class=\"sk-toggleable__content\"><pre>OneVsRestClassifier(estimator=KNeighborsClassifier())</pre></div></div></div><div class=\"sk-parallel\"><div class=\"sk-parallel-item\"><div class=\"sk-item\"><div class=\"sk-label-container\"><div class=\"sk-label sk-toggleable\"><input class=\"sk-toggleable__control sk-hidden--visually\" id=\"sk-estimator-id-107\" type=\"checkbox\" ><label for=\"sk-estimator-id-107\" class=\"sk-toggleable__label sk-toggleable__label-arrow\">estimator: KNeighborsClassifier</label><div class=\"sk-toggleable__content\"><pre>KNeighborsClassifier()</pre></div></div></div><div class=\"sk-serial\"><div class=\"sk-item\"><div class=\"sk-estimator sk-toggleable\"><input class=\"sk-toggleable__control sk-hidden--visually\" id=\"sk-estimator-id-108\" type=\"checkbox\" ><label for=\"sk-estimator-id-108\" class=\"sk-toggleable__label sk-toggleable__label-arrow\">KNeighborsClassifier</label><div class=\"sk-toggleable__content\"><pre>KNeighborsClassifier()</pre></div></div></div></div></div></div></div></div></div></div>"
      ],
      "text/plain": [
       "OneVsRestClassifier(estimator=KNeighborsClassifier())"
      ]
     },
     "execution_count": 686,
     "metadata": {},
     "output_type": "execute_result"
    }
   ],
   "source": [
    "knn = OneVsRestClassifier(KNeighborsClassifier())\n",
    "knn.fit(X_train,y_train)"
   ]
  },
  {
   "cell_type": "code",
   "execution_count": null,
   "metadata": {},
   "outputs": [],
   "source": [
    "predictions = knn.predict(X_test)"
   ]
  },
  {
   "cell_type": "code",
   "execution_count": null,
   "metadata": {},
   "outputs": [
    {
     "name": "stdout",
     "output_type": "stream",
     "text": [
      "KNN Accuracy: 1.000\n"
     ]
    }
   ],
   "source": [
    "print('KNN Accuracy: %.3f' % accuracy_score(y_test,predictions))"
   ]
  },
  {
   "cell_type": "code",
   "execution_count": null,
   "metadata": {},
   "outputs": [
    {
     "data": {
      "text/plain": [
       "Text(0.5, 1.0, 'Accuracy Score: 1.0')"
      ]
     },
     "execution_count": 689,
     "metadata": {},
     "output_type": "execute_result"
    },
    {
     "data": {
      "image/png": "[encoded data removed]",
      "text/plain": [
       "<Figure size 648x648 with 2 Axes>"
      ]
     },
     "metadata": {
      "needs_background": "light"
     },
     "output_type": "display_data"
    }
   ],
   "source": [
    "cm = confusion_matrix(y_test,predictions)\n",
    "plt.figure(figsize=(9,9))\n",
    "sns.heatmap(cm,annot=True, fmt='.3f', linewidths=.5, square=True,cmap='Blues_r')\n",
    "plt.ylabel('Actual label')\n",
    "plt.xlabel('Predicted label')\n",
    "all_sample_title = 'Accuracy Score: {0}'.format(accuracy_score(y_test,predictions))\n",
    "plt.title(all_sample_title,size=15)"
   ]
  },
  {
   "cell_type": "markdown",
   "metadata": {},
   "source": [
    "### Random Forest"
   ]
  },
  {
   "cell_type": "markdown",
   "metadata": {},
   "source": [
    "##### Implementation"
   ]
  },
  {
   "cell_type": "code",
   "execution_count": 690,
   "metadata": {},
   "outputs": [],
   "source": [
    "def RF(X_train, y_train, X_test, y_test):\n",
    "    forest = RandomForestClassifier(criterion='gini',\n",
    "                                    n_estimators=5,\n",
    "                                    random_state=1,\n",
    "                                    n_jobs=2)\n",
    "\n",
    "    forest.fit(X_train, y_train)\n",
    "\n",
    "    y_pred = forest.predict(X_test)\n",
    "\n",
    "    print('Accuracy: %.3f' % accuracy_score(y_test, y_pred))\n",
    "    \n",
    "    return y_pred"
   ]
  },
  {
   "cell_type": "code",
   "execution_count": 691,
   "metadata": {},
   "outputs": [],
   "source": [
    "def mat_of_conf(y_test,y_pred,br1,br2):\n",
    "    cm = confusion_matrix(y_test,y_pred)\n",
    "\n",
    "    plt.figure(figsize=(9,9))\n",
    "    sns.heatmap(cm,annot=True, fmt='.3f', linewidths=.5, square=True,cmap='Blues_r')\n",
    "    plt.ylabel('Actual label')\n",
    "    plt.xlabel('Predicted label')\n",
    "    all_sample_title = 'Accuracy Score: {0}'.format(accuracy_score(y_test,y_pred))\n",
    "    plt.title(all_sample_title,size=15)\n",
    "    plt.savefig(\"C:/Users/m.nedeljkovic/Desktop/ses/ses_\" + str(br1) + \"_\" + str(br2) + \".jpeg\")"
   ]
  },
  {
   "cell_type": "code",
   "execution_count": 693,
   "metadata": {},
   "outputs": [
    {
     "name": "stdout",
     "output_type": "stream",
     "text": [
      "Accuracy: 1.000\n"
     ]
    },
    {
     "data": {
      "image/png": "[encoded data removed]",
      "text/plain": [
       "<Figure size 648x648 with 2 Axes>"
      ]
     },
     "metadata": {
      "needs_background": "light"
     },
     "output_type": "display_data"
    }
   ],
   "source": [
    "Forest = RF(X_train, y_train, X_test, y_test)\n",
    "mat_of_conf(y_test,Forest)"
   ]
  },
  {
   "cell_type": "markdown",
   "metadata": {},
   "source": [
    "##### Iterating over different regions"
   ]
  },
  {
   "cell_type": "code",
   "execution_count": null,
   "metadata": {},
   "outputs": [],
   "source": [
    "import warnings\n",
    "warnings.filterwarnings('ignore')\n",
    "from cmath import isnan\n",
    "\n",
    "#putanja = \"C:/Users/Zephyrus/Desktop/cnn data/data\"\n",
    "putanja = \"C:/Users/m.nedeljkovic/Desktop/cnn data/data\"\n",
    "mat_load, roi_load, ind_load, list1, list2, list3, list4 = load_data()\n",
    "\n",
    "for br1 in range(1,13):\n",
    "    for br2 in range(1,13):\n",
    "        if(br1!=br2):\n",
    "            print(\"Trained on region \" + str(br1) + \", and tested on region \" + str(br2))\n",
    "\n",
    "            for file_name in os.listdir(putanja):\n",
    "                # construct full file path\n",
    "                file = putanja + \"/\" + file_name\n",
    "                os.remove(file)\n",
    "\n",
    "            mat_load, roi_load, ind_load, list1, list2, list3, list4 = load_data()\n",
    "            data_per_trial(1, mat_load, roi_load, ind_load, list1, list2, list3, list4)\n",
    "\n",
    "            #niz od podataka za svaku sekvencu (podatak je niz od id-ja, sekvence i labele)\n",
    "            podaci = ucitavanje_podataka(putanja)\n",
    "            vektorizovani_podaci = vektorizacija(podaci)\n",
    "\n",
    "            X_train, y_train, X_test, y_test = podela_podataka(vektorizovani_podaci)\n",
    "            X_train = np.array(X_train, dtype=object)\n",
    "            y_train = np.array(y_train)\n",
    "            X_test = np.array(X_test, dtype=object)\n",
    "            y_test = np.array(y_test)\n",
    "\n",
    "            X_tr = []\n",
    "            for i in X_train:\n",
    "                temp = []\n",
    "                for j in i:\n",
    "                    for k in j:\n",
    "                        if(isnan(k)):\n",
    "                            k = 0\n",
    "                        temp.append(k)\n",
    "                X_tr.append(temp)\n",
    "            X_train = np.array(X_tr, dtype=object)\n",
    "\n",
    "            X_ts = []\n",
    "            for i in X_test:\n",
    "                temp = []\n",
    "                for j in i:\n",
    "                    for k in j:\n",
    "                        if(isnan(k)):\n",
    "                            k = 0\n",
    "                        temp.append(k)\n",
    "                X_ts.append(temp) \n",
    "            X_test = np.array(X_ts, dtype=object)\n",
    "            Forest = RF(X_train, y_train, X_test, y_test)\n",
    "            mat_of_conf(y_test,Forest,br1,br2)\n"
   ]
  },
  {
   "cell_type": "markdown",
   "metadata": {},
   "source": [
    "### Iterating over different sessions knn and rf"
   ]
  },
  {
   "cell_type": "code",
   "execution_count": 696,
   "metadata": {},
   "outputs": [
    {
     "name": "stdout",
     "output_type": "stream",
     "text": [
      "Accuracy: 0.600\n",
      "[17:53:17] WARNING: C:/Users/Administrator/workspace/xgboost-win64_release_1.6.0/src/objective/regression_obj.cu:203: reg:linear is now deprecated in favor of reg:squarederror.\n",
      "KNN:  0.59\n",
      "RF:  0.6\n",
      "XGB:  0.6\n"
     ]
    }
   ],
   "source": [
    "import warnings\n",
    "warnings.filterwarnings('ignore')\n",
    "\n",
    "#putanja = \"C:/Users/Zephyrus/Desktop/cnn data/data\"\n",
    "putanja = \"C:/Users/m.nedeljkovic/Desktop/cnn data/data\"\n",
    "\n",
    "mat_load, roi_load, ind_load, list1, list2, list3, list4 = load_data()\n",
    "\n",
    "for tr in range(1,13):\n",
    "\n",
    "    X_train, X_test, y_train, y_test = [], [], [], []\n",
    "\n",
    "    br1 = 3\n",
    "    for br in [0,1,2]:\n",
    "\n",
    "        for file_name in os.listdir(putanja):\n",
    "            # construct full file path\n",
    "            file = putanja + \"/\" + file_name\n",
    "            os.remove(file)\n",
    "\n",
    "        data_per_ses(tr, br, mat_load, roi_load, ind_load, list1, list2, list3, list4)\n",
    "        podaci = ucitavanje_podataka(putanja)\n",
    "        vektorizovani_podaci = vektorizacija(podaci)\n",
    "        X_train_, y_train_ = podela_podataka_tren(vektorizovani_podaci)\n",
    "        X_tr = []\n",
    "        for i in X_train_:\n",
    "            temp = []\n",
    "            for j in i:\n",
    "                for k in j:\n",
    "                    if(isnan(k)):\n",
    "                        k = 0\n",
    "                    temp.append(k)\n",
    "            X_tr.append(temp)\n",
    "        X_train_ = np.nan_to_num(X_tr)\n",
    "\n",
    "        for mm in X_train_:\n",
    "            X_train.append(mm)\n",
    "        for mm in y_train_:\n",
    "            y_train.append(mm)\n",
    "\n",
    "    for file_name in os.listdir(putanja):\n",
    "        # construct full file path\n",
    "        file = putanja + \"/\" + file_name\n",
    "        os.remove(file)\n",
    "\n",
    "    data_per_ses(tr, br1, mat_load, roi_load, ind_load, list1, list2, list3, list4)\n",
    "    podaci = ucitavanje_podataka(putanja)\n",
    "    vektorizovani_podaci = vektorizacija(podaci)\n",
    "    X_train_, y_train_ = podela_podataka_tren(vektorizovani_podaci)\n",
    "    X_tr = []\n",
    "    for i in X_train_:\n",
    "        temp = []\n",
    "        for j in i:\n",
    "            for k in j:\n",
    "                if(isnan(k)):\n",
    "                    k = 0\n",
    "                temp.append(k)\n",
    "        X_tr.append(temp)\n",
    "    X_train_ = np.nan_to_num(X_tr)\n",
    "\n",
    "    for mm in X_train_:\n",
    "        X_test.append(mm)\n",
    "        \n",
    "    for mm in y_train_:\n",
    "        y_test.append(mm)\n",
    "    \n",
    "    X_train = np.array(X_train, dtype=object)\n",
    "    y_train = np.array(y_train)\n",
    "    X_test = np.array(X_test, dtype=object)\n",
    "    y_test = np.array(y_test)\n",
    "            \n",
    "    knn = OneVsRestClassifier(KNeighborsClassifier())\n",
    "    knn.fit(X_train,y_train)\n",
    "    predictions = knn.predict(X_test)\n",
    "    knn_acc = accuracy_score(y_test,predictions)\n",
    "\n",
    "    Forest = RF(X_train, y_train, X_test, y_test)\n",
    "    rf = accuracy_score(y_test,Forest)\n",
    "\n",
    "    model = xgb.XGBClassifier(objective ='reg:linear', colsample_bytree = 0.3, learning_rate = 0.1, max_depth = 5, alpha = 0.1, n_estimators = 12,  eta=0.05)\n",
    "    model.fit(X_train, y_train)\n",
    "\n",
    "    # make predictions for test set\n",
    "    y_pred = model.predict(X_test)\n",
    "    predictions = [round(value) for value in y_pred]\n",
    "\n",
    "    accuracy = accuracy_score(y_test, predictions)\n",
    "\n",
    "    print(\"KNN: \", knn_acc)\n",
    "    print(\"RF: \", rf)\n",
    "    print(\"XGB: \", accuracy)\n",
    "\n",
    "    break\n"
   ]
  },
  {
   "cell_type": "markdown",
   "metadata": {},
   "source": [
    "## Classification on 5 different speakers"
   ]
  },
  {
   "cell_type": "markdown",
   "metadata": {},
   "source": [
    "#### Data preparation"
   ]
  },
  {
   "cell_type": "code",
   "execution_count": 18,
   "metadata": {},
   "outputs": [],
   "source": [
    "def ucitavanje_sp(directory):\n",
    "    id = 0\n",
    "    data = []\n",
    "    for filename in os.listdir(directory):\n",
    "        f = os.path.join(directory, filename)\n",
    "        label = [int(f.split(\"\\\\\")[-1][-5:-4])]\n",
    "        id = id + 1\n",
    "        dat = np.load(f)\n",
    "        data.append([id, dat, label])\n",
    "    \n",
    "    #random.seed(2)\n",
    "    random.shuffle(data)\n",
    "    return data      "
   ]
  },
  {
   "cell_type": "code",
   "execution_count": 19,
   "metadata": {},
   "outputs": [],
   "source": [
    "def podela_podataka_sp(data_vectors):\n",
    "    \n",
    "    max = 0\n",
    "    for i in range(0,len(data_vectors)):\n",
    "        if(data_vectors[i][1].shape[0] > max):\n",
    "            max = data_vectors[i][1].shape[0]\n",
    "\n",
    "    max_norm = 0\n",
    "    min_norm = 50\n",
    "    for a in data_vectors:\n",
    "        for x in a[1]:\n",
    "            for y in x:\n",
    "                if(y > max_norm):\n",
    "                    max_norm = y\n",
    "                if(y < min_norm):\n",
    "                    min_norm = y\n",
    "\n",
    "    for a in range(0, len(data_vectors)):\n",
    "        for x in range(0, len(data_vectors[a][1])):\n",
    "            for y in range(0, len(data_vectors[a][1][x])):\n",
    "                data_vectors[a][1][x][y] = (data_vectors[a][1][x][y] - min_norm) / (max_norm - min_norm)\n",
    "\n",
    "\n",
    "    X_train, y_train, X_test, y_test = np.empty([1, max, data_vectors[0][1].shape[1]]), [], np.empty([1, max, data_vectors[0][1].shape[1]]),[]\n",
    "    \n",
    "    i1,i2,i3,i4,i5 = 0,0,0,0,0\n",
    "\n",
    "    random.shuffle(data_vectors)\n",
    "    for item in data_vectors:\n",
    "\n",
    "        if item[2]==[0]:\n",
    "            i1 = i1 + 1\n",
    "            if i1 <= 50:\n",
    "                if(np.array(item[1]).shape[0] < max):\n",
    "                    item[1] = np.pad(item[1], [(0, max-np.array(item[1]).shape[0]), (0, 0)], mode='constant' , constant_values=0)\n",
    "                X_test = np.append(X_test, item[1].reshape(1, item[1].shape[0], item[1].shape[1]), axis=0)\n",
    "                y_test.append([0])\n",
    "                #y_test.append(random.choice([[0], [1]]))\n",
    "            else:\n",
    "                if(np.array(item[1]).shape[0] < max):\n",
    "                    item[1] = np.pad(item[1], [(0, max-np.array(item[1]).shape[0]), (0, 0)], mode='constant', constant_values=0)\n",
    "                X_train = np.append(X_train, item[1].reshape(1, item[1].shape[0], item[1].shape[1]), axis=0)\n",
    "                y_train.append([0])\n",
    "            '''\n",
    "            elif item[2]==[1]:\n",
    "                i2 = i2 + 1\n",
    "                if  i2 <= 50:\n",
    "                    if(np.array(item[1]).shape[0] < max):\n",
    "                        item[1] = np.pad(item[1], [(0, max-np.array(item[1]).shape[0]), (0, 0)], mode='constant', constant_values=0)\n",
    "                    X_test = np.append(X_test, item[1].reshape(1, item[1].shape[0], item[1].shape[1]), axis=0)\n",
    "                    y_test.append(item[2])\n",
    "                    #y_test.append(random.choice([[0], [1]]))\n",
    "                else:\n",
    "                    if(np.array(item[1]).shape[0] < max):\n",
    "                        item[1] = np.pad(item[1], [(0, max-np.array(item[1]).shape[0]), (0, 0)], mode='constant', constant_values=0)\n",
    "                    X_train = np.append(X_train, item[1].reshape(1, item[1].shape[0], item[1].shape[1]), axis=0)\n",
    "                    y_train.append(item[2])\n",
    "            elif item[2]==[2]:\n",
    "                i3 = i3 + 1\n",
    "                if  i3 <= 50:\n",
    "                    if(np.array(item[1]).shape[0] < max):\n",
    "                        item[1] = np.pad(item[1], [(0, max-np.array(item[1]).shape[0]), (0, 0)], mode='constant', constant_values=0)\n",
    "                    X_test = np.append(X_test, item[1].reshape(1, item[1].shape[0], item[1].shape[1]), axis=0)\n",
    "                    y_test.append(item[2])\n",
    "                    #y_test.append(random.choice([[0], [1]]))\n",
    "                else:\n",
    "                    if(np.array(item[1]).shape[0] < max):\n",
    "                        item[1] = np.pad(item[1], [(0, max-np.array(item[1]).shape[0]), (0, 0)], mode='constant', constant_values=0)\n",
    "                    X_train = np.append(X_train, item[1].reshape(1, item[1].shape[0], item[1].shape[1]), axis=0)\n",
    "                    y_train.append(item[2])\n",
    "                '''\n",
    "        elif item[2]==[4]:\n",
    "            i4 = i4 + 1\n",
    "            if  i4 <= 50:\n",
    "                if(np.array(item[1]).shape[0] < max):\n",
    "                    item[1] = np.pad(item[1], [(0, max-np.array(item[1]).shape[0]), (0, 0)], mode='constant', constant_values=0)\n",
    "                X_test = np.append(X_test, item[1].reshape(1, item[1].shape[0], item[1].shape[1]), axis=0)\n",
    "                y_test.append([1])\n",
    "                #y_test.append(random.choice([[0], [1]]))\n",
    "            else:\n",
    "                if(np.array(item[1]).shape[0] < max):\n",
    "                    item[1] = np.pad(item[1], [(0, max-np.array(item[1]).shape[0]), (0, 0)], mode='constant', constant_values=0)\n",
    "                X_train = np.append(X_train, item[1].reshape(1, item[1].shape[0], item[1].shape[1]), axis=0)\n",
    "                y_train.append([1])\n",
    "        '''\n",
    "        else:\n",
    "            i5 = i5 + 1\n",
    "            if  i5 <= 50:\n",
    "                if(np.array(item[1]).shape[0] < max):\n",
    "                    item[1] = np.pad(item[1], [(0, max-np.array(item[1]).shape[0]), (0, 0)], mode='constant', constant_values=0)\n",
    "                X_test = np.append(X_test, item[1].reshape(1, item[1].shape[0], item[1].shape[1]), axis=0)\n",
    "                y_test.append(item[2])\n",
    "                #y_test.append(random.choice([[0], [1]]))\n",
    "            else:\n",
    "                if(np.array(item[1]).shape[0] < max):\n",
    "                    item[1] = np.pad(item[1], [(0, max-np.array(item[1]).shape[0]), (0, 0)], mode='constant', constant_values=0)\n",
    "                X_train = np.append(X_train, item[1].reshape(1, item[1].shape[0], item[1].shape[1]), axis=0)\n",
    "                y_train.append(item[2])\n",
    "        '''\n",
    "    \n",
    "    X_train = np.array(X_train[1:])\n",
    "    y_train = np.array(y_train)\n",
    "    X_test = np.array(X_test[1:])\n",
    "    y_test = np.array(y_test)\n",
    "    \n",
    "    return X_train, y_train, X_test, y_test"
   ]
  },
  {
   "cell_type": "markdown",
   "metadata": {},
   "source": [
    "#### Test / Train set"
   ]
  },
  {
   "cell_type": "code",
   "execution_count": 52,
   "metadata": {},
   "outputs": [],
   "source": [
    "putanja = \"C:/Users/Zephyrus/Desktop/cnn data/data\"\n",
    "#putanja = \"C:/Users/m.nedeljkovic/Desktop/cnn data/data\"\n",
    "#niz od podataka za svaku sekvencu (podatak je niz od id-ja, sekvence i labele)\n",
    "podaci = ucitavanje_sp(putanja)\n",
    "X_train, y_train, X_test, y_test = podela_podataka_sp(podaci)\n",
    "\n",
    "X_train = np.array(X_train, dtype=object)\n",
    "y_train = np.array(y_train)\n",
    "X_test = np.array(X_test, dtype=object)\n",
    "y_test = np.array(y_test)"
   ]
  },
  {
   "cell_type": "code",
   "execution_count": 53,
   "metadata": {},
   "outputs": [],
   "source": [
    "X_tr = []\n",
    "for i in X_train:\n",
    "    temp = []\n",
    "    for j in i:\n",
    "        for k in j:\n",
    "            if(isnan(k)):\n",
    "                k = 0\n",
    "            temp.append(k)\n",
    "    X_tr.append(temp)\n",
    "X_train = np.array(X_tr, dtype=object)\n",
    "\n",
    "X_ts = []\n",
    "for i in X_test:\n",
    "    temp = []\n",
    "    for j in i:\n",
    "        for k in j:\n",
    "            if(isnan(k)):\n",
    "                k = 0\n",
    "            temp.append(k)\n",
    "    X_ts.append(temp) \n",
    "X_test = np.array(X_ts, dtype=object)"
   ]
  },
  {
   "cell_type": "markdown",
   "metadata": {},
   "source": [
    "### KNN"
   ]
  },
  {
   "cell_type": "code",
   "execution_count": 54,
   "metadata": {},
   "outputs": [
    {
     "data": {
      "text/html": [
       "<style>#sk-container-id-3 {color: black;background-color: white;}#sk-container-id-3 pre{padding: 0;}#sk-container-id-3 div.sk-toggleable {background-color: white;}#sk-container-id-3 label.sk-toggleable__label {cursor: pointer;display: block;width: 100%;margin-bottom: 0;padding: 0.3em;box-sizing: border-box;text-align: center;}#sk-container-id-3 label.sk-toggleable__label-arrow:before {content: \"▸\";float: left;margin-right: 0.25em;color: #696969;}#sk-container-id-3 label.sk-toggleable__label-arrow:hover:before {color: black;}#sk-container-id-3 div.sk-estimator:hover label.sk-toggleable__label-arrow:before {color: black;}#sk-container-id-3 div.sk-toggleable__content {max-height: 0;max-width: 0;overflow: hidden;text-align: left;background-color: #f0f8ff;}#sk-container-id-3 div.sk-toggleable__content pre {margin: 0.2em;color: black;border-radius: 0.25em;background-color: #f0f8ff;}#sk-container-id-3 input.sk-toggleable__control:checked~div.sk-toggleable__content {max-height: 200px;max-width: 100%;overflow: auto;}#sk-container-id-3 input.sk-toggleable__control:checked~label.sk-toggleable__label-arrow:before {content: \"▾\";}#sk-container-id-3 div.sk-estimator input.sk-toggleable__control:checked~label.sk-toggleable__label {background-color: #d4ebff;}#sk-container-id-3 div.sk-label input.sk-toggleable__control:checked~label.sk-toggleable__label {background-color: #d4ebff;}#sk-container-id-3 input.sk-hidden--visually {border: 0;clip: rect(1px 1px 1px 1px);clip: rect(1px, 1px, 1px, 1px);height: 1px;margin: -1px;overflow: hidden;padding: 0;position: absolute;width: 1px;}#sk-container-id-3 div.sk-estimator {font-family: monospace;background-color: #f0f8ff;border: 1px dotted black;border-radius: 0.25em;box-sizing: border-box;margin-bottom: 0.5em;}#sk-container-id-3 div.sk-estimator:hover {background-color: #d4ebff;}#sk-container-id-3 div.sk-parallel-item::after {content: \"\";width: 100%;border-bottom: 1px solid gray;flex-grow: 1;}#sk-container-id-3 div.sk-label:hover label.sk-toggleable__label {background-color: #d4ebff;}#sk-container-id-3 div.sk-serial::before {content: \"\";position: absolute;border-left: 1px solid gray;box-sizing: border-box;top: 0;bottom: 0;left: 50%;z-index: 0;}#sk-container-id-3 div.sk-serial {display: flex;flex-direction: column;align-items: center;background-color: white;padding-right: 0.2em;padding-left: 0.2em;position: relative;}#sk-container-id-3 div.sk-item {position: relative;z-index: 1;}#sk-container-id-3 div.sk-parallel {display: flex;align-items: stretch;justify-content: center;background-color: white;position: relative;}#sk-container-id-3 div.sk-item::before, #sk-container-id-3 div.sk-parallel-item::before {content: \"\";position: absolute;border-left: 1px solid gray;box-sizing: border-box;top: 0;bottom: 0;left: 50%;z-index: -1;}#sk-container-id-3 div.sk-parallel-item {display: flex;flex-direction: column;z-index: 1;position: relative;background-color: white;}#sk-container-id-3 div.sk-parallel-item:first-child::after {align-self: flex-end;width: 50%;}#sk-container-id-3 div.sk-parallel-item:last-child::after {align-self: flex-start;width: 50%;}#sk-container-id-3 div.sk-parallel-item:only-child::after {width: 0;}#sk-container-id-3 div.sk-dashed-wrapped {border: 1px dashed gray;margin: 0 0.4em 0.5em 0.4em;box-sizing: border-box;padding-bottom: 0.4em;background-color: white;}#sk-container-id-3 div.sk-label label {font-family: monospace;font-weight: bold;display: inline-block;line-height: 1.2em;}#sk-container-id-3 div.sk-label-container {text-align: center;}#sk-container-id-3 div.sk-container {/* jupyter's `normalize.less` sets `[hidden] { display: none; }` but bootstrap.min.css set `[hidden] { display: none !important; }` so we also need the `!important` here to be able to override the default hidden behavior on the sphinx rendered scikit-learn.org. See: https://github.com/scikit-learn/scikit-learn/issues/21755 */display: inline-block !important;position: relative;}#sk-container-id-3 div.sk-text-repr-fallback {display: none;}</style><div id=\"sk-container-id-3\" class=\"sk-top-container\"><div class=\"sk-text-repr-fallback\"><pre>OneVsRestClassifier(estimator=KNeighborsClassifier())</pre><b>In a Jupyter environment, please rerun this cell to show the HTML representation or trust the notebook. <br />On GitHub, the HTML representation is unable to render, please try loading this page with nbviewer.org.</b></div><div class=\"sk-container\" hidden><div class=\"sk-item sk-dashed-wrapped\"><div class=\"sk-label-container\"><div class=\"sk-label sk-toggleable\"><input class=\"sk-toggleable__control sk-hidden--visually\" id=\"sk-estimator-id-7\" type=\"checkbox\" ><label for=\"sk-estimator-id-7\" class=\"sk-toggleable__label sk-toggleable__label-arrow\">OneVsRestClassifier</label><div class=\"sk-toggleable__content\"><pre>OneVsRestClassifier(estimator=KNeighborsClassifier())</pre></div></div></div><div class=\"sk-parallel\"><div class=\"sk-parallel-item\"><div class=\"sk-item\"><div class=\"sk-label-container\"><div class=\"sk-label sk-toggleable\"><input class=\"sk-toggleable__control sk-hidden--visually\" id=\"sk-estimator-id-8\" type=\"checkbox\" ><label for=\"sk-estimator-id-8\" class=\"sk-toggleable__label sk-toggleable__label-arrow\">estimator: KNeighborsClassifier</label><div class=\"sk-toggleable__content\"><pre>KNeighborsClassifier()</pre></div></div></div><div class=\"sk-serial\"><div class=\"sk-item\"><div class=\"sk-estimator sk-toggleable\"><input class=\"sk-toggleable__control sk-hidden--visually\" id=\"sk-estimator-id-9\" type=\"checkbox\" ><label for=\"sk-estimator-id-9\" class=\"sk-toggleable__label sk-toggleable__label-arrow\">KNeighborsClassifier</label><div class=\"sk-toggleable__content\"><pre>KNeighborsClassifier()</pre></div></div></div></div></div></div></div></div></div></div>"
      ],
      "text/plain": [
       "OneVsRestClassifier(estimator=KNeighborsClassifier())"
      ]
     },
     "execution_count": 54,
     "metadata": {},
     "output_type": "execute_result"
    }
   ],
   "source": [
    "knn = OneVsRestClassifier(KNeighborsClassifier())\n",
    "knn.fit(X_train,y_train)"
   ]
  },
  {
   "cell_type": "code",
   "execution_count": 55,
   "metadata": {},
   "outputs": [],
   "source": [
    "predictions = knn.predict(X_test)"
   ]
  },
  {
   "cell_type": "code",
   "execution_count": 56,
   "metadata": {},
   "outputs": [
    {
     "name": "stdout",
     "output_type": "stream",
     "text": [
      "KNN Accuracy: 0.680\n"
     ]
    }
   ],
   "source": [
    "print('KNN Accuracy: %.3f' % accuracy_score(y_test,predictions))"
   ]
  },
  {
   "cell_type": "code",
   "execution_count": 57,
   "metadata": {},
   "outputs": [
    {
     "data": {
      "text/plain": [
       "Text(0.5, 1.0, 'Accuracy Score: 0.68')"
      ]
     },
     "execution_count": 57,
     "metadata": {},
     "output_type": "execute_result"
    },
    {
     "data": {
      "image/png": "[encoded data removed]",
      "text/plain": [
       "<Figure size 648x648 with 2 Axes>"
      ]
     },
     "metadata": {
      "needs_background": "light"
     },
     "output_type": "display_data"
    }
   ],
   "source": [
    "cm = confusion_matrix(y_test,predictions)\n",
    "plt.figure(figsize=(9,9))\n",
    "sns.heatmap(cm,annot=True, fmt='.3f', linewidths=.5, square=True,cmap='Blues_r')\n",
    "plt.ylabel('Actual label')\n",
    "plt.xlabel('Predicted label')\n",
    "all_sample_title = 'Accuracy Score: {0}'.format(accuracy_score(y_test,predictions))\n",
    "plt.title(all_sample_title,size=15)"
   ]
  },
  {
   "cell_type": "markdown",
   "metadata": {},
   "source": [
    "### Random Forest"
   ]
  },
  {
   "cell_type": "code",
   "execution_count": 58,
   "metadata": {},
   "outputs": [],
   "source": [
    "def RF(X_train, y_train, X_test, y_test):\n",
    "    forest = RandomForestClassifier(criterion='gini',\n",
    "                                    n_estimators=5,\n",
    "                                    random_state=1,\n",
    "                                    n_jobs=2)\n",
    "    forest.fit(X_train, y_train)\n",
    "    y_pred = forest.predict(X_test)\n",
    "    print('Accuracy: %.3f' % accuracy_score(y_test, y_pred))\n",
    "    return y_pred"
   ]
  },
  {
   "cell_type": "code",
   "execution_count": 59,
   "metadata": {},
   "outputs": [],
   "source": [
    "def mat_of_conf(y_test,y_pred):\n",
    "    cm = confusion_matrix(y_test,y_pred)\n",
    "    plt.figure(figsize=(9,9))\n",
    "    sns.heatmap(cm,annot=True, fmt='.3f', linewidths=.5, square=True,cmap='Blues_r')\n",
    "    plt.ylabel('Actual label')\n",
    "    plt.xlabel('Predicted label')\n",
    "    all_sample_title = 'Accuracy Score: {0}'.format(accuracy_score(y_test,y_pred))\n",
    "    plt.title(all_sample_title,size=15)\n",
    "    plt.show()"
   ]
  },
  {
   "cell_type": "code",
   "execution_count": 60,
   "metadata": {},
   "outputs": [
    {
     "name": "stderr",
     "output_type": "stream",
     "text": [
      "<ipython-input-58-c49a94840cfd>:6: DataConversionWarning: A column-vector y was passed when a 1d array was expected. Please change the shape of y to (n_samples,), for example using ravel().\n",
      "  forest.fit(X_train, y_train)\n"
     ]
    },
    {
     "name": "stdout",
     "output_type": "stream",
     "text": [
      "Accuracy: 0.600\n"
     ]
    },
    {
     "data": {
      "image/png": "[encoded data removed]",
      "text/plain": [
       "<Figure size 648x648 with 2 Axes>"
      ]
     },
     "metadata": {
      "needs_background": "light"
     },
     "output_type": "display_data"
    }
   ],
   "source": [
    "Forest = RF(X_train, y_train, X_test, y_test)\n",
    "mat_of_conf(y_test,Forest)"
   ]
  },
  {
   "cell_type": "markdown",
   "metadata": {},
   "source": [
    "### XG boost"
   ]
  },
  {
   "cell_type": "code",
   "execution_count": 61,
   "metadata": {},
   "outputs": [
    {
     "name": "stdout",
     "output_type": "stream",
     "text": [
      "[02:59:19] WARNING: C:/Users/Administrator/workspace/xgboost-win64_release_1.5.1/src/objective/regression_obj.cu:188: reg:linear is now deprecated in favor of reg:squarederror.\n",
      "[0]\tvalidation_0-logloss:0.64351\tvalidation_1-logloss:0.67752\n"
     ]
    },
    {
     "name": "stderr",
     "output_type": "stream",
     "text": [
      "c:\\Users\\Zephyrus\\anaconda3\\lib\\site-packages\\xgboost\\sklearn.py:1224: UserWarning: The use of label encoder in XGBClassifier is deprecated and will be removed in a future release. To remove this warning, do the following: 1) Pass option use_label_encoder=False when constructing XGBClassifier object; and 2) Encode your labels (y) as integers starting with 0, i.e. 0, 1, 2, ..., [num_class - 1].\n",
      "  warnings.warn(label_encoder_deprecation_msg, UserWarning)\n",
      "c:\\Users\\Zephyrus\\anaconda3\\lib\\site-packages\\sklearn\\preprocessing\\_label.py:98: DataConversionWarning: A column-vector y was passed when a 1d array was expected. Please change the shape of y to (n_samples, ), for example using ravel().\n",
      "  y = column_or_1d(y, warn=True)\n",
      "c:\\Users\\Zephyrus\\anaconda3\\lib\\site-packages\\sklearn\\preprocessing\\_label.py:133: DataConversionWarning: A column-vector y was passed when a 1d array was expected. Please change the shape of y to (n_samples, ), for example using ravel().\n",
      "  y = column_or_1d(y, warn=True)\n"
     ]
    },
    {
     "name": "stdout",
     "output_type": "stream",
     "text": [
      "[1]\tvalidation_0-logloss:0.59955\tvalidation_1-logloss:0.66545\n",
      "[2]\tvalidation_0-logloss:0.55263\tvalidation_1-logloss:0.65716\n",
      "[3]\tvalidation_0-logloss:0.52123\tvalidation_1-logloss:0.65175\n",
      "[4]\tvalidation_0-logloss:0.48835\tvalidation_1-logloss:0.64918\n",
      "[5]\tvalidation_0-logloss:0.45626\tvalidation_1-logloss:0.64723\n",
      "[6]\tvalidation_0-logloss:0.43343\tvalidation_1-logloss:0.64033\n",
      "[7]\tvalidation_0-logloss:0.41140\tvalidation_1-logloss:0.64181\n",
      "[8]\tvalidation_0-logloss:0.39001\tvalidation_1-logloss:0.64199\n",
      "[9]\tvalidation_0-logloss:0.36946\tvalidation_1-logloss:0.64043\n",
      "[10]\tvalidation_0-logloss:0.35372\tvalidation_1-logloss:0.63750\n",
      "[11]\tvalidation_0-logloss:0.34116\tvalidation_1-logloss:0.64129\n",
      "[12]\tvalidation_0-logloss:0.32685\tvalidation_1-logloss:0.64472\n",
      "[13]\tvalidation_0-logloss:0.31508\tvalidation_1-logloss:0.64450\n",
      "[14]\tvalidation_0-logloss:0.30415\tvalidation_1-logloss:0.64705\n",
      "Accuracy: 0.720\n"
     ]
    },
    {
     "data": {
      "image/png": "[encoded data removed]",
      "text/plain": [
       "<Figure size 432x288 with 1 Axes>"
      ]
     },
     "metadata": {
      "needs_background": "light"
     },
     "output_type": "display_data"
    }
   ],
   "source": [
    "eval = [(X_train, y_train),(X_test, y_test)]\n",
    "classif = xgb.XGBClassifier(objective ='reg:linear', colsample_bytree = 0.3, learning_rate = 0.1, max_depth = 5, alpha = 0.1, n_estimators = 15,  eta=0.05)\n",
    "classif.fit(X_train,y_train, eval_set = eval, eval_metric='logloss')\n",
    "preds = classif.predict(X_test)\n",
    "score = accuracy_score(y_test, preds)\n",
    "print('Accuracy: %.3f' % score)\n",
    "results = classif.evals_result()\n",
    "# plot learning curves\n",
    "plt.plot(results['validation_0']['logloss'], label='train')\n",
    "plt.plot(results['validation_1']['logloss'], label='test')\n",
    "plt.legend()\n",
    "plt.show()"
   ]
  },
  {
   "cell_type": "code",
   "execution_count": 62,
   "metadata": {},
   "outputs": [
    {
     "name": "stderr",
     "output_type": "stream",
     "text": [
      "c:\\Users\\Zephyrus\\anaconda3\\lib\\site-packages\\xgboost\\sklearn.py:1224: UserWarning: The use of label encoder in XGBClassifier is deprecated and will be removed in a future release. To remove this warning, do the following: 1) Pass option use_label_encoder=False when constructing XGBClassifier object; and 2) Encode your labels (y) as integers starting with 0, i.e. 0, 1, 2, ..., [num_class - 1].\n",
      "  warnings.warn(label_encoder_deprecation_msg, UserWarning)\n",
      "c:\\Users\\Zephyrus\\anaconda3\\lib\\site-packages\\sklearn\\preprocessing\\_label.py:98: DataConversionWarning: A column-vector y was passed when a 1d array was expected. Please change the shape of y to (n_samples, ), for example using ravel().\n",
      "  y = column_or_1d(y, warn=True)\n",
      "c:\\Users\\Zephyrus\\anaconda3\\lib\\site-packages\\sklearn\\preprocessing\\_label.py:133: DataConversionWarning: A column-vector y was passed when a 1d array was expected. Please change the shape of y to (n_samples, ), for example using ravel().\n",
      "  y = column_or_1d(y, warn=True)\n"
     ]
    },
    {
     "name": "stdout",
     "output_type": "stream",
     "text": [
      "[02:59:20] WARNING: C:/Users/Administrator/workspace/xgboost-win64_release_1.5.1/src/objective/regression_obj.cu:188: reg:linear is now deprecated in favor of reg:squarederror.\n",
      "Accuracy: 70.00%\n"
     ]
    }
   ],
   "source": [
    "from xgboost import XGBClassifier\n",
    "from sklearn.metrics import accuracy_score\n",
    "\n",
    "#instantiate model and train\n",
    "model = xgb.XGBClassifier(objective ='reg:linear', colsample_bytree = 0.3, learning_rate = 0.1, max_depth = 5, alpha = 0.1, n_estimators = 20,  eta=0.05)\n",
    "model.fit(X_train, y_train)\n",
    "\n",
    "# make predictions for test set\n",
    "y_pred = model.predict(X_test)\n",
    "predictions = [round(value) for value in y_pred]\n",
    "\n",
    "accuracy = accuracy_score(y_test, predictions)\n",
    "print(\"Accuracy: %.2f%%\" % (accuracy * 100.0))"
   ]
  },
  {
   "cell_type": "code",
   "execution_count": 63,
   "metadata": {},
   "outputs": [
    {
     "data": {
      "image/png": "[encoded data removed]",
      "text/plain": [
       "<Figure size 432x288 with 1 Axes>"
      ]
     },
     "metadata": {
      "needs_background": "light"
     },
     "output_type": "display_data"
    }
   ],
   "source": [
    "from turtle import width\n",
    "from xgboost import plot_importance\n",
    "import matplotlib.pyplot as plt\n",
    "\n",
    "# plot feature importance\n",
    "plot_importance(model, max_num_features=10)\n",
    "plt.show()\n",
    "\n",
    "x = model.feature_importances_"
   ]
  },
  {
   "cell_type": "code",
   "execution_count": 64,
   "metadata": {},
   "outputs": [
    {
     "data": {
      "text/plain": [
       "0.042291746"
      ]
     },
     "execution_count": 64,
     "metadata": {},
     "output_type": "execute_result"
    }
   ],
   "source": [
    "max(x)"
   ]
  },
  {
   "cell_type": "code",
   "execution_count": null,
   "metadata": {},
   "outputs": [],
   "source": []
  },
  {
   "cell_type": "code",
   "execution_count": null,
   "metadata": {},
   "outputs": [],
   "source": []
  }
 ],
 "metadata": {
  "kernelspec": {
   "display_name": "Python 3.8.8 ('base')",
   "language": "python",
   "name": "python3"
  },
  "language_info": {
   "codemirror_mode": {
    "name": "ipython",
    "version": 3
   },
   "file_extension": ".py",
   "mimetype": "text/x-python",
   "name": "python",
   "nbconvert_exporter": "python",
   "pygments_lexer": "ipython3",
   "version": "3.8.8"
  },
  "orig_nbformat": 4,
  "vscode": {
   "interpreter": {
    "hash": "89c64c5314e05d0c212449e617c6e4d2bb4bca90dd8a65f023aba4e76584049e"
   }
  }
 },
 "nbformat": 4,
 "nbformat_minor": 2
}
