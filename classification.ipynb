{
 "cells": [
  {
   "cell_type": "markdown",
   "metadata": {},
   "source": [
    "## CNN classification"
   ]
  },
  {
   "cell_type": "markdown",
   "metadata": {},
   "source": [
    "- 1 region, all info about speakers, 4 sessions, white noise, 50 info per neuron (per speaker), 100 neurons per region => image 100x250(5x50) - 8 of them (2 states x 4 sessions) x 30 (sampling points over time)\n",
    "- final 240 images (120 per state)\n",
    "- oversampling input images with NaNs (maybe random oversampling)\n",
    "- combination of 2 different regions in one image/mice???\n",
    "- including bandpass noise into data representation \n",
    "- representing input images as different stimulus (100 x 50)\n",
    "---\n",
    "- training on combined sessions, different sessions (evaluating results on different sessions)\n",
    "- maybe training on the particular stimulus and then seeing wich stimulus is the most inforative for the state classification\n",
    "- performing classification on different regions to see which region (to see if some regions have very noninformative responses)\n",
    "- performin classification on different combination of regions???\n",
    "- comparing the classificator performance - input data is white noise/bandpass noise/combination of noises\n",
    "---\n",
    "- stimulus classificators"
   ]
  },
  {
   "cell_type": "markdown",
   "metadata": {},
   "source": [
    "### 1. Classification between anest and awake state"
   ]
  },
  {
   "cell_type": "code",
   "execution_count": null,
   "metadata": {},
   "outputs": [],
   "source": []
  }
 ],
 "metadata": {
  "kernelspec": {
   "display_name": "Python 3.10.5 64-bit",
   "language": "python",
   "name": "python3"
  },
  "language_info": {
   "name": "python",
   "version": "3.10.5"
  },
  "orig_nbformat": 4,
  "vscode": {
   "interpreter": {
    "hash": "c3ff55a2362d840d3433b3a68631efa6e477163e310b6a9fd17f9078908dbfa1"
   }
  }
 },
 "nbformat": 4,
 "nbformat_minor": 2
}
