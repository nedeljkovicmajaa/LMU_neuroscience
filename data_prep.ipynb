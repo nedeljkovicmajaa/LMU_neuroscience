{
 "cells": [
  {
   "cell_type": "markdown",
   "metadata": {},
   "source": [
    "##### Load required packages"
   ]
  },
  {
   "cell_type": "code",
   "execution_count": 1,
   "metadata": {},
   "outputs": [],
   "source": [
    "import scipy.io as sio\n",
    "import numpy as np\n",
    "import matplotlib.pyplot as plt\n",
    "import seaborn as sns\n",
    "import pandas as pd\n",
    "from cmath import nan\n",
    "from sklearn.metrics import confusion_matrix"
   ]
  },
  {
   "cell_type": "markdown",
   "metadata": {},
   "source": [
    "##### Load data"
   ]
  },
  {
   "cell_type": "code",
   "execution_count": 2,
   "metadata": {},
   "outputs": [
    {
     "data": {
      "text/plain": [
       "\"\\ndef load_data():\\n    mat_load = sio.loadmat('C:/Users/Zephyrus/Desktop/data/allTraces.mat')['allTraces']\\n    roi_load = sio.loadmat('C:/Users/Zephyrus/Desktop/data/allROIPositions.mat')['allROIPositions']\\n    ind_load = sio.loadmat('C:/Users/Zephyrus/Desktop/data/blFinalHit.mat')['blFinalHit']\\n    list1 = sio.loadmat('C:/Users/Zephyrus/Desktop/data/indicesSession1.mat')['indSess1']\\n    list2 = sio.loadmat('C:/Users/Zephyrus/Desktop/data/List2.mat')['List2']\\n    list3 = sio.loadmat('C:/Users/Zephyrus/Desktop/data/List3.mat')['List3']\\n    list4 = sio.loadmat('C:/Users/Zephyrus/Desktop/data/List4.mat')['List4']\\n    return mat_load, roi_load, ind_load, list1, list2, list3, list4\\n\""
      ]
     },
     "execution_count": 2,
     "metadata": {},
     "output_type": "execute_result"
    }
   ],
   "source": [
    "'''\n",
    "def load_data():\n",
    "    mat_load = sio.loadmat('C:/Users/Zephyrus/Desktop/data/allTraces.mat')['allTraces']\n",
    "    roi_load = sio.loadmat('C:/Users/Zephyrus/Desktop/data/allROIPositions.mat')['allROIPositions']\n",
    "    ind_load = sio.loadmat('C:/Users/Zephyrus/Desktop/data/blFinalHit.mat')['blFinalHit']\n",
    "    list1 = sio.loadmat('C:/Users/Zephyrus/Desktop/data/indicesSession1.mat')['indSess1']\n",
    "    list2 = sio.loadmat('C:/Users/Zephyrus/Desktop/data/List2.mat')['List2']\n",
    "    list3 = sio.loadmat('C:/Users/Zephyrus/Desktop/data/List3.mat')['List3']\n",
    "    list4 = sio.loadmat('C:/Users/Zephyrus/Desktop/data/List4.mat')['List4']\n",
    "    return mat_load, roi_load, ind_load, list1, list2, list3, list4\n",
    "''' "
   ]
  },
  {
   "cell_type": "code",
   "execution_count": 2,
   "metadata": {},
   "outputs": [],
   "source": [
    "def load_data():\n",
    "    mat_load = sio.loadmat('C:/Users/m.nedeljkovic/Desktop/data/allTraces.mat')['allTraces']\n",
    "    roi_load = sio.loadmat('C:/Users/m.nedeljkovic/Desktop/data/allROIPositions.mat')['allROIPositions']\n",
    "    ind_load = sio.loadmat('C:/Users/m.nedeljkovic/Desktop/data/blFinalHit.mat')['blFinalHit']\n",
    "    list1 = sio.loadmat('C:/Users/m.nedeljkovic/Desktop/data/indicesSession1.mat')['indSess1']\n",
    "    list2 = sio.loadmat('C:/Users/m.nedeljkovic/Desktop/data/List2.mat')['List2']\n",
    "    list3 = sio.loadmat('C:/Users/m.nedeljkovic/Desktop/data/List3.mat')['List3']\n",
    "    list4 = sio.loadmat('C:/Users/m.nedeljkovic/Desktop/data/List4.mat')['List4']\n",
    "    return mat_load, roi_load, ind_load, list1, list2, list3, list4"
   ]
  },
  {
   "cell_type": "markdown",
   "metadata": {},
   "source": [
    "## Data preparation for the CNN models"
   ]
  },
  {
   "cell_type": "markdown",
   "metadata": {},
   "source": [
    "- 1 region, all info about speakers, 4 sessions, white noise, 50 info per neuron (per speaker), 100 neurons per region => image 100x250(5x50) - 8 of them (2 states x 4 sessions) x 30 (sampling points over time)\n",
    "- final 240 images (120 per state)\n",
    "- oversampling input images with NaNs (maybe random oversampling)\n",
    "- representing input images as different stimulus (100 x 50)\n",
    "- combination of 2 different regions in one image / mice????\n",
    "- including bandpass noise into data representation \n",
    "- representing input images as different stimulus (100 x 50)"
   ]
  },
  {
   "cell_type": "markdown",
   "metadata": {},
   "source": [
    "### 1. One image - all regions, all speakers, neurons (oversampling with NaNs) - 100x60 (400)\n",
    "- approx 100 neurons per region x 60 (5 speakers x 12 regions)\n",
    "- 50 values x 4 sessions x 2 states -> 200 images per state"
   ]
  },
  {
   "cell_type": "code",
   "execution_count": 4,
   "metadata": {},
   "outputs": [],
   "source": [
    "#lenghts of each trial\n",
    "from cmath import isinf\n",
    "\n",
    "def data_per_trial(tr, mat_load, roi_load, ind_load, list1, list2, list3, list4):\n",
    "    lista = [[k[0] for k in list1], [k[0] for k in list2], [k[0] for k in list3], [k[0] for k in list4]]\n",
    "    index = [0, 118, 88, 100, 98, 109, 78, 121, 76, 113, 97, 112, 118]\n",
    "\n",
    "    for trial in range(1,len(index)):\n",
    "        \n",
    "        index[trial] = index[trial] + index[trial-1]\n",
    "        dat_tr = mat_load[index[trial-1] : index[trial]+1, :, :, 0, :, :, :]\n",
    "        ind_tr = ind_load[index[trial-1] : index[trial]+1, :, :, 0, :, :]\n",
    "\n",
    "        #choose state\n",
    "        dat_stan = dat_tr[:, 0, :, :, :, :]\n",
    "        dat_staw = dat_tr[:, 1, :, :, :, :]\n",
    "        ind_stan = ind_tr[:, 0, :, :, :]\n",
    "        ind_staw = ind_tr[:, 1, :, :, :]\n",
    "\n",
    "        br = 1\n",
    "\n",
    "        if(trial == tr):\n",
    "            for sesion in range(4):\n",
    "                \n",
    "                lista_ = lista[sesion]\n",
    "                #choose session\n",
    "                dat_sean = dat_stan[:, sesion, :, :, :]\n",
    "                dat_seaw = dat_staw[:, sesion, :, :, :]\n",
    "                ind_sean = ind_stan[:, sesion, :, :]\n",
    "                ind_seaw = ind_staw[:, sesion, :, :]\n",
    "\n",
    "                for sample in range(50):\n",
    "\n",
    "                    dat_sean_df = dat_sean[:, :, sample, :]\n",
    "                    dat_seaw_df = dat_seaw[:, :, sample, :]\n",
    "                    ind_sean_df = ind_sean[:, :, sample]\n",
    "                    ind_seaw_df = ind_seaw[:, :, sample]\n",
    "                    ind_sean_df = ind_sean_df.astype('float')\n",
    "                    ind_seaw_df = ind_seaw_df.astype('float')\n",
    "                    ind_sean_df[ind_sean_df == 0] = 'nan' \n",
    "                    ind_seaw_df[ind_seaw_df == 0] = 'nan' \n",
    "\n",
    "                    dat_sean_df_ = dat_sean_df[0:1,:,:]\n",
    "                    dat_seaw_df_ = dat_seaw_df[0:1,:,:]\n",
    "                    ind_sean_df_ = ind_sean_df[0:1,:]\n",
    "                    ind_seaw_df_ = ind_seaw_df[0:1,:]\n",
    "                    for matrix in range(0,np.shape(dat_sean_df)[0]-1):\n",
    "                        if(index[trial-1]+matrix in lista_):\n",
    "                            dat_sean_df_ = np.append(dat_sean_df_, dat_sean[matrix][:, sample, :].reshape(1,dat_sean[matrix][:, sample, :].shape[0],dat_sean[matrix][:, sample, :].shape[1]), axis=0)\n",
    "                            dat_seaw_df_ = np.append(dat_seaw_df_, dat_seaw[matrix][:, sample, :].reshape(1,dat_seaw[matrix][:, sample, :].shape[0],dat_seaw[matrix][:, sample, :].shape[1]), axis=0)\n",
    "                            ind_sean_df_ = np.append(ind_sean_df_, ind_sean[matrix][:, sample].reshape(1, ind_sean[matrix][:, sample].shape[0]), axis=0)\n",
    "                            ind_seaw_df_ = np.append(ind_seaw_df_, ind_seaw[matrix][:, sample].reshape(1, ind_seaw[matrix][:, sample].shape[0]), axis=0)\n",
    "                    dat_sean_df = dat_sean_df_[1:,:,:]\n",
    "                    dat_seaw_df = dat_seaw_df_[1:,:,:]\n",
    "                    ind_sean_df = ind_sean_df_[1:,:]\n",
    "                    ind_seaw_df = ind_seaw_df_[1:,:]\n",
    "                \n",
    "                    for time in range(31):\n",
    "                        dat_sean_df[:,:,time] = np.multiply(np.array(dat_sean_df[:,:,time]),ind_sean_df)\n",
    "                        dat_seaw_df[:,:,time] = np.multiply(np.array(dat_seaw_df[:,:,time]),ind_seaw_df)\n",
    "                            \n",
    "                    dat_sean_df = dat_sean_df.reshape(dat_sean_df.shape[0],155)\n",
    "                    dat_seaw_df = dat_seaw_df.reshape(dat_seaw_df.shape[0],155)\n",
    "                    dat_sean_df[dat_sean_df == np.inf] = 0\n",
    "                    dat_seaw_df[dat_seaw_df == np.inf] = 0\n",
    "                    if(np.any(dat_seaw_df == np.inf)==True or np.any(dat_sean_df == np.inf)==True or np.any(dat_sean_df == -np.inf)==True or np.any(dat_seaw_df == -np.inf)==True):\n",
    "                        print(1)\n",
    "\n",
    "                    file1 = \"C:/Users/m.nedeljkovic/Desktop/cnn data/data/an\" + str(br) + \".npy\"\n",
    "                    file2 = \"C:/Users/m.nedeljkovic/Desktop/cnn data/data/aw\" + str(br) + \".npy\"\n",
    "                    #file1 = \"C:/Users/Zephyrus/Desktop/cnn data/data/an\" + str(br) + \".npy\"\n",
    "                    #file2 = \"C:/Users/Zephyrus/Desktop/cnn data/data/aw\" + str(br) + \".npy\"\n",
    "                    \n",
    "                    np.save(file1, dat_sean_df)\n",
    "                    np.save(file2, dat_seaw_df)\n",
    "                    br = br + 1\n",
    "            "
   ]
  },
  {
   "cell_type": "code",
   "execution_count": 5,
   "metadata": {},
   "outputs": [
    {
     "name": "stderr",
     "output_type": "stream",
     "text": [
      "C:\\Users\\m.nedeljkovic\\AppData\\Local\\Temp\\ipykernel_19276\\3636843975.py:60: RuntimeWarning: invalid value encountered in multiply\n",
      "  dat_seaw_df[:,:,time] = np.multiply(np.array(dat_seaw_df[:,:,time]),ind_seaw_df)\n"
     ]
    }
   ],
   "source": [
    "mat_load, roi_load, ind_load, list1, list2, list3, list4 = load_data()\n",
    "data_per_trial(1, mat_load, roi_load, ind_load, list1, list2, list3, list4)"
   ]
  },
  {
   "cell_type": "markdown",
   "metadata": {},
   "source": [
    "### 2. One region -  training on one session, evaluation on different "
   ]
  },
  {
   "cell_type": "code",
   "execution_count": 6,
   "metadata": {},
   "outputs": [],
   "source": [
    "#lenghts of each trial\n",
    "from cmath import isinf\n",
    "\n",
    "def data_per_ses(tr, ses, mat_load, roi_load, ind_load, list1, list2, list3, list4):\n",
    "    lista = [[k[0] for k in list1], [k[0] for k in list2], [k[0] for k in list3], [k[0] for k in list4]]\n",
    "    index = [0, 118, 88, 100, 98, 109, 78, 121, 76, 113, 97, 112, 118]\n",
    "\n",
    "    for trial in range(1,len(index)):\n",
    "        \n",
    "        index[trial] = index[trial] + index[trial-1]\n",
    "        dat_tr = mat_load[index[trial-1] : index[trial]+1, :, :, 0, :, :, :]\n",
    "        ind_tr = ind_load[index[trial-1] : index[trial]+1, :, :, 0, :, :]\n",
    "\n",
    "        #choose state\n",
    "        dat_stan = dat_tr[:, 0, :, :, :, :]\n",
    "        dat_staw = dat_tr[:, 1, :, :, :, :]\n",
    "        ind_stan = ind_tr[:, 0, :, :, :]\n",
    "        ind_staw = ind_tr[:, 1, :, :, :]\n",
    "\n",
    "        br = 1\n",
    "\n",
    "        if(trial == tr):\n",
    "            for sesion in range(4):\n",
    "                \n",
    "                if(sesion ==  ses):\n",
    "\n",
    "                    lista_ = lista[sesion]\n",
    "                    #choose session\n",
    "                    dat_sean = dat_stan[:, sesion, :, :, :]\n",
    "                    dat_seaw = dat_staw[:, sesion, :, :, :]\n",
    "                    ind_sean = ind_stan[:, sesion, :, :]\n",
    "                    ind_seaw = ind_staw[:, sesion, :, :]\n",
    "\n",
    "                    for sample in range(50):\n",
    "\n",
    "                        dat_sean_df = dat_sean[:, :, sample, :]\n",
    "                        dat_seaw_df = dat_seaw[:, :, sample, :]\n",
    "                        ind_sean_df = ind_sean[:, :, sample]\n",
    "                        ind_seaw_df = ind_seaw[:, :, sample]\n",
    "                        ind_sean_df = ind_sean_df.astype('float')\n",
    "                        ind_seaw_df = ind_seaw_df.astype('float')\n",
    "                        ind_sean_df[ind_sean_df == 0] = 'nan' \n",
    "                        ind_seaw_df[ind_seaw_df == 0] = 'nan' \n",
    "\n",
    "                        dat_sean_df_ = dat_sean_df[0:1,:,:]\n",
    "                        dat_seaw_df_ = dat_seaw_df[0:1,:,:]\n",
    "                        ind_sean_df_ = ind_sean_df[0:1,:]\n",
    "                        ind_seaw_df_ = ind_seaw_df[0:1,:]\n",
    "                        for matrix in range(0,np.shape(dat_sean_df)[0]-1):\n",
    "                            if(index[trial-1]+matrix in lista_):\n",
    "                                dat_sean_df_ = np.append(dat_sean_df_, dat_sean[matrix][:, sample, :].reshape(1,dat_sean[matrix][:, sample, :].shape[0],dat_sean[matrix][:, sample, :].shape[1]), axis=0)\n",
    "                                dat_seaw_df_ = np.append(dat_seaw_df_, dat_seaw[matrix][:, sample, :].reshape(1,dat_seaw[matrix][:, sample, :].shape[0],dat_seaw[matrix][:, sample, :].shape[1]), axis=0)\n",
    "                                ind_sean_df_ = np.append(ind_sean_df_, ind_sean[matrix][:, sample].reshape(1, ind_sean[matrix][:, sample].shape[0]), axis=0)\n",
    "                                ind_seaw_df_ = np.append(ind_seaw_df_, ind_seaw[matrix][:, sample].reshape(1, ind_seaw[matrix][:, sample].shape[0]), axis=0)\n",
    "                        dat_sean_df = dat_sean_df_[1:,:,:]\n",
    "                        dat_seaw_df = dat_seaw_df_[1:,:,:]\n",
    "                        ind_sean_df = ind_sean_df_[1:,:]\n",
    "                        ind_seaw_df = ind_seaw_df_[1:,:]\n",
    "                    \n",
    "                        for time in range(31):\n",
    "                            dat_sean_df[:,:,time] = np.multiply(np.array(dat_sean_df[:,:,time]),ind_sean_df)\n",
    "                            dat_seaw_df[:,:,time] = np.multiply(np.array(dat_seaw_df[:,:,time]),ind_seaw_df)\n",
    "                                \n",
    "                        dat_sean_df = dat_sean_df.reshape(dat_sean_df.shape[0],155)\n",
    "                        dat_seaw_df = dat_seaw_df.reshape(dat_seaw_df.shape[0],155)\n",
    "                        dat_sean_df[dat_sean_df == np.inf] = 0\n",
    "                        dat_seaw_df[dat_seaw_df == np.inf] = 0\n",
    "                        if(np.any(dat_seaw_df == np.inf)==True or np.any(dat_sean_df == np.inf)==True or np.any(dat_sean_df == -np.inf)==True or np.any(dat_seaw_df == -np.inf)==True):\n",
    "                            print(1)\n",
    "                \n",
    "                        file1 = \"C:/Users/m.nedeljkovic/Desktop/cnn data/data/an\" + str(br) + \".npy\"\n",
    "                        file2 = \"C:/Users/m.nedeljkovic/Desktop/cnn data/data/aw\" + str(br) + \".npy\"\n",
    "                        #file1 = \"C:/Users/Zephyrus/Desktop/cnn data/data/an\" + str(br) + \".npy\"\n",
    "                        #file2 = \"C:/Users/Zephyrus/Desktop/cnn data/data/aw\" + str(br) + \".npy\"\n",
    "                      \n",
    "                        np.save(file1, dat_sean_df)\n",
    "                        np.save(file2, dat_seaw_df)\n",
    "                        br = br + 1\n",
    "       \n"
   ]
  },
  {
   "cell_type": "code",
   "execution_count": 7,
   "metadata": {},
   "outputs": [
    {
     "name": "stderr",
     "output_type": "stream",
     "text": [
      "C:\\Users\\m.nedeljkovic\\AppData\\Local\\Temp\\ipykernel_19276\\943347217.py:62: RuntimeWarning: invalid value encountered in multiply\n",
      "  dat_seaw_df[:,:,time] = np.multiply(np.array(dat_seaw_df[:,:,time]),ind_seaw_df)\n"
     ]
    }
   ],
   "source": [
    "mat_load, roi_load, ind_load, list1, list2, list3, list4 = load_data()\n",
    "data_per_ses(1, 0, mat_load, roi_load, ind_load, list1, list2, list3, list4)"
   ]
  },
  {
   "cell_type": "markdown",
   "metadata": {},
   "source": [
    "### 3. One region - classification on different speakers"
   ]
  },
  {
   "cell_type": "code",
   "execution_count": 8,
   "metadata": {},
   "outputs": [],
   "source": [
    "#lenghts of each trial\n",
    "from cmath import isinf\n",
    "\n",
    "def data_speak(tr, mat_load, roi_load, ind_load, list1, list2, list3, list4):\n",
    "    lista = [[k[0] for k in list1], [k[0] for k in list2], [k[0] for k in list3], [k[0] for k in list4]]\n",
    "    index = [0, 118, 88, 100, 98, 109, 78, 121, 76, 113, 97, 112, 118]\n",
    "\n",
    "    for trial in range(1,len(index)):\n",
    "        \n",
    "        index[trial] = index[trial] + index[trial-1]\n",
    "        dat_tr = mat_load[index[trial-1] : index[trial]+1, :, :, 0, :, :, :]\n",
    "        ind_tr = ind_load[index[trial-1] : index[trial]+1, :, :, 0, :, :]\n",
    "\n",
    "        #choose state\n",
    "        dat_stan = dat_tr[:, 0, :, :, :, :]\n",
    "        dat_staw = dat_tr[:, 1, :, :, :, :]\n",
    "        ind_stan = ind_tr[:, 0, :, :, :]\n",
    "        ind_staw = ind_tr[:, 1, :, :, :]\n",
    "\n",
    "        br = 1\n",
    "\n",
    "        if(trial == tr):\n",
    "            for sesion in range(4):\n",
    "                \n",
    "                lista_ = lista[sesion]\n",
    "                #choose session\n",
    "                dat_sean = dat_stan[:, sesion, :, :, :]\n",
    "                dat_seaw = dat_staw[:, sesion, :, :, :]\n",
    "                ind_sean = ind_stan[:, sesion, :, :]\n",
    "                ind_seaw = ind_staw[:, sesion, :, :]\n",
    "\n",
    "                for sample in range(50):\n",
    "\n",
    "                    dat_sean_df = dat_sean[:, :, sample, :]\n",
    "                    dat_seaw_df = dat_seaw[:, :, sample, :]\n",
    "                    ind_sean_df = ind_sean[:, :, sample]\n",
    "                    ind_seaw_df = ind_seaw[:, :, sample]\n",
    "                    ind_sean_df = ind_sean_df.astype('float')\n",
    "                    ind_seaw_df = ind_seaw_df.astype('float')\n",
    "                    ind_sean_df[ind_sean_df == 0] = 'nan' \n",
    "                    ind_seaw_df[ind_seaw_df == 0] = 'nan' \n",
    "\n",
    "                    dat_sean_df_ = dat_sean_df[0:1,:,:]\n",
    "                    dat_seaw_df_ = dat_seaw_df[0:1,:,:]\n",
    "                    ind_sean_df_ = ind_sean_df[0:1,:]\n",
    "                    ind_seaw_df_ = ind_seaw_df[0:1,:]\n",
    "                \n",
    "                    for matrix in range(0,np.shape(dat_sean_df)[0]-1):\n",
    "                        if(index[trial-1]+matrix in lista_):\n",
    "                            dat_sean_df_ = np.append(dat_sean_df_, dat_sean[matrix][:, sample, :].reshape(1,dat_sean[matrix][:, sample, :].shape[0],dat_sean[matrix][:, sample, :].shape[1]), axis=0)\n",
    "                            dat_seaw_df_ = np.append(dat_seaw_df_, dat_seaw[matrix][:, sample, :].reshape(1,dat_seaw[matrix][:, sample, :].shape[0],dat_seaw[matrix][:, sample, :].shape[1]), axis=0)\n",
    "                            ind_sean_df_ = np.append(ind_sean_df_, ind_sean[matrix][:, sample].reshape(1, ind_sean[matrix][:, sample].shape[0]), axis=0)\n",
    "                            ind_seaw_df_ = np.append(ind_seaw_df_, ind_seaw[matrix][:, sample].reshape(1, ind_seaw[matrix][:, sample].shape[0]), axis=0)\n",
    "\n",
    "                    dat_sean_dfn = dat_sean_df_[1:,:,:]\n",
    "                    dat_seaw_dfn = dat_seaw_df_[1:,:,:]\n",
    "                    ind_sean_dfn = ind_sean_df_[1:,:]\n",
    "                    ind_seaw_dfn = ind_seaw_df_[1:,:]\n",
    "\n",
    "                    for time in range(31):\n",
    "                        dat_sean_dfn[:,:,time] = np.multiply((dat_sean_dfn[:,:,time]),ind_sean_dfn)\n",
    "                        dat_seaw_dfn[:,:,time] = np.multiply(np.array(dat_seaw_dfn[:,:,time]),ind_seaw_dfn)\n",
    "\n",
    "                    for speak in range(0,5):\n",
    "\n",
    "                        dat_sean_res = dat_sean_dfn[:,speak,:]\n",
    "                        dat_seaw_res = dat_seaw_dfn[:,speak,:]\n",
    "                        \n",
    "                        dat_sean_res[dat_sean_res == np.inf] = 0\n",
    "                        dat_seaw_res[dat_seaw_res == np.inf] = 0\n",
    "                        if(np.any(dat_seaw_res == np.inf)==True or np.any(dat_sean_res == np.inf)==True or np.any(dat_sean_res == -np.inf)==True or np.any(dat_seaw_res == -np.inf)==True):\n",
    "                            print(1)\n",
    "\n",
    "                        file1 = \"C:/Users/m.nedeljkovic/Desktop/cnn data/data/an\" + str(br) + '_' + \"sp\" + str(speak) +  \".npy\"\n",
    "                        #file2 = \"C:/Users/m.nedeljkovic/Desktop/cnn data/data/aw\" + str(br) + '_' + \"sp\" + str(speak) +  \".npy\"\n",
    "                        #file1 = \"C:/Users/Zephyrus/Desktop/cnn data/data/an\" + str(br) + \".npy\"\n",
    "                        #file2 = \"C:/Users/Zephyrus/Desktop/cnn data/data/aw\" + str(br) + \".npy\"\n",
    "                    \n",
    "                        np.save(file1, dat_sean_res)\n",
    "                        #np.save(file2, dat_seaw_res)\n",
    "                    \n",
    "                    br = br + 1\n",
    "        "
   ]
  },
  {
   "cell_type": "code",
   "execution_count": 9,
   "metadata": {},
   "outputs": [
    {
     "name": "stderr",
     "output_type": "stream",
     "text": [
      "C:\\Users\\m.nedeljkovic\\AppData\\Local\\Temp\\ipykernel_1944\\682504556.py:62: RuntimeWarning: invalid value encountered in multiply\n",
      "  dat_seaw_dfn[:,:,time] = np.multiply(np.array(dat_seaw_dfn[:,:,time]),ind_seaw_dfn)\n"
     ]
    }
   ],
   "source": [
    "mat_load, roi_load, ind_load, list1, list2, list3, list4 = load_data()\n",
    "data_speak(1, mat_load, roi_load, ind_load, list1, list2, list3, list4)"
   ]
  },
  {
   "cell_type": "markdown",
   "metadata": {},
   "source": [
    "### 3. All regions - classification on different speakers"
   ]
  },
  {
   "cell_type": "code",
   "execution_count": 13,
   "metadata": {},
   "outputs": [],
   "source": [
    "#lenghts of each trial\n",
    "from cmath import isinf\n",
    "\n",
    "def data_speak_allreg(mat_load, roi_load, ind_load, list1, list2, list3, list4):\n",
    "    lista = [[k[0] for k in list1], [k[0] for k in list2], [k[0] for k in list3], [k[0] for k in list4]]\n",
    "    index = [0, 118, 88, 100, 98, 109, 78, 121, 76, 113, 97, 112, 118]\n",
    "\n",
    "    br = 1\n",
    "\n",
    "    for trial in range(1,len(index)):\n",
    "        \n",
    "        index[trial] = index[trial] + index[trial-1]\n",
    "        dat_tr = mat_load[index[trial-1] : index[trial]+1, :, :, 0, :, :, :]\n",
    "        ind_tr = ind_load[index[trial-1] : index[trial]+1, :, :, 0, :, :]\n",
    "\n",
    "        #choose state\n",
    "        dat_stan = dat_tr[:, 0, :, :, :, :]\n",
    "        dat_staw = dat_tr[:, 1, :, :, :, :]\n",
    "        ind_stan = ind_tr[:, 0, :, :, :]\n",
    "        ind_staw = ind_tr[:, 1, :, :, :]\n",
    "\n",
    "        for sesion in range(4):\n",
    "            \n",
    "            lista_ = lista[sesion]\n",
    "            #choose session\n",
    "            dat_sean = dat_stan[:, sesion, :, :, :]\n",
    "            dat_seaw = dat_staw[:, sesion, :, :, :]\n",
    "            ind_sean = ind_stan[:, sesion, :, :]\n",
    "            ind_seaw = ind_staw[:, sesion, :, :]\n",
    "\n",
    "            for sample in range(50):\n",
    "\n",
    "                dat_sean_df = dat_sean[:, :, sample, :]\n",
    "                dat_seaw_df = dat_seaw[:, :, sample, :]\n",
    "                ind_sean_df = ind_sean[:, :, sample]\n",
    "                ind_seaw_df = ind_seaw[:, :, sample]\n",
    "                ind_sean_df = ind_sean_df.astype('float')\n",
    "                ind_seaw_df = ind_seaw_df.astype('float')\n",
    "                ind_sean_df[ind_sean_df == 0] = 'nan' \n",
    "                ind_seaw_df[ind_seaw_df == 0] = 'nan' \n",
    "\n",
    "                dat_sean_df_ = dat_sean_df[0:1,:,:]\n",
    "                dat_seaw_df_ = dat_seaw_df[0:1,:,:]\n",
    "                ind_sean_df_ = ind_sean_df[0:1,:]\n",
    "                ind_seaw_df_ = ind_seaw_df[0:1,:]\n",
    "            \n",
    "                for matrix in range(0,np.shape(dat_sean_df)[0]-1):\n",
    "                    if(index[trial-1]+matrix in lista_):\n",
    "                        dat_sean_df_ = np.append(dat_sean_df_, dat_sean[matrix][:, sample, :].reshape(1,dat_sean[matrix][:, sample, :].shape[0],dat_sean[matrix][:, sample, :].shape[1]), axis=0)\n",
    "                        dat_seaw_df_ = np.append(dat_seaw_df_, dat_seaw[matrix][:, sample, :].reshape(1,dat_seaw[matrix][:, sample, :].shape[0],dat_seaw[matrix][:, sample, :].shape[1]), axis=0)\n",
    "                        ind_sean_df_ = np.append(ind_sean_df_, ind_sean[matrix][:, sample].reshape(1, ind_sean[matrix][:, sample].shape[0]), axis=0)\n",
    "                        ind_seaw_df_ = np.append(ind_seaw_df_, ind_seaw[matrix][:, sample].reshape(1, ind_seaw[matrix][:, sample].shape[0]), axis=0)\n",
    "\n",
    "                dat_sean_dfn = dat_sean_df_[1:,:,:]\n",
    "                dat_seaw_dfn = dat_seaw_df_[1:,:,:]\n",
    "                ind_sean_dfn = ind_sean_df_[1:,:]\n",
    "                ind_seaw_dfn = ind_seaw_df_[1:,:]\n",
    "\n",
    "                for time in range(31):\n",
    "                    dat_sean_dfn[:,:,time] = np.multiply((dat_sean_dfn[:,:,time]),ind_sean_dfn)\n",
    "                    dat_seaw_dfn[:,:,time] = np.multiply(np.array(dat_seaw_dfn[:,:,time]),ind_seaw_dfn)\n",
    "\n",
    "                for speak in range(0,5):\n",
    "\n",
    "                    dat_sean_res = dat_sean_dfn[:,speak,:]\n",
    "                    dat_seaw_res = dat_seaw_dfn[:,speak,:]\n",
    "                    \n",
    "                    dat_sean_res[dat_sean_res == np.inf] = 0\n",
    "                    dat_seaw_res[dat_seaw_res == np.inf] = 0\n",
    "                    if(np.any(dat_seaw_res == np.inf)==True or np.any(dat_sean_res == np.inf)==True or np.any(dat_sean_res == -np.inf)==True or np.any(dat_seaw_res == -np.inf)==True):\n",
    "                        print(1)\n",
    "\n",
    "                    file1 = \"C:/Users/m.nedeljkovic/Desktop/cnn data/data/an\" + str(br) + '_' + \"sp\" + str(speak) +  \".npy\"\n",
    "                    #file2 = \"C:/Users/m.nedeljkovic/Desktop/cnn data/data/aw\" + str(br) + '_' + \"sp\" + str(speak) +  \".npy\"\n",
    "                    #file1 = \"C:/Users/Zephyrus/Desktop/cnn data/data/an\" + str(br) + \".npy\"\n",
    "                    #file2 = \"C:/Users/Zephyrus/Desktop/cnn data/data/aw\" + str(br) + \".npy\"\n",
    "                \n",
    "                    np.save(file1, dat_sean_res)\n",
    "                    #np.save(file2, dat_seaw_res)\n",
    "                \n",
    "                br = br + 1\n",
    "        "
   ]
  },
  {
   "cell_type": "code",
   "execution_count": 14,
   "metadata": {},
   "outputs": [
    {
     "name": "stderr",
     "output_type": "stream",
     "text": [
      "C:\\Users\\m.nedeljkovic\\AppData\\Local\\Temp\\ipykernel_19540\\3254080164.py:61: RuntimeWarning: invalid value encountered in multiply\n",
      "  dat_seaw_dfn[:,:,time] = np.multiply(np.array(dat_seaw_dfn[:,:,time]),ind_seaw_dfn)\n"
     ]
    }
   ],
   "source": [
    "mat_load, roi_load, ind_load, list1, list2, list3, list4 = load_data()\n",
    "data_speak_allreg(mat_load, roi_load, ind_load, list1, list2, list3, list4)"
   ]
  }
 ],
 "metadata": {
  "kernelspec": {
   "display_name": "Python 3.10.5 64-bit",
   "language": "python",
   "name": "python3"
  },
  "language_info": {
   "codemirror_mode": {
    "name": "ipython",
    "version": 3
   },
   "file_extension": ".py",
   "mimetype": "text/x-python",
   "name": "python",
   "nbconvert_exporter": "python",
   "pygments_lexer": "ipython3",
   "version": "3.10.5"
  },
  "orig_nbformat": 4,
  "vscode": {
   "interpreter": {
    "hash": "c3ff55a2362d840d3433b3a68631efa6e477163e310b6a9fd17f9078908dbfa1"
   }
  }
 },
 "nbformat": 4,
 "nbformat_minor": 2
}
