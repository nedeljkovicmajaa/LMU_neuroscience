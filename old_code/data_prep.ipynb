{
 "cells": [
  {
   "cell_type": "markdown",
   "metadata": {},
   "source": [
    "##### Load required packages"
   ]
  },
  {
   "cell_type": "code",
   "execution_count": 36,
   "metadata": {},
   "outputs": [],
   "source": [
    "import scipy.io as sio\n",
    "import numpy as np\n",
    "import matplotlib.pyplot as plt\n",
    "import seaborn as sns\n",
    "import pandas as pd\n",
    "from cmath import nan, isinf\n",
    "from sklearn.metrics import confusion_matrix\n",
    "import warnings\n",
    "warnings.filterwarnings(\"ignore\")"
   ]
  },
  {
   "cell_type": "markdown",
   "metadata": {},
   "source": [
    "##### Load data"
   ]
  },
  {
   "cell_type": "code",
   "execution_count": 6,
   "metadata": {},
   "outputs": [],
   "source": [
    "def load_data():\n",
    "    # mat_load - all data\n",
    "    mat_load = sio.loadmat('C:/Users/Zephyrus/Marija/projekti/MINHEN/data/allTraces.mat')['allTraces']\n",
    "    # roi_load - ROI positions, not used in any function\n",
    "    roi_load = sio.loadmat('C:/Users/Zephyrus/Marija/projekti/MINHEN/data/allROIPositions.mat')['allROIPositions']\n",
    "    # ind_load - indices \n",
    "    ind_load = sio.loadmat('C:/Users/Zephyrus/Marija/projekti/MINHEN/data/blFinalHit.mat')['blFinalHit']\n",
    "    # lista - list of indices for each session (so 4 sessions - 4 lists in lista)\n",
    "    list1 = sio.loadmat('C:/Users/Zephyrus/Marija/projekti/MINHEN/data/indicesSession1.mat')['indSess1']\n",
    "    list2 = sio.loadmat('C:/Users/Zephyrus/Marija/projekti/MINHEN/data/List2.mat')['List2']\n",
    "    list3 = sio.loadmat('C:/Users/Zephyrus/Marija/projekti/MINHEN/data/List3.mat')['List3']\n",
    "    list4 = sio.loadmat('C:/Users/Zephyrus/Marija/projekti/MINHEN/data/List4.mat')['List4']\n",
    "    lista = [[k[0] for k in list1], [k[0] for k in list2], [k[0] for k in list3], [k[0] for k in list4]]\n",
    "\n",
    "    return mat_load, roi_load, ind_load, lista"
   ]
  },
  {
   "cell_type": "markdown",
   "metadata": {},
   "source": [
    "\"index\" is a list of beginnings for all rois"
   ]
  },
  {
   "cell_type": "code",
   "execution_count": 25,
   "metadata": {},
   "outputs": [],
   "source": [
    "index = [0, 118, 88, 100, 98, 109, 78, 121, 76, 113, 97, 112, 118]\n",
    "for roi in range(1,len(index)):\n",
    "    #update next index\n",
    "    index[roi] = index[roi] + index[roi-1]"
   ]
  },
  {
   "cell_type": "code",
   "execution_count": 26,
   "metadata": {},
   "outputs": [
    {
     "data": {
      "text/plain": [
       "[0, 118, 206, 306, 404, 513, 591, 712, 788, 901, 998, 1110, 1228]"
      ]
     },
     "execution_count": 26,
     "metadata": {},
     "output_type": "execute_result"
    }
   ],
   "source": [
    "index"
   ]
  },
  {
   "cell_type": "markdown",
   "metadata": {},
   "source": [
    "## Data preparation and understanding"
   ]
  },
  {
   "cell_type": "markdown",
   "metadata": {},
   "source": [
    "---\n",
    "- 1 region     \n",
    "- all info about speakers (a few speakers from different sides)   \n",
    "- 4 sessions - recording in different time points\n",
    "- different trials with pauses between them\n",
    "- white noise - that we use  \n",
    "- 50 info per neuron (per speaker)  \n",
    "- an and aw states (2 states) \n",
    "- 100 neurons per region => image 100x250(5x50)     \n",
    "- 8 of them (2 states x 4 sessions) x 30 (sampling points over time)     \n",
    "- final 240 images (120 per state)\n",
    "- oversampling input images with NaNs (maybe random oversampling) - some neurons move and deisappear     \n",
    "- representing input images as different stimulus (100 x 50)\n",
    "- combination of 2 different regions in one image / mice????\n",
    "- including bandpass noise into data representation (the second dimension)\n",
    "- representing input images as different stimulus (100 x 50)\n",
    "---\n",
    "INFO about roi_load    \n",
    "dim - (1228, 2, 2, 4)      \n",
    "positions of neurons; they can be used for correlation analysis      \n",
    "\n",
    "- 0 - same     \n",
    "- 1 - y and then x dimension     \n",
    "- 2 - anest and awake     \n",
    "- 3 - sessions\n",
    "---\n",
    "INFO about mat_load    \n",
    "dim - (1228, 2, 4, 2, 5, 50, 31)    \n",
    "- 0 - all the ROIs compacted together (the 1st and the 2nd index are to rois of the 1st mouse, the 3rd and the 4th index are to rois of the 2nd mouse, etc.)      \n",
    "- 1 - 2 states   \n",
    "- 2 - 4 sessions     \n",
    "- 3 - the white noise (0th index) and the bandpass noise (1st index) - we always use the white noise          \n",
    "- 4 - 5 speakers\n",
    "- 5 - 50 trials (for 1 session each speaker is presented 50 times), certain trials are also wrond\n",
    "- 6 - 31 samples, framerate of 31 Hz (5s of data), but the stimulus arrives at 11th sample (10 index in python)\n",
    "\n",
    "blFinalHit.mat - if the measurement was correct or not"
   ]
  },
  {
   "cell_type": "code",
   "execution_count": 93,
   "metadata": {},
   "outputs": [],
   "source": [
    "def data_per_roi(mat_load, ind_load, lista):\n",
    "    for roi in range(1, len(index)):\n",
    "        # data for the specific roi\n",
    "        dat_tr = mat_load[index[roi-1] : index[roi]+1, :, :, 0, :, :, :]\n",
    "        ind_tr = ind_load[index[roi-1] : index[roi]+1, :, :, 0, :, :]\n",
    "\n",
    "        # divide data into two categories based on the state - an and aw\n",
    "        dat_stan, ind_stan = dat_tr[:, 0, :, :, :, :], ind_tr[:, 0, :, :, :], \n",
    "        dat_staw, ind_staw = dat_tr[:, 1, :, :, :, :], ind_tr[:, 1, :, :, :]\n",
    "\n",
    "        for sesion in range(4):\n",
    "            \n",
    "            lista_ses = lista[sesion]\n",
    "            # choose session\n",
    "            dat_sean, ind_sean = dat_stan[:, sesion, :, :, :], ind_stan[:, sesion, :, :]\n",
    "            dat_seaw, ind_seaw = dat_staw[:, sesion, :, :, :], ind_staw[:, sesion, :, :]\n",
    "\n",
    "            for trial in range(50):\n",
    "                # data for the specific neuron\n",
    "                dat_sean_df, ind_sean_df = dat_sean[:, :, trial, :], ind_sean[:, :, trial].astype('float')\n",
    "                dat_seaw_df, ind_seaw_df = dat_seaw[:, :, trial, :], ind_seaw[:, :, trial].astype('float')\n",
    "                # if activation is 0, then it is an invalid recording (maybe the neuron disappeared)\n",
    "                ind_sean_df[ind_sean_df == 0] = 'nan' \n",
    "                ind_seaw_df[ind_seaw_df == 0] = 'nan' \n",
    "\n",
    "                # inicialization for the next step\n",
    "                dat_sean_df_, dat_seaw_df_, ind_sean_df_, ind_seaw_df_ = dat_sean_df[0:1,:,:], dat_seaw_df[0:1,:,:], ind_sean_df[0:1,:], ind_seaw_df[0:1,:]\n",
    "                # checking if the data for a specific roi is valid (in the list_ses)\n",
    "                for matrix in range(0,np.shape(dat_sean_df)[0]-1):\n",
    "                    if(index[roi-1]+matrix in lista_ses):\n",
    "                        dat_sean_df_ = np.append(dat_sean_df_, dat_sean[matrix][:, trial, :].reshape(1,dat_sean[matrix][:, trial, :].shape[0],dat_sean[matrix][:, trial, :].shape[1]), axis=0)\n",
    "                        dat_seaw_df_ = np.append(dat_seaw_df_, dat_seaw[matrix][:, trial, :].reshape(1,dat_seaw[matrix][:, trial, :].shape[0],dat_seaw[matrix][:, trial, :].shape[1]), axis=0)\n",
    "                        ind_sean_df_ = np.append(ind_sean_df_, ind_sean[matrix][:, trial].reshape(1, ind_sean[matrix][:, trial].shape[0]), axis=0)\n",
    "                        ind_seaw_df_ = np.append(ind_seaw_df_, ind_seaw[matrix][:, trial].reshape(1, ind_seaw[matrix][:, trial].shape[0]), axis=0)\n",
    "                # del the first row of the matrix\n",
    "                dat_sean_df, dat_seaw_df, ind_sean_df, ind_seaw_df = dat_sean_df_[1:,:,:], dat_seaw_df_[1:,:,:], ind_sean_df_[1:,:], ind_seaw_df_[1:,:]\n",
    "                \n",
    "                # in different time points we have the same indices so we set 0 to the inactive ones\n",
    "                for time in range(31):\n",
    "                    dat_sean_df[:,:,time] = np.multiply(np.array(dat_sean_df[:,:,time]),ind_sean_df)\n",
    "                    dat_seaw_df[:,:,time] = np.multiply(np.array(dat_seaw_df[:,:,time]),ind_seaw_df)\n",
    "\n",
    "                # (98 - neurons, 5 - speakers, 31 - time points)\n",
    "                # 5 speakers x 31 time points - so in total we have matrix with NUM trials x 155\n",
    "                #dat_sean_df = dat_sean_df.reshape(5,dat_sean_df.shape[0]*31)\n",
    "                #dat_seaw_df = dat_seaw_df.reshape(5,dat_seaw_df.shape[0]*31)\n",
    "\n",
    "                # exclude any nan recordings\n",
    "                delete_ind = []\n",
    "                for i in range(len(dat_sean_df)):\n",
    "                    neuron = dat_sean_df[i] \n",
    "                    for j in range(len(neuron)):\n",
    "                        if np.any(np.isnan(neuron[j])): \n",
    "                            delete_ind.append(i)\n",
    "                            break\n",
    "                dat_sean_df = np.delete(dat_sean_df, delete_ind, axis=0)\n",
    "                delete_ind = []\n",
    "                for i in range(len(dat_seaw_df)):\n",
    "                    neuron = dat_seaw_df[i] \n",
    "                    for j in range(len(neuron)):\n",
    "                        if np.any(np.isnan(neuron[j])): \n",
    "                            delete_ind.append(i)\n",
    "                            break\n",
    "                dat_seaw_df = np.delete(dat_seaw_df, delete_ind, axis=0)\n",
    "\n",
    "                # this is some checking that I don't remember, but it didn't occure at any point\n",
    "                dat_sean_df[dat_sean_df == np.inf], dat_seaw_df[dat_seaw_df == np.inf] = 0, 0\n",
    "                if(np.any(dat_seaw_df == np.inf)==True or np.any(dat_sean_df == np.inf)==True or np.any(dat_sean_df == -np.inf)==True or np.any(dat_seaw_df == -np.inf)==True): print(1)\n",
    "                \n",
    "                #print(len(dat_sean_df), len(dat_seaw_df))\n",
    "                # print if theres any nan\n",
    "                if np.any(np.isnan(dat_sean_df)) or np.any(np.isnan(dat_seaw_df)): print('NAN')\n",
    "\n",
    "                np.save(\"C:/Users/Zephyrus/Marija/projekti/MINHEN/an_aw/data/an\" + \"_mouse\" + str((roi-1)//2+1) + \"_roi\" + str((roi-1)%2+1) + \"_ses\" + str(sesion+1) + \"_tr\" + str(trial+1) + \".npy\", dat_sean_df)\n",
    "                np.save(\"C:/Users/Zephyrus/Marija/projekti/MINHEN/an_aw/data/aw\" + \"_mouse\" + str((roi-1)//2+1) + \"_roi\" + str((roi-1)%2+1) + \"_ses\" + str(sesion+1) + \"_tr\" + str(trial+1) + \".npy\", dat_seaw_df)          "
   ]
  },
  {
   "cell_type": "code",
   "execution_count": 94,
   "metadata": {},
   "outputs": [],
   "source": [
    "#mat_load, roi_load, ind_load, lista = load_data()"
   ]
  },
  {
   "cell_type": "code",
   "execution_count": 95,
   "metadata": {},
   "outputs": [],
   "source": [
    "data_per_roi(mat_load, ind_load, lista)"
   ]
  }
 ],
 "metadata": {
  "kernelspec": {
   "display_name": "Python 3.10.5 64-bit",
   "language": "python",
   "name": "python3"
  },
  "language_info": {
   "codemirror_mode": {
    "name": "ipython",
    "version": 3
   },
   "file_extension": ".py",
   "mimetype": "text/x-python",
   "name": "python",
   "nbconvert_exporter": "python",
   "pygments_lexer": "ipython3",
   "version": "3.8.8"
  },
  "orig_nbformat": 4,
  "vscode": {
   "interpreter": {
    "hash": "c3ff55a2362d840d3433b3a68631efa6e477163e310b6a9fd17f9078908dbfa1"
   }
  }
 },
 "nbformat": 4,
 "nbformat_minor": 2
}
