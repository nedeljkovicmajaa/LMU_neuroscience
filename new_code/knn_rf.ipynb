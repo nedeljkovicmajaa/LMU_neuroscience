{
 "cells": [
  {
   "cell_type": "markdown",
   "metadata": {},
   "source": [
    "#### Import required packages"
   ]
  },
  {
   "cell_type": "code",
   "execution_count": 2,
   "metadata": {},
   "outputs": [],
   "source": [
    "import time\n",
    "import os\n",
    "import shutil\n",
    "import math\n",
    "from collections import defaultdict\n",
    "import matplotlib.pyplot as plt\n",
    "import numpy as np\n",
    "import csv\n",
    "import random\n",
    "from PIL import Image\n",
    "import csv\n",
    "import operator \n",
    "import pandas as pd \n",
    "import seaborn as sns\n",
    "import scipy.io as sio\n",
    "import scipy.stats as stats\n",
    "from cmath import nan, isnan\n",
    "from numpy import isinf\n",
    "import signal"
   ]
  },
  {
   "cell_type": "code",
   "execution_count": 3,
   "metadata": {},
   "outputs": [],
   "source": [
    "%matplotlib inline\n",
    "\n",
    "import warnings\n",
    "warnings.filterwarnings(\"ignore\")"
   ]
  },
  {
   "cell_type": "code",
   "execution_count": 4,
   "metadata": {},
   "outputs": [],
   "source": [
    "from sklearn.decomposition import PCA\n",
    "from sklearn.metrics import accuracy_score, confusion_matrix \n",
    "from sklearn.multiclass import OneVsRestClassifier\n",
    "from sklearn.neighbors import KNeighborsClassifier\n",
    "from sklearn.ensemble import RandomForestClassifier\n",
    "from numpy import loadtxt\n",
    "from xgboost import XGBClassifier\n",
    "from sklearn.model_selection import train_test_split\n",
    "from sklearn.metrics import accuracy_score\n",
    "from sklearn.naive_bayes import GaussianNB"
   ]
  },
  {
   "cell_type": "markdown",
   "metadata": {},
   "source": [
    "#### Data loading and preprocessing"
   ]
  },
  {
   "cell_type": "markdown",
   "metadata": {},
   "source": [
    "'load_data' function - load data in the form of list     \n",
    "Each element represents list of 2 emelents - 1st one is INFO and 2nd one is data"
   ]
  },
  {
   "cell_type": "code",
   "execution_count": 5,
   "metadata": {},
   "outputs": [],
   "source": [
    "def load_data(directory):\n",
    "    data = []\n",
    "    for filename in os.listdir(directory):\n",
    "        # example: 'aw_mouse3_roi1_ses3_tr21.npy'\n",
    "        f = os.path.join(directory, filename)\n",
    "        \n",
    "        list_of_subs = f.split(\"\\\\\")[-1].split(\"_\")\n",
    "        list_of_subs[-1] = list_of_subs[-1][:-4]\n",
    "\n",
    "        # get all numeric values from the filename\n",
    "        for i in range(len(list_of_subs)):\n",
    "            if list_of_subs[i][-2:].isdigit():\n",
    "                list_of_subs[i] = int(list_of_subs[i][-2:])\n",
    "            elif list_of_subs[i][-1].isdigit():\n",
    "                list_of_subs[i] = int(list_of_subs[i][-1])\n",
    "                \n",
    "        # replace the string labels with integers\n",
    "        if list_of_subs[0] == 'aw':\n",
    "            list_of_subs[0] = 0\n",
    "        elif list_of_subs[0] == 'an':\n",
    "            list_of_subs[0] = 1\n",
    "\n",
    "        all_info = {'label': list_of_subs[0], 'mouse': list_of_subs[1], 'roi': list_of_subs[2], 'ses': list_of_subs[3], 'tr': list_of_subs[4]}\n",
    "        \n",
    "        # load actual data\n",
    "        dat = np.load(f)\n",
    "\n",
    "        # append new data to the list\n",
    "        data.append([all_info, dat])\n",
    "    \n",
    "    return data      "
   ]
  },
  {
   "cell_type": "code",
   "execution_count": 6,
   "metadata": {},
   "outputs": [],
   "source": [
    "path = \"C:/Users/Zephyrus/Marija/projekti/MINHEN/an_aw/data\"\n",
    "load_all_data = load_data(path)"
   ]
  },
  {
   "cell_type": "code",
   "execution_count": 7,
   "metadata": {},
   "outputs": [
    {
     "name": "stdout",
     "output_type": "stream",
     "text": [
      "4800 2\n",
      "{'label': 1, 'mouse': 1, 'roi': 1, 'ses': 1, 'tr': 1}\n"
     ]
    }
   ],
   "source": [
    "print(len(load_all_data), len(load_all_data[0]))\n",
    "print(load_all_data[0][0])"
   ]
  },
  {
   "cell_type": "markdown",
   "metadata": {},
   "source": [
    "# Classification on anest and awake state"
   ]
  },
  {
   "cell_type": "markdown",
   "metadata": {},
   "source": [
    "### Data preparation"
   ]
  },
  {
   "cell_type": "markdown",
   "metadata": {},
   "source": [
    "Split data into train and test data for classification on AN and AW state"
   ]
  },
  {
   "cell_type": "code",
   "execution_count": 12,
   "metadata": {},
   "outputs": [],
   "source": [
    "def train_test_split(mouse_id, data_vectors):\n",
    "    train_data, train_labels, test_data, test_labels = [], [], [], []\n",
    "    for data in data_vectors:\n",
    "        if data[0]['mouse'] == mouse_id:\n",
    "            test_data.append(data[1])\n",
    "            test_labels.append(data[0]['label'])\n",
    "        else:\n",
    "            train_data.append(data[1])\n",
    "            train_labels.append(data[0]['label'])\n",
    "\n",
    "    # shuffle train data\n",
    "    c = list(zip(train_data, train_labels))\n",
    "    random.shuffle(c)\n",
    "    train_data, train_labels = zip(*c)\n",
    "\n",
    "    # shuffle test data\n",
    "    c = list(zip(test_data, test_labels))\n",
    "    random.shuffle(c)\n",
    "    test_data, test_labels = zip(*c)\n",
    "    \n",
    "    return train_data, train_labels, test_data, test_labels"
   ]
  },
  {
   "cell_type": "code",
   "execution_count": 13,
   "metadata": {},
   "outputs": [],
   "source": [
    "train_data, train_labels, test_data, test_labels = train_test_split(1, load_all_data)"
   ]
  },
  {
   "cell_type": "code",
   "execution_count": 14,
   "metadata": {},
   "outputs": [
    {
     "name": "stdout",
     "output_type": "stream",
     "text": [
      "Train len: 4000 Test len: 800\n",
      "Shape of the initial data sample: (76, 5, 31)\n",
      "Train labels 0/an: 2000 Train labels 1/aw: 2000\n",
      "Test labels 0/an: 400 Test labels 1/aw: 400\n"
     ]
    }
   ],
   "source": [
    "print('Train len:',len(train_data), 'Test len:', len(test_data))\n",
    "print('Shape of the initial data sample:', train_data[1000].shape)\n",
    "print('Train labels 0/an:', len(train_labels)-np.sum(train_labels), 'Train labels 1/aw:', np.sum(train_labels))\n",
    "print('Test labels 0/an:', len(test_labels)-np.sum(test_labels), 'Test labels 1/aw:', np.sum(test_labels))"
   ]
  },
  {
   "cell_type": "markdown",
   "metadata": {},
   "source": [
    "'process_data' function - uses only stimuli after the 10th and gets data for the specific speaker       \n",
    "adds '0's to fill the missing neurons and make all data same dimension"
   ]
  },
  {
   "cell_type": "code",
   "execution_count": 17,
   "metadata": {},
   "outputs": [],
   "source": [
    "def process_data(sp, tr_data, ts_data):\n",
    "    for i in range(len(tr_data)):\n",
    "        tr_data[i] = tr_data[i][:,sp,10:].flatten()\n",
    "    for i in range(len(ts_data)):\n",
    "        ts_data[i] = ts_data[i][:,sp,10:].flatten()\n",
    "\n",
    "    max_len_tr = max([len(i) for i in tr_data])\n",
    "    max_len_ts = max([len(i) for i in ts_data])\n",
    "    max_len = max(max_len_tr, max_len_ts)\n",
    "\n",
    "    # fill with zeros float64\n",
    "    for i in range(len(tr_data)):\n",
    "        tr_data[i] = np.append(tr_data[i], np.zeros(max_len - len(tr_data[i])))\n",
    "    for i in range(len(ts_data)):\n",
    "        ts_data[i] = np.append(ts_data[i], np.zeros(max_len - len(ts_data[i])))\n",
    "\n",
    "    tr_data = [list(i) for i in tr_data]\n",
    "    ts_data = [list(i) for i in ts_data]\n",
    "\n",
    "    return tr_data, ts_data"
   ]
  },
  {
   "cell_type": "markdown",
   "metadata": {},
   "source": [
    "'extract_features' function     \n",
    "- power spectral density (PSD) of the data - max, min, std, kurosis, skewness, entropy, average spike rate, burstiness and pattern "
   ]
  },
  {
   "cell_type": "code",
   "execution_count": 18,
   "metadata": {},
   "outputs": [],
   "source": [
    "def extract_features(tr_data, ts_data, tr_labels, ts_labels):\n",
    "    power_tr, power_ts = [], []\n",
    "    del_list = []\n",
    " \n",
    "    for i in range(len(tr_data)):\n",
    "        one_sample = []\n",
    "        y = 0\n",
    "        for sp in range(0,5):\n",
    "            signal_neurons = tr_data[i][:,sp,:].flatten()\n",
    "            if len(signal_neurons) == 0:\n",
    "                del_list.append(i)\n",
    "                y = 1\n",
    "                continue\n",
    "\n",
    "            # power spectrum\n",
    "            signal_power = np.abs(np.fft.fft(signal_neurons))**2\n",
    "            one_sample.append(np.max(signal_power))\n",
    "            one_sample.append(np.min(signal_power))\n",
    "            one_sample.append(np.std(signal_power))\n",
    "            # kurtosis\n",
    "            kurt = stats.kurtosis(signal_power)\n",
    "            if isnan(kurt) or isinf(kurt): kurt = 0\n",
    "            one_sample.append(kurt)\n",
    "            # skewness\n",
    "            skew = stats.skew(signal_power)\n",
    "            if isnan(skew) or isinf(skew): skew = 0\n",
    "            one_sample.append(skew)\n",
    "            # entropy\n",
    "            ent = stats.entropy(signal_power)\n",
    "            if isnan(ent) or isinf(ent): ent = 0\n",
    "            one_sample.append(ent)\n",
    "            # average spike rate\n",
    "            avg_spike_rate = np.mean(signal_power)\n",
    "            if isnan(avg_spike_rate) or isinf(avg_spike_rate): avg_spike_rate = 0\n",
    "            one_sample.append(avg_spike_rate)\n",
    "            # burstiness\n",
    "            burst = np.max(signal_power) / avg_spike_rate\n",
    "            if isnan(burst) or isinf(burst): burst = 0\n",
    "            one_sample.append(burst)\n",
    "            # pattern\n",
    "            pattern = np.max(signal_power) / np.mean(signal_power)\n",
    "            if isnan(pattern) or isinf(pattern): pattern = 0\n",
    "            one_sample.append(pattern)\n",
    "\n",
    "        if y == 0:\n",
    "            power_tr.append(one_sample)\n",
    "\n",
    "    tr_labels = np.delete(tr_labels, del_list)\n",
    "    del_list = []  \n",
    "\n",
    "    for i in range(len(ts_data)):\n",
    "        one_sample = []\n",
    "        y = 0\n",
    "        for sp in range(0,5):\n",
    "            signal_neurons = ts_data[i][:,sp,:].flatten()\n",
    "            if len(signal_neurons) == 0:\n",
    "                del_list.append(i)\n",
    "                y = 1\n",
    "                continue\n",
    "\n",
    "            # power spectrum\n",
    "            signal_power = np.abs(np.fft.fft(signal_neurons))**2\n",
    "            one_sample.append(np.max(signal_power))\n",
    "            one_sample.append(np.min(signal_power))\n",
    "            one_sample.append(np.std(signal_power))  \n",
    "            # kurtosis\n",
    "            kurt = stats.kurtosis(signal_power)\n",
    "            if isnan(kurt) or isinf(kurt): kurt = 0\n",
    "            one_sample.append(kurt)\n",
    "            # skewness\n",
    "            skew = stats.skew(signal_power)\n",
    "            if isnan(skew) or isinf(skew): skew = 0\n",
    "            one_sample.append(skew)\n",
    "            # entropy\n",
    "            ent = stats.entropy(signal_power)\n",
    "            if isnan(ent) or isinf(ent): ent = 0\n",
    "            one_sample.append(ent)\n",
    "            # average spike rate\n",
    "            avg_spike_rate = np.mean(signal_power)\n",
    "            if isnan(avg_spike_rate) or isinf(avg_spike_rate): avg_spike_rate = 0\n",
    "            one_sample.append(avg_spike_rate)\n",
    "            # burstiness\n",
    "            burst = np.max(signal_power) / avg_spike_rate\n",
    "            if isnan(burst) or isinf(burst): burst = 0\n",
    "            one_sample.append(burst)\n",
    "            # pattern\n",
    "            pattern = np.max(signal_power) / np.mean(signal_power)\n",
    "            if isnan(pattern) or isinf(pattern): pattern = 0\n",
    "            one_sample.append(pattern)\n",
    "            \n",
    "        if y == 0:\n",
    "            power_ts.append(one_sample)\n",
    "\n",
    "    ts_labels = np.delete(ts_labels, del_list)\n",
    "\n",
    "    return power_tr, power_ts, tr_labels, ts_labels"
   ]
  },
  {
   "cell_type": "code",
   "execution_count": 77,
   "metadata": {},
   "outputs": [],
   "source": [
    "train_data_proc, test_data_proc, train_labels_proc, test_labels_proc = extract_features(train_data, test_data, train_labels, test_labels)\n",
    "#train_data_proc, test_data_proc = process_data(np.array(train_data), np.array(test_data))"
   ]
  },
  {
   "cell_type": "code",
   "execution_count": 59,
   "metadata": {},
   "outputs": [
    {
     "name": "stdout",
     "output_type": "stream",
     "text": [
      "3996 799 3996 799\n",
      "45 45\n"
     ]
    }
   ],
   "source": [
    "print(len(train_data_proc), len(test_data_proc), len(train_labels_proc), len(test_labels_proc))\n",
    "print(len(train_data_proc[0]), len(test_data_proc[0]))"
   ]
  },
  {
   "cell_type": "markdown",
   "metadata": {},
   "source": [
    "### KNN"
   ]
  },
  {
   "cell_type": "code",
   "execution_count": 29,
   "metadata": {},
   "outputs": [],
   "source": [
    "accs = []\n",
    "conf_mats = []\n",
    "for i in range(1, 11):\n",
    "    knn = KNeighborsClassifier(n_neighbors=i)\n",
    "    knn.fit(train_data_proc, train_labels_proc)\n",
    "    knn_pred = knn.predict(test_data_proc)\n",
    "    accs.append(accuracy_score(test_labels_proc, knn_pred))\n",
    "    conf_mats.append(confusion_matrix(test_labels_proc, knn_pred))"
   ]
  },
  {
   "cell_type": "code",
   "execution_count": 30,
   "metadata": {},
   "outputs": [
    {
     "data": {
      "image/png": "[encoded data removed]",
      "text/plain": [
       "<Figure size 432x288 with 1 Axes>"
      ]
     },
     "metadata": {
      "needs_background": "light"
     },
     "output_type": "display_data"
    }
   ],
   "source": [
    "plt.plot(range(1, 11), accs)\n",
    "plt.xlabel('Number of neighbors')\n",
    "plt.ylabel('Accuracy')\n",
    "plt.title('KNN accuracy')\n",
    "plt.show()"
   ]
  },
  {
   "cell_type": "code",
   "execution_count": 31,
   "metadata": {},
   "outputs": [
    {
     "data": {
      "image/png": "[encoded data removed]",
      "text/plain": [
       "<Figure size 720x504 with 2 Axes>"
      ]
     },
     "metadata": {
      "needs_background": "light"
     },
     "output_type": "display_data"
    }
   ],
   "source": [
    "# confusion matrix\n",
    "plt.figure(figsize=(10, 7))\n",
    "sns.heatmap(conf_mats[accs.index(max(accs))], annot=True, fmt='d', cmap='Blues')\n",
    "plt.xlabel('Predicted labels')\n",
    "plt.ylabel('True labels')\n",
    "plt.title('Confusion matrix')\n",
    "plt.show()"
   ]
  },
  {
   "cell_type": "markdown",
   "metadata": {},
   "source": [
    "### RANDOM FOREST"
   ]
  },
  {
   "cell_type": "markdown",
   "metadata": {},
   "source": [
    "#### One speaker, raw data - time point from 10th"
   ]
  },
  {
   "cell_type": "code",
   "execution_count": 320,
   "metadata": {},
   "outputs": [],
   "source": [
    "accs, conf_mats = [], []\n",
    "\n",
    "for mouse in range(1,7):\n",
    "    tr_data, tr_labels, ts_data, ts_labels = train_test_split(mouse, load_all_data)\n",
    "    accs_mouse, conf_mats_mouse = [], []\n",
    "\n",
    "    for speaker in range(0, 5):\n",
    "        tr_data_proc, ts_data_proc = process_data(speaker, tr_data, ts_data)\n",
    "        rf = RandomForestClassifier(n_estimators=100)\n",
    "        rf.fit(tr_data_proc, tr_labels)\n",
    "        rf_pred = rf.predict(ts_data_proc)\n",
    "    \n",
    "        accs_mouse.append(accuracy_score(ts_labels, rf_pred))\n",
    "        conf_mats_mouse.append(confusion_matrix(ts_labels, rf_pred))\n",
    "    \n",
    "    accs.append(accs_mouse)\n",
    "    conf_mats.append(conf_mats_mouse)"
   ]
  },
  {
   "cell_type": "code",
   "execution_count": 194,
   "metadata": {},
   "outputs": [
    {
     "data": {
      "image/png": "[encoded data removed]",
      "text/plain": [
       "<Figure size 1440x360 with 5 Axes>"
      ]
     },
     "metadata": {
      "needs_background": "light"
     },
     "output_type": "display_data"
    }
   ],
   "source": [
    "fig, ax = plt.subplots(1, 5, figsize=(20, 5))\n",
    "for i in range(5):\n",
    "    ax[i].plot(range(1, 7), [accs[j][i] for j in range(6)])\n",
    "    ax[i].set_xlabel('Mouse')\n",
    "    ax[i].set_ylabel('Accuracy')\n",
    "    ax[i].set_title('Spectrum ' + str(i+1))\n",
    "plt.show()"
   ]
  },
  {
   "cell_type": "code",
   "execution_count": 205,
   "metadata": {},
   "outputs": [
    {
     "name": "stdout",
     "output_type": "stream",
     "text": [
      "Average accuracies per speaker:\n",
      "Speaker 1 : 0.9054166666666666\n",
      "Speaker 2 : 0.904375\n",
      "Speaker 3 : 0.9077083333333333\n",
      "Speaker 4 : 0.9022916666666667\n",
      "Speaker 5 : 0.9022916666666666\n",
      "\n",
      "Avevrage accuracies per mouse:\n",
      "Mouse 1 : 0.99\n",
      "Mouse 2 : 0.9460000000000001\n",
      "Mouse 3 : 0.8370000000000001\n",
      "Mouse 4 : 0.8800000000000001\n",
      "Mouse 5 : 0.897\n",
      "Mouse 6 : 0.8765000000000001\n"
     ]
    },
    {
     "data": {
      "text/plain": [
       "[[0.9925, 0.99125, 0.98875, 0.9875, 0.99],\n",
       " [0.9475, 0.94875, 0.95125, 0.9375, 0.945],\n",
       " [0.82375, 0.835, 0.8475, 0.84375, 0.835],\n",
       " [0.88375, 0.88625, 0.88125, 0.8775, 0.87125],\n",
       " [0.89125, 0.89625, 0.89375, 0.89375, 0.91],\n",
       " [0.89375, 0.86875, 0.88375, 0.87375, 0.8625]]"
      ]
     },
     "execution_count": 205,
     "metadata": {},
     "output_type": "execute_result"
    }
   ],
   "source": [
    "print('Average accuracies per speaker:')\n",
    "for i in range(5):\n",
    "    print('Speaker', i+1, ':', np.mean([accs[j][i] for j in range(6)]))\n",
    "print('')\n",
    "\n",
    "print('Avevrage accuracies per mouse:')\n",
    "for i in range(6):\n",
    "    print('Mouse', i+1, ':', np.mean(accs[i]))\n",
    "\n",
    "accs"
   ]
  },
  {
   "cell_type": "markdown",
   "metadata": {},
   "source": [
    "#### All speakers, raw data - all time points"
   ]
  },
  {
   "cell_type": "code",
   "execution_count": 211,
   "metadata": {},
   "outputs": [],
   "source": [
    "accs, conf_mats = [], []\n",
    "accs_mouse, conf_mats_mouse = [], []\n",
    "for mouse in range(1,7):\n",
    "    tr_data, tr_labels, ts_data, ts_labels = train_test_split(mouse, load_all_data)\n",
    "    tr_data_proc, ts_data_proc = process_data(sp, np.array(tr_data), np.array(ts_data))\n",
    "\n",
    "    rf = RandomForestClassifier(n_estimators=100)\n",
    "    rf.fit(tr_data_proc, tr_labels)\n",
    "    rf_pred = rf.predict(ts_data_proc)\n",
    "    \n",
    "    accs_mouse.append(accuracy_score(ts_labels, rf_pred))\n",
    "    conf_mats_mouse.append(confusion_matrix(ts_labels, rf_pred))\n"
   ]
  },
  {
   "cell_type": "code",
   "execution_count": 214,
   "metadata": {},
   "outputs": [
    {
     "data": {
      "text/plain": [
       "[0.99125, 0.96125, 0.8725, 0.8825, 0.90625, 0.8575]"
      ]
     },
     "execution_count": 214,
     "metadata": {},
     "output_type": "execute_result"
    }
   ],
   "source": [
    "accs_mouse"
   ]
  },
  {
   "cell_type": "markdown",
   "metadata": {},
   "source": [
    "#### All speakers, extracted fetures - all time points"
   ]
  },
  {
   "cell_type": "code",
   "execution_count": 19,
   "metadata": {},
   "outputs": [],
   "source": [
    "accs_mouse, conf_mats_mouse = [], []\n",
    "\n",
    "for mouse in range(1,7):\n",
    "    tr_data, tr_labels, ts_data, ts_labels = train_test_split(mouse, load_all_data)\n",
    "    tr_data_proc, ts_data_proc, tr_labels, ts_labels = extract_features(tr_data, ts_data, tr_labels, ts_labels)\n",
    "\n",
    "    rf = RandomForestClassifier(n_estimators=100)\n",
    "    rf.fit(tr_data_proc, tr_labels)\n",
    "    rf_pred = rf.predict(ts_data_proc)\n",
    "    \n",
    "    accs_mouse.append(accuracy_score(ts_labels, rf_pred))\n",
    "    conf_mats_mouse.append(confusion_matrix(ts_labels, rf_pred))"
   ]
  },
  {
   "cell_type": "code",
   "execution_count": 20,
   "metadata": {},
   "outputs": [
    {
     "data": {
      "text/plain": [
       "[0.9849812265331664,\n",
       " 0.9924812030075187,\n",
       " 0.7471839799749687,\n",
       " 0.83125,\n",
       " 0.9775,\n",
       " 0.9011264080100125]"
      ]
     },
     "execution_count": 20,
     "metadata": {},
     "output_type": "execute_result"
    }
   ],
   "source": [
    "accs_mouse"
   ]
  },
  {
   "cell_type": "code",
   "execution_count": 21,
   "metadata": {},
   "outputs": [
    {
     "data": {
      "text/plain": [
       "(-1.0, 10.0)"
      ]
     },
     "execution_count": 21,
     "metadata": {},
     "output_type": "execute_result"
    },
    {
     "data": {
      "image/png": "[encoded data removed]",
      "text/plain": [
       "<Figure size 720x360 with 1 Axes>"
      ]
     },
     "metadata": {
      "needs_background": "light"
     },
     "output_type": "display_data"
    }
   ],
   "source": [
    "importances = rf.feature_importances_\n",
    "indices = np.argsort(importances)[::-1]\n",
    "\n",
    "#select 10 most important features\n",
    "indices = indices[:10]\n",
    "\n",
    "#plot\n",
    "plt.figure(figsize=(10, 5))\n",
    "plt.title(\"Feature importances\")\n",
    "plt.bar(range(10), importances[indices], align=\"center\")\n",
    "plt.xticks(range(10), indices)\n",
    "plt.xlim([-1, 10])"
   ]
  },
  {
   "cell_type": "code",
   "execution_count": 22,
   "metadata": {},
   "outputs": [
    {
     "data": {
      "image/png": "[encoded data removed]",
      "text/plain": [
       "<Figure size 720x504 with 2 Axes>"
      ]
     },
     "metadata": {
      "needs_background": "light"
     },
     "output_type": "display_data"
    }
   ],
   "source": [
    "plt.figure(figsize=(10, 7))\n",
    "sns.heatmap(np.corrcoef(tr_data_proc, rowvar=False), cmap='coolwarm', center=0)\n",
    "plt.title('Features correlation')\n",
    "plt.show()"
   ]
  },
  {
   "cell_type": "markdown",
   "metadata": {},
   "source": [
    "# Classification on 5 different speakers"
   ]
  },
  {
   "cell_type": "markdown",
   "metadata": {},
   "source": [
    "'train_test_split_speakers' function - split data into train and test data for classification on 5 different speakers    \n",
    "one mouse is used for testing and the rest for training     \n",
    "classification is performad on all 5 speakers and pairs of 2 speakers"
   ]
  },
  {
   "cell_type": "code",
   "execution_count": 7,
   "metadata": {},
   "outputs": [],
   "source": [
    "def train_test_split_speakers(mouse_id, data_vectors):\n",
    "    train_data, train_labels, test_data, test_labels = [], [], [], []\n",
    "    for data in data_vectors:\n",
    "        if data[0]['label'] == 0:\n",
    "            if data[0]['mouse'] == mouse_id:\n",
    "                all_sp_data = data[1]\n",
    "                test_data.append(all_sp_data[:,1,:])\n",
    "                test_labels.append(0)\n",
    "                test_data.append(all_sp_data[:,4,:])\n",
    "                test_labels.append(1)\n",
    "            else:\n",
    "                all_sp_data = data[1]\n",
    "                train_data.append(all_sp_data[:,1,:])\n",
    "                train_labels.append(0)\n",
    "                train_data.append(all_sp_data[:,4,:])\n",
    "                train_labels.append(1)\n",
    "\n",
    "    # shuffle train data\n",
    "    c = list(zip(train_data, train_labels))\n",
    "    random.shuffle(c)\n",
    "    train_data, train_labels = zip(*c)\n",
    "\n",
    "    # shuffle test data\n",
    "    c = list(zip(test_data, test_labels))\n",
    "    random.shuffle(c)\n",
    "    test_data, test_labels = zip(*c)\n",
    "\n",
    "    return train_data, train_labels, test_data, test_labels"
   ]
  },
  {
   "cell_type": "code",
   "execution_count": 8,
   "metadata": {},
   "outputs": [],
   "source": [
    "trd, trl, tsd, tsl = train_test_split_speakers(1, load_all_data)"
   ]
  },
  {
   "cell_type": "code",
   "execution_count": 9,
   "metadata": {},
   "outputs": [
    {
     "name": "stdout",
     "output_type": "stream",
     "text": [
      "Train len: 4000 Test len: 800\n",
      "{0, 1} {0, 1}\n"
     ]
    }
   ],
   "source": [
    "print('Train len:',len(trd), 'Test len:', len(tsd))\n",
    "print(set(trl), set(tsl))"
   ]
  },
  {
   "cell_type": "markdown",
   "metadata": {},
   "source": [
    "'extract_features' function - power spectral density (PSD) of the data - max, min, std, kurosis, skewness, entropy, average spike rate, burstiness and pattern"
   ]
  },
  {
   "cell_type": "code",
   "execution_count": 112,
   "metadata": {},
   "outputs": [],
   "source": [
    "def extract_features(tr_data, ts_data, tr_labels, ts_labels):\n",
    "    power_tr_all, power_ts_all = [], []\n",
    "    del_list = []\n",
    " \n",
    "    for i in range(len(tr_data)):\n",
    "        power_tr = []\n",
    "        y = 0\n",
    "        \n",
    "        signal_neurons = tr_data[i].flatten()\n",
    "        if len(signal_neurons) == 0:\n",
    "            del_list.append(i)\n",
    "            y = 1\n",
    "            continue\n",
    "\n",
    "        # power spectrum\n",
    "        signal_power = np.abs(np.fft.fft(signal_neurons))**2\n",
    "        power_tr.append(np.max(signal_power))\n",
    "        power_tr.append(np.min(signal_power))\n",
    "        power_tr.append(np.std(signal_power))\n",
    "        # kurtosis\n",
    "        kurt = stats.kurtosis(signal_power)\n",
    "        if isnan(kurt) or isinf(kurt): kurt = 0\n",
    "        power_tr.append(kurt)\n",
    "        # skewness\n",
    "        skew = stats.skew(signal_power)\n",
    "        if isnan(skew) or isinf(skew): skew = 0\n",
    "        power_tr.append(skew)\n",
    "        # entropy\n",
    "        ent = stats.entropy(signal_power)\n",
    "        if isnan(ent) or isinf(ent): ent = 0\n",
    "        power_tr.append(ent)\n",
    "        # average spike rate\n",
    "        avg_spike_rate = np.mean(signal_power)\n",
    "        if isnan(avg_spike_rate) or isinf(avg_spike_rate): avg_spike_rate = 0\n",
    "        power_tr.append(avg_spike_rate)\n",
    "        # burstiness\n",
    "        burst = np.max(signal_power) / avg_spike_rate\n",
    "        if isnan(burst) or isinf(burst): burst = 0\n",
    "        power_tr.append(burst)\n",
    "        # pattern\n",
    "        pattern = np.max(signal_power) / np.mean(signal_power)\n",
    "        if isnan(pattern) or isinf(pattern): pattern = 0\n",
    "        power_tr.append(pattern)\n",
    "\n",
    "        if y == 0:\n",
    "            power_tr_all.append(power_tr)\n",
    "\n",
    "    tr_labels = np.delete(tr_labels, del_list)\n",
    "    del_list = []  \n",
    "\n",
    "    for i in range(len(ts_data)):\n",
    "        power_ts = []\n",
    "        y = 0\n",
    "        signal_neurons = ts_data[i].flatten()\n",
    "        if len(signal_neurons) == 0:\n",
    "            del_list.append(i)\n",
    "            y = 1\n",
    "            continue\n",
    "\n",
    "        # power spectrum\n",
    "        signal_power = np.abs(np.fft.fft(signal_neurons))**2\n",
    "        power_ts.append(np.max(signal_power))\n",
    "        power_ts.append(np.min(signal_power))\n",
    "        power_ts.append(np.std(signal_power))  \n",
    "        # kurtosis\n",
    "        kurt = stats.kurtosis(signal_power)\n",
    "        if isnan(kurt) or isinf(kurt): kurt = 0\n",
    "        power_ts.append(kurt)\n",
    "        # skewness\n",
    "        skew = stats.skew(signal_power)\n",
    "        if isnan(skew) or isinf(skew): skew = 0\n",
    "        power_ts.append(skew)\n",
    "        # entropy\n",
    "        ent = stats.entropy(signal_power)\n",
    "        if isnan(ent) or isinf(ent): ent = 0\n",
    "        power_ts.append(ent)\n",
    "        # average spike rate\n",
    "        avg_spike_rate = np.mean(signal_power)\n",
    "        if isnan(avg_spike_rate) or isinf(avg_spike_rate): avg_spike_rate = 0\n",
    "        power_ts.append(avg_spike_rate)\n",
    "        # burstiness\n",
    "        burst = np.max(signal_power) / avg_spike_rate\n",
    "        if isnan(burst) or isinf(burst): burst = 0\n",
    "        power_ts.append(burst)\n",
    "        # pattern\n",
    "        pattern = np.max(signal_power) / np.mean(signal_power)\n",
    "        if isnan(pattern) or isinf(pattern): pattern = 0\n",
    "        power_ts.append(pattern)\n",
    "\n",
    "        if y == 0:\n",
    "            power_ts_all.append(power_ts)\n",
    "\n",
    "    ts_labels = np.delete(ts_labels, del_list)\n",
    "\n",
    "    return power_tr_all, power_ts_all, tr_labels, ts_labels"
   ]
  },
  {
   "cell_type": "markdown",
   "metadata": {},
   "source": [
    "'extract_features_corr' function - calculates correlation between all neurons and finds:    \n",
    "- max correlation, min correlation, std of correlation, average correlation for each neuron     \n",
    "- it can return those lists concatedated or calculate statistical features from them (max, min, std, mean)"
   ]
  },
  {
   "cell_type": "code",
   "execution_count": 151,
   "metadata": {},
   "outputs": [],
   "source": [
    "def extract_features_corr(tr_data, ts_data, tr_labels, ts_labels):\n",
    "    power_tr_all, power_ts_all = [], []\n",
    "    del_list = []\n",
    " \n",
    "    for i in range(len(tr_data)):\n",
    "        power_tr = []\n",
    "        \n",
    "        # correlation between neurons in tr_data[i]\n",
    "        corr = np.corrcoef(tr_data[i])\n",
    "        # exclude all raw with all nans and columns with all nans from corr\n",
    "        corr = corr[~np.all(np.isnan(corr), axis=1)]\n",
    "        corr = corr[:, ~np.all(np.isnan(corr), axis=0)]\n",
    "\n",
    "        if len(corr.flatten()) == 0:\n",
    "            del_list.append(i)\n",
    "            continue\n",
    "\n",
    "        maxs, mins, stds, means = [], [], [], []\n",
    "        for neuron in corr:\n",
    "            maxs.append(np.max(neuron))\n",
    "            mins.append(np.min(neuron))\n",
    "            stds.append(np.std(neuron))\n",
    "            means.append(np.mean(neuron))\n",
    "        '''\n",
    "        power_tr.append(np.max(maxs))\n",
    "        power_tr.append(np.min(maxs))\n",
    "        power_tr.append(np.std(maxs))\n",
    "        power_tr.append(np.mean(maxs))\n",
    "        power_tr.append(np.max(mins))\n",
    "        power_tr.append(np.min(mins))\n",
    "        power_tr.append(np.std(mins))\n",
    "        power_tr.append(np.mean(mins))\n",
    "        power_tr.append(np.max(stds))\n",
    "        power_tr.append(np.min(stds))\n",
    "        power_tr.append(np.std(stds))\n",
    "        power_tr.append(np.mean(stds))\n",
    "        power_tr.append(np.max(means))\n",
    "        power_tr.append(np.min(means))\n",
    "        power_tr.append(np.std(means))\n",
    "        power_tr.append(np.mean(means))\n",
    "        '''\n",
    "        #concat maxs, mins, stds, means\n",
    "        power_tr = maxs + mins + stds + means\n",
    "\n",
    "        power_tr_all.append(power_tr)\n",
    "\n",
    "    tr_labels = np.delete(tr_labels, del_list)\n",
    "    del_list = []  \n",
    "\n",
    "    for i in range(len(ts_data)):\n",
    "        power_ts = []\n",
    "\n",
    "        # correlation between neurons in ts_data[i]\n",
    "        corr = np.corrcoef(ts_data[i], rowvar=False)\n",
    "        # exclude all raw with all nans and columns with all nans from corr\n",
    "        corr = corr[~np.all(np.isnan(corr), axis=1)]\n",
    "        corr = corr[:, ~np.all(np.isnan(corr), axis=0)]\n",
    "        \n",
    "        if len(corr.flatten()) == 0:\n",
    "            del_list.append(i)\n",
    "            continue\n",
    "        \n",
    "        maxs, mins, stds, means = [], [], [], []\n",
    "        for neuron in corr:\n",
    "            maxs.append(np.max(neuron)) \n",
    "            mins.append(np.min(neuron))\n",
    "            stds.append(np.std(neuron))\n",
    "            means.append(np.mean(neuron))\n",
    "\n",
    "        '''\n",
    "        power_ts.append(np.max(maxs))\n",
    "        power_ts.append(np.min(maxs))\n",
    "        power_ts.append(np.std(maxs))\n",
    "        power_ts.append(np.mean(maxs))\n",
    "        power_ts.append(np.max(mins))\n",
    "        power_ts.append(np.min(mins))\n",
    "        power_ts.append(np.std(mins))\n",
    "        power_ts.append(np.mean(mins))\n",
    "        power_ts.append(np.max(stds))\n",
    "        power_ts.append(np.min(stds))\n",
    "        power_ts.append(np.std(stds))\n",
    "        power_ts.append(np.mean(stds))\n",
    "        power_ts.append(np.max(means))\n",
    "        power_ts.append(np.min(means))\n",
    "        power_ts.append(np.std(means))\n",
    "        power_ts.append(np.mean(means))\n",
    "        '''\n",
    "\n",
    "        #concat maxs, mins, stds, means\n",
    "        power_ts = maxs + mins + stds + means\n",
    "        \n",
    "        power_ts_all.append(power_ts)\n",
    "\n",
    "    ts_labels = np.delete(ts_labels, del_list)\n",
    "\n",
    "    max_len_tr = max([len(i) for i in power_tr_all])\n",
    "    max_len_ts = max([len(i) for i in power_ts_all])\n",
    "    max_len = max(max_len_tr, max_len_ts)\n",
    "\n",
    "    # fill with zeros float64\n",
    "    for i in range(len(power_tr_all)):\n",
    "        power_tr_all[i] = np.append(power_tr_all[i], np.zeros(max_len - len(power_tr_all[i]))) \n",
    "    for i in range(len(power_ts_all)):\n",
    "        power_ts_all[i] = np.append(power_ts_all[i], np.zeros(max_len - len(power_ts_all[i])))\n",
    "\n",
    "    power_tr_all = [list(i) for i in power_tr_all]\n",
    "    power_ts_all = [list(i) for i in power_ts_all]\n",
    "\n",
    "    return power_tr_all, power_ts_all, tr_labels, ts_labels"
   ]
  },
  {
   "cell_type": "markdown",
   "metadata": {},
   "source": [
    "'process_data' function - uses only stimuli after the 10th one and fills empty information with '0's"
   ]
  },
  {
   "cell_type": "code",
   "execution_count": 10,
   "metadata": {},
   "outputs": [],
   "source": [
    "def process_data(tr_data, ts_data):\n",
    "\n",
    "    tr_data = [np.array(i) for i in tr_data]\n",
    "    ts_data = [np.array(i) for i in ts_data]\n",
    "    tr_data = np.array(tr_data)\n",
    "    ts_data = np.array(ts_data)\n",
    "    \n",
    "    for i in range(len(tr_data)):\n",
    "        tr_data[i] = tr_data[i][:,:].flatten()\n",
    "    for i in range(len(ts_data)):\n",
    "        ts_data[i] = ts_data[i][:,:].flatten()\n",
    "\n",
    "    max_len_tr = max([len(i) for i in tr_data])\n",
    "    max_len_ts = max([len(i) for i in ts_data])\n",
    "    max_len = max(max_len_tr, max_len_ts)\n",
    "\n",
    "    # fill with zeros float64\n",
    "    for i in range(len(tr_data)):\n",
    "        tr_data[i] = np.append(tr_data[i], np.zeros(max_len - len(tr_data[i])))\n",
    "    for i in range(len(ts_data)):\n",
    "        ts_data[i] = np.append(ts_data[i], np.zeros(max_len - len(ts_data[i])))\n",
    "\n",
    "    tr_data = [list(i) for i in tr_data]\n",
    "    ts_data = [list(i) for i in ts_data]\n",
    "\n",
    "    return tr_data, ts_data"
   ]
  },
  {
   "cell_type": "code",
   "execution_count": 18,
   "metadata": {},
   "outputs": [],
   "source": [
    "trd, trl, tsd, tsl = train_test_split_speakers(1, load_all_data)\n",
    "#train_data_proc, test_data_proc, trl, tsl = extract_features_corr(trd, tsd, trl, tsl)\n",
    "train_data_proc, test_data_proc = process_data(trd, tsd)"
   ]
  },
  {
   "cell_type": "code",
   "execution_count": 19,
   "metadata": {},
   "outputs": [
    {
     "name": "stdout",
     "output_type": "stream",
     "text": [
      "4000 800 4000 800\n"
     ]
    }
   ],
   "source": [
    "print(len(train_data_proc), len(test_data_proc), len(trl), len(tsl))"
   ]
  },
  {
   "cell_type": "code",
   "execution_count": 20,
   "metadata": {},
   "outputs": [
    {
     "data": {
      "text/plain": [
       "0.54125"
      ]
     },
     "execution_count": 20,
     "metadata": {},
     "output_type": "execute_result"
    }
   ],
   "source": [
    "rf = RandomForestClassifier(n_estimators=100)\n",
    "rf.fit(train_data_proc, trl)\n",
    "rf_pred = rf.predict(test_data_proc)\n",
    "accuracy_score(tsl, rf_pred)"
   ]
  },
  {
   "cell_type": "code",
   "execution_count": 21,
   "metadata": {},
   "outputs": [
    {
     "name": "stdout",
     "output_type": "stream",
     "text": [
      "[22:50:21] WARNING: C:/Users/Administrator/workspace/xgboost-win64_release_1.5.1/src/learner.cc:1115: Starting in XGBoost 1.3.0, the default evaluation metric used with the objective 'binary:logistic' was changed from 'error' to 'logloss'. Explicitly set eval_metric if you'd like to restore the old behavior.\n"
     ]
    },
    {
     "data": {
      "text/plain": [
       "0.55875"
      ]
     },
     "execution_count": 21,
     "metadata": {},
     "output_type": "execute_result"
    }
   ],
   "source": [
    "xgb = XGBClassifier()\n",
    "xgb.fit(train_data_proc, trl)\n",
    "xgb_pred = xgb.predict(test_data_proc)\n",
    "accuracy_score(tsl, xgb_pred)"
   ]
  },
  {
   "cell_type": "code",
   "execution_count": 15,
   "metadata": {},
   "outputs": [
    {
     "data": {
      "image/png": "[encoded data removed]",
      "text/plain": [
       "<Figure size 720x504 with 2 Axes>"
      ]
     },
     "metadata": {
      "needs_background": "light"
     },
     "output_type": "display_data"
    }
   ],
   "source": [
    "conf_mats = []\n",
    "conf_mats.append(confusion_matrix(tsl, rf_pred))\n",
    "plt.figure(figsize=(10, 7))\n",
    "sns.heatmap(conf_mats[0], annot=True, fmt='d', cmap='Blues')\n",
    "plt.xlabel('Predicted labels')\n",
    "plt.ylabel('True labels')\n",
    "plt.title('Confusion matrix')\n",
    "plt.show()"
   ]
  },
  {
   "cell_type": "markdown",
   "metadata": {},
   "source": [
    "# RespPeak classification"
   ]
  },
  {
   "cell_type": "code",
   "execution_count": 8,
   "metadata": {},
   "outputs": [],
   "source": [
    "path = \"C:/Users/Zephyrus/Marija/projekti/MINHEN/an_aw/data_resppeak\"\n",
    "load_all_data = load_data(path)"
   ]
  },
  {
   "cell_type": "code",
   "execution_count": 112,
   "metadata": {},
   "outputs": [
    {
     "name": "stdout",
     "output_type": "stream",
     "text": [
      "4800 2\n",
      "{'label': 1, 'mouse': 1, 'roi': 1, 'ses': 1, 'tr': 1}\n",
      "(92, 5)\n"
     ]
    }
   ],
   "source": [
    "print(len(load_all_data), len(load_all_data[0]))\n",
    "print(load_all_data[0][0])\n",
    "print(np.array(load_all_data[0][1]).shape)"
   ]
  },
  {
   "cell_type": "code",
   "execution_count": 113,
   "metadata": {},
   "outputs": [],
   "source": [
    "def train_test_speakers_resppeak(mouse_id, data_vectors):\n",
    "    train_data, train_labels, test_data, test_labels = [], [], [], []\n",
    "    for data in data_vectors:\n",
    "        # if data is awake state\n",
    "        if data[0]['label'] == 0:\n",
    "            # which mouse's gonna be in the test set\n",
    "            if data[0]['mouse'] == mouse_id:\n",
    "                all_sp_data = data[1]\n",
    "                test_data.append(all_sp_data[:,1])\n",
    "                test_labels.append(0)\n",
    "                test_data.append(all_sp_data[:,4])\n",
    "                test_labels.append(1)\n",
    "            else:\n",
    "                all_sp_data = data[1]\n",
    "                train_data.append(all_sp_data[:,1])\n",
    "                train_labels.append(0)\n",
    "                train_data.append(all_sp_data[:,4])\n",
    "                train_labels.append(1)\n",
    "\n",
    "    # shuffle train data\n",
    "    c = list(zip(train_data, train_labels))\n",
    "    random.shuffle(c)\n",
    "    train_data, train_labels = zip(*c)\n",
    "\n",
    "    # shuffle test data\n",
    "    c = list(zip(test_data, test_labels))\n",
    "    random.shuffle(c)\n",
    "    test_data, test_labels = zip(*c)\n",
    "\n",
    "    return train_data, train_labels, test_data, test_labels"
   ]
  },
  {
   "cell_type": "code",
   "execution_count": 114,
   "metadata": {},
   "outputs": [],
   "source": [
    "def process_data(tr_data, ts_data, tr_label, ts_label):\n",
    "    tr_data_ = [np.array(i) for i in tr_data]\n",
    "    ts_data_ = [np.array(i) for i in ts_data]\n",
    "    tr_data_ = np.array(tr_data_)\n",
    "    ts_data_ = np.array(ts_data_)    \n",
    "\n",
    "    for i in range(len(tr_data_)):\n",
    "        tr_data_[i] = tr_data_[i][:].flatten()\n",
    "    for i in range(len(ts_data)):\n",
    "        ts_data_[i] = ts_data_[i][:].flatten()\n",
    "\n",
    "    tr_data, ts_data = [], []\n",
    "    tr_l, ts_l = [], []\n",
    "    for j in range(len(tr_data_)):\n",
    "        if len(tr_data_[j]) == 0:\n",
    "            continue\n",
    "        tr_data.append(tr_data_[j])\n",
    "        tr_l.append(tr_label[j])\n",
    "    for j in range(len(ts_data_)):\n",
    "        if len(ts_data_[j]) == 0:\n",
    "            continue\n",
    "        ts_data.append(ts_data_[j])\n",
    "        ts_l.append(ts_label[j])\n",
    "    \n",
    "    # normalize data\n",
    "    for j in range(len(tr_data)):\n",
    "        if np.max(tr_data[j]) - np.min(tr_data[j]) == 0:\n",
    "            continue\n",
    "        tr_data[j] = (tr_data[j] - np.min(tr_data[j])) / (np.max(tr_data[j]) - np.min(tr_data[j]))\n",
    "\n",
    "    for j in range(len(ts_data)):\n",
    "        if np.max(ts_data[j]) - np.min(ts_data[j]) == 0:\n",
    "            continue\n",
    "        ts_data[j] = (ts_data[j] - np.min(ts_data[j])) / (np.max(ts_data[j]) - np.min(ts_data[j]))\n",
    "\n",
    "    max_len_tr = max([len(i) for i in tr_data])\n",
    "    max_len_ts = max([len(i) for i in ts_data])\n",
    "    max_len = max(max_len_tr, max_len_ts)\n",
    "\n",
    "    # fill with zeros float64\n",
    "    for i in range(len(tr_data)):\n",
    "        tr_data[i] = np.append(tr_data[i], np.zeros(max_len - len(tr_data[i])))\n",
    "    for i in range(len(ts_data)):\n",
    "        ts_data[i] = np.append(ts_data[i], np.zeros(max_len - len(ts_data[i])))\n",
    "\n",
    "    tr_data = [list(i) for i in tr_data]\n",
    "    ts_data = [list(i) for i in ts_data]\n",
    "\n",
    "    return tr_data, ts_data, tr_l, ts_l"
   ]
  },
  {
   "cell_type": "code",
   "execution_count": 300,
   "metadata": {},
   "outputs": [],
   "source": [
    "def extract_features(tr_data, ts_data, tr_label, ts_label):\n",
    "\n",
    "    tr_data_ = [np.array(i) for i in tr_data]\n",
    "    ts_data_ = [np.array(i) for i in ts_data]\n",
    "    tr_data_ = np.array(tr_data_)\n",
    "    ts_data_ = np.array(ts_data_)    \n",
    "\n",
    "    for i in range(len(tr_data_)):\n",
    "        tr_data_[i] = tr_data_[i][:].flatten()\n",
    "    for i in range(len(ts_data)):\n",
    "        ts_data_[i] = ts_data_[i][:].flatten()\n",
    "\n",
    "    tr_data, ts_data = [], []\n",
    "    tr_l, ts_l = [], []\n",
    "    for j in range(len(tr_data_)):\n",
    "        if len(tr_data_[j]) == 0:\n",
    "            continue\n",
    "        tr_data.append(tr_data_[j])\n",
    "        tr_l.append(tr_label[j])\n",
    "    for j in range(len(ts_data_)):\n",
    "        if len(ts_data_[j]) == 0:\n",
    "            continue\n",
    "        ts_data.append(ts_data_[j])\n",
    "        ts_l.append(ts_label[j])\n",
    "    \n",
    "    # normalize data\n",
    "    for j in range(len(tr_data)):\n",
    "        if np.max(tr_data[j]) - np.min(tr_data[j]) == 0:\n",
    "            continue\n",
    "        tr_data[j] = (tr_data[j] - np.min(tr_data[j])) / (np.max(tr_data[j]) - np.min(tr_data[j]))\n",
    "\n",
    "    for j in range(len(ts_data)):\n",
    "        if np.max(ts_data[j]) - np.min(ts_data[j]) == 0:\n",
    "            continue\n",
    "        ts_data[j] = (ts_data[j] - np.min(ts_data[j])) / (np.max(ts_data[j]) - np.min(ts_data[j]))\n",
    "\n",
    "    corr_tr = []\n",
    "    for i in range(len(tr_data)):\n",
    "        corr = np.correlate(tr_data[i], tr_data[i], mode='full')\n",
    "        iqr1 = np.percentile(tr_data[i], 75) - np.percentile(tr_data[i], 25)\n",
    "        iqr2 = np.percentile(corr, 75) - np.percentile(corr, 25)\n",
    "        corr_tr.append([np.max(tr_data[i]), np.min(tr_data[i]), np.std(tr_data[i]), np.mean(tr_data[i]),\\\n",
    "             np.var(tr_data[i]), abs(np.max(tr_data[i])-np.min(tr_data[i])), iqr1, np.max(corr), np.min(corr),\\\n",
    "                 np.std(corr), np.mean(corr), np.var(corr), abs(np.max(corr)-np.min(corr)), iqr2])\n",
    "        corr_tr[-1] = [corr_tr[-1][11], corr_tr[-1][7], corr_tr[-1][12], corr_tr[-1][13], corr_tr[-1][10], corr_tr[-1][9], corr_tr[-1][5], corr_tr[-1][0]]\n",
    "\n",
    "        \n",
    "    corr_ts = []\n",
    "    for i in range(len(ts_data)):\n",
    "        corr = np.correlate(ts_data[i], ts_data[i], mode='full')\n",
    "        iqr1 = np.percentile(ts_data[i], 75) - np.percentile(ts_data[i], 25)\n",
    "        iqr2 = np.percentile(corr, 75) - np.percentile(corr, 25)\n",
    "        corr_ts.append([np.max(ts_data[i]), np.min(ts_data[i]), np.std(ts_data[i]), np.mean(ts_data[i]),\\\n",
    "             np.var(ts_data[i]), abs(np.max(ts_data[i])-np.min(ts_data[i])), iqr1, np.max(corr), np.min(corr),\\\n",
    "                 np.std(corr), np.mean(corr), np.var(corr), abs(np.max(corr)-np.min(corr)), iqr2])\n",
    "        corr_ts[-1] = [corr_ts[-1][11], corr_ts[-1][7], corr_ts[-1][12], corr_ts[-1][13], corr_ts[-1][10], corr_ts[-1][9], corr_ts[-1][5], corr_ts[-1][0]]\n",
    "        \n",
    "    '''\n",
    "    pca = PCA(n_components=2)\n",
    "    pca.fit(corr_tr)\n",
    "    corr_tr = pca.transform(corr_tr)\n",
    "    corr_ts = pca.transform(corr_ts)\n",
    "    '''\n",
    "    \n",
    "    tr_data = [list(i) for i in corr_tr]\n",
    "    ts_data = [list(i) for i in corr_ts]\n",
    "\n",
    "    return tr_data, ts_data, tr_l, ts_l"
   ]
  },
  {
   "cell_type": "code",
   "execution_count": 301,
   "metadata": {},
   "outputs": [
    {
     "name": "stdout",
     "output_type": "stream",
     "text": [
      "3994 798 3994 798\n"
     ]
    }
   ],
   "source": [
    "tr, trl, ts, tsl = train_test_speakers_resppeak(1, load_all_data)\n",
    "train_data_proc, test_data_proc, train_label_proc, test_label_proc = process_data(tr, ts, trl, tsl)\n",
    "#train_data_proc, test_data_proc, train_label_proc, test_label_proc = extract_features(tr, ts, trl, tsl)\n",
    "print(len(train_data_proc), len(test_data_proc), len(train_label_proc), len(test_label_proc))"
   ]
  },
  {
   "cell_type": "code",
   "execution_count": 307,
   "metadata": {},
   "outputs": [],
   "source": [
    "accuracies = []\n",
    "for k in range(1):\n",
    "    tr, trl, ts, tsl = train_test_speakers_resppeak(1, load_all_data)\n",
    "    train_data_proc, test_data_proc, train_label_proc, test_label_proc = extract_features(tr, ts, trl, tsl)\n",
    "    \n",
    "    gnb = GaussianNB()\n",
    "    gnb.fit(train_data_proc, train_label_proc)\n",
    "    gnb_pred = gnb.predict(test_data_proc)\n",
    "    accuracies.append(accuracy_score(test_label_proc, gnb_pred))"
   ]
  },
  {
   "cell_type": "code",
   "execution_count": 308,
   "metadata": {},
   "outputs": [
    {
     "name": "stdout",
     "output_type": "stream",
     "text": [
      "[0.7117794486215538]\n",
      "0.712 0.0\n"
     ]
    }
   ],
   "source": [
    "print(accuracies)\n",
    "print(np.round(np.mean(accuracies), 3), np.round(np.std(accuracies), 3))"
   ]
  },
  {
   "cell_type": "code",
   "execution_count": 309,
   "metadata": {},
   "outputs": [
    {
     "data": {
      "image/png": "[encoded data removed]",
      "text/plain": [
       "<Figure size 720x504 with 2 Axes>"
      ]
     },
     "metadata": {
      "needs_background": "light"
     },
     "output_type": "display_data"
    }
   ],
   "source": [
    "conf_mats = []\n",
    "conf_mats.append(confusion_matrix(test_label_proc, gnb_pred))\n",
    "plt.figure(figsize=(10, 7))\n",
    "sns.heatmap(conf_mats[0], annot=True, fmt='d', cmap='Blues')\n",
    "plt.xlabel('Predicted labels')\n",
    "plt.ylabel('True labels')\n",
    "plt.title('Confusion matrix')\n",
    "plt.show()"
   ]
  },
  {
   "cell_type": "code",
   "execution_count": 310,
   "metadata": {},
   "outputs": [
    {
     "data": {
      "text/plain": [
       "(array([[19.19934831, 13.09762508, 12.97474847,  5.71714028,  5.63377712,\n",
       "          3.30336096,  0.9098648 ,  0.9098648 ],\n",
       "        [21.12290561, 14.19278771, 14.05998018,  6.25229003,  6.14180673,\n",
       "          3.60323162,  0.9354031 ,  0.9354031 ]]),\n",
       " array([0, 1, 2, 3, 4, 5, 7, 6], dtype=int64))"
      ]
     },
     "execution_count": 310,
     "metadata": {},
     "output_type": "execute_result"
    }
   ],
   "source": [
    "#feature importance\n",
    "importances = gnb.theta_\n",
    "indices = np.argsort(importances)[0][::-1]\n",
    "\n",
    "importances, indices"
   ]
  },
  {
   "cell_type": "code",
   "execution_count": 311,
   "metadata": {},
   "outputs": [
    {
     "data": {
      "image/png": "[encoded data removed]",
      "text/plain": [
       "<Figure size 720x504 with 1 Axes>"
      ]
     },
     "metadata": {
      "needs_background": "light"
     },
     "output_type": "display_data"
    }
   ],
   "source": [
    "# gnb separation line\n",
    "plt.figure(figsize=(10, 7))\n",
    "sns.scatterplot(x=np.array(train_data_proc)[:,0], y=np.array(train_data_proc)[:,1], hue=train_label_proc)\n",
    "plt.xlabel('Feature 1')\n",
    "plt.ylabel('Feature 2')\n",
    "plt.title('GaussianNB separation line')\n",
    "plt.show()"
   ]
  }
 ],
 "metadata": {
  "kernelspec": {
   "display_name": "Python 3.10.5 64-bit",
   "language": "python",
   "name": "python3"
  },
  "language_info": {
   "codemirror_mode": {
    "name": "ipython",
    "version": 3
   },
   "file_extension": ".py",
   "mimetype": "text/x-python",
   "name": "python",
   "nbconvert_exporter": "python",
   "pygments_lexer": "ipython3",
   "version": "3.8.8"
  },
  "orig_nbformat": 4,
  "vscode": {
   "interpreter": {
    "hash": "c3ff55a2362d840d3433b3a68631efa6e477163e310b6a9fd17f9078908dbfa1"
   }
  }
 },
 "nbformat": 4,
 "nbformat_minor": 2
}
