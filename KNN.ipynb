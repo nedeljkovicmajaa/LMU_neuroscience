{
 "cells": [
  {
   "cell_type": "markdown",
   "metadata": {},
   "source": [
    "#### Import required packages"
   ]
  },
  {
   "cell_type": "code",
   "execution_count": 1,
   "metadata": {},
   "outputs": [],
   "source": [
    "# numeric and plotting libraries\n",
    "import time\n",
    "import os\n",
    "import shutil\n",
    "import math\n",
    "from collections import defaultdict\n",
    "import matplotlib.pyplot as plt\n",
    "import numpy as np\n",
    "import csv\n",
    "import random\n",
    "from PIL import Image\n",
    "import csv\n",
    "import operator \n",
    "import pandas as pd \n",
    "# to create confusion metrics\n",
    "import seaborn as sns\n",
    "import scipy.io as sio\n",
    "from cmath import nan"
   ]
  },
  {
   "cell_type": "code",
   "execution_count": 2,
   "metadata": {},
   "outputs": [],
   "source": [
    "%matplotlib inline"
   ]
  },
  {
   "cell_type": "code",
   "execution_count": 3,
   "metadata": {},
   "outputs": [],
   "source": [
    "from sklearn.metrics import accuracy_score,confusion_matrix # metrics error\n",
    "from mlxtend.plotting import plot_decision_regions\n",
    "from sklearn.multiclass import OneVsRestClassifier\n",
    "from sklearn.neighbors import KNeighborsClassifier\n",
    "from sklearn.ensemble import RandomForestClassifier"
   ]
  },
  {
   "cell_type": "markdown",
   "metadata": {},
   "source": [
    "#### Functions for arranging data"
   ]
  },
  {
   "cell_type": "code",
   "execution_count": 4,
   "metadata": {},
   "outputs": [],
   "source": [
    "def load_data():\n",
    "    mat_load = sio.loadmat('C:/Users/m.nedeljkovic/Desktop/data/allTraces.mat')['allTraces']\n",
    "    roi_load = sio.loadmat('C:/Users/m.nedeljkovic/Desktop/data/allROIPositions.mat')['allROIPositions']\n",
    "    ind_load = sio.loadmat('C:/Users/m.nedeljkovic/Desktop/data/blFinalHit.mat')['blFinalHit']\n",
    "    list1 = sio.loadmat('C:/Users/m.nedeljkovic/Desktop/data/indicesSession1.mat')['indSess1']\n",
    "    list2 = sio.loadmat('C:/Users/m.nedeljkovic/Desktop/data/List2.mat')['List2']\n",
    "    list3 = sio.loadmat('C:/Users/m.nedeljkovic/Desktop/data/List3.mat')['List3']\n",
    "    list4 = sio.loadmat('C:/Users/m.nedeljkovic/Desktop/data/List4.mat')['List4']\n",
    "    return mat_load, roi_load, ind_load, list1, list2, list3, list4"
   ]
  },
  {
   "cell_type": "code",
   "execution_count": 5,
   "metadata": {},
   "outputs": [],
   "source": [
    "#lenghts of each trial\n",
    "def data_per_trial(tr, mat_load, roi_load, ind_load, list1, list2, list3, list4):\n",
    "    index = [0, 118, 88, 100, 98, 109, 78, 121, 76, 113, 97, 112, 118]\n",
    "\n",
    "    for trial in range(1,len(index)):\n",
    "        \n",
    "        index[trial] = index[trial] + index[trial-1]\n",
    "        dat_tr = mat_load[index[trial-1] : index[trial]+1, :, :, 0, :, :, :]\n",
    "        ind_tr = ind_load[index[trial-1] : index[trial]+1, :, :, 0, :, :]\n",
    "\n",
    "        #choose state\n",
    "        dat_stan = dat_tr[:, 0, :, :, :, :]\n",
    "        dat_staw = dat_tr[:, 1, :, :, :, :]\n",
    "        ind_stan = ind_tr[:, 0, :, :, :]\n",
    "        ind_staw = ind_tr[:, 1, :, :, :]\n",
    "\n",
    "        br = 1\n",
    "\n",
    "        if(trial == tr):\n",
    "        \n",
    "            for sesion in range(4):\n",
    "\n",
    "                #choose session\n",
    "                dat_sean = dat_stan[:, sesion, :, :, :]\n",
    "                dat_seaw = dat_staw[:, sesion, :, :, :]\n",
    "                ind_sean = ind_stan[:, sesion, :, :]\n",
    "                ind_seaw = ind_staw[:, sesion, :, :]\n",
    "\n",
    "                for sample in range(50):\n",
    "\n",
    "                    dat_sean_df = dat_sean[:, :, sample, :]\n",
    "                    dat_seaw_df = dat_seaw[:, :, sample, :]\n",
    "                    ind_sean_df = ind_sean[:, :, sample]\n",
    "                    ind_seaw_df = ind_seaw[:, :, sample]\n",
    "                    ind_sean_df = ind_sean_df.astype('float')\n",
    "                    ind_seaw_df = ind_seaw_df.astype('float')\n",
    "                    ind_sean_df[ind_sean_df == 0] = 'nan' \n",
    "                    ind_seaw_df[ind_seaw_df == 0] = 'nan' \n",
    "\n",
    "                    for time in range(31):\n",
    "                        dat_sean_df[:,:,time] = np.multiply(dat_sean_df[:,:,time],ind_sean_df)\n",
    "                        dat_seaw_df[:,:,time] = np.multiply(dat_seaw_df[:,:,time],ind_seaw_df)\n",
    "\n",
    "                    dat_sean_df = dat_sean_df.reshape(dat_sean_df.shape[0],155)\n",
    "                    dat_seaw_df = dat_seaw_df.reshape(dat_seaw_df.shape[0],155)\n",
    "\n",
    "                    file1 = \"C:/Users/m.nedeljkovic/Desktop/cnn data/data/an\" + str(br) + \".npy\"\n",
    "                    file2 = \"C:/Users/m.nedeljkovic/Desktop/cnn data/data/aw\" + str(br) + \".npy\"\n",
    "\n",
    "                    np.save(file1, dat_sean_df)\n",
    "                    np.save(file2, dat_seaw_df)\n",
    "                    br = br + 1"
   ]
  },
  {
   "cell_type": "code",
   "execution_count": 6,
   "metadata": {},
   "outputs": [],
   "source": [
    "#lenghts of each trial\n",
    "def data_per_session(tr, ses, mat_load, roi_load, ind_load, list1, list2, list3, list4):\n",
    "    index = [0, 118, 88, 100, 98, 109, 78, 121, 76, 113, 97, 112, 118]\n",
    "\n",
    "    for trial in range(1,len(index)):\n",
    "        \n",
    "        index[trial] = index[trial] + index[trial-1]\n",
    "        dat_tr = mat_load[index[trial-1] : index[trial]+1, :, :, 0, :, :, :]\n",
    "        ind_tr = ind_load[index[trial-1] : index[trial]+1, :, :, 0, :, :]\n",
    "\n",
    "        #choose state\n",
    "        dat_stan = dat_tr[:, 0, :, :, :, :]\n",
    "        dat_staw = dat_tr[:, 1, :, :, :, :]\n",
    "        ind_stan = ind_tr[:, 0, :, :, :]\n",
    "        ind_staw = ind_tr[:, 1, :, :, :]\n",
    "\n",
    "        br = 1\n",
    "\n",
    "        if(trial == tr):\n",
    "        \n",
    "            for sesion in range(4):\n",
    "\n",
    "                if(sesion == ses):\n",
    "\n",
    "                    #choose session\n",
    "                    dat_sean = dat_stan[:, sesion, :, :, :]\n",
    "                    dat_seaw = dat_staw[:, sesion, :, :, :]\n",
    "                    ind_sean = ind_stan[:, sesion, :, :]\n",
    "                    ind_seaw = ind_staw[:, sesion, :, :]\n",
    "\n",
    "                    for sample in range(50):\n",
    "\n",
    "                        dat_sean_df = dat_sean[:, :, sample, :]\n",
    "                        dat_seaw_df = dat_seaw[:, :, sample, :]\n",
    "                        ind_sean_df = ind_sean[:, :, sample]\n",
    "                        ind_seaw_df = ind_seaw[:, :, sample]\n",
    "                        ind_sean_df = ind_sean_df.astype('float')\n",
    "                        ind_seaw_df = ind_seaw_df.astype('float')\n",
    "                        ind_sean_df[ind_sean_df == 0] = 'nan' \n",
    "                        ind_seaw_df[ind_seaw_df == 0] = 'nan' \n",
    "\n",
    "                        for time in range(31):\n",
    "                            dat_sean_df[:,:,time] = np.multiply(dat_sean_df[:,:,time],ind_sean_df)\n",
    "                            dat_seaw_df[:,:,time] = np.multiply(dat_seaw_df[:,:,time],ind_seaw_df)\n",
    "\n",
    "                        dat_sean_df = dat_sean_df.reshape(dat_sean_df.shape[0],155)\n",
    "                        dat_seaw_df = dat_seaw_df.reshape(dat_seaw_df.shape[0],155)\n",
    "\n",
    "                        file1 = \"C:/Users/m.nedeljkovic/Desktop/cnn data/data/an\" + str(br) + \".npy\"\n",
    "                        file2 = \"C:/Users/m.nedeljkovic/Desktop/cnn data/data/aw\" + str(br) + \".npy\"\n",
    "\n",
    "                        np.save(file1, dat_sean_df)\n",
    "                        np.save(file2, dat_seaw_df)\n",
    "                        br = br + 1"
   ]
  },
  {
   "cell_type": "markdown",
   "metadata": {},
   "source": [
    "#### Data preparation"
   ]
  },
  {
   "cell_type": "code",
   "execution_count": 7,
   "metadata": {},
   "outputs": [],
   "source": [
    "def ucitavanje_podataka(directory):\n",
    "    id = 0\n",
    "    data = []\n",
    "    for filename in os.listdir(directory):\n",
    "        f = os.path.join(directory, filename)\n",
    "        label = f.split(\"\\\\\")[-1][0:2]\n",
    "        id = id + 1\n",
    "        dat = np.load(f)\n",
    "        data.append([id, dat, label])\n",
    "    \n",
    "    #random.seed(2)\n",
    "    random.shuffle(data)\n",
    "    return data      "
   ]
  },
  {
   "cell_type": "code",
   "execution_count": 8,
   "metadata": {},
   "outputs": [],
   "source": [
    "def vektorizacija(podaci):\n",
    "    prevodjenje_labela = {\"an\": [1], \"aw\": [0]}  # TRUE:Mirtrons  FALSE:canonical microRN\n",
    "\n",
    "    vektorizovani_podaci = []\n",
    "    for a in podaci:\n",
    "        vektorizovani_podaci.append([a[0], a[1], prevodjenje_labela[a[2]]])\n",
    "\n",
    "    return vektorizovani_podaci"
   ]
  },
  {
   "cell_type": "code",
   "execution_count": 9,
   "metadata": {},
   "outputs": [],
   "source": [
    "def podela_podataka(data_vectors):\n",
    "    X_train, y_train, X_test, y_test = [],[],[],[]\n",
    "    i,j = 0,0\n",
    "\n",
    "    random.shuffle(data_vectors)\n",
    "    for item in data_vectors:\n",
    "        if item[2]==[1]:\n",
    "            i = i + 1\n",
    "            if i <= 50:\n",
    "                X_test.append(item[1])\n",
    "                y_test.append(item[2])\n",
    "                #y_test.append(random.choice([[0], [1]]))\n",
    "            else:\n",
    "                X_train.append(item[1])\n",
    "                y_train.append(item[2])\n",
    "        else:\n",
    "            j = j + 1\n",
    "            if  j <= 50:\n",
    "                X_test.append(item[1])\n",
    "                y_test.append(item[2])\n",
    "                #y_test.append(random.choice([[0], [1]]))\n",
    "            else:\n",
    "                X_train.append(item[1])\n",
    "                y_train.append(item[2])\n",
    "\n",
    "    X_train = np.array(X_train)\n",
    "    y_train = np.array(y_train)\n",
    "    X_test = np.array(X_test)\n",
    "    y_test = np.array(y_test)\n",
    "    \n",
    "    return X_train, y_train, X_test, y_test"
   ]
  },
  {
   "cell_type": "code",
   "execution_count": 19,
   "metadata": {},
   "outputs": [],
   "source": [
    "def podela_podataka_tren(data_vectors):\n",
    "    X_train, y_train = [],[]\n",
    "\n",
    "    random.shuffle(data_vectors)\n",
    "\n",
    "    for item in data_vectors:\n",
    "        X_train.append(item[1])\n",
    "        y_train.append(item[2])\n",
    "        #y_train.append(random.choice([[0], [1]]))\n",
    "    \n",
    "    X_train = np.array(X_train)\n",
    "    y_train = np.array(y_train)\n",
    "    \n",
    "    return X_train, y_train"
   ]
  },
  {
   "cell_type": "markdown",
   "metadata": {},
   "source": [
    "#### Test/Train"
   ]
  },
  {
   "cell_type": "code",
   "execution_count": 16,
   "metadata": {},
   "outputs": [],
   "source": [
    "putanja = \"C:/Users/m.nedeljkovic/Desktop/cnn data/data\"\n",
    "#niz od podataka za svaku sekvencu (podatak je niz od id-ja, sekvence i labele)\n",
    "podaci = ucitavanje_podataka(putanja)\n",
    " \n",
    "vektorizovani_podaci = vektorizacija(podaci)\n",
    "X_train, y_train, X_test, y_test = podela_podataka(vektorizovani_podaci)\n",
    "X_train = np.array(X_train)\n",
    "y_train = np.array(y_train)\n",
    "X_test = np.array(X_test)\n",
    "y_test = np.array(y_test)"
   ]
  },
  {
   "cell_type": "code",
   "execution_count": 17,
   "metadata": {},
   "outputs": [],
   "source": [
    "X_tr = []\n",
    "for i in X_train:\n",
    "    temp = []\n",
    "    for j in i:\n",
    "        for k in j:\n",
    "            temp.append(k)\n",
    "    X_tr.append(temp)\n",
    "X_ts = []\n",
    "for i in X_test:\n",
    "    temp = []\n",
    "    for j in i:\n",
    "        for k in j:\n",
    "            temp.append(k)\n",
    "    X_ts.append(temp) \n",
    "X_train = np.nan_to_num(X_tr)\n",
    "X_test = np.nan_to_num(X_ts)"
   ]
  },
  {
   "cell_type": "markdown",
   "metadata": {},
   "source": [
    "### KNN"
   ]
  },
  {
   "cell_type": "code",
   "execution_count": 656,
   "metadata": {},
   "outputs": [
    {
     "data": {
      "text/html": [
       "<style>#sk-container-id-44 {color: black;background-color: white;}#sk-container-id-44 pre{padding: 0;}#sk-container-id-44 div.sk-toggleable {background-color: white;}#sk-container-id-44 label.sk-toggleable__label {cursor: pointer;display: block;width: 100%;margin-bottom: 0;padding: 0.3em;box-sizing: border-box;text-align: center;}#sk-container-id-44 label.sk-toggleable__label-arrow:before {content: \"▸\";float: left;margin-right: 0.25em;color: #696969;}#sk-container-id-44 label.sk-toggleable__label-arrow:hover:before {color: black;}#sk-container-id-44 div.sk-estimator:hover label.sk-toggleable__label-arrow:before {color: black;}#sk-container-id-44 div.sk-toggleable__content {max-height: 0;max-width: 0;overflow: hidden;text-align: left;background-color: #f0f8ff;}#sk-container-id-44 div.sk-toggleable__content pre {margin: 0.2em;color: black;border-radius: 0.25em;background-color: #f0f8ff;}#sk-container-id-44 input.sk-toggleable__control:checked~div.sk-toggleable__content {max-height: 200px;max-width: 100%;overflow: auto;}#sk-container-id-44 input.sk-toggleable__control:checked~label.sk-toggleable__label-arrow:before {content: \"▾\";}#sk-container-id-44 div.sk-estimator input.sk-toggleable__control:checked~label.sk-toggleable__label {background-color: #d4ebff;}#sk-container-id-44 div.sk-label input.sk-toggleable__control:checked~label.sk-toggleable__label {background-color: #d4ebff;}#sk-container-id-44 input.sk-hidden--visually {border: 0;clip: rect(1px 1px 1px 1px);clip: rect(1px, 1px, 1px, 1px);height: 1px;margin: -1px;overflow: hidden;padding: 0;position: absolute;width: 1px;}#sk-container-id-44 div.sk-estimator {font-family: monospace;background-color: #f0f8ff;border: 1px dotted black;border-radius: 0.25em;box-sizing: border-box;margin-bottom: 0.5em;}#sk-container-id-44 div.sk-estimator:hover {background-color: #d4ebff;}#sk-container-id-44 div.sk-parallel-item::after {content: \"\";width: 100%;border-bottom: 1px solid gray;flex-grow: 1;}#sk-container-id-44 div.sk-label:hover label.sk-toggleable__label {background-color: #d4ebff;}#sk-container-id-44 div.sk-serial::before {content: \"\";position: absolute;border-left: 1px solid gray;box-sizing: border-box;top: 0;bottom: 0;left: 50%;z-index: 0;}#sk-container-id-44 div.sk-serial {display: flex;flex-direction: column;align-items: center;background-color: white;padding-right: 0.2em;padding-left: 0.2em;position: relative;}#sk-container-id-44 div.sk-item {position: relative;z-index: 1;}#sk-container-id-44 div.sk-parallel {display: flex;align-items: stretch;justify-content: center;background-color: white;position: relative;}#sk-container-id-44 div.sk-item::before, #sk-container-id-44 div.sk-parallel-item::before {content: \"\";position: absolute;border-left: 1px solid gray;box-sizing: border-box;top: 0;bottom: 0;left: 50%;z-index: -1;}#sk-container-id-44 div.sk-parallel-item {display: flex;flex-direction: column;z-index: 1;position: relative;background-color: white;}#sk-container-id-44 div.sk-parallel-item:first-child::after {align-self: flex-end;width: 50%;}#sk-container-id-44 div.sk-parallel-item:last-child::after {align-self: flex-start;width: 50%;}#sk-container-id-44 div.sk-parallel-item:only-child::after {width: 0;}#sk-container-id-44 div.sk-dashed-wrapped {border: 1px dashed gray;margin: 0 0.4em 0.5em 0.4em;box-sizing: border-box;padding-bottom: 0.4em;background-color: white;}#sk-container-id-44 div.sk-label label {font-family: monospace;font-weight: bold;display: inline-block;line-height: 1.2em;}#sk-container-id-44 div.sk-label-container {text-align: center;}#sk-container-id-44 div.sk-container {/* jupyter's `normalize.less` sets `[hidden] { display: none; }` but bootstrap.min.css set `[hidden] { display: none !important; }` so we also need the `!important` here to be able to override the default hidden behavior on the sphinx rendered scikit-learn.org. See: https://github.com/scikit-learn/scikit-learn/issues/21755 */display: inline-block !important;position: relative;}#sk-container-id-44 div.sk-text-repr-fallback {display: none;}</style><div id=\"sk-container-id-44\" class=\"sk-top-container\"><div class=\"sk-text-repr-fallback\"><pre>OneVsRestClassifier(estimator=KNeighborsClassifier())</pre><b>In a Jupyter environment, please rerun this cell to show the HTML representation or trust the notebook. <br />On GitHub, the HTML representation is unable to render, please try loading this page with nbviewer.org.</b></div><div class=\"sk-container\" hidden><div class=\"sk-item sk-dashed-wrapped\"><div class=\"sk-label-container\"><div class=\"sk-label sk-toggleable\"><input class=\"sk-toggleable__control sk-hidden--visually\" id=\"sk-estimator-id-130\" type=\"checkbox\" ><label for=\"sk-estimator-id-130\" class=\"sk-toggleable__label sk-toggleable__label-arrow\">OneVsRestClassifier</label><div class=\"sk-toggleable__content\"><pre>OneVsRestClassifier(estimator=KNeighborsClassifier())</pre></div></div></div><div class=\"sk-parallel\"><div class=\"sk-parallel-item\"><div class=\"sk-item\"><div class=\"sk-label-container\"><div class=\"sk-label sk-toggleable\"><input class=\"sk-toggleable__control sk-hidden--visually\" id=\"sk-estimator-id-131\" type=\"checkbox\" ><label for=\"sk-estimator-id-131\" class=\"sk-toggleable__label sk-toggleable__label-arrow\">estimator: KNeighborsClassifier</label><div class=\"sk-toggleable__content\"><pre>KNeighborsClassifier()</pre></div></div></div><div class=\"sk-serial\"><div class=\"sk-item\"><div class=\"sk-estimator sk-toggleable\"><input class=\"sk-toggleable__control sk-hidden--visually\" id=\"sk-estimator-id-132\" type=\"checkbox\" ><label for=\"sk-estimator-id-132\" class=\"sk-toggleable__label sk-toggleable__label-arrow\">KNeighborsClassifier</label><div class=\"sk-toggleable__content\"><pre>KNeighborsClassifier()</pre></div></div></div></div></div></div></div></div></div></div>"
      ],
      "text/plain": [
       "OneVsRestClassifier(estimator=KNeighborsClassifier())"
      ]
     },
     "execution_count": 656,
     "metadata": {},
     "output_type": "execute_result"
    }
   ],
   "source": [
    "knn = OneVsRestClassifier(KNeighborsClassifier())\n",
    "knn.fit(X_train,y_train)"
   ]
  },
  {
   "cell_type": "code",
   "execution_count": 657,
   "metadata": {},
   "outputs": [],
   "source": [
    "predictions = knn.predict(X_test)"
   ]
  },
  {
   "cell_type": "code",
   "execution_count": 658,
   "metadata": {},
   "outputs": [
    {
     "name": "stdout",
     "output_type": "stream",
     "text": [
      "KNN Accuracy: 0.900\n"
     ]
    }
   ],
   "source": [
    "print('KNN Accuracy: %.3f' % accuracy_score(y_test,predictions))"
   ]
  },
  {
   "cell_type": "code",
   "execution_count": 659,
   "metadata": {},
   "outputs": [
    {
     "data": {
      "text/plain": [
       "Text(0.5, 1.0, 'Accuracy Score: 0.9')"
      ]
     },
     "execution_count": 659,
     "metadata": {},
     "output_type": "execute_result"
    },
    {
     "data": {
      "image/png": "[encoded data removed]",
      "text/plain": [
       "<Figure size 648x648 with 2 Axes>"
      ]
     },
     "metadata": {
      "needs_background": "light"
     },
     "output_type": "display_data"
    }
   ],
   "source": [
    "cm = confusion_matrix(y_test,predictions)\n",
    "plt.figure(figsize=(9,9))\n",
    "sns.heatmap(cm,annot=True, fmt='.3f', linewidths=.5, square=True,cmap='Blues_r')\n",
    "plt.ylabel('Actual label')\n",
    "plt.xlabel('Predicted label')\n",
    "all_sample_title = 'Accuracy Score: {0}'.format(accuracy_score(y_test,predictions))\n",
    "plt.title(all_sample_title,size=15)"
   ]
  },
  {
   "cell_type": "markdown",
   "metadata": {},
   "source": [
    "### Random Forest"
   ]
  },
  {
   "cell_type": "code",
   "execution_count": 11,
   "metadata": {},
   "outputs": [],
   "source": [
    "def RF(X_train, y_train, X_test, y_test):\n",
    "    forest = RandomForestClassifier(criterion='gini',\n",
    "                                    n_estimators=5,\n",
    "                                    random_state=1,\n",
    "                                    n_jobs=2)\n",
    "\n",
    "    forest.fit(X_train, y_train)\n",
    "    \n",
    "    y_pred = forest.predict(X_test)\n",
    "    print('Accuracy: %.3f' % accuracy_score(y_test, y_pred))\n",
    "    \n",
    "    return y_pred"
   ]
  },
  {
   "cell_type": "code",
   "execution_count": 12,
   "metadata": {},
   "outputs": [],
   "source": [
    "def mat_of_conf(y_test,y_pred):\n",
    "    cm = confusion_matrix(y_test,y_pred)\n",
    "\n",
    "    plt.figure(figsize=(9,9))\n",
    "    sns.heatmap(cm,annot=True, fmt='.3f', linewidths=.5, square=True,cmap='Blues_r')\n",
    "    plt.ylabel('Actual label')\n",
    "    plt.xlabel('Predicted label')\n",
    "    all_sample_title = 'Accuracy Score: {0}'.format(accuracy_score(y_test,y_pred))\n",
    "    plt.title(all_sample_title,size=15)\n",
    "    plt.show()"
   ]
  },
  {
   "cell_type": "code",
   "execution_count": 18,
   "metadata": {},
   "outputs": [
    {
     "name": "stdout",
     "output_type": "stream",
     "text": [
      "Accuracy: 0.990\n"
     ]
    },
    {
     "data": {
      "image/png": "[encoded data removed]",
      "text/plain": [
       "<Figure size 648x648 with 2 Axes>"
      ]
     },
     "metadata": {
      "needs_background": "light"
     },
     "output_type": "display_data"
    }
   ],
   "source": [
    "Forest = RF(X_train, y_train, X_test, y_test)\n",
    "mat_of_conf(y_test,Forest)"
   ]
  },
  {
   "cell_type": "markdown",
   "metadata": {},
   "source": [
    "##### Iterating over different regions"
   ]
  },
  {
   "cell_type": "code",
   "execution_count": 24,
   "metadata": {},
   "outputs": [
    {
     "name": "stdout",
     "output_type": "stream",
     "text": [
      "Trained on region 1, and tested on region 2\n"
     ]
    },
    {
     "ename": "NameError",
     "evalue": "name 'data_per' is not defined",
     "output_type": "error",
     "traceback": [
      "\u001b[1;31m---------------------------------------------------------------------------\u001b[0m",
      "\u001b[1;31mNameError\u001b[0m                                 Traceback (most recent call last)",
      "\u001b[1;32md:\\Marija\\noise correlation\\LMU_neuroscience\\KNN.ipynb Cell 27\u001b[0m in \u001b[0;36m<cell line: 7>\u001b[1;34m()\u001b[0m\n\u001b[0;32m      <a href='vscode-notebook-cell:/d%3A/Marija/noise%20correlation/LMU_neuroscience/KNN.ipynb#ch0000025?line=8'>9</a>\u001b[0m \u001b[39mif\u001b[39;00m(br1\u001b[39m!=\u001b[39mbr2):\n\u001b[0;32m     <a href='vscode-notebook-cell:/d%3A/Marija/noise%20correlation/LMU_neuroscience/KNN.ipynb#ch0000025?line=9'>10</a>\u001b[0m     \u001b[39mprint\u001b[39m(\u001b[39m\"\u001b[39m\u001b[39mTrained on region \u001b[39m\u001b[39m\"\u001b[39m \u001b[39m+\u001b[39m \u001b[39mstr\u001b[39m(br1\u001b[39m+\u001b[39m\u001b[39m1\u001b[39m) \u001b[39m+\u001b[39m \u001b[39m\"\u001b[39m\u001b[39m, and tested on region \u001b[39m\u001b[39m\"\u001b[39m \u001b[39m+\u001b[39m \u001b[39mstr\u001b[39m(br2\u001b[39m+\u001b[39m\u001b[39m1\u001b[39m))\n\u001b[1;32m---> <a href='vscode-notebook-cell:/d%3A/Marija/noise%20correlation/LMU_neuroscience/KNN.ipynb#ch0000025?line=11'>12</a>\u001b[0m     data_per(mat_load, roi_load, ind_load, list1, list2, list3, list4)\n\u001b[0;32m     <a href='vscode-notebook-cell:/d%3A/Marija/noise%20correlation/LMU_neuroscience/KNN.ipynb#ch0000025?line=12'>13</a>\u001b[0m     podaci \u001b[39m=\u001b[39m ucitavanje_podataka(putanja)\n\u001b[0;32m     <a href='vscode-notebook-cell:/d%3A/Marija/noise%20correlation/LMU_neuroscience/KNN.ipynb#ch0000025?line=13'>14</a>\u001b[0m     vektorizovani_podaci \u001b[39m=\u001b[39m vektorizacija(podaci)\n",
      "\u001b[1;31mNameError\u001b[0m: name 'data_per' is not defined"
     ]
    }
   ],
   "source": [
    "import warnings\n",
    "warnings.filterwarnings('ignore')\n",
    "\n",
    "putanja = \"C:/Users/m.nedeljkovic/Desktop/cnn data/data\"\n",
    "mat_load, roi_load, ind_load, list1, list2, list3, list4 = load_data()\n",
    "\n",
    "for br1 in range(0,12):\n",
    "    for br2 in range(0,12):\n",
    "        if(br1!=br2):\n",
    "            print(\"Trained on region \" + str(br1+1) + \", and tested on region \" + str(br2+1))\n",
    "\n",
    "            data_per_trial(br1, mat_load, roi_load, ind_load, list1, list2, list3, list4)\n",
    "            podaci = ucitavanje_podataka(putanja)\n",
    "            vektorizovani_podaci = vektorizacija(podaci)\n",
    "            X_train, y_train = podela_podataka_tren(vektorizovani_podaci)\n",
    "            X_train = np.array(X_train)\n",
    "            y_train = np.array(y_train)\n",
    "            X_tr = []\n",
    "            for i in X_train:\n",
    "                temp = []\n",
    "                for j in i:\n",
    "                    for k in j:\n",
    "                        temp.append(k)\n",
    "                X_tr.append(temp)\n",
    "            X_train = np.nan_to_num(X_tr)\n",
    "\n",
    "            data_per_trial(br2, mat_load, roi_load, ind_load, list1, list2, list3, list4)\n",
    "            podaci = ucitavanje_podataka(putanja)\n",
    "            vektorizovani_podaci = vektorizacija(podaci)\n",
    "            X_test, y_test = podela_podataka_tren(vektorizovani_podaci)\n",
    "            X_test = np.array(X_test)\n",
    "            y_test = np.array(y_test)\n",
    "            X_ts = []\n",
    "            for i in X_test:\n",
    "                temp = []\n",
    "                for j in i:\n",
    "                    for k in j:\n",
    "                        temp.append(k)\n",
    "                X_ts.append(temp) \n",
    "            X_test = np.nan_to_num(X_ts)\n",
    "\n",
    "            Forest = RF(X_train, y_train, X_test, y_test)\n",
    "            mat_of_conf(y_test, Forest)"
   ]
  },
  {
   "cell_type": "markdown",
   "metadata": {},
   "source": [
    "##### Iterating over different sessions"
   ]
  },
  {
   "cell_type": "code",
   "execution_count": 556,
   "metadata": {},
   "outputs": [
    {
     "name": "stdout",
     "output_type": "stream",
     "text": [
      "(Trial 1) Trained on session 1, and tested on session 2\n",
      "(0,)\n"
     ]
    },
    {
     "ename": "ValueError",
     "evalue": "Expected 2D array, got 1D array instead:\narray=[].\nReshape your data either using array.reshape(-1, 1) if your data has a single feature or array.reshape(1, -1) if it contains a single sample.",
     "output_type": "error",
     "traceback": [
      "\u001b[1;31m---------------------------------------------------------------------------\u001b[0m",
      "\u001b[1;31mValueError\u001b[0m                                Traceback (most recent call last)",
      "\u001b[1;32md:\\Marija\\noise correlation\\LMU_neuroscience\\KNN.ipynb Cell 28\u001b[0m in \u001b[0;36m<cell line: 9>\u001b[1;34m()\u001b[0m\n\u001b[0;32m     <a href='vscode-notebook-cell:/d%3A/Marija/noise%20correlation/LMU_neuroscience/KNN.ipynb#ch0000053?line=37'>38</a>\u001b[0m     X_ts\u001b[39m.\u001b[39mappend(temp) \n\u001b[0;32m     <a href='vscode-notebook-cell:/d%3A/Marija/noise%20correlation/LMU_neuroscience/KNN.ipynb#ch0000053?line=38'>39</a>\u001b[0m X_test_ \u001b[39m=\u001b[39m np\u001b[39m.\u001b[39mnan_to_num(X_ts)\n\u001b[1;32m---> <a href='vscode-notebook-cell:/d%3A/Marija/noise%20correlation/LMU_neuroscience/KNN.ipynb#ch0000053?line=40'>41</a>\u001b[0m Forest \u001b[39m=\u001b[39m RF(X_train_, y_train_, X_test_, y_test_)\n\u001b[0;32m     <a href='vscode-notebook-cell:/d%3A/Marija/noise%20correlation/LMU_neuroscience/KNN.ipynb#ch0000053?line=41'>42</a>\u001b[0m mat_of_conf(y_test_,Forest)\n",
      "\u001b[1;32md:\\Marija\\noise correlation\\LMU_neuroscience\\KNN.ipynb Cell 28\u001b[0m in \u001b[0;36mRF\u001b[1;34m(X_train, y_train, X_test, y_test)\u001b[0m\n\u001b[0;32m      <a href='vscode-notebook-cell:/d%3A/Marija/noise%20correlation/LMU_neuroscience/KNN.ipynb#ch0000053?line=0'>1</a>\u001b[0m \u001b[39mdef\u001b[39;00m \u001b[39mRF\u001b[39m(X_train, y_train, X_test, y_test):\n\u001b[0;32m      <a href='vscode-notebook-cell:/d%3A/Marija/noise%20correlation/LMU_neuroscience/KNN.ipynb#ch0000053?line=1'>2</a>\u001b[0m     forest \u001b[39m=\u001b[39m RandomForestClassifier(criterion\u001b[39m=\u001b[39m\u001b[39m'\u001b[39m\u001b[39mgini\u001b[39m\u001b[39m'\u001b[39m,\n\u001b[0;32m      <a href='vscode-notebook-cell:/d%3A/Marija/noise%20correlation/LMU_neuroscience/KNN.ipynb#ch0000053?line=2'>3</a>\u001b[0m                                     n_estimators\u001b[39m=\u001b[39m\u001b[39m5\u001b[39m,\n\u001b[0;32m      <a href='vscode-notebook-cell:/d%3A/Marija/noise%20correlation/LMU_neuroscience/KNN.ipynb#ch0000053?line=3'>4</a>\u001b[0m                                     random_state\u001b[39m=\u001b[39m\u001b[39m1\u001b[39m,\n\u001b[0;32m      <a href='vscode-notebook-cell:/d%3A/Marija/noise%20correlation/LMU_neuroscience/KNN.ipynb#ch0000053?line=4'>5</a>\u001b[0m                                     n_jobs\u001b[39m=\u001b[39m\u001b[39m2\u001b[39m)\n\u001b[1;32m----> <a href='vscode-notebook-cell:/d%3A/Marija/noise%20correlation/LMU_neuroscience/KNN.ipynb#ch0000053?line=6'>7</a>\u001b[0m     forest\u001b[39m.\u001b[39;49mfit(X_train, y_train)\n\u001b[0;32m      <a href='vscode-notebook-cell:/d%3A/Marija/noise%20correlation/LMU_neuroscience/KNN.ipynb#ch0000053?line=8'>9</a>\u001b[0m     y_pred \u001b[39m=\u001b[39m forest\u001b[39m.\u001b[39mpredict(X_test)\n\u001b[0;32m     <a href='vscode-notebook-cell:/d%3A/Marija/noise%20correlation/LMU_neuroscience/KNN.ipynb#ch0000053?line=9'>10</a>\u001b[0m     \u001b[39mprint\u001b[39m(\u001b[39m'\u001b[39m\u001b[39mAccuracy: \u001b[39m\u001b[39m%.3f\u001b[39;00m\u001b[39m'\u001b[39m \u001b[39m%\u001b[39m accuracy_score(y_test, y_pred))\n",
      "File \u001b[1;32mc:\\Users\\m.nedeljkovic\\AppData\\Local\\Programs\\Python\\Python310\\lib\\site-packages\\sklearn\\ensemble\\_forest.py:331\u001b[0m, in \u001b[0;36mBaseForest.fit\u001b[1;34m(self, X, y, sample_weight)\u001b[0m\n\u001b[0;32m    329\u001b[0m \u001b[39mif\u001b[39;00m issparse(y):\n\u001b[0;32m    330\u001b[0m     \u001b[39mraise\u001b[39;00m \u001b[39mValueError\u001b[39;00m(\u001b[39m\"\u001b[39m\u001b[39msparse multilabel-indicator for y is not supported.\u001b[39m\u001b[39m\"\u001b[39m)\n\u001b[1;32m--> 331\u001b[0m X, y \u001b[39m=\u001b[39m \u001b[39mself\u001b[39;49m\u001b[39m.\u001b[39;49m_validate_data(\n\u001b[0;32m    332\u001b[0m     X, y, multi_output\u001b[39m=\u001b[39;49m\u001b[39mTrue\u001b[39;49;00m, accept_sparse\u001b[39m=\u001b[39;49m\u001b[39m\"\u001b[39;49m\u001b[39mcsc\u001b[39;49m\u001b[39m\"\u001b[39;49m, dtype\u001b[39m=\u001b[39;49mDTYPE\n\u001b[0;32m    333\u001b[0m )\n\u001b[0;32m    334\u001b[0m \u001b[39mif\u001b[39;00m sample_weight \u001b[39mis\u001b[39;00m \u001b[39mnot\u001b[39;00m \u001b[39mNone\u001b[39;00m:\n\u001b[0;32m    335\u001b[0m     sample_weight \u001b[39m=\u001b[39m _check_sample_weight(sample_weight, X)\n",
      "File \u001b[1;32mc:\\Users\\m.nedeljkovic\\AppData\\Local\\Programs\\Python\\Python310\\lib\\site-packages\\sklearn\\base.py:596\u001b[0m, in \u001b[0;36mBaseEstimator._validate_data\u001b[1;34m(self, X, y, reset, validate_separately, **check_params)\u001b[0m\n\u001b[0;32m    594\u001b[0m         y \u001b[39m=\u001b[39m check_array(y, input_name\u001b[39m=\u001b[39m\u001b[39m\"\u001b[39m\u001b[39my\u001b[39m\u001b[39m\"\u001b[39m, \u001b[39m*\u001b[39m\u001b[39m*\u001b[39mcheck_y_params)\n\u001b[0;32m    595\u001b[0m     \u001b[39melse\u001b[39;00m:\n\u001b[1;32m--> 596\u001b[0m         X, y \u001b[39m=\u001b[39m check_X_y(X, y, \u001b[39m*\u001b[39m\u001b[39m*\u001b[39mcheck_params)\n\u001b[0;32m    597\u001b[0m     out \u001b[39m=\u001b[39m X, y\n\u001b[0;32m    599\u001b[0m \u001b[39mif\u001b[39;00m \u001b[39mnot\u001b[39;00m no_val_X \u001b[39mand\u001b[39;00m check_params\u001b[39m.\u001b[39mget(\u001b[39m\"\u001b[39m\u001b[39mensure_2d\u001b[39m\u001b[39m\"\u001b[39m, \u001b[39mTrue\u001b[39;00m):\n",
      "File \u001b[1;32mc:\\Users\\m.nedeljkovic\\AppData\\Local\\Programs\\Python\\Python310\\lib\\site-packages\\sklearn\\utils\\validation.py:1074\u001b[0m, in \u001b[0;36mcheck_X_y\u001b[1;34m(X, y, accept_sparse, accept_large_sparse, dtype, order, copy, force_all_finite, ensure_2d, allow_nd, multi_output, ensure_min_samples, ensure_min_features, y_numeric, estimator)\u001b[0m\n\u001b[0;32m   1069\u001b[0m         estimator_name \u001b[39m=\u001b[39m _check_estimator_name(estimator)\n\u001b[0;32m   1070\u001b[0m     \u001b[39mraise\u001b[39;00m \u001b[39mValueError\u001b[39;00m(\n\u001b[0;32m   1071\u001b[0m         \u001b[39mf\u001b[39m\u001b[39m\"\u001b[39m\u001b[39m{\u001b[39;00mestimator_name\u001b[39m}\u001b[39;00m\u001b[39m requires y to be passed, but the target y is None\u001b[39m\u001b[39m\"\u001b[39m\n\u001b[0;32m   1072\u001b[0m     )\n\u001b[1;32m-> 1074\u001b[0m X \u001b[39m=\u001b[39m check_array(\n\u001b[0;32m   1075\u001b[0m     X,\n\u001b[0;32m   1076\u001b[0m     accept_sparse\u001b[39m=\u001b[39;49maccept_sparse,\n\u001b[0;32m   1077\u001b[0m     accept_large_sparse\u001b[39m=\u001b[39;49maccept_large_sparse,\n\u001b[0;32m   1078\u001b[0m     dtype\u001b[39m=\u001b[39;49mdtype,\n\u001b[0;32m   1079\u001b[0m     order\u001b[39m=\u001b[39;49morder,\n\u001b[0;32m   1080\u001b[0m     copy\u001b[39m=\u001b[39;49mcopy,\n\u001b[0;32m   1081\u001b[0m     force_all_finite\u001b[39m=\u001b[39;49mforce_all_finite,\n\u001b[0;32m   1082\u001b[0m     ensure_2d\u001b[39m=\u001b[39;49mensure_2d,\n\u001b[0;32m   1083\u001b[0m     allow_nd\u001b[39m=\u001b[39;49mallow_nd,\n\u001b[0;32m   1084\u001b[0m     ensure_min_samples\u001b[39m=\u001b[39;49mensure_min_samples,\n\u001b[0;32m   1085\u001b[0m     ensure_min_features\u001b[39m=\u001b[39;49mensure_min_features,\n\u001b[0;32m   1086\u001b[0m     estimator\u001b[39m=\u001b[39;49mestimator,\n\u001b[0;32m   1087\u001b[0m     input_name\u001b[39m=\u001b[39;49m\u001b[39m\"\u001b[39;49m\u001b[39mX\u001b[39;49m\u001b[39m\"\u001b[39;49m,\n\u001b[0;32m   1088\u001b[0m )\n\u001b[0;32m   1090\u001b[0m y \u001b[39m=\u001b[39m _check_y(y, multi_output\u001b[39m=\u001b[39mmulti_output, y_numeric\u001b[39m=\u001b[39my_numeric, estimator\u001b[39m=\u001b[39mestimator)\n\u001b[0;32m   1092\u001b[0m check_consistent_length(X, y)\n",
      "File \u001b[1;32mc:\\Users\\m.nedeljkovic\\AppData\\Local\\Programs\\Python\\Python310\\lib\\site-packages\\sklearn\\utils\\validation.py:879\u001b[0m, in \u001b[0;36mcheck_array\u001b[1;34m(array, accept_sparse, accept_large_sparse, dtype, order, copy, force_all_finite, ensure_2d, allow_nd, ensure_min_samples, ensure_min_features, estimator, input_name)\u001b[0m\n\u001b[0;32m    877\u001b[0m     \u001b[39m# If input is 1D raise error\u001b[39;00m\n\u001b[0;32m    878\u001b[0m     \u001b[39mif\u001b[39;00m array\u001b[39m.\u001b[39mndim \u001b[39m==\u001b[39m \u001b[39m1\u001b[39m:\n\u001b[1;32m--> 879\u001b[0m         \u001b[39mraise\u001b[39;00m \u001b[39mValueError\u001b[39;00m(\n\u001b[0;32m    880\u001b[0m             \u001b[39m\"\u001b[39m\u001b[39mExpected 2D array, got 1D array instead:\u001b[39m\u001b[39m\\n\u001b[39;00m\u001b[39marray=\u001b[39m\u001b[39m{}\u001b[39;00m\u001b[39m.\u001b[39m\u001b[39m\\n\u001b[39;00m\u001b[39m\"\u001b[39m\n\u001b[0;32m    881\u001b[0m             \u001b[39m\"\u001b[39m\u001b[39mReshape your data either using array.reshape(-1, 1) if \u001b[39m\u001b[39m\"\u001b[39m\n\u001b[0;32m    882\u001b[0m             \u001b[39m\"\u001b[39m\u001b[39myour data has a single feature or array.reshape(1, -1) \u001b[39m\u001b[39m\"\u001b[39m\n\u001b[0;32m    883\u001b[0m             \u001b[39m\"\u001b[39m\u001b[39mif it contains a single sample.\u001b[39m\u001b[39m\"\u001b[39m\u001b[39m.\u001b[39mformat(array)\n\u001b[0;32m    884\u001b[0m         )\n\u001b[0;32m    886\u001b[0m \u001b[39mif\u001b[39;00m dtype_numeric \u001b[39mand\u001b[39;00m array\u001b[39m.\u001b[39mdtype\u001b[39m.\u001b[39mkind \u001b[39min\u001b[39;00m \u001b[39m\"\u001b[39m\u001b[39mUSV\u001b[39m\u001b[39m\"\u001b[39m:\n\u001b[0;32m    887\u001b[0m     \u001b[39mraise\u001b[39;00m \u001b[39mValueError\u001b[39;00m(\n\u001b[0;32m    888\u001b[0m         \u001b[39m\"\u001b[39m\u001b[39mdtype=\u001b[39m\u001b[39m'\u001b[39m\u001b[39mnumeric\u001b[39m\u001b[39m'\u001b[39m\u001b[39m is not compatible with arrays of bytes/strings.\u001b[39m\u001b[39m\"\u001b[39m\n\u001b[0;32m    889\u001b[0m         \u001b[39m\"\u001b[39m\u001b[39mConvert your data to numeric values explicitly instead.\u001b[39m\u001b[39m\"\u001b[39m\n\u001b[0;32m    890\u001b[0m     )\n",
      "\u001b[1;31mValueError\u001b[0m: Expected 2D array, got 1D array instead:\narray=[].\nReshape your data either using array.reshape(-1, 1) if your data has a single feature or array.reshape(1, -1) if it contains a single sample."
     ]
    }
   ],
   "source": [
    "import warnings\n",
    "warnings.filterwarnings('ignore')\n",
    "\n",
    "putanja = \"C:/Users/m.nedeljkovic/Desktop/cnn data/data\"\n",
    "mat_load, roi_load, ind_load, list1, list2, list3, list4 = load_data()\n",
    "\n",
    "tr = 1\n",
    "\n",
    "for br1 in range(0, 4):\n",
    "    for br2 in range(0, 4):\n",
    "        if(br1 != br2):\n",
    "            print(\"(Trial \" + str(tr) + \") Trained on session \" + str(br1+1) + \", and tested on session \" + str(br2+1))\n",
    "           \n",
    "            data_per_session(tr, br1, mat_load, roi_load, ind_load, list1, list2, list3, list4)\n",
    "            podaci = ucitavanje_podataka(putanja)\n",
    "            vektorizovani_podaci = vektorizacija(podaci)\n",
    "            X_train_, y_train_ = podela_podataka_tren(vektorizovani_podaci)\n",
    "            X_tr = []\n",
    "            for i in X_train_:\n",
    "                temp = []\n",
    "                for j in i:\n",
    "                    for k in j:\n",
    "                        temp.append(k)\n",
    "                X_tr.append(temp)\n",
    "            X_train_ = np.nan_to_num(X_tr)\n",
    "\n",
    "            data_per_session(tr, br2, mat_load, roi_load, ind_load, list1, list2, list3, list4)\n",
    "            podaci = ucitavanje_podataka(putanja)\n",
    "            vektorizovani_podaci = vektorizacija(podaci)\n",
    "            X_test_, y_test_ = podela_podataka_tren(vektorizovani_podaci)\n",
    "            X_ts = []\n",
    "            for i in X_test_:\n",
    "                temp = []\n",
    "                for j in i:\n",
    "                    for k in j:\n",
    "                        temp.append(k)\n",
    "                X_ts.append(temp) \n",
    "            X_test_ = np.nan_to_num(X_ts)\n",
    "\n",
    "            Forest = RF(X_train_, y_train_, X_test_, y_test_)\n",
    "            mat_of_conf(y_test_,Forest)"
   ]
  },
  {
   "cell_type": "code",
   "execution_count": null,
   "metadata": {},
   "outputs": [],
   "source": []
  }
 ],
 "metadata": {
  "kernelspec": {
   "display_name": "Python 3.10.5 64-bit",
   "language": "python",
   "name": "python3"
  },
  "language_info": {
   "codemirror_mode": {
    "name": "ipython",
    "version": 3
   },
   "file_extension": ".py",
   "mimetype": "text/x-python",
   "name": "python",
   "nbconvert_exporter": "python",
   "pygments_lexer": "ipython3",
   "version": "3.10.5"
  },
  "orig_nbformat": 4,
  "vscode": {
   "interpreter": {
    "hash": "c3ff55a2362d840d3433b3a68631efa6e477163e310b6a9fd17f9078908dbfa1"
   }
  }
 },
 "nbformat": 4,
 "nbformat_minor": 2
}
