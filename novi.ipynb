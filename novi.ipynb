{
 "cells": [
  {
   "cell_type": "markdown",
   "metadata": {},
   "source": [
    "#### Import required packages"
   ]
  },
  {
   "cell_type": "code",
   "execution_count": 1,
   "metadata": {},
   "outputs": [],
   "source": [
    "# numeric and plotting libraries\n",
    "import time\n",
    "import os\n",
    "import shutil\n",
    "import math\n",
    "from collections import defaultdict\n",
    "import matplotlib.pyplot as plt\n",
    "import numpy as np\n",
    "import csv\n",
    "import random\n",
    "from PIL import Image\n",
    "import csv\n",
    "import operator \n",
    "import pandas as pd \n",
    "# to create confusion metrics\n",
    "import seaborn as sns\n",
    "import scipy.io as sio\n",
    "from cmath import nan\n",
    "from cmath import isnan"
   ]
  },
  {
   "cell_type": "code",
   "execution_count": 2,
   "metadata": {},
   "outputs": [
    {
     "name": "stderr",
     "output_type": "stream",
     "text": [
      "d:\\Marija\\noise correlation\\LMU_neuroscience\\data_prep.ipynb:118: RuntimeWarning: invalid value encountered in multiply\n",
      "  \"    lista = [[k[0] for k in list1], [k[0] for k in list2], [k[0] for k in list3], [k[0] for k in list4]]\\n\",\n",
      "d:\\Marija\\noise correlation\\LMU_neuroscience\\data_prep.ipynb:204: RuntimeWarning: invalid value encountered in multiply\n",
      "  ]\n",
      "d:\\Marija\\noise correlation\\LMU_neuroscience\\data_prep.ipynb:291: RuntimeWarning: invalid value encountered in multiply\n",
      "  \"                        dat_seaw_df[dat_seaw_df == np.inf] = 0\\n\",\n",
      "d:\\Marija\\noise correlation\\LMU_neuroscience\\data_prep.ipynb:380: RuntimeWarning: invalid value encountered in multiply\n",
      "  \"                    dat_sean_df_ = dat_sean_df[0:1,:,:]\\n\",\n"
     ]
    }
   ],
   "source": [
    "from ipynb.fs.full.data_prep import *"
   ]
  },
  {
   "cell_type": "code",
   "execution_count": null,
   "metadata": {},
   "outputs": [],
   "source": [
    "%matplotlib inline"
   ]
  },
  {
   "cell_type": "code",
   "execution_count": null,
   "metadata": {},
   "outputs": [],
   "source": [
    "from sklearn.metrics import accuracy_score,confusion_matrix # metrics error\n",
    "from sklearn.multiclass import OneVsRestClassifier\n",
    "from sklearn.neighbors import KNeighborsClassifier\n",
    "from sklearn.ensemble import RandomForestClassifier\n",
    "from numpy import loadtxt\n",
    "from xgboost import XGBClassifier\n",
    "from sklearn.model_selection import train_test_split\n",
    "from sklearn.metrics import accuracy_score\n",
    "import xgboost as xgb"
   ]
  },
  {
   "cell_type": "markdown",
   "metadata": {},
   "source": [
    "# Classification on 5 different speakers / all regions"
   ]
  },
  {
   "cell_type": "markdown",
   "metadata": {},
   "source": [
    "#### Data preparation"
   ]
  },
  {
   "cell_type": "code",
   "execution_count": null,
   "metadata": {},
   "outputs": [],
   "source": [
    "def ucitavanje_sp(directory):\n",
    "    id = 0\n",
    "    data = []\n",
    "    for filename in os.listdir(directory):\n",
    "        f = os.path.join(directory, filename)\n",
    "        label = [int(f.split(\"\\\\\")[-1][-5:-4])]\n",
    "        id = id + 1\n",
    "        dat = np.load(f)\n",
    "        data.append([id, dat, label])\n",
    "    \n",
    "    #random.seed(2)\n",
    "    random.shuffle(data)\n",
    "    return data      "
   ]
  },
  {
   "cell_type": "code",
   "execution_count": null,
   "metadata": {},
   "outputs": [],
   "source": [
    "def podela_podataka_sp(data_vectors):\n",
    "    \n",
    "    max = 0\n",
    "    for i in range(0,len(data_vectors)):\n",
    "        if(data_vectors[i][1].shape[0] > max):\n",
    "            max = data_vectors[i][1].shape[0]\n",
    "\n",
    "    max_norm = 0\n",
    "    min_norm = 50\n",
    "    for a in data_vectors:\n",
    "        for x in a[1]:\n",
    "            for y in x:\n",
    "                if(y > max_norm):\n",
    "                    max_norm = y\n",
    "                if(y < min_norm):\n",
    "                    min_norm = y\n",
    "\n",
    "    for a in range(0, len(data_vectors)):\n",
    "        for x in range(0, len(data_vectors[a][1])):\n",
    "            for y in range(0, len(data_vectors[a][1][x])):\n",
    "                data_vectors[a][1][x][y] = (data_vectors[a][1][x][y] - min_norm) / (max_norm - min_norm)\n",
    "\n",
    "\n",
    "    y_train, y_test, X_tr, X_ts = [], [], [], []\n",
    "    \n",
    "    i1,i2,i3,i4,i5 = 0,0,0,0,0\n",
    "\n",
    "    random.shuffle(data_vectors)\n",
    "\n",
    "    for item in data_vectors:\n",
    "\n",
    "        if item[2]==[0]:\n",
    "            i1 = i1 + 1\n",
    "            if i1 <= 200:\n",
    "                if(np.array(item[1]).shape[0] < max):\n",
    "                    item[1] = np.pad(item[1], [(0, max-np.array(item[1]).shape[0]), (0, 0)], mode='constant' , constant_values=0)\n",
    "\n",
    "                X_test = item[1].reshape(1, item[1].shape[0], item[1].shape[1])\n",
    "                temp = []\n",
    "                for i in X_test:\n",
    "                    for j in i:\n",
    "                        for k in j:\n",
    "                            if(isnan(k)):\n",
    "                                k = 0\n",
    "                            temp.append(k)\n",
    "                    X_ts.append(temp) \n",
    "\n",
    "                y_test.append(item[2])\n",
    "                #y_test.append(random.choice([[0], [1]]))\n",
    "            else:\n",
    "                if(np.array(item[1]).shape[0] < max):\n",
    "                    item[1] = np.pad(item[1], [(0, max-np.array(item[1]).shape[0]), (0, 0)], mode='constant', constant_values=0)\n",
    "\n",
    "                X_train = item[1].reshape(1, item[1].shape[0], item[1].shape[1])\n",
    "                temp = []\n",
    "                for i in X_train:\n",
    "                    for j in i:\n",
    "                        for k in j:\n",
    "                            if(isnan(k)):\n",
    "                                k = 0\n",
    "                            temp.append(k)\n",
    "                    X_tr.append(temp)\n",
    "\n",
    "                y_train.append(item[2])\n",
    "                #y_test.append(random.choice([[0], [1]]))\n",
    "                \n",
    "        elif item[2]==[1]:\n",
    "            i2 = i2 + 1\n",
    "            if  i2 <= 200:\n",
    "                if(np.array(item[1]).shape[0] < max):\n",
    "                    item[1] = np.pad(item[1], [(0, max-np.array(item[1]).shape[0]), (0, 0)], mode='constant', constant_values=0)\n",
    "                \n",
    "                X_test = item[1].reshape(1, item[1].shape[0], item[1].shape[1])\n",
    "                temp = []\n",
    "                for i in X_test:\n",
    "                    for j in i:\n",
    "                        for k in j:\n",
    "                            if(isnan(k)):\n",
    "                                k = 0\n",
    "                            temp.append(k)\n",
    "                    X_ts.append(temp) \n",
    "\n",
    "                y_test.append(item[2])\n",
    "                #y_test.append(random.choice([[0], [1]]))\n",
    "            else:\n",
    "                if(np.array(item[1]).shape[0] < max):\n",
    "                    item[1] = np.pad(item[1], [(0, max-np.array(item[1]).shape[0]), (0, 0)], mode='constant', constant_values=0)\n",
    "                \n",
    "                X_train = item[1].reshape(1, item[1].shape[0], item[1].shape[1])\n",
    "                temp = []\n",
    "                for i in X_train:\n",
    "                    for j in i:\n",
    "                        for k in j:\n",
    "                            if(isnan(k)):\n",
    "                                k = 0\n",
    "                            temp.append(k)\n",
    "                    X_tr.append(temp)\n",
    "\n",
    "                y_train.append(item[2])\n",
    "                #y_test.append(random.choice([[0], [1]]))\n",
    "        elif item[2]==[2]:\n",
    "            i3 = i3 + 1\n",
    "            if  i3 <= 200:\n",
    "                if(np.array(item[1]).shape[0] < max):\n",
    "                    item[1] = np.pad(item[1], [(0, max-np.array(item[1]).shape[0]), (0, 0)], mode='constant', constant_values=0)\n",
    "                \n",
    "                X_test = item[1].reshape(1, item[1].shape[0], item[1].shape[1])\n",
    "                temp = []\n",
    "                for i in X_test:\n",
    "                    for j in i:\n",
    "                        for k in j:\n",
    "                            if(isnan(k)):\n",
    "                                k = 0\n",
    "                            temp.append(k)\n",
    "                    X_ts.append(temp) \n",
    "\n",
    "                y_test.append(item[2])\n",
    "                #y_test.append(random.choice([[0], [1]]))\n",
    "            else:\n",
    "                if(np.array(item[1]).shape[0] < max):\n",
    "                    item[1] = np.pad(item[1], [(0, max-np.array(item[1]).shape[0]), (0, 0)], mode='constant', constant_values=0)\n",
    "                \n",
    "                X_train = item[1].reshape(1, item[1].shape[0], item[1].shape[1])\n",
    "                temp = []\n",
    "                for i in X_train:\n",
    "                    for j in i:\n",
    "                        for k in j:\n",
    "                            if(isnan(k)):\n",
    "                                k = 0\n",
    "                            temp.append(k)\n",
    "                    X_tr.append(temp)\n",
    "\n",
    "                y_train.append(item[2])\n",
    "                #y_test.append(random.choice([[0], [1]]))\n",
    "        elif item[2]==[4]:\n",
    "            i4 = i4 + 1\n",
    "            if  i4 <= 200:\n",
    "                if(np.array(item[1]).shape[0] < max):\n",
    "                    item[1] = np.pad(item[1], [(0, max-np.array(item[1]).shape[0]), (0, 0)], mode='constant', constant_values=0)\n",
    "                \n",
    "                X_test = item[1].reshape(1, item[1].shape[0], item[1].shape[1])\n",
    "                temp = []\n",
    "                for i in X_test:\n",
    "                    for j in i:\n",
    "                        for k in j:\n",
    "                            if(isnan(k)):\n",
    "                                k = 0\n",
    "                            temp.append(k)\n",
    "                    X_ts.append(temp) \n",
    "\n",
    "                y_test.append(item[2])\n",
    "                #y_test.append(random.choice([[0], [1]]))\n",
    "            else:\n",
    "                if(np.array(item[1]).shape[0] < max):\n",
    "                    item[1] = np.pad(item[1], [(0, max-np.array(item[1]).shape[0]), (0, 0)], mode='constant', constant_values=0)\n",
    "                \n",
    "                X_train = item[1].reshape(1, item[1].shape[0], item[1].shape[1])\n",
    "                temp = []\n",
    "                for i in X_train:\n",
    "                    for j in i:\n",
    "                        for k in j:\n",
    "                            if(isnan(k)):\n",
    "                                k = 0\n",
    "                            temp.append(k)\n",
    "                    X_tr.append(temp)\n",
    "\n",
    "                y_train.append(item[2])\n",
    "                #y_test.append(random.choice([[0], [1]]))\n",
    "        else:\n",
    "            i5 = i5 + 1\n",
    "            if  i5 <= 200:\n",
    "                if(np.array(item[1]).shape[0] < max):\n",
    "                    item[1] = np.pad(item[1], [(0, max-np.array(item[1]).shape[0]), (0, 0)], mode='constant', constant_values=0)\n",
    "                \n",
    "                X_test = item[1].reshape(1, item[1].shape[0], item[1].shape[1])\n",
    "                temp = []\n",
    "                for i in X_test:\n",
    "                    for j in i:\n",
    "                        for k in j:\n",
    "                            if(isnan(k)):\n",
    "                                k = 0\n",
    "                            temp.append(k)\n",
    "                    X_ts.append(temp) \n",
    "\n",
    "                y_test.append(item[2])\n",
    "                #y_test.append(random.choice([[0], [1]]))\n",
    "            else:\n",
    "                if(np.array(item[1]).shape[0] < max):\n",
    "                    item[1] = np.pad(item[1], [(0, max-np.array(item[1]).shape[0]), (0, 0)], mode='constant', constant_values=0)\n",
    "                \n",
    "                X_train = item[1].reshape(1, item[1].shape[0], item[1].shape[1])\n",
    "                temp = []\n",
    "                for i in X_train:\n",
    "                    for j in i:\n",
    "                        for k in j:\n",
    "                            if(isnan(k)):\n",
    "                                k = 0\n",
    "                            temp.append(k)\n",
    "                    X_tr.append(temp)\n",
    "\n",
    "                y_train.append(item[2])\n",
    "                #y_test.append(random.choice([[0], [1]]))\n",
    "    \n",
    "    X_train = np.array(X_tr)\n",
    "    y_train = np.array(y_train)\n",
    "    X_test = np.array(X_ts)\n",
    "    y_test = np.array(y_test)\n",
    "    \n",
    "    return X_train, y_train, X_test, y_test"
   ]
  },
  {
   "cell_type": "markdown",
   "metadata": {},
   "source": [
    "#### Test / Train set"
   ]
  },
  {
   "cell_type": "code",
   "execution_count": null,
   "metadata": {},
   "outputs": [],
   "source": [
    "#putanja = \"C:/Users/Zephyrus/Desktop/cnn data/data\"\n",
    "putanja = \"C:/Users/m.nedeljkovic/Desktop/cnn data/data\"\n",
    "#niz od podataka za svaku sekvencu (podatak je niz od id-ja, sekvence i labele)\n",
    "podaci = ucitavanje_sp(putanja)\n",
    "X_train, y_train, X_test, y_test = podela_podataka_sp(podaci)"
   ]
  },
  {
   "cell_type": "markdown",
   "metadata": {},
   "source": [
    "##### check"
   ]
  },
  {
   "cell_type": "code",
   "execution_count": null,
   "metadata": {},
   "outputs": [
    {
     "name": "stdout",
     "output_type": "stream",
     "text": [
      "3689\n"
     ]
    }
   ],
   "source": [
    "cc = []\n",
    "for i in range(0,len(X_train)):\n",
    "    if not(len(X_train[i]) in cc):\n",
    "        print(len(X_train[i]))\n",
    "        cc.append(len(X_train[i]))"
   ]
  },
  {
   "cell_type": "code",
   "execution_count": null,
   "metadata": {},
   "outputs": [],
   "source": [
    "x1,y1,x2,y2 = [],[],[],[]\n",
    "\n",
    "for i in range(0,len(X_train)):\n",
    "    if(len(X_train[i])==18445):\n",
    "        x1.append(X_train[i])\n",
    "        y1.append(y_train[i])\n",
    "\n",
    "for i in range(0,len(X_test)):\n",
    "    if(len(X_test[i])==18445):\n",
    "        x2.append(X_test[i])\n",
    "        y2.append(y_test[i])\n",
    "\n",
    "X_train = x1\n",
    "y_train = y1\n",
    "X_test = x2\n",
    "y_test = y2"
   ]
  },
  {
   "cell_type": "code",
   "execution_count": null,
   "metadata": {},
   "outputs": [
    {
     "ename": "TypeError",
     "evalue": "'numpy.float64' object is not iterable",
     "output_type": "error",
     "traceback": [
      "\u001b[1;31m---------------------------------------------------------------------------\u001b[0m\n",
      "\u001b[1;31mTypeError\u001b[0m                                 Traceback (most recent call last)\n",
      "\u001b[1;32md:\\Marija\\noise correlation\\LMU_neuroscience\\knn_rf.ipynb Cell 42\u001b[0m in \u001b[0;36m<cell line: 2>\u001b[1;34m()\u001b[0m\n",
      "\u001b[0;32m      <a href='vscode-notebook-cell:/d%3A/Marija/noise%20correlation/LMU_neuroscience/knn_rf.ipynb#X53sZmlsZQ%3D%3D?line=2'>3</a>\u001b[0m temp \u001b[39m=\u001b[39m []\n",
      "\u001b[0;32m      <a href='vscode-notebook-cell:/d%3A/Marija/noise%20correlation/LMU_neuroscience/knn_rf.ipynb#X53sZmlsZQ%3D%3D?line=3'>4</a>\u001b[0m \u001b[39mfor\u001b[39;00m j \u001b[39min\u001b[39;00m i:\n",
      "\u001b[1;32m----> <a href='vscode-notebook-cell:/d%3A/Marija/noise%20correlation/LMU_neuroscience/knn_rf.ipynb#X53sZmlsZQ%3D%3D?line=4'>5</a>\u001b[0m     \u001b[39mfor\u001b[39;00m k \u001b[39min\u001b[39;00m j:\n",
      "\u001b[0;32m      <a href='vscode-notebook-cell:/d%3A/Marija/noise%20correlation/LMU_neuroscience/knn_rf.ipynb#X53sZmlsZQ%3D%3D?line=5'>6</a>\u001b[0m         \u001b[39mif\u001b[39;00m(isnan(k)):\n",
      "\u001b[0;32m      <a href='vscode-notebook-cell:/d%3A/Marija/noise%20correlation/LMU_neuroscience/knn_rf.ipynb#X53sZmlsZQ%3D%3D?line=6'>7</a>\u001b[0m             k \u001b[39m=\u001b[39m \u001b[39m0\u001b[39m\n",
      "\n",
      "\u001b[1;31mTypeError\u001b[0m: 'numpy.float64' object is not iterable"
     ]
    }
   ],
   "source": [
    "X_tr = []\n",
    "for i in X_train:\n",
    "    temp = []\n",
    "    for j in i:\n",
    "        for k in j:\n",
    "            if(isnan(k)):\n",
    "                k = 0\n",
    "            temp.append(k)\n",
    "    X_tr.append(temp)\n",
    "X_train = np.array(X_tr, dtype=object)\n",
    "\n",
    "X_ts = []\n",
    "for i in X_test:\n",
    "    temp = []\n",
    "    for j in i:\n",
    "        for k in j:\n",
    "            if(isnan(k)):\n",
    "                k = 0\n",
    "            temp.append(k)\n",
    "    X_ts.append(temp) \n",
    "X_test = np.array(X_ts, dtype=object)"
   ]
  },
  {
   "cell_type": "markdown",
   "metadata": {},
   "source": [
    "### KNN"
   ]
  },
  {
   "cell_type": "code",
   "execution_count": null,
   "metadata": {},
   "outputs": [],
   "source": [
    "X_train = np.array(X_train)\n",
    "X_test = np.array(X_test)\n",
    "y_train = np.array(y_train)\n",
    "y_test = np.array(y_test)"
   ]
  },
  {
   "cell_type": "code",
   "execution_count": null,
   "metadata": {},
   "outputs": [
    {
     "name": "stdout",
     "output_type": "stream",
     "text": [
      "(0,)\n",
      "(0,)\n",
      "(0,)\n",
      "(0,)\n"
     ]
    }
   ],
   "source": [
    "print(X_train.shape)\n",
    "print(y_train.shape)\n",
    "print(X_test.shape)\n",
    "print(y_test.shape)"
   ]
  },
  {
   "cell_type": "code",
   "execution_count": null,
   "metadata": {},
   "outputs": [
    {
     "data": {
      "text/html": [
       "<style>#sk-container-id-2 {color: black;background-color: white;}#sk-container-id-2 pre{padding: 0;}#sk-container-id-2 div.sk-toggleable {background-color: white;}#sk-container-id-2 label.sk-toggleable__label {cursor: pointer;display: block;width: 100%;margin-bottom: 0;padding: 0.3em;box-sizing: border-box;text-align: center;}#sk-container-id-2 label.sk-toggleable__label-arrow:before {content: \"▸\";float: left;margin-right: 0.25em;color: #696969;}#sk-container-id-2 label.sk-toggleable__label-arrow:hover:before {color: black;}#sk-container-id-2 div.sk-estimator:hover label.sk-toggleable__label-arrow:before {color: black;}#sk-container-id-2 div.sk-toggleable__content {max-height: 0;max-width: 0;overflow: hidden;text-align: left;background-color: #f0f8ff;}#sk-container-id-2 div.sk-toggleable__content pre {margin: 0.2em;color: black;border-radius: 0.25em;background-color: #f0f8ff;}#sk-container-id-2 input.sk-toggleable__control:checked~div.sk-toggleable__content {max-height: 200px;max-width: 100%;overflow: auto;}#sk-container-id-2 input.sk-toggleable__control:checked~label.sk-toggleable__label-arrow:before {content: \"▾\";}#sk-container-id-2 div.sk-estimator input.sk-toggleable__control:checked~label.sk-toggleable__label {background-color: #d4ebff;}#sk-container-id-2 div.sk-label input.sk-toggleable__control:checked~label.sk-toggleable__label {background-color: #d4ebff;}#sk-container-id-2 input.sk-hidden--visually {border: 0;clip: rect(1px 1px 1px 1px);clip: rect(1px, 1px, 1px, 1px);height: 1px;margin: -1px;overflow: hidden;padding: 0;position: absolute;width: 1px;}#sk-container-id-2 div.sk-estimator {font-family: monospace;background-color: #f0f8ff;border: 1px dotted black;border-radius: 0.25em;box-sizing: border-box;margin-bottom: 0.5em;}#sk-container-id-2 div.sk-estimator:hover {background-color: #d4ebff;}#sk-container-id-2 div.sk-parallel-item::after {content: \"\";width: 100%;border-bottom: 1px solid gray;flex-grow: 1;}#sk-container-id-2 div.sk-label:hover label.sk-toggleable__label {background-color: #d4ebff;}#sk-container-id-2 div.sk-serial::before {content: \"\";position: absolute;border-left: 1px solid gray;box-sizing: border-box;top: 0;bottom: 0;left: 50%;z-index: 0;}#sk-container-id-2 div.sk-serial {display: flex;flex-direction: column;align-items: center;background-color: white;padding-right: 0.2em;padding-left: 0.2em;position: relative;}#sk-container-id-2 div.sk-item {position: relative;z-index: 1;}#sk-container-id-2 div.sk-parallel {display: flex;align-items: stretch;justify-content: center;background-color: white;position: relative;}#sk-container-id-2 div.sk-item::before, #sk-container-id-2 div.sk-parallel-item::before {content: \"\";position: absolute;border-left: 1px solid gray;box-sizing: border-box;top: 0;bottom: 0;left: 50%;z-index: -1;}#sk-container-id-2 div.sk-parallel-item {display: flex;flex-direction: column;z-index: 1;position: relative;background-color: white;}#sk-container-id-2 div.sk-parallel-item:first-child::after {align-self: flex-end;width: 50%;}#sk-container-id-2 div.sk-parallel-item:last-child::after {align-self: flex-start;width: 50%;}#sk-container-id-2 div.sk-parallel-item:only-child::after {width: 0;}#sk-container-id-2 div.sk-dashed-wrapped {border: 1px dashed gray;margin: 0 0.4em 0.5em 0.4em;box-sizing: border-box;padding-bottom: 0.4em;background-color: white;}#sk-container-id-2 div.sk-label label {font-family: monospace;font-weight: bold;display: inline-block;line-height: 1.2em;}#sk-container-id-2 div.sk-label-container {text-align: center;}#sk-container-id-2 div.sk-container {/* jupyter's `normalize.less` sets `[hidden] { display: none; }` but bootstrap.min.css set `[hidden] { display: none !important; }` so we also need the `!important` here to be able to override the default hidden behavior on the sphinx rendered scikit-learn.org. See: https://github.com/scikit-learn/scikit-learn/issues/21755 */display: inline-block !important;position: relative;}#sk-container-id-2 div.sk-text-repr-fallback {display: none;}</style><div id=\"sk-container-id-2\" class=\"sk-top-container\"><div class=\"sk-text-repr-fallback\"><pre>OneVsRestClassifier(estimator=KNeighborsClassifier())</pre><b>In a Jupyter environment, please rerun this cell to show the HTML representation or trust the notebook. <br />On GitHub, the HTML representation is unable to render, please try loading this page with nbviewer.org.</b></div><div class=\"sk-container\" hidden><div class=\"sk-item sk-dashed-wrapped\"><div class=\"sk-label-container\"><div class=\"sk-label sk-toggleable\"><input class=\"sk-toggleable__control sk-hidden--visually\" id=\"sk-estimator-id-4\" type=\"checkbox\" ><label for=\"sk-estimator-id-4\" class=\"sk-toggleable__label sk-toggleable__label-arrow\">OneVsRestClassifier</label><div class=\"sk-toggleable__content\"><pre>OneVsRestClassifier(estimator=KNeighborsClassifier())</pre></div></div></div><div class=\"sk-parallel\"><div class=\"sk-parallel-item\"><div class=\"sk-item\"><div class=\"sk-label-container\"><div class=\"sk-label sk-toggleable\"><input class=\"sk-toggleable__control sk-hidden--visually\" id=\"sk-estimator-id-5\" type=\"checkbox\" ><label for=\"sk-estimator-id-5\" class=\"sk-toggleable__label sk-toggleable__label-arrow\">estimator: KNeighborsClassifier</label><div class=\"sk-toggleable__content\"><pre>KNeighborsClassifier()</pre></div></div></div><div class=\"sk-serial\"><div class=\"sk-item\"><div class=\"sk-estimator sk-toggleable\"><input class=\"sk-toggleable__control sk-hidden--visually\" id=\"sk-estimator-id-6\" type=\"checkbox\" ><label for=\"sk-estimator-id-6\" class=\"sk-toggleable__label sk-toggleable__label-arrow\">KNeighborsClassifier</label><div class=\"sk-toggleable__content\"><pre>KNeighborsClassifier()</pre></div></div></div></div></div></div></div></div></div></div>"
      ],
      "text/plain": [
       "OneVsRestClassifier(estimator=KNeighborsClassifier())"
      ]
     },
     "metadata": {},
     "output_type": "display_data"
    }
   ],
   "source": [
    "knn = OneVsRestClassifier(KNeighborsClassifier())\n",
    "knn.fit(X_train,y_train)"
   ]
  },
  {
   "cell_type": "code",
   "execution_count": null,
   "metadata": {},
   "outputs": [],
   "source": [
    "predictions = knn.predict(X_test)"
   ]
  },
  {
   "cell_type": "code",
   "execution_count": null,
   "metadata": {},
   "outputs": [
    {
     "name": "stdout",
     "output_type": "stream",
     "text": [
      "KNN Accuracy: 0.160\n"
     ]
    }
   ],
   "source": [
    "print('KNN Accuracy: %.3f' % accuracy_score(y_test,predictions))"
   ]
  },
  {
   "cell_type": "code",
   "execution_count": null,
   "metadata": {},
   "outputs": [
    {
     "data": {
      "image/png": "[encoded data removed]",
      "text/plain": [
       "<Figure size 648x648 with 2 Axes>"
      ]
     },
     "metadata": {},
     "output_type": "display_data"
    }
   ],
   "source": [
    "cm = confusion_matrix(y_test,predictions)\n",
    "plt.figure(figsize=(9,9))\n",
    "sns.heatmap(cm,annot=True, fmt='.3f', linewidths=.5, square=True,cmap='Blues_r')\n",
    "plt.ylabel('Actual label')\n",
    "plt.xlabel('Predicted label')\n",
    "all_sample_title = 'Accuracy Score: {0}'.format(accuracy_score(y_test,predictions))\n",
    "plt.title(all_sample_title,size=15)\n",
    "knn_acc = accuracy_score(y_test,predictions)"
   ]
  },
  {
   "cell_type": "markdown",
   "metadata": {},
   "source": [
    "### Random Forest"
   ]
  },
  {
   "cell_type": "code",
   "execution_count": null,
   "metadata": {},
   "outputs": [],
   "source": [
    "def RF(X_train, y_train, X_test, y_test):\n",
    "    forest = RandomForestClassifier(criterion='gini',\n",
    "                                    n_estimators=5,\n",
    "                                    random_state=1,\n",
    "                                    n_jobs=2)\n",
    "    forest.fit(X_train, y_train)\n",
    "    y_pred = forest.predict(X_test)\n",
    "    print('Accuracy: %.3f' % accuracy_score(y_test, y_pred))\n",
    "    return y_pred"
   ]
  },
  {
   "cell_type": "code",
   "execution_count": null,
   "metadata": {},
   "outputs": [],
   "source": [
    "def mat_of_conf(y_test,y_pred):\n",
    "    cm = confusion_matrix(y_test,y_pred)\n",
    "    plt.figure(figsize=(9,9))\n",
    "    sns.heatmap(cm,annot=True, fmt='.3f', linewidths=.5, square=True,cmap='Blues_r')\n",
    "    plt.ylabel('Actual label')\n",
    "    plt.xlabel('Predicted label')\n",
    "    all_sample_title = 'Accuracy Score: {0}'.format(accuracy_score(y_test,y_pred))\n",
    "    plt.title(all_sample_title,size=15)\n",
    "    plt.show()"
   ]
  },
  {
   "cell_type": "code",
   "execution_count": null,
   "metadata": {},
   "outputs": [
    {
     "name": "stderr",
     "output_type": "stream",
     "text": [
      "C:\\Users\\m.nedeljkovic\\AppData\\Local\\Temp\\ipykernel_17632\\3284241286.py:6: DataConversionWarning: A column-vector y was passed when a 1d array was expected. Please change the shape of y to (n_samples,), for example using ravel().\n",
      "  forest.fit(X_train, y_train)\n"
     ]
    },
    {
     "name": "stdout",
     "output_type": "stream",
     "text": [
      "Accuracy: 0.184\n"
     ]
    },
    {
     "data": {
      "image/png": "[encoded data removed]",
      "text/plain": [
       "<Figure size 648x648 with 2 Axes>"
      ]
     },
     "metadata": {},
     "output_type": "display_data"
    }
   ],
   "source": [
    "Forest = RF(X_train, y_train, X_test, y_test)\n",
    "mat_of_conf(y_test,Forest)\n",
    "rf_acc = accuracy_score(y_test, Forest)"
   ]
  },
  {
   "cell_type": "markdown",
   "metadata": {},
   "source": [
    "### XG boost"
   ]
  },
  {
   "cell_type": "code",
   "execution_count": null,
   "metadata": {},
   "outputs": [
    {
     "name": "stdout",
     "output_type": "stream",
     "text": [
      "Accuracy: 0.207\n"
     ]
    },
    {
     "ename": "XGBoostError",
     "evalue": "No evaluation result, `eval_set` is not used during training.",
     "output_type": "error",
     "traceback": [
      "\u001b[1;31m---------------------------------------------------------------------------\u001b[0m\n",
      "\u001b[1;31mXGBoostError\u001b[0m                              Traceback (most recent call last)\n",
      "\u001b[1;32md:\\Marija\\noise correlation\\LMU_neuroscience\\knn_rf.ipynb Cell 55\u001b[0m in \u001b[0;36m<cell line: 6>\u001b[1;34m()\u001b[0m\n",
      "\u001b[0;32m      <a href='vscode-notebook-cell:/d%3A/Marija/noise%20correlation/LMU_neuroscience/knn_rf.ipynb#Y100sZmlsZQ%3D%3D?line=3'>4</a>\u001b[0m score \u001b[39m=\u001b[39m accuracy_score(y_test, preds)\n",
      "\u001b[0;32m      <a href='vscode-notebook-cell:/d%3A/Marija/noise%20correlation/LMU_neuroscience/knn_rf.ipynb#Y100sZmlsZQ%3D%3D?line=4'>5</a>\u001b[0m \u001b[39mprint\u001b[39m(\u001b[39m'\u001b[39m\u001b[39mAccuracy: \u001b[39m\u001b[39m%.3f\u001b[39;00m\u001b[39m'\u001b[39m \u001b[39m%\u001b[39m score)\n",
      "\u001b[1;32m----> <a href='vscode-notebook-cell:/d%3A/Marija/noise%20correlation/LMU_neuroscience/knn_rf.ipynb#Y100sZmlsZQ%3D%3D?line=5'>6</a>\u001b[0m results \u001b[39m=\u001b[39m classif\u001b[39m.\u001b[39;49mevals_result()\n",
      "\u001b[0;32m      <a href='vscode-notebook-cell:/d%3A/Marija/noise%20correlation/LMU_neuroscience/knn_rf.ipynb#Y100sZmlsZQ%3D%3D?line=6'>7</a>\u001b[0m \u001b[39m# plot learning curves\u001b[39;00m\n",
      "\u001b[0;32m      <a href='vscode-notebook-cell:/d%3A/Marija/noise%20correlation/LMU_neuroscience/knn_rf.ipynb#Y100sZmlsZQ%3D%3D?line=7'>8</a>\u001b[0m plt\u001b[39m.\u001b[39mplot(results[\u001b[39m'\u001b[39m\u001b[39mvalidation_0\u001b[39m\u001b[39m'\u001b[39m][\u001b[39m'\u001b[39m\u001b[39mlogloss\u001b[39m\u001b[39m'\u001b[39m], label\u001b[39m=\u001b[39m\u001b[39m'\u001b[39m\u001b[39mtrain\u001b[39m\u001b[39m'\u001b[39m)\n",
      "\n",
      "File \u001b[1;32mc:\\Users\\m.nedeljkovic\\AppData\\Local\\Programs\\Python\\Python310\\lib\\site-packages\\xgboost\\sklearn.py:1140\u001b[0m, in \u001b[0;36mXGBModel.evals_result\u001b[1;34m(self)\u001b[0m\n",
      "\u001b[0;32m   1138\u001b[0m     evals_result \u001b[39m=\u001b[39m \u001b[39mself\u001b[39m\u001b[39m.\u001b[39mevals_result_\n",
      "\u001b[0;32m   1139\u001b[0m \u001b[39melse\u001b[39;00m:\n",
      "\u001b[1;32m-> 1140\u001b[0m     \u001b[39mraise\u001b[39;00m XGBoostError(\n",
      "\u001b[0;32m   1141\u001b[0m         \u001b[39m\"\u001b[39m\u001b[39mNo evaluation result, `eval_set` is not used during training.\u001b[39m\u001b[39m\"\u001b[39m\n",
      "\u001b[0;32m   1142\u001b[0m     )\n",
      "\u001b[0;32m   1144\u001b[0m \u001b[39mreturn\u001b[39;00m evals_result\n",
      "\n",
      "\u001b[1;31mXGBoostError\u001b[0m: No evaluation result, `eval_set` is not used during training."
     ]
    }
   ],
   "source": [
    "eval = [(X_train, y_train),(X_test, y_test)]\n",
    "classif = xgb.XGBClassifier(objective ='reg:linear', colsample_bytree = 1, learning_rate = 0.0001, max_depth = 1, alpha = 0.1, n_estimators = 200,  eta=0.05)\n",
    "classif.fit(X_train,y_train)\n",
    "preds = classif.predict(X_test)\n",
    "score = accuracy_score(y_test, preds)\n",
    "print('Accuracy: %.3f' % score)\n",
    "results = classif.evals_result()\n",
    "# plot learning curves\n",
    "plt.plot(results['validation_0']['logloss'], label='train')\n",
    "plt.plot(results['validation_1']['logloss'], label='test')\n",
    "plt.legend()\n",
    "plt.show()\n",
    "xgb_acc = score"
   ]
  },
  {
   "cell_type": "code",
   "execution_count": null,
   "metadata": {},
   "outputs": [
    {
     "data": {
      "image/png": "[encoded data removed]",
      "text/plain": [
       "<Figure size 432x288 with 1 Axes>"
      ]
     },
     "metadata": {},
     "output_type": "display_data"
    }
   ],
   "source": [
    "from turtle import width\n",
    "from xgboost import plot_importance\n",
    "import matplotlib.pyplot as plt\n",
    "\n",
    "# plot feature importance\n",
    "plot_importance(model, max_num_features=10)\n",
    "plt.show()\n",
    "\n",
    "x = model.feature_importances_"
   ]
  },
  {
   "cell_type": "code",
   "execution_count": null,
   "metadata": {},
   "outputs": [
    {
     "data": {
      "text/plain": [
       "0.046086375"
      ]
     },
     "metadata": {},
     "output_type": "display_data"
    }
   ],
   "source": [
    "max(x)"
   ]
  },
  {
   "cell_type": "code",
   "execution_count": null,
   "metadata": {},
   "outputs": [],
   "source": [
    "x = [0.55, 0.63, 0.72]"
   ]
  },
  {
   "cell_type": "code",
   "execution_count": null,
   "metadata": {},
   "outputs": [],
   "source": [
    "y = [0.5, 0.52, 0.6]"
   ]
  },
  {
   "cell_type": "code",
   "execution_count": null,
   "metadata": {},
   "outputs": [
    {
     "data": {
      "image/png": "[encoded data removed]",
      "text/plain": [
       "<Figure size 720x360 with 2 Axes>"
      ]
     },
     "metadata": {},
     "output_type": "display_data"
    }
   ],
   "source": [
    "\n",
    "f, (ax1,ax2) = plt.subplots(1,2, sharey=True, figsize=(10,5))\n",
    "ax1.margins(0.2) \n",
    "ax2.margins(0.2)\n",
    "ax2.bar([\"KNN\", \"RF\", \"XGB\"], x, color=['crimson', 'lightsteelblue', 'royalblue'])\n",
    "ax2.set_title('Accuracy on awake state data')\n",
    "ax2.set_ylabel('Accuracy')\n",
    "ax2.set_xlabel('Classifier')\n",
    "ax1.bar([\"KNN\", \"RF\", \"XGB\"], y, color=['crimson', 'lightsteelblue', 'royalblue'])\n",
    "ax1.set_title('Accuracy on anesthetized state data')\n",
    "ax1.set_ylabel('Accuracy')\n",
    "ax1.set_xlabel('Classifier')\n",
    "plt.savefig('speakers.svg')\n",
    "plt.show()"
   ]
  }
 ],
 "metadata": {
  "kernelspec": {
   "display_name": "Python 3.10.5 64-bit",
   "language": "python",
   "name": "python3"
  },
  "language_info": {
   "codemirror_mode": {
    "name": "ipython",
    "version": 3
   },
   "file_extension": ".py",
   "mimetype": "text/x-python",
   "name": "python",
   "nbconvert_exporter": "python",
   "pygments_lexer": "ipython3",
   "version": "3.10.5"
  },
  "orig_nbformat": 4,
  "vscode": {
   "interpreter": {
    "hash": "c3ff55a2362d840d3433b3a68631efa6e477163e310b6a9fd17f9078908dbfa1"
   }
  }
 },
 "nbformat": 4,
 "nbformat_minor": 2
}
